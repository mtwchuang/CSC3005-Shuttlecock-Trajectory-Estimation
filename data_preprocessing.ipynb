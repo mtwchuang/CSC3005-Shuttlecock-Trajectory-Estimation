{
 "cells": [
  {
   "attachments": {},
   "cell_type": "markdown",
   "metadata": {},
   "source": [
    "## Loading Dependencies"
   ]
  },
  {
   "cell_type": "code",
   "execution_count": 8,
   "metadata": {},
   "outputs": [
    {
     "name": "stdout",
     "output_type": "stream",
     "text": [
      "Requirement already satisfied: pandas in c:\\users\\matthew chuang\\documents\\github\\csc3005-shuttlecock-trajectory-estimation\\dependencies\\lib\\site-packages (2.0.2)\n",
      "Requirement already satisfied: python-dateutil>=2.8.2 in c:\\users\\matthew chuang\\documents\\github\\csc3005-shuttlecock-trajectory-estimation\\dependencies\\lib\\site-packages (from pandas) (2.8.2)\n",
      "Requirement already satisfied: pytz>=2020.1 in c:\\users\\matthew chuang\\documents\\github\\csc3005-shuttlecock-trajectory-estimation\\dependencies\\lib\\site-packages (from pandas) (2023.3)\n",
      "Requirement already satisfied: tzdata>=2022.1 in c:\\users\\matthew chuang\\documents\\github\\csc3005-shuttlecock-trajectory-estimation\\dependencies\\lib\\site-packages (from pandas) (2023.3)\n",
      "Requirement already satisfied: numpy>=1.20.3 in c:\\users\\matthew chuang\\documents\\github\\csc3005-shuttlecock-trajectory-estimation\\dependencies\\lib\\site-packages (from pandas) (1.25.0)\n",
      "Requirement already satisfied: six>=1.5 in c:\\users\\matthew chuang\\documents\\github\\csc3005-shuttlecock-trajectory-estimation\\dependencies\\lib\\site-packages (from python-dateutil>=2.8.2->pandas) (1.16.0)\n",
      "Note: you may need to restart the kernel to use updated packages.\n",
      "Requirement already satisfied: matplotlib in c:\\users\\matthew chuang\\documents\\github\\csc3005-shuttlecock-trajectory-estimation\\dependencies\\lib\\site-packages (3.7.1)\n",
      "Requirement already satisfied: contourpy>=1.0.1 in c:\\users\\matthew chuang\\documents\\github\\csc3005-shuttlecock-trajectory-estimation\\dependencies\\lib\\site-packages (from matplotlib) (1.1.0)\n",
      "Requirement already satisfied: cycler>=0.10 in c:\\users\\matthew chuang\\documents\\github\\csc3005-shuttlecock-trajectory-estimation\\dependencies\\lib\\site-packages (from matplotlib) (0.11.0)\n",
      "Requirement already satisfied: fonttools>=4.22.0 in c:\\users\\matthew chuang\\documents\\github\\csc3005-shuttlecock-trajectory-estimation\\dependencies\\lib\\site-packages (from matplotlib) (4.40.0)\n",
      "Requirement already satisfied: kiwisolver>=1.0.1 in c:\\users\\matthew chuang\\documents\\github\\csc3005-shuttlecock-trajectory-estimation\\dependencies\\lib\\site-packages (from matplotlib) (1.4.4)\n",
      "Requirement already satisfied: numpy>=1.20 in c:\\users\\matthew chuang\\documents\\github\\csc3005-shuttlecock-trajectory-estimation\\dependencies\\lib\\site-packages (from matplotlib) (1.25.0)\n",
      "Requirement already satisfied: packaging>=20.0 in c:\\users\\matthew chuang\\documents\\github\\csc3005-shuttlecock-trajectory-estimation\\dependencies\\lib\\site-packages (from matplotlib) (23.1)\n",
      "Requirement already satisfied: pillow>=6.2.0 in c:\\users\\matthew chuang\\documents\\github\\csc3005-shuttlecock-trajectory-estimation\\dependencies\\lib\\site-packages (from matplotlib) (9.5.0)\n",
      "Requirement already satisfied: pyparsing>=2.3.1 in c:\\users\\matthew chuang\\documents\\github\\csc3005-shuttlecock-trajectory-estimation\\dependencies\\lib\\site-packages (from matplotlib) (3.1.0)\n",
      "Requirement already satisfied: python-dateutil>=2.7 in c:\\users\\matthew chuang\\documents\\github\\csc3005-shuttlecock-trajectory-estimation\\dependencies\\lib\\site-packages (from matplotlib) (2.8.2)\n",
      "Requirement already satisfied: importlib-resources>=3.2.0 in c:\\users\\matthew chuang\\documents\\github\\csc3005-shuttlecock-trajectory-estimation\\dependencies\\lib\\site-packages (from matplotlib) (5.12.0)\n",
      "Requirement already satisfied: zipp>=3.1.0 in c:\\users\\matthew chuang\\documents\\github\\csc3005-shuttlecock-trajectory-estimation\\dependencies\\lib\\site-packages (from importlib-resources>=3.2.0->matplotlib) (3.15.0)\n",
      "Requirement already satisfied: six>=1.5 in c:\\users\\matthew chuang\\documents\\github\\csc3005-shuttlecock-trajectory-estimation\\dependencies\\lib\\site-packages (from python-dateutil>=2.7->matplotlib) (1.16.0)\n",
      "Note: you may need to restart the kernel to use updated packages.\n",
      "Requirement already satisfied: plotly in c:\\users\\matthew chuang\\documents\\github\\csc3005-shuttlecock-trajectory-estimation\\dependencies\\lib\\site-packages (5.15.0)\n",
      "Requirement already satisfied: tenacity>=6.2.0 in c:\\users\\matthew chuang\\documents\\github\\csc3005-shuttlecock-trajectory-estimation\\dependencies\\lib\\site-packages (from plotly) (8.2.2)\n",
      "Requirement already satisfied: packaging in c:\\users\\matthew chuang\\documents\\github\\csc3005-shuttlecock-trajectory-estimation\\dependencies\\lib\\site-packages (from plotly) (23.1)\n",
      "Note: you may need to restart the kernel to use updated packages.\n",
      "Requirement already satisfied: scikit-learn in c:\\users\\matthew chuang\\documents\\github\\csc3005-shuttlecock-trajectory-estimation\\dependencies\\lib\\site-packages (1.2.2)\n",
      "Requirement already satisfied: numpy>=1.17.3 in c:\\users\\matthew chuang\\documents\\github\\csc3005-shuttlecock-trajectory-estimation\\dependencies\\lib\\site-packages (from scikit-learn) (1.25.0)\n",
      "Requirement already satisfied: scipy>=1.3.2 in c:\\users\\matthew chuang\\documents\\github\\csc3005-shuttlecock-trajectory-estimation\\dependencies\\lib\\site-packages (from scikit-learn) (1.11.0)\n",
      "Requirement already satisfied: joblib>=1.1.1 in c:\\users\\matthew chuang\\documents\\github\\csc3005-shuttlecock-trajectory-estimation\\dependencies\\lib\\site-packages (from scikit-learn) (1.3.0)\n",
      "Requirement already satisfied: threadpoolctl>=2.0.0 in c:\\users\\matthew chuang\\documents\\github\\csc3005-shuttlecock-trajectory-estimation\\dependencies\\lib\\site-packages (from scikit-learn) (3.1.0)\n",
      "Note: you may need to restart the kernel to use updated packages.\n",
      "Requirement already satisfied: numpy in c:\\users\\matthew chuang\\documents\\github\\csc3005-shuttlecock-trajectory-estimation\\dependencies\\lib\\site-packages (1.25.0)\n",
      "Note: you may need to restart the kernel to use updated packages.\n"
     ]
    }
   ],
   "source": [
    "%pip install pandas\n",
    "%pip install matplotlib\n",
    "%pip install plotly\n",
    "%pip install scikit-learn\n",
    "%pip install numpy"
   ]
  },
  {
   "attachments": {},
   "cell_type": "markdown",
   "metadata": {},
   "source": [
    "## Importing Libraries"
   ]
  },
  {
   "cell_type": "code",
   "execution_count": 9,
   "metadata": {},
   "outputs": [],
   "source": [
    "import pandas as pd\n",
    "import matplotlib.pyplot as plt\n",
    "import numpy as np\n",
    "\n",
    "import plotly.graph_objects as go\n",
    "\n",
    "from sklearn.decomposition import PCA\n",
    "from sklearn.preprocessing import StandardScaler"
   ]
  },
  {
   "attachments": {},
   "cell_type": "markdown",
   "metadata": {},
   "source": [
    "## Stage: Preprocessing\n",
    "##### Loading in the Badminton Serving Data. \n",
    "- Blank rows are used to separarate observations. \n",
    "- Non-sparse data are filtered out\n",
    "- Data is grouped into observations labelled under data column \"OBSERVATION GROUP NUMBER\"\n",
    "- Data is also sequenced within each observation group with \"OBSERVATION NUMBER\"\n",
    "- There are a total of 365 (index 0 - 364) observation groups here\n",
    "- Data is indicated as serving data with 1 under data column \"SERVING\"\n",
    "#### Code is currently commented out as results has already been extracted"
   ]
  },
  {
   "cell_type": "code",
   "execution_count": 10,
   "metadata": {},
   "outputs": [],
   "source": [
    "# read csv data from badmintondata.csv\n",
    "serving_data = pd.read_csv('badmintondata.csv')\n",
    "\n",
    "# Initialize variables\n",
    "observation_group_num = 0\n",
    "observation_num = 0\n",
    "is_group = False\n",
    "\n",
    "# Process rows\n",
    "for index, row in serving_data.iterrows():\n",
    "    if row['HUMAN PLAYER POSITION (X) metres'] == 0:\n",
    "        if is_group:\n",
    "            is_group = False\n",
    "        serving_data.drop(index, inplace=True)\n",
    "    elif row['HUMAN PLAYER POSITION (X) metres'] == 4:\n",
    "        if is_group:\n",
    "            observation_num+=1\n",
    "        else:\n",
    "            is_group = True\n",
    "            # increase observation group number by 1\n",
    "            observation_group_num+=1\n",
    "            # resets observation sequence number to 1\n",
    "            observation_num = 1\n",
    "        serving_data.at[index, 'OBSERVATION NUMBER'] = observation_num\n",
    "        serving_data.at[index, 'OBSERVATION GROUP NUMBER'] = observation_group_num\n",
    "\n",
    "# Set 'OBSERVATION GROUP NUMBER' and 'SERVING SHOT' columns\n",
    "serving_data['OBSERVATION NUMBER'] = serving_data['OBSERVATION NUMBER'].astype(int)\n",
    "serving_data['OBSERVATION GROUP NUMBER'] = serving_data['OBSERVATION GROUP NUMBER'].astype(int)\n",
    "serving_data['SERVING SHOT'] = 1\n",
    "serving_data.to_csv('cleaned_served_data_v2.csv')"
   ]
  },
  {
   "cell_type": "code",
   "execution_count": 11,
   "metadata": {},
   "outputs": [],
   "source": [
    "# # read csv data from badmintondata.csv\n",
    "# serving_data = pd.read_csv('badmintondata.csv')\n",
    "\n",
    "# observation_num = 0\n",
    "# is_group = False\n",
    "\n",
    "# # used to filter out blank rows while also labelling data based on their observation groups\n",
    "# for index, row in serving_data.iterrows():\n",
    "#     if row['HUMAN PLAYER POSITION (X) metres'] == 0:\n",
    "#         if is_group:\n",
    "#             observation_num += 1\n",
    "#             is_group = False\n",
    "#         serving_data.drop(index, inplace=True)\n",
    "#     elif row['HUMAN PLAYER POSITION (X) metres'] == 4 and not is_group:\n",
    "#         is_group = True\n",
    "#         serving_data.at[index, 'OBSERVATION NUMBER'] = observation_num\n",
    "#     elif row['HUMAN PLAYER POSITION (X) metres'] == 4 and is_group:\n",
    "#         serving_data.at[index, 'OBSERVATION NUMBER'] = observation_num\n",
    "\n",
    "# serving_data['OBSERVATION NUMBER'] = serving_data['OBSERVATION NUMBER'].astype(int)\n",
    "# serving_data['SERVING SHOT'] = 1\n",
    "\n",
    "# # output served data to csv\n",
    "# serving_data.to_csv('cleaned_served_badminton.csv')"
   ]
  },
  {
   "attachments": {},
   "cell_type": "markdown",
   "metadata": {},
   "source": [
    "##### Loading in the Badminton Rallying Data. \n",
    "- Blank rows are used to separarate observations. \n",
    "- Non-sparse data are filtered out\n",
    "- Data is grouped into observations labelled under data column \"OBSERVATION GROUP NUMBER\"\n",
    "- Data is also sequenced within each observation group with \"OBSERVATION NUMBER\"\n",
    "- There are a total of 1212 (index 364 - 1576) observation groups here\n",
    "- Data is indicated as serving data with 0 under data column \"SERVING\"\n",
    "#### Code is currently commented out as results has already been extracted"
   ]
  },
  {
   "cell_type": "code",
   "execution_count": 12,
   "metadata": {},
   "outputs": [],
   "source": [
    "# read csv data from badmintondata.csv\n",
    "rally_data = pd.read_csv('badmintondata2.csv')\n",
    "\n",
    "# Initialize variables\n",
    "observation_num = 0\n",
    "is_group = False\n",
    "\n",
    "# Process rows\n",
    "for index, row in rally_data.iterrows():\n",
    "    if row['HUMAN PLAYER POSITION (X) metres'] == 0:\n",
    "        if is_group:\n",
    "            is_group = False\n",
    "        rally_data.drop(index, inplace=True)\n",
    "    elif row['HUMAN PLAYER POSITION (X) metres'] == 4:\n",
    "        if is_group:\n",
    "            observation_num+=1\n",
    "        else:\n",
    "            is_group = True\n",
    "            # increase observation group number by 1\n",
    "            observation_group_num+=1\n",
    "            # resets observation sequence number to 1\n",
    "            observation_num = 1\n",
    "        rally_data.at[index, 'OBSERVATION NUMBER'] = observation_num\n",
    "        rally_data.at[index, 'OBSERVATION GROUP NUMBER'] = observation_group_num\n",
    "\n",
    "# Set 'OBSERVATION GROUP NUMBER' and 'SERVING SHOT' columns\n",
    "rally_data['OBSERVATION NUMBER'] = rally_data['OBSERVATION NUMBER'].astype(int)\n",
    "rally_data['OBSERVATION GROUP NUMBER'] = rally_data['OBSERVATION GROUP NUMBER'].astype(int)\n",
    "rally_data['SERVING SHOT'] = 0\n",
    "rally_data.to_csv('cleaned_rally_data_v2.csv')"
   ]
  },
  {
   "cell_type": "code",
   "execution_count": 13,
   "metadata": {},
   "outputs": [],
   "source": [
    "# # returning shots after the serving shot\n",
    "# rally_data = pd.read_csv('badmintondata2.csv')\n",
    "# # sample_rally_data = rally_data.head(1000)\n",
    "# is_group = False\n",
    "\n",
    "# for index, row in rally_data.iterrows():\n",
    "#     if row['HUMAN PLAYER POSITION (X) metres'] == 0:\n",
    "#         if is_group:\n",
    "#             observation_num += 1\n",
    "#             is_group = False\n",
    "#         rally_data.drop(index, inplace=True)\n",
    "#     elif row['HUMAN PLAYER POSITION (X) metres'] == 4 and not is_group:\n",
    "#         is_group = True\n",
    "#         rally_data.at[index, 'OBSERVATION NUMBER'] = observation_num\n",
    "#     elif row['HUMAN PLAYER POSITION (X) metres'] == 4 and is_group:\n",
    "#         rally_data.at[index, 'OBSERVATION NUMBER'] = observation_num\n",
    "\n",
    "# # ensure observation numbers are integers\n",
    "# rally_data['OBSERVATION NUMBER'] = rally_data['OBSERVATION NUMBER'].astype(int)\n",
    "# # indicates if observation is a service shot or not\n",
    "# rally_data['SERVING SHOT'] = 0\n",
    "\n",
    "# # output rally data to csv\n",
    "# rally_data.to_csv('cleaned_rally_badminton.csv')"
   ]
  },
  {
   "attachments": {},
   "cell_type": "markdown",
   "metadata": {},
   "source": [
    "#### Combining preprocessing\n",
    "- combine cleaned served and rallied dataframes\n",
    "- label data if they are are out of bounds within the observations using data column \"OUT OF BOUNDS\". This includes\n",
    "    - Data that exceeds the X axis (hit too far on both sides) X < 0 OR X > 13.4\n",
    "    - Data that exceeds the Y axis (hit out of court on left or right side) Y < 0 OR Y > 5.18\n",
    "    - Data that is out of bounds labelled as 1, no 0\n",
    "#### Code is currently commented out as results has already been extracted"
   ]
  },
  {
   "cell_type": "code",
   "execution_count": 14,
   "metadata": {},
   "outputs": [],
   "source": [
    "# combining the serving and rally dataframes\n",
    "badminton_data = pd.concat([serving_data, rally_data], ignore_index=True)\n",
    "# labelling data if its out of bounds\n",
    "unique_observation_number = badminton_data['OBSERVATION GROUP NUMBER'].unique()\n",
    "for obs_grp_number in unique_observation_number:\n",
    "    last_row = badminton_data[badminton_data['OBSERVATION GROUP NUMBER'] == obs_grp_number].tail(1)\n",
    "    # Check the conditions for 'Shuttlecock Position in Air X' and 'Shuttlecock Position in Air Y'\n",
    "    if (last_row['SHUTTLECOCK POSITIION IN AIR(X ) metres'].values[0] < 0 or\n",
    "        last_row['SHUTTLECOCK POSITIION IN AIR(X ) metres'].values[0] > 13.4 or\n",
    "        last_row['SHUTTLECOCK POSITIION IN AIR(Y) metres'].values[0] < 0 or\n",
    "        last_row['SHUTTLECOCK POSITIION IN AIR(Y) metres'].values[0] > 5.18):\n",
    "        \n",
    "        # Set 'OUT OF BOUNDS' column to 1 for the corresponding observation number\n",
    "        badminton_data.loc[badminton_data['OBSERVATION GROUP NUMBER'] == obs_grp_number, 'OUT OF BOUNDS'] = 1\n",
    "    else:\n",
    "        badminton_data.loc[badminton_data['OBSERVATION GROUP NUMBER'] == obs_grp_number, 'OUT OF BOUNDS'] = 0\n",
    "    \n",
    "badminton_data.to_csv('cleaned_badminton_v2.csv')"
   ]
  },
  {
   "attachments": {},
   "cell_type": "markdown",
   "metadata": {},
   "source": [
    "#### Temporary Loading of Data to avoid excessive computation"
   ]
  },
  {
   "cell_type": "code",
   "execution_count": 20,
   "metadata": {},
   "outputs": [],
   "source": [
    "cleaned_data = pd.read_csv('cleaned_badminton_v2.csv')\n",
    "# removal indexes\n",
    "cleaned_data = cleaned_data.drop(columns=['Unnamed: 0'])"
   ]
  },
  {
   "attachments": {},
   "cell_type": "markdown",
   "metadata": {},
   "source": [
    "### Normalization of Data"
   ]
  },
  {
   "cell_type": "code",
   "execution_count": 21,
   "metadata": {},
   "outputs": [],
   "source": [
    "# removal of labels and dependent features\n",
    "X_Features = cleaned_data.drop(columns=['OBSERVATION GROUP NUMBER',\n",
    "                                            'OBSERVATION NUMBER',\n",
    "                                            'SERVING SHOT', \n",
    "                                            'OUT OF BOUNDS', \n",
    "                                            'SHUTTLECOCK POSITIION IN AIR(X ) metres', \n",
    "                                            'SHUTTLECOCK POSITIION IN AIR(Y) metres', \n",
    "                                            'SHUTTLECOCK POSITIION IN AIR(Z) metres'])\n",
    "# Standardize the data\n",
    "scaler = StandardScaler()\n",
    "X_features_norm = scaler.fit_transform(X_Features)"
   ]
  },
  {
   "attachments": {},
   "cell_type": "markdown",
   "metadata": {},
   "source": [
    "#### Significance of Independent Features with PCA"
   ]
  },
  {
   "cell_type": "code",
   "execution_count": 22,
   "metadata": {},
   "outputs": [
    {
     "name": "stdout",
     "output_type": "stream",
     "text": [
      "Feature 1: Significance = 0.19197172392618486\n",
      "Feature 5: Significance = 0.19187908760841896\n",
      "Feature 2: Significance = 0.1863473046522146\n",
      "Feature 3: Significance = 0.17941953181580592\n",
      "Feature 4: Significance = 0.1536632167546535\n",
      "Feature 0: Significance = 0.09671913524272205\n"
     ]
    },
    {
     "data": {
      "image/png": "[encoded data removed]",
      "text/plain": [
       "<Figure size 640x480 with 1 Axes>"
      ]
     },
     "metadata": {},
     "output_type": "display_data"
    }
   ],
   "source": [
    "# instantiate PCA object, fit model\n",
    "pca = PCA()\n",
    "pca.fit(X_features_norm)\n",
    "\n",
    "# loadings refer to the coefficients or weights that determine the contribution of each feature to the principal components\n",
    "# Get the absolute loadings for each feature in each principal component\n",
    "absolute_loadings = np.abs(pca.components_)\n",
    "# Calculate the total sum of absolute loadings for each feature across all principal components\n",
    "total_loadings = np.sum(absolute_loadings, axis=0)\n",
    "\n",
    "# Calculate the relative contribution of each feature to the total loadings\n",
    "relative_contribution = total_loadings / np.sum(total_loadings)\n",
    "\n",
    "# Sort the features based on their relative contribution\n",
    "sorted_features = np.argsort(relative_contribution)[::-1]\n",
    "\n",
    "# Print the significance of each feature\n",
    "for feature_idx in sorted_features:\n",
    "    print(f\"Feature {feature_idx}: Significance = {relative_contribution[feature_idx]}\")\n",
    "\n",
    "# Plot the significance of each feature\n",
    "plt.bar(range(len(sorted_features)), relative_contribution[sorted_features])\n",
    "plt.xlabel('Features')\n",
    "plt.ylabel('Significance')\n",
    "plt.title('Significance of Features in PCA')\n",
    "plt.xticks(range(len(sorted_features)), sorted_features)\n",
    "plt.show()"
   ]
  },
  {
   "cell_type": "code",
   "execution_count": 18,
   "metadata": {},
   "outputs": [],
   "source": [
    "# # Assuming you have a DataFrame named 'sample_serving_data' with columns 'OBSERVATION NUMBER',\n",
    "# # 'SHUTTLECOCK POSITIION IN AIR(X) metres', 'SHUTTLECOCK POSITIION IN AIR(Y) metres',\n",
    "# # and 'SHUTTLECOCK POSITIION IN AIR(Z) metres'\n",
    "\n",
    "# # Filter rows starting from row 2\n",
    "# df_filtered = sample_serving_data.iloc[2:]\n",
    "\n",
    "# # Get the maximum group_id value\n",
    "# max_group_id = df_filtered['OBSERVATION NUMBER'].max()\n",
    "\n",
    "# fig = go.Figure()\n",
    "\n",
    "# for group_id in range(max_group_id + 1):\n",
    "#     group_df = df_filtered[df_filtered['OBSERVATION NUMBER'] == group_id]\n",
    "#     x = group_df['SHUTTLECOCK POSITIION IN AIR(X ) metres']\n",
    "#     y = group_df['SHUTTLECOCK POSITIION IN AIR(Y) metres']\n",
    "#     z = group_df['SHUTTLECOCK POSITIION IN AIR(Z) metres']\n",
    "    \n",
    "#     fig.add_trace(go.Scatter3d(\n",
    "#         x=x, y=y, z=z,\n",
    "#         mode='markers',\n",
    "#         name=f'Group {group_id}'\n",
    "#     ))\n",
    "\n",
    "# fig.update_layout(\n",
    "#     scene=dict(\n",
    "#         xaxis=dict(title='X'),\n",
    "#         yaxis=dict(title='Y'),\n",
    "#         zaxis=dict(title='Z')\n",
    "#     ),\n",
    "#     title='Interactive 3D Plot'\n",
    "# )\n",
    "# fig.write_html(\"interactive_plot.html\")\n",
    "\n",
    "# # fig.show()"
   ]
  },
  {
   "cell_type": "code",
   "execution_count": 19,
   "metadata": {},
   "outputs": [],
   "source": [
    "# sample_serving_data = serving_data.head(1000)\n",
    "# # sample_serving_data.head()\n",
    "# df_filtered = sample_serving_data.iloc[2:]\n",
    "# max_group_id = df_filtered['OBSERVATION NUMBER'].max()\n",
    "# fig = plt.figure()\n",
    "# ax = fig.add_subplot(111, projection='3d')\n",
    "\n",
    "# for group_id in range(max_group_id + 1):\n",
    "#     group_df = df_filtered[df_filtered['OBSERVATION NUMBER'] == group_id]\n",
    "#     x = group_df['SHUTTLECOCK POSITIION IN AIR(X ) metres']\n",
    "#     y = group_df['SHUTTLECOCK POSITIION IN AIR(Y) metres']\n",
    "#     z = group_df['SHUTTLECOCK POSITIION IN AIR(Z) metres']\n",
    "    \n",
    "#     ax.scatter(x, y, z)\n",
    "\n",
    "# ax.set_xlabel('X')\n",
    "# ax.set_ylabel('Y')\n",
    "# ax.set_zlabel('Z')\n",
    "\n",
    "# plt.show()"
   ]
  }
 ],
 "metadata": {
  "kernelspec": {
   "display_name": "dependencies",
   "language": "python",
   "name": "python3"
  },
  "language_info": {
   "codemirror_mode": {
    "name": "ipython",
    "version": 3
   },
   "file_extension": ".py",
   "mimetype": "text/x-python",
   "name": "python",
   "nbconvert_exporter": "python",
   "pygments_lexer": "ipython3",
   "version": "3.9.0"
  },
  "orig_nbformat": 4
 },
 "nbformat": 4,
 "nbformat_minor": 2
}
