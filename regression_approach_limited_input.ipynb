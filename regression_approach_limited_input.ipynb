{
 "cells": [
  {
   "cell_type": "markdown",
   "metadata": {},
   "source": [
    "# Regression Limited Input Approach\n",
    "This approach assumes that input for both training and testing is just limited to its coordinates (X,Y,Z) and that testing is just using the first trajectory coordinate of an observation group. Based on these coordinates, we will group them up based on their observation groups and generate significant features such as human positions, initial velocity, initial slant angle and initial firing angle using mathematical formulas which will be used to train models for predictions. \n",
    "\n",
    "\n",
    "Random Forest Regressor is used to predict the data points of the trajectory, Decision Tree Classifier is used to determine number of observations an observation groups has. "
   ]
  },
  {
   "cell_type": "markdown",
   "metadata": {},
   "source": [
    "## Importing Libraries and Dependencies"
   ]
  },
  {
   "cell_type": "code",
   "execution_count": 1,
   "metadata": {},
   "outputs": [],
   "source": [
    "# %pip install pandas\n",
    "# %pip install matplotlib\n",
    "# %pip install plotly\n",
    "# %pip install scikit-learn\n",
    "# %pip install numpy"
   ]
  },
  {
   "cell_type": "code",
   "execution_count": 2,
   "metadata": {},
   "outputs": [],
   "source": [
    "# preprocessing and feature generation\n",
    "import pandas as pd\n",
    "import numpy as np\n",
    "import math\n",
    "\n",
    "# feature significance\n",
    "from sklearn.decomposition import PCA\n",
    "from sklearn.preprocessing import StandardScaler\n",
    "\n",
    "# data mining and model evaluation\n",
    "from sklearn.model_selection import train_test_split\n",
    "from sklearn.metrics import accuracy_score, mean_squared_error\n",
    "from sklearn.model_selection import learning_curve\n",
    "\n",
    "# visualization\n",
    "import matplotlib.pyplot as plt\n",
    "import plotly.graph_objects as go\n",
    "from plotly.offline import plot"
   ]
  },
  {
   "cell_type": "markdown",
   "metadata": {},
   "source": [
    "## Stage: Preprocessing\n",
    "Mockup data with just X, Y, Z values by removing the rest of the value."
   ]
  },
  {
   "cell_type": "code",
   "execution_count": 3,
   "metadata": {},
   "outputs": [],
   "source": [
    "# # read csv data from badmintondata.csv\n",
    "# limited_serving_data = pd.read_csv('badmintondata.csv')\n",
    "\n",
    "# # just rename x metrics to avoid unnecessary errors\n",
    "# limited_serving_data = limited_serving_data.rename(columns={'SHUTTLECOCK POSITIION IN AIR(X ) metres': 'SHUTTLECOCK POSITIION IN AIR(X) metres'})\n",
    "\n",
    "# # limiting service data to just x, y, z coordinates\n",
    "# limited_serving_data = limited_serving_data[['SHUTTLECOCK POSITIION IN AIR(X) metres', \n",
    "#                                             'SHUTTLECOCK POSITIION IN AIR(Y) metres', \n",
    "#                                             'SHUTTLECOCK POSITIION IN AIR(Z) metres']]\n",
    "# limited_serving_data"
   ]
  },
  {
   "cell_type": "code",
   "execution_count": 4,
   "metadata": {},
   "outputs": [],
   "source": [
    "# # read csv data from badmintondata.csv\n",
    "# limited_rallying_data = pd.read_csv('badmintondata2.csv')\n",
    "\n",
    "# # just rename x metrics to avoid unnecessary errors\n",
    "# limited_rallying_data = limited_rallying_data.rename(columns={'SHUTTLECOCK POSITIION IN AIR(X ) metres': 'SHUTTLECOCK POSITIION IN AIR(X) metres'})\n",
    "\n",
    "# # limiting service data to just x, y, z coordinates\n",
    "# limited_rallying_data = limited_rallying_data[['SHUTTLECOCK POSITIION IN AIR(X) metres', \n",
    "#                                             'SHUTTLECOCK POSITIION IN AIR(Y) metres', \n",
    "#                                             'SHUTTLECOCK POSITIION IN AIR(Z) metres']]\n",
    "# limited_rallying_data"
   ]
  },
  {
   "cell_type": "markdown",
   "metadata": {},
   "source": [
    "Assigning data to observation groups and labelling their sequences with observation numbers"
   ]
  },
  {
   "cell_type": "code",
   "execution_count": 5,
   "metadata": {},
   "outputs": [],
   "source": [
    "# # Initialize variables\n",
    "# observation_group_num = 0\n",
    "# observation_num = 0\n",
    "# is_group = False\n",
    "\n",
    "# # assign observation groups and their respective observation numbers to each row\n",
    "# for index, row in limited_serving_data.iterrows():\n",
    "#     if row['SHUTTLECOCK POSITIION IN AIR(X) metres'] == 0:\n",
    "#         if is_group:\n",
    "#             is_group = False\n",
    "#         limited_serving_data.drop(index, inplace=True)\n",
    "#     # if row is not empty\n",
    "#     else:\n",
    "#         # if inside an observation group just increment observation number\n",
    "#         if is_group:\n",
    "#             observation_num+=1\n",
    "#         # if just entering a new observation group\n",
    "#         else:\n",
    "#             is_group = True\n",
    "#             # increase observation group number by 1\n",
    "#             observation_group_num+=1\n",
    "#             # resets observation sequence number to 1\n",
    "#             observation_num = 1\n",
    "#         # assign observation group and observation number\n",
    "#         limited_serving_data.at[index, 'OBSERVATION NUMBER'] = observation_num\n",
    "#         limited_serving_data.at[index, 'OBSERVATION GROUP NUMBER'] = observation_group_num\n",
    "\n",
    "# # Set 'OBSERVATION GROUP NUMBER' as INT\n",
    "# limited_serving_data['OBSERVATION GROUP NUMBER'] = limited_serving_data['OBSERVATION GROUP NUMBER'].astype(int)\n",
    "# limited_serving_data.to_csv('regression_data/limited_serving_data_stage1.csv')"
   ]
  },
  {
   "cell_type": "code",
   "execution_count": 6,
   "metadata": {},
   "outputs": [],
   "source": [
    "# # Initialize variables\n",
    "# observation_group_num = 364 # last observation group number index from dataset 1\n",
    "# observation_num = 0\n",
    "# is_group = False\n",
    "\n",
    "# # assign observation groups and their respective observation numbers to each row\n",
    "# for index, row in limited_rallying_data.iterrows():\n",
    "#     if row['SHUTTLECOCK POSITIION IN AIR(X) metres'] == 0:\n",
    "#         if is_group:\n",
    "#             is_group = False\n",
    "#         limited_rallying_data.drop(index, inplace=True)\n",
    "#     # if row is not empty\n",
    "#     else:\n",
    "#         # if inside an observation group just increment observation number\n",
    "#         if is_group:\n",
    "#             observation_num+=1\n",
    "#         # if just entering a new observation group\n",
    "#         else:\n",
    "#             is_group = True\n",
    "#             # increase observation group number by 1\n",
    "#             observation_group_num+=1\n",
    "#             # resets observation sequence number to 1\n",
    "#             observation_num = 1\n",
    "#         # assign observation group and observation number\n",
    "#         limited_rallying_data.at[index, 'OBSERVATION NUMBER'] = observation_num\n",
    "#         limited_rallying_data.at[index, 'OBSERVATION GROUP NUMBER'] = observation_group_num\n",
    "\n",
    "# # Set 'OBSERVATION GROUP NUMBER' as INT\n",
    "# limited_rallying_data['OBSERVATION GROUP NUMBER'] = limited_rallying_data['OBSERVATION GROUP NUMBER'].astype(int)\n",
    "# limited_rallying_data.to_csv('regression_data/limited_rallying_data_stage1.csv')"
   ]
  },
  {
   "cell_type": "markdown",
   "metadata": {},
   "source": [
    "Determining the initial starting position of each shuttlecock by either rounding it down, or rounding it to nearest necessary value "
   ]
  },
  {
   "cell_type": "code",
   "execution_count": 7,
   "metadata": {},
   "outputs": [
    {
     "name": "stderr",
     "output_type": "stream",
     "text": [
      "C:\\Users\\evely\\AppData\\Local\\Temp\\ipykernel_39952\\1591248699.py:19: FutureWarning:\n",
      "\n",
      "Not prepending group keys to the result index of transform-like apply. In the future, the group keys will be included in the index, regardless of whether the applied function returns a like-indexed object.\n",
      "To preserve the previous behavior, use\n",
      "\n",
      "\t>>> .groupby(..., group_keys=False)\n",
      "\n",
      "To adopt the future behavior and silence this warning, use \n",
      "\n",
      "\t>>> .groupby(..., group_keys=True)\n",
      "\n",
      "C:\\Users\\evely\\AppData\\Local\\Temp\\ipykernel_39952\\1591248699.py:23: FutureWarning:\n",
      "\n",
      "Not prepending group keys to the result index of transform-like apply. In the future, the group keys will be included in the index, regardless of whether the applied function returns a like-indexed object.\n",
      "To preserve the previous behavior, use\n",
      "\n",
      "\t>>> .groupby(..., group_keys=False)\n",
      "\n",
      "To adopt the future behavior and silence this warning, use \n",
      "\n",
      "\t>>> .groupby(..., group_keys=True)\n",
      "\n"
     ]
    }
   ],
   "source": [
    "# load in last milestone to save time \n",
    "limited_serving_data = pd.read_csv('regression_data/limited_serving_data_stage1.csv')\n",
    "limited_serving_data = limited_serving_data.drop(columns=('Unnamed: 0'))\n",
    "limited_rallying_data = pd.read_csv('regression_data/limited_rallying_data_stage1.csv')\n",
    "limited_rallying_data = limited_rallying_data.drop(columns=('Unnamed: 0'))\n",
    "\n",
    "# Add Initial Points of Human Position based on the rounded down version of the first point\n",
    "# Reset the index before applying groupby\n",
    "def calculate_human_position(group):\n",
    "    rounded_value_x = math.floor(group.iloc[0]['SHUTTLECOCK POSITIION IN AIR(X) metres'])\n",
    "    rounded_value_y = round(group.iloc[0]['SHUTTLECOCK POSITIION IN AIR(Y) metres'])\n",
    "    rounded_value_z = rounded_value = min(1.6, 2.6, key=lambda x: abs(x - group.iloc[0]['SHUTTLECOCK POSITIION IN AIR(Z) metres']))\n",
    "    group['HUMAN PLAYER POSITION (X) metres'] = rounded_value_x\n",
    "    group['HUMAN PLAYER POSITION (Y) metres'] = rounded_value_y\n",
    "    group['HUMAN PLAYER POSITION (Z) metres'] = rounded_value_z\n",
    "    return group\n",
    "\n",
    "# Apply the function to serving data in each group using groupby and apply\n",
    "limited_serving_data = limited_serving_data.groupby('OBSERVATION GROUP NUMBER').apply(calculate_human_position)\n",
    "limited_serving_data = limited_serving_data.reset_index(drop=True)\n",
    "\n",
    "# Apply the function to rallying data in each group using groupby and apply\n",
    "limited_rallying_data = limited_rallying_data.groupby('OBSERVATION GROUP NUMBER').apply(calculate_human_position)\n",
    "limited_rallying_data = limited_rallying_data.reset_index(drop=True)\n"
   ]
  },
  {
   "cell_type": "markdown",
   "metadata": {},
   "source": [
    "Creating Velocity, Slant Angles and Firing Angles of each shuttlecock using mathematical equation with X,Y,Z manipulation"
   ]
  },
  {
   "cell_type": "code",
   "execution_count": 8,
   "metadata": {},
   "outputs": [
    {
     "name": "stderr",
     "output_type": "stream",
     "text": [
      "C:\\Users\\evely\\AppData\\Local\\Temp\\ipykernel_39952\\3872537049.py:27: FutureWarning:\n",
      "\n",
      "Not prepending group keys to the result index of transform-like apply. In the future, the group keys will be included in the index, regardless of whether the applied function returns a like-indexed object.\n",
      "To preserve the previous behavior, use\n",
      "\n",
      "\t>>> .groupby(..., group_keys=False)\n",
      "\n",
      "To adopt the future behavior and silence this warning, use \n",
      "\n",
      "\t>>> .groupby(..., group_keys=True)\n",
      "\n",
      "C:\\Users\\evely\\AppData\\Local\\Temp\\ipykernel_39952\\3872537049.py:32: FutureWarning:\n",
      "\n",
      "Not prepending group keys to the result index of transform-like apply. In the future, the group keys will be included in the index, regardless of whether the applied function returns a like-indexed object.\n",
      "To preserve the previous behavior, use\n",
      "\n",
      "\t>>> .groupby(..., group_keys=False)\n",
      "\n",
      "To adopt the future behavior and silence this warning, use \n",
      "\n",
      "\t>>> .groupby(..., group_keys=True)\n",
      "\n"
     ]
    }
   ],
   "source": [
    "def generate_features(group):\n",
    "    # calculate X,Y,Z distances from initial human points\n",
    "    X_displacement = group.iloc[0]['SHUTTLECOCK POSITIION IN AIR(X) metres'] - group.iloc[0]['HUMAN PLAYER POSITION (X) metres']\n",
    "    Y_displacement = group.iloc[0]['SHUTTLECOCK POSITIION IN AIR(Y) metres'] - group.iloc[0]['HUMAN PLAYER POSITION (Y) metres'] \n",
    "    Z_displacement = group.iloc[0]['SHUTTLECOCK POSITIION IN AIR(Z) metres'] - group.iloc[0]['HUMAN PLAYER POSITION (Z) metres']\n",
    "\n",
    "    # calculate initial firing angle\n",
    "    firing_angle_radians = math.atan(X_displacement / Z_displacement)\n",
    "    firing_angle_degrees = math.degrees(firing_angle_radians)\n",
    "    # round to nearest 10 for firing angle\n",
    "    group['INITIAL SHUTTELCOCK FIRING ANGLE (DEGREE)'] = round(firing_angle_degrees / 10) * 10\n",
    "\n",
    "    # calculate initial slant angle\n",
    "    slant_angle_radians = math.atan(Y_displacement / X_displacement)\n",
    "    slant_angle_degrees = math.degrees(slant_angle_radians)\n",
    "    group['INITIAL SHUTTELCOCK SLANT ANGLE TO SIDELINE(DEGREE)'] = round(slant_angle_degrees)\n",
    "\n",
    "    # Calculate the initial velocity (v₀)\n",
    "    time_elapsed = 0.1\n",
    "    displacement = math.sqrt(X_displacement**2 + Y_displacement**2 + Z_displacement**2)\n",
    "    initial_velocity = round(displacement/time_elapsed)\n",
    "    # round to nearest 10 for velocity\n",
    "    group['INITITAL VELOCITY OF SHUTTELCOCK(m/s)'] = initial_velocity\n",
    "    return group\n",
    "\n",
    "# generate features for serving data\n",
    "limited_serving_data = limited_serving_data.groupby('OBSERVATION GROUP NUMBER').apply(generate_features)\n",
    "limited_serving_data = limited_serving_data.reset_index(drop=True)\n",
    "limited_serving_data.to_csv('regression_data/limited_serving_data.csv')\n",
    "\n",
    "# generate features for rallying data\n",
    "limited_rallying_data = limited_rallying_data.groupby('OBSERVATION GROUP NUMBER').apply(generate_features)\n",
    "limited_rallying_data = limited_rallying_data.reset_index(drop=True)\n",
    "limited_rallying_data.to_csv('regression_data/limited_rallying_data.csv')"
   ]
  },
  {
   "cell_type": "markdown",
   "metadata": {},
   "source": [
    "Combine the two datasets into a single dataset"
   ]
  },
  {
   "cell_type": "code",
   "execution_count": 9,
   "metadata": {},
   "outputs": [],
   "source": [
    "# combining the serving and rally dataframes\n",
    "limited_badminton_data = pd.concat([limited_serving_data, limited_rallying_data], ignore_index=True)\n",
    "limited_badminton_data.to_csv('regression_data/limited_badminton_data.csv')"
   ]
  },
  {
   "cell_type": "markdown",
   "metadata": {},
   "source": [
    "label data if they are are out of bounds within the observations using data column \"OUT OF BOUNDS\". This includes\n",
    "- Data that exceeds the X axis (hit too far on both sides) X < 0 OR X > 13.4\n",
    "- Data that exceeds the Y axis (hit out of court on left or right side) Y < 0 OR Y > 5.18\n",
    "- Data that is out of bounds labelled as 1, no 0\n",
    "\n",
    "OPTIONAL, if needed"
   ]
  },
  {
   "cell_type": "code",
   "execution_count": 10,
   "metadata": {},
   "outputs": [],
   "source": [
    "# # labelling data if its out of bounds\n",
    "# unique_observation_number = limited_badminton_data['OBSERVATION GROUP NUMBER'].unique()\n",
    "# for obs_grp_number in unique_observation_number:\n",
    "#     last_row = limited_badminton_data[limited_badminton_data['OBSERVATION GROUP NUMBER'] == obs_grp_number].tail(1)\n",
    "#     # Check the conditions for 'Shuttlecock Position in Air X' and 'Shuttlecock Position in Air Y'\n",
    "#     if (last_row['SHUTTLECOCK POSITIION IN AIR(X) metres'].values[0] < 0 or\n",
    "#         last_row['SHUTTLECOCK POSITIION IN AIR(X) metres'].values[0] > 13.4 or\n",
    "#         last_row['SHUTTLECOCK POSITIION IN AIR(Y) metres'].values[0] < 0 or\n",
    "#         last_row['SHUTTLECOCK POSITIION IN AIR(Y) metres'].values[0] > 5.18):\n",
    "        \n",
    "#         # Set 'OUT OF BOUNDS' column to 1 for the corresponding observation number\n",
    "#         limited_badminton_data.loc[limited_badminton_data['OBSERVATION GROUP NUMBER'] == obs_grp_number, 'OUT OF BOUNDS'] = 1\n",
    "#     else:\n",
    "#         limited_badminton_data.loc[limited_badminton_data['OBSERVATION GROUP NUMBER'] == obs_grp_number, 'OUT OF BOUNDS']"
   ]
  },
  {
   "cell_type": "markdown",
   "metadata": {},
   "source": [
    "## Feature Significance\n",
    "Selecting features to test significance using PCA and standardizing them. "
   ]
  },
  {
   "cell_type": "code",
   "execution_count": 11,
   "metadata": {},
   "outputs": [],
   "source": [
    "# removal of labels and dependent features\n",
    "X_limited_features = limited_badminton_data.drop(columns=['OBSERVATION GROUP NUMBER',\n",
    "                                            'SHUTTLECOCK POSITIION IN AIR(X) metres', \n",
    "                                            'SHUTTLECOCK POSITIION IN AIR(Y) metres', \n",
    "                                            'SHUTTLECOCK POSITIION IN AIR(Z) metres'])\n",
    "# Standardize the data\n",
    "scaler = StandardScaler()\n",
    "X_features_norm = scaler.fit_transform(X_limited_features)"
   ]
  },
  {
   "cell_type": "code",
   "execution_count": 12,
   "metadata": {},
   "outputs": [
    {
     "name": "stdout",
     "output_type": "stream",
     "text": [
      "Feature INITIAL SHUTTELCOCK FIRING ANGLE (DEGREE): Significance = 0.18653208130233231\n",
      "Feature HUMAN PLAYER POSITION (Z) metres: Significance = 0.17677218072799952\n",
      "Feature OBSERVATION NUMBER: Significance = 0.15130267848958967\n",
      "Feature INITIAL SHUTTELCOCK SLANT ANGLE TO SIDELINE(DEGREE): Significance = 0.15067646190778108\n",
      "Feature INITITAL VELOCITY OF SHUTTELCOCK(m/s): Significance = 0.13679930347016347\n",
      "Feature HUMAN PLAYER POSITION (Y) metres: Significance = 0.11239037013040598\n",
      "Feature HUMAN PLAYER POSITION (X) metres: Significance = 0.08552692397172786\n"
     ]
    },
    {
     "data": {
      "image/png": "[encoded data removed]",
      "text/plain": [
       "<Figure size 640x480 with 1 Axes>"
      ]
     },
     "metadata": {},
     "output_type": "display_data"
    }
   ],
   "source": [
    "# instantiate PCA object, fit model\n",
    "pca = PCA()\n",
    "pca.fit(X_features_norm)\n",
    "\n",
    "# loadings refer to the coefficients or weights that determine the contribution of each feature to the principal components\n",
    "# Get the absolute loadings for each feature in each principal component\n",
    "absolute_loadings = np.abs(pca.components_)\n",
    "# Calculate the total sum of absolute loadings for each feature across all principal components\n",
    "total_loadings = np.sum(absolute_loadings, axis=0)\n",
    "\n",
    "# Calculate the relative contribution of each feature to the total loadings\n",
    "relative_contribution = total_loadings / np.sum(total_loadings)\n",
    "\n",
    "# Sort the features based on their relative contribution\n",
    "sorted_features = np.argsort(relative_contribution)[::-1]\n",
    "feature_names = X_limited_features.columns\n",
    "# Print the significance of each feature\n",
    "for feature_idx in sorted_features:\n",
    "    print(f\"Feature {feature_names[feature_idx]}: Significance = {relative_contribution[feature_idx]}\")\n",
    "\n",
    "# Plot the significance of each feature\n",
    "plt.bar(range(len(sorted_features)), relative_contribution[sorted_features])\n",
    "plt.xlabel('Features')\n",
    "plt.ylabel('Significance')\n",
    "plt.title('Significance of Features in PCA')\n",
    "plt.xticks(range(len(sorted_features)), feature_names[sorted_features], rotation=90)\n",
    "# plt.xticks(range(len(sorted_features)), sorted_features)\n",
    "plt.show()"
   ]
  },
  {
   "cell_type": "markdown",
   "metadata": {},
   "source": [
    "## Stage: Data Mining\n",
    "### Preparing data for Decision Tree Classifier\n",
    "To determine observation steps needed for a trajectory, only these X features are needed. No normalization is needed\n",
    "- 'HUMAN PLAYER POSITION (X) metres'\n",
    "- 'HUMAN PLAYER POSITION (Y) metres'\n",
    "- 'HUMAN PLAYER POSITION (Z) metres'\n",
    "- 'INITITAL VELOCITY OF SHUTTELCOCK(m/s)'\n",
    "- 'INITIAL SHUTTELCOCK FIRING ANGLE (DEGREE)'\n",
    "- 'INITIAL SHUTTELCOCK SLANT ANGLE TO SIDELINE(DEGREE)'"
   ]
  },
  {
   "cell_type": "code",
   "execution_count": 13,
   "metadata": {},
   "outputs": [],
   "source": [
    "# loading data\n",
    "temp_data = pd.read_csv('regression_data/limited_badminton_data.csv')\n",
    "temp_data = temp_data.drop(columns=['Unnamed: 0'])\n",
    "\n",
    "# Drop duplicates based on 'Observation Group Number', keeping only the last record\n",
    "data_DT = temp_data.copy()\n",
    "data_DT = data_DT.drop_duplicates(subset='OBSERVATION GROUP NUMBER', keep='last')\n",
    "\n",
    "# Define X and Y Features for Decision Tree\n",
    "X_features_DT = data_DT[['HUMAN PLAYER POSITION (X) metres', \n",
    "                            'HUMAN PLAYER POSITION (Y) metres',\n",
    "                            'HUMAN PLAYER POSITION (Z) metres', \n",
    "                            'INITITAL VELOCITY OF SHUTTELCOCK(m/s)', \n",
    "                            'INITIAL SHUTTELCOCK FIRING ANGLE (DEGREE)', \n",
    "                            'INITIAL SHUTTELCOCK SLANT ANGLE TO SIDELINE(DEGREE)']]\n",
    "\n",
    "Y_feature_DT = data_DT['OBSERVATION NUMBER']\n",
    "\n",
    "# Split the data into train/test, X/Y for Decision Tree Classifier\n",
    "X_train_DT, X_test_DT, Y_train_DT, Y_test_DT = train_test_split(X_features_DT, Y_feature_DT, test_size=0.2, random_state=42)"
   ]
  },
  {
   "cell_type": "markdown",
   "metadata": {},
   "source": [
    "### Finding Optimal Decision Tree Model\n",
    "To predict total observation time based on the independent feature supplied. Predicts a set of observation take"
   ]
  },
  {
   "cell_type": "code",
   "execution_count": 14,
   "metadata": {},
   "outputs": [],
   "source": [
    "from sklearn.tree import DecisionTreeClassifier\n",
    "maxdepths = [2,3,4,5,6,7,8,9,10,15]  # 10 different depths\n",
    "\n",
    "# containers to store train/test accuracy rates\n",
    "trainAcc_DT = np.zeros(len(maxdepths))\n",
    "testAcc_DT = np.zeros(len(maxdepths))\n",
    "\n",
    "index = 0\n",
    "for depth in maxdepths:\n",
    "    # training decision tree with depth lengths\n",
    "    temp_model_DT = DecisionTreeClassifier(max_depth=depth)\n",
    "    temp_model_DT = temp_model_DT.fit(X_train_DT, Y_train_DT)\n",
    "    # generate predictions using the model trained, for the training data (X) and test data (X)\n",
    "    Y_predTrain = temp_model_DT.predict(X_train_DT)\n",
    "    Y_predTest = temp_model_DT.predict(X_test_DT)\n",
    "    # compare the predicted values and compare against original values for accuracy\n",
    "    trainAcc_DT[index] = accuracy_score(Y_train_DT, Y_predTrain)\n",
    "    testAcc_DT[index] = accuracy_score(Y_test_DT, Y_predTest)\n",
    "    index += 1"
   ]
  },
  {
   "cell_type": "code",
   "execution_count": 15,
   "metadata": {},
   "outputs": [
    {
     "data": {
      "text/plain": [
       "Text(0, 0.5, 'Accuracy')"
      ]
     },
     "execution_count": 15,
     "metadata": {},
     "output_type": "execute_result"
    },
    {
     "data": {
      "image/png": "[encoded data removed]",
      "text/plain": [
       "<Figure size 640x480 with 1 Axes>"
      ]
     },
     "metadata": {},
     "output_type": "display_data"
    }
   ],
   "source": [
    "plt.plot(maxdepths,trainAcc_DT,'ro-',maxdepths,testAcc_DT,'bv--')\n",
    "plt.legend(['Training Accuracy','Test Accuracy'])\n",
    "plt.xlabel('Max depth')\n",
    "plt.ylabel('Accuracy')"
   ]
  },
  {
   "cell_type": "markdown",
   "metadata": {},
   "source": [
    "### Train Decision Tree Model \"Model_DecisionTree\"\n",
    "Using the optimal elbow depth found in the previous segment which is 4"
   ]
  },
  {
   "cell_type": "code",
   "execution_count": 20,
   "metadata": {},
   "outputs": [
    {
     "name": "stdout",
     "output_type": "stream",
     "text": [
      "Training Accuracy:  1.0\n",
      "Testing Accuracy:  1.0\n"
     ]
    }
   ],
   "source": [
    "model_decisionTree = DecisionTreeClassifier(max_depth=4)\n",
    "model_decisionTree = model_decisionTree.fit(X_train_DT, Y_train_DT)\n",
    "\n",
    "Y_predTrain = model_decisionTree.predict(X_train_DT)\n",
    "Y_predTest = model_decisionTree.predict(X_test_DT)\n",
    "\n",
    "trainAcc_DT = accuracy_score(Y_train_DT, Y_predTrain)\n",
    "testAcc_DT = accuracy_score(Y_test_DT, Y_predTest)\n",
    "print(\"Training Accuracy: \", trainAcc_DT)\n",
    "print(\"Testing Accuracy: \", testAcc_DT)"
   ]
  },
  {
   "cell_type": "markdown",
   "metadata": {},
   "source": [
    "### Preparing data for Regressor Models"
   ]
  },
  {
   "cell_type": "code",
   "execution_count": 21,
   "metadata": {},
   "outputs": [],
   "source": [
    "# Define X and Y features\n",
    "X_features_Regression = temp_data[['HUMAN PLAYER POSITION (X) metres', \n",
    "                            'HUMAN PLAYER POSITION (Y) metres', \n",
    "                            'HUMAN PLAYER POSITION (Z) metres',\n",
    "                            'INITITAL VELOCITY OF SHUTTELCOCK(m/s)', \n",
    "                            'INITIAL SHUTTELCOCK FIRING ANGLE (DEGREE)', \n",
    "                            'INITIAL SHUTTELCOCK SLANT ANGLE TO SIDELINE(DEGREE)',\n",
    "                            'OBSERVATION NUMBER']]\n",
    "\n",
    "Y_features_Regression = temp_data[['SHUTTLECOCK POSITIION IN AIR(X) metres', \n",
    "                            'SHUTTLECOCK POSITIION IN AIR(Y) metres', \n",
    "                            'SHUTTLECOCK POSITIION IN AIR(Z) metres']]\n",
    "\n",
    "# splitting data into X, Y train test, 80/20\n",
    "X_train_Regression, X_test_Regression, Y_train_Regression, Y_test_Regression = train_test_split(X_features_Regression, Y_features_Regression, test_size=0.2, random_state=42)"
   ]
  },
  {
   "cell_type": "markdown",
   "metadata": {},
   "source": [
    "### Random Forest Regressor\n",
    "Random Forest is an ensemble learning algorithm that combines multiple decision trees to make predictions. It can handle both numerical and categorical data and is capable of capturing complex relationships in the data. It does not require feature standardization as they are not sensitive to the scale of the features. Random Forest algorithms work by creating decision trees based on random subsets of features, and each decision tree independently makes decisions based on these features.\n",
    "#### Dependencies for Random Forest Regressor"
   ]
  },
  {
   "cell_type": "code",
   "execution_count": 18,
   "metadata": {},
   "outputs": [],
   "source": [
    "from sklearn.ensemble import RandomForestRegressor  # for regression tasks"
   ]
  },
  {
   "cell_type": "markdown",
   "metadata": {},
   "source": [
    "#### Optimizing Random Forest Regressor\n",
    "Building multiple models with different depths to find best model with lowest mean squared error. Best depth should be 15"
   ]
  },
  {
   "cell_type": "code",
   "execution_count": null,
   "metadata": {},
   "outputs": [],
   "source": [
    "# # Define a list of depths to test\n",
    "# depths = [5, 10, 15, 20, 25, 30]\n",
    "# mse_score_RF = []\n",
    "\n",
    "# # Iterate over different depths and calculate MSE\n",
    "# for depth in depths:\n",
    "#     temp_model_RF = RandomForestRegressor(n_estimators=100, max_depth=depth, random_state=42)\n",
    "#     temp_model_RF.fit(X_train_Regression, Y_train_Regression)\n",
    "#     temp_y_pred_RF = temp_model_RF.predict(X_test_Regression)\n",
    "#     mse = mean_squared_error(Y_test_Regression, temp_y_pred_RF)\n",
    "#     mse_score_RF.append(mse)\n",
    "# print(mse_score_RF)"
   ]
  },
  {
   "cell_type": "code",
   "execution_count": null,
   "metadata": {},
   "outputs": [],
   "source": [
    "# # Plotting the MSE scores\n",
    "# plt.plot(depths, mse_score_RF, marker='o')\n",
    "# plt.xlabel('Depth')\n",
    "# plt.ylabel('Mean Squared Error')\n",
    "# plt.title('Mean Squared Error vs. Depth for Random Forest Regressor')\n",
    "# plt.show()"
   ]
  },
  {
   "cell_type": "markdown",
   "metadata": {},
   "source": [
    "Building multiple models with different number of decision trees \"n_estimators\" to find best \"n_estimator\". Best number of decision trees should be 200"
   ]
  },
  {
   "cell_type": "code",
   "execution_count": null,
   "metadata": {},
   "outputs": [],
   "source": [
    "# # Define a list of n_estimators to test\n",
    "# n_estimators_values = [50, 100, 150, 200, 250, 300]\n",
    "# mse_score_RF = []\n",
    "\n",
    "# # Iterate over different n_estimators and calculate MSE\n",
    "# for n_estimators in n_estimators_values:\n",
    "#     temp_model_RF = RandomForestRegressor(n_estimators=n_estimators, max_depth=15, random_state=42)\n",
    "#     temp_model_RF.fit(X_train_Regression, Y_train_Regression)\n",
    "#     temp_y_pred_RF = temp_model_RF.predict(X_test_Regression)\n",
    "#     mse = mean_squared_error(Y_test_Regression, temp_y_pred_RF)\n",
    "#     mse_score_RF.append(mse)\n",
    "# print(mse_score_RF)"
   ]
  },
  {
   "cell_type": "code",
   "execution_count": null,
   "metadata": {},
   "outputs": [],
   "source": [
    "# # Plotting the MSE scores\n",
    "# plt.plot(n_estimators_values, mse_score_RF, marker='o')\n",
    "# plt.xlabel('n_estimators')\n",
    "# plt.ylabel('Mean Squared Error')\n",
    "# plt.title('Mean Squared Error vs. n_estimators for Random Forest Regressor')\n",
    "# plt.show()"
   ]
  },
  {
   "cell_type": "markdown",
   "metadata": {},
   "source": [
    "#### Training with Best Random Forest\n",
    "This model will allow us predict an X, Y, Z coordinate in relation to the independent features supplied"
   ]
  },
  {
   "cell_type": "code",
   "execution_count": 23,
   "metadata": {},
   "outputs": [],
   "source": [
    "# Define the Random Forest Regressor\n",
    "model_randomForest = RandomForestRegressor(n_estimators=200, max_depth=15, random_state=42)  # for regression\n",
    "\n",
    "model_randomForest.fit(X_train_Regression, Y_train_Regression)\n",
    "y_pred_RF = model_randomForest.predict(X_test_Regression)"
   ]
  },
  {
   "cell_type": "markdown",
   "metadata": {},
   "source": [
    "### Training Evaluation of Random Forest\n",
    "Mean squared error and root mean squared errors are error margin metrics for regression models. Refer to root mean squared error for a closer error margin to original metric"
   ]
  },
  {
   "cell_type": "code",
   "execution_count": 24,
   "metadata": {},
   "outputs": [
    {
     "name": "stdout",
     "output_type": "stream",
     "text": [
      "Mean Squared Error: 0.0005914124529569345\n",
      "Root Squared Error: 0.024318973106546554\n"
     ]
    }
   ],
   "source": [
    "mse = mean_squared_error(Y_test_Regression, y_pred_RF)\n",
    "print(\"Mean Squared Error:\", mse)\n",
    "rmse = math.sqrt(mse)\n",
    "print(\"Root Squared Error:\", rmse)"
   ]
  },
  {
   "cell_type": "markdown",
   "metadata": {},
   "source": [
    "Check for generalization of data and if data is able to capture underlying pattern properly. This is done with a learning curve, with a negative mean squared metric. If the training and validation lines converge at a low error rate, that means that the model is well generalized and captures patterns properly"
   ]
  },
  {
   "cell_type": "code",
   "execution_count": null,
   "metadata": {},
   "outputs": [],
   "source": [
    "# # Calculate the learning curves\n",
    "# train_sizes, train_scores, val_scores = learning_curve(model_randomForest, X_train_Regression, Y_train_Regression, cv=5, scoring='neg_mean_squared_error')\n",
    "\n",
    "# # Calculate the mean and standard deviation of train and validation scores\n",
    "# train_mean = -np.mean(train_scores, axis=1)\n",
    "# train_std = np.std(train_scores, axis=1)\n",
    "# val_mean = -np.mean(val_scores, axis=1)\n",
    "# val_std = np.std(val_scores, axis=1)"
   ]
  },
  {
   "cell_type": "code",
   "execution_count": null,
   "metadata": {},
   "outputs": [],
   "source": [
    "# # Plot the learning curves\n",
    "# plt.figure(figsize=(10, 7))\n",
    "# plt.plot(train_sizes, train_mean, label='Training score', color='blue')\n",
    "# plt.fill_between(train_sizes, train_mean - train_std, train_mean + train_std, alpha=0.1, color='blue')\n",
    "# plt.plot(train_sizes, val_mean, label='Validation score', color='red')\n",
    "# plt.fill_between(train_sizes, val_mean - val_std, val_mean + val_std, alpha=0.1, color='red')\n",
    "# plt.xlabel('Training Set Size')\n",
    "# plt.ylabel('Negative Mean Squared Error')\n",
    "# plt.title('Learning Curve for Random Forest Regressor')\n",
    "# plt.legend(loc='best')\n",
    "# plt.show()"
   ]
  },
  {
   "cell_type": "markdown",
   "metadata": {},
   "source": [
    "### Model Visualization of Random Forest Regressor"
   ]
  },
  {
   "cell_type": "code",
   "execution_count": 25,
   "metadata": {},
   "outputs": [
    {
     "data": {
      "image/png": "[encoded data removed]",
      "text/plain": [
       "<Figure size 1500x500 with 3 Axes>"
      ]
     },
     "metadata": {},
     "output_type": "display_data"
    }
   ],
   "source": [
    "# Plotting the scatterplot\n",
    "fig, ax = plt.subplots(1, 3, figsize=(15, 5))\n",
    "\n",
    "# Plotting for each target variable\n",
    "for i, target in enumerate(Y_features_Regression.columns):\n",
    "    ax[i].scatter(Y_test_Regression[target], y_pred_RF[:, i], alpha=0.5)\n",
    "    ax[i].plot([Y_test_Regression[target].min(), Y_test_Regression[target].max()], [Y_test_Regression[target].min(), Y_test_Regression[target].max()], 'r--')\n",
    "    ax[i].set_xlabel('Actual ' + target)\n",
    "    ax[i].set_ylabel('Predicted ' + target)\n",
    "\n",
    "plt.suptitle('Actual vs Predicted Y for Random Forest Regressor')\n",
    "plt.tight_layout()\n",
    "plt.show()"
   ]
  },
  {
   "cell_type": "code",
   "execution_count": 26,
   "metadata": {},
   "outputs": [
    {
     "data": {
      "text/plain": [
       "'interactive_models/random_forest_limited_model.html'"
      ]
     },
     "execution_count": 26,
     "metadata": {},
     "output_type": "execute_result"
    }
   ],
   "source": [
    "# Create traces for actual and predicted values\n",
    "actual_trace = go.Scatter3d(\n",
    "    x=Y_test_Regression['SHUTTLECOCK POSITIION IN AIR(X) metres'],\n",
    "    y=Y_test_Regression['SHUTTLECOCK POSITIION IN AIR(Y) metres'],\n",
    "    z=Y_test_Regression['SHUTTLECOCK POSITIION IN AIR(Z) metres'],\n",
    "    name='Actual',\n",
    "    mode='markers',\n",
    "    marker=dict(\n",
    "        color='blue',\n",
    "        size=3,\n",
    "        symbol='circle'\n",
    "    )\n",
    ")\n",
    "\n",
    "predicted_trace = go.Scatter3d(\n",
    "    x=y_pred_RF[:, 0],\n",
    "    y=y_pred_RF[:, 1],\n",
    "    z=y_pred_RF[:, 2],\n",
    "    name='Predicted',\n",
    "    mode='markers',\n",
    "    marker=dict(\n",
    "        color='red',\n",
    "        size=3,\n",
    "        symbol='circle'\n",
    "    )\n",
    ")\n",
    "\n",
    "# Create layout\n",
    "layout = go.Layout(\n",
    "    title='Actual vs Predicted Shuttlecock Positions for Random Forest Regressor',\n",
    "    scene=dict(\n",
    "        xaxis=dict(title='X'),\n",
    "        yaxis=dict(title='Y'),\n",
    "        zaxis=dict(title='Z')\n",
    "    )\n",
    ")\n",
    "\n",
    "# Create figure\n",
    "fig = go.Figure(data=[actual_trace, predicted_trace], layout=layout)\n",
    "\n",
    "# Save the plot as an HTML file\n",
    "plot(fig, filename='interactive_models/random_forest_limited_model.html')"
   ]
  },
  {
   "cell_type": "markdown",
   "metadata": {},
   "source": [
    "### Extra Trees Regressor\n",
    "Extra Trees aka. (Extremely Randomized Trees) Regressor is a variant of Random Forest Tree which also uses an ensemble of decision trees to make predictions. However unlike random forests, Extra Trees introduces extra randomness by randomly selecting features at each node split. This randomness helps to create more diverse and less correlated trees. The final prediction is obtained by averaging the predictions of all the trees.\n",
    "#### Dependencies for Extra Trees Regressor"
   ]
  },
  {
   "cell_type": "code",
   "execution_count": 28,
   "metadata": {},
   "outputs": [],
   "source": [
    "from sklearn.ensemble import ExtraTreesRegressor"
   ]
  },
  {
   "cell_type": "markdown",
   "metadata": {},
   "source": [
    "### Optimization of Extra Tree Regressor \n",
    "Building multiple models with different depths to find best model with lowest mean squared error. Best depth should be 15"
   ]
  },
  {
   "cell_type": "code",
   "execution_count": null,
   "metadata": {},
   "outputs": [],
   "source": [
    "# # Define a list of depths to test\n",
    "# depths = [5, 10, 15, 20, 25, 30]\n",
    "# mse_scores_ET = []\n",
    "\n",
    "# # Iterate over different depths and calculate MSE\n",
    "# for depth in depths:\n",
    "#     temp_model_ET = ExtraTreesRegressor(n_estimators=100, max_depth=depth, random_state=42)\n",
    "#     temp_model_ET.fit(X_train_Regression, Y_train_Regression)\n",
    "#     temp_y_pred_ET = temp_model_ET.predict(X_test_Regression)\n",
    "#     mse = mean_squared_error(Y_test_Regression, temp_y_pred_ET)\n",
    "#     mse_scores_ET.append(mse)"
   ]
  },
  {
   "cell_type": "code",
   "execution_count": null,
   "metadata": {},
   "outputs": [],
   "source": [
    "# # Plotting the MSE scores\n",
    "# plt.plot(depths, mse_scores_ET, marker='o')\n",
    "# plt.xlabel('Depth')\n",
    "# plt.ylabel('Mean Squared Error')\n",
    "# plt.title('Mean Squared Error vs. Depth for Extra Trees Regressor')\n",
    "# plt.show()"
   ]
  },
  {
   "cell_type": "markdown",
   "metadata": {},
   "source": [
    "Building multiple models with different number of decision trees \"n_estimators\" to find best \"n_estimator\". Best number of decision trees should be 200"
   ]
  },
  {
   "cell_type": "code",
   "execution_count": null,
   "metadata": {},
   "outputs": [],
   "source": [
    "# # Define a list of n_estimators to test\n",
    "# n_estimators_values = [50, 100, 150, 200, 250, 300]\n",
    "# mse_scores_ET = []\n",
    "\n",
    "# # Iterate over different n_estimators and calculate MSE\n",
    "# for n_estimators in n_estimators_values:\n",
    "#     temp_model_ET = RandomForestRegressor(n_estimators=n_estimators, max_depth=15, random_state=42)\n",
    "#     temp_model_ET.fit(X_train_Regression, Y_train_Regression)\n",
    "#     temp_y_pred_RF = temp_model_ET.predict(X_test_Regression)\n",
    "#     mse = mean_squared_error(Y_test_Regression, temp_y_pred_RF)\n",
    "#     mse_scores_ET.append(mse)\n",
    "# print(mse_scores_ET)"
   ]
  },
  {
   "cell_type": "code",
   "execution_count": null,
   "metadata": {},
   "outputs": [],
   "source": [
    "# # Plotting the MSE scores\n",
    "# plt.plot(n_estimators_values, mse_scores_ET, marker='o')\n",
    "# plt.xlabel('n_estimators')\n",
    "# plt.ylabel('Mean Squared Error')\n",
    "# plt.title('Mean Squared Error vs. n_estimators for Extra Trees Regressor')\n",
    "# plt.show()"
   ]
  },
  {
   "cell_type": "markdown",
   "metadata": {},
   "source": [
    "### Training with Best Extra Trees Regressor\n",
    "This model will allow us predict an X, Y, Z coordinate in relation to the independent features supplied"
   ]
  },
  {
   "cell_type": "code",
   "execution_count": 29,
   "metadata": {},
   "outputs": [],
   "source": [
    "# Define the Extra Trees Regressor\n",
    "model_ExtraTrees = ExtraTreesRegressor()\n",
    "model_ExtraTrees.fit(X_train_Regression, Y_train_Regression)\n",
    "y_pred_ET = model_ExtraTrees.predict(X_test_Regression)"
   ]
  },
  {
   "cell_type": "markdown",
   "metadata": {},
   "source": [
    "### Training Evaluation of Extra Trees Regressor\n",
    "Mean squared error and root mean squared errors are error margin metrics for regression models. Refer to root mean squared error for a closer error margin to original metric"
   ]
  },
  {
   "cell_type": "code",
   "execution_count": 30,
   "metadata": {},
   "outputs": [
    {
     "name": "stdout",
     "output_type": "stream",
     "text": [
      "Mean Squared Error: 0.00011631471703348136\n",
      "Root Squared Error: 0.010784930089410935\n"
     ]
    }
   ],
   "source": [
    "mse = mean_squared_error(Y_test_Regression, y_pred_ET)\n",
    "print(\"Mean Squared Error:\", mse)\n",
    "rmse = math.sqrt(mse)\n",
    "print(\"Root Squared Error:\", rmse)"
   ]
  },
  {
   "cell_type": "markdown",
   "metadata": {},
   "source": [
    "Check for generalization of data and if data is able to capture underlying pattern properly. This is done with a learning curve, with a negative mean squared metric. If the training and validation lines converge at a low error rate, that means that the model is well generalized and captures patterns properly"
   ]
  },
  {
   "cell_type": "code",
   "execution_count": null,
   "metadata": {},
   "outputs": [],
   "source": [
    "# # Calculate the learning curves\n",
    "# train_sizes, train_scores, val_scores = learning_curve(model_ExtraTrees, X_train_Regression, Y_train_Regression, cv=5, scoring='neg_mean_squared_error')\n",
    "\n",
    "# # Calculate the mean and standard deviation of train and validation scores\n",
    "# train_mean = -np.mean(train_scores, axis=1)\n",
    "# train_std = np.std(train_scores, axis=1)\n",
    "# val_mean = -np.mean(val_scores, axis=1)\n",
    "# val_std = np.std(val_scores, axis=1)"
   ]
  },
  {
   "cell_type": "code",
   "execution_count": null,
   "metadata": {},
   "outputs": [],
   "source": [
    "# # Plot the learning curves\n",
    "# plt.figure(figsize=(10, 7))\n",
    "# plt.plot(train_sizes, train_mean, label='Training score', color='blue')\n",
    "# plt.fill_between(train_sizes, train_mean - train_std, train_mean + train_std, alpha=0.1, color='blue')\n",
    "# plt.plot(train_sizes, val_mean, label='Validation score', color='red')\n",
    "# plt.fill_between(train_sizes, val_mean - val_std, val_mean + val_std, alpha=0.1, color='red')\n",
    "# plt.xlabel('Training Set Size')\n",
    "# plt.ylabel('Negative Mean Squared Error')\n",
    "# plt.title('Learning Curve for Extra Trees')\n",
    "# plt.legend(loc='best')\n",
    "# plt.show()"
   ]
  },
  {
   "cell_type": "markdown",
   "metadata": {},
   "source": [
    "### Model Visualization of Extra Trees Regressor"
   ]
  },
  {
   "cell_type": "code",
   "execution_count": 31,
   "metadata": {},
   "outputs": [
    {
     "data": {
      "image/png": "[encoded data removed]",
      "text/plain": [
       "<Figure size 1500x500 with 3 Axes>"
      ]
     },
     "metadata": {},
     "output_type": "display_data"
    }
   ],
   "source": [
    "# Plotting the scatterplot\n",
    "fig, ax = plt.subplots(1, 3, figsize=(15, 5))\n",
    "\n",
    "# Plotting for each target variable\n",
    "for i, target in enumerate(Y_features_Regression.columns):\n",
    "    ax[i].scatter(Y_test_Regression[target], y_pred_ET[:, i], alpha=0.5)\n",
    "    ax[i].plot([Y_test_Regression[target].min(), Y_test_Regression[target].max()], [Y_test_Regression[target].min(), Y_test_Regression[target].max()], 'r--')\n",
    "    ax[i].set_xlabel('Actual ' + target)\n",
    "    ax[i].set_ylabel('Predicted ' + target)\n",
    "\n",
    "plt.suptitle('Actual vs Predicted Y for Extra Trees Regressor')\n",
    "plt.tight_layout()\n",
    "plt.show()"
   ]
  },
  {
   "cell_type": "code",
   "execution_count": 32,
   "metadata": {},
   "outputs": [
    {
     "data": {
      "text/plain": [
       "'interactive_models/extra_trees_limited_model.html'"
      ]
     },
     "execution_count": 32,
     "metadata": {},
     "output_type": "execute_result"
    }
   ],
   "source": [
    "# Create traces for actual and predicted values\n",
    "actual_trace = go.Scatter3d(\n",
    "    x=Y_test_Regression['SHUTTLECOCK POSITIION IN AIR(X) metres'],\n",
    "    y=Y_test_Regression['SHUTTLECOCK POSITIION IN AIR(Y) metres'],\n",
    "    z=Y_test_Regression['SHUTTLECOCK POSITIION IN AIR(Z) metres'],\n",
    "    name='Actual',\n",
    "    mode='markers',\n",
    "    marker=dict(\n",
    "        color='blue',\n",
    "        size=3,\n",
    "        symbol='circle'\n",
    "    )\n",
    ")\n",
    "\n",
    "predicted_trace = go.Scatter3d(\n",
    "    x=y_pred_ET[:, 0],\n",
    "    y=y_pred_ET[:, 1],\n",
    "    z=y_pred_ET[:, 2],\n",
    "    name='Predicted',\n",
    "    mode='markers',\n",
    "    marker=dict(\n",
    "        color='red',\n",
    "        size=3,\n",
    "        symbol='circle'\n",
    "    )\n",
    ")\n",
    "\n",
    "# Create layout\n",
    "layout = go.Layout(\n",
    "    title='Actual vs Predicted Shuttlecock Positions for Extra Trees Regressor',\n",
    "    scene=dict(\n",
    "        xaxis=dict(title='X'),\n",
    "        yaxis=dict(title='Y'),\n",
    "        zaxis=dict(title='Z')\n",
    "    )\n",
    ")\n",
    "\n",
    "# Create figure\n",
    "fig = go.Figure(data=[actual_trace, predicted_trace], layout=layout)\n",
    "\n",
    "# Save the plot as an HTML file\n",
    "plot(fig, filename='interactive_models/extra_trees_limited_model.html')"
   ]
  },
  {
   "cell_type": "markdown",
   "metadata": {},
   "source": [
    "## Stage: Actual Testing with First Coordinate\n",
    "To actually test if all the models work, the first point of an observation group will be used for testing. Test will be randomized and based on observation group. Assuming that we will know the sequence order of the observation since they are ordered, OBSERVATION NUMBER will be used to identify the first observation"
   ]
  },
  {
   "cell_type": "code",
   "execution_count": 33,
   "metadata": {},
   "outputs": [
    {
     "name": "stdout",
     "output_type": "stream",
     "text": [
      "Selected Observation Group Number is : 431\n"
     ]
    },
    {
     "data": {
      "text/html": [
       "<div>\n",
       "<style scoped>\n",
       "    .dataframe tbody tr th:only-of-type {\n",
       "        vertical-align: middle;\n",
       "    }\n",
       "\n",
       "    .dataframe tbody tr th {\n",
       "        vertical-align: top;\n",
       "    }\n",
       "\n",
       "    .dataframe thead th {\n",
       "        text-align: right;\n",
       "    }\n",
       "</style>\n",
       "<table border=\"1\" class=\"dataframe\">\n",
       "  <thead>\n",
       "    <tr style=\"text-align: right;\">\n",
       "      <th></th>\n",
       "      <th>SHUTTLECOCK POSITIION IN AIR(X) metres</th>\n",
       "      <th>SHUTTLECOCK POSITIION IN AIR(Y) metres</th>\n",
       "      <th>SHUTTLECOCK POSITIION IN AIR(Z) metres</th>\n",
       "      <th>OBSERVATION NUMBER</th>\n",
       "    </tr>\n",
       "  </thead>\n",
       "  <tbody>\n",
       "    <tr>\n",
       "      <th>47606</th>\n",
       "      <td>4.07575</td>\n",
       "      <td>1.021721</td>\n",
       "      <td>2.662956</td>\n",
       "      <td>1.0</td>\n",
       "    </tr>\n",
       "  </tbody>\n",
       "</table>\n",
       "</div>"
      ],
      "text/plain": [
       "       SHUTTLECOCK POSITIION IN AIR(X) metres  \\\n",
       "47606                                 4.07575   \n",
       "\n",
       "       SHUTTLECOCK POSITIION IN AIR(Y) metres  \\\n",
       "47606                                1.021721   \n",
       "\n",
       "       SHUTTLECOCK POSITIION IN AIR(Z) metres  OBSERVATION NUMBER  \n",
       "47606                                2.662956                 1.0  "
      ]
     },
     "execution_count": 33,
     "metadata": {},
     "output_type": "execute_result"
    }
   ],
   "source": [
    "import random\n",
    "# copied to avoid alterations to cleaned data\n",
    "test_data = temp_data.copy()\n",
    "\n",
    "# choose a random from the observation groups to test\n",
    "unique_observation_grps = test_data['OBSERVATION GROUP NUMBER'].nunique()\n",
    "selected_test_num = random.randint(1, unique_observation_grps)\n",
    "print(\"Selected Observation Group Number is :\", selected_test_num)\n",
    "\n",
    "# alternatively can hardcode to replicate results\n",
    "# selected_test_num = ?\n",
    "\n",
    "# retrieve all the rows from the data related to randomly selected row\n",
    "y_actual_records = test_data[test_data['OBSERVATION GROUP NUMBER'] == selected_test_num]\n",
    "\n",
    "# get the first coordinate of selected observation for input\n",
    "y_first_coord = y_actual_records.head(1)\n",
    "y_first_coord = y_first_coord[['SHUTTLECOCK POSITIION IN AIR(X) metres', 'SHUTTLECOCK POSITIION IN AIR(Y) metres', 'SHUTTLECOCK POSITIION IN AIR(Z) metres', 'OBSERVATION NUMBER']]\n",
    "\n",
    "# show the test data\n",
    "y_first_coord\n"
   ]
  },
  {
   "cell_type": "markdown",
   "metadata": {},
   "source": [
    "### Generate Features for Input\n",
    "Generate human initial position"
   ]
  },
  {
   "cell_type": "code",
   "execution_count": 34,
   "metadata": {},
   "outputs": [
    {
     "data": {
      "text/html": [
       "<div>\n",
       "<style scoped>\n",
       "    .dataframe tbody tr th:only-of-type {\n",
       "        vertical-align: middle;\n",
       "    }\n",
       "\n",
       "    .dataframe tbody tr th {\n",
       "        vertical-align: top;\n",
       "    }\n",
       "\n",
       "    .dataframe thead th {\n",
       "        text-align: right;\n",
       "    }\n",
       "</style>\n",
       "<table border=\"1\" class=\"dataframe\">\n",
       "  <thead>\n",
       "    <tr style=\"text-align: right;\">\n",
       "      <th></th>\n",
       "      <th>SHUTTLECOCK POSITIION IN AIR(X) metres</th>\n",
       "      <th>SHUTTLECOCK POSITIION IN AIR(Y) metres</th>\n",
       "      <th>SHUTTLECOCK POSITIION IN AIR(Z) metres</th>\n",
       "      <th>OBSERVATION NUMBER</th>\n",
       "      <th>HUMAN PLAYER POSITION (X) metres</th>\n",
       "      <th>HUMAN PLAYER POSITION (Y) metres</th>\n",
       "      <th>HUMAN PLAYER POSITION (Z) metres</th>\n",
       "    </tr>\n",
       "  </thead>\n",
       "  <tbody>\n",
       "    <tr>\n",
       "      <th>47606</th>\n",
       "      <td>4.07575</td>\n",
       "      <td>1.021721</td>\n",
       "      <td>2.662956</td>\n",
       "      <td>1.0</td>\n",
       "      <td>4</td>\n",
       "      <td>1.0</td>\n",
       "      <td>2.6</td>\n",
       "    </tr>\n",
       "  </tbody>\n",
       "</table>\n",
       "</div>"
      ],
      "text/plain": [
       "       SHUTTLECOCK POSITIION IN AIR(X) metres  \\\n",
       "47606                                 4.07575   \n",
       "\n",
       "       SHUTTLECOCK POSITIION IN AIR(Y) metres  \\\n",
       "47606                                1.021721   \n",
       "\n",
       "       SHUTTLECOCK POSITIION IN AIR(Z) metres  OBSERVATION NUMBER  \\\n",
       "47606                                2.662956                 1.0   \n",
       "\n",
       "       HUMAN PLAYER POSITION (X) metres  HUMAN PLAYER POSITION (Y) metres  \\\n",
       "47606                                 4                               1.0   \n",
       "\n",
       "       HUMAN PLAYER POSITION (Z) metres  \n",
       "47606                               2.6  "
      ]
     },
     "execution_count": 34,
     "metadata": {},
     "output_type": "execute_result"
    }
   ],
   "source": [
    "# Generate Initial Human Position\n",
    "rounded_value_x = math.floor(y_first_coord['SHUTTLECOCK POSITIION IN AIR(X) metres'])\n",
    "rounded_value_y = round(y_first_coord['SHUTTLECOCK POSITIION IN AIR(Y) metres'])\n",
    "rounded_value_z = y_first_coord['SHUTTLECOCK POSITIION IN AIR(Z) metres'].apply(lambda x: min(1.6, 2.6, key=lambda y: abs(y - x)))\n",
    "# rounded_value_z = min(1.6, 2.6, key=lambda x: abs(x - y_first_coord['SHUTTLECOCK POSITIION IN AIR(Z) metres']))\n",
    "\n",
    "y_first_coord['HUMAN PLAYER POSITION (X) metres'] = rounded_value_x\n",
    "y_first_coord['HUMAN PLAYER POSITION (Y) metres'] = rounded_value_y\n",
    "y_first_coord['HUMAN PLAYER POSITION (Z) metres'] = rounded_value_z\n",
    "\n",
    "y_first_coord"
   ]
  },
  {
   "cell_type": "markdown",
   "metadata": {},
   "source": [
    "Generate initial velocity, slant angle, firing angle"
   ]
  },
  {
   "cell_type": "code",
   "execution_count": 35,
   "metadata": {},
   "outputs": [
    {
     "data": {
      "text/html": [
       "<div>\n",
       "<style scoped>\n",
       "    .dataframe tbody tr th:only-of-type {\n",
       "        vertical-align: middle;\n",
       "    }\n",
       "\n",
       "    .dataframe tbody tr th {\n",
       "        vertical-align: top;\n",
       "    }\n",
       "\n",
       "    .dataframe thead th {\n",
       "        text-align: right;\n",
       "    }\n",
       "</style>\n",
       "<table border=\"1\" class=\"dataframe\">\n",
       "  <thead>\n",
       "    <tr style=\"text-align: right;\">\n",
       "      <th></th>\n",
       "      <th>SHUTTLECOCK POSITIION IN AIR(X) metres</th>\n",
       "      <th>SHUTTLECOCK POSITIION IN AIR(Y) metres</th>\n",
       "      <th>SHUTTLECOCK POSITIION IN AIR(Z) metres</th>\n",
       "      <th>OBSERVATION NUMBER</th>\n",
       "      <th>HUMAN PLAYER POSITION (X) metres</th>\n",
       "      <th>HUMAN PLAYER POSITION (Y) metres</th>\n",
       "      <th>HUMAN PLAYER POSITION (Z) metres</th>\n",
       "      <th>INITIAL SHUTTELCOCK FIRING ANGLE (DEGREE)</th>\n",
       "      <th>INITIAL SHUTTELCOCK SLANT ANGLE TO SIDELINE(DEGREE)</th>\n",
       "      <th>INITITAL VELOCITY OF SHUTTELCOCK(m/s)</th>\n",
       "    </tr>\n",
       "  </thead>\n",
       "  <tbody>\n",
       "    <tr>\n",
       "      <th>47606</th>\n",
       "      <td>4.07575</td>\n",
       "      <td>1.021721</td>\n",
       "      <td>2.662956</td>\n",
       "      <td>1.0</td>\n",
       "      <td>4</td>\n",
       "      <td>1.0</td>\n",
       "      <td>2.6</td>\n",
       "      <td>50</td>\n",
       "      <td>16</td>\n",
       "      <td>1</td>\n",
       "    </tr>\n",
       "  </tbody>\n",
       "</table>\n",
       "</div>"
      ],
      "text/plain": [
       "       SHUTTLECOCK POSITIION IN AIR(X) metres  \\\n",
       "47606                                 4.07575   \n",
       "\n",
       "       SHUTTLECOCK POSITIION IN AIR(Y) metres  \\\n",
       "47606                                1.021721   \n",
       "\n",
       "       SHUTTLECOCK POSITIION IN AIR(Z) metres  OBSERVATION NUMBER  \\\n",
       "47606                                2.662956                 1.0   \n",
       "\n",
       "       HUMAN PLAYER POSITION (X) metres  HUMAN PLAYER POSITION (Y) metres  \\\n",
       "47606                                 4                               1.0   \n",
       "\n",
       "       HUMAN PLAYER POSITION (Z) metres  \\\n",
       "47606                               2.6   \n",
       "\n",
       "       INITIAL SHUTTELCOCK FIRING ANGLE (DEGREE)  \\\n",
       "47606                                         50   \n",
       "\n",
       "       INITIAL SHUTTELCOCK SLANT ANGLE TO SIDELINE(DEGREE)  \\\n",
       "47606                                                 16     \n",
       "\n",
       "       INITITAL VELOCITY OF SHUTTELCOCK(m/s)  \n",
       "47606                                      1  "
      ]
     },
     "execution_count": 35,
     "metadata": {},
     "output_type": "execute_result"
    }
   ],
   "source": [
    "# calculate displacement\n",
    "X_displacement_test = y_first_coord['SHUTTLECOCK POSITIION IN AIR(X) metres'] - y_first_coord['HUMAN PLAYER POSITION (X) metres']\n",
    "Y_displacement_test = y_first_coord['SHUTTLECOCK POSITIION IN AIR(Y) metres'] - y_first_coord['HUMAN PLAYER POSITION (Y) metres'] \n",
    "Z_displacement_test = y_first_coord['SHUTTLECOCK POSITIION IN AIR(Z) metres'] - y_first_coord['HUMAN PLAYER POSITION (Z) metres']\n",
    "\n",
    "# calculate initial firing angle\n",
    "firing_angle_radians = math.atan(X_displacement_test / Z_displacement_test)\n",
    "firing_angle_degrees = math.degrees(firing_angle_radians)\n",
    "# round to nearest 10 for firing angle\n",
    "y_first_coord['INITIAL SHUTTELCOCK FIRING ANGLE (DEGREE)'] = round(firing_angle_degrees / 10) * 10\n",
    "\n",
    "# calculate initial slant angle\n",
    "slant_angle_radians = math.atan(Y_displacement_test / X_displacement_test)\n",
    "slant_angle_degrees = math.degrees(slant_angle_radians)\n",
    "y_first_coord['INITIAL SHUTTELCOCK SLANT ANGLE TO SIDELINE(DEGREE)'] = round(slant_angle_degrees)\n",
    "\n",
    "# Calculate the initial velocity (v₀)\n",
    "time_elapsed = 0.1\n",
    "displacement = math.sqrt(X_displacement_test**2 + Y_displacement_test**2 + Z_displacement_test**2)\n",
    "initial_velocity = round(displacement/time_elapsed)\n",
    "# round to nearest 10 for velocity\n",
    "y_first_coord['INITITAL VELOCITY OF SHUTTELCOCK(m/s)'] = initial_velocity\n",
    "y_first_coord"
   ]
  },
  {
   "cell_type": "markdown",
   "metadata": {},
   "source": [
    "Predict number of observations within a Trajectory for test record"
   ]
  },
  {
   "cell_type": "code",
   "execution_count": 36,
   "metadata": {},
   "outputs": [
    {
     "name": "stdout",
     "output_type": "stream",
     "text": [
      "Predicted observation is : 128\n",
      "Actual number of observations is : 128\n"
     ]
    }
   ],
   "source": [
    "# select the input features we want to feed into the decision tree model to prediction observation\n",
    "X_actual_test_DT = y_first_coord[['HUMAN PLAYER POSITION (X) metres', \n",
    "                                    'HUMAN PLAYER POSITION (Y) metres',\n",
    "                                    'HUMAN PLAYER POSITION (Z) metres', \n",
    "                                    'INITITAL VELOCITY OF SHUTTELCOCK(m/s)', \n",
    "                                    'INITIAL SHUTTELCOCK FIRING ANGLE (DEGREE)', \n",
    "                                    'INITIAL SHUTTELCOCK SLANT ANGLE TO SIDELINE(DEGREE)']]\n",
    "\n",
    "predicted_observation = int(model_decisionTree.predict(X_actual_test_DT))\n",
    "print(\"Predicted observation is :\", predicted_observation)\n",
    "print(\"Actual number of observations is :\", len(y_actual_records))"
   ]
  },
  {
   "cell_type": "markdown",
   "metadata": {},
   "source": [
    "Prepare input features to be fed into Regressor Models"
   ]
  },
  {
   "cell_type": "code",
   "execution_count": 37,
   "metadata": {},
   "outputs": [
    {
     "data": {
      "text/plain": [
       "[[4.0, 1.0, 2.6, 1.0, 50.0, 16.0, 1],\n",
       " [4.0, 1.0, 2.6, 1.0, 50.0, 16.0, 2],\n",
       " [4.0, 1.0, 2.6, 1.0, 50.0, 16.0, 3],\n",
       " [4.0, 1.0, 2.6, 1.0, 50.0, 16.0, 4],\n",
       " [4.0, 1.0, 2.6, 1.0, 50.0, 16.0, 5],\n",
       " [4.0, 1.0, 2.6, 1.0, 50.0, 16.0, 6],\n",
       " [4.0, 1.0, 2.6, 1.0, 50.0, 16.0, 7],\n",
       " [4.0, 1.0, 2.6, 1.0, 50.0, 16.0, 8],\n",
       " [4.0, 1.0, 2.6, 1.0, 50.0, 16.0, 9],\n",
       " [4.0, 1.0, 2.6, 1.0, 50.0, 16.0, 10],\n",
       " [4.0, 1.0, 2.6, 1.0, 50.0, 16.0, 11],\n",
       " [4.0, 1.0, 2.6, 1.0, 50.0, 16.0, 12],\n",
       " [4.0, 1.0, 2.6, 1.0, 50.0, 16.0, 13],\n",
       " [4.0, 1.0, 2.6, 1.0, 50.0, 16.0, 14],\n",
       " [4.0, 1.0, 2.6, 1.0, 50.0, 16.0, 15],\n",
       " [4.0, 1.0, 2.6, 1.0, 50.0, 16.0, 16],\n",
       " [4.0, 1.0, 2.6, 1.0, 50.0, 16.0, 17],\n",
       " [4.0, 1.0, 2.6, 1.0, 50.0, 16.0, 18],\n",
       " [4.0, 1.0, 2.6, 1.0, 50.0, 16.0, 19],\n",
       " [4.0, 1.0, 2.6, 1.0, 50.0, 16.0, 20],\n",
       " [4.0, 1.0, 2.6, 1.0, 50.0, 16.0, 21],\n",
       " [4.0, 1.0, 2.6, 1.0, 50.0, 16.0, 22],\n",
       " [4.0, 1.0, 2.6, 1.0, 50.0, 16.0, 23],\n",
       " [4.0, 1.0, 2.6, 1.0, 50.0, 16.0, 24],\n",
       " [4.0, 1.0, 2.6, 1.0, 50.0, 16.0, 25],\n",
       " [4.0, 1.0, 2.6, 1.0, 50.0, 16.0, 26],\n",
       " [4.0, 1.0, 2.6, 1.0, 50.0, 16.0, 27],\n",
       " [4.0, 1.0, 2.6, 1.0, 50.0, 16.0, 28],\n",
       " [4.0, 1.0, 2.6, 1.0, 50.0, 16.0, 29],\n",
       " [4.0, 1.0, 2.6, 1.0, 50.0, 16.0, 30],\n",
       " [4.0, 1.0, 2.6, 1.0, 50.0, 16.0, 31],\n",
       " [4.0, 1.0, 2.6, 1.0, 50.0, 16.0, 32],\n",
       " [4.0, 1.0, 2.6, 1.0, 50.0, 16.0, 33],\n",
       " [4.0, 1.0, 2.6, 1.0, 50.0, 16.0, 34],\n",
       " [4.0, 1.0, 2.6, 1.0, 50.0, 16.0, 35],\n",
       " [4.0, 1.0, 2.6, 1.0, 50.0, 16.0, 36],\n",
       " [4.0, 1.0, 2.6, 1.0, 50.0, 16.0, 37],\n",
       " [4.0, 1.0, 2.6, 1.0, 50.0, 16.0, 38],\n",
       " [4.0, 1.0, 2.6, 1.0, 50.0, 16.0, 39],\n",
       " [4.0, 1.0, 2.6, 1.0, 50.0, 16.0, 40],\n",
       " [4.0, 1.0, 2.6, 1.0, 50.0, 16.0, 41],\n",
       " [4.0, 1.0, 2.6, 1.0, 50.0, 16.0, 42],\n",
       " [4.0, 1.0, 2.6, 1.0, 50.0, 16.0, 43],\n",
       " [4.0, 1.0, 2.6, 1.0, 50.0, 16.0, 44],\n",
       " [4.0, 1.0, 2.6, 1.0, 50.0, 16.0, 45],\n",
       " [4.0, 1.0, 2.6, 1.0, 50.0, 16.0, 46],\n",
       " [4.0, 1.0, 2.6, 1.0, 50.0, 16.0, 47],\n",
       " [4.0, 1.0, 2.6, 1.0, 50.0, 16.0, 48],\n",
       " [4.0, 1.0, 2.6, 1.0, 50.0, 16.0, 49],\n",
       " [4.0, 1.0, 2.6, 1.0, 50.0, 16.0, 50],\n",
       " [4.0, 1.0, 2.6, 1.0, 50.0, 16.0, 51],\n",
       " [4.0, 1.0, 2.6, 1.0, 50.0, 16.0, 52],\n",
       " [4.0, 1.0, 2.6, 1.0, 50.0, 16.0, 53],\n",
       " [4.0, 1.0, 2.6, 1.0, 50.0, 16.0, 54],\n",
       " [4.0, 1.0, 2.6, 1.0, 50.0, 16.0, 55],\n",
       " [4.0, 1.0, 2.6, 1.0, 50.0, 16.0, 56],\n",
       " [4.0, 1.0, 2.6, 1.0, 50.0, 16.0, 57],\n",
       " [4.0, 1.0, 2.6, 1.0, 50.0, 16.0, 58],\n",
       " [4.0, 1.0, 2.6, 1.0, 50.0, 16.0, 59],\n",
       " [4.0, 1.0, 2.6, 1.0, 50.0, 16.0, 60],\n",
       " [4.0, 1.0, 2.6, 1.0, 50.0, 16.0, 61],\n",
       " [4.0, 1.0, 2.6, 1.0, 50.0, 16.0, 62],\n",
       " [4.0, 1.0, 2.6, 1.0, 50.0, 16.0, 63],\n",
       " [4.0, 1.0, 2.6, 1.0, 50.0, 16.0, 64],\n",
       " [4.0, 1.0, 2.6, 1.0, 50.0, 16.0, 65],\n",
       " [4.0, 1.0, 2.6, 1.0, 50.0, 16.0, 66],\n",
       " [4.0, 1.0, 2.6, 1.0, 50.0, 16.0, 67],\n",
       " [4.0, 1.0, 2.6, 1.0, 50.0, 16.0, 68],\n",
       " [4.0, 1.0, 2.6, 1.0, 50.0, 16.0, 69],\n",
       " [4.0, 1.0, 2.6, 1.0, 50.0, 16.0, 70],\n",
       " [4.0, 1.0, 2.6, 1.0, 50.0, 16.0, 71],\n",
       " [4.0, 1.0, 2.6, 1.0, 50.0, 16.0, 72],\n",
       " [4.0, 1.0, 2.6, 1.0, 50.0, 16.0, 73],\n",
       " [4.0, 1.0, 2.6, 1.0, 50.0, 16.0, 74],\n",
       " [4.0, 1.0, 2.6, 1.0, 50.0, 16.0, 75],\n",
       " [4.0, 1.0, 2.6, 1.0, 50.0, 16.0, 76],\n",
       " [4.0, 1.0, 2.6, 1.0, 50.0, 16.0, 77],\n",
       " [4.0, 1.0, 2.6, 1.0, 50.0, 16.0, 78],\n",
       " [4.0, 1.0, 2.6, 1.0, 50.0, 16.0, 79],\n",
       " [4.0, 1.0, 2.6, 1.0, 50.0, 16.0, 80],\n",
       " [4.0, 1.0, 2.6, 1.0, 50.0, 16.0, 81],\n",
       " [4.0, 1.0, 2.6, 1.0, 50.0, 16.0, 82],\n",
       " [4.0, 1.0, 2.6, 1.0, 50.0, 16.0, 83],\n",
       " [4.0, 1.0, 2.6, 1.0, 50.0, 16.0, 84],\n",
       " [4.0, 1.0, 2.6, 1.0, 50.0, 16.0, 85],\n",
       " [4.0, 1.0, 2.6, 1.0, 50.0, 16.0, 86],\n",
       " [4.0, 1.0, 2.6, 1.0, 50.0, 16.0, 87],\n",
       " [4.0, 1.0, 2.6, 1.0, 50.0, 16.0, 88],\n",
       " [4.0, 1.0, 2.6, 1.0, 50.0, 16.0, 89],\n",
       " [4.0, 1.0, 2.6, 1.0, 50.0, 16.0, 90],\n",
       " [4.0, 1.0, 2.6, 1.0, 50.0, 16.0, 91],\n",
       " [4.0, 1.0, 2.6, 1.0, 50.0, 16.0, 92],\n",
       " [4.0, 1.0, 2.6, 1.0, 50.0, 16.0, 93],\n",
       " [4.0, 1.0, 2.6, 1.0, 50.0, 16.0, 94],\n",
       " [4.0, 1.0, 2.6, 1.0, 50.0, 16.0, 95],\n",
       " [4.0, 1.0, 2.6, 1.0, 50.0, 16.0, 96],\n",
       " [4.0, 1.0, 2.6, 1.0, 50.0, 16.0, 97],\n",
       " [4.0, 1.0, 2.6, 1.0, 50.0, 16.0, 98],\n",
       " [4.0, 1.0, 2.6, 1.0, 50.0, 16.0, 99],\n",
       " [4.0, 1.0, 2.6, 1.0, 50.0, 16.0, 100],\n",
       " [4.0, 1.0, 2.6, 1.0, 50.0, 16.0, 101],\n",
       " [4.0, 1.0, 2.6, 1.0, 50.0, 16.0, 102],\n",
       " [4.0, 1.0, 2.6, 1.0, 50.0, 16.0, 103],\n",
       " [4.0, 1.0, 2.6, 1.0, 50.0, 16.0, 104],\n",
       " [4.0, 1.0, 2.6, 1.0, 50.0, 16.0, 105],\n",
       " [4.0, 1.0, 2.6, 1.0, 50.0, 16.0, 106],\n",
       " [4.0, 1.0, 2.6, 1.0, 50.0, 16.0, 107],\n",
       " [4.0, 1.0, 2.6, 1.0, 50.0, 16.0, 108],\n",
       " [4.0, 1.0, 2.6, 1.0, 50.0, 16.0, 109],\n",
       " [4.0, 1.0, 2.6, 1.0, 50.0, 16.0, 110],\n",
       " [4.0, 1.0, 2.6, 1.0, 50.0, 16.0, 111],\n",
       " [4.0, 1.0, 2.6, 1.0, 50.0, 16.0, 112],\n",
       " [4.0, 1.0, 2.6, 1.0, 50.0, 16.0, 113],\n",
       " [4.0, 1.0, 2.6, 1.0, 50.0, 16.0, 114],\n",
       " [4.0, 1.0, 2.6, 1.0, 50.0, 16.0, 115],\n",
       " [4.0, 1.0, 2.6, 1.0, 50.0, 16.0, 116],\n",
       " [4.0, 1.0, 2.6, 1.0, 50.0, 16.0, 117],\n",
       " [4.0, 1.0, 2.6, 1.0, 50.0, 16.0, 118],\n",
       " [4.0, 1.0, 2.6, 1.0, 50.0, 16.0, 119],\n",
       " [4.0, 1.0, 2.6, 1.0, 50.0, 16.0, 120],\n",
       " [4.0, 1.0, 2.6, 1.0, 50.0, 16.0, 121],\n",
       " [4.0, 1.0, 2.6, 1.0, 50.0, 16.0, 122],\n",
       " [4.0, 1.0, 2.6, 1.0, 50.0, 16.0, 123],\n",
       " [4.0, 1.0, 2.6, 1.0, 50.0, 16.0, 124],\n",
       " [4.0, 1.0, 2.6, 1.0, 50.0, 16.0, 125],\n",
       " [4.0, 1.0, 2.6, 1.0, 50.0, 16.0, 126],\n",
       " [4.0, 1.0, 2.6, 1.0, 50.0, 16.0, 127],\n",
       " [4.0, 1.0, 2.6, 1.0, 50.0, 16.0, 128]]"
      ]
     },
     "execution_count": 37,
     "metadata": {},
     "output_type": "execute_result"
    }
   ],
   "source": [
    "# container to store prepared input features we want to feed into the regression model to predict entire trajectory x, y, z coordinates\n",
    "X_actual_test_Regressor = []\n",
    "# select x features and change the observation number accordingly and add into container\n",
    "for obs_num in range(1, predicted_observation+1):\n",
    "    temp = (y_first_coord[['HUMAN PLAYER POSITION (X) metres', \n",
    "                            'HUMAN PLAYER POSITION (Y) metres',\n",
    "                            'HUMAN PLAYER POSITION (Z) metres',\n",
    "                            'INITITAL VELOCITY OF SHUTTELCOCK(m/s)', \n",
    "                            'INITIAL SHUTTELCOCK FIRING ANGLE (DEGREE)', \n",
    "                            'INITIAL SHUTTELCOCK SLANT ANGLE TO SIDELINE(DEGREE)']]).values.tolist()\n",
    "    temp_obs_row = temp[:5][0]\n",
    "    temp_obs_row.append(obs_num)\n",
    "    X_actual_test_Regressor.append(temp_obs_row)\n",
    "X_actual_test_Regressor"
   ]
  },
  {
   "cell_type": "code",
   "execution_count": 38,
   "metadata": {},
   "outputs": [],
   "source": [
    "# Get array into dataframe format\n",
    "column_names = [\n",
    "    'HUMAN PLAYER POSITION (X) metres',\n",
    "    'HUMAN PLAYER POSITION (Y) metres',\n",
    "    'HUMAN PLAYER POSITION (Z) metres',\n",
    "    'INITITAL VELOCITY OF SHUTTELCOCK(m/s)',\n",
    "    'INITIAL SHUTTELCOCK FIRING ANGLE (DEGREE)',\n",
    "    'INITIAL SHUTTELCOCK SLANT ANGLE TO SIDELINE(DEGREE)',\n",
    "    'OBSERVATION NUMBER'\n",
    "]\n",
    "X_actual_test_Regressor_DF = pd.DataFrame(X_actual_test_Regressor, columns = column_names)"
   ]
  },
  {
   "cell_type": "markdown",
   "metadata": {},
   "source": [
    "Predict the Trajectory using Trained Models, outputs an array of predicted shuttlecock trajectory coordinates"
   ]
  },
  {
   "cell_type": "code",
   "execution_count": 39,
   "metadata": {},
   "outputs": [],
   "source": [
    "# prediction using random forest regression\n",
    "predicted_trajectory_points_RT = model_randomForest.predict(X_actual_test_Regressor_DF)\n",
    "# prediction using extra trees regression\n",
    "predicted_trajectory_points_ET = model_ExtraTrees.predict(X_actual_test_Regressor_DF)"
   ]
  },
  {
   "cell_type": "markdown",
   "metadata": {},
   "source": [
    "### Overall Evaluation for all Regression Models"
   ]
  },
  {
   "cell_type": "code",
   "execution_count": 40,
   "metadata": {},
   "outputs": [
    {
     "name": "stdout",
     "output_type": "stream",
     "text": [
      "Mean Square Error of the Random Forest Tree Regressor is : 0.00011213764101391465\n",
      "Root Mean Square Error of the Random Forest Tree Regressor is : 0.01058950617422336\n",
      "Mean Square Error of the Extra Trees Regressor is : 8.333496453603877e-06\n",
      "Root Mean Square Error of the Extra Trees Regressor is : 0.0028867795990695022\n"
     ]
    }
   ],
   "source": [
    "# Do an error evaluation\n",
    "y_actual_coords = y_actual_records[['SHUTTLECOCK POSITIION IN AIR(X) metres', 'SHUTTLECOCK POSITIION IN AIR(Y) metres', 'SHUTTLECOCK POSITIION IN AIR(Z) metres']]\n",
    "\n",
    "mse_actual_RT = mean_squared_error(y_actual_coords, predicted_trajectory_points_RT)\n",
    "rmse_actual_RT = math.sqrt(mse_actual_RT)\n",
    "print(\"Mean Square Error of the Random Forest Tree Regressor is :\", mse_actual_RT)\n",
    "print(\"Root Mean Square Error of the Random Forest Tree Regressor is :\", rmse_actual_RT)\n",
    "\n",
    "mse_actual_ET = mean_squared_error(y_actual_coords, predicted_trajectory_points_ET)\n",
    "rmse_actual_ET = math.sqrt(mse_actual_ET)\n",
    "print(\"Mean Square Error of the Extra Trees Regressor is :\", mse_actual_ET)\n",
    "print(\"Root Mean Square Error of the Extra Trees Regressor is :\", rmse_actual_ET)"
   ]
  },
  {
   "cell_type": "markdown",
   "metadata": {},
   "source": [
    "Static Visualization of Shuttlecock Trajectory in a Court"
   ]
  },
  {
   "cell_type": "code",
   "execution_count": null,
   "metadata": {},
   "outputs": [],
   "source": [
    "#Court Constants\n",
    "_HEIGHT_SKYBOX_M_ = 10\n",
    "_HEIGHT_NET_M_ = 1.55\n",
    "_HEIGHT_ROBOTBADMINTON_CENTER_M_ = 1.1\n",
    "\n",
    "_LENGTH_COURT_X_M_ = 13.4\n",
    "_LENGTH_COURT_Y_M_ = 5.18\n",
    "_LENGTH_CENTERLINE_M_ = 4.68\n",
    "\n",
    "_COURT_BOUNDARY_TOP_ = [\n",
    " (0,0),\n",
    " (0, _LENGTH_COURT_Y_M_)\n",
    "]\n",
    "_COURT_BOUNDARY_BOTTOM_ = [\n",
    " (_LENGTH_COURT_X_M_, 0),\n",
    " (_LENGTH_COURT_X_M_, _LENGTH_COURT_Y_M_)\n",
    "]\n",
    "_COURT_BOUNDARY_LEFT_ = [\n",
    " (0,0),\n",
    " (_LENGTH_COURT_X_M_, 0)\n",
    "]\n",
    "_COURT_BOUNDARY_RIGHT_ = [\n",
    " (0, _LENGTH_COURT_Y_M_),\n",
    " (_LENGTH_COURT_X_M_, _LENGTH_COURT_Y_M_)\n",
    "]\n",
    "\n",
    "_COURT_CENTRELINE01_ = [\n",
    " (0, (_LENGTH_COURT_Y_M_/2)),\n",
    " (_LENGTH_CENTERLINE_M_, (_LENGTH_COURT_Y_M_/2))\n",
    "]\n",
    "_COURT_CENTRELINE02_ = [\n",
    "    (_LENGTH_COURT_X_M_ - _LENGTH_CENTERLINE_M_, (_LENGTH_COURT_Y_M_/2)),\n",
    "    (_LENGTH_COURT_X_M_, (_LENGTH_COURT_Y_M_/2))\n",
    "]\n",
    "_COURT_SHORTSERVICELINE01_ = [\n",
    "    (_LENGTH_CENTERLINE_M_ + 0.04, 0),\n",
    "    (_LENGTH_CENTERLINE_M_ + 0.04, _LENGTH_COURT_Y_M_)\n",
    "]\n",
    "_COURT_SHORTSERVICELINE02_ = [\n",
    "    (_LENGTH_COURT_X_M_ - _LENGTH_CENTERLINE_M_ - 0.04, 0),\n",
    "    (_LENGTH_COURT_X_M_ - _LENGTH_CENTERLINE_M_ - 0.04, _LENGTH_COURT_Y_M_)\n",
    "]"
   ]
  },
  {
   "cell_type": "code",
   "execution_count": 46,
   "metadata": {},
   "outputs": [
    {
     "data": {
      "image/png": "[encoded data removed]",
      "text/plain": [
       "<Figure size 1600x700 with 2 Axes>"
      ]
     },
     "metadata": {},
     "output_type": "display_data"
    }
   ],
   "source": [
    "import matplotlib.pyplot as plt\n",
    "from mpl_toolkits.mplot3d import Axes3D\n",
    "\n",
    "# Create a 3D figure with subplots\n",
    "fig, axes = plt.subplots(nrows=1, ncols=2, figsize=(16, 7), subplot_kw={'projection': '3d'})\n",
    "\n",
    "# Set titles for subplots\n",
    "axes[0].set_title(\"Trajectory Estimation of Random Forest Regressor\")\n",
    "axes[1].set_title(\"Trajectory Estimation of Extra Trees Regressor\")\n",
    "\n",
    "# Define court dimensions\n",
    "court_length_x = 13.4\n",
    "court_length_y = 5.18\n",
    "court_height_skybox = 10\n",
    "court_height_net = 1.55\n",
    "court_height_robotbadminton_center = 1.1\n",
    "court_length_centerline = 4.68\n",
    "\n",
    "# Loop over subplots\n",
    "for ax_index, ax in enumerate(axes):\n",
    "    # Plot court boundaries\n",
    "    ax.plot([0, court_length_x], [0, 0], [0, 0], color='black', linewidth=1)  # Bottom boundary\n",
    "    ax.plot([0, court_length_x], [court_length_y, court_length_y], [0, 0], color='black', linewidth=1)  # Top boundary\n",
    "    ax.plot([0, 0], [0, court_length_y], [0, 0], color='black', linewidth=1)  # Left boundary\n",
    "    ax.plot([court_length_x, court_length_x], [0, court_length_y], [0, 0], color='black', linewidth=1)  # Right boundary\n",
    "\n",
    "    # Plot center line\n",
    "    ax.plot([0, court_length_centerline], [court_length_y / 2, court_length_y / 2], [0, 0], color='black', linewidth=1)\n",
    "    ax.plot([court_length_x - court_length_centerline, court_length_x], [court_length_y / 2, court_length_y / 2], [0, 0], color='black', linewidth=1)\n",
    "\n",
    "    # Plot short service lines\n",
    "    ax.plot([court_length_centerline + 0.04, court_length_centerline + 0.04], [0, court_length_y], [0, 0], color='black', linewidth=1)\n",
    "    ax.plot([court_length_x - court_length_centerline - 0.04, court_length_x - court_length_centerline - 0.04], [0, court_length_y], [0, 0], color='black', linewidth=1)\n",
    "\n",
    "    # Plot net\n",
    "    net_height = court_height_net\n",
    "    ax.plot([court_length_x / 2, court_length_x / 2], [0, court_length_y], [net_height, net_height], color='red', linewidth=1)\n",
    "\n",
    "    # Set plot limits and labels\n",
    "    ax.set_xlim([0, court_length_x])\n",
    "    ax.set_ylim([0, court_length_y])\n",
    "    ax.set_zlim([0, court_height_skybox])\n",
    "    ax.set_xlabel('Length (m)')\n",
    "    ax.set_ylabel('Width (m)')\n",
    "    ax.set_zlabel('Height (m)')\n",
    "\n",
    "    if ax_index == 0:\n",
    "        columns_n = ['X', 'Y', 'Z']\n",
    "        predicted_trajectory_points_RF_DF = pd.DataFrame(predicted_trajectory_points_RT, columns=columns_n)\n",
    "\n",
    "        # Extract X, Y, Z coordinates from y_actual_test and predicted_trajectory_point\n",
    "        x_actual = y_actual_coords['SHUTTLECOCK POSITIION IN AIR(X) metres']\n",
    "        y_actual = y_actual_coords['SHUTTLECOCK POSITIION IN AIR(Y) metres']\n",
    "        z_actual = y_actual_coords['SHUTTLECOCK POSITIION IN AIR(Z) metres']\n",
    "\n",
    "        x_predicted = predicted_trajectory_points_RF_DF['X'].values\n",
    "        y_predicted = predicted_trajectory_points_RF_DF['Y'].values\n",
    "        z_predicted = predicted_trajectory_points_RF_DF['Z'].values\n",
    "\n",
    "        ax.scatter(x_actual, y_actual, z_actual, c='blue', label='Actual Trajectory')\n",
    "        ax.scatter(x_predicted, y_predicted, z_predicted, c='red', label='Predicted Trajectory (Random Forest Regressor)')\n",
    "\n",
    "    elif ax_index == 1:\n",
    "        columns_n = ['X', 'Y', 'Z']\n",
    "        predicted_trajectory_points_ET_DF = pd.DataFrame(predicted_trajectory_points_ET, columns=columns_n)\n",
    "\n",
    "        # Extract X, Y, Z coordinates from y_actual_test and predicted_trajectory_point\n",
    "        x_actual = y_actual_coords['SHUTTLECOCK POSITIION IN AIR(X) metres']\n",
    "        y_actual = y_actual_coords['SHUTTLECOCK POSITIION IN AIR(Y) metres']\n",
    "        z_actual = y_actual_coords['SHUTTLECOCK POSITIION IN AIR(Z) metres']\n",
    "\n",
    "        x_predicted = predicted_trajectory_points_ET_DF['X'].values\n",
    "        y_predicted = predicted_trajectory_points_ET_DF['Y'].values\n",
    "        z_predicted = predicted_trajectory_points_ET_DF['Z'].values\n",
    "\n",
    "        ax.scatter(x_actual, y_actual, z_actual, c='blue', label='Actual Trajectory')\n",
    "        ax.scatter(x_predicted, y_predicted, z_predicted, c='red', label='Predicted Trajectory (Extra Trees Regressor)')\n",
    "\n",
    "    ax.legend()\n",
    "\n",
    "# Adjust spacing between subplots\n",
    "plt.subplots_adjust(wspace=0.2)\n",
    "\n",
    "# Display the plot\n",
    "plt.show()\n"
   ]
  },
  {
   "cell_type": "markdown",
   "metadata": {},
   "source": [
    "3D Interactive Visualization of the Shuttlecock Trajectory"
   ]
  },
  {
   "cell_type": "code",
   "execution_count": 42,
   "metadata": {},
   "outputs": [
    {
     "data": {
      "text/plain": [
       "'interactive_models/normal_regression_trajectory.html'"
      ]
     },
     "execution_count": 42,
     "metadata": {},
     "output_type": "execute_result"
    }
   ],
   "source": [
    "import plotly.graph_objects as go\n",
    "import plotly.offline as offline\n",
    "\n",
    "# Create a scatter plot for actual trajectory\n",
    "actual_trace = go.Scatter3d(x=y_actual_coords['SHUTTLECOCK POSITIION IN AIR(X) metres'],\n",
    "                            y=y_actual_coords['SHUTTLECOCK POSITIION IN AIR(Y) metres'],\n",
    "                            z=y_actual_coords['SHUTTLECOCK POSITIION IN AIR(Z) metres'],\n",
    "                            mode='markers',\n",
    "                            marker=dict(color='blue'),\n",
    "                            name='Actual Trajectory')\n",
    "\n",
    "# Create a scatter plot for predicted trajectory using Random Forest Regressor\n",
    "predicted_trace_RF = go.Scatter3d(x=predicted_trajectory_points_RT[:, 0],\n",
    "                                  y=predicted_trajectory_points_RT[:, 1],\n",
    "                                  z=predicted_trajectory_points_RT[:, 2],\n",
    "                                  mode='markers',\n",
    "                                  marker=dict(color='red'),\n",
    "                                  name='Predicted Trajectory (Random Forest)')\n",
    "\n",
    "# Create a scatter plot for predicted trajectory using Extra Trees Regressor\n",
    "predicted_trace_ET = go.Scatter3d(x=predicted_trajectory_points_ET[:, 0],\n",
    "                                  y=predicted_trajectory_points_ET[:, 1],\n",
    "                                  z=predicted_trajectory_points_ET[:, 2],\n",
    "                                  mode='markers',\n",
    "                                  marker=dict(color='green'),\n",
    "                                  name='Predicted Trajectory (Extra Trees)')\n",
    "\n",
    "# Set the data trace\n",
    "data = [actual_trace, predicted_trace_RF, predicted_trace_ET]\n",
    "\n",
    "# Set layout and title\n",
    "layout = go.Layout(\n",
    "    scene=dict(\n",
    "        xaxis_title='X',\n",
    "        yaxis_title='Y',\n",
    "        zaxis_title='Z',\n",
    "        xaxis=dict(range=[-15, 15]),  # Set X-axis range\n",
    "        yaxis=dict(range=[-15, 15]),  # Set Y-axis range\n",
    "        zaxis=dict(range=[0, 15])     # Set Z-axis range\n",
    "    ),\n",
    "    title='Actual vs Predicted Trajectory'\n",
    ")\n",
    "\n",
    "# Create the figure\n",
    "fig = go.Figure(data=data, layout=layout)\n",
    "\n",
    "# Save the plot as an HTML file\n",
    "offline.plot(fig, filename='interactive_models/normal_regression_trajectory.html')\n"
   ]
  },
  {
   "cell_type": "markdown",
   "metadata": {},
   "source": [
    "### ROBOT - Shuttlecock Trajectory Estimation"
   ]
  },
  {
   "cell_type": "code",
   "execution_count": 107,
   "metadata": {},
   "outputs": [
    {
     "name": "stdout",
     "output_type": "stream",
     "text": [
      "Is predicted Regression Tree (RT) within court:  True\n",
      "Is predicted Extra Tree (ET) within court:  True\n",
      "Average XYZ of Estimated Shuttlecock Position: [9.47634109 2.57616644 0.05991881]\n",
      "Distance: 3.24 meters in 1.08 seconds\n",
      "X difference: 2.4011303981480454\n",
      "Y difference: -2.1825342334672233\n",
      "Time required: 1.0816080040161886 seconds\n",
      "Able to reach and hit on time\n",
      "Distance: 1.27 meters in 0.42 seconds\n",
      "X difference: -0.7993781173428576\n",
      "Y difference: -0.9815431767697969\n",
      "Time required: 0.42195739415648165 seconds\n",
      "Able to reach and hit on time\n",
      "Distance: 1.47 meters in 0.49 seconds\n",
      "X difference: -0.061878140106901736\n",
      "Y difference: -1.4712748255573982\n",
      "Time required: 0.4908584901919903 seconds\n",
      "Able to reach and hit on time\n"
     ]
    },
    {
     "data": {
      "application/vnd.plotly.v1+json": {
       "config": {
        "plotlyServerURL": "https://plot.ly"
       },
       "data": [
        {
         "marker": {
          "color": "blue",
          "size": 2
         },
         "mode": "markers",
         "name": "True Values",
         "opacity": 0.7,
         "type": "scatter3d",
         "x": [
          4.075750029,
          4.15236123,
          4.227320744,
          4.301712593,
          4.377711646,
          4.449172124,
          4.522070688,
          4.59661909,
          4.669070301,
          4.741021167,
          4.810178171,
          4.880704514,
          4.950114709,
          5.020535074,
          5.089385046,
          5.158088309,
          5.225423748,
          5.293004289,
          5.359731307,
          5.427389826,
          5.492321526,
          5.557101928,
          5.622504726,
          5.687542843,
          5.749580404,
          5.811915158,
          5.875188065,
          5.936943303,
          5.999553383,
          6.060631717,
          6.120881823,
          6.180504727,
          6.240280846,
          6.29967717,
          6.358454472,
          6.415412164,
          6.472008222,
          6.530098616,
          6.586382598,
          6.641192631,
          6.697002221,
          6.752391991,
          6.805937094,
          6.859566974,
          6.911773595,
          6.964813228,
          7.017797019,
          7.070025453,
          7.119576658,
          7.169054638,
          7.221097786,
          7.26950575,
          7.319573502,
          7.366224224,
          7.414092496,
          7.460171055,
          7.507967922,
          7.555123963,
          7.598104821,
          7.645472287,
          7.690859386,
          7.734053741,
          7.778652606,
          7.820365831,
          7.861824063,
          7.904468105,
          7.947047976,
          7.987833929,
          8.028463072,
          8.066354364,
          8.108370577,
          8.144600633,
          8.186106374,
          8.221655994,
          8.258270286,
          8.296144842,
          8.331785358,
          8.370158453,
          8.403105659,
          8.437358415,
          8.472420245,
          8.503817867,
          8.538505954,
          8.570917873,
          8.602667891,
          8.635467842,
          8.665143665,
          8.696103552,
          8.72749532,
          8.756505004,
          8.78524598,
          8.812412701,
          8.839581134,
          8.867178028,
          8.894336468,
          8.920062764,
          8.94494587,
          8.971071149,
          8.994311487,
          9.019721898,
          9.042548112,
          9.065477314,
          9.089485065,
          9.110900948,
          9.129954628,
          9.152180247,
          9.173076835,
          9.19265515,
          9.212086514,
          9.230230247,
          9.247011872,
          9.265303559,
          9.282181664,
          9.300387826,
          9.317167081,
          9.33249447,
          9.347147154,
          9.363283667,
          9.375206755,
          9.389525782,
          9.401385923,
          9.414668125,
          9.426071061,
          9.436810103,
          9.448622969,
          9.459685903,
          9.469288373,
          9.477086579
         ],
         "y": [
          1.021720971,
          1.04368888,
          1.065183175,
          1.086514694,
          1.108307072,
          1.128798034,
          1.149701361,
          1.171077771,
          1.191852821,
          1.2124844,
          1.232314852,
          1.252537956,
          1.272441009,
          1.292633723,
          1.312376135,
          1.332076479,
          1.351384605,
          1.370763014,
          1.389896678,
          1.409297446,
          1.427916312,
          1.446491793,
          1.465245744,
          1.483895123,
          1.501684108,
          1.519558311,
          1.537701525,
          1.555409555,
          1.573362706,
          1.590876636,
          1.608153076,
          1.625249669,
          1.642390195,
          1.659421817,
          1.676275937,
          1.692608293,
          1.708836951,
          1.725494104,
          1.741633276,
          1.7573498,
          1.773352942,
          1.789235703,
          1.804589514,
          1.819967635,
          1.834937643,
          1.850146513,
          1.86533937,
          1.880315633,
          1.894524212,
          1.908711795,
          1.923634927,
          1.937515687,
          1.951872384,
          1.965249264,
          1.97897527,
          1.992188084,
          2.005893615,
          2.019415392,
          2.031739955,
          2.045322357,
          2.058336898,
          2.07072268,
          2.083511199,
          2.095472274,
          2.107360231,
          2.119588213,
          2.131797794,
          2.143492978,
          2.155143198,
          2.166008351,
          2.178056306,
          2.188445107,
          2.200346687,
          2.210540377,
          2.221039356,
          2.23189971,
          2.242119463,
          2.253122772,
          2.262570231,
          2.272392051,
          2.282445868,
          2.291448992,
          2.301395641,
          2.310689609,
          2.31979378,
          2.329199015,
          2.33770842,
          2.346586024,
          2.355587469,
          2.363905862,
          2.372147204,
          2.379937137,
          2.387727559,
          2.395640841,
          2.403428399,
          2.410805295,
          2.417940411,
          2.425431714,
          2.432095774,
          2.439382092,
          2.445927404,
          2.452502246,
          2.459386358,
          2.465527264,
          2.470990819,
          2.477363912,
          2.483355912,
          2.488969904,
          2.494541758,
          2.49974439,
          2.504556443,
          2.5098015,
          2.514641219,
          2.519861752,
          2.524673126,
          2.529068184,
          2.533269773,
          2.537896844,
          2.541315734,
          2.545421649,
          2.54882249,
          2.5526311,
          2.55590084,
          2.55898021,
          2.562367495,
          2.56553974,
          2.568293204,
          2.570529304
         ],
         "z": [
          2.662955562,
          2.723967454,
          2.786702466,
          2.846926407,
          2.903965366,
          2.962893128,
          3.017907419,
          3.074090556,
          3.127896282,
          3.180514586,
          3.23076071,
          3.282339882,
          3.332156183,
          3.382186143,
          3.428933026,
          3.47653336,
          3.522094081,
          3.568124776,
          3.611484865,
          3.652795471,
          3.697090222,
          3.737147178,
          3.7782983,
          3.815258666,
          3.856371921,
          3.893461633,
          3.931522568,
          3.968465428,
          4.003826171,
          4.037153375,
          4.071374889,
          4.105014212,
          4.135078367,
          4.169285846,
          4.197836182,
          4.231326649,
          4.260284081,
          4.28684663,
          4.316374883,
          4.34128034,
          4.368550323,
          4.391153692,
          4.418535479,
          4.441067853,
          4.462437,
          4.484626664,
          4.505159384,
          4.525289133,
          4.544097002,
          4.564515499,
          4.580105124,
          4.595834056,
          4.610146471,
          4.623977602,
          4.63751019,
          4.650441936,
          4.661230943,
          4.671087016,
          4.679835768,
          4.688634734,
          4.693053459,
          4.700185535,
          4.702844979,
          4.707206574,
          4.70870258,
          4.707846611,
          4.70662746,
          4.704242715,
          4.698846085,
          4.695338493,
          4.687362702,
          4.679877566,
          4.666074808,
          4.656448152,
          4.643813334,
          4.62843563,
          4.611482068,
          4.593812821,
          4.570878078,
          4.549880349,
          4.524544546,
          4.499203809,
          4.470913095,
          4.437431884,
          4.403764424,
          4.369636151,
          4.33447422,
          4.293435134,
          4.251849281,
          4.205892261,
          4.159651683,
          4.112080984,
          4.058166296,
          4.004950212,
          3.947568849,
          3.886355505,
          3.825228738,
          3.756947192,
          3.68816712,
          3.616822003,
          3.539369943,
          3.462666382,
          3.38007893,
          3.295882138,
          3.208862152,
          3.11481299,
          3.018087443,
          2.920428954,
          2.817070371,
          2.710662977,
          2.599301989,
          2.483811904,
          2.365697047,
          2.244104875,
          2.115594592,
          1.985655175,
          1.84932819,
          1.708875959,
          1.564040793,
          1.414506871,
          1.261747018,
          1.102242856,
          0.937134502,
          0.768971366,
          0.594533258,
          0.414022341,
          0.232517882,
          0.042232457
         ]
        },
        {
         "marker": {
          "color": "red",
          "size": 2
         },
         "mode": "markers",
         "name": "Predicted Values (Random Forest)",
         "opacity": 0.7,
         "type": "scatter3d",
         "x": [
          4.075933620024695,
          4.151701326598019,
          4.227906842388128,
          4.301846087410091,
          4.376695382393274,
          4.450598042683047,
          4.525285470816715,
          4.603098092525635,
          4.665696398312804,
          4.749064085255725,
          4.8116686212867705,
          4.885179766617222,
          4.941650563172272,
          5.026522671820551,
          5.0802198007155335,
          5.168336185428575,
          5.22135258533722,
          5.292750118182267,
          5.363324298537282,
          5.427703679983335,
          5.49374893852816,
          5.54848874765749,
          5.627716381648894,
          5.6902040419927165,
          5.75530154778742,
          5.805154874400264,
          5.899229448731716,
          5.952995294630527,
          5.985851841665436,
          6.060710896112401,
          6.140684799479483,
          6.187808402496105,
          6.235803442140643,
          6.304534558288707,
          6.372064133924439,
          6.412323380186555,
          6.466815553806393,
          6.542180876358825,
          6.606173154599028,
          6.657260940242279,
          6.696432518224044,
          6.735749940823054,
          6.8046001373603175,
          6.8686480657402695,
          6.914627814128632,
          6.946706868239191,
          7.0308442060017615,
          7.0796355086770575,
          7.113186326134679,
          7.170151565506961,
          7.203475174934981,
          7.280030921910548,
          7.341075421592901,
          7.373339959565268,
          7.409826305364975,
          7.444290963299127,
          7.498588665396832,
          7.573378024328475,
          7.604812479284396,
          7.659372300738561,
          7.687954280695489,
          7.7326497225680155,
          7.77345859498454,
          7.822998389427583,
          7.8613072648703834,
          7.912576503573527,
          7.939772507379518,
          7.988091191844594,
          8.044315139444079,
          8.067763058167422,
          8.101344060492078,
          8.150233045436982,
          8.181255038950217,
          8.215240923024897,
          8.262873544736866,
          8.29816106929439,
          8.338588329964972,
          8.372689236319346,
          8.409731135367306,
          8.435063767931824,
          8.458487666080039,
          8.486818714660227,
          8.555313395925317,
          8.582332607536006,
          8.621516898419362,
          8.645962953107947,
          8.656763374831224,
          8.679564160405118,
          8.717293741176508,
          8.755757074314458,
          8.77855223102047,
          8.813489405346855,
          8.840581726504926,
          8.862635446021514,
          8.889044914894015,
          8.92053514691288,
          8.942772413015946,
          8.969389205854215,
          8.983898583980125,
          9.010615090965509,
          9.041351960164752,
          9.064555039985589,
          9.085910214962952,
          9.106469375302673,
          9.133876380583438,
          9.15330739856365,
          9.170028883634515,
          9.193064476995119,
          9.208099827194085,
          9.231106030822193,
          9.241868879446807,
          9.263870595273833,
          9.280928644757456,
          9.296142019128233,
          9.316981401683627,
          9.33430292712366,
          9.347491225520436,
          9.363056931575501,
          9.37620085620933,
          9.38908476875512,
          9.402458408708622,
          9.41436907227922,
          9.42737684007092,
          9.437019322285085,
          9.44433787412823,
          9.45943506714529,
          9.468522542302859,
          9.475595601181752
         ],
         "y": [
          1.02356244062768,
          1.0500015690286921,
          1.0725918907107788,
          1.0948971081823764,
          1.1299595037644306,
          1.1539494758997304,
          1.167717153556549,
          1.1816592939440413,
          1.1921954940500725,
          1.2212357627690664,
          1.23125149155586,
          1.239141121261724,
          1.261694573966388,
          1.2885589013015926,
          1.3003814507624525,
          1.3265525554692,
          1.3354505306398574,
          1.3559164084486637,
          1.37362789411046,
          1.3883623648801953,
          1.4022814627458524,
          1.4203121331675705,
          1.4464281361515015,
          1.4600491009398062,
          1.4720502939507492,
          1.4908361429263624,
          1.5283506856905162,
          1.5426344285105023,
          1.5561726829696412,
          1.5805316498831454,
          1.6024609508994494,
          1.6168026797267034,
          1.6284172352843813,
          1.6540869551839856,
          1.6731406667404938,
          1.6784264289666821,
          1.695777922987813,
          1.7080442832791292,
          1.7314420043618173,
          1.7574887693346997,
          1.7682313797393427,
          1.7795533941547663,
          1.8027289112226454,
          1.82545995315216,
          1.842306078307634,
          1.8539191164995623,
          1.8799956355289862,
          1.8870471778064686,
          1.894730559716178,
          1.90768491942564,
          1.9191826967102859,
          1.938050185415067,
          1.9537052854900756,
          1.9628845606319176,
          1.9709293397063699,
          1.9849604839786454,
          2.004756569896419,
          2.0259130874451525,
          2.033435051756945,
          2.051372407829122,
          2.0590975507202063,
          2.0696099371583467,
          2.078320950566203,
          2.0941687727007836,
          2.103847362417847,
          2.1239959527839853,
          2.131303488189378,
          2.142490353595517,
          2.1611915500431533,
          2.1667284053074907,
          2.17013298956209,
          2.181207029451699,
          2.1896637539062196,
          2.201325020249957,
          2.2146158945459256,
          2.224011700807193,
          2.2363672788138445,
          2.2511258280040294,
          2.261185300800116,
          2.2719777944807107,
          2.2776130049840404,
          2.2820399558008826,
          2.3080503204521388,
          2.312240217449268,
          2.3263085597472,
          2.33154308459531,
          2.3371554071603526,
          2.344223455954075,
          2.3561855333246364,
          2.3693947198045597,
          2.3798027113188622,
          2.388955611786486,
          2.3956319519400835,
          2.3962257117082455,
          2.3984597074441236,
          2.406566756106988,
          2.419839798645071,
          2.4183882846668086,
          2.4208434173642837,
          2.4373588992814605,
          2.4569422846105122,
          2.4790652101272257,
          2.4958146997131543,
          2.5009503705808407,
          2.4889823427562106,
          2.484278335499211,
          2.490417105802839,
          2.4914902700128523,
          2.5038002266586394,
          2.5114315974521615,
          2.5089235620919883,
          2.4963143042920772,
          2.50325252228585,
          2.5106563097850487,
          2.5021746046339013,
          2.5186940816734564,
          2.5286258879649695,
          2.5332281335877114,
          2.54542322187757,
          2.5394582282204596,
          2.555980572954901,
          2.565627914991201,
          2.580965625990856,
          2.5713473258789517,
          2.565116033669368,
          2.5705279266112604,
          2.5801567856272567,
          2.581803575285221
         ],
         "z": [
          2.6632521453233795,
          2.725711456054052,
          2.7867528128138197,
          2.8467407226335784,
          2.9051023082319087,
          2.963295946954893,
          3.019679617736098,
          3.0790925721534426,
          3.1256594615901117,
          3.1873590944542616,
          3.2328171992569055,
          3.2858219278451513,
          3.325775253548541,
          3.3854551469977725,
          3.422423367444415,
          3.4823265579241025,
          3.5181519964227324,
          3.5659670963918235,
          3.612518439880418,
          3.65432835460167,
          3.6966648631088805,
          3.7311659592544286,
          3.7807943466049467,
          3.8195105145691706,
          3.8591974809701175,
          3.8891255820258244,
          3.9450288509507225,
          3.9765543324585546,
          3.9953892134584748,
          4.03759871224641,
          4.0822013038005736,
          4.107989986771312,
          4.134184293851635,
          4.171190738974076,
          4.207091545380263,
          4.228110613250881,
          4.255826973799022,
          4.293106294382277,
          4.324265039920942,
          4.348643125298307,
          4.3669665872474495,
          4.384832775970464,
          4.415685002764777,
          4.4433884760004005,
          4.462830954112334,
          4.476114866094606,
          4.5095632089424775,
          4.528438716999807,
          4.540925693371627,
          4.561228924090597,
          4.572318141977106,
          4.597119226957171,
          4.616028017026629,
          4.625443018432789,
          4.635487313112682,
          4.6442452372585095,
          4.656650375024637,
          4.672423445267621,
          4.678268611821148,
          4.6872414868569585,
          4.691311543664011,
          4.695991254389598,
          4.699654934891455,
          4.702999804225048,
          4.704330932879976,
          4.704549086309804,
          4.703605169805142,
          4.69982925693937,
          4.693325049185834,
          4.689811434886681,
          4.683313206187381,
          4.672152599188555,
          4.663958101831022,
          4.6533257738136395,
          4.635994928724117,
          4.621290900486324,
          4.601766112674024,
          4.584056332559525,
          4.562244966728609,
          4.545859248132611,
          4.528791610292953,
          4.505580276560604,
          4.444733446756578,
          4.418984987573335,
          4.378425941341499,
          4.351097342773381,
          4.337925679310049,
          4.3081099749696685,
          4.256210139468069,
          4.1996396977203725,
          4.162583673464824,
          4.101325655595491,
          4.050840040912309,
          4.007293228310356,
          3.95122149290112,
          3.8801834447633663,
          3.8260394581567847,
          3.7560552458769956,
          3.7148282718418706,
          3.6349840521139987,
          3.539464631104348,
          3.4608671424809723,
          3.3839103766856846,
          3.3037498538947663,
          3.1892158393241914,
          3.1047532300074123,
          3.0266610644778753,
          2.913558114408321,
          2.8329045768571617,
          2.6993138108092865,
          2.6334440384869384,
          2.4939951291528026,
          2.379521584233224,
          2.2719391654317844,
          2.106606378647528,
          1.9580926202736224,
          1.8436516923732809,
          1.6964072574119422,
          1.5550918376631375,
          1.4088118948725634,
          1.2478875255804875,
          1.0791603328389714,
          0.9134600385851585,
          0.7653344011186206,
          0.6555662575086127,
          0.4187964619530857,
          0.23350454560356568,
          0.07760516337448628
         ]
        },
        {
         "marker": {
          "color": "green",
          "size": 2
         },
         "mode": "markers",
         "name": "Predicted Values (Extra Trees)",
         "opacity": 0.7,
         "type": "scatter3d",
         "x": [
          4.075750029000004,
          4.152361229999998,
          4.227320743999997,
          4.301083163639999,
          4.377711646000008,
          4.449172124000012,
          4.522070687999997,
          4.596619089999994,
          4.669070300999992,
          4.739822006560003,
          4.810178171000007,
          4.8807045140000005,
          4.9511120749699975,
          5.020535074000006,
          5.089385046000007,
          5.15791373506,
          5.225423748000012,
          5.293004289000006,
          5.3597313070000006,
          5.427389826000008,
          5.492321526000005,
          5.557101928000002,
          5.622504725999992,
          5.686246514340006,
          5.749580403999984,
          5.816007399239997,
          5.875188064999987,
          5.936943303000009,
          5.999553382999997,
          6.06063171699999,
          6.120881822999993,
          6.1827512873199995,
          6.240280846000008,
          6.299544716840009,
          6.358454471999993,
          6.4154121639999975,
          6.472008222,
          6.530793974769997,
          6.586382598,
          6.641192631000001,
          6.697002221000007,
          6.7523919910000005,
          6.805937094,
          6.859240073090008,
          6.911773595,
          6.964813228000015,
          7.017797019,
          7.073968029300002,
          7.1195766580000175,
          7.169054638000003,
          7.217761892850008,
          7.269505750000007,
          7.315450602470006,
          7.366224224000006,
          7.414092495999998,
          7.46017105500001,
          7.507967922000005,
          7.561987506770004,
          7.5981048209999935,
          7.6454722869999925,
          7.690859386000017,
          7.742179773200006,
          7.778652606000008,
          7.820365831000003,
          7.861824062999981,
          7.904468104999987,
          7.947047976000013,
          7.987833928999985,
          8.028463072000013,
          8.064429564380003,
          8.10837057699999,
          8.14707789253,
          8.186106374000012,
          8.221655994,
          8.258270285999997,
          8.296144841999991,
          8.331785358000014,
          8.37015845300001,
          8.403105658999982,
          8.437358414999983,
          8.472420244999993,
          8.503817866999986,
          8.538505954000009,
          8.570917872999992,
          8.604554636210008,
          8.635467842000018,
          8.665143664999986,
          8.696103551999984,
          8.727495320000001,
          8.756505004000012,
          8.785245980000012,
          8.81241270099998,
          8.839581134000012,
          8.86717802800001,
          8.894336468000004,
          8.920062764000015,
          8.944945869999994,
          8.971071148999984,
          8.994311487000003,
          9.017070752819995,
          9.04254811199999,
          9.064979142019991,
          9.08948506499999,
          9.110900947999996,
          9.133452905510007,
          9.152180247000016,
          9.173076834999986,
          9.19265514999998,
          9.212086514000013,
          9.230230247000007,
          9.247011872000007,
          9.26530355900001,
          9.28218166399998,
          9.300387826000012,
          9.314941773050013,
          9.331354421519988,
          9.34714715400002,
          9.363283667000012,
          9.375953114300003,
          9.389525781999987,
          9.40108083540001,
          9.414345534909986,
          9.426071061000009,
          9.436810102999978,
          9.448054876759993,
          9.459685903000013,
          9.46872577200001,
          9.477086579
         ],
         "y": [
          1.021720970999998,
          1.0436888800000013,
          1.0651831750000011,
          1.0882230581199988,
          1.1083070720000014,
          1.1287980339999992,
          1.1497013609999984,
          1.171077771,
          1.1918528209999983,
          1.2111460011199995,
          1.2323148520000016,
          1.2525379559999983,
          1.2680756738999985,
          1.2926337229999978,
          1.3123761349999972,
          1.3338834735999985,
          1.351384605000003,
          1.370763014000002,
          1.3898966780000006,
          1.4092974459999987,
          1.427916311999998,
          1.4464917930000039,
          1.4652457439999986,
          1.4818952100600018,
          1.5016841080000032,
          1.515410013239999,
          1.5377015249999997,
          1.5554095550000002,
          1.5733627060000006,
          1.5908766359999993,
          1.6081530759999993,
          1.6220761877299992,
          1.642390194999999,
          1.6556812725300016,
          1.676275937000003,
          1.6926082930000037,
          1.7088369509999972,
          1.6996640809100012,
          1.7416332759999977,
          1.757349799999996,
          1.7733529420000018,
          1.7892357030000021,
          1.804589513999996,
          1.8254901569299984,
          1.8349376429999984,
          1.8501465129999988,
          1.8653393699999965,
          1.894305621259997,
          1.8945242119999954,
          1.908711794999997,
          1.9214985105299984,
          1.937515687000001,
          1.9551253564899989,
          1.9652492639999957,
          1.9789752700000043,
          1.9921880839999986,
          2.005893614999998,
          2.0235021356599994,
          2.031739955000004,
          2.045322357000003,
          2.0583368979999954,
          2.069543549009995,
          2.083511198999995,
          2.095472274000002,
          2.107360231000001,
          2.1195882129999943,
          2.1317977939999957,
          2.143492978000004,
          2.155143197999997,
          2.1670013795599994,
          2.1780563060000016,
          2.1986087091600024,
          2.200346687000005,
          2.2105403770000005,
          2.221039356000004,
          2.231899709999995,
          2.2421194629999963,
          2.253122772000004,
          2.2625702310000047,
          2.2723920509999975,
          2.282445867999997,
          2.291448992,
          2.3013956409999996,
          2.310689609000002,
          2.3255797181600015,
          2.329199015,
          2.337708420000005,
          2.3465860240000023,
          2.355587469,
          2.3639058619999975,
          2.3721472039999942,
          2.3799371370000055,
          2.387727559000005,
          2.395640840999995,
          2.4034283990000045,
          2.410805294999996,
          2.417940410999996,
          2.425431714000005,
          2.4320957740000027,
          2.435819785210002,
          2.445927404000002,
          2.4571939702899996,
          2.459386357999996,
          2.4655272640000017,
          2.463390033039999,
          2.477363911999994,
          2.4833559120000017,
          2.488969903999994,
          2.4945417579999973,
          2.499744389999996,
          2.5045564430000056,
          2.509801500000003,
          2.5146412189999983,
          2.5198617519999975,
          2.510653641850002,
          2.5171477866800007,
          2.5332697730000002,
          2.5378968439999947,
          2.5216803863800035,
          2.5454216489999966,
          2.5410561793000017,
          2.542843764610002,
          2.555900839999998,
          2.5589802099999943,
          2.574031037770004,
          2.565539739999997,
          2.5769111852900006,
          2.570529303999996
         ],
         "z": [
          2.6629555620000014,
          2.7239674539999954,
          2.786702466000003,
          2.8483616153200004,
          2.9039653659999995,
          2.9628931279999993,
          3.0179074190000006,
          3.074090555999993,
          3.1278962819999965,
          3.1810456372399982,
          3.2307607100000046,
          3.2823398819999956,
          3.3315819864,
          3.3821861430000073,
          3.4289330259999984,
          3.4757629036800015,
          3.522094080999997,
          3.5681247759999946,
          3.611484865000004,
          3.6527954709999944,
          3.697090221999991,
          3.737147177999992,
          3.7782983000000026,
          3.817717603700004,
          3.856371921000003,
          3.8951755559200025,
          3.9315225679999948,
          3.9684654280000013,
          4.00382617100001,
          4.037153375000002,
          4.071374889000008,
          4.104726945450004,
          4.135078367000005,
          4.168817212599995,
          4.197836182000002,
          4.231326648999995,
          4.260284081000005,
          4.2899562784299965,
          4.316374882999994,
          4.341280340000009,
          4.368550323000007,
          4.3911536919999925,
          4.41853547900001,
          4.439650137429994,
          4.4624370000000075,
          4.484626664000006,
          4.505159384000009,
          4.526871623670003,
          4.544097002,
          4.564515498999994,
          4.579677848169998,
          4.595834056,
          4.609316806400005,
          4.62397760200001,
          4.63751019,
          4.650441935999994,
          4.661230943000007,
          4.672292475279997,
          4.6798357679999905,
          4.688634734000003,
          4.693053458999999,
          4.698739742050003,
          4.702844979000007,
          4.707206573999998,
          4.708702580000007,
          4.707846610999992,
          4.706627459999994,
          4.704242715000008,
          4.69884608500001,
          4.693718575539998,
          4.687362701999988,
          4.67709225135,
          4.6660748080000065,
          4.656448151999997,
          4.643813334000003,
          4.628435630000009,
          4.61148206799999,
          4.593812821000013,
          4.570878078000006,
          4.549880348999992,
          4.524544546000004,
          4.499203808999995,
          4.470913095000011,
          4.437431883999992,
          4.402269851870001,
          4.369636151000005,
          4.334474220000003,
          4.293435133999996,
          4.251849280999993,
          4.205892260999991,
          4.159651682999994,
          4.112080983999992,
          4.058166296000007,
          4.004950211999996,
          3.947568848999996,
          3.8863555049999974,
          3.8252287380000034,
          3.756947191999999,
          3.6881671200000024,
          3.61830827779,
          3.5393699429999974,
          3.4630806064500006,
          3.380078930000004,
          3.2958821380000036,
          3.195849787020001,
          3.11481299,
          3.018087443000007,
          2.920428953999994,
          2.817070371,
          2.710662977,
          2.5993019889999984,
          2.483811903999998,
          2.365697046999998,
          2.244104875000003,
          2.1305054530999983,
          1.9784451968399974,
          1.8493281899999965,
          1.7088759590000009,
          1.5585788775200007,
          1.414506870999999,
          1.272755568439998,
          1.1031137034299985,
          0.9371345020000015,
          0.768971366000001,
          0.5978941312099991,
          0.41402234099999957,
          0.2307569216000001,
          0.04223245699999992
         ]
        },
        {
         "line": {
          "color": "black",
          "width": 1
         },
         "mode": "lines",
         "name": "Court Boundaries",
         "type": "scatter3d",
         "x": [
          0,
          13.4,
          13.4,
          0,
          0
         ],
         "y": [
          0,
          0,
          5.18,
          5.18,
          0
         ],
         "z": [
          0,
          0,
          0,
          0,
          0
         ]
        },
        {
         "line": {
          "color": "black",
          "width": 1
         },
         "mode": "lines",
         "name": "Center Line",
         "type": "scatter3d",
         "x": [
          0,
          4.68,
          4.68,
          0,
          0
         ],
         "y": [
          2.59,
          2.59,
          2.59,
          2.59,
          2.59
         ],
         "z": [
          0,
          0,
          0,
          0,
          0
         ]
        },
        {
         "line": {
          "color": "black",
          "width": 1
         },
         "mode": "lines",
         "name": "Center Line",
         "type": "scatter3d",
         "x": [
          8.72,
          13.4
         ],
         "y": [
          2.59,
          2.59
         ],
         "z": [
          0,
          0,
          0,
          0,
          0
         ]
        },
        {
         "line": {
          "color": "black",
          "width": 1
         },
         "mode": "lines",
         "name": "Short Service Lines",
         "type": "scatter3d",
         "x": [
          4.72,
          4.72
         ],
         "y": [
          0,
          5.18
         ],
         "z": [
          0,
          0
         ]
        },
        {
         "line": {
          "color": "black",
          "width": 1
         },
         "mode": "lines",
         "name": "Short Service Lines",
         "type": "scatter3d",
         "x": [
          8.680000000000001,
          8.680000000000001
         ],
         "y": [
          0,
          5.18
         ],
         "z": [
          0,
          0
         ]
        },
        {
         "line": {
          "color": "red",
          "width": 1
         },
         "mode": "lines",
         "name": "Net",
         "type": "scatter3d",
         "x": [
          6.7,
          6.7
         ],
         "y": [
          0,
          5.18
         ],
         "z": [
          1.55,
          1.55
         ]
        },
        {
         "line": {
          "color": "green",
          "width": 5
         },
         "marker": {
          "color": "cyan",
          "line": {
           "color": "black",
           "width": 4
          },
          "size": 10,
          "symbol": "cross"
         },
         "mode": "lines+markers",
         "name": "Predicted Position",
         "opacity": 1,
         "type": "scatter3d",
         "x": [
          9.476341090090877
         ],
         "y": [
          2.5761664396426083
         ],
         "z": [
          0.0599188101872431
         ]
        },
        {
         "line": {
          "color": "green",
          "width": 5
         },
         "marker": {
          "color": "cyan",
          "line": {
           "color": "black",
           "width": 4
          },
          "size": 6,
          "symbol": "diamond"
         },
         "mode": "lines+markers",
         "name": "Average Highest XYZ-point",
         "opacity": 1,
         "type": "scatter3d",
         "x": [
          7.887200283286754
         ],
         "y": [
          2.115678091891993
         ],
         "z": [
          4.706625833154906
         ]
        },
        {
         "marker": {
          "color": "blue",
          "size": 10
         },
         "mode": "markers",
         "name": "Initial Starting Point (Hit)",
         "opacity": 1,
         "type": "scatter3d",
         "x": [
          12.081471488238922
         ],
         "y": [
          0.623632206175385
         ],
         "z": [
          1.115
         ]
        },
        {
         "marker": {
          "color": "blue",
          "size": 10
         },
         "mode": "markers",
         "name": "Initial Starting Point (Hit)",
         "opacity": 1,
         "type": "scatter3d",
         "x": [
          8.88096297274802
         ],
         "y": [
          1.8246232628728114
         ],
         "z": [
          1.115
         ]
        },
        {
         "marker": {
          "color": "blue",
          "size": 10
         },
         "mode": "markers",
         "name": "Initial Starting Point (Hit)",
         "opacity": 1,
         "type": "scatter3d",
         "x": [
          9.618462949983975
         ],
         "y": [
          1.33489161408521
         ],
         "z": [
          1.115
         ]
        },
        {
         "marker": {
          "color": "green",
          "size": 10
         },
         "mode": "markers",
         "name": "Point to Hit the Ball",
         "opacity": 1,
         "type": "scatter3d",
         "x": [
          9.680341090090877
         ],
         "y": [
          2.8061664396426083
         ],
         "z": [
          1.115
         ]
        }
       ],
       "layout": {
        "scene": {
         "aspectmode": "manual",
         "aspectratio": {
          "x": 1,
          "y": 1,
          "z": 1
         },
         "xaxis": {
          "range": [
           -4,
           18
          ],
          "title": {
           "text": "X-coordinate"
          }
         },
         "yaxis": {
          "range": [
           -2,
           7
          ],
          "title": {
           "text": "Y-coordinate"
          }
         },
         "zaxis": {
          "range": [
           0,
           12
          ],
          "title": {
           "text": "Z-coordinate"
          }
         }
        },
        "template": {
         "data": {
          "bar": [
           {
            "error_x": {
             "color": "#2a3f5f"
            },
            "error_y": {
             "color": "#2a3f5f"
            },
            "marker": {
             "line": {
              "color": "#E5ECF6",
              "width": 0.5
             },
             "pattern": {
              "fillmode": "overlay",
              "size": 10,
              "solidity": 0.2
             }
            },
            "type": "bar"
           }
          ],
          "barpolar": [
           {
            "marker": {
             "line": {
              "color": "#E5ECF6",
              "width": 0.5
             },
             "pattern": {
              "fillmode": "overlay",
              "size": 10,
              "solidity": 0.2
             }
            },
            "type": "barpolar"
           }
          ],
          "carpet": [
           {
            "aaxis": {
             "endlinecolor": "#2a3f5f",
             "gridcolor": "white",
             "linecolor": "white",
             "minorgridcolor": "white",
             "startlinecolor": "#2a3f5f"
            },
            "baxis": {
             "endlinecolor": "#2a3f5f",
             "gridcolor": "white",
             "linecolor": "white",
             "minorgridcolor": "white",
             "startlinecolor": "#2a3f5f"
            },
            "type": "carpet"
           }
          ],
          "choropleth": [
           {
            "colorbar": {
             "outlinewidth": 0,
             "ticks": ""
            },
            "type": "choropleth"
           }
          ],
          "contour": [
           {
            "colorbar": {
             "outlinewidth": 0,
             "ticks": ""
            },
            "colorscale": [
             [
              0,
              "#0d0887"
             ],
             [
              0.1111111111111111,
              "#46039f"
             ],
             [
              0.2222222222222222,
              "#7201a8"
             ],
             [
              0.3333333333333333,
              "#9c179e"
             ],
             [
              0.4444444444444444,
              "#bd3786"
             ],
             [
              0.5555555555555556,
              "#d8576b"
             ],
             [
              0.6666666666666666,
              "#ed7953"
             ],
             [
              0.7777777777777778,
              "#fb9f3a"
             ],
             [
              0.8888888888888888,
              "#fdca26"
             ],
             [
              1,
              "#f0f921"
             ]
            ],
            "type": "contour"
           }
          ],
          "contourcarpet": [
           {
            "colorbar": {
             "outlinewidth": 0,
             "ticks": ""
            },
            "type": "contourcarpet"
           }
          ],
          "heatmap": [
           {
            "colorbar": {
             "outlinewidth": 0,
             "ticks": ""
            },
            "colorscale": [
             [
              0,
              "#0d0887"
             ],
             [
              0.1111111111111111,
              "#46039f"
             ],
             [
              0.2222222222222222,
              "#7201a8"
             ],
             [
              0.3333333333333333,
              "#9c179e"
             ],
             [
              0.4444444444444444,
              "#bd3786"
             ],
             [
              0.5555555555555556,
              "#d8576b"
             ],
             [
              0.6666666666666666,
              "#ed7953"
             ],
             [
              0.7777777777777778,
              "#fb9f3a"
             ],
             [
              0.8888888888888888,
              "#fdca26"
             ],
             [
              1,
              "#f0f921"
             ]
            ],
            "type": "heatmap"
           }
          ],
          "heatmapgl": [
           {
            "colorbar": {
             "outlinewidth": 0,
             "ticks": ""
            },
            "colorscale": [
             [
              0,
              "#0d0887"
             ],
             [
              0.1111111111111111,
              "#46039f"
             ],
             [
              0.2222222222222222,
              "#7201a8"
             ],
             [
              0.3333333333333333,
              "#9c179e"
             ],
             [
              0.4444444444444444,
              "#bd3786"
             ],
             [
              0.5555555555555556,
              "#d8576b"
             ],
             [
              0.6666666666666666,
              "#ed7953"
             ],
             [
              0.7777777777777778,
              "#fb9f3a"
             ],
             [
              0.8888888888888888,
              "#fdca26"
             ],
             [
              1,
              "#f0f921"
             ]
            ],
            "type": "heatmapgl"
           }
          ],
          "histogram": [
           {
            "marker": {
             "pattern": {
              "fillmode": "overlay",
              "size": 10,
              "solidity": 0.2
             }
            },
            "type": "histogram"
           }
          ],
          "histogram2d": [
           {
            "colorbar": {
             "outlinewidth": 0,
             "ticks": ""
            },
            "colorscale": [
             [
              0,
              "#0d0887"
             ],
             [
              0.1111111111111111,
              "#46039f"
             ],
             [
              0.2222222222222222,
              "#7201a8"
             ],
             [
              0.3333333333333333,
              "#9c179e"
             ],
             [
              0.4444444444444444,
              "#bd3786"
             ],
             [
              0.5555555555555556,
              "#d8576b"
             ],
             [
              0.6666666666666666,
              "#ed7953"
             ],
             [
              0.7777777777777778,
              "#fb9f3a"
             ],
             [
              0.8888888888888888,
              "#fdca26"
             ],
             [
              1,
              "#f0f921"
             ]
            ],
            "type": "histogram2d"
           }
          ],
          "histogram2dcontour": [
           {
            "colorbar": {
             "outlinewidth": 0,
             "ticks": ""
            },
            "colorscale": [
             [
              0,
              "#0d0887"
             ],
             [
              0.1111111111111111,
              "#46039f"
             ],
             [
              0.2222222222222222,
              "#7201a8"
             ],
             [
              0.3333333333333333,
              "#9c179e"
             ],
             [
              0.4444444444444444,
              "#bd3786"
             ],
             [
              0.5555555555555556,
              "#d8576b"
             ],
             [
              0.6666666666666666,
              "#ed7953"
             ],
             [
              0.7777777777777778,
              "#fb9f3a"
             ],
             [
              0.8888888888888888,
              "#fdca26"
             ],
             [
              1,
              "#f0f921"
             ]
            ],
            "type": "histogram2dcontour"
           }
          ],
          "mesh3d": [
           {
            "colorbar": {
             "outlinewidth": 0,
             "ticks": ""
            },
            "type": "mesh3d"
           }
          ],
          "parcoords": [
           {
            "line": {
             "colorbar": {
              "outlinewidth": 0,
              "ticks": ""
             }
            },
            "type": "parcoords"
           }
          ],
          "pie": [
           {
            "automargin": true,
            "type": "pie"
           }
          ],
          "scatter": [
           {
            "fillpattern": {
             "fillmode": "overlay",
             "size": 10,
             "solidity": 0.2
            },
            "type": "scatter"
           }
          ],
          "scatter3d": [
           {
            "line": {
             "colorbar": {
              "outlinewidth": 0,
              "ticks": ""
             }
            },
            "marker": {
             "colorbar": {
              "outlinewidth": 0,
              "ticks": ""
             }
            },
            "type": "scatter3d"
           }
          ],
          "scattercarpet": [
           {
            "marker": {
             "colorbar": {
              "outlinewidth": 0,
              "ticks": ""
             }
            },
            "type": "scattercarpet"
           }
          ],
          "scattergeo": [
           {
            "marker": {
             "colorbar": {
              "outlinewidth": 0,
              "ticks": ""
             }
            },
            "type": "scattergeo"
           }
          ],
          "scattergl": [
           {
            "marker": {
             "colorbar": {
              "outlinewidth": 0,
              "ticks": ""
             }
            },
            "type": "scattergl"
           }
          ],
          "scattermapbox": [
           {
            "marker": {
             "colorbar": {
              "outlinewidth": 0,
              "ticks": ""
             }
            },
            "type": "scattermapbox"
           }
          ],
          "scatterpolar": [
           {
            "marker": {
             "colorbar": {
              "outlinewidth": 0,
              "ticks": ""
             }
            },
            "type": "scatterpolar"
           }
          ],
          "scatterpolargl": [
           {
            "marker": {
             "colorbar": {
              "outlinewidth": 0,
              "ticks": ""
             }
            },
            "type": "scatterpolargl"
           }
          ],
          "scatterternary": [
           {
            "marker": {
             "colorbar": {
              "outlinewidth": 0,
              "ticks": ""
             }
            },
            "type": "scatterternary"
           }
          ],
          "surface": [
           {
            "colorbar": {
             "outlinewidth": 0,
             "ticks": ""
            },
            "colorscale": [
             [
              0,
              "#0d0887"
             ],
             [
              0.1111111111111111,
              "#46039f"
             ],
             [
              0.2222222222222222,
              "#7201a8"
             ],
             [
              0.3333333333333333,
              "#9c179e"
             ],
             [
              0.4444444444444444,
              "#bd3786"
             ],
             [
              0.5555555555555556,
              "#d8576b"
             ],
             [
              0.6666666666666666,
              "#ed7953"
             ],
             [
              0.7777777777777778,
              "#fb9f3a"
             ],
             [
              0.8888888888888888,
              "#fdca26"
             ],
             [
              1,
              "#f0f921"
             ]
            ],
            "type": "surface"
           }
          ],
          "table": [
           {
            "cells": {
             "fill": {
              "color": "#EBF0F8"
             },
             "line": {
              "color": "white"
             }
            },
            "header": {
             "fill": {
              "color": "#C8D4E3"
             },
             "line": {
              "color": "white"
             }
            },
            "type": "table"
           }
          ]
         },
         "layout": {
          "annotationdefaults": {
           "arrowcolor": "#2a3f5f",
           "arrowhead": 0,
           "arrowwidth": 1
          },
          "autotypenumbers": "strict",
          "coloraxis": {
           "colorbar": {
            "outlinewidth": 0,
            "ticks": ""
           }
          },
          "colorscale": {
           "diverging": [
            [
             0,
             "#8e0152"
            ],
            [
             0.1,
             "#c51b7d"
            ],
            [
             0.2,
             "#de77ae"
            ],
            [
             0.3,
             "#f1b6da"
            ],
            [
             0.4,
             "#fde0ef"
            ],
            [
             0.5,
             "#f7f7f7"
            ],
            [
             0.6,
             "#e6f5d0"
            ],
            [
             0.7,
             "#b8e186"
            ],
            [
             0.8,
             "#7fbc41"
            ],
            [
             0.9,
             "#4d9221"
            ],
            [
             1,
             "#276419"
            ]
           ],
           "sequential": [
            [
             0,
             "#0d0887"
            ],
            [
             0.1111111111111111,
             "#46039f"
            ],
            [
             0.2222222222222222,
             "#7201a8"
            ],
            [
             0.3333333333333333,
             "#9c179e"
            ],
            [
             0.4444444444444444,
             "#bd3786"
            ],
            [
             0.5555555555555556,
             "#d8576b"
            ],
            [
             0.6666666666666666,
             "#ed7953"
            ],
            [
             0.7777777777777778,
             "#fb9f3a"
            ],
            [
             0.8888888888888888,
             "#fdca26"
            ],
            [
             1,
             "#f0f921"
            ]
           ],
           "sequentialminus": [
            [
             0,
             "#0d0887"
            ],
            [
             0.1111111111111111,
             "#46039f"
            ],
            [
             0.2222222222222222,
             "#7201a8"
            ],
            [
             0.3333333333333333,
             "#9c179e"
            ],
            [
             0.4444444444444444,
             "#bd3786"
            ],
            [
             0.5555555555555556,
             "#d8576b"
            ],
            [
             0.6666666666666666,
             "#ed7953"
            ],
            [
             0.7777777777777778,
             "#fb9f3a"
            ],
            [
             0.8888888888888888,
             "#fdca26"
            ],
            [
             1,
             "#f0f921"
            ]
           ]
          },
          "colorway": [
           "#636efa",
           "#EF553B",
           "#00cc96",
           "#ab63fa",
           "#FFA15A",
           "#19d3f3",
           "#FF6692",
           "#B6E880",
           "#FF97FF",
           "#FECB52"
          ],
          "font": {
           "color": "#2a3f5f"
          },
          "geo": {
           "bgcolor": "white",
           "lakecolor": "white",
           "landcolor": "#E5ECF6",
           "showlakes": true,
           "showland": true,
           "subunitcolor": "white"
          },
          "hoverlabel": {
           "align": "left"
          },
          "hovermode": "closest",
          "mapbox": {
           "style": "light"
          },
          "paper_bgcolor": "white",
          "plot_bgcolor": "#E5ECF6",
          "polar": {
           "angularaxis": {
            "gridcolor": "white",
            "linecolor": "white",
            "ticks": ""
           },
           "bgcolor": "#E5ECF6",
           "radialaxis": {
            "gridcolor": "white",
            "linecolor": "white",
            "ticks": ""
           }
          },
          "scene": {
           "xaxis": {
            "backgroundcolor": "#E5ECF6",
            "gridcolor": "white",
            "gridwidth": 2,
            "linecolor": "white",
            "showbackground": true,
            "ticks": "",
            "zerolinecolor": "white"
           },
           "yaxis": {
            "backgroundcolor": "#E5ECF6",
            "gridcolor": "white",
            "gridwidth": 2,
            "linecolor": "white",
            "showbackground": true,
            "ticks": "",
            "zerolinecolor": "white"
           },
           "zaxis": {
            "backgroundcolor": "#E5ECF6",
            "gridcolor": "white",
            "gridwidth": 2,
            "linecolor": "white",
            "showbackground": true,
            "ticks": "",
            "zerolinecolor": "white"
           }
          },
          "shapedefaults": {
           "line": {
            "color": "#2a3f5f"
           }
          },
          "ternary": {
           "aaxis": {
            "gridcolor": "white",
            "linecolor": "white",
            "ticks": ""
           },
           "baxis": {
            "gridcolor": "white",
            "linecolor": "white",
            "ticks": ""
           },
           "bgcolor": "#E5ECF6",
           "caxis": {
            "gridcolor": "white",
            "linecolor": "white",
            "ticks": ""
           }
          },
          "title": {
           "x": 0.05
          },
          "xaxis": {
           "automargin": true,
           "gridcolor": "white",
           "linecolor": "white",
           "ticks": "",
           "title": {
            "standoff": 15
           },
           "zerolinecolor": "white",
           "zerolinewidth": 2
          },
          "yaxis": {
           "automargin": true,
           "gridcolor": "white",
           "linecolor": "white",
           "ticks": "",
           "title": {
            "standoff": 15
           },
           "zerolinecolor": "white",
           "zerolinewidth": 2
          }
         }
        },
        "title": {
         "text": "Shuttlecock Trajectory Estimation"
        }
       }
      },
      "text/html": [
       "<div>                            <div id=\"a41846a3-9d21-411c-a2cb-e7ff91ea438c\" class=\"plotly-graph-div\" style=\"height:525px; width:100%;\"></div>            <script type=\"text/javascript\">                require([\"plotly\"], function(Plotly) {                    window.PLOTLYENV=window.PLOTLYENV || {};                                    if (document.getElementById(\"a41846a3-9d21-411c-a2cb-e7ff91ea438c\")) {                    Plotly.newPlot(                        \"a41846a3-9d21-411c-a2cb-e7ff91ea438c\",                        [{\"marker\":{\"color\":\"blue\",\"size\":2},\"mode\":\"markers\",\"name\":\"True Values\",\"opacity\":0.7,\"x\":[4.075750029,4.15236123,4.227320744,4.301712593,4.377711646,4.449172124,4.522070688,4.59661909,4.669070301,4.741021167,4.810178171,4.880704514,4.950114709,5.020535074,5.089385046,5.158088309,5.225423748,5.293004289,5.359731307,5.427389826,5.492321526,5.557101928,5.622504726,5.687542843,5.749580404,5.811915158,5.875188065,5.936943303,5.999553383,6.060631717,6.120881823,6.180504727,6.240280846,6.29967717,6.358454472,6.415412164,6.472008222,6.530098616,6.586382598,6.641192631,6.697002221,6.752391991,6.805937094,6.859566974,6.911773595,6.964813228,7.017797019,7.070025453,7.119576658,7.169054638,7.221097786,7.26950575,7.319573502,7.366224224,7.414092496,7.460171055,7.507967922,7.555123963,7.598104821,7.645472287,7.690859386,7.734053741,7.778652606,7.820365831,7.861824063,7.904468105,7.947047976,7.987833929,8.028463072,8.066354364,8.108370577,8.144600633,8.186106374,8.221655994,8.258270286,8.296144842,8.331785358,8.370158453,8.403105659,8.437358415,8.472420245,8.503817867,8.538505954,8.570917873,8.602667891,8.635467842,8.665143665,8.696103552,8.72749532,8.756505004,8.78524598,8.812412701,8.839581134,8.867178028,8.894336468,8.920062764,8.94494587,8.971071149,8.994311487,9.019721898,9.042548112,9.065477314,9.089485065,9.110900948,9.129954628,9.152180247,9.173076835,9.19265515,9.212086514,9.230230247,9.247011872,9.265303559,9.282181664,9.300387826,9.317167081,9.33249447,9.347147154,9.363283667,9.375206755,9.389525782,9.401385923,9.414668125,9.426071061,9.436810103,9.448622969,9.459685903,9.469288373,9.477086579],\"y\":[1.021720971,1.04368888,1.065183175,1.086514694,1.108307072,1.128798034,1.149701361,1.171077771,1.191852821,1.2124844,1.232314852,1.252537956,1.272441009,1.292633723,1.312376135,1.332076479,1.351384605,1.370763014,1.389896678,1.409297446,1.427916312,1.446491793,1.465245744,1.483895123,1.501684108,1.519558311,1.537701525,1.555409555,1.573362706,1.590876636,1.608153076,1.625249669,1.642390195,1.659421817,1.676275937,1.692608293,1.708836951,1.725494104,1.741633276,1.7573498,1.773352942,1.789235703,1.804589514,1.819967635,1.834937643,1.850146513,1.86533937,1.880315633,1.894524212,1.908711795,1.923634927,1.937515687,1.951872384,1.965249264,1.97897527,1.992188084,2.005893615,2.019415392,2.031739955,2.045322357,2.058336898,2.07072268,2.083511199,2.095472274,2.107360231,2.119588213,2.131797794,2.143492978,2.155143198,2.166008351,2.178056306,2.188445107,2.200346687,2.210540377,2.221039356,2.23189971,2.242119463,2.253122772,2.262570231,2.272392051,2.282445868,2.291448992,2.301395641,2.310689609,2.31979378,2.329199015,2.33770842,2.346586024,2.355587469,2.363905862,2.372147204,2.379937137,2.387727559,2.395640841,2.403428399,2.410805295,2.417940411,2.425431714,2.432095774,2.439382092,2.445927404,2.452502246,2.459386358,2.465527264,2.470990819,2.477363912,2.483355912,2.488969904,2.494541758,2.49974439,2.504556443,2.5098015,2.514641219,2.519861752,2.524673126,2.529068184,2.533269773,2.537896844,2.541315734,2.545421649,2.54882249,2.5526311,2.55590084,2.55898021,2.562367495,2.56553974,2.568293204,2.570529304],\"z\":[2.662955562,2.723967454,2.786702466,2.846926407,2.903965366,2.962893128,3.017907419,3.074090556,3.127896282,3.180514586,3.23076071,3.282339882,3.332156183,3.382186143,3.428933026,3.47653336,3.522094081,3.568124776,3.611484865,3.652795471,3.697090222,3.737147178,3.7782983,3.815258666,3.856371921,3.893461633,3.931522568,3.968465428,4.003826171,4.037153375,4.071374889,4.105014212,4.135078367,4.169285846,4.197836182,4.231326649,4.260284081,4.28684663,4.316374883,4.34128034,4.368550323,4.391153692,4.418535479,4.441067853,4.462437,4.484626664,4.505159384,4.525289133,4.544097002,4.564515499,4.580105124,4.595834056,4.610146471,4.623977602,4.63751019,4.650441936,4.661230943,4.671087016,4.679835768,4.688634734,4.693053459,4.700185535,4.702844979,4.707206574,4.70870258,4.707846611,4.70662746,4.704242715,4.698846085,4.695338493,4.687362702,4.679877566,4.666074808,4.656448152,4.643813334,4.62843563,4.611482068,4.593812821,4.570878078,4.549880349,4.524544546,4.499203809,4.470913095,4.437431884,4.403764424,4.369636151,4.33447422,4.293435134,4.251849281,4.205892261,4.159651683,4.112080984,4.058166296,4.004950212,3.947568849,3.886355505,3.825228738,3.756947192,3.68816712,3.616822003,3.539369943,3.462666382,3.38007893,3.295882138,3.208862152,3.11481299,3.018087443,2.920428954,2.817070371,2.710662977,2.599301989,2.483811904,2.365697047,2.244104875,2.115594592,1.985655175,1.84932819,1.708875959,1.564040793,1.414506871,1.261747018,1.102242856,0.937134502,0.768971366,0.594533258,0.414022341,0.232517882,0.042232457],\"type\":\"scatter3d\"},{\"marker\":{\"color\":\"red\",\"size\":2},\"mode\":\"markers\",\"name\":\"Predicted Values (Random Forest)\",\"opacity\":0.7,\"x\":[4.075933620024695,4.151701326598019,4.227906842388128,4.301846087410091,4.376695382393274,4.450598042683047,4.525285470816715,4.603098092525635,4.665696398312804,4.749064085255725,4.8116686212867705,4.885179766617222,4.941650563172272,5.026522671820551,5.0802198007155335,5.168336185428575,5.22135258533722,5.292750118182267,5.363324298537282,5.427703679983335,5.49374893852816,5.54848874765749,5.627716381648894,5.6902040419927165,5.75530154778742,5.805154874400264,5.899229448731716,5.952995294630527,5.985851841665436,6.060710896112401,6.140684799479483,6.187808402496105,6.235803442140643,6.304534558288707,6.372064133924439,6.412323380186555,6.466815553806393,6.542180876358825,6.606173154599028,6.657260940242279,6.696432518224044,6.735749940823054,6.8046001373603175,6.8686480657402695,6.914627814128632,6.946706868239191,7.0308442060017615,7.0796355086770575,7.113186326134679,7.170151565506961,7.203475174934981,7.280030921910548,7.341075421592901,7.373339959565268,7.409826305364975,7.444290963299127,7.498588665396832,7.573378024328475,7.604812479284396,7.659372300738561,7.687954280695489,7.7326497225680155,7.77345859498454,7.822998389427583,7.8613072648703834,7.912576503573527,7.939772507379518,7.988091191844594,8.044315139444079,8.067763058167422,8.101344060492078,8.150233045436982,8.181255038950217,8.215240923024897,8.262873544736866,8.29816106929439,8.338588329964972,8.372689236319346,8.409731135367306,8.435063767931824,8.458487666080039,8.486818714660227,8.555313395925317,8.582332607536006,8.621516898419362,8.645962953107947,8.656763374831224,8.679564160405118,8.717293741176508,8.755757074314458,8.77855223102047,8.813489405346855,8.840581726504926,8.862635446021514,8.889044914894015,8.92053514691288,8.942772413015946,8.969389205854215,8.983898583980125,9.010615090965509,9.041351960164752,9.064555039985589,9.085910214962952,9.106469375302673,9.133876380583438,9.15330739856365,9.170028883634515,9.193064476995119,9.208099827194085,9.231106030822193,9.241868879446807,9.263870595273833,9.280928644757456,9.296142019128233,9.316981401683627,9.33430292712366,9.347491225520436,9.363056931575501,9.37620085620933,9.38908476875512,9.402458408708622,9.41436907227922,9.42737684007092,9.437019322285085,9.44433787412823,9.45943506714529,9.468522542302859,9.475595601181752],\"y\":[1.02356244062768,1.0500015690286921,1.0725918907107788,1.0948971081823764,1.1299595037644306,1.1539494758997304,1.167717153556549,1.1816592939440413,1.1921954940500725,1.2212357627690664,1.23125149155586,1.239141121261724,1.261694573966388,1.2885589013015926,1.3003814507624525,1.3265525554692,1.3354505306398574,1.3559164084486637,1.37362789411046,1.3883623648801953,1.4022814627458524,1.4203121331675705,1.4464281361515015,1.4600491009398062,1.4720502939507492,1.4908361429263624,1.5283506856905162,1.5426344285105023,1.5561726829696412,1.5805316498831454,1.6024609508994494,1.6168026797267034,1.6284172352843813,1.6540869551839856,1.6731406667404938,1.6784264289666821,1.695777922987813,1.7080442832791292,1.7314420043618173,1.7574887693346997,1.7682313797393427,1.7795533941547663,1.8027289112226454,1.82545995315216,1.842306078307634,1.8539191164995623,1.8799956355289862,1.8870471778064686,1.894730559716178,1.90768491942564,1.9191826967102859,1.938050185415067,1.9537052854900756,1.9628845606319176,1.9709293397063699,1.9849604839786454,2.004756569896419,2.0259130874451525,2.033435051756945,2.051372407829122,2.0590975507202063,2.0696099371583467,2.078320950566203,2.0941687727007836,2.103847362417847,2.1239959527839853,2.131303488189378,2.142490353595517,2.1611915500431533,2.1667284053074907,2.17013298956209,2.181207029451699,2.1896637539062196,2.201325020249957,2.2146158945459256,2.224011700807193,2.2363672788138445,2.2511258280040294,2.261185300800116,2.2719777944807107,2.2776130049840404,2.2820399558008826,2.3080503204521388,2.312240217449268,2.3263085597472,2.33154308459531,2.3371554071603526,2.344223455954075,2.3561855333246364,2.3693947198045597,2.3798027113188622,2.388955611786486,2.3956319519400835,2.3962257117082455,2.3984597074441236,2.406566756106988,2.419839798645071,2.4183882846668086,2.4208434173642837,2.4373588992814605,2.4569422846105122,2.4790652101272257,2.4958146997131543,2.5009503705808407,2.4889823427562106,2.484278335499211,2.490417105802839,2.4914902700128523,2.5038002266586394,2.5114315974521615,2.5089235620919883,2.4963143042920772,2.50325252228585,2.5106563097850487,2.5021746046339013,2.5186940816734564,2.5286258879649695,2.5332281335877114,2.54542322187757,2.5394582282204596,2.555980572954901,2.565627914991201,2.580965625990856,2.5713473258789517,2.565116033669368,2.5705279266112604,2.5801567856272567,2.581803575285221],\"z\":[2.6632521453233795,2.725711456054052,2.7867528128138197,2.8467407226335784,2.9051023082319087,2.963295946954893,3.019679617736098,3.0790925721534426,3.1256594615901117,3.1873590944542616,3.2328171992569055,3.2858219278451513,3.325775253548541,3.3854551469977725,3.422423367444415,3.4823265579241025,3.5181519964227324,3.5659670963918235,3.612518439880418,3.65432835460167,3.6966648631088805,3.7311659592544286,3.7807943466049467,3.8195105145691706,3.8591974809701175,3.8891255820258244,3.9450288509507225,3.9765543324585546,3.9953892134584748,4.03759871224641,4.0822013038005736,4.107989986771312,4.134184293851635,4.171190738974076,4.207091545380263,4.228110613250881,4.255826973799022,4.293106294382277,4.324265039920942,4.348643125298307,4.3669665872474495,4.384832775970464,4.415685002764777,4.4433884760004005,4.462830954112334,4.476114866094606,4.5095632089424775,4.528438716999807,4.540925693371627,4.561228924090597,4.572318141977106,4.597119226957171,4.616028017026629,4.625443018432789,4.635487313112682,4.6442452372585095,4.656650375024637,4.672423445267621,4.678268611821148,4.6872414868569585,4.691311543664011,4.695991254389598,4.699654934891455,4.702999804225048,4.704330932879976,4.704549086309804,4.703605169805142,4.69982925693937,4.693325049185834,4.689811434886681,4.683313206187381,4.672152599188555,4.663958101831022,4.6533257738136395,4.635994928724117,4.621290900486324,4.601766112674024,4.584056332559525,4.562244966728609,4.545859248132611,4.528791610292953,4.505580276560604,4.444733446756578,4.418984987573335,4.378425941341499,4.351097342773381,4.337925679310049,4.3081099749696685,4.256210139468069,4.1996396977203725,4.162583673464824,4.101325655595491,4.050840040912309,4.007293228310356,3.95122149290112,3.8801834447633663,3.8260394581567847,3.7560552458769956,3.7148282718418706,3.6349840521139987,3.539464631104348,3.4608671424809723,3.3839103766856846,3.3037498538947663,3.1892158393241914,3.1047532300074123,3.0266610644778753,2.913558114408321,2.8329045768571617,2.6993138108092865,2.6334440384869384,2.4939951291528026,2.379521584233224,2.2719391654317844,2.106606378647528,1.9580926202736224,1.8436516923732809,1.6964072574119422,1.5550918376631375,1.4088118948725634,1.2478875255804875,1.0791603328389714,0.9134600385851585,0.7653344011186206,0.6555662575086127,0.4187964619530857,0.23350454560356568,0.07760516337448628],\"type\":\"scatter3d\"},{\"marker\":{\"color\":\"green\",\"size\":2},\"mode\":\"markers\",\"name\":\"Predicted Values (Extra Trees)\",\"opacity\":0.7,\"x\":[4.075750029000004,4.152361229999998,4.227320743999997,4.301083163639999,4.377711646000008,4.449172124000012,4.522070687999997,4.596619089999994,4.669070300999992,4.739822006560003,4.810178171000007,4.8807045140000005,4.9511120749699975,5.020535074000006,5.089385046000007,5.15791373506,5.225423748000012,5.293004289000006,5.3597313070000006,5.427389826000008,5.492321526000005,5.557101928000002,5.622504725999992,5.686246514340006,5.749580403999984,5.816007399239997,5.875188064999987,5.936943303000009,5.999553382999997,6.06063171699999,6.120881822999993,6.1827512873199995,6.240280846000008,6.299544716840009,6.358454471999993,6.4154121639999975,6.472008222,6.530793974769997,6.586382598,6.641192631000001,6.697002221000007,6.7523919910000005,6.805937094,6.859240073090008,6.911773595,6.964813228000015,7.017797019,7.073968029300002,7.1195766580000175,7.169054638000003,7.217761892850008,7.269505750000007,7.315450602470006,7.366224224000006,7.414092495999998,7.46017105500001,7.507967922000005,7.561987506770004,7.5981048209999935,7.6454722869999925,7.690859386000017,7.742179773200006,7.778652606000008,7.820365831000003,7.861824062999981,7.904468104999987,7.947047976000013,7.987833928999985,8.028463072000013,8.064429564380003,8.10837057699999,8.14707789253,8.186106374000012,8.221655994,8.258270285999997,8.296144841999991,8.331785358000014,8.37015845300001,8.403105658999982,8.437358414999983,8.472420244999993,8.503817866999986,8.538505954000009,8.570917872999992,8.604554636210008,8.635467842000018,8.665143664999986,8.696103551999984,8.727495320000001,8.756505004000012,8.785245980000012,8.81241270099998,8.839581134000012,8.86717802800001,8.894336468000004,8.920062764000015,8.944945869999994,8.971071148999984,8.994311487000003,9.017070752819995,9.04254811199999,9.064979142019991,9.08948506499999,9.110900947999996,9.133452905510007,9.152180247000016,9.173076834999986,9.19265514999998,9.212086514000013,9.230230247000007,9.247011872000007,9.26530355900001,9.28218166399998,9.300387826000012,9.314941773050013,9.331354421519988,9.34714715400002,9.363283667000012,9.375953114300003,9.389525781999987,9.40108083540001,9.414345534909986,9.426071061000009,9.436810102999978,9.448054876759993,9.459685903000013,9.46872577200001,9.477086579],\"y\":[1.021720970999998,1.0436888800000013,1.0651831750000011,1.0882230581199988,1.1083070720000014,1.1287980339999992,1.1497013609999984,1.171077771,1.1918528209999983,1.2111460011199995,1.2323148520000016,1.2525379559999983,1.2680756738999985,1.2926337229999978,1.3123761349999972,1.3338834735999985,1.351384605000003,1.370763014000002,1.3898966780000006,1.4092974459999987,1.427916311999998,1.4464917930000039,1.4652457439999986,1.4818952100600018,1.5016841080000032,1.515410013239999,1.5377015249999997,1.5554095550000002,1.5733627060000006,1.5908766359999993,1.6081530759999993,1.6220761877299992,1.642390194999999,1.6556812725300016,1.676275937000003,1.6926082930000037,1.7088369509999972,1.6996640809100012,1.7416332759999977,1.757349799999996,1.7733529420000018,1.7892357030000021,1.804589513999996,1.8254901569299984,1.8349376429999984,1.8501465129999988,1.8653393699999965,1.894305621259997,1.8945242119999954,1.908711794999997,1.9214985105299984,1.937515687000001,1.9551253564899989,1.9652492639999957,1.9789752700000043,1.9921880839999986,2.005893614999998,2.0235021356599994,2.031739955000004,2.045322357000003,2.0583368979999954,2.069543549009995,2.083511198999995,2.095472274000002,2.107360231000001,2.1195882129999943,2.1317977939999957,2.143492978000004,2.155143197999997,2.1670013795599994,2.1780563060000016,2.1986087091600024,2.200346687000005,2.2105403770000005,2.221039356000004,2.231899709999995,2.2421194629999963,2.253122772000004,2.2625702310000047,2.2723920509999975,2.282445867999997,2.291448992,2.3013956409999996,2.310689609000002,2.3255797181600015,2.329199015,2.337708420000005,2.3465860240000023,2.355587469,2.3639058619999975,2.3721472039999942,2.3799371370000055,2.387727559000005,2.395640840999995,2.4034283990000045,2.410805294999996,2.417940410999996,2.425431714000005,2.4320957740000027,2.435819785210002,2.445927404000002,2.4571939702899996,2.459386357999996,2.4655272640000017,2.463390033039999,2.477363911999994,2.4833559120000017,2.488969903999994,2.4945417579999973,2.499744389999996,2.5045564430000056,2.509801500000003,2.5146412189999983,2.5198617519999975,2.510653641850002,2.5171477866800007,2.5332697730000002,2.5378968439999947,2.5216803863800035,2.5454216489999966,2.5410561793000017,2.542843764610002,2.555900839999998,2.5589802099999943,2.574031037770004,2.565539739999997,2.5769111852900006,2.570529303999996],\"z\":[2.6629555620000014,2.7239674539999954,2.786702466000003,2.8483616153200004,2.9039653659999995,2.9628931279999993,3.0179074190000006,3.074090555999993,3.1278962819999965,3.1810456372399982,3.2307607100000046,3.2823398819999956,3.3315819864,3.3821861430000073,3.4289330259999984,3.4757629036800015,3.522094080999997,3.5681247759999946,3.611484865000004,3.6527954709999944,3.697090221999991,3.737147177999992,3.7782983000000026,3.817717603700004,3.856371921000003,3.8951755559200025,3.9315225679999948,3.9684654280000013,4.00382617100001,4.037153375000002,4.071374889000008,4.104726945450004,4.135078367000005,4.168817212599995,4.197836182000002,4.231326648999995,4.260284081000005,4.2899562784299965,4.316374882999994,4.341280340000009,4.368550323000007,4.3911536919999925,4.41853547900001,4.439650137429994,4.4624370000000075,4.484626664000006,4.505159384000009,4.526871623670003,4.544097002,4.564515498999994,4.579677848169998,4.595834056,4.609316806400005,4.62397760200001,4.63751019,4.650441935999994,4.661230943000007,4.672292475279997,4.6798357679999905,4.688634734000003,4.693053458999999,4.698739742050003,4.702844979000007,4.707206573999998,4.708702580000007,4.707846610999992,4.706627459999994,4.704242715000008,4.69884608500001,4.693718575539998,4.687362701999988,4.67709225135,4.6660748080000065,4.656448151999997,4.643813334000003,4.628435630000009,4.61148206799999,4.593812821000013,4.570878078000006,4.549880348999992,4.524544546000004,4.499203808999995,4.470913095000011,4.437431883999992,4.402269851870001,4.369636151000005,4.334474220000003,4.293435133999996,4.251849280999993,4.205892260999991,4.159651682999994,4.112080983999992,4.058166296000007,4.004950211999996,3.947568848999996,3.8863555049999974,3.8252287380000034,3.756947191999999,3.6881671200000024,3.61830827779,3.5393699429999974,3.4630806064500006,3.380078930000004,3.2958821380000036,3.195849787020001,3.11481299,3.018087443000007,2.920428953999994,2.817070371,2.710662977,2.5993019889999984,2.483811903999998,2.365697046999998,2.244104875000003,2.1305054530999983,1.9784451968399974,1.8493281899999965,1.7088759590000009,1.5585788775200007,1.414506870999999,1.272755568439998,1.1031137034299985,0.9371345020000015,0.768971366000001,0.5978941312099991,0.41402234099999957,0.2307569216000001,0.04223245699999992],\"type\":\"scatter3d\"},{\"line\":{\"color\":\"black\",\"width\":1},\"mode\":\"lines\",\"name\":\"Court Boundaries\",\"x\":[0,13.4,13.4,0,0],\"y\":[0,0,5.18,5.18,0],\"z\":[0,0,0,0,0],\"type\":\"scatter3d\"},{\"line\":{\"color\":\"black\",\"width\":1},\"mode\":\"lines\",\"name\":\"Center Line\",\"x\":[0,4.68,4.68,0,0],\"y\":[2.59,2.59,2.59,2.59,2.59],\"z\":[0,0,0,0,0],\"type\":\"scatter3d\"},{\"line\":{\"color\":\"black\",\"width\":1},\"mode\":\"lines\",\"name\":\"Center Line\",\"x\":[8.72,13.4],\"y\":[2.59,2.59],\"z\":[0,0,0,0,0],\"type\":\"scatter3d\"},{\"line\":{\"color\":\"black\",\"width\":1},\"mode\":\"lines\",\"name\":\"Short Service Lines\",\"x\":[4.72,4.72],\"y\":[0,5.18],\"z\":[0,0],\"type\":\"scatter3d\"},{\"line\":{\"color\":\"black\",\"width\":1},\"mode\":\"lines\",\"name\":\"Short Service Lines\",\"x\":[8.680000000000001,8.680000000000001],\"y\":[0,5.18],\"z\":[0,0],\"type\":\"scatter3d\"},{\"line\":{\"color\":\"red\",\"width\":1},\"mode\":\"lines\",\"name\":\"Net\",\"x\":[6.7,6.7],\"y\":[0,5.18],\"z\":[1.55,1.55],\"type\":\"scatter3d\"},{\"line\":{\"color\":\"green\",\"width\":5},\"marker\":{\"color\":\"cyan\",\"line\":{\"color\":\"black\",\"width\":4},\"size\":10,\"symbol\":\"cross\"},\"mode\":\"lines+markers\",\"name\":\"Predicted Position\",\"opacity\":1,\"x\":[9.476341090090877],\"y\":[2.5761664396426083],\"z\":[0.0599188101872431],\"type\":\"scatter3d\"},{\"line\":{\"color\":\"green\",\"width\":5},\"marker\":{\"color\":\"cyan\",\"line\":{\"color\":\"black\",\"width\":4},\"size\":6,\"symbol\":\"diamond\"},\"mode\":\"lines+markers\",\"name\":\"Average Highest XYZ-point\",\"opacity\":1,\"x\":[7.887200283286754],\"y\":[2.115678091891993],\"z\":[4.706625833154906],\"type\":\"scatter3d\"},{\"marker\":{\"color\":\"blue\",\"size\":10},\"mode\":\"markers\",\"name\":\"Initial Starting Point (Hit)\",\"opacity\":1,\"x\":[12.081471488238922],\"y\":[0.623632206175385],\"z\":[1.115],\"type\":\"scatter3d\"},{\"marker\":{\"color\":\"blue\",\"size\":10},\"mode\":\"markers\",\"name\":\"Initial Starting Point (Hit)\",\"opacity\":1,\"x\":[8.88096297274802],\"y\":[1.8246232628728114],\"z\":[1.115],\"type\":\"scatter3d\"},{\"marker\":{\"color\":\"blue\",\"size\":10},\"mode\":\"markers\",\"name\":\"Initial Starting Point (Hit)\",\"opacity\":1,\"x\":[9.618462949983975],\"y\":[1.33489161408521],\"z\":[1.115],\"type\":\"scatter3d\"},{\"marker\":{\"color\":\"green\",\"size\":10},\"mode\":\"markers\",\"name\":\"Point to Hit the Ball\",\"opacity\":1,\"x\":[9.680341090090877],\"y\":[2.8061664396426083],\"z\":[1.115],\"type\":\"scatter3d\"}],                        {\"template\":{\"data\":{\"histogram2dcontour\":[{\"type\":\"histogram2dcontour\",\"colorbar\":{\"outlinewidth\":0,\"ticks\":\"\"},\"colorscale\":[[0.0,\"#0d0887\"],[0.1111111111111111,\"#46039f\"],[0.2222222222222222,\"#7201a8\"],[0.3333333333333333,\"#9c179e\"],[0.4444444444444444,\"#bd3786\"],[0.5555555555555556,\"#d8576b\"],[0.6666666666666666,\"#ed7953\"],[0.7777777777777778,\"#fb9f3a\"],[0.8888888888888888,\"#fdca26\"],[1.0,\"#f0f921\"]]}],\"choropleth\":[{\"type\":\"choropleth\",\"colorbar\":{\"outlinewidth\":0,\"ticks\":\"\"}}],\"histogram2d\":[{\"type\":\"histogram2d\",\"colorbar\":{\"outlinewidth\":0,\"ticks\":\"\"},\"colorscale\":[[0.0,\"#0d0887\"],[0.1111111111111111,\"#46039f\"],[0.2222222222222222,\"#7201a8\"],[0.3333333333333333,\"#9c179e\"],[0.4444444444444444,\"#bd3786\"],[0.5555555555555556,\"#d8576b\"],[0.6666666666666666,\"#ed7953\"],[0.7777777777777778,\"#fb9f3a\"],[0.8888888888888888,\"#fdca26\"],[1.0,\"#f0f921\"]]}],\"heatmap\":[{\"type\":\"heatmap\",\"colorbar\":{\"outlinewidth\":0,\"ticks\":\"\"},\"colorscale\":[[0.0,\"#0d0887\"],[0.1111111111111111,\"#46039f\"],[0.2222222222222222,\"#7201a8\"],[0.3333333333333333,\"#9c179e\"],[0.4444444444444444,\"#bd3786\"],[0.5555555555555556,\"#d8576b\"],[0.6666666666666666,\"#ed7953\"],[0.7777777777777778,\"#fb9f3a\"],[0.8888888888888888,\"#fdca26\"],[1.0,\"#f0f921\"]]}],\"heatmapgl\":[{\"type\":\"heatmapgl\",\"colorbar\":{\"outlinewidth\":0,\"ticks\":\"\"},\"colorscale\":[[0.0,\"#0d0887\"],[0.1111111111111111,\"#46039f\"],[0.2222222222222222,\"#7201a8\"],[0.3333333333333333,\"#9c179e\"],[0.4444444444444444,\"#bd3786\"],[0.5555555555555556,\"#d8576b\"],[0.6666666666666666,\"#ed7953\"],[0.7777777777777778,\"#fb9f3a\"],[0.8888888888888888,\"#fdca26\"],[1.0,\"#f0f921\"]]}],\"contourcarpet\":[{\"type\":\"contourcarpet\",\"colorbar\":{\"outlinewidth\":0,\"ticks\":\"\"}}],\"contour\":[{\"type\":\"contour\",\"colorbar\":{\"outlinewidth\":0,\"ticks\":\"\"},\"colorscale\":[[0.0,\"#0d0887\"],[0.1111111111111111,\"#46039f\"],[0.2222222222222222,\"#7201a8\"],[0.3333333333333333,\"#9c179e\"],[0.4444444444444444,\"#bd3786\"],[0.5555555555555556,\"#d8576b\"],[0.6666666666666666,\"#ed7953\"],[0.7777777777777778,\"#fb9f3a\"],[0.8888888888888888,\"#fdca26\"],[1.0,\"#f0f921\"]]}],\"surface\":[{\"type\":\"surface\",\"colorbar\":{\"outlinewidth\":0,\"ticks\":\"\"},\"colorscale\":[[0.0,\"#0d0887\"],[0.1111111111111111,\"#46039f\"],[0.2222222222222222,\"#7201a8\"],[0.3333333333333333,\"#9c179e\"],[0.4444444444444444,\"#bd3786\"],[0.5555555555555556,\"#d8576b\"],[0.6666666666666666,\"#ed7953\"],[0.7777777777777778,\"#fb9f3a\"],[0.8888888888888888,\"#fdca26\"],[1.0,\"#f0f921\"]]}],\"mesh3d\":[{\"type\":\"mesh3d\",\"colorbar\":{\"outlinewidth\":0,\"ticks\":\"\"}}],\"scatter\":[{\"fillpattern\":{\"fillmode\":\"overlay\",\"size\":10,\"solidity\":0.2},\"type\":\"scatter\"}],\"parcoords\":[{\"type\":\"parcoords\",\"line\":{\"colorbar\":{\"outlinewidth\":0,\"ticks\":\"\"}}}],\"scatterpolargl\":[{\"type\":\"scatterpolargl\",\"marker\":{\"colorbar\":{\"outlinewidth\":0,\"ticks\":\"\"}}}],\"bar\":[{\"error_x\":{\"color\":\"#2a3f5f\"},\"error_y\":{\"color\":\"#2a3f5f\"},\"marker\":{\"line\":{\"color\":\"#E5ECF6\",\"width\":0.5},\"pattern\":{\"fillmode\":\"overlay\",\"size\":10,\"solidity\":0.2}},\"type\":\"bar\"}],\"scattergeo\":[{\"type\":\"scattergeo\",\"marker\":{\"colorbar\":{\"outlinewidth\":0,\"ticks\":\"\"}}}],\"scatterpolar\":[{\"type\":\"scatterpolar\",\"marker\":{\"colorbar\":{\"outlinewidth\":0,\"ticks\":\"\"}}}],\"histogram\":[{\"marker\":{\"pattern\":{\"fillmode\":\"overlay\",\"size\":10,\"solidity\":0.2}},\"type\":\"histogram\"}],\"scattergl\":[{\"type\":\"scattergl\",\"marker\":{\"colorbar\":{\"outlinewidth\":0,\"ticks\":\"\"}}}],\"scatter3d\":[{\"type\":\"scatter3d\",\"line\":{\"colorbar\":{\"outlinewidth\":0,\"ticks\":\"\"}},\"marker\":{\"colorbar\":{\"outlinewidth\":0,\"ticks\":\"\"}}}],\"scattermapbox\":[{\"type\":\"scattermapbox\",\"marker\":{\"colorbar\":{\"outlinewidth\":0,\"ticks\":\"\"}}}],\"scatterternary\":[{\"type\":\"scatterternary\",\"marker\":{\"colorbar\":{\"outlinewidth\":0,\"ticks\":\"\"}}}],\"scattercarpet\":[{\"type\":\"scattercarpet\",\"marker\":{\"colorbar\":{\"outlinewidth\":0,\"ticks\":\"\"}}}],\"carpet\":[{\"aaxis\":{\"endlinecolor\":\"#2a3f5f\",\"gridcolor\":\"white\",\"linecolor\":\"white\",\"minorgridcolor\":\"white\",\"startlinecolor\":\"#2a3f5f\"},\"baxis\":{\"endlinecolor\":\"#2a3f5f\",\"gridcolor\":\"white\",\"linecolor\":\"white\",\"minorgridcolor\":\"white\",\"startlinecolor\":\"#2a3f5f\"},\"type\":\"carpet\"}],\"table\":[{\"cells\":{\"fill\":{\"color\":\"#EBF0F8\"},\"line\":{\"color\":\"white\"}},\"header\":{\"fill\":{\"color\":\"#C8D4E3\"},\"line\":{\"color\":\"white\"}},\"type\":\"table\"}],\"barpolar\":[{\"marker\":{\"line\":{\"color\":\"#E5ECF6\",\"width\":0.5},\"pattern\":{\"fillmode\":\"overlay\",\"size\":10,\"solidity\":0.2}},\"type\":\"barpolar\"}],\"pie\":[{\"automargin\":true,\"type\":\"pie\"}]},\"layout\":{\"autotypenumbers\":\"strict\",\"colorway\":[\"#636efa\",\"#EF553B\",\"#00cc96\",\"#ab63fa\",\"#FFA15A\",\"#19d3f3\",\"#FF6692\",\"#B6E880\",\"#FF97FF\",\"#FECB52\"],\"font\":{\"color\":\"#2a3f5f\"},\"hovermode\":\"closest\",\"hoverlabel\":{\"align\":\"left\"},\"paper_bgcolor\":\"white\",\"plot_bgcolor\":\"#E5ECF6\",\"polar\":{\"bgcolor\":\"#E5ECF6\",\"angularaxis\":{\"gridcolor\":\"white\",\"linecolor\":\"white\",\"ticks\":\"\"},\"radialaxis\":{\"gridcolor\":\"white\",\"linecolor\":\"white\",\"ticks\":\"\"}},\"ternary\":{\"bgcolor\":\"#E5ECF6\",\"aaxis\":{\"gridcolor\":\"white\",\"linecolor\":\"white\",\"ticks\":\"\"},\"baxis\":{\"gridcolor\":\"white\",\"linecolor\":\"white\",\"ticks\":\"\"},\"caxis\":{\"gridcolor\":\"white\",\"linecolor\":\"white\",\"ticks\":\"\"}},\"coloraxis\":{\"colorbar\":{\"outlinewidth\":0,\"ticks\":\"\"}},\"colorscale\":{\"sequential\":[[0.0,\"#0d0887\"],[0.1111111111111111,\"#46039f\"],[0.2222222222222222,\"#7201a8\"],[0.3333333333333333,\"#9c179e\"],[0.4444444444444444,\"#bd3786\"],[0.5555555555555556,\"#d8576b\"],[0.6666666666666666,\"#ed7953\"],[0.7777777777777778,\"#fb9f3a\"],[0.8888888888888888,\"#fdca26\"],[1.0,\"#f0f921\"]],\"sequentialminus\":[[0.0,\"#0d0887\"],[0.1111111111111111,\"#46039f\"],[0.2222222222222222,\"#7201a8\"],[0.3333333333333333,\"#9c179e\"],[0.4444444444444444,\"#bd3786\"],[0.5555555555555556,\"#d8576b\"],[0.6666666666666666,\"#ed7953\"],[0.7777777777777778,\"#fb9f3a\"],[0.8888888888888888,\"#fdca26\"],[1.0,\"#f0f921\"]],\"diverging\":[[0,\"#8e0152\"],[0.1,\"#c51b7d\"],[0.2,\"#de77ae\"],[0.3,\"#f1b6da\"],[0.4,\"#fde0ef\"],[0.5,\"#f7f7f7\"],[0.6,\"#e6f5d0\"],[0.7,\"#b8e186\"],[0.8,\"#7fbc41\"],[0.9,\"#4d9221\"],[1,\"#276419\"]]},\"xaxis\":{\"gridcolor\":\"white\",\"linecolor\":\"white\",\"ticks\":\"\",\"title\":{\"standoff\":15},\"zerolinecolor\":\"white\",\"automargin\":true,\"zerolinewidth\":2},\"yaxis\":{\"gridcolor\":\"white\",\"linecolor\":\"white\",\"ticks\":\"\",\"title\":{\"standoff\":15},\"zerolinecolor\":\"white\",\"automargin\":true,\"zerolinewidth\":2},\"scene\":{\"xaxis\":{\"backgroundcolor\":\"#E5ECF6\",\"gridcolor\":\"white\",\"linecolor\":\"white\",\"showbackground\":true,\"ticks\":\"\",\"zerolinecolor\":\"white\",\"gridwidth\":2},\"yaxis\":{\"backgroundcolor\":\"#E5ECF6\",\"gridcolor\":\"white\",\"linecolor\":\"white\",\"showbackground\":true,\"ticks\":\"\",\"zerolinecolor\":\"white\",\"gridwidth\":2},\"zaxis\":{\"backgroundcolor\":\"#E5ECF6\",\"gridcolor\":\"white\",\"linecolor\":\"white\",\"showbackground\":true,\"ticks\":\"\",\"zerolinecolor\":\"white\",\"gridwidth\":2}},\"shapedefaults\":{\"line\":{\"color\":\"#2a3f5f\"}},\"annotationdefaults\":{\"arrowcolor\":\"#2a3f5f\",\"arrowhead\":0,\"arrowwidth\":1},\"geo\":{\"bgcolor\":\"white\",\"landcolor\":\"#E5ECF6\",\"subunitcolor\":\"white\",\"showland\":true,\"showlakes\":true,\"lakecolor\":\"white\"},\"title\":{\"x\":0.05},\"mapbox\":{\"style\":\"light\"}}},\"scene\":{\"xaxis\":{\"title\":{\"text\":\"X-coordinate\"},\"range\":[-4,18]},\"yaxis\":{\"title\":{\"text\":\"Y-coordinate\"},\"range\":[-2,7]},\"zaxis\":{\"title\":{\"text\":\"Z-coordinate\"},\"range\":[0,12]},\"aspectratio\":{\"x\":1,\"y\":1,\"z\":1},\"aspectmode\":\"manual\"},\"title\":{\"text\":\"Shuttlecock Trajectory Estimation\"}},                        {\"responsive\": true}                    ).then(function(){\n",
       "                            \n",
       "var gd = document.getElementById('a41846a3-9d21-411c-a2cb-e7ff91ea438c');\n",
       "var x = new MutationObserver(function (mutations, observer) {{\n",
       "        var display = window.getComputedStyle(gd).display;\n",
       "        if (!display || display === 'none') {{\n",
       "            console.log([gd, 'removed!']);\n",
       "            Plotly.purge(gd);\n",
       "            observer.disconnect();\n",
       "        }}\n",
       "}});\n",
       "\n",
       "// Listen for the removal of the full notebook cells\n",
       "var notebookContainer = gd.closest('#notebook-container');\n",
       "if (notebookContainer) {{\n",
       "    x.observe(notebookContainer, {childList: true});\n",
       "}}\n",
       "\n",
       "// Listen for the clearing of the current output cell\n",
       "var outputEl = gd.closest('.output');\n",
       "if (outputEl) {{\n",
       "    x.observe(outputEl, {childList: true});\n",
       "}}\n",
       "\n",
       "                        })                };                });            </script>        </div>"
      ]
     },
     "metadata": {},
     "output_type": "display_data"
    },
    {
     "data": {
      "text/plain": [
       "'interactive_models/robot_pred_limited_reg.html'"
      ]
     },
     "execution_count": 107,
     "metadata": {},
     "output_type": "execute_result"
    }
   ],
   "source": [
    "# import plotly.graph_objects as go\n",
    "# Define court dimensions\n",
    "court_length_x = 13.4\n",
    "court_length_y = 5.18\n",
    "court_height_skybox = 10\n",
    "court_height_net = 1.55\n",
    "court_length_centerline = 4.68\n",
    "\n",
    "def is_point_within_court(x, y, z, court_length_x, court_length_y, court_height_skybox):\n",
    "    \"\"\"\n",
    "    Check if a point is within the court boundaries.\n",
    "    \n",
    "    Args:\n",
    "        x (float): X-coordinate of the point\n",
    "        y (float): Y-coordinate of the point\n",
    "        z (float): Z-coordinate of the point\n",
    "        court_length_x (float): Length of the court along the X-axis\n",
    "        court_length_y (float): Length of the court along the Y-axis\n",
    "        court_height_skybox (float): Height of the court's skybox\n",
    "    \n",
    "    Returns:\n",
    "        bool: True if the point is within the court boundaries, False otherwise\n",
    "    \"\"\"\n",
    "    return 0 <= x <= court_length_x and 0 <= y <= court_length_y and 0 <= z <= court_height_skybox\n",
    "\n",
    "\n",
    "# Create the 3D scatter plot\n",
    "fig = go.Figure(data=[\n",
    "    go.Scatter3d(\n",
    "        x=y_actual_coords['SHUTTLECOCK POSITIION IN AIR(X) metres'],\n",
    "        y=y_actual_coords['SHUTTLECOCK POSITIION IN AIR(Y) metres'],\n",
    "        z=y_actual_coords['SHUTTLECOCK POSITIION IN AIR(Z) metres'],\n",
    "        mode='markers',\n",
    "        name='True Values',\n",
    "        marker=dict(color='blue', size=2),\n",
    "        opacity=0.7\n",
    "    ),\n",
    "    go.Scatter3d(\n",
    "        x=predicted_trajectory_points_RT[:, 0],\n",
    "        y=predicted_trajectory_points_RT[:, 1],\n",
    "        z=predicted_trajectory_points_RT[:, 2],\n",
    "        mode='markers',\n",
    "        name='Predicted Values (Random Forest)',\n",
    "        marker=dict(color='red', size=2),\n",
    "        opacity=0.7\n",
    "    ),\n",
    "    go.Scatter3d(\n",
    "        x=predicted_trajectory_points_ET[:, 0],\n",
    "        y=predicted_trajectory_points_ET[:, 1],\n",
    "        z=predicted_trajectory_points_ET[:, 2],\n",
    "        mode='markers',\n",
    "        name='Predicted Values (Extra Trees)',\n",
    "        marker=dict(color='green', size=2),\n",
    "        opacity=0.7\n",
    "    ),\n",
    "])\n",
    "\n",
    "# Set plot title and axis labels\n",
    "fig.update_layout(\n",
    "    title='Shuttlecock Trajectory Estimation',\n",
    "    scene=dict(\n",
    "        xaxis_title='X-coordinate',\n",
    "        yaxis_title='Y-coordinate',\n",
    "        zaxis_title='Z-coordinate',\n",
    "        xaxis=dict(range=[-4, 18]),  # Set the range for X-axis\n",
    "        yaxis=dict(range=[-2, 7]),   # Set the range for Y-axis\n",
    "        zaxis=dict(range=[0, 12]),  # Set the range for Z-axis\n",
    "        aspectmode='manual',         # Set the aspect mode to manual for custom scaling\n",
    "        aspectratio=dict(x=1, y=1, z=1)  # Set the aspect ratio for equal scaling of axes\n",
    "    )\n",
    ")\n",
    "\n",
    "# Add court lines to the plot\n",
    "fig.add_trace(go.Scatter3d(\n",
    "    x=[0, court_length_x, court_length_x, 0, 0],\n",
    "    y=[0, 0, court_length_y, court_length_y, 0],\n",
    "    z=[0, 0, 0, 0, 0],\n",
    "    mode='lines',\n",
    "    name='Court Boundaries',\n",
    "    line=dict(color='black', width=1)\n",
    "))\n",
    "\n",
    "fig.add_trace(go.Scatter3d(\n",
    "    x=[0, court_length_centerline, court_length_centerline, 0, 0],\n",
    "    y=[court_length_y / 2, court_length_y / 2, court_length_y / 2, court_length_y / 2, court_length_y / 2],\n",
    "    z=[0, 0, 0, 0, 0],\n",
    "    mode='lines',\n",
    "    name='Center Line',\n",
    "    line=dict(color='black', width=1)\n",
    "))\n",
    "\n",
    "fig.add_trace(go.Scatter3d(\n",
    "    x=[court_length_x - court_length_centerline, court_length_x],\n",
    "    y=[court_length_y / 2, court_length_y / 2],\n",
    "    z=[0, 0, 0, 0, 0],\n",
    "    mode='lines',\n",
    "    name='Center Line',\n",
    "    line=dict(color='black', width=1)\n",
    "))\n",
    "\n",
    "fig.add_trace(go.Scatter3d(\n",
    "    x=[court_length_centerline + 0.04, court_length_centerline + 0.04],\n",
    "    y=[0, court_length_y],\n",
    "    z=[0, 0],\n",
    "    mode='lines',\n",
    "    name='Short Service Lines',\n",
    "    line=dict(color='black', width=1)\n",
    "))\n",
    "\n",
    "fig.add_trace(go.Scatter3d(\n",
    "    x=[court_length_x - court_length_centerline - 0.04, court_length_x - court_length_centerline - 0.04],\n",
    "    y=[0, court_length_y],\n",
    "    z=[0, 0],\n",
    "    mode='lines',\n",
    "    name='Short Service Lines',\n",
    "    line=dict(color='black', width=1)\n",
    "))\n",
    "\n",
    "fig.add_trace(go.Scatter3d(\n",
    "    x=[court_length_x / 2, court_length_x / 2],\n",
    "    y=[0, court_length_y],\n",
    "    z=[court_height_net, court_height_net],\n",
    "    mode='lines',\n",
    "    name='Net',\n",
    "    line=dict(color='red', width=1)\n",
    "))\n",
    "\n",
    "# Initialize variables\n",
    "all_within_court_RT = True\n",
    "all_within_court_ET = True\n",
    "highest_xyz_points_RT = []\n",
    "highest_xyz_points_ET = []\n",
    "highest_z_index_RT = np.argmax(predicted_trajectory_points_RT[:, 2])\n",
    "highest_z_index_ET = np.argmax(predicted_trajectory_points_ET[:, 2])\n",
    "\n",
    "# Check if all predicted values for the RT group are within the court\n",
    "for point in predicted_trajectory_points_RT:\n",
    "    x, y, z = point\n",
    "    if not is_point_within_court(x, y, z, court_length_x, court_length_y, court_height_skybox):\n",
    "        all_within_court_RT = False\n",
    "        break\n",
    "\n",
    "# Check if all predicted values for the ET group are within the court\n",
    "for point in predicted_trajectory_points_ET:\n",
    "    x, y, z = point\n",
    "    if not is_point_within_court(x, y, z, court_length_x, court_length_y, court_height_skybox):\n",
    "        all_within_court_ET = False\n",
    "        break\n",
    "\n",
    "# Retrieve final XYZ for RT group if all predictions are within the court\n",
    "if all_within_court_RT:\n",
    "    highest_xyz_points_RT = predicted_trajectory_points_RT[-1]\n",
    "    highest_xyz_point_RT = predicted_trajectory_points_RT[highest_z_index_RT]\n",
    "\n",
    "# Retrieve final XYZ for ET group if all predictions are within the court\n",
    "if all_within_court_ET:\n",
    "    highest_xyz_points_ET = predicted_trajectory_points_ET[-1]\n",
    "    highest_xyz_point_ET = predicted_trajectory_points_ET[highest_z_index_ET]\n",
    "\n",
    "# Average out the predicted XYZ points\n",
    "average_xyz = np.mean([highest_xyz_points_RT, highest_xyz_points_ET], axis=0)\n",
    "# Average out the highest XYZ points\n",
    "average_highest_xyz = np.mean([highest_xyz_point_RT, highest_xyz_point_ET], axis=0)\n",
    "\n",
    "# Print the count\n",
    "print(\"Is predicted Regression Tree (RT) within court: \", all_within_court_RT)\n",
    "print(\"Is predicted Extra Tree (ET) within court: \", all_within_court_ET)\n",
    "# Print the average XYZ values\n",
    "print(\"Average XYZ of Estimated Shuttlecock Position:\", average_xyz)\n",
    "\n",
    "# Add the average predicted X, Y, and Z points to the graph\n",
    "fig.add_trace(go.Scatter3d(\n",
    "    x=[average_xyz[0]],\n",
    "    y=[average_xyz[1]],\n",
    "    z=[average_xyz[2]],\n",
    "    mode='lines+markers',\n",
    "    name='Predicted Position',\n",
    "    line=dict(color=\"green\", width=5),\n",
    "    marker=dict(symbol=\"cross\", size=10, color=\"cyan\", line=dict(color=\"black\", width=4)),\n",
    "    opacity=1\n",
    "))\n",
    "\n",
    "# Add the average highest X, Y, and Z points to the graph\n",
    "fig.add_trace(go.Scatter3d(\n",
    "    x=[average_highest_xyz[0]],\n",
    "    y=[average_highest_xyz[1]],\n",
    "    z=[average_highest_xyz[2]],\n",
    "    mode='lines+markers',\n",
    "    name='Average Highest XYZ-point',\n",
    "    line=dict(color=\"green\", width=5),\n",
    "    marker=dict(symbol=\"diamond\", size=6, color=\"cyan\", line=dict(color=\"black\", width=4)),\n",
    "    opacity=1\n",
    "))\n",
    "\n",
    "# Calculate the height of the badminton racket from the ground\n",
    "badminton_height = (120 / 100) - (0.17/2)  # -> 0.17/2 assuming we want to hit it somewhere in the middle of the top quarter\n",
    "\n",
    "# Calculate the length and width of the robot\n",
    "robot_length = 20.4 / 100  # Convert length from cm to meters\n",
    "robot_width = 23 / 100  # Convert width from cm to meters\n",
    "\n",
    "# Define the range for the initial starting position\n",
    "x_range = [0, 4.72]\n",
    "y_range = [0, 5.18]\n",
    "\n",
    "# Define number of random positions to test\n",
    "no_of_random_pos = 3\n",
    "\n",
    "for i in range(no_of_random_pos):\n",
    "    # Generate random initial starting position within the specified range\n",
    "    random_initial_x = random.uniform(x_range[0], x_range[1])\n",
    "    random_initial_y = random.uniform(y_range[0], y_range[1])\n",
    "\n",
    "    # Calculate the position where the dummy robot should move to\n",
    "    robot_x = court_length_x - average_xyz[0] - robot_length - random_initial_x\n",
    "    robot_y = court_length_y - average_xyz[1] - robot_width - random_initial_y\n",
    "\n",
    "    # Calculate the distance traveled by the robot\n",
    "    robot_distance = np.sqrt(robot_x ** 2 + robot_y ** 2)\n",
    "    # Calculate the time required for the robot to move to the position\n",
    "    robot_movement_time = robot_distance / 3\n",
    "    print(\"Distance: {:.2f} meters in {:.2f} seconds\".format(robot_distance, robot_movement_time))\n",
    "\n",
    "    # Calculate the adjusted z-coordinate for hitting the shuttlecock\n",
    "    robot_z = average_highest_xyz[2] - badminton_height\n",
    "\n",
    "    # Check if the average highest XYZ-point is within the court and the robot can reach the position before the ball drops\n",
    "    if (\n",
    "        average_xyz[0] >= 0\n",
    "        and average_xyz[0] <= court_length_x\n",
    "        and average_xyz[1] >= 0\n",
    "        and average_xyz[1] <= court_length_y\n",
    "        and average_highest_xyz[2] >= 0\n",
    "        and average_highest_xyz[2] <= court_height_skybox\n",
    "        and robot_movement_time <= 1.5\n",
    "        and robot_z >= 0\n",
    "    ):\n",
    "        # Add the initial starting point of the dummy robot to the graph\n",
    "        fig.add_trace(\n",
    "            go.Scatter3d(\n",
    "                x=[court_length_x - random_initial_x],\n",
    "                y=[court_length_y - random_initial_y],\n",
    "                z=[badminton_height],\n",
    "                mode=\"markers\",\n",
    "                name=\"Initial Starting Point (Hit)\",\n",
    "                marker=dict(color=\"blue\", size=10),\n",
    "                opacity=1,\n",
    "            )\n",
    "        )\n",
    "\n",
    "        # Calculate the (x, y) difference\n",
    "        x_difference = robot_x\n",
    "        y_difference = robot_y\n",
    "\n",
    "        print(f\"X difference: {x_difference}\")\n",
    "        print(f\"Y difference: {y_difference}\")\n",
    "        print(f\"Time required: {robot_movement_time} seconds\")\n",
    "        print(\"Able to reach and hit on time\")\n",
    "    else:\n",
    "        # Add the initial starting point of the dummy robot to the graph\n",
    "        fig.add_trace(\n",
    "            go.Scatter3d(\n",
    "                x=[court_length_x - random_initial_x],\n",
    "                y=[court_length_y - random_initial_y],\n",
    "                z=[badminton_height],\n",
    "                mode=\"markers\",\n",
    "                name=\"Initial Starting Point (Miss)\",\n",
    "                marker=dict(color=\"red\", size=10),\n",
    "                opacity=0.3,\n",
    "            )\n",
    "        )\n",
    "\n",
    "        if robot_movement_time > 1.5:\n",
    "            print(f\"X difference: {x_difference}\")\n",
    "            print(f\"Y difference: {y_difference}\")\n",
    "            print(f\"Time required: {robot_movement_time} seconds\")\n",
    "            print(\"Cannot reach on time\")\n",
    "        else:\n",
    "            print(\"Cannot hit\")\n",
    "\n",
    "# Add the point where the dummy robot can hit the ball to the graph\n",
    "fig.add_trace(\n",
    "    go.Scatter3d(\n",
    "        x=[court_length_x - random_initial_x - robot_x],\n",
    "        y=[court_length_y - random_initial_y - robot_y],\n",
    "        z=[badminton_height],\n",
    "        mode=\"markers\",\n",
    "        name=\"Point to Hit the Ball\",\n",
    "        marker=dict(color=\"green\", size=10),\n",
    "        opacity=1,\n",
    "    )\n",
    ")\n",
    "\n",
    "# Show the 3D plot\n",
    "fig.show()\n",
    "\n",
    "# Save the plot as an HTML file\n",
    "offline.plot(fig, filename='interactive_models/robot_pred_limited_reg.html')\n",
    "\n",
    "\n"
   ]
  },
  {
   "cell_type": "markdown",
   "metadata": {},
   "source": [
    "## Determine Point for Countermeasures\n",
    "Based on the project specificiations where \n",
    "- robot + badminton height=120cm\n",
    "- racket length is 68cm\n",
    "- robot lenght is 52cm\n",
    "- assuming top quarter of racket is top 17cm\n",
    "We assume that robot countermeasure will happen at Z = 1.2 - (0.17/2) = 1.115 because we want to hit it somewhere in the middle of the top quarter"
   ]
  },
  {
   "cell_type": "code",
   "execution_count": 98,
   "metadata": {},
   "outputs": [],
   "source": [
    "# # filter out records that are under X = 6.7\n",
    "# filtered_df = predicted_trajectory_points_RF_DF[predicted_trajectory_points_RF_DF['X'] > 6.7]\n",
    "\n",
    "# # Determine absolute difference between Z and 1.115 for the filtered dataframe\n",
    "# filtered_df['Z_diff'] = abs(filtered_df['Z'] - 1.115)\n",
    "\n",
    "# # Find the row index with the minimum difference\n",
    "# closest_row_index = filtered_df['Z_diff'].idxmin()\n",
    "\n",
    "# # Access the row with the closest Z value in the filtered dataframe\n",
    "# closest_row = filtered_df.loc[closest_row_index]\n",
    "\n",
    "# # Print the row or perform further operations\n",
    "# print(\"Data Point closest to countermeasure\")\n",
    "# print(closest_row)"
   ]
  },
  {
   "cell_type": "code",
   "execution_count": null,
   "metadata": {},
   "outputs": [],
   "source": []
  }
 ],
 "metadata": {
  "kernelspec": {
   "display_name": "Python 3 (ipykernel)",
   "language": "python",
   "name": "python3"
  },
  "language_info": {
   "codemirror_mode": {
    "name": "ipython",
    "version": 3
   },
   "file_extension": ".py",
   "mimetype": "text/x-python",
   "name": "python",
   "nbconvert_exporter": "python",
   "pygments_lexer": "ipython3",
   "version": "3.10.4"
  }
 },
 "nbformat": 4,
 "nbformat_minor": 2
}
