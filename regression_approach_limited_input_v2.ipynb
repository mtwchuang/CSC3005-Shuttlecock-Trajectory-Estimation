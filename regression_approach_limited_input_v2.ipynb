{
 "cells": [
  {
   "attachments": {},
   "cell_type": "markdown",
   "metadata": {},
   "source": [
    "# Regression Limited Input Approach\n",
    "This approach assumes that input for both training and testing is just limited to its coordinates (X,Y,Z) and that testing is just using the first trajectory coordinate of an observation group. Based on these coordinates, we will group them up based on their observation groups and generate significant features such as human positions, initial velocity, initial slant angle and initial firing angle using mathematical formulas which will be used to train models for predictions. \n",
    "\n",
    "\n",
    "Random Forest Regressor is used to predict the data points of the trajectory, Decision Tree Classifier is used to determine number of observations an observation groups has. "
   ]
  },
  {
   "attachments": {},
   "cell_type": "markdown",
   "metadata": {},
   "source": [
    "## Importing Libraries and Dependencies"
   ]
  },
  {
   "cell_type": "code",
   "execution_count": 374,
   "metadata": {},
   "outputs": [
    {
     "name": "stdout",
     "output_type": "stream",
     "text": [
      "Requirement already satisfied: pandas in c:\\users\\matthew chuang\\documents\\github\\csc3005-shuttlecock-trajectory-estimation\\dependencies\\lib\\site-packages (2.0.3)\n",
      "Requirement already satisfied: python-dateutil>=2.8.2 in c:\\users\\matthew chuang\\documents\\github\\csc3005-shuttlecock-trajectory-estimation\\dependencies\\lib\\site-packages (from pandas) (2.8.2)\n",
      "Requirement already satisfied: pytz>=2020.1 in c:\\users\\matthew chuang\\documents\\github\\csc3005-shuttlecock-trajectory-estimation\\dependencies\\lib\\site-packages (from pandas) (2023.3)\n",
      "Requirement already satisfied: tzdata>=2022.1 in c:\\users\\matthew chuang\\documents\\github\\csc3005-shuttlecock-trajectory-estimation\\dependencies\\lib\\site-packages (from pandas) (2023.3)\n",
      "Requirement already satisfied: numpy>=1.20.3 in c:\\users\\matthew chuang\\documents\\github\\csc3005-shuttlecock-trajectory-estimation\\dependencies\\lib\\site-packages (from pandas) (1.25.0)\n",
      "Requirement already satisfied: six>=1.5 in c:\\users\\matthew chuang\\documents\\github\\csc3005-shuttlecock-trajectory-estimation\\dependencies\\lib\\site-packages (from python-dateutil>=2.8.2->pandas) (1.16.0)\n",
      "Note: you may need to restart the kernel to use updated packages.\n",
      "Requirement already satisfied: matplotlib in c:\\users\\matthew chuang\\documents\\github\\csc3005-shuttlecock-trajectory-estimation\\dependencies\\lib\\site-packages (3.7.1)\n",
      "Requirement already satisfied: contourpy>=1.0.1 in c:\\users\\matthew chuang\\documents\\github\\csc3005-shuttlecock-trajectory-estimation\\dependencies\\lib\\site-packages (from matplotlib) (1.1.0)\n",
      "Requirement already satisfied: cycler>=0.10 in c:\\users\\matthew chuang\\documents\\github\\csc3005-shuttlecock-trajectory-estimation\\dependencies\\lib\\site-packages (from matplotlib) (0.11.0)\n",
      "Requirement already satisfied: fonttools>=4.22.0 in c:\\users\\matthew chuang\\documents\\github\\csc3005-shuttlecock-trajectory-estimation\\dependencies\\lib\\site-packages (from matplotlib) (4.40.0)\n",
      "Requirement already satisfied: kiwisolver>=1.0.1 in c:\\users\\matthew chuang\\documents\\github\\csc3005-shuttlecock-trajectory-estimation\\dependencies\\lib\\site-packages (from matplotlib) (1.4.4)\n",
      "Requirement already satisfied: numpy>=1.20 in c:\\users\\matthew chuang\\documents\\github\\csc3005-shuttlecock-trajectory-estimation\\dependencies\\lib\\site-packages (from matplotlib) (1.25.0)\n",
      "Requirement already satisfied: packaging>=20.0 in c:\\users\\matthew chuang\\documents\\github\\csc3005-shuttlecock-trajectory-estimation\\dependencies\\lib\\site-packages (from matplotlib) (23.1)\n",
      "Requirement already satisfied: pillow>=6.2.0 in c:\\users\\matthew chuang\\documents\\github\\csc3005-shuttlecock-trajectory-estimation\\dependencies\\lib\\site-packages (from matplotlib) (10.0.0)\n",
      "Requirement already satisfied: pyparsing>=2.3.1 in c:\\users\\matthew chuang\\documents\\github\\csc3005-shuttlecock-trajectory-estimation\\dependencies\\lib\\site-packages (from matplotlib) (3.1.0)\n",
      "Requirement already satisfied: python-dateutil>=2.7 in c:\\users\\matthew chuang\\documents\\github\\csc3005-shuttlecock-trajectory-estimation\\dependencies\\lib\\site-packages (from matplotlib) (2.8.2)\n",
      "Requirement already satisfied: importlib-resources>=3.2.0 in c:\\users\\matthew chuang\\documents\\github\\csc3005-shuttlecock-trajectory-estimation\\dependencies\\lib\\site-packages (from matplotlib) (5.12.0)\n",
      "Requirement already satisfied: zipp>=3.1.0 in c:\\users\\matthew chuang\\documents\\github\\csc3005-shuttlecock-trajectory-estimation\\dependencies\\lib\\site-packages (from importlib-resources>=3.2.0->matplotlib) (3.15.0)\n",
      "Requirement already satisfied: six>=1.5 in c:\\users\\matthew chuang\\documents\\github\\csc3005-shuttlecock-trajectory-estimation\\dependencies\\lib\\site-packages (from python-dateutil>=2.7->matplotlib) (1.16.0)\n",
      "Note: you may need to restart the kernel to use updated packages.\n",
      "Requirement already satisfied: plotly in c:\\users\\matthew chuang\\documents\\github\\csc3005-shuttlecock-trajectory-estimation\\dependencies\\lib\\site-packages (5.15.0)\n",
      "Requirement already satisfied: tenacity>=6.2.0 in c:\\users\\matthew chuang\\documents\\github\\csc3005-shuttlecock-trajectory-estimation\\dependencies\\lib\\site-packages (from plotly) (8.2.2)\n",
      "Requirement already satisfied: packaging in c:\\users\\matthew chuang\\documents\\github\\csc3005-shuttlecock-trajectory-estimation\\dependencies\\lib\\site-packages (from plotly) (23.1)\n",
      "Note: you may need to restart the kernel to use updated packages.\n",
      "Requirement already satisfied: scikit-learn in c:\\users\\matthew chuang\\documents\\github\\csc3005-shuttlecock-trajectory-estimation\\dependencies\\lib\\site-packages (1.3.0)\n",
      "Requirement already satisfied: numpy>=1.17.3 in c:\\users\\matthew chuang\\documents\\github\\csc3005-shuttlecock-trajectory-estimation\\dependencies\\lib\\site-packages (from scikit-learn) (1.25.0)\n",
      "Requirement already satisfied: scipy>=1.5.0 in c:\\users\\matthew chuang\\documents\\github\\csc3005-shuttlecock-trajectory-estimation\\dependencies\\lib\\site-packages (from scikit-learn) (1.11.1)\n",
      "Requirement already satisfied: joblib>=1.1.1 in c:\\users\\matthew chuang\\documents\\github\\csc3005-shuttlecock-trajectory-estimation\\dependencies\\lib\\site-packages (from scikit-learn) (1.3.1)\n",
      "Requirement already satisfied: threadpoolctl>=2.0.0 in c:\\users\\matthew chuang\\documents\\github\\csc3005-shuttlecock-trajectory-estimation\\dependencies\\lib\\site-packages (from scikit-learn) (3.1.0)\n",
      "Note: you may need to restart the kernel to use updated packages.\n",
      "Requirement already satisfied: numpy in c:\\users\\matthew chuang\\documents\\github\\csc3005-shuttlecock-trajectory-estimation\\dependencies\\lib\\site-packages (1.25.0)\n",
      "Note: you may need to restart the kernel to use updated packages.\n",
      "Requirement already satisfied: nbformat in c:\\users\\matthew chuang\\documents\\github\\csc3005-shuttlecock-trajectory-estimation\\dependencies\\lib\\site-packages (5.9.0)\n",
      "Requirement already satisfied: fastjsonschema in c:\\users\\matthew chuang\\documents\\github\\csc3005-shuttlecock-trajectory-estimation\\dependencies\\lib\\site-packages (from nbformat) (2.17.1)\n",
      "Requirement already satisfied: jsonschema>=2.6 in c:\\users\\matthew chuang\\documents\\github\\csc3005-shuttlecock-trajectory-estimation\\dependencies\\lib\\site-packages (from nbformat) (4.17.3)\n",
      "Requirement already satisfied: jupyter-core in c:\\users\\matthew chuang\\documents\\github\\csc3005-shuttlecock-trajectory-estimation\\dependencies\\lib\\site-packages (from nbformat) (5.3.1)\n",
      "Requirement already satisfied: traitlets>=5.1 in c:\\users\\matthew chuang\\documents\\github\\csc3005-shuttlecock-trajectory-estimation\\dependencies\\lib\\site-packages (from nbformat) (5.9.0)\n",
      "Requirement already satisfied: attrs>=17.4.0 in c:\\users\\matthew chuang\\documents\\github\\csc3005-shuttlecock-trajectory-estimation\\dependencies\\lib\\site-packages (from jsonschema>=2.6->nbformat) (23.1.0)\n",
      "Requirement already satisfied: pyrsistent!=0.17.0,!=0.17.1,!=0.17.2,>=0.14.0 in c:\\users\\matthew chuang\\documents\\github\\csc3005-shuttlecock-trajectory-estimation\\dependencies\\lib\\site-packages (from jsonschema>=2.6->nbformat) (0.19.3)\n",
      "Requirement already satisfied: platformdirs>=2.5 in c:\\users\\matthew chuang\\documents\\github\\csc3005-shuttlecock-trajectory-estimation\\dependencies\\lib\\site-packages (from jupyter-core->nbformat) (3.8.0)\n",
      "Requirement already satisfied: pywin32>=300 in c:\\users\\matthew chuang\\documents\\github\\csc3005-shuttlecock-trajectory-estimation\\dependencies\\lib\\site-packages (from jupyter-core->nbformat) (306)\n",
      "Note: you may need to restart the kernel to use updated packages.\n"
     ]
    }
   ],
   "source": [
    "%pip install pandas\n",
    "%pip install matplotlib\n",
    "%pip install plotly\n",
    "%pip install scikit-learn\n",
    "%pip install numpy\n",
    "%pip install nbformat"
   ]
  },
  {
   "cell_type": "code",
   "execution_count": 375,
   "metadata": {},
   "outputs": [],
   "source": [
    "# preprocessing and feature generation\n",
    "import pandas as pd\n",
    "import numpy as np\n",
    "import math\n",
    "import random\n",
    "\n",
    "# feature significance\n",
    "from sklearn.decomposition import PCA\n",
    "from sklearn.preprocessing import StandardScaler\n",
    "\n",
    "# data mining and model evaluation\n",
    "from sklearn.model_selection import train_test_split\n",
    "from sklearn.metrics import accuracy_score, mean_squared_error\n",
    "from sklearn.model_selection import learning_curve\n",
    "\n",
    "# visualization\n",
    "import matplotlib.pyplot as plt\n",
    "import plotly.graph_objects as go\n",
    "from plotly.offline import plot"
   ]
  },
  {
   "attachments": {},
   "cell_type": "markdown",
   "metadata": {},
   "source": [
    "## Stage: Preprocessing\n",
    "Mockup data with just X, Y, Z values by removing the rest of the value."
   ]
  },
  {
   "cell_type": "code",
   "execution_count": 376,
   "metadata": {},
   "outputs": [],
   "source": [
    "# # read csv data from badmintondata.csv\n",
    "# limited_serving_data = pd.read_csv('badmintondata.csv')\n",
    "\n",
    "# # just rename x metrics to avoid unnecessary errors\n",
    "# limited_serving_data = limited_serving_data.rename(columns={'SHUTTLECOCK POSITIION IN AIR(X ) metres': 'SHUTTLECOCK POSITIION IN AIR(X) metres'})\n",
    "\n",
    "# # limiting service data to just x, y, z coordinates\n",
    "# limited_serving_data = limited_serving_data[['SHUTTLECOCK POSITIION IN AIR(X) metres', \n",
    "#                                             'SHUTTLECOCK POSITIION IN AIR(Y) metres', \n",
    "#                                             'SHUTTLECOCK POSITIION IN AIR(Z) metres']]\n",
    "# limited_serving_data"
   ]
  },
  {
   "cell_type": "code",
   "execution_count": 377,
   "metadata": {},
   "outputs": [],
   "source": [
    "# # read csv data from badmintondata.csv\n",
    "# limited_rallying_data = pd.read_csv('badmintondata2.csv')\n",
    "\n",
    "# # just rename x metrics to avoid unnecessary errors\n",
    "# limited_rallying_data = limited_rallying_data.rename(columns={'SHUTTLECOCK POSITIION IN AIR(X ) metres': 'SHUTTLECOCK POSITIION IN AIR(X) metres'})\n",
    "\n",
    "# # limiting service data to just x, y, z coordinates\n",
    "# limited_rallying_data = limited_rallying_data[['SHUTTLECOCK POSITIION IN AIR(X) metres', \n",
    "#                                             'SHUTTLECOCK POSITIION IN AIR(Y) metres', \n",
    "#                                             'SHUTTLECOCK POSITIION IN AIR(Z) metres']]\n",
    "# limited_rallying_data"
   ]
  },
  {
   "attachments": {},
   "cell_type": "markdown",
   "metadata": {},
   "source": [
    "Assigning data to observation groups and labelling their sequences with observation numbers"
   ]
  },
  {
   "cell_type": "code",
   "execution_count": 378,
   "metadata": {},
   "outputs": [],
   "source": [
    "# # Initialize variables\n",
    "# observation_group_num = 0\n",
    "# observation_num = 0\n",
    "# is_group = False\n",
    "\n",
    "# # assign observation groups and their respective observation numbers to each row\n",
    "# for index, row in limited_serving_data.iterrows():\n",
    "#     if row['SHUTTLECOCK POSITIION IN AIR(X) metres'] == 0:\n",
    "#         if is_group:\n",
    "#             is_group = False\n",
    "#         limited_serving_data.drop(index, inplace=True)\n",
    "#     # if row is not empty\n",
    "#     else:\n",
    "#         # if inside an observation group just increment observation number\n",
    "#         if is_group:\n",
    "#             observation_num+=1\n",
    "#         # if just entering a new observation group\n",
    "#         else:\n",
    "#             is_group = True\n",
    "#             # increase observation group number by 1\n",
    "#             observation_group_num+=1\n",
    "#             # resets observation sequence number to 1\n",
    "#             observation_num = 1\n",
    "#         # assign observation group and observation number\n",
    "#         limited_serving_data.at[index, 'OBSERVATION NUMBER'] = observation_num\n",
    "#         limited_serving_data.at[index, 'OBSERVATION GROUP NUMBER'] = observation_group_num\n",
    "\n",
    "# # Set 'OBSERVATION GROUP NUMBER' as INT\n",
    "# limited_serving_data['OBSERVATION GROUP NUMBER'] = limited_serving_data['OBSERVATION GROUP NUMBER'].astype(int)\n",
    "# limited_serving_data.to_csv('regression_data/limited_serving_data_stage1.csv')"
   ]
  },
  {
   "cell_type": "code",
   "execution_count": 379,
   "metadata": {},
   "outputs": [],
   "source": [
    "# # Initialize variables\n",
    "# observation_group_num = 364 # last observation group number index from dataset 1\n",
    "# observation_num = 0\n",
    "# is_group = False\n",
    "\n",
    "# # assign observation groups and their respective observation numbers to each row\n",
    "# for index, row in limited_rallying_data.iterrows():\n",
    "#     if row['SHUTTLECOCK POSITIION IN AIR(X) metres'] == 0:\n",
    "#         if is_group:\n",
    "#             is_group = False\n",
    "#         limited_rallying_data.drop(index, inplace=True)\n",
    "#     # if row is not empty\n",
    "#     else:\n",
    "#         # if inside an observation group just increment observation number\n",
    "#         if is_group:\n",
    "#             observation_num+=1\n",
    "#         # if just entering a new observation group\n",
    "#         else:\n",
    "#             is_group = True\n",
    "#             # increase observation group number by 1\n",
    "#             observation_group_num+=1\n",
    "#             # resets observation sequence number to 1\n",
    "#             observation_num = 1\n",
    "#         # assign observation group and observation number\n",
    "#         limited_rallying_data.at[index, 'OBSERVATION NUMBER'] = observation_num\n",
    "#         limited_rallying_data.at[index, 'OBSERVATION GROUP NUMBER'] = observation_group_num\n",
    "\n",
    "# # Set 'OBSERVATION GROUP NUMBER' as INT\n",
    "# limited_rallying_data['OBSERVATION GROUP NUMBER'] = limited_rallying_data['OBSERVATION GROUP NUMBER'].astype(int)\n",
    "# limited_rallying_data.to_csv('regression_data/limited_rallying_data_stage1.csv')"
   ]
  },
  {
   "attachments": {},
   "cell_type": "markdown",
   "metadata": {},
   "source": [
    "Determining the initial starting position of each shuttlecock by either rounding it down, or rounding it to nearest necessary value "
   ]
  },
  {
   "cell_type": "code",
   "execution_count": 380,
   "metadata": {},
   "outputs": [],
   "source": [
    "# load in last milestone to save time \n",
    "limited_serving_data = pd.read_csv('regression_data/limited_serving_data_stage1.csv')\n",
    "limited_serving_data = limited_serving_data.drop(columns=('Unnamed: 0'))\n",
    "limited_rallying_data = pd.read_csv('regression_data/limited_rallying_data_stage1.csv')\n",
    "limited_rallying_data = limited_rallying_data.drop(columns=('Unnamed: 0'))\n",
    "\n",
    "# Add Initial Points of Human Position based on the rounded down version of the first point\n",
    "# Reset the index before applying groupby\n",
    "def calculate_human_position(group):\n",
    "    rounded_value_x = math.floor(group.iloc[0]['SHUTTLECOCK POSITIION IN AIR(X) metres'])\n",
    "    rounded_value_y = round(group.iloc[0]['SHUTTLECOCK POSITIION IN AIR(Y) metres'])\n",
    "    rounded_value_z = rounded_value = min(1.6, 2.6, key=lambda x: abs(x - group.iloc[0]['SHUTTLECOCK POSITIION IN AIR(Z) metres']))\n",
    "    group['HUMAN PLAYER POSITION (X) metres'] = rounded_value_x\n",
    "    group['HUMAN PLAYER POSITION (Y) metres'] = rounded_value_y\n",
    "    group['HUMAN PLAYER POSITION (Z) metres'] = rounded_value_z\n",
    "    return group\n",
    "\n",
    "# Apply the function to serving data in each group using groupby and apply\n",
    "limited_serving_data = limited_serving_data.groupby('OBSERVATION GROUP NUMBER').apply(calculate_human_position)\n",
    "limited_serving_data = limited_serving_data.reset_index(drop=True)\n",
    "\n",
    "# Apply the function to rallying data in each group using groupby and apply\n",
    "limited_rallying_data = limited_rallying_data.groupby('OBSERVATION GROUP NUMBER').apply(calculate_human_position)\n",
    "limited_rallying_data = limited_rallying_data.reset_index(drop=True)"
   ]
  },
  {
   "attachments": {},
   "cell_type": "markdown",
   "metadata": {},
   "source": [
    "Creating Velocity, Slant Angles and Firing Angles of each shuttlecock using mathematical equation with X,Y,Z manipulation"
   ]
  },
  {
   "cell_type": "code",
   "execution_count": 381,
   "metadata": {},
   "outputs": [],
   "source": [
    "def generate_features(group):\n",
    "    # calculate X,Y,Z distances from initial human points\n",
    "    X_displacement = group.iloc[0]['SHUTTLECOCK POSITIION IN AIR(X) metres'] - group.iloc[0]['HUMAN PLAYER POSITION (X) metres']\n",
    "    Y_displacement = group.iloc[0]['SHUTTLECOCK POSITIION IN AIR(Y) metres'] - group.iloc[0]['HUMAN PLAYER POSITION (Y) metres'] \n",
    "    Z_displacement = group.iloc[0]['SHUTTLECOCK POSITIION IN AIR(Z) metres'] - group.iloc[0]['HUMAN PLAYER POSITION (Z) metres']\n",
    "\n",
    "    # calculate initial firing angle\n",
    "    firing_angle_radians = math.atan(X_displacement / Z_displacement)\n",
    "    firing_angle_degrees = math.degrees(firing_angle_radians)\n",
    "    # round to nearest 10 for firing angle\n",
    "    group['INITIAL SHUTTELCOCK FIRING ANGLE (DEGREE)'] = round(firing_angle_degrees / 10) * 10\n",
    "\n",
    "    # calculate initial slant angle\n",
    "    slant_angle_radians = math.atan(Y_displacement / X_displacement)\n",
    "    slant_angle_degrees = math.degrees(slant_angle_radians)\n",
    "    group['INITIAL SHUTTELCOCK SLANT ANGLE TO SIDELINE(DEGREE)'] = round(slant_angle_degrees)\n",
    "\n",
    "    # Calculate the initial velocity (v₀)\n",
    "    time_elapsed = 0.1\n",
    "    displacement = math.sqrt(X_displacement**2 + Y_displacement**2 + Z_displacement**2)\n",
    "    initial_velocity = round(displacement/time_elapsed)\n",
    "    # round to nearest 10 for velocity\n",
    "    group['INITITAL VELOCITY OF SHUTTELCOCK(m/s)'] = initial_velocity\n",
    "    return group\n",
    "\n",
    "# generate features for serving data\n",
    "limited_serving_data = limited_serving_data.groupby('OBSERVATION GROUP NUMBER').apply(generate_features)\n",
    "limited_serving_data = limited_serving_data.reset_index(drop=True)\n",
    "limited_serving_data.to_csv('regression_data/limited_serving_data.csv')\n",
    "\n",
    "# generate features for rallying data\n",
    "limited_rallying_data = limited_rallying_data.groupby('OBSERVATION GROUP NUMBER').apply(generate_features)\n",
    "limited_rallying_data = limited_rallying_data.reset_index(drop=True)\n",
    "limited_rallying_data.to_csv('regression_data/limited_rallying_data.csv')"
   ]
  },
  {
   "attachments": {},
   "cell_type": "markdown",
   "metadata": {},
   "source": [
    "Combine the two datasets into a single dataset"
   ]
  },
  {
   "cell_type": "code",
   "execution_count": 382,
   "metadata": {},
   "outputs": [],
   "source": [
    "# combining the serving and rally dataframes\n",
    "limited_badminton_data = pd.concat([limited_serving_data, limited_rallying_data], ignore_index=True)\n",
    "limited_badminton_data.to_csv('regression_data/limited_badminton_data.csv')"
   ]
  },
  {
   "attachments": {},
   "cell_type": "markdown",
   "metadata": {},
   "source": [
    "label data if they are are out of bounds within the observations using data column \"OUT OF BOUNDS\". This includes\n",
    "- Data that exceeds the X axis (hit too far on both sides) X < 0 OR X > 13.4\n",
    "- Data that exceeds the Y axis (hit out of court on left or right side) Y < 0 OR Y > 5.18\n",
    "- Data that is out of bounds labelled as 1, no 0\n",
    "\n",
    "OPTIONAL, if needed"
   ]
  },
  {
   "cell_type": "code",
   "execution_count": 383,
   "metadata": {},
   "outputs": [],
   "source": [
    "# # labelling data if its out of bounds\n",
    "# unique_observation_number = limited_badminton_data['OBSERVATION GROUP NUMBER'].unique()\n",
    "# for obs_grp_number in unique_observation_number:\n",
    "#     last_row = limited_badminton_data[limited_badminton_data['OBSERVATION GROUP NUMBER'] == obs_grp_number].tail(1)\n",
    "#     # Check the conditions for 'Shuttlecock Position in Air X' and 'Shuttlecock Position in Air Y'\n",
    "#     if (last_row['SHUTTLECOCK POSITIION IN AIR(X) metres'].values[0] < 0 or\n",
    "#         last_row['SHUTTLECOCK POSITIION IN AIR(X) metres'].values[0] > 13.4 or\n",
    "#         last_row['SHUTTLECOCK POSITIION IN AIR(Y) metres'].values[0] < 0 or\n",
    "#         last_row['SHUTTLECOCK POSITIION IN AIR(Y) metres'].values[0] > 5.18):\n",
    "        \n",
    "#         # Set 'OUT OF BOUNDS' column to 1 for the corresponding observation number\n",
    "#         limited_badminton_data.loc[limited_badminton_data['OBSERVATION GROUP NUMBER'] == obs_grp_number, 'OUT OF BOUNDS'] = 1\n",
    "#     else:\n",
    "#         limited_badminton_data.loc[limited_badminton_data['OBSERVATION GROUP NUMBER'] == obs_grp_number, 'OUT OF BOUNDS']"
   ]
  },
  {
   "attachments": {},
   "cell_type": "markdown",
   "metadata": {},
   "source": [
    "## Feature Significance\n",
    "Selecting features to test significance using PCA and standardizing them. "
   ]
  },
  {
   "cell_type": "code",
   "execution_count": 384,
   "metadata": {},
   "outputs": [],
   "source": [
    "# removal of labels and dependent features\n",
    "X_limited_features = limited_badminton_data.drop(columns=['OBSERVATION GROUP NUMBER',\n",
    "                                            'SHUTTLECOCK POSITIION IN AIR(X) metres', \n",
    "                                            'SHUTTLECOCK POSITIION IN AIR(Y) metres', \n",
    "                                            'SHUTTLECOCK POSITIION IN AIR(Z) metres'])\n",
    "# Standardize the data\n",
    "scaler = StandardScaler()\n",
    "X_features_norm = scaler.fit_transform(X_limited_features)"
   ]
  },
  {
   "cell_type": "code",
   "execution_count": 385,
   "metadata": {},
   "outputs": [
    {
     "name": "stdout",
     "output_type": "stream",
     "text": [
      "Feature INITIAL SHUTTELCOCK FIRING ANGLE (DEGREE): Significance = 0.1865320813023315\n",
      "Feature HUMAN PLAYER POSITION (Z) metres: Significance = 0.17677218072800077\n",
      "Feature OBSERVATION NUMBER: Significance = 0.15130267848959464\n",
      "Feature INITIAL SHUTTELCOCK SLANT ANGLE TO SIDELINE(DEGREE): Significance = 0.1506764619077837\n",
      "Feature INITITAL VELOCITY OF SHUTTELCOCK(m/s): Significance = 0.13679930347016042\n",
      "Feature HUMAN PLAYER POSITION (Y) metres: Significance = 0.11239037013040225\n",
      "Feature HUMAN PLAYER POSITION (X) metres: Significance = 0.08552692397172691\n"
     ]
    },
    {
     "data": {
      "image/png": "[encoded data removed]",
      "text/plain": [
       "<Figure size 640x480 with 1 Axes>"
      ]
     },
     "metadata": {},
     "output_type": "display_data"
    }
   ],
   "source": [
    "# instantiate PCA object, fit model\n",
    "pca = PCA()\n",
    "pca.fit(X_features_norm)\n",
    "\n",
    "# loadings refer to the coefficients or weights that determine the contribution of each feature to the principal components\n",
    "# Get the absolute loadings for each feature in each principal component\n",
    "absolute_loadings = np.abs(pca.components_)\n",
    "# Calculate the total sum of absolute loadings for each feature across all principal components\n",
    "total_loadings = np.sum(absolute_loadings, axis=0)\n",
    "\n",
    "# Calculate the relative contribution of each feature to the total loadings\n",
    "relative_contribution = total_loadings / np.sum(total_loadings)\n",
    "\n",
    "# Sort the features based on their relative contribution\n",
    "sorted_features = np.argsort(relative_contribution)[::-1]\n",
    "feature_names = X_limited_features.columns\n",
    "# Print the significance of each feature\n",
    "for feature_idx in sorted_features:\n",
    "    print(f\"Feature {feature_names[feature_idx]}: Significance = {relative_contribution[feature_idx]}\")\n",
    "\n",
    "# Plot the significance of each feature\n",
    "plt.bar(range(len(sorted_features)), relative_contribution[sorted_features])\n",
    "plt.xlabel('Features')\n",
    "plt.ylabel('Significance')\n",
    "plt.title('Significance of Features in PCA')\n",
    "plt.xticks(range(len(sorted_features)), feature_names[sorted_features], rotation=90)\n",
    "# plt.xticks(range(len(sorted_features)), sorted_features)\n",
    "plt.show()"
   ]
  },
  {
   "attachments": {},
   "cell_type": "markdown",
   "metadata": {},
   "source": [
    "## Stage: Data Mining\n",
    "### Preparing data for Decision Tree Classifier\n",
    "To determine observation steps needed for a trajectory, only these X features are needed. No normalization is needed\n",
    "- 'HUMAN PLAYER POSITION (X) metres'\n",
    "- 'HUMAN PLAYER POSITION (Y) metres'\n",
    "- 'HUMAN PLAYER POSITION (Z) metres'\n",
    "- 'INITITAL VELOCITY OF SHUTTELCOCK(m/s)'\n",
    "- 'INITIAL SHUTTELCOCK FIRING ANGLE (DEGREE)'\n",
    "- 'INITIAL SHUTTELCOCK SLANT ANGLE TO SIDELINE(DEGREE)'"
   ]
  },
  {
   "cell_type": "code",
   "execution_count": 386,
   "metadata": {},
   "outputs": [],
   "source": [
    "# loading data\n",
    "temp_data = pd.read_csv('regression_data/limited_badminton_data.csv')\n",
    "temp_data = temp_data.drop(columns=['Unnamed: 0'])\n",
    "\n",
    "# Drop duplicates based on 'Observation Group Number', keeping only the last record\n",
    "data_DT = temp_data.copy()\n",
    "data_DT = data_DT.drop_duplicates(subset='OBSERVATION GROUP NUMBER', keep='last')\n",
    "\n",
    "# Define X and Y Features for Decision Tree\n",
    "X_features_DT = data_DT[['HUMAN PLAYER POSITION (X) metres', \n",
    "                            'HUMAN PLAYER POSITION (Y) metres',\n",
    "                            'HUMAN PLAYER POSITION (Z) metres', \n",
    "                            'INITITAL VELOCITY OF SHUTTELCOCK(m/s)', \n",
    "                            'INITIAL SHUTTELCOCK FIRING ANGLE (DEGREE)', \n",
    "                            'INITIAL SHUTTELCOCK SLANT ANGLE TO SIDELINE(DEGREE)']]\n",
    "\n",
    "Y_feature_DT = data_DT['OBSERVATION NUMBER']\n",
    "\n",
    "# Split the data into train/test, X/Y for Decision Tree Classifier\n",
    "X_train_DT, X_test_DT, Y_train_DT, Y_test_DT = train_test_split(X_features_DT, Y_feature_DT, test_size=0.2, random_state=42)"
   ]
  },
  {
   "attachments": {},
   "cell_type": "markdown",
   "metadata": {},
   "source": [
    "### Finding Optimal Decision Tree Model\n",
    "To predict total observation time based on the independent feature supplied. Predicts a set of observation take"
   ]
  },
  {
   "cell_type": "code",
   "execution_count": 387,
   "metadata": {},
   "outputs": [],
   "source": [
    "from sklearn.tree import DecisionTreeClassifier\n",
    "maxdepths = [2,3,4,5,6,7,8,9,10,15]  # 10 different depths\n",
    "\n",
    "# containers to store train/test accuracy rates\n",
    "trainAcc_DT = np.zeros(len(maxdepths))\n",
    "testAcc_DT = np.zeros(len(maxdepths))\n",
    "\n",
    "index = 0\n",
    "for depth in maxdepths:\n",
    "    # training decision tree with depth lengths\n",
    "    temp_model_DT = DecisionTreeClassifier(max_depth=depth)\n",
    "    temp_model_DT = temp_model_DT.fit(X_train_DT, Y_train_DT)\n",
    "    # generate predictions using the model trained, for the training data (X) and test data (X)\n",
    "    Y_predTrain = temp_model_DT.predict(X_train_DT)\n",
    "    Y_predTest = temp_model_DT.predict(X_test_DT)\n",
    "    # compare the predicted values and compare against original values for accuracy\n",
    "    trainAcc_DT[index] = accuracy_score(Y_train_DT, Y_predTrain)\n",
    "    testAcc_DT[index] = accuracy_score(Y_test_DT, Y_predTest)\n",
    "    index += 1"
   ]
  },
  {
   "cell_type": "code",
   "execution_count": 388,
   "metadata": {},
   "outputs": [
    {
     "data": {
      "text/plain": [
       "Text(0, 0.5, 'Accuracy')"
      ]
     },
     "execution_count": 388,
     "metadata": {},
     "output_type": "execute_result"
    },
    {
     "data": {
      "image/png": "[encoded data removed]",
      "text/plain": [
       "<Figure size 640x480 with 1 Axes>"
      ]
     },
     "metadata": {},
     "output_type": "display_data"
    }
   ],
   "source": [
    "plt.plot(maxdepths,trainAcc_DT,'ro-',maxdepths,testAcc_DT,'bv--')\n",
    "plt.legend(['Training Accuracy','Test Accuracy'])\n",
    "plt.xlabel('Max depth')\n",
    "plt.ylabel('Accuracy')"
   ]
  },
  {
   "attachments": {},
   "cell_type": "markdown",
   "metadata": {},
   "source": [
    "### Train Decision Tree Model \"Model_DecisionTree\"\n",
    "Using the optimal elbow depth found in the previous segment which is 4"
   ]
  },
  {
   "cell_type": "code",
   "execution_count": 389,
   "metadata": {},
   "outputs": [
    {
     "name": "stdout",
     "output_type": "stream",
     "text": [
      "Training Accuracy:  1.0\n",
      "Testing Accuracy:  1.0\n"
     ]
    }
   ],
   "source": [
    "model_decisionTree = DecisionTreeClassifier(max_depth=4)\n",
    "model_decisionTree = model_decisionTree.fit(X_train_DT, Y_train_DT)\n",
    "\n",
    "Y_predTrain = model_decisionTree.predict(X_train_DT)\n",
    "Y_predTest = model_decisionTree.predict(X_test_DT)\n",
    "\n",
    "trainAcc_DT = accuracy_score(Y_train_DT, Y_predTrain)\n",
    "testAcc_DT = accuracy_score(Y_test_DT, Y_predTest)\n",
    "print(\"Training Accuracy: \", trainAcc_DT)\n",
    "print(\"Testing Accuracy: \", testAcc_DT)"
   ]
  },
  {
   "attachments": {},
   "cell_type": "markdown",
   "metadata": {},
   "source": [
    "### Preparing data for Regressor Models"
   ]
  },
  {
   "attachments": {},
   "cell_type": "markdown",
   "metadata": {},
   "source": [
    "There are two approaches to data train-test splitting. \n",
    "- Data can be either split randomly by rows (Higher accuracy, lower error margin, messier model visualization)\n",
    "- Data can be split randomly based on their observations groups. (Lower accuracy, nicer and neater model visualization)\n",
    "Two segments of code are provided below. Choose train/test split approach and commment out the other code"
   ]
  },
  {
   "cell_type": "code",
   "execution_count": 390,
   "metadata": {},
   "outputs": [],
   "source": [
    "# APPROACH FOR RANDOMLY SPLITTING BY ROWS\n",
    "X_features_Regression = temp_data[['HUMAN PLAYER POSITION (X) metres', \n",
    "                        'HUMAN PLAYER POSITION (Y) metres', \n",
    "                        'HUMAN PLAYER POSITION (Z) metres',\n",
    "                        'INITITAL VELOCITY OF SHUTTELCOCK(m/s)', \n",
    "                        'INITIAL SHUTTELCOCK FIRING ANGLE (DEGREE)', \n",
    "                        'INITIAL SHUTTELCOCK SLANT ANGLE TO SIDELINE(DEGREE)',\n",
    "                        'OBSERVATION NUMBER']]\n",
    "\n",
    "Y_features_Regression = temp_data[['SHUTTLECOCK POSITIION IN AIR(X) metres', \n",
    "                        'SHUTTLECOCK POSITIION IN AIR(Y) metres', \n",
    "                        'SHUTTLECOCK POSITIION IN AIR(Z) metres']]\n",
    "\n",
    "X_train_Regression, X_test_Regression, Y_train_Regression, Y_test_Regression = train_test_split(X_features_Regression, Y_features_Regression, test_size=0.2, random_state=42)"
   ]
  },
  {
   "cell_type": "code",
   "execution_count": 391,
   "metadata": {},
   "outputs": [],
   "source": [
    "# # APPROACH FOR RANDOMLY SPLITTING BY OBSERVATION GROUPS\n",
    "# X_features_Regression = temp_data[['HUMAN PLAYER POSITION (X) metres', \n",
    "#                         'HUMAN PLAYER POSITION (Y) metres', \n",
    "#                         'HUMAN PLAYER POSITION (Z) metres',\n",
    "#                         'INITITAL VELOCITY OF SHUTTELCOCK(m/s)', \n",
    "#                         'INITIAL SHUTTELCOCK FIRING ANGLE (DEGREE)', \n",
    "#                         'INITIAL SHUTTELCOCK SLANT ANGLE TO SIDELINE(DEGREE)',\n",
    "#                         'OBSERVATION NUMBER']]\n",
    "\n",
    "# Y_features_Regression = temp_data[['SHUTTLECOCK POSITIION IN AIR(X) metres', \n",
    "#                         'SHUTTLECOCK POSITIION IN AIR(Y) metres', \n",
    "#                         'SHUTTLECOCK POSITIION IN AIR(Z) metres']]\n",
    "\n",
    "# # contains all the observation group numbers in data\n",
    "# unique_observation_grps = temp_data['OBSERVATION GROUP NUMBER'].unique() # list of [1 to 1576]\n",
    "# # shuffle order \n",
    "# random.seed(42) # fixes the random order so results can be replicated\n",
    "# random.shuffle(unique_observation_grps)\n",
    "\n",
    "# # index of training sets\n",
    "# training_test_split_idx = int(0.8*len(unique_observation_grps))\n",
    "# # containers to store all the respective train and test observation groups idx from data\n",
    "# train_idxes = unique_observation_grps[:training_test_split_idx]\n",
    "# test_idxes = unique_observation_grps[training_test_split_idx:]\n",
    "\n",
    "# train_data = temp_data[temp_data['OBSERVATION GROUP NUMBER'].isin(train_idxes)]\n",
    "# test_data = temp_data[temp_data['OBSERVATION GROUP NUMBER'].isin(test_idxes)]\n",
    "\n",
    "# # Define X and Y features\n",
    "# X_train_Regression = train_data[['HUMAN PLAYER POSITION (X) metres', \n",
    "#                         'HUMAN PLAYER POSITION (Y) metres', \n",
    "#                         'HUMAN PLAYER POSITION (Z) metres',\n",
    "#                         'INITITAL VELOCITY OF SHUTTELCOCK(m/s)', \n",
    "#                         'INITIAL SHUTTELCOCK FIRING ANGLE (DEGREE)', \n",
    "#                         'INITIAL SHUTTELCOCK SLANT ANGLE TO SIDELINE(DEGREE)',\n",
    "#                         'OBSERVATION NUMBER']]\n",
    "\n",
    "# Y_train_Regression = train_data[['SHUTTLECOCK POSITIION IN AIR(X) metres', \n",
    "#                       'SHUTTLECOCK POSITIION IN AIR(Y) metres', \n",
    "#                       'SHUTTLECOCK POSITIION IN AIR(Z) metres']]\n",
    "\n",
    "# X_test_Regression = test_data[['HUMAN PLAYER POSITION (X) metres', \n",
    "#                         'HUMAN PLAYER POSITION (Y) metres', \n",
    "#                         'HUMAN PLAYER POSITION (Z) metres',\n",
    "#                         'INITITAL VELOCITY OF SHUTTELCOCK(m/s)', \n",
    "#                         'INITIAL SHUTTELCOCK FIRING ANGLE (DEGREE)', \n",
    "#                         'INITIAL SHUTTELCOCK SLANT ANGLE TO SIDELINE(DEGREE)',\n",
    "#                         'OBSERVATION NUMBER']]\n",
    "\n",
    "# Y_test_Regression = test_data[['SHUTTLECOCK POSITIION IN AIR(X) metres', \n",
    "#                     'SHUTTLECOCK POSITIION IN AIR(Y) metres', \n",
    "#                     'SHUTTLECOCK POSITIION IN AIR(Z) metres']]"
   ]
  },
  {
   "attachments": {},
   "cell_type": "markdown",
   "metadata": {},
   "source": [
    "### Random Forest Regressor\n",
    "Random Forest is an ensemble learning algorithm that combines multiple decision trees to make predictions. It can handle both numerical and categorical data and is capable of capturing complex relationships in the data. It does not require feature standardization as they are not sensitive to the scale of the features. Random Forest algorithms work by creating decision trees based on random subsets of features, and each decision tree independently makes decisions based on these features.\n",
    "#### Dependencies for Random Forest Regressor"
   ]
  },
  {
   "cell_type": "code",
   "execution_count": 392,
   "metadata": {},
   "outputs": [],
   "source": [
    "from sklearn.ensemble import RandomForestRegressor  # for regression tasks"
   ]
  },
  {
   "attachments": {},
   "cell_type": "markdown",
   "metadata": {},
   "source": [
    "#### Optimizing Random Forest Regressor\n",
    "Building multiple models with different depths to find best model with lowest mean squared error. Best depth should be 15"
   ]
  },
  {
   "cell_type": "code",
   "execution_count": 393,
   "metadata": {},
   "outputs": [],
   "source": [
    "# # Define a list of depths to test\n",
    "# depths = [5, 10, 15, 20, 25, 30]\n",
    "# mse_score_RF = []\n",
    "\n",
    "# # Iterate over different depths and calculate MSE\n",
    "# for depth in depths:\n",
    "#     temp_model_RF = RandomForestRegressor(n_estimators=100, max_depth=depth, random_state=42)\n",
    "#     temp_model_RF.fit(X_train_Regression, Y_train_Regression)\n",
    "#     temp_y_pred_RF = temp_model_RF.predict(X_test_Regression)\n",
    "#     mse = mean_squared_error(Y_test_Regression, temp_y_pred_RF)\n",
    "#     mse_score_RF.append(mse)\n",
    "# print(mse_score_RF)"
   ]
  },
  {
   "cell_type": "code",
   "execution_count": 394,
   "metadata": {},
   "outputs": [],
   "source": [
    "# # Plotting the MSE scores\n",
    "# plt.plot(depths, mse_score_RF, marker='o')\n",
    "# plt.xlabel('Depth')\n",
    "# plt.ylabel('Mean Squared Error')\n",
    "# plt.title('Mean Squared Error vs. Depth for Random Forest Regressor')\n",
    "# plt.show()"
   ]
  },
  {
   "attachments": {},
   "cell_type": "markdown",
   "metadata": {},
   "source": [
    "Building multiple models with different number of decision trees \"n_estimators\" to find best \"n_estimator\". Best number of decision trees should be 200"
   ]
  },
  {
   "cell_type": "code",
   "execution_count": 395,
   "metadata": {},
   "outputs": [],
   "source": [
    "# # Define a list of n_estimators to test\n",
    "# n_estimators_values = [50, 100, 150, 200, 250, 300]\n",
    "# mse_score_RF = []\n",
    "\n",
    "# # Iterate over different n_estimators and calculate MSE\n",
    "# for n_estimators in n_estimators_values:\n",
    "#     temp_model_RF = RandomForestRegressor(n_estimators=n_estimators, max_depth=15, random_state=42)\n",
    "#     temp_model_RF.fit(X_train_Regression, Y_train_Regression)\n",
    "#     temp_y_pred_RF = temp_model_RF.predict(X_test_Regression)\n",
    "#     mse = mean_squared_error(Y_test_Regression, temp_y_pred_RF)\n",
    "#     mse_score_RF.append(mse)\n",
    "# print(mse_score_RF)"
   ]
  },
  {
   "cell_type": "code",
   "execution_count": 396,
   "metadata": {},
   "outputs": [],
   "source": [
    "# # Plotting the MSE scores\n",
    "# plt.plot(n_estimators_values, mse_score_RF, marker='o')\n",
    "# plt.xlabel('n_estimators')\n",
    "# plt.ylabel('Mean Squared Error')\n",
    "# plt.title('Mean Squared Error vs. n_estimators for Random Forest Regressor')\n",
    "# plt.show()"
   ]
  },
  {
   "attachments": {},
   "cell_type": "markdown",
   "metadata": {},
   "source": [
    "#### Training with Best Random Forest\n",
    "This model will allow us predict an X, Y, Z coordinate in relation to the independent features supplied"
   ]
  },
  {
   "cell_type": "code",
   "execution_count": 397,
   "metadata": {},
   "outputs": [],
   "source": [
    "# Define the Random Forest Regressor\n",
    "model_randomForest = RandomForestRegressor(n_estimators=200, max_depth=15, random_state=42)  # for regression\n",
    "\n",
    "model_randomForest.fit(X_train_Regression, Y_train_Regression)\n",
    "y_pred_RF = model_randomForest.predict(X_test_Regression)"
   ]
  },
  {
   "attachments": {},
   "cell_type": "markdown",
   "metadata": {},
   "source": [
    "### Training Evaluation of Random Forest\n",
    "Mean squared error and root mean squared errors are error margin metrics for regression models. Refer to root mean squared error for a closer error margin to original metric"
   ]
  },
  {
   "cell_type": "code",
   "execution_count": 398,
   "metadata": {},
   "outputs": [
    {
     "name": "stdout",
     "output_type": "stream",
     "text": [
      "Mean Squared Error of Random Forest Regressor: 0.0005914124529569345\n",
      "Root Squared Error of Random Forest Regressor: 0.024318973106546554\n"
     ]
    }
   ],
   "source": [
    "mse = mean_squared_error(Y_test_Regression, y_pred_RF)\n",
    "print(\"Mean Squared Error of Random Forest Regressor:\", mse)\n",
    "rmse = math.sqrt(mse)\n",
    "print(\"Root Squared Error of Random Forest Regressor:\", rmse)"
   ]
  },
  {
   "attachments": {},
   "cell_type": "markdown",
   "metadata": {},
   "source": [
    "Check for generalization of data and if data is able to capture underlying pattern properly. This is done with a learning curve, with a negative mean squared metric. If the training and validation lines converge at a low error rate, that means that the model is well generalized and captures patterns properly"
   ]
  },
  {
   "cell_type": "code",
   "execution_count": 399,
   "metadata": {},
   "outputs": [],
   "source": [
    "# # Calculate the learning curves\n",
    "# train_sizes, train_scores, val_scores = learning_curve(model_randomForest, X_train_Regression, Y_train_Regression, cv=5, scoring='neg_mean_squared_error')\n",
    "\n",
    "# # Calculate the mean and standard deviation of train and validation scores\n",
    "# train_mean = -np.mean(train_scores, axis=1)\n",
    "# train_std = np.std(train_scores, axis=1)\n",
    "# val_mean = -np.mean(val_scores, axis=1)\n",
    "# val_std = np.std(val_scores, axis=1)"
   ]
  },
  {
   "cell_type": "code",
   "execution_count": 400,
   "metadata": {},
   "outputs": [],
   "source": [
    "# # Plot the learning curves\n",
    "# plt.figure(figsize=(10, 7))\n",
    "# plt.plot(train_sizes, train_mean, label='Training score', color='blue')\n",
    "# plt.fill_between(train_sizes, train_mean - train_std, train_mean + train_std, alpha=0.1, color='blue')\n",
    "# plt.plot(train_sizes, val_mean, label='Validation score', color='red')\n",
    "# plt.fill_between(train_sizes, val_mean - val_std, val_mean + val_std, alpha=0.1, color='red')\n",
    "# plt.xlabel('Training Set Size')\n",
    "# plt.ylabel('Negative Mean Squared Error')\n",
    "# plt.title('Learning Curve for Random Forest Regressor')\n",
    "# plt.legend(loc='best')\n",
    "# plt.show()"
   ]
  },
  {
   "attachments": {},
   "cell_type": "markdown",
   "metadata": {},
   "source": [
    "### Model Visualization of Random Forest Regressor"
   ]
  },
  {
   "cell_type": "code",
   "execution_count": 401,
   "metadata": {},
   "outputs": [
    {
     "data": {
      "image/png": "[encoded data removed]",
      "text/plain": [
       "<Figure size 1500x500 with 3 Axes>"
      ]
     },
     "metadata": {},
     "output_type": "display_data"
    }
   ],
   "source": [
    "# Plotting the scatterplot\n",
    "fig, ax = plt.subplots(1, 3, figsize=(15, 5))\n",
    "\n",
    "# Plotting for each target variable\n",
    "for i, target in enumerate(Y_features_Regression.columns):\n",
    "    ax[i].scatter(Y_test_Regression[target], y_pred_RF[:, i], alpha=0.5)\n",
    "    ax[i].plot([Y_test_Regression[target].min(), Y_test_Regression[target].max()], [Y_test_Regression[target].min(), Y_test_Regression[target].max()], 'r--')\n",
    "    ax[i].set_xlabel('Actual ' + target)\n",
    "    ax[i].set_ylabel('Predicted ' + target)\n",
    "\n",
    "plt.suptitle('Actual vs Predicted Y for Random Forest Regressor')\n",
    "plt.tight_layout()\n",
    "plt.show()"
   ]
  },
  {
   "cell_type": "code",
   "execution_count": 402,
   "metadata": {},
   "outputs": [
    {
     "data": {
      "text/plain": [
       "'interactive_models/random_forest_limited_model.html'"
      ]
     },
     "execution_count": 402,
     "metadata": {},
     "output_type": "execute_result"
    }
   ],
   "source": [
    "# Create traces for actual and predicted values\n",
    "actual_trace = go.Scatter3d(\n",
    "    x=Y_test_Regression['SHUTTLECOCK POSITIION IN AIR(X) metres'],\n",
    "    y=Y_test_Regression['SHUTTLECOCK POSITIION IN AIR(Y) metres'],\n",
    "    z=Y_test_Regression['SHUTTLECOCK POSITIION IN AIR(Z) metres'],\n",
    "    name='Actual',\n",
    "    mode='markers',\n",
    "    marker=dict(\n",
    "        color='blue',\n",
    "        size=3,\n",
    "        symbol='circle'\n",
    "    )\n",
    ")\n",
    "\n",
    "predicted_trace = go.Scatter3d(\n",
    "    x=y_pred_RF[:, 0],\n",
    "    y=y_pred_RF[:, 1],\n",
    "    z=y_pred_RF[:, 2],\n",
    "    name='Predicted',\n",
    "    mode='markers',\n",
    "    marker=dict(\n",
    "        color='red',\n",
    "        size=3,\n",
    "        symbol='circle'\n",
    "    )\n",
    ")\n",
    "\n",
    "# Create layout\n",
    "layout = go.Layout(\n",
    "    title='Actual vs Predicted Shuttlecock Positions for Random Forest Regressor',\n",
    "    scene=dict(\n",
    "        xaxis=dict(title='X'),\n",
    "        yaxis=dict(title='Y'),\n",
    "        zaxis=dict(title='Z')\n",
    "    )\n",
    ")\n",
    "\n",
    "# Create figure\n",
    "fig = go.Figure(data=[actual_trace, predicted_trace], layout=layout)\n",
    "\n",
    "# Save the plot as an HTML file\n",
    "plot(fig, filename='interactive_models/random_forest_limited_model.html')"
   ]
  },
  {
   "attachments": {},
   "cell_type": "markdown",
   "metadata": {},
   "source": [
    "### Extra Trees Regressor\n",
    "Extra Trees aka. (Extremely Randomized Trees) Regressor is a variant of Random Forest Tree which also uses an ensemble of decision trees to make predictions. However unlike random forests, Extra Trees introduces extra randomness by randomly selecting features at each node split. This randomness helps to create more diverse and less correlated trees. The final prediction is obtained by averaging the predictions of all the trees.\n",
    "#### Dependencies for Extra Trees Regressor"
   ]
  },
  {
   "cell_type": "code",
   "execution_count": 403,
   "metadata": {},
   "outputs": [],
   "source": [
    "from sklearn.ensemble import ExtraTreesRegressor"
   ]
  },
  {
   "attachments": {},
   "cell_type": "markdown",
   "metadata": {},
   "source": [
    "### Optimization of Extra Tree Regressor \n",
    "Building multiple models with different depths to find best model with lowest mean squared error. Best depth should be 15"
   ]
  },
  {
   "cell_type": "code",
   "execution_count": 404,
   "metadata": {},
   "outputs": [],
   "source": [
    "# # Define a list of depths to test\n",
    "# depths = [5, 10, 15, 20, 25, 30]\n",
    "# mse_scores_ET = []\n",
    "\n",
    "# # Iterate over different depths and calculate MSE\n",
    "# for depth in depths:\n",
    "#     temp_model_ET = ExtraTreesRegressor(n_estimators=100, max_depth=depth, random_state=42)\n",
    "#     temp_model_ET.fit(X_train_Regression, Y_train_Regression)\n",
    "#     temp_y_pred_ET = temp_model_ET.predict(X_test_Regression)\n",
    "#     mse = mean_squared_error(Y_test_Regression, temp_y_pred_ET)\n",
    "#     mse_scores_ET.append(mse)"
   ]
  },
  {
   "cell_type": "code",
   "execution_count": 405,
   "metadata": {},
   "outputs": [],
   "source": [
    "# # Plotting the MSE scores\n",
    "# plt.plot(depths, mse_scores_ET, marker='o')\n",
    "# plt.xlabel('Depth')\n",
    "# plt.ylabel('Mean Squared Error')\n",
    "# plt.title('Mean Squared Error vs. Depth for Extra Trees Regressor')\n",
    "# plt.show()"
   ]
  },
  {
   "attachments": {},
   "cell_type": "markdown",
   "metadata": {},
   "source": [
    "Building multiple models with different number of decision trees \"n_estimators\" to find best \"n_estimator\". Best number of decision trees should be 200"
   ]
  },
  {
   "cell_type": "code",
   "execution_count": 406,
   "metadata": {},
   "outputs": [],
   "source": [
    "# # Define a list of n_estimators to test\n",
    "# n_estimators_values = [50, 100, 150, 200, 250, 300]\n",
    "# mse_scores_ET = []\n",
    "\n",
    "# # Iterate over different n_estimators and calculate MSE\n",
    "# for n_estimators in n_estimators_values:\n",
    "#     temp_model_ET = RandomForestRegressor(n_estimators=n_estimators, max_depth=15, random_state=42)\n",
    "#     temp_model_ET.fit(X_train_Regression, Y_train_Regression)\n",
    "#     temp_y_pred_RF = temp_model_ET.predict(X_test_Regression)\n",
    "#     mse = mean_squared_error(Y_test_Regression, temp_y_pred_RF)\n",
    "#     mse_scores_ET.append(mse)\n",
    "# print(mse_scores_ET)"
   ]
  },
  {
   "cell_type": "code",
   "execution_count": 407,
   "metadata": {},
   "outputs": [],
   "source": [
    "# # Plotting the MSE scores\n",
    "# plt.plot(n_estimators_values, mse_scores_ET, marker='o')\n",
    "# plt.xlabel('n_estimators')\n",
    "# plt.ylabel('Mean Squared Error')\n",
    "# plt.title('Mean Squared Error vs. n_estimators for Extra Trees Regressor')\n",
    "# plt.show()"
   ]
  },
  {
   "attachments": {},
   "cell_type": "markdown",
   "metadata": {},
   "source": [
    "### Training with Best Extra Trees Regressor\n",
    "This model will allow us predict an X, Y, Z coordinate in relation to the independent features supplied"
   ]
  },
  {
   "cell_type": "code",
   "execution_count": 408,
   "metadata": {},
   "outputs": [],
   "source": [
    "# Define the Extra Trees Regressor\n",
    "model_ExtraTrees = ExtraTreesRegressor()\n",
    "model_ExtraTrees.fit(X_train_Regression, Y_train_Regression)\n",
    "y_pred_ET = model_ExtraTrees.predict(X_test_Regression)"
   ]
  },
  {
   "attachments": {},
   "cell_type": "markdown",
   "metadata": {},
   "source": [
    "### Training Evaluation of Extra Trees Regressor\n",
    "Mean squared error and root mean squared errors are error margin metrics for regression models. Refer to root mean squared error for a closer error margin to original metric"
   ]
  },
  {
   "cell_type": "code",
   "execution_count": 409,
   "metadata": {},
   "outputs": [
    {
     "name": "stdout",
     "output_type": "stream",
     "text": [
      "Mean Squared Error of Extra Trees Regressor: 0.00011710901684628751\n",
      "Root Squared Error of Extra Trees Regressor: 0.010821691958575031\n"
     ]
    }
   ],
   "source": [
    "mse = mean_squared_error(Y_test_Regression, y_pred_ET)\n",
    "print(\"Mean Squared Error of Extra Trees Regressor:\", mse)\n",
    "rmse = math.sqrt(mse)\n",
    "print(\"Root Squared Error of Extra Trees Regressor:\", rmse)"
   ]
  },
  {
   "attachments": {},
   "cell_type": "markdown",
   "metadata": {},
   "source": [
    "Check for generalization of data and if data is able to capture underlying pattern properly. This is done with a learning curve, with a negative mean squared metric. If the training and validation lines converge at a low error rate, that means that the model is well generalized and captures patterns properly"
   ]
  },
  {
   "cell_type": "code",
   "execution_count": 410,
   "metadata": {},
   "outputs": [],
   "source": [
    "# # Calculate the learning curves\n",
    "# train_sizes, train_scores, val_scores = learning_curve(model_ExtraTrees, X_train_Regression, Y_train_Regression, cv=5, scoring='neg_mean_squared_error')\n",
    "\n",
    "# # Calculate the mean and standard deviation of train and validation scores\n",
    "# train_mean = -np.mean(train_scores, axis=1)\n",
    "# train_std = np.std(train_scores, axis=1)\n",
    "# val_mean = -np.mean(val_scores, axis=1)\n",
    "# val_std = np.std(val_scores, axis=1)"
   ]
  },
  {
   "cell_type": "code",
   "execution_count": 411,
   "metadata": {},
   "outputs": [],
   "source": [
    "# # Plot the learning curves\n",
    "# plt.figure(figsize=(10, 7))\n",
    "# plt.plot(train_sizes, train_mean, label='Training score', color='blue')\n",
    "# plt.fill_between(train_sizes, train_mean - train_std, train_mean + train_std, alpha=0.1, color='blue')\n",
    "# plt.plot(train_sizes, val_mean, label='Validation score', color='red')\n",
    "# plt.fill_between(train_sizes, val_mean - val_std, val_mean + val_std, alpha=0.1, color='red')\n",
    "# plt.xlabel('Training Set Size')\n",
    "# plt.ylabel('Negative Mean Squared Error')\n",
    "# plt.title('Learning Curve for Extra Trees')\n",
    "# plt.legend(loc='best')\n",
    "# plt.show()"
   ]
  },
  {
   "attachments": {},
   "cell_type": "markdown",
   "metadata": {},
   "source": [
    "### Model Visualization of Extra Trees Regressor"
   ]
  },
  {
   "cell_type": "code",
   "execution_count": 412,
   "metadata": {},
   "outputs": [
    {
     "data": {
      "image/png": "[encoded data removed]",
      "text/plain": [
       "<Figure size 1500x500 with 3 Axes>"
      ]
     },
     "metadata": {},
     "output_type": "display_data"
    }
   ],
   "source": [
    "# Plotting the scatterplot\n",
    "fig, ax = plt.subplots(1, 3, figsize=(15, 5))\n",
    "\n",
    "# Plotting for each target variable\n",
    "for i, target in enumerate(Y_features_Regression.columns):\n",
    "    ax[i].scatter(Y_test_Regression[target], y_pred_ET[:, i], alpha=0.5)\n",
    "    ax[i].plot([Y_test_Regression[target].min(), Y_test_Regression[target].max()], [Y_test_Regression[target].min(), Y_test_Regression[target].max()], 'r--')\n",
    "    ax[i].set_xlabel('Actual ' + target)\n",
    "    ax[i].set_ylabel('Predicted ' + target)\n",
    "\n",
    "plt.suptitle('Actual vs Predicted Y for Extra Trees Regressor')\n",
    "plt.tight_layout()\n",
    "plt.show()"
   ]
  },
  {
   "cell_type": "code",
   "execution_count": 413,
   "metadata": {},
   "outputs": [
    {
     "data": {
      "text/plain": [
       "'interactive_models/extra_trees_limited_model.html'"
      ]
     },
     "execution_count": 413,
     "metadata": {},
     "output_type": "execute_result"
    }
   ],
   "source": [
    "# Create traces for actual and predicted values\n",
    "actual_trace = go.Scatter3d(\n",
    "    x=Y_test_Regression['SHUTTLECOCK POSITIION IN AIR(X) metres'],\n",
    "    y=Y_test_Regression['SHUTTLECOCK POSITIION IN AIR(Y) metres'],\n",
    "    z=Y_test_Regression['SHUTTLECOCK POSITIION IN AIR(Z) metres'],\n",
    "    name='Actual',\n",
    "    mode='markers',\n",
    "    marker=dict(\n",
    "        color='blue',\n",
    "        size=3,\n",
    "        symbol='circle'\n",
    "    )\n",
    ")\n",
    "\n",
    "predicted_trace = go.Scatter3d(\n",
    "    x=y_pred_ET[:, 0],\n",
    "    y=y_pred_ET[:, 1],\n",
    "    z=y_pred_ET[:, 2],\n",
    "    name='Predicted',\n",
    "    mode='markers',\n",
    "    marker=dict(\n",
    "        color='red',\n",
    "        size=3,\n",
    "        symbol='circle'\n",
    "    )\n",
    ")\n",
    "\n",
    "# Create layout\n",
    "layout = go.Layout(\n",
    "    title='Actual vs Predicted Shuttlecock Positions for Extra Trees Regressor',\n",
    "    scene=dict(\n",
    "        xaxis=dict(title='X'),\n",
    "        yaxis=dict(title='Y'),\n",
    "        zaxis=dict(title='Z')\n",
    "    )\n",
    ")\n",
    "\n",
    "# Create figure\n",
    "fig = go.Figure(data=[actual_trace, predicted_trace], layout=layout)\n",
    "\n",
    "# Save the plot as an HTML file\n",
    "plot(fig, filename='interactive_models/extra_trees_limited_model.html')"
   ]
  },
  {
   "attachments": {},
   "cell_type": "markdown",
   "metadata": {},
   "source": [
    "## Stage: Actual Testing with First Coordinate\n",
    "To actually test if all the models work, the first point of an observation group will be used for testing. Test will be randomized and based on observation group. Assuming that we will know the sequence order of the observation since they are ordered, OBSERVATION NUMBER will be used to identify the first observation"
   ]
  },
  {
   "cell_type": "code",
   "execution_count": 414,
   "metadata": {},
   "outputs": [
    {
     "data": {
      "text/html": [
       "<div>\n",
       "<style scoped>\n",
       "    .dataframe tbody tr th:only-of-type {\n",
       "        vertical-align: middle;\n",
       "    }\n",
       "\n",
       "    .dataframe tbody tr th {\n",
       "        vertical-align: top;\n",
       "    }\n",
       "\n",
       "    .dataframe thead th {\n",
       "        text-align: right;\n",
       "    }\n",
       "</style>\n",
       "<table border=\"1\" class=\"dataframe\">\n",
       "  <thead>\n",
       "    <tr style=\"text-align: right;\">\n",
       "      <th></th>\n",
       "      <th>SHUTTLECOCK POSITIION IN AIR(X) metres</th>\n",
       "      <th>SHUTTLECOCK POSITIION IN AIR(Y) metres</th>\n",
       "      <th>SHUTTLECOCK POSITIION IN AIR(Z) metres</th>\n",
       "      <th>OBSERVATION NUMBER</th>\n",
       "    </tr>\n",
       "  </thead>\n",
       "  <tbody>\n",
       "    <tr>\n",
       "      <th>68342</th>\n",
       "      <td>4.077388</td>\n",
       "      <td>2.965545</td>\n",
       "      <td>2.66328</td>\n",
       "      <td>1.0</td>\n",
       "    </tr>\n",
       "  </tbody>\n",
       "</table>\n",
       "</div>"
      ],
      "text/plain": [
       "       SHUTTLECOCK POSITIION IN AIR(X) metres  \\\n",
       "68342                                4.077388   \n",
       "\n",
       "       SHUTTLECOCK POSITIION IN AIR(Y) metres  \\\n",
       "68342                                2.965545   \n",
       "\n",
       "       SHUTTLECOCK POSITIION IN AIR(Z) metres  OBSERVATION NUMBER  \n",
       "68342                                 2.66328                 1.0  "
      ]
     },
     "execution_count": 414,
     "metadata": {},
     "output_type": "execute_result"
    }
   ],
   "source": [
    "import random\n",
    "# copied to avoid alterations to cleaned data\n",
    "test_data = temp_data.copy()\n",
    "\n",
    "# choose a random from the observation groups to test\n",
    "# unique_observation_grps = test_data['OBSERVATION GROUP NUMBER'].nunique()\n",
    "# selected_test_num = random.randint(1, unique_observation_grps)\n",
    "# print(\"Selected Observation Group Number is :\", selected_test_num)\n",
    "\n",
    "# alternatively can hardcode to replicate results\n",
    "selected_test_num = 593\n",
    "\n",
    "# retrieve all the rows from the data related to randomly selected row\n",
    "y_actual_records = test_data[test_data['OBSERVATION GROUP NUMBER'] == selected_test_num]\n",
    "\n",
    "# get the first coordinate of selected observation for input\n",
    "y_first_coord = y_actual_records.head(1)\n",
    "y_first_coord = y_first_coord[['SHUTTLECOCK POSITIION IN AIR(X) metres', 'SHUTTLECOCK POSITIION IN AIR(Y) metres', 'SHUTTLECOCK POSITIION IN AIR(Z) metres', 'OBSERVATION NUMBER']]\n",
    "\n",
    "# show the test data\n",
    "y_first_coord\n"
   ]
  },
  {
   "attachments": {},
   "cell_type": "markdown",
   "metadata": {},
   "source": [
    "### Generate Features for Input\n",
    "Generate human initial position"
   ]
  },
  {
   "cell_type": "code",
   "execution_count": 415,
   "metadata": {},
   "outputs": [
    {
     "name": "stderr",
     "output_type": "stream",
     "text": [
      "C:\\Users\\Matthew Chuang\\AppData\\Local\\Temp\\ipykernel_2964\\3174915428.py:2: FutureWarning:\n",
      "\n",
      "Calling float on a single element Series is deprecated and will raise a TypeError in the future. Use float(ser.iloc[0]) instead\n",
      "\n"
     ]
    },
    {
     "data": {
      "text/html": [
       "<div>\n",
       "<style scoped>\n",
       "    .dataframe tbody tr th:only-of-type {\n",
       "        vertical-align: middle;\n",
       "    }\n",
       "\n",
       "    .dataframe tbody tr th {\n",
       "        vertical-align: top;\n",
       "    }\n",
       "\n",
       "    .dataframe thead th {\n",
       "        text-align: right;\n",
       "    }\n",
       "</style>\n",
       "<table border=\"1\" class=\"dataframe\">\n",
       "  <thead>\n",
       "    <tr style=\"text-align: right;\">\n",
       "      <th></th>\n",
       "      <th>SHUTTLECOCK POSITIION IN AIR(X) metres</th>\n",
       "      <th>SHUTTLECOCK POSITIION IN AIR(Y) metres</th>\n",
       "      <th>SHUTTLECOCK POSITIION IN AIR(Z) metres</th>\n",
       "      <th>OBSERVATION NUMBER</th>\n",
       "      <th>HUMAN PLAYER POSITION (X) metres</th>\n",
       "      <th>HUMAN PLAYER POSITION (Y) metres</th>\n",
       "      <th>HUMAN PLAYER POSITION (Z) metres</th>\n",
       "    </tr>\n",
       "  </thead>\n",
       "  <tbody>\n",
       "    <tr>\n",
       "      <th>68342</th>\n",
       "      <td>4.077388</td>\n",
       "      <td>2.965545</td>\n",
       "      <td>2.66328</td>\n",
       "      <td>1.0</td>\n",
       "      <td>4</td>\n",
       "      <td>3.0</td>\n",
       "      <td>2.6</td>\n",
       "    </tr>\n",
       "  </tbody>\n",
       "</table>\n",
       "</div>"
      ],
      "text/plain": [
       "       SHUTTLECOCK POSITIION IN AIR(X) metres  \\\n",
       "68342                                4.077388   \n",
       "\n",
       "       SHUTTLECOCK POSITIION IN AIR(Y) metres  \\\n",
       "68342                                2.965545   \n",
       "\n",
       "       SHUTTLECOCK POSITIION IN AIR(Z) metres  OBSERVATION NUMBER  \\\n",
       "68342                                 2.66328                 1.0   \n",
       "\n",
       "       HUMAN PLAYER POSITION (X) metres  HUMAN PLAYER POSITION (Y) metres  \\\n",
       "68342                                 4                               3.0   \n",
       "\n",
       "       HUMAN PLAYER POSITION (Z) metres  \n",
       "68342                               2.6  "
      ]
     },
     "execution_count": 415,
     "metadata": {},
     "output_type": "execute_result"
    }
   ],
   "source": [
    "# Generate Initial Human Position\n",
    "rounded_value_x = math.floor(y_first_coord['SHUTTLECOCK POSITIION IN AIR(X) metres'])\n",
    "rounded_value_y = round(y_first_coord['SHUTTLECOCK POSITIION IN AIR(Y) metres'])\n",
    "rounded_value_z = y_first_coord['SHUTTLECOCK POSITIION IN AIR(Z) metres'].apply(lambda x: min(1.6, 2.6, key=lambda y: abs(y - x)))\n",
    "# rounded_value_z = min(1.6, 2.6, key=lambda x: abs(x - y_first_coord['SHUTTLECOCK POSITIION IN AIR(Z) metres']))\n",
    "\n",
    "y_first_coord['HUMAN PLAYER POSITION (X) metres'] = rounded_value_x\n",
    "y_first_coord['HUMAN PLAYER POSITION (Y) metres'] = rounded_value_y\n",
    "y_first_coord['HUMAN PLAYER POSITION (Z) metres'] = rounded_value_z\n",
    "\n",
    "y_first_coord"
   ]
  },
  {
   "attachments": {},
   "cell_type": "markdown",
   "metadata": {},
   "source": [
    "Generate initial velocity, slant angle, firing angle"
   ]
  },
  {
   "cell_type": "code",
   "execution_count": 416,
   "metadata": {},
   "outputs": [
    {
     "name": "stderr",
     "output_type": "stream",
     "text": [
      "C:\\Users\\Matthew Chuang\\AppData\\Local\\Temp\\ipykernel_2964\\3704619852.py:7: FutureWarning:\n",
      "\n",
      "Calling float on a single element Series is deprecated and will raise a TypeError in the future. Use float(ser.iloc[0]) instead\n",
      "\n",
      "C:\\Users\\Matthew Chuang\\AppData\\Local\\Temp\\ipykernel_2964\\3704619852.py:13: FutureWarning:\n",
      "\n",
      "Calling float on a single element Series is deprecated and will raise a TypeError in the future. Use float(ser.iloc[0]) instead\n",
      "\n",
      "C:\\Users\\Matthew Chuang\\AppData\\Local\\Temp\\ipykernel_2964\\3704619852.py:19: FutureWarning:\n",
      "\n",
      "Calling float on a single element Series is deprecated and will raise a TypeError in the future. Use float(ser.iloc[0]) instead\n",
      "\n"
     ]
    },
    {
     "data": {
      "text/html": [
       "<div>\n",
       "<style scoped>\n",
       "    .dataframe tbody tr th:only-of-type {\n",
       "        vertical-align: middle;\n",
       "    }\n",
       "\n",
       "    .dataframe tbody tr th {\n",
       "        vertical-align: top;\n",
       "    }\n",
       "\n",
       "    .dataframe thead th {\n",
       "        text-align: right;\n",
       "    }\n",
       "</style>\n",
       "<table border=\"1\" class=\"dataframe\">\n",
       "  <thead>\n",
       "    <tr style=\"text-align: right;\">\n",
       "      <th></th>\n",
       "      <th>SHUTTLECOCK POSITIION IN AIR(X) metres</th>\n",
       "      <th>SHUTTLECOCK POSITIION IN AIR(Y) metres</th>\n",
       "      <th>SHUTTLECOCK POSITIION IN AIR(Z) metres</th>\n",
       "      <th>OBSERVATION NUMBER</th>\n",
       "      <th>HUMAN PLAYER POSITION (X) metres</th>\n",
       "      <th>HUMAN PLAYER POSITION (Y) metres</th>\n",
       "      <th>HUMAN PLAYER POSITION (Z) metres</th>\n",
       "      <th>INITIAL SHUTTELCOCK FIRING ANGLE (DEGREE)</th>\n",
       "      <th>INITIAL SHUTTELCOCK SLANT ANGLE TO SIDELINE(DEGREE)</th>\n",
       "      <th>INITITAL VELOCITY OF SHUTTELCOCK(m/s)</th>\n",
       "    </tr>\n",
       "  </thead>\n",
       "  <tbody>\n",
       "    <tr>\n",
       "      <th>68342</th>\n",
       "      <td>4.077388</td>\n",
       "      <td>2.965545</td>\n",
       "      <td>2.66328</td>\n",
       "      <td>1.0</td>\n",
       "      <td>4</td>\n",
       "      <td>3.0</td>\n",
       "      <td>2.6</td>\n",
       "      <td>50</td>\n",
       "      <td>-24</td>\n",
       "      <td>1</td>\n",
       "    </tr>\n",
       "  </tbody>\n",
       "</table>\n",
       "</div>"
      ],
      "text/plain": [
       "       SHUTTLECOCK POSITIION IN AIR(X) metres  \\\n",
       "68342                                4.077388   \n",
       "\n",
       "       SHUTTLECOCK POSITIION IN AIR(Y) metres  \\\n",
       "68342                                2.965545   \n",
       "\n",
       "       SHUTTLECOCK POSITIION IN AIR(Z) metres  OBSERVATION NUMBER  \\\n",
       "68342                                 2.66328                 1.0   \n",
       "\n",
       "       HUMAN PLAYER POSITION (X) metres  HUMAN PLAYER POSITION (Y) metres  \\\n",
       "68342                                 4                               3.0   \n",
       "\n",
       "       HUMAN PLAYER POSITION (Z) metres  \\\n",
       "68342                               2.6   \n",
       "\n",
       "       INITIAL SHUTTELCOCK FIRING ANGLE (DEGREE)  \\\n",
       "68342                                         50   \n",
       "\n",
       "       INITIAL SHUTTELCOCK SLANT ANGLE TO SIDELINE(DEGREE)  \\\n",
       "68342                                                -24     \n",
       "\n",
       "       INITITAL VELOCITY OF SHUTTELCOCK(m/s)  \n",
       "68342                                      1  "
      ]
     },
     "execution_count": 416,
     "metadata": {},
     "output_type": "execute_result"
    }
   ],
   "source": [
    "# calculate displacement\n",
    "X_displacement_test = y_first_coord['SHUTTLECOCK POSITIION IN AIR(X) metres'] - y_first_coord['HUMAN PLAYER POSITION (X) metres']\n",
    "Y_displacement_test = y_first_coord['SHUTTLECOCK POSITIION IN AIR(Y) metres'] - y_first_coord['HUMAN PLAYER POSITION (Y) metres'] \n",
    "Z_displacement_test = y_first_coord['SHUTTLECOCK POSITIION IN AIR(Z) metres'] - y_first_coord['HUMAN PLAYER POSITION (Z) metres']\n",
    "\n",
    "# calculate initial firing angle\n",
    "firing_angle_radians = math.atan(X_displacement_test / Z_displacement_test)\n",
    "firing_angle_degrees = math.degrees(firing_angle_radians)\n",
    "# round to nearest 10 for firing angle\n",
    "y_first_coord['INITIAL SHUTTELCOCK FIRING ANGLE (DEGREE)'] = round(firing_angle_degrees / 10) * 10\n",
    "\n",
    "# calculate initial slant angle\n",
    "slant_angle_radians = math.atan(Y_displacement_test / X_displacement_test)\n",
    "slant_angle_degrees = math.degrees(slant_angle_radians)\n",
    "y_first_coord['INITIAL SHUTTELCOCK SLANT ANGLE TO SIDELINE(DEGREE)'] = round(slant_angle_degrees)\n",
    "\n",
    "# Calculate the initial velocity (v₀)\n",
    "time_elapsed = 0.1\n",
    "displacement = math.sqrt(X_displacement_test**2 + Y_displacement_test**2 + Z_displacement_test**2)\n",
    "initial_velocity = round(displacement/time_elapsed)\n",
    "# round to nearest 10 for velocity\n",
    "y_first_coord['INITITAL VELOCITY OF SHUTTELCOCK(m/s)'] = initial_velocity\n",
    "y_first_coord"
   ]
  },
  {
   "attachments": {},
   "cell_type": "markdown",
   "metadata": {},
   "source": [
    "Predict number of observations within a Trajectory for test record"
   ]
  },
  {
   "cell_type": "code",
   "execution_count": 417,
   "metadata": {},
   "outputs": [
    {
     "name": "stdout",
     "output_type": "stream",
     "text": [
      "Predicted observation is : 128\n",
      "Actual number of observations is : 128\n"
     ]
    },
    {
     "name": "stderr",
     "output_type": "stream",
     "text": [
      "C:\\Users\\Matthew Chuang\\AppData\\Local\\Temp\\ipykernel_2964\\1487334482.py:9: DeprecationWarning:\n",
      "\n",
      "Conversion of an array with ndim > 0 to a scalar is deprecated, and will error in future. Ensure you extract a single element from your array before performing this operation. (Deprecated NumPy 1.25.)\n",
      "\n"
     ]
    }
   ],
   "source": [
    "# select the input features we want to feed into the decision tree model to prediction observation\n",
    "X_actual_test_DT = y_first_coord[['HUMAN PLAYER POSITION (X) metres', \n",
    "                                    'HUMAN PLAYER POSITION (Y) metres',\n",
    "                                    'HUMAN PLAYER POSITION (Z) metres', \n",
    "                                    'INITITAL VELOCITY OF SHUTTELCOCK(m/s)', \n",
    "                                    'INITIAL SHUTTELCOCK FIRING ANGLE (DEGREE)', \n",
    "                                    'INITIAL SHUTTELCOCK SLANT ANGLE TO SIDELINE(DEGREE)']]\n",
    "\n",
    "predicted_observation = int(model_decisionTree.predict(X_actual_test_DT))\n",
    "print(\"Predicted observation is :\", predicted_observation)\n",
    "print(\"Actual number of observations is :\", len(y_actual_records))"
   ]
  },
  {
   "attachments": {},
   "cell_type": "markdown",
   "metadata": {},
   "source": [
    "Prepare input features to be fed into Regressor Models"
   ]
  },
  {
   "cell_type": "code",
   "execution_count": 418,
   "metadata": {},
   "outputs": [
    {
     "data": {
      "text/plain": [
       "[[4.0, 3.0, 2.6, 1.0, 50.0, -24.0, 1],\n",
       " [4.0, 3.0, 2.6, 1.0, 50.0, -24.0, 2],\n",
       " [4.0, 3.0, 2.6, 1.0, 50.0, -24.0, 3],\n",
       " [4.0, 3.0, 2.6, 1.0, 50.0, -24.0, 4],\n",
       " [4.0, 3.0, 2.6, 1.0, 50.0, -24.0, 5],\n",
       " [4.0, 3.0, 2.6, 1.0, 50.0, -24.0, 6],\n",
       " [4.0, 3.0, 2.6, 1.0, 50.0, -24.0, 7],\n",
       " [4.0, 3.0, 2.6, 1.0, 50.0, -24.0, 8],\n",
       " [4.0, 3.0, 2.6, 1.0, 50.0, -24.0, 9],\n",
       " [4.0, 3.0, 2.6, 1.0, 50.0, -24.0, 10],\n",
       " [4.0, 3.0, 2.6, 1.0, 50.0, -24.0, 11],\n",
       " [4.0, 3.0, 2.6, 1.0, 50.0, -24.0, 12],\n",
       " [4.0, 3.0, 2.6, 1.0, 50.0, -24.0, 13],\n",
       " [4.0, 3.0, 2.6, 1.0, 50.0, -24.0, 14],\n",
       " [4.0, 3.0, 2.6, 1.0, 50.0, -24.0, 15],\n",
       " [4.0, 3.0, 2.6, 1.0, 50.0, -24.0, 16],\n",
       " [4.0, 3.0, 2.6, 1.0, 50.0, -24.0, 17],\n",
       " [4.0, 3.0, 2.6, 1.0, 50.0, -24.0, 18],\n",
       " [4.0, 3.0, 2.6, 1.0, 50.0, -24.0, 19],\n",
       " [4.0, 3.0, 2.6, 1.0, 50.0, -24.0, 20],\n",
       " [4.0, 3.0, 2.6, 1.0, 50.0, -24.0, 21],\n",
       " [4.0, 3.0, 2.6, 1.0, 50.0, -24.0, 22],\n",
       " [4.0, 3.0, 2.6, 1.0, 50.0, -24.0, 23],\n",
       " [4.0, 3.0, 2.6, 1.0, 50.0, -24.0, 24],\n",
       " [4.0, 3.0, 2.6, 1.0, 50.0, -24.0, 25],\n",
       " [4.0, 3.0, 2.6, 1.0, 50.0, -24.0, 26],\n",
       " [4.0, 3.0, 2.6, 1.0, 50.0, -24.0, 27],\n",
       " [4.0, 3.0, 2.6, 1.0, 50.0, -24.0, 28],\n",
       " [4.0, 3.0, 2.6, 1.0, 50.0, -24.0, 29],\n",
       " [4.0, 3.0, 2.6, 1.0, 50.0, -24.0, 30],\n",
       " [4.0, 3.0, 2.6, 1.0, 50.0, -24.0, 31],\n",
       " [4.0, 3.0, 2.6, 1.0, 50.0, -24.0, 32],\n",
       " [4.0, 3.0, 2.6, 1.0, 50.0, -24.0, 33],\n",
       " [4.0, 3.0, 2.6, 1.0, 50.0, -24.0, 34],\n",
       " [4.0, 3.0, 2.6, 1.0, 50.0, -24.0, 35],\n",
       " [4.0, 3.0, 2.6, 1.0, 50.0, -24.0, 36],\n",
       " [4.0, 3.0, 2.6, 1.0, 50.0, -24.0, 37],\n",
       " [4.0, 3.0, 2.6, 1.0, 50.0, -24.0, 38],\n",
       " [4.0, 3.0, 2.6, 1.0, 50.0, -24.0, 39],\n",
       " [4.0, 3.0, 2.6, 1.0, 50.0, -24.0, 40],\n",
       " [4.0, 3.0, 2.6, 1.0, 50.0, -24.0, 41],\n",
       " [4.0, 3.0, 2.6, 1.0, 50.0, -24.0, 42],\n",
       " [4.0, 3.0, 2.6, 1.0, 50.0, -24.0, 43],\n",
       " [4.0, 3.0, 2.6, 1.0, 50.0, -24.0, 44],\n",
       " [4.0, 3.0, 2.6, 1.0, 50.0, -24.0, 45],\n",
       " [4.0, 3.0, 2.6, 1.0, 50.0, -24.0, 46],\n",
       " [4.0, 3.0, 2.6, 1.0, 50.0, -24.0, 47],\n",
       " [4.0, 3.0, 2.6, 1.0, 50.0, -24.0, 48],\n",
       " [4.0, 3.0, 2.6, 1.0, 50.0, -24.0, 49],\n",
       " [4.0, 3.0, 2.6, 1.0, 50.0, -24.0, 50],\n",
       " [4.0, 3.0, 2.6, 1.0, 50.0, -24.0, 51],\n",
       " [4.0, 3.0, 2.6, 1.0, 50.0, -24.0, 52],\n",
       " [4.0, 3.0, 2.6, 1.0, 50.0, -24.0, 53],\n",
       " [4.0, 3.0, 2.6, 1.0, 50.0, -24.0, 54],\n",
       " [4.0, 3.0, 2.6, 1.0, 50.0, -24.0, 55],\n",
       " [4.0, 3.0, 2.6, 1.0, 50.0, -24.0, 56],\n",
       " [4.0, 3.0, 2.6, 1.0, 50.0, -24.0, 57],\n",
       " [4.0, 3.0, 2.6, 1.0, 50.0, -24.0, 58],\n",
       " [4.0, 3.0, 2.6, 1.0, 50.0, -24.0, 59],\n",
       " [4.0, 3.0, 2.6, 1.0, 50.0, -24.0, 60],\n",
       " [4.0, 3.0, 2.6, 1.0, 50.0, -24.0, 61],\n",
       " [4.0, 3.0, 2.6, 1.0, 50.0, -24.0, 62],\n",
       " [4.0, 3.0, 2.6, 1.0, 50.0, -24.0, 63],\n",
       " [4.0, 3.0, 2.6, 1.0, 50.0, -24.0, 64],\n",
       " [4.0, 3.0, 2.6, 1.0, 50.0, -24.0, 65],\n",
       " [4.0, 3.0, 2.6, 1.0, 50.0, -24.0, 66],\n",
       " [4.0, 3.0, 2.6, 1.0, 50.0, -24.0, 67],\n",
       " [4.0, 3.0, 2.6, 1.0, 50.0, -24.0, 68],\n",
       " [4.0, 3.0, 2.6, 1.0, 50.0, -24.0, 69],\n",
       " [4.0, 3.0, 2.6, 1.0, 50.0, -24.0, 70],\n",
       " [4.0, 3.0, 2.6, 1.0, 50.0, -24.0, 71],\n",
       " [4.0, 3.0, 2.6, 1.0, 50.0, -24.0, 72],\n",
       " [4.0, 3.0, 2.6, 1.0, 50.0, -24.0, 73],\n",
       " [4.0, 3.0, 2.6, 1.0, 50.0, -24.0, 74],\n",
       " [4.0, 3.0, 2.6, 1.0, 50.0, -24.0, 75],\n",
       " [4.0, 3.0, 2.6, 1.0, 50.0, -24.0, 76],\n",
       " [4.0, 3.0, 2.6, 1.0, 50.0, -24.0, 77],\n",
       " [4.0, 3.0, 2.6, 1.0, 50.0, -24.0, 78],\n",
       " [4.0, 3.0, 2.6, 1.0, 50.0, -24.0, 79],\n",
       " [4.0, 3.0, 2.6, 1.0, 50.0, -24.0, 80],\n",
       " [4.0, 3.0, 2.6, 1.0, 50.0, -24.0, 81],\n",
       " [4.0, 3.0, 2.6, 1.0, 50.0, -24.0, 82],\n",
       " [4.0, 3.0, 2.6, 1.0, 50.0, -24.0, 83],\n",
       " [4.0, 3.0, 2.6, 1.0, 50.0, -24.0, 84],\n",
       " [4.0, 3.0, 2.6, 1.0, 50.0, -24.0, 85],\n",
       " [4.0, 3.0, 2.6, 1.0, 50.0, -24.0, 86],\n",
       " [4.0, 3.0, 2.6, 1.0, 50.0, -24.0, 87],\n",
       " [4.0, 3.0, 2.6, 1.0, 50.0, -24.0, 88],\n",
       " [4.0, 3.0, 2.6, 1.0, 50.0, -24.0, 89],\n",
       " [4.0, 3.0, 2.6, 1.0, 50.0, -24.0, 90],\n",
       " [4.0, 3.0, 2.6, 1.0, 50.0, -24.0, 91],\n",
       " [4.0, 3.0, 2.6, 1.0, 50.0, -24.0, 92],\n",
       " [4.0, 3.0, 2.6, 1.0, 50.0, -24.0, 93],\n",
       " [4.0, 3.0, 2.6, 1.0, 50.0, -24.0, 94],\n",
       " [4.0, 3.0, 2.6, 1.0, 50.0, -24.0, 95],\n",
       " [4.0, 3.0, 2.6, 1.0, 50.0, -24.0, 96],\n",
       " [4.0, 3.0, 2.6, 1.0, 50.0, -24.0, 97],\n",
       " [4.0, 3.0, 2.6, 1.0, 50.0, -24.0, 98],\n",
       " [4.0, 3.0, 2.6, 1.0, 50.0, -24.0, 99],\n",
       " [4.0, 3.0, 2.6, 1.0, 50.0, -24.0, 100],\n",
       " [4.0, 3.0, 2.6, 1.0, 50.0, -24.0, 101],\n",
       " [4.0, 3.0, 2.6, 1.0, 50.0, -24.0, 102],\n",
       " [4.0, 3.0, 2.6, 1.0, 50.0, -24.0, 103],\n",
       " [4.0, 3.0, 2.6, 1.0, 50.0, -24.0, 104],\n",
       " [4.0, 3.0, 2.6, 1.0, 50.0, -24.0, 105],\n",
       " [4.0, 3.0, 2.6, 1.0, 50.0, -24.0, 106],\n",
       " [4.0, 3.0, 2.6, 1.0, 50.0, -24.0, 107],\n",
       " [4.0, 3.0, 2.6, 1.0, 50.0, -24.0, 108],\n",
       " [4.0, 3.0, 2.6, 1.0, 50.0, -24.0, 109],\n",
       " [4.0, 3.0, 2.6, 1.0, 50.0, -24.0, 110],\n",
       " [4.0, 3.0, 2.6, 1.0, 50.0, -24.0, 111],\n",
       " [4.0, 3.0, 2.6, 1.0, 50.0, -24.0, 112],\n",
       " [4.0, 3.0, 2.6, 1.0, 50.0, -24.0, 113],\n",
       " [4.0, 3.0, 2.6, 1.0, 50.0, -24.0, 114],\n",
       " [4.0, 3.0, 2.6, 1.0, 50.0, -24.0, 115],\n",
       " [4.0, 3.0, 2.6, 1.0, 50.0, -24.0, 116],\n",
       " [4.0, 3.0, 2.6, 1.0, 50.0, -24.0, 117],\n",
       " [4.0, 3.0, 2.6, 1.0, 50.0, -24.0, 118],\n",
       " [4.0, 3.0, 2.6, 1.0, 50.0, -24.0, 119],\n",
       " [4.0, 3.0, 2.6, 1.0, 50.0, -24.0, 120],\n",
       " [4.0, 3.0, 2.6, 1.0, 50.0, -24.0, 121],\n",
       " [4.0, 3.0, 2.6, 1.0, 50.0, -24.0, 122],\n",
       " [4.0, 3.0, 2.6, 1.0, 50.0, -24.0, 123],\n",
       " [4.0, 3.0, 2.6, 1.0, 50.0, -24.0, 124],\n",
       " [4.0, 3.0, 2.6, 1.0, 50.0, -24.0, 125],\n",
       " [4.0, 3.0, 2.6, 1.0, 50.0, -24.0, 126],\n",
       " [4.0, 3.0, 2.6, 1.0, 50.0, -24.0, 127],\n",
       " [4.0, 3.0, 2.6, 1.0, 50.0, -24.0, 128]]"
      ]
     },
     "execution_count": 418,
     "metadata": {},
     "output_type": "execute_result"
    }
   ],
   "source": [
    "# container to store prepared input features we want to feed into the regression model to predict entire trajectory x, y, z coordinates\n",
    "X_actual_test_Regressor = []\n",
    "# select x features and change the observation number accordingly and add into container\n",
    "for obs_num in range(1, predicted_observation+1):\n",
    "    temp = (y_first_coord[['HUMAN PLAYER POSITION (X) metres', \n",
    "                            'HUMAN PLAYER POSITION (Y) metres',\n",
    "                            'HUMAN PLAYER POSITION (Z) metres',\n",
    "                            'INITITAL VELOCITY OF SHUTTELCOCK(m/s)', \n",
    "                            'INITIAL SHUTTELCOCK FIRING ANGLE (DEGREE)', \n",
    "                            'INITIAL SHUTTELCOCK SLANT ANGLE TO SIDELINE(DEGREE)']]).values.tolist()\n",
    "    temp_obs_row = temp[:5][0]\n",
    "    temp_obs_row.append(obs_num)\n",
    "    X_actual_test_Regressor.append(temp_obs_row)\n",
    "X_actual_test_Regressor"
   ]
  },
  {
   "cell_type": "code",
   "execution_count": 419,
   "metadata": {},
   "outputs": [],
   "source": [
    "# Get array into dataframe format\n",
    "column_names = [\n",
    "    'HUMAN PLAYER POSITION (X) metres',\n",
    "    'HUMAN PLAYER POSITION (Y) metres',\n",
    "    'HUMAN PLAYER POSITION (Z) metres',\n",
    "    'INITITAL VELOCITY OF SHUTTELCOCK(m/s)',\n",
    "    'INITIAL SHUTTELCOCK FIRING ANGLE (DEGREE)',\n",
    "    'INITIAL SHUTTELCOCK SLANT ANGLE TO SIDELINE(DEGREE)',\n",
    "    'OBSERVATION NUMBER'\n",
    "]\n",
    "X_actual_test_Regressor_DF = pd.DataFrame(X_actual_test_Regressor, columns = column_names)"
   ]
  },
  {
   "attachments": {},
   "cell_type": "markdown",
   "metadata": {},
   "source": [
    "Predict the Trajectory using Trained Models, outputs an array of predicted shuttlecock trajectory coordinates"
   ]
  },
  {
   "cell_type": "code",
   "execution_count": 420,
   "metadata": {},
   "outputs": [],
   "source": [
    "# prediction using random forest regression\n",
    "predicted_trajectory_points_RT = model_randomForest.predict(X_actual_test_Regressor_DF)\n",
    "# prediction using extra trees regression\n",
    "predicted_trajectory_points_ET = model_ExtraTrees.predict(X_actual_test_Regressor_DF)"
   ]
  },
  {
   "attachments": {},
   "cell_type": "markdown",
   "metadata": {},
   "source": [
    "### Overall Evaluation for all Regression Models"
   ]
  },
  {
   "cell_type": "code",
   "execution_count": 421,
   "metadata": {},
   "outputs": [
    {
     "name": "stdout",
     "output_type": "stream",
     "text": [
      "Mean Square Error of the Random Forest Tree Regressor is : 5.764241382028195e-05\n",
      "Root Mean Square Error of the Random Forest Tree Regressor is : 0.0075922601259626205\n",
      "Mean Square Error of the Extra Trees Regressor is : 1.1348771711907627e-05\n",
      "Root Mean Square Error of the Extra Trees Regressor is : 0.0033687938066773435\n"
     ]
    }
   ],
   "source": [
    "# Do an error evaluation\n",
    "y_actual_coords = y_actual_records[['SHUTTLECOCK POSITIION IN AIR(X) metres', 'SHUTTLECOCK POSITIION IN AIR(Y) metres', 'SHUTTLECOCK POSITIION IN AIR(Z) metres']]\n",
    "\n",
    "mse_actual_RT = mean_squared_error(y_actual_coords, predicted_trajectory_points_RT)\n",
    "rmse_actual_RT = math.sqrt(mse_actual_RT)\n",
    "print(\"Mean Square Error of the Random Forest Tree Regressor is :\", mse_actual_RT)\n",
    "print(\"Root Mean Square Error of the Random Forest Tree Regressor is :\", rmse_actual_RT)\n",
    "\n",
    "mse_actual_ET = mean_squared_error(y_actual_coords, predicted_trajectory_points_ET)\n",
    "rmse_actual_ET = math.sqrt(mse_actual_ET)\n",
    "print(\"Mean Square Error of the Extra Trees Regressor is :\", mse_actual_ET)\n",
    "print(\"Root Mean Square Error of the Extra Trees Regressor is :\", rmse_actual_ET)"
   ]
  },
  {
   "attachments": {},
   "cell_type": "markdown",
   "metadata": {},
   "source": [
    "Static Visualization of Shuttlecock Trajectory in a Court"
   ]
  },
  {
   "cell_type": "code",
   "execution_count": 422,
   "metadata": {},
   "outputs": [],
   "source": [
    "#Court Constants\n",
    "_HEIGHT_SKYBOX_M_ = 10\n",
    "_HEIGHT_NET_M_ = 1.55\n",
    "_HEIGHT_ROBOTBADMINTON_CENTER_M_ = 1.1\n",
    "\n",
    "_LENGTH_COURT_X_M_ = 13.4\n",
    "_LENGTH_COURT_Y_M_ = 5.18\n",
    "_LENGTH_CENTERLINE_M_ = 4.68\n",
    "\n",
    "_COURT_BOUNDARY_TOP_ = [\n",
    " (0,0),\n",
    " (0, _LENGTH_COURT_Y_M_)\n",
    "]\n",
    "_COURT_BOUNDARY_BOTTOM_ = [\n",
    " (_LENGTH_COURT_X_M_, 0),\n",
    " (_LENGTH_COURT_X_M_, _LENGTH_COURT_Y_M_)\n",
    "]\n",
    "_COURT_BOUNDARY_LEFT_ = [\n",
    " (0,0),\n",
    " (_LENGTH_COURT_X_M_, 0)\n",
    "]\n",
    "_COURT_BOUNDARY_RIGHT_ = [\n",
    " (0, _LENGTH_COURT_Y_M_),\n",
    " (_LENGTH_COURT_X_M_, _LENGTH_COURT_Y_M_)\n",
    "]\n",
    "\n",
    "_COURT_CENTRELINE01_ = [\n",
    " (0, (_LENGTH_COURT_Y_M_/2)),\n",
    " (_LENGTH_CENTERLINE_M_, (_LENGTH_COURT_Y_M_/2))\n",
    "]\n",
    "_COURT_CENTRELINE02_ = [\n",
    "    (_LENGTH_COURT_X_M_ - _LENGTH_CENTERLINE_M_, (_LENGTH_COURT_Y_M_/2)),\n",
    "    (_LENGTH_COURT_X_M_, (_LENGTH_COURT_Y_M_/2))\n",
    "]\n",
    "_COURT_SHORTSERVICELINE01_ = [\n",
    "    (_LENGTH_CENTERLINE_M_ + 0.04, 0),\n",
    "    (_LENGTH_CENTERLINE_M_ + 0.04, _LENGTH_COURT_Y_M_)\n",
    "]\n",
    "_COURT_SHORTSERVICELINE02_ = [\n",
    "    (_LENGTH_COURT_X_M_ - _LENGTH_CENTERLINE_M_ - 0.04, 0),\n",
    "    (_LENGTH_COURT_X_M_ - _LENGTH_CENTERLINE_M_ - 0.04, _LENGTH_COURT_Y_M_)\n",
    "]"
   ]
  },
  {
   "cell_type": "code",
   "execution_count": 423,
   "metadata": {},
   "outputs": [
    {
     "data": {
      "image/png": "[encoded data removed]",
      "text/plain": [
       "<Figure size 1600x700 with 2 Axes>"
      ]
     },
     "metadata": {},
     "output_type": "display_data"
    }
   ],
   "source": [
    "import matplotlib.pyplot as plt\n",
    "from mpl_toolkits.mplot3d import Axes3D\n",
    "\n",
    "# Create a 3D figure with subplots\n",
    "fig, axes = plt.subplots(nrows=1, ncols=2, figsize=(16, 7), subplot_kw={'projection': '3d'})\n",
    "\n",
    "# Set titles for subplots\n",
    "axes[0].set_title(\"Trajectory Estimation of Random Forest Regressor\")\n",
    "axes[1].set_title(\"Trajectory Estimation of Extra Trees Regressor\")\n",
    "\n",
    "# Define court dimensions\n",
    "court_length_x = 13.4\n",
    "court_length_y = 5.18\n",
    "court_height_skybox = 10\n",
    "court_height_net = 1.55\n",
    "court_height_robotbadminton_center = 1.1\n",
    "court_length_centerline = 4.68\n",
    "\n",
    "# Loop over subplots\n",
    "for ax_index, ax in enumerate(axes):\n",
    "    # Plot court boundaries\n",
    "    ax.plot([0, court_length_x], [0, 0], [0, 0], color='black', linewidth=1)  # Bottom boundary\n",
    "    ax.plot([0, court_length_x], [court_length_y, court_length_y], [0, 0], color='black', linewidth=1)  # Top boundary\n",
    "    ax.plot([0, 0], [0, court_length_y], [0, 0], color='black', linewidth=1)  # Left boundary\n",
    "    ax.plot([court_length_x, court_length_x], [0, court_length_y], [0, 0], color='black', linewidth=1)  # Right boundary\n",
    "\n",
    "    # Plot center line\n",
    "    ax.plot([0, court_length_centerline], [court_length_y / 2, court_length_y / 2], [0, 0], color='black', linewidth=1)\n",
    "    ax.plot([court_length_x - court_length_centerline, court_length_x], [court_length_y / 2, court_length_y / 2], [0, 0], color='black', linewidth=1)\n",
    "\n",
    "    # Plot short service lines\n",
    "    ax.plot([court_length_centerline + 0.04, court_length_centerline + 0.04], [0, court_length_y], [0, 0], color='black', linewidth=1)\n",
    "    ax.plot([court_length_x - court_length_centerline - 0.04, court_length_x - court_length_centerline - 0.04], [0, court_length_y], [0, 0], color='black', linewidth=1)\n",
    "\n",
    "    # Plot net\n",
    "    net_height = court_height_net\n",
    "    ax.plot([court_length_x / 2, court_length_x / 2], [0, court_length_y], [net_height, net_height], color='red', linewidth=1)\n",
    "\n",
    "    # Set plot limits and labels\n",
    "    ax.set_xlim([0, court_length_x])\n",
    "    ax.set_ylim([0, court_length_y])\n",
    "    ax.set_zlim([0, court_height_skybox])\n",
    "    ax.set_xlabel('Length (m)')\n",
    "    ax.set_ylabel('Width (m)')\n",
    "    ax.set_zlabel('Height (m)')\n",
    "\n",
    "    if ax_index == 0:\n",
    "        columns_n = ['X', 'Y', 'Z']\n",
    "        predicted_trajectory_points_RF_DF = pd.DataFrame(predicted_trajectory_points_RT, columns=columns_n)\n",
    "\n",
    "        # Extract X, Y, Z coordinates from y_actual_test and predicted_trajectory_point\n",
    "        x_actual = y_actual_coords['SHUTTLECOCK POSITIION IN AIR(X) metres']\n",
    "        y_actual = y_actual_coords['SHUTTLECOCK POSITIION IN AIR(Y) metres']\n",
    "        z_actual = y_actual_coords['SHUTTLECOCK POSITIION IN AIR(Z) metres']\n",
    "\n",
    "        x_predicted = predicted_trajectory_points_RF_DF['X'].values\n",
    "        y_predicted = predicted_trajectory_points_RF_DF['Y'].values\n",
    "        z_predicted = predicted_trajectory_points_RF_DF['Z'].values\n",
    "\n",
    "        ax.scatter(x_actual, y_actual, z_actual, c='blue', label='Actual Trajectory')\n",
    "        ax.scatter(x_predicted, y_predicted, z_predicted, c='red', label='Predicted Trajectory (Random Forest Regressor)')\n",
    "\n",
    "    elif ax_index == 1:\n",
    "        columns_n = ['X', 'Y', 'Z']\n",
    "        predicted_trajectory_points_ET_DF = pd.DataFrame(predicted_trajectory_points_ET, columns=columns_n)\n",
    "\n",
    "        # Extract X, Y, Z coordinates from y_actual_test and predicted_trajectory_point\n",
    "        x_actual = y_actual_coords['SHUTTLECOCK POSITIION IN AIR(X) metres']\n",
    "        y_actual = y_actual_coords['SHUTTLECOCK POSITIION IN AIR(Y) metres']\n",
    "        z_actual = y_actual_coords['SHUTTLECOCK POSITIION IN AIR(Z) metres']\n",
    "\n",
    "        x_predicted = predicted_trajectory_points_ET_DF['X'].values\n",
    "        y_predicted = predicted_trajectory_points_ET_DF['Y'].values\n",
    "        z_predicted = predicted_trajectory_points_ET_DF['Z'].values\n",
    "\n",
    "        ax.scatter(x_actual, y_actual, z_actual, c='blue', label='Actual Trajectory')\n",
    "        ax.scatter(x_predicted, y_predicted, z_predicted, c='red', label='Predicted Trajectory (Extra Trees Regressor)')\n",
    "\n",
    "    ax.legend()\n",
    "\n",
    "# Adjust spacing between subplots\n",
    "plt.subplots_adjust(wspace=0.2)\n",
    "\n",
    "# Display the plot\n",
    "plt.show()\n"
   ]
  },
  {
   "attachments": {},
   "cell_type": "markdown",
   "metadata": {},
   "source": [
    "3D Interactive Visualization of the Shuttlecock Trajectory"
   ]
  },
  {
   "cell_type": "code",
   "execution_count": 424,
   "metadata": {},
   "outputs": [
    {
     "data": {
      "text/plain": [
       "'interactive_models/normal_regression_trajectory.html'"
      ]
     },
     "execution_count": 424,
     "metadata": {},
     "output_type": "execute_result"
    }
   ],
   "source": [
    "import plotly.graph_objects as go\n",
    "import plotly.offline as offline\n",
    "\n",
    "# Create a scatter plot for actual trajectory\n",
    "actual_trace = go.Scatter3d(x=y_actual_coords['SHUTTLECOCK POSITIION IN AIR(X) metres'],\n",
    "                            y=y_actual_coords['SHUTTLECOCK POSITIION IN AIR(Y) metres'],\n",
    "                            z=y_actual_coords['SHUTTLECOCK POSITIION IN AIR(Z) metres'],\n",
    "                            mode='markers',\n",
    "                            marker=dict(color='blue'),\n",
    "                            name='Actual Trajectory')\n",
    "\n",
    "# Create a scatter plot for predicted trajectory using Random Forest Regressor\n",
    "predicted_trace_RF = go.Scatter3d(x=predicted_trajectory_points_RT[:, 0],\n",
    "                                  y=predicted_trajectory_points_RT[:, 1],\n",
    "                                  z=predicted_trajectory_points_RT[:, 2],\n",
    "                                  mode='markers',\n",
    "                                  marker=dict(color='red'),\n",
    "                                  name='Predicted Trajectory (Random Forest)')\n",
    "\n",
    "# Create a scatter plot for predicted trajectory using Extra Trees Regressor\n",
    "predicted_trace_ET = go.Scatter3d(x=predicted_trajectory_points_ET[:, 0],\n",
    "                                  y=predicted_trajectory_points_ET[:, 1],\n",
    "                                  z=predicted_trajectory_points_ET[:, 2],\n",
    "                                  mode='markers',\n",
    "                                  marker=dict(color='green'),\n",
    "                                  name='Predicted Trajectory (Extra Trees)')\n",
    "\n",
    "# Set the data trace\n",
    "data = [actual_trace, predicted_trace_RF, predicted_trace_ET]\n",
    "\n",
    "# Set layout and title\n",
    "layout = go.Layout(\n",
    "    scene=dict(\n",
    "        xaxis_title='X',\n",
    "        yaxis_title='Y',\n",
    "        zaxis_title='Z',\n",
    "        xaxis=dict(range=[-15, 15]),  # Set X-axis range\n",
    "        yaxis=dict(range=[-15, 15]),  # Set Y-axis range\n",
    "        zaxis=dict(range=[0, 15])     # Set Z-axis range\n",
    "    ),\n",
    "    title='Actual vs Predicted Trajectory'\n",
    ")\n",
    "\n",
    "# Create the figure\n",
    "fig = go.Figure(data=data, layout=layout)\n",
    "\n",
    "# Save the plot as an HTML file\n",
    "offline.plot(fig, filename='interactive_models/normal_regression_trajectory.html')\n"
   ]
  },
  {
   "attachments": {},
   "cell_type": "markdown",
   "metadata": {},
   "source": [
    "### ROBOT - Shuttlecock Trajectory Estimation"
   ]
  },
  {
   "cell_type": "code",
   "execution_count": 425,
   "metadata": {},
   "outputs": [
    {
     "name": "stdout",
     "output_type": "stream",
     "text": [
      "Is predicted Regression Tree (RT) within court:  True\n",
      "Is predicted Extra Tree (ET) within court:  True\n",
      "Average XYZ of Estimated Shuttlecock Position: [9.47715815 0.55905775 0.0514827 ]\n",
      "Distance: 1.36 meters in 0.45 seconds\n",
      "X difference: 1.3576035707360283\n",
      "Y difference: 0.07416748105112703\n",
      "Time required: 0.4532093299177769 seconds\n",
      "Able to reach and hit on time\n",
      "Distance: 4.02 meters in 1.34 seconds\n",
      "X difference: -0.08642303411377084\n",
      "Y difference: 4.017591177238718\n",
      "Time required: 1.3395068664853171 seconds\n",
      "Able to reach and hit on time\n",
      "Distance: 4.19 meters in 1.40 seconds\n",
      "X difference: -0.3486859422652633\n",
      "Y difference: 4.171816534690836\n",
      "Time required: 1.3954543300561957 seconds\n",
      "Able to reach and hit on time\n"
     ]
    },
    {
     "data": {
      "application/vnd.plotly.v1+json": {
       "config": {
        "plotlyServerURL": "https://plot.ly"
       },
       "data": [
        {
         "marker": {
          "color": "blue",
          "size": 2
         },
         "mode": "markers",
         "name": "True Values",
         "opacity": 0.7,
         "type": "scatter3d",
         "x": [
          4.077388185,
          4.152811224,
          4.226673362,
          4.302038264,
          4.375924873,
          4.450561642,
          4.524441138,
          4.595310394,
          4.668394935,
          4.73728204,
          4.809742582,
          4.881575639,
          4.951938912,
          5.021116694,
          5.08925347,
          5.157250055,
          5.226603228,
          5.292919939,
          5.36039016,
          5.426852906,
          5.491724632,
          5.556616623,
          5.621443103,
          5.686680009,
          5.748308053,
          5.813892816,
          5.875402617,
          5.938196242,
          5.998286713,
          6.059082384,
          6.119999012,
          6.180979015,
          6.23969487,
          6.297119522,
          6.358785661,
          6.414502775,
          6.472874521,
          6.529301901,
          6.584594166,
          6.640818872,
          6.695490746,
          6.75110469,
          6.804825188,
          6.858514015,
          6.911357653,
          6.963570918,
          7.017099717,
          7.068569913,
          7.119494579,
          7.169601224,
          7.220621937,
          7.267378298,
          7.318966418,
          7.367466272,
          7.413476012,
          7.460991717,
          7.509281714,
          7.554376075,
          7.599936923,
          7.645212272,
          7.68912426,
          7.733860476,
          7.77930193,
          7.822361687,
          7.86319465,
          7.906213231,
          7.9467277,
          7.988065471,
          8.028168388,
          8.069381246,
          8.108820725,
          8.146040079,
          8.185130392,
          8.223604455,
          8.260564475,
          8.295319726,
          8.333730092,
          8.369228961,
          8.403950383,
          8.437903505,
          8.473102465,
          8.507731291,
          8.537205958,
          8.570702479,
          8.604018664,
          8.634475841,
          8.663800927,
          8.695280794,
          8.725706492,
          8.754951121,
          8.783455778,
          8.810522695,
          8.840217852,
          8.868072689,
          8.893016679,
          8.920006582,
          8.945787487,
          8.971071284,
          8.995345488,
          9.020008302,
          9.045200866,
          9.063833613,
          9.086214666,
          9.112206609,
          9.132153353,
          9.153950959,
          9.172731526,
          9.190145293,
          9.211517351,
          9.231032573,
          9.249440015,
          9.267335158,
          9.283440891,
          9.299911996,
          9.317480221,
          9.331740277,
          9.346496594,
          9.36130444,
          9.376223324,
          9.390197043,
          9.403368476,
          9.41554719,
          9.427269977,
          9.437115164,
          9.447687927,
          9.458633959,
          9.467921652,
          9.47753451
         ],
         "y": [
          2.96554456,
          2.931964059,
          2.899078517,
          2.865523901,
          2.832627463,
          2.799397032,
          2.766503761,
          2.734950736,
          2.702411402,
          2.671740887,
          2.639479375,
          2.607497237,
          2.57616949,
          2.545369557,
          2.51503311,
          2.48475908,
          2.453881057,
          2.424354956,
          2.394315278,
          2.364724157,
          2.335841403,
          2.306949627,
          2.278087019,
          2.249041677,
          2.221603104,
          2.192402886,
          2.165016958,
          2.137059435,
          2.110305434,
          2.083237457,
          2.056115627,
          2.02896558,
          2.002823597,
          1.977256495,
          1.949800961,
          1.924994104,
          1.899005328,
          1.87388224,
          1.849264537,
          1.824231686,
          1.799890199,
          1.775129276,
          1.751211369,
          1.727307563,
          1.70378006,
          1.680533216,
          1.656700659,
          1.633784652,
          1.61111153,
          1.588802614,
          1.566086729,
          1.545269456,
          1.522300945,
          1.500707419,
          1.480222563,
          1.459067208,
          1.437567116,
          1.417489813,
          1.397204817,
          1.377046932,
          1.357496056,
          1.337578209,
          1.31734637,
          1.298174931,
          1.279994925,
          1.260841819,
          1.242803615,
          1.224398854,
          1.206543885,
          1.188194738,
          1.170635151,
          1.154064026,
          1.136659898,
          1.119530141,
          1.10307448,
          1.087600446,
          1.070499049,
          1.054693934,
          1.039234961,
          1.024118057,
          1.00844647,
          0.993028723,
          0.979905756,
          0.964992144,
          0.950158823,
          0.936598414,
          0.923542045,
          0.909526305,
          0.895979911,
          0.882959364,
          0.870268273,
          0.858217305,
          0.844996169,
          0.832594397,
          0.821488617,
          0.809471938,
          0.797993539,
          0.786736468,
          0.775928896,
          0.764948304,
          0.753731851,
          0.745436018,
          0.735471331,
          0.723898972,
          0.71501811,
          0.70531319,
          0.696951543,
          0.689198435,
          0.679682982,
          0.670994245,
          0.662798723,
          0.654831292,
          0.647660558,
          0.64032715,
          0.632505272,
          0.626156286,
          0.619586351,
          0.612993473,
          0.606351158,
          0.600129657,
          0.594265357,
          0.588843044,
          0.583623723,
          0.579240364,
          0.574533066,
          0.569659579,
          0.565524431,
          0.561244511
         ],
         "z": [
          2.663279855,
          2.725307982,
          2.789070231,
          2.849315252,
          2.902662379,
          2.96113057,
          3.016981335,
          3.073671046,
          3.129956943,
          3.180562949,
          3.233790225,
          3.281121708,
          3.331878977,
          3.381775213,
          3.429161812,
          3.475208673,
          3.52067341,
          3.567620418,
          3.610762862,
          3.654852625,
          3.696343244,
          3.73801719,
          3.778136552,
          3.816523096,
          3.855295383,
          3.893615196,
          3.930006487,
          3.966493356,
          4.00283816,
          4.039897259,
          4.07354871,
          4.105049458,
          4.138941881,
          4.1699719,
          4.200102497,
          4.230256575,
          4.260098678,
          4.288913414,
          4.315865501,
          4.340479694,
          4.368137281,
          4.393586868,
          4.416309682,
          4.441543582,
          4.463300855,
          4.484724497,
          4.506170407,
          4.525646328,
          4.543701476,
          4.562734543,
          4.581475004,
          4.594670329,
          4.610726628,
          4.625988329,
          4.636694289,
          4.650381287,
          4.662470907,
          4.67190258,
          4.680100119,
          4.686497438,
          4.695006408,
          4.700215289,
          4.703837006,
          4.705100687,
          4.706570002,
          4.707478143,
          4.706933298,
          4.70406917,
          4.700516045,
          4.694157623,
          4.68984954,
          4.678690921,
          4.669034931,
          4.656810976,
          4.643345969,
          4.627475724,
          4.611051142,
          4.590892206,
          4.572082643,
          4.547707603,
          4.524543532,
          4.498673816,
          4.467936921,
          4.436892844,
          4.405346841,
          4.368819994,
          4.334950261,
          4.294223345,
          4.250915326,
          4.206554677,
          4.161134111,
          4.111291894,
          4.0588181,
          4.004205757,
          3.947534635,
          3.886206117,
          3.8238702,
          3.758453401,
          3.687876416,
          3.617413977,
          3.539594213,
          3.462791853,
          3.381299315,
          3.295001355,
          3.208581321,
          3.115744781,
          3.01948915,
          2.91972036,
          2.816404277,
          2.709973089,
          2.597350754,
          2.484146925,
          2.367282215,
          2.242828063,
          2.115450937,
          1.983261365,
          1.848617646,
          1.707930331,
          1.563590485,
          1.415033057,
          1.260953936,
          1.103571884,
          0.938142067,
          0.768708452,
          0.595337985,
          0.414130525,
          0.233261226,
          0.04091644
         ]
        },
        {
         "marker": {
          "color": "red",
          "size": 2
         },
         "mode": "markers",
         "name": "Predicted Values (Random Forest)",
         "opacity": 0.7,
         "type": "scatter3d",
         "x": [
          4.0772869144114114,
          4.152675078170231,
          4.226871897400937,
          4.301920130071585,
          4.37607722724515,
          4.45048712865798,
          4.52390893629055,
          4.5957931820797056,
          4.6685990067953815,
          4.738333054860313,
          4.810980356036512,
          4.881366853686397,
          4.951967599148788,
          5.021812727718569,
          5.091403361550439,
          5.16855915734254,
          5.221079226338227,
          5.296648865922384,
          5.367097783905595,
          5.424700827959954,
          5.490746672003819,
          5.562312697562017,
          5.623105477019388,
          5.683557602370778,
          5.753581513348849,
          5.8145032415005256,
          5.867732509560358,
          5.947212103730189,
          6.000626632951487,
          6.049050403197105,
          6.122180042792352,
          6.18670664071673,
          6.236314483514349,
          6.305317119361311,
          6.358805942768589,
          6.409394717228614,
          6.480954622986277,
          6.532101236188813,
          6.588204633703614,
          6.630399428299171,
          6.69679455662938,
          6.767996940537127,
          6.799580976953467,
          6.8461261362347114,
          6.91571020388099,
          6.977972264151972,
          7.007940253196071,
          7.066413222262671,
          7.117266446431282,
          7.165181761655665,
          7.220996328704175,
          7.261837629791819,
          7.3162679539783575,
          7.350643374612688,
          7.426896809573557,
          7.458802054142675,
          7.511828524385061,
          7.553606655335284,
          7.605362355170149,
          7.651130859998411,
          7.694582285942836,
          7.723585551231605,
          7.769610833702944,
          7.817114251410523,
          7.863459364735388,
          7.905382136170266,
          7.952838926236144,
          7.983588908912315,
          8.016398845076331,
          8.06336272351378,
          8.096703153489583,
          8.137095544862419,
          8.175770481111178,
          8.21405819412984,
          8.259156956491339,
          8.286853967177853,
          8.324063614271463,
          8.369253303189502,
          8.406173410633064,
          8.437154307692543,
          8.465921803334954,
          8.505481889421546,
          8.537064584845444,
          8.560659846527352,
          8.591436854159413,
          8.625191361808483,
          8.66045455214131,
          8.687864417817044,
          8.73428601416385,
          8.752422924030057,
          8.769154848340335,
          8.800718961243028,
          8.842151388923298,
          8.864876418646014,
          8.892679550504347,
          8.915184616637822,
          8.94237876724821,
          8.96097075893676,
          8.989288611649444,
          9.021497783418335,
          9.034942216296349,
          9.062835522205834,
          9.08529628790486,
          9.10940319772401,
          9.128551179499077,
          9.151138560448903,
          9.170707905377057,
          9.193062561220025,
          9.209300378907695,
          9.225907199254861,
          9.240972064536924,
          9.266582072399572,
          9.280529299044984,
          9.300260537911502,
          9.31651645432682,
          9.33042109323074,
          9.346765645193654,
          9.361662804069981,
          9.375927265083734,
          9.387414686596205,
          9.403037927994577,
          9.414976070951525,
          9.42624225156382,
          9.436010047568754,
          9.448515508971171,
          9.459246162945844,
          9.468985325425443,
          9.476781797037267
         ],
         "y": [
          2.9655417542090294,
          2.928681821870117,
          2.8977577032012993,
          2.8637481310635,
          2.830776816647375,
          2.803026735476924,
          2.763330432633853,
          2.7332261317220548,
          2.694563578929384,
          2.668642247884926,
          2.6368046654909176,
          2.605167093362601,
          2.5763629670834276,
          2.53261515007251,
          2.503522876841833,
          2.4789917094112575,
          2.460631420375513,
          2.423472958970957,
          2.3943614214895015,
          2.3694726101403383,
          2.3344741884591262,
          2.3038328027369213,
          2.2786843279367237,
          2.256596076819563,
          2.2228401385934133,
          2.1970188420093932,
          2.1757818780218243,
          2.1427902730133663,
          2.116860285320029,
          2.091089479652747,
          2.0526563517288445,
          2.023811811720903,
          2.0100096109058465,
          1.975369356022346,
          1.9495932976578707,
          1.924068622717237,
          1.8913753190538376,
          1.873189722631401,
          1.8530802103328108,
          1.8298807554503285,
          1.7954201595399213,
          1.7603938566022523,
          1.7496842535469832,
          1.7340990705863775,
          1.7067747705391596,
          1.6790732453788662,
          1.6611818769871365,
          1.6342851659875641,
          1.6077918928522958,
          1.581538557944178,
          1.5638128322134264,
          1.5464617270279635,
          1.5219862140123164,
          1.5137460183403695,
          1.473106384317547,
          1.457990633965987,
          1.4316213553835255,
          1.40491503464414,
          1.3772768507876507,
          1.3562374844580989,
          1.3365820639360912,
          1.3256149994480688,
          1.3079442053561403,
          1.2910683664468192,
          1.2765893566999418,
          1.2636073366122318,
          1.2454054632779825,
          1.233595500229812,
          1.2201682412886687,
          1.19107427387081,
          1.172664067626698,
          1.151460452485059,
          1.136468291082882,
          1.1181047266501567,
          1.0936094229443316,
          1.081932501133076,
          1.0636939213587933,
          1.0493495706022713,
          1.036327180538023,
          1.0230907024559195,
          1.0073882300177452,
          0.9909985737714964,
          0.9778045007087086,
          0.9686989320946211,
          0.9544921639969091,
          0.9322248421641648,
          0.9182860926860299,
          0.9033146541074825,
          0.8826423794492781,
          0.8800191556320156,
          0.8696422396081815,
          0.8550455191713904,
          0.8453300971067743,
          0.8304892087709048,
          0.821064296970249,
          0.8103961791148084,
          0.7938686471774256,
          0.7856403905756371,
          0.767421006954744,
          0.7685839876554168,
          0.7679862401344586,
          0.7544564038563638,
          0.7478050408942387,
          0.7269798075954285,
          0.7140457412487262,
          0.6927785282265948,
          0.6924771053611549,
          0.6987398370010953,
          0.6925364884710007,
          0.6904036237237868,
          0.702961035153,
          0.6627814602794159,
          0.6503941028783324,
          0.6343553098326666,
          0.6309802174352511,
          0.6169378943478325,
          0.6245428502430821,
          0.6137600474778341,
          0.6051196800210823,
          0.5897379981376177,
          0.588344377802166,
          0.5878793655325836,
          0.5850133001955014,
          0.5825022474425844,
          0.5661427155205,
          0.5610010746483336,
          0.5561297774579167,
          0.5568709898278088
         ],
         "z": [
          2.663048424218681,
          2.724837758658021,
          2.7881375493958025,
          2.8477670962559047,
          2.904711133508657,
          2.9628626267055322,
          3.0178646405767773,
          3.0738286538849335,
          3.129635701379346,
          3.179678605085138,
          3.232949478560387,
          3.283158390229656,
          3.332829793216357,
          3.3824077185195676,
          3.4309757654615716,
          3.483282254642114,
          3.5183351343600897,
          3.5695389337545667,
          3.6156390463689543,
          3.6526287285419197,
          3.694749448592934,
          3.7401935269317357,
          3.777963859436572,
          3.815408657794468,
          3.8581624415486417,
          3.894712014889702,
          3.9262111057238163,
          3.9729701929226433,
          4.004058912332744,
          4.0317912897428,
          4.072564745114758,
          4.108020635415472,
          4.13515772585059,
          4.172173646293445,
          4.200202731672096,
          4.226403476313201,
          4.262905388935207,
          4.288405060991945,
          4.316110457408703,
          4.336461079454951,
          4.367660125696682,
          4.400099736859151,
          4.414202098226087,
          4.434530411600424,
          4.46406418409643,
          4.489621968877191,
          4.5014238253551575,
          4.52389807204568,
          4.542906271835369,
          4.560158242506484,
          4.579527382050682,
          4.592800367807676,
          4.609640479128689,
          4.619701906434731,
          4.640501768458552,
          4.64870038750883,
          4.661130471896542,
          4.6700414969687944,
          4.679671235254308,
          4.687418459468202,
          4.693588013189596,
          4.697071557413228,
          4.700856058412261,
          4.703469068893465,
          4.704605260995776,
          4.704997366656957,
          4.703767976104961,
          4.7019033986808605,
          4.6988075729201695,
          4.692241112266245,
          4.686864342509119,
          4.678521139875361,
          4.668105909566218,
          4.656870573313202,
          4.641162382717965,
          4.630388082022928,
          4.612844170544822,
          4.588661907177481,
          4.567357846230284,
          4.547031084176327,
          4.526546706524143,
          4.495260973211787,
          4.467797839443887,
          4.445414801362112,
          4.4144662880987156,
          4.376971232924853,
          4.336403892809324,
          4.300436097003862,
          4.236364921267544,
          4.209607706452111,
          4.182459673587474,
          4.127915558341406,
          4.0528827936979575,
          4.007730765781922,
          3.9473021919101376,
          3.8956667797272133,
          3.8300017042606895,
          3.782259579552834,
          3.702369176673571,
          3.6089154500092047,
          3.5658052624931633,
          3.4671257180589437,
          3.3870722009594663,
          3.2986883574552923,
          3.2218883399119425,
          3.1231662994932248,
          3.02707808053825,
          2.9111442664644636,
          2.8262371110731648,
          2.73743150048274,
          2.6445576338537524,
          2.484689639730584,
          2.3848191044724074,
          2.2409767269274186,
          2.1178002528651216,
          1.9944429146037044,
          1.8454387320149146,
          1.7030358797054164,
          1.5620621536350017,
          1.4409795791126296,
          1.2592269064485802,
          1.1061152193159152,
          0.9465498473238333,
          0.7934256032575823,
          0.5932522079206668,
          0.4081550506816669,
          0.22101158562041698,
          0.062048967926095336
         ]
        },
        {
         "marker": {
          "color": "green",
          "size": 2
         },
         "mode": "markers",
         "name": "Predicted Values (Extra Trees)",
         "opacity": 0.7,
         "type": "scatter3d",
         "x": [
          4.077388185000005,
          4.1533055566,
          4.22667336199999,
          4.302038263999992,
          4.375924872999991,
          4.450423928939994,
          4.52444113799999,
          4.595310394000008,
          4.668394934999993,
          4.73728204000001,
          4.809742582000009,
          4.881575639000004,
          4.951938912000002,
          5.020623415860004,
          5.0893979864400025,
          5.157557298240002,
          5.226603227999992,
          5.292919938999998,
          5.360390160000003,
          5.4268529060000095,
          5.492115320840005,
          5.556616623000008,
          5.621443102999998,
          5.6866800089999945,
          5.748308053000001,
          5.81389281600001,
          5.875402617000003,
          5.938196242000003,
          5.998286713000007,
          6.05908238400001,
          6.120573535810008,
          6.180979015000004,
          6.239694869999995,
          6.297119522000002,
          6.358785661,
          6.409247176919993,
          6.472874520999995,
          6.529301901000009,
          6.584594165999992,
          6.640818871999995,
          6.69549074600001,
          6.751104690000001,
          6.804825187999996,
          6.858514015000001,
          6.91135765299999,
          6.963570917999993,
          7.01709971699999,
          7.068569913000001,
          7.119494579000008,
          7.169601223999995,
          7.2206219370000015,
          7.267378298000008,
          7.3189664179999845,
          7.367466272000001,
          7.413476012000009,
          7.45231485501001,
          7.509281714000014,
          7.554376075000013,
          7.609299064089999,
          7.645212271999989,
          7.689124259999982,
          7.73386047600001,
          7.779301929999983,
          7.822361687000009,
          7.863194649999997,
          7.906213231000009,
          7.946727699999998,
          7.988065471000018,
          8.02816838800001,
          8.068915593209999,
          8.108820724999989,
          8.146040079000011,
          8.182077780760002,
          8.223604454999988,
          8.260564475000017,
          8.295319726,
          8.333730091999998,
          8.369228960999983,
          8.403950383000018,
          8.437903505000007,
          8.473102465000009,
          8.507731291000018,
          8.537205957999985,
          8.570702479000007,
          8.604018664000016,
          8.632419289750011,
          8.66380092700001,
          8.695999392409993,
          8.725706491999981,
          8.754951120999984,
          8.783455777999988,
          8.807644483019999,
          8.840217852000016,
          8.86807268899998,
          8.893016678999995,
          8.920006582000012,
          8.945787486999988,
          8.971071284000002,
          8.997458620189994,
          9.020008301999983,
          9.03744435596999,
          9.063833613000012,
          9.086214666000016,
          9.112206609000022,
          9.13215335300001,
          9.153950958999987,
          9.172731526000005,
          9.190145293,
          9.211517351,
          9.231032572999995,
          9.25181472052001,
          9.267335158000012,
          9.282603962320017,
          9.303128807310008,
          9.31748022099999,
          9.331740276999996,
          9.34649659399998,
          9.36130444000002,
          9.376223323999989,
          9.390197042999976,
          9.403368475999992,
          9.415547189999991,
          9.427269977000012,
          9.43711516400001,
          9.447687926999977,
          9.459667609160006,
          9.46792165199998,
          9.477534510000025
         ],
         "y": [
          2.965544560000006,
          2.932060696850001,
          2.8990785170000004,
          2.8655239009999978,
          2.832627462999996,
          2.8003596126199977,
          2.766503760999999,
          2.7349507359999996,
          2.7024114019999974,
          2.671740886999999,
          2.6394793750000023,
          2.607497236999996,
          2.5761694900000056,
          2.5458682752800006,
          2.5152404596799998,
          2.4858767480499995,
          2.4538810569999954,
          2.4243549560000015,
          2.394315277999995,
          2.3647241570000044,
          2.3391665907200014,
          2.3069496269999963,
          2.2780870189999978,
          2.2490416770000023,
          2.221603103999998,
          2.192402885999997,
          2.165016957999997,
          2.137059434999998,
          2.1103054339999976,
          2.0832374569999974,
          2.0546641095100013,
          2.028965580000003,
          2.002823597000002,
          1.9772564950000038,
          1.9498009609999962,
          1.917411554590001,
          1.8990053279999963,
          1.8738822400000001,
          1.8492645370000025,
          1.8242316859999983,
          1.7998901990000027,
          1.775129276000001,
          1.7512113690000026,
          1.7273075630000008,
          1.7037800600000035,
          1.6805332159999973,
          1.656700658999997,
          1.633784652000002,
          1.611111529999999,
          1.5888026140000016,
          1.5660867290000027,
          1.545269456,
          1.5223009450000007,
          1.500707418999999,
          1.4802225630000008,
          1.4665121921699993,
          1.4375671159999976,
          1.4174898130000022,
          1.3892317480800005,
          1.3770469320000003,
          1.3574960560000013,
          1.3375782089999992,
          1.3173463699999985,
          1.2981749310000021,
          1.2799949249999978,
          1.260841819000003,
          1.242803615,
          1.2243988540000001,
          1.2065438850000014,
          1.1892193189500002,
          1.1706351509999993,
          1.1540640260000001,
          1.1371375166899995,
          1.1195301409999987,
          1.1030744800000025,
          1.0876004459999993,
          1.0704990490000017,
          1.0546939339999997,
          1.0392349610000011,
          1.0241180569999988,
          1.0084464699999989,
          0.9930287229999984,
          0.9799057559999983,
          0.9649921440000022,
          0.9501588229999992,
          0.9365371839300003,
          0.9235420450000009,
          0.9111552074399997,
          0.8959799109999987,
          0.8829593640000009,
          0.8702682729999986,
          0.8603265195299988,
          0.8449961689999991,
          0.8325943969999992,
          0.821488617,
          0.8094719380000011,
          0.7979935389999995,
          0.7867364680000007,
          0.7780037899900006,
          0.7649483040000006,
          0.7716418029600008,
          0.7454360180000006,
          0.7354713309999995,
          0.7238989720000005,
          0.7150181100000013,
          0.7053131899999987,
          0.6969515429999988,
          0.6891984350000006,
          0.6796829820000012,
          0.6709942450000013,
          0.7009544783199994,
          0.6548312919999989,
          0.6517586768400001,
          0.659262235390001,
          0.6325052720000013,
          0.6261562859999986,
          0.6195863510000009,
          0.6129934730000012,
          0.6063511580000011,
          0.6001296569999984,
          0.5942653569999992,
          0.5888430440000006,
          0.5836237230000008,
          0.5792403640000002,
          0.5745330660000006,
          0.55014507537,
          0.565524431,
          0.5612445109999986
         ],
         "z": [
          2.663279855000005,
          2.7242392467500043,
          2.7890702310000024,
          2.849315251999997,
          2.902662378999997,
          2.9621284748999996,
          3.0169813350000023,
          3.073671045999997,
          3.129956943000002,
          3.180562948999999,
          3.2337902250000052,
          3.281121708,
          3.3318789769999957,
          3.381705651589995,
          3.429769771569996,
          3.475696219370004,
          3.5206734099999926,
          3.567620417999994,
          3.610762862000001,
          3.654852624999995,
          3.6956755941999946,
          3.738017189999995,
          3.7781365519999963,
          3.816523096000007,
          3.8552953829999983,
          3.893615195999999,
          3.9300064870000098,
          3.9664933560000004,
          4.002838160000006,
          4.03989725899999,
          4.071677331749999,
          4.105049457999997,
          4.138941880999995,
          4.169971900000006,
          4.2001024969999925,
          4.2267433880300045,
          4.2600986780000065,
          4.288913413999994,
          4.3158655010000055,
          4.340479694000006,
          4.368137280999991,
          4.393586868,
          4.416309682000006,
          4.441543582000005,
          4.463300855,
          4.484724497000001,
          4.50617040700001,
          4.525646327999994,
          4.543701476000009,
          4.5627345429999915,
          4.581475004000011,
          4.594670328999997,
          4.610726628000005,
          4.625988328999996,
          4.636694288999994,
          4.647260736539995,
          4.662470907,
          4.671902579999995,
          4.680934347359999,
          4.686497438000003,
          4.695006407999995,
          4.700215289000012,
          4.703837006000003,
          4.705100687000011,
          4.706570001999993,
          4.707478143000002,
          4.706933298000009,
          4.70406917000001,
          4.700516044999987,
          4.69507284796,
          4.689849540000008,
          4.6786909209999985,
          4.668516490399994,
          4.656810975999989,
          4.643345968999996,
          4.627475724000006,
          4.611051142000004,
          4.590892205999993,
          4.572082642999991,
          4.547707602999996,
          4.5245435319999965,
          4.498673816000006,
          4.467936920999993,
          4.436892844,
          4.405346840999995,
          4.3719059407600005,
          4.334950261000004,
          4.291259693629998,
          4.250915325999997,
          4.20655467699999,
          4.161134111000007,
          4.117777121630001,
          4.058818099999997,
          4.004205757000006,
          3.9475346350000065,
          3.88620611699999,
          3.823870199999992,
          3.7584534009999975,
          3.682289499880003,
          3.617413977000007,
          3.559014160660001,
          3.4627918529999993,
          3.3812993149999984,
          3.2950013550000055,
          3.2085813209999974,
          3.115744780999995,
          3.0194891500000027,
          2.919720360000004,
          2.8164042770000033,
          2.7099730889999956,
          2.579060102759999,
          2.4841469250000032,
          2.369862176880001,
          2.2230182504800036,
          2.115450936999998,
          1.9832613650000024,
          1.8486176460000003,
          1.707930331,
          1.5635904850000006,
          1.4150330570000003,
          1.2609539359999966,
          1.1035718840000013,
          0.9381420670000008,
          0.7687084519999989,
          0.5953379850000003,
          0.40460210382999995,
          0.2332612259999998,
          0.04091644000000006
         ]
        },
        {
         "line": {
          "color": "black",
          "width": 1
         },
         "mode": "lines",
         "name": "Court Boundaries",
         "type": "scatter3d",
         "x": [
          0,
          13.4,
          13.4,
          0,
          0
         ],
         "y": [
          0,
          0,
          5.18,
          5.18,
          0
         ],
         "z": [
          0,
          0,
          0,
          0,
          0
         ]
        },
        {
         "line": {
          "color": "black",
          "width": 1
         },
         "mode": "lines",
         "name": "Center Line",
         "type": "scatter3d",
         "x": [
          0,
          4.68,
          4.68,
          0,
          0
         ],
         "y": [
          2.59,
          2.59,
          2.59,
          2.59,
          2.59
         ],
         "z": [
          0,
          0,
          0,
          0,
          0
         ]
        },
        {
         "line": {
          "color": "black",
          "width": 1
         },
         "mode": "lines",
         "name": "Center Line",
         "type": "scatter3d",
         "x": [
          8.72,
          13.4
         ],
         "y": [
          2.59,
          2.59
         ],
         "z": [
          0,
          0,
          0,
          0,
          0
         ]
        },
        {
         "line": {
          "color": "black",
          "width": 1
         },
         "mode": "lines",
         "name": "Short Service Lines",
         "type": "scatter3d",
         "x": [
          4.72,
          4.72
         ],
         "y": [
          0,
          5.18
         ],
         "z": [
          0,
          0
         ]
        },
        {
         "line": {
          "color": "black",
          "width": 1
         },
         "mode": "lines",
         "name": "Short Service Lines",
         "type": "scatter3d",
         "x": [
          8.680000000000001,
          8.680000000000001
         ],
         "y": [
          0,
          5.18
         ],
         "z": [
          0,
          0
         ]
        },
        {
         "line": {
          "color": "red",
          "width": 1
         },
         "mode": "lines",
         "name": "Net",
         "type": "scatter3d",
         "x": [
          6.7,
          6.7
         ],
         "y": [
          0,
          5.18
         ],
         "z": [
          1.55,
          1.55
         ]
        },
        {
         "line": {
          "color": "green",
          "width": 5
         },
         "marker": {
          "color": "cyan",
          "line": {
           "color": "black",
           "width": 4
          },
          "size": 10,
          "symbol": "cross"
         },
         "mode": "lines+markers",
         "name": "Predicted Position",
         "opacity": 1,
         "type": "scatter3d",
         "x": [
          9.477158153518646
         ],
         "y": [
          0.5590577504139037
         ],
         "z": [
          0.0514827039630477
         ]
        },
        {
         "line": {
          "color": "green",
          "width": 5
         },
         "marker": {
          "color": "cyan",
          "line": {
           "color": "black",
           "width": 4
          },
          "size": 6,
          "symbol": "diamond"
         },
         "mode": "lines+markers",
         "name": "Average Highest XYZ-point",
         "opacity": 1,
         "type": "scatter3d",
         "x": [
          7.905797683585137
         ],
         "y": [
          1.2622245778061174
         ],
         "z": [
          4.7062377548284795
         ]
        },
        {
         "marker": {
          "color": "blue",
          "size": 10
         },
         "mode": "markers",
         "name": "Initial Starting Point (Hit)",
         "opacity": 1,
         "type": "scatter3d",
         "x": [
          11.038761724254675
         ],
         "y": [
          0.863225231465031
         ],
         "z": [
          1.115
         ]
        },
        {
         "marker": {
          "color": "blue",
          "size": 10
         },
         "mode": "markers",
         "name": "Initial Starting Point (Hit)",
         "opacity": 1,
         "type": "scatter3d",
         "x": [
          9.594735119404875
         ],
         "y": [
          4.806648927652622
         ],
         "z": [
          1.115
         ]
        },
        {
         "marker": {
          "color": "blue",
          "size": 10
         },
         "mode": "markers",
         "name": "Initial Starting Point (Hit)",
         "opacity": 1,
         "type": "scatter3d",
         "x": [
          9.332472211253382
         ],
         "y": [
          4.96087428510474
         ],
         "z": [
          1.115
         ]
        },
        {
         "marker": {
          "color": "green",
          "size": 10
         },
         "mode": "markers",
         "name": "Point to Hit the Ball",
         "opacity": 1,
         "type": "scatter3d",
         "x": [
          9.681158153518645
         ],
         "y": [
          0.789057750413904
         ],
         "z": [
          1.115
         ]
        }
       ],
       "layout": {
        "scene": {
         "aspectmode": "manual",
         "aspectratio": {
          "x": 1,
          "y": 1,
          "z": 1
         },
         "xaxis": {
          "range": [
           -4,
           18
          ],
          "title": {
           "text": "X-coordinate"
          }
         },
         "yaxis": {
          "range": [
           -2,
           7
          ],
          "title": {
           "text": "Y-coordinate"
          }
         },
         "zaxis": {
          "range": [
           0,
           12
          ],
          "title": {
           "text": "Z-coordinate"
          }
         }
        },
        "template": {
         "data": {
          "bar": [
           {
            "error_x": {
             "color": "#2a3f5f"
            },
            "error_y": {
             "color": "#2a3f5f"
            },
            "marker": {
             "line": {
              "color": "#E5ECF6",
              "width": 0.5
             },
             "pattern": {
              "fillmode": "overlay",
              "size": 10,
              "solidity": 0.2
             }
            },
            "type": "bar"
           }
          ],
          "barpolar": [
           {
            "marker": {
             "line": {
              "color": "#E5ECF6",
              "width": 0.5
             },
             "pattern": {
              "fillmode": "overlay",
              "size": 10,
              "solidity": 0.2
             }
            },
            "type": "barpolar"
           }
          ],
          "carpet": [
           {
            "aaxis": {
             "endlinecolor": "#2a3f5f",
             "gridcolor": "white",
             "linecolor": "white",
             "minorgridcolor": "white",
             "startlinecolor": "#2a3f5f"
            },
            "baxis": {
             "endlinecolor": "#2a3f5f",
             "gridcolor": "white",
             "linecolor": "white",
             "minorgridcolor": "white",
             "startlinecolor": "#2a3f5f"
            },
            "type": "carpet"
           }
          ],
          "choropleth": [
           {
            "colorbar": {
             "outlinewidth": 0,
             "ticks": ""
            },
            "type": "choropleth"
           }
          ],
          "contour": [
           {
            "colorbar": {
             "outlinewidth": 0,
             "ticks": ""
            },
            "colorscale": [
             [
              0,
              "#0d0887"
             ],
             [
              0.1111111111111111,
              "#46039f"
             ],
             [
              0.2222222222222222,
              "#7201a8"
             ],
             [
              0.3333333333333333,
              "#9c179e"
             ],
             [
              0.4444444444444444,
              "#bd3786"
             ],
             [
              0.5555555555555556,
              "#d8576b"
             ],
             [
              0.6666666666666666,
              "#ed7953"
             ],
             [
              0.7777777777777778,
              "#fb9f3a"
             ],
             [
              0.8888888888888888,
              "#fdca26"
             ],
             [
              1,
              "#f0f921"
             ]
            ],
            "type": "contour"
           }
          ],
          "contourcarpet": [
           {
            "colorbar": {
             "outlinewidth": 0,
             "ticks": ""
            },
            "type": "contourcarpet"
           }
          ],
          "heatmap": [
           {
            "colorbar": {
             "outlinewidth": 0,
             "ticks": ""
            },
            "colorscale": [
             [
              0,
              "#0d0887"
             ],
             [
              0.1111111111111111,
              "#46039f"
             ],
             [
              0.2222222222222222,
              "#7201a8"
             ],
             [
              0.3333333333333333,
              "#9c179e"
             ],
             [
              0.4444444444444444,
              "#bd3786"
             ],
             [
              0.5555555555555556,
              "#d8576b"
             ],
             [
              0.6666666666666666,
              "#ed7953"
             ],
             [
              0.7777777777777778,
              "#fb9f3a"
             ],
             [
              0.8888888888888888,
              "#fdca26"
             ],
             [
              1,
              "#f0f921"
             ]
            ],
            "type": "heatmap"
           }
          ],
          "heatmapgl": [
           {
            "colorbar": {
             "outlinewidth": 0,
             "ticks": ""
            },
            "colorscale": [
             [
              0,
              "#0d0887"
             ],
             [
              0.1111111111111111,
              "#46039f"
             ],
             [
              0.2222222222222222,
              "#7201a8"
             ],
             [
              0.3333333333333333,
              "#9c179e"
             ],
             [
              0.4444444444444444,
              "#bd3786"
             ],
             [
              0.5555555555555556,
              "#d8576b"
             ],
             [
              0.6666666666666666,
              "#ed7953"
             ],
             [
              0.7777777777777778,
              "#fb9f3a"
             ],
             [
              0.8888888888888888,
              "#fdca26"
             ],
             [
              1,
              "#f0f921"
             ]
            ],
            "type": "heatmapgl"
           }
          ],
          "histogram": [
           {
            "marker": {
             "pattern": {
              "fillmode": "overlay",
              "size": 10,
              "solidity": 0.2
             }
            },
            "type": "histogram"
           }
          ],
          "histogram2d": [
           {
            "colorbar": {
             "outlinewidth": 0,
             "ticks": ""
            },
            "colorscale": [
             [
              0,
              "#0d0887"
             ],
             [
              0.1111111111111111,
              "#46039f"
             ],
             [
              0.2222222222222222,
              "#7201a8"
             ],
             [
              0.3333333333333333,
              "#9c179e"
             ],
             [
              0.4444444444444444,
              "#bd3786"
             ],
             [
              0.5555555555555556,
              "#d8576b"
             ],
             [
              0.6666666666666666,
              "#ed7953"
             ],
             [
              0.7777777777777778,
              "#fb9f3a"
             ],
             [
              0.8888888888888888,
              "#fdca26"
             ],
             [
              1,
              "#f0f921"
             ]
            ],
            "type": "histogram2d"
           }
          ],
          "histogram2dcontour": [
           {
            "colorbar": {
             "outlinewidth": 0,
             "ticks": ""
            },
            "colorscale": [
             [
              0,
              "#0d0887"
             ],
             [
              0.1111111111111111,
              "#46039f"
             ],
             [
              0.2222222222222222,
              "#7201a8"
             ],
             [
              0.3333333333333333,
              "#9c179e"
             ],
             [
              0.4444444444444444,
              "#bd3786"
             ],
             [
              0.5555555555555556,
              "#d8576b"
             ],
             [
              0.6666666666666666,
              "#ed7953"
             ],
             [
              0.7777777777777778,
              "#fb9f3a"
             ],
             [
              0.8888888888888888,
              "#fdca26"
             ],
             [
              1,
              "#f0f921"
             ]
            ],
            "type": "histogram2dcontour"
           }
          ],
          "mesh3d": [
           {
            "colorbar": {
             "outlinewidth": 0,
             "ticks": ""
            },
            "type": "mesh3d"
           }
          ],
          "parcoords": [
           {
            "line": {
             "colorbar": {
              "outlinewidth": 0,
              "ticks": ""
             }
            },
            "type": "parcoords"
           }
          ],
          "pie": [
           {
            "automargin": true,
            "type": "pie"
           }
          ],
          "scatter": [
           {
            "fillpattern": {
             "fillmode": "overlay",
             "size": 10,
             "solidity": 0.2
            },
            "type": "scatter"
           }
          ],
          "scatter3d": [
           {
            "line": {
             "colorbar": {
              "outlinewidth": 0,
              "ticks": ""
             }
            },
            "marker": {
             "colorbar": {
              "outlinewidth": 0,
              "ticks": ""
             }
            },
            "type": "scatter3d"
           }
          ],
          "scattercarpet": [
           {
            "marker": {
             "colorbar": {
              "outlinewidth": 0,
              "ticks": ""
             }
            },
            "type": "scattercarpet"
           }
          ],
          "scattergeo": [
           {
            "marker": {
             "colorbar": {
              "outlinewidth": 0,
              "ticks": ""
             }
            },
            "type": "scattergeo"
           }
          ],
          "scattergl": [
           {
            "marker": {
             "colorbar": {
              "outlinewidth": 0,
              "ticks": ""
             }
            },
            "type": "scattergl"
           }
          ],
          "scattermapbox": [
           {
            "marker": {
             "colorbar": {
              "outlinewidth": 0,
              "ticks": ""
             }
            },
            "type": "scattermapbox"
           }
          ],
          "scatterpolar": [
           {
            "marker": {
             "colorbar": {
              "outlinewidth": 0,
              "ticks": ""
             }
            },
            "type": "scatterpolar"
           }
          ],
          "scatterpolargl": [
           {
            "marker": {
             "colorbar": {
              "outlinewidth": 0,
              "ticks": ""
             }
            },
            "type": "scatterpolargl"
           }
          ],
          "scatterternary": [
           {
            "marker": {
             "colorbar": {
              "outlinewidth": 0,
              "ticks": ""
             }
            },
            "type": "scatterternary"
           }
          ],
          "surface": [
           {
            "colorbar": {
             "outlinewidth": 0,
             "ticks": ""
            },
            "colorscale": [
             [
              0,
              "#0d0887"
             ],
             [
              0.1111111111111111,
              "#46039f"
             ],
             [
              0.2222222222222222,
              "#7201a8"
             ],
             [
              0.3333333333333333,
              "#9c179e"
             ],
             [
              0.4444444444444444,
              "#bd3786"
             ],
             [
              0.5555555555555556,
              "#d8576b"
             ],
             [
              0.6666666666666666,
              "#ed7953"
             ],
             [
              0.7777777777777778,
              "#fb9f3a"
             ],
             [
              0.8888888888888888,
              "#fdca26"
             ],
             [
              1,
              "#f0f921"
             ]
            ],
            "type": "surface"
           }
          ],
          "table": [
           {
            "cells": {
             "fill": {
              "color": "#EBF0F8"
             },
             "line": {
              "color": "white"
             }
            },
            "header": {
             "fill": {
              "color": "#C8D4E3"
             },
             "line": {
              "color": "white"
             }
            },
            "type": "table"
           }
          ]
         },
         "layout": {
          "annotationdefaults": {
           "arrowcolor": "#2a3f5f",
           "arrowhead": 0,
           "arrowwidth": 1
          },
          "autotypenumbers": "strict",
          "coloraxis": {
           "colorbar": {
            "outlinewidth": 0,
            "ticks": ""
           }
          },
          "colorscale": {
           "diverging": [
            [
             0,
             "#8e0152"
            ],
            [
             0.1,
             "#c51b7d"
            ],
            [
             0.2,
             "#de77ae"
            ],
            [
             0.3,
             "#f1b6da"
            ],
            [
             0.4,
             "#fde0ef"
            ],
            [
             0.5,
             "#f7f7f7"
            ],
            [
             0.6,
             "#e6f5d0"
            ],
            [
             0.7,
             "#b8e186"
            ],
            [
             0.8,
             "#7fbc41"
            ],
            [
             0.9,
             "#4d9221"
            ],
            [
             1,
             "#276419"
            ]
           ],
           "sequential": [
            [
             0,
             "#0d0887"
            ],
            [
             0.1111111111111111,
             "#46039f"
            ],
            [
             0.2222222222222222,
             "#7201a8"
            ],
            [
             0.3333333333333333,
             "#9c179e"
            ],
            [
             0.4444444444444444,
             "#bd3786"
            ],
            [
             0.5555555555555556,
             "#d8576b"
            ],
            [
             0.6666666666666666,
             "#ed7953"
            ],
            [
             0.7777777777777778,
             "#fb9f3a"
            ],
            [
             0.8888888888888888,
             "#fdca26"
            ],
            [
             1,
             "#f0f921"
            ]
           ],
           "sequentialminus": [
            [
             0,
             "#0d0887"
            ],
            [
             0.1111111111111111,
             "#46039f"
            ],
            [
             0.2222222222222222,
             "#7201a8"
            ],
            [
             0.3333333333333333,
             "#9c179e"
            ],
            [
             0.4444444444444444,
             "#bd3786"
            ],
            [
             0.5555555555555556,
             "#d8576b"
            ],
            [
             0.6666666666666666,
             "#ed7953"
            ],
            [
             0.7777777777777778,
             "#fb9f3a"
            ],
            [
             0.8888888888888888,
             "#fdca26"
            ],
            [
             1,
             "#f0f921"
            ]
           ]
          },
          "colorway": [
           "#636efa",
           "#EF553B",
           "#00cc96",
           "#ab63fa",
           "#FFA15A",
           "#19d3f3",
           "#FF6692",
           "#B6E880",
           "#FF97FF",
           "#FECB52"
          ],
          "font": {
           "color": "#2a3f5f"
          },
          "geo": {
           "bgcolor": "white",
           "lakecolor": "white",
           "landcolor": "#E5ECF6",
           "showlakes": true,
           "showland": true,
           "subunitcolor": "white"
          },
          "hoverlabel": {
           "align": "left"
          },
          "hovermode": "closest",
          "mapbox": {
           "style": "light"
          },
          "paper_bgcolor": "white",
          "plot_bgcolor": "#E5ECF6",
          "polar": {
           "angularaxis": {
            "gridcolor": "white",
            "linecolor": "white",
            "ticks": ""
           },
           "bgcolor": "#E5ECF6",
           "radialaxis": {
            "gridcolor": "white",
            "linecolor": "white",
            "ticks": ""
           }
          },
          "scene": {
           "xaxis": {
            "backgroundcolor": "#E5ECF6",
            "gridcolor": "white",
            "gridwidth": 2,
            "linecolor": "white",
            "showbackground": true,
            "ticks": "",
            "zerolinecolor": "white"
           },
           "yaxis": {
            "backgroundcolor": "#E5ECF6",
            "gridcolor": "white",
            "gridwidth": 2,
            "linecolor": "white",
            "showbackground": true,
            "ticks": "",
            "zerolinecolor": "white"
           },
           "zaxis": {
            "backgroundcolor": "#E5ECF6",
            "gridcolor": "white",
            "gridwidth": 2,
            "linecolor": "white",
            "showbackground": true,
            "ticks": "",
            "zerolinecolor": "white"
           }
          },
          "shapedefaults": {
           "line": {
            "color": "#2a3f5f"
           }
          },
          "ternary": {
           "aaxis": {
            "gridcolor": "white",
            "linecolor": "white",
            "ticks": ""
           },
           "baxis": {
            "gridcolor": "white",
            "linecolor": "white",
            "ticks": ""
           },
           "bgcolor": "#E5ECF6",
           "caxis": {
            "gridcolor": "white",
            "linecolor": "white",
            "ticks": ""
           }
          },
          "title": {
           "x": 0.05
          },
          "xaxis": {
           "automargin": true,
           "gridcolor": "white",
           "linecolor": "white",
           "ticks": "",
           "title": {
            "standoff": 15
           },
           "zerolinecolor": "white",
           "zerolinewidth": 2
          },
          "yaxis": {
           "automargin": true,
           "gridcolor": "white",
           "linecolor": "white",
           "ticks": "",
           "title": {
            "standoff": 15
           },
           "zerolinecolor": "white",
           "zerolinewidth": 2
          }
         }
        },
        "title": {
         "text": "Shuttlecock Trajectory Estimation"
        }
       }
      }
     },
     "metadata": {},
     "output_type": "display_data"
    },
    {
     "data": {
      "text/plain": [
       "'interactive_models/robot_pred_limited_reg.html'"
      ]
     },
     "execution_count": 425,
     "metadata": {},
     "output_type": "execute_result"
    }
   ],
   "source": [
    "import plotly.graph_objects as go\n",
    "# Define court dimensions\n",
    "court_length_x = 13.4\n",
    "court_length_y = 5.18\n",
    "court_height_skybox = 10\n",
    "court_height_net = 1.55\n",
    "court_length_centerline = 4.68\n",
    "\n",
    "def is_point_within_court(x, y, z, court_length_x, court_length_y, court_height_skybox):\n",
    "    \"\"\"\n",
    "    Check if a point is within the court boundaries.\n",
    "    \n",
    "    Args:\n",
    "        x (float): X-coordinate of the point\n",
    "        y (float): Y-coordinate of the point\n",
    "        z (float): Z-coordinate of the point\n",
    "        court_length_x (float): Length of the court along the X-axis\n",
    "        court_length_y (float): Length of the court along the Y-axis\n",
    "        court_height_skybox (float): Height of the court's skybox\n",
    "    \n",
    "    Returns:\n",
    "        bool: True if the point is within the court boundaries, False otherwise\n",
    "    \"\"\"\n",
    "    return 0 <= x <= court_length_x and 0 <= y <= court_length_y and 0 <= z <= court_height_skybox\n",
    "\n",
    "\n",
    "# Create the 3D scatter plot\n",
    "fig = go.Figure(data=[\n",
    "    go.Scatter3d(\n",
    "        x=y_actual_coords['SHUTTLECOCK POSITIION IN AIR(X) metres'],\n",
    "        y=y_actual_coords['SHUTTLECOCK POSITIION IN AIR(Y) metres'],\n",
    "        z=y_actual_coords['SHUTTLECOCK POSITIION IN AIR(Z) metres'],\n",
    "        mode='markers',\n",
    "        name='True Values',\n",
    "        marker=dict(color='blue', size=2),\n",
    "        opacity=0.7\n",
    "    ),\n",
    "    go.Scatter3d(\n",
    "        x=predicted_trajectory_points_RT[:, 0],\n",
    "        y=predicted_trajectory_points_RT[:, 1],\n",
    "        z=predicted_trajectory_points_RT[:, 2],\n",
    "        mode='markers',\n",
    "        name='Predicted Values (Random Forest)',\n",
    "        marker=dict(color='red', size=2),\n",
    "        opacity=0.7\n",
    "    ),\n",
    "    go.Scatter3d(\n",
    "        x=predicted_trajectory_points_ET[:, 0],\n",
    "        y=predicted_trajectory_points_ET[:, 1],\n",
    "        z=predicted_trajectory_points_ET[:, 2],\n",
    "        mode='markers',\n",
    "        name='Predicted Values (Extra Trees)',\n",
    "        marker=dict(color='green', size=2),\n",
    "        opacity=0.7\n",
    "    ),\n",
    "])\n",
    "\n",
    "# Set plot title and axis labels\n",
    "fig.update_layout(\n",
    "    title='Shuttlecock Trajectory Estimation',\n",
    "    scene=dict(\n",
    "        xaxis_title='X-coordinate',\n",
    "        yaxis_title='Y-coordinate',\n",
    "        zaxis_title='Z-coordinate',\n",
    "        xaxis=dict(range=[-4, 18]),  # Set the range for X-axis\n",
    "        yaxis=dict(range=[-2, 7]),   # Set the range for Y-axis\n",
    "        zaxis=dict(range=[0, 12]),  # Set the range for Z-axis\n",
    "        aspectmode='manual',         # Set the aspect mode to manual for custom scaling\n",
    "        aspectratio=dict(x=1, y=1, z=1)  # Set the aspect ratio for equal scaling of axes\n",
    "    )\n",
    ")\n",
    "\n",
    "# Add court lines to the plot\n",
    "fig.add_trace(go.Scatter3d(\n",
    "    x=[0, court_length_x, court_length_x, 0, 0],\n",
    "    y=[0, 0, court_length_y, court_length_y, 0],\n",
    "    z=[0, 0, 0, 0, 0],\n",
    "    mode='lines',\n",
    "    name='Court Boundaries',\n",
    "    line=dict(color='black', width=1)\n",
    "))\n",
    "\n",
    "fig.add_trace(go.Scatter3d(\n",
    "    x=[0, court_length_centerline, court_length_centerline, 0, 0],\n",
    "    y=[court_length_y / 2, court_length_y / 2, court_length_y / 2, court_length_y / 2, court_length_y / 2],\n",
    "    z=[0, 0, 0, 0, 0],\n",
    "    mode='lines',\n",
    "    name='Center Line',\n",
    "    line=dict(color='black', width=1)\n",
    "))\n",
    "\n",
    "fig.add_trace(go.Scatter3d(\n",
    "    x=[court_length_x - court_length_centerline, court_length_x],\n",
    "    y=[court_length_y / 2, court_length_y / 2],\n",
    "    z=[0, 0, 0, 0, 0],\n",
    "    mode='lines',\n",
    "    name='Center Line',\n",
    "    line=dict(color='black', width=1)\n",
    "))\n",
    "\n",
    "fig.add_trace(go.Scatter3d(\n",
    "    x=[court_length_centerline + 0.04, court_length_centerline + 0.04],\n",
    "    y=[0, court_length_y],\n",
    "    z=[0, 0],\n",
    "    mode='lines',\n",
    "    name='Short Service Lines',\n",
    "    line=dict(color='black', width=1)\n",
    "))\n",
    "\n",
    "fig.add_trace(go.Scatter3d(\n",
    "    x=[court_length_x - court_length_centerline - 0.04, court_length_x - court_length_centerline - 0.04],\n",
    "    y=[0, court_length_y],\n",
    "    z=[0, 0],\n",
    "    mode='lines',\n",
    "    name='Short Service Lines',\n",
    "    line=dict(color='black', width=1)\n",
    "))\n",
    "\n",
    "fig.add_trace(go.Scatter3d(\n",
    "    x=[court_length_x / 2, court_length_x / 2],\n",
    "    y=[0, court_length_y],\n",
    "    z=[court_height_net, court_height_net],\n",
    "    mode='lines',\n",
    "    name='Net',\n",
    "    line=dict(color='red', width=1)\n",
    "))\n",
    "\n",
    "# Initialize variables\n",
    "all_within_court_RT = True\n",
    "all_within_court_ET = True\n",
    "highest_xyz_points_RT = []\n",
    "highest_xyz_points_ET = []\n",
    "highest_z_index_RT = np.argmax(predicted_trajectory_points_RT[:, 2])\n",
    "highest_z_index_ET = np.argmax(predicted_trajectory_points_ET[:, 2])\n",
    "\n",
    "# Check if all predicted values for the RT group are within the court\n",
    "for point in predicted_trajectory_points_RT:\n",
    "    x, y, z = point\n",
    "    if not is_point_within_court(x, y, z, court_length_x, court_length_y, court_height_skybox):\n",
    "        all_within_court_RT = False\n",
    "        break\n",
    "\n",
    "# Check if all predicted values for the ET group are within the court\n",
    "for point in predicted_trajectory_points_ET:\n",
    "    x, y, z = point\n",
    "    if not is_point_within_court(x, y, z, court_length_x, court_length_y, court_height_skybox):\n",
    "        all_within_court_ET = False\n",
    "        break\n",
    "\n",
    "color = \"red\"\n",
    "predict = True\n",
    "placeholder=\"Initial Starting Point (Miss)\"\n",
    "            \n",
    "if not (all_within_court_RT and all_within_court_ET):\n",
    "    color = \"black\"\n",
    "    predict = False\n",
    "    placeholder=\"Initial Starting Point (OUT)\"\n",
    "        \n",
    "highest_xyz_points_RT = predicted_trajectory_points_RT[-1]\n",
    "highest_xyz_point_RT = predicted_trajectory_points_RT[highest_z_index_RT]\n",
    "highest_xyz_points_ET = predicted_trajectory_points_ET[-1]\n",
    "highest_xyz_point_ET = predicted_trajectory_points_ET[highest_z_index_ET]\n",
    "    \n",
    "# Average out the predicted XYZ points\n",
    "average_xyz = np.mean([highest_xyz_points_RT, highest_xyz_points_ET], axis=0)\n",
    "# Average out the highest XYZ points\n",
    "average_highest_xyz = np.mean([highest_xyz_point_RT, highest_xyz_point_ET], axis=0)\n",
    "\n",
    "# Print the count\n",
    "print(\"Is predicted Regression Tree (RT) within court: \", all_within_court_RT)\n",
    "print(\"Is predicted Extra Tree (ET) within court: \", all_within_court_ET)\n",
    "# Print the average XYZ values\n",
    "print(\"Average XYZ of Estimated Shuttlecock Position:\", average_xyz)\n",
    "\n",
    "# Add the average predicted X, Y, and Z points to the graph\n",
    "fig.add_trace(go.Scatter3d(\n",
    "    x=[average_xyz[0]],\n",
    "    y=[average_xyz[1]],\n",
    "    z=[average_xyz[2]],\n",
    "    mode='lines+markers',\n",
    "    name='Predicted Position',\n",
    "    line=dict(color=\"green\", width=5),\n",
    "    marker=dict(symbol=\"cross\", size=10, color=\"cyan\", line=dict(color=\"black\", width=4)),\n",
    "    opacity=1\n",
    "))\n",
    "\n",
    "# Add the average highest X, Y, and Z points to the graph\n",
    "fig.add_trace(go.Scatter3d(\n",
    "    x=[average_highest_xyz[0]],\n",
    "    y=[average_highest_xyz[1]],\n",
    "    z=[average_highest_xyz[2]],\n",
    "    mode='lines+markers',\n",
    "    name='Average Highest XYZ-point',\n",
    "    line=dict(color=\"green\", width=5),\n",
    "    marker=dict(symbol=\"diamond\", size=6, color=\"cyan\", line=dict(color=\"black\", width=4)),\n",
    "    opacity=1\n",
    "))\n",
    "\n",
    "# Calculate the height of the badminton racket from the ground\n",
    "badminton_height = (120 / 100) - (0.17/2)  # -> 0.17/2 assuming we want to hit it somewhere in the middle of the top quarter\n",
    "\n",
    "# Calculate the length and width of the robot\n",
    "robot_length = 20.4 / 100  # Convert length from cm to meters\n",
    "robot_width = 23 / 100  # Convert width from cm to meters\n",
    "\n",
    "# Define the range for the initial starting position\n",
    "x_range = [0, 4.72]\n",
    "y_range = [0, 5.18]\n",
    "\n",
    "# Define number of random positions to test\n",
    "no_of_random_pos = 3\n",
    "\n",
    "for i in range(no_of_random_pos):\n",
    "    # Generate random initial starting position within the specified range\n",
    "    random_initial_x = random.uniform(x_range[0], x_range[1])\n",
    "    random_initial_y = random.uniform(y_range[0], y_range[1])\n",
    "\n",
    "    # Calculate the position where the dummy robot should move to\n",
    "    robot_x = court_length_x - average_xyz[0] - robot_length - random_initial_x\n",
    "    robot_y = court_length_y - average_xyz[1] - robot_width - random_initial_y\n",
    "\n",
    "    # Calculate the distance traveled by the robot\n",
    "    robot_distance = np.sqrt(robot_x ** 2 + robot_y ** 2)\n",
    "    # Calculate the time required for the robot to move to the position\n",
    "    robot_movement_time = robot_distance / 3\n",
    "    if (all_within_court_RT and all_within_court_ET):\n",
    "        print(\"Distance: {:.2f} meters in {:.2f} seconds\".format(robot_distance, robot_movement_time))\n",
    "\n",
    "    # Calculate the adjusted z-coordinate for hitting the shuttlecock\n",
    "    robot_z = average_highest_xyz[2] - badminton_height\n",
    "\n",
    "    # Check if the average highest XYZ-point is within the court and the robot can reach the position before the ball drops\n",
    "    if (\n",
    "        average_xyz[0] >= 0\n",
    "        and average_xyz[0] <= court_length_x\n",
    "        and average_xyz[1] >= 0\n",
    "        and average_xyz[1] <= court_length_y\n",
    "        and average_highest_xyz[2] >= 0\n",
    "        and average_highest_xyz[2] <= court_height_skybox\n",
    "        and robot_movement_time <= 1.5\n",
    "        and robot_z >= 0\n",
    "    ):\n",
    "        # Add the initial starting point of the dummy robot to the graph\n",
    "        fig.add_trace(\n",
    "            go.Scatter3d(\n",
    "                x=[court_length_x - random_initial_x],\n",
    "                y=[court_length_y - random_initial_y],\n",
    "                z=[badminton_height],\n",
    "                mode=\"markers\",\n",
    "                name=\"Initial Starting Point (Hit)\",\n",
    "                marker=dict(color=\"blue\", size=10),\n",
    "                opacity=1,\n",
    "            )\n",
    "        )\n",
    "\n",
    "        # Calculate the (x, y) difference\n",
    "        x_difference = robot_x\n",
    "        y_difference = robot_y\n",
    "        \n",
    "        if (all_within_court_RT and all_within_court_ET):\n",
    "            print(f\"X difference: {x_difference}\")\n",
    "            print(f\"Y difference: {y_difference}\")\n",
    "            print(f\"Time required: {robot_movement_time} seconds\")\n",
    "            print(\"Able to reach and hit on time\")\n",
    "    else:\n",
    "        # Add the initial starting point of the dummy robot to the graph\n",
    "        fig.add_trace(\n",
    "            go.Scatter3d(\n",
    "                x=[court_length_x - random_initial_x],\n",
    "                y=[court_length_y - random_initial_y],\n",
    "                z=[badminton_height],\n",
    "                mode=\"markers\",\n",
    "                name=placeholder,\n",
    "                marker=dict(color=color, size=10),\n",
    "                opacity=0.3,\n",
    "            )\n",
    "        )\n",
    "        \n",
    "        if (all_within_court_RT and all_within_court_ET):\n",
    "            if robot_movement_time > 1.5:\n",
    "                print(f\"X difference: {x_difference}\")\n",
    "                print(f\"Y difference: {y_difference}\")\n",
    "                print(f\"Time required: {robot_movement_time} seconds\")\n",
    "                print(\"Cannot reach on time\")\n",
    "            else:\n",
    "                print(\"Cannot hit\")\n",
    "\n",
    "if (all_within_court_RT and all_within_court_ET):\n",
    "    # Add the point where the dummy robot can hit the ball to the graph\n",
    "    fig.add_trace(\n",
    "        go.Scatter3d(\n",
    "            x=[court_length_x - random_initial_x - robot_x],\n",
    "            y=[court_length_y - random_initial_y - robot_y],\n",
    "            z=[badminton_height],\n",
    "            mode=\"markers\",\n",
    "            name=\"Point to Hit the Ball\",\n",
    "            marker=dict(color=\"green\", size=10),\n",
    "            opacity=1,\n",
    "        )\n",
    ")\n",
    "\n",
    "# Show the 3D plot\n",
    "fig.show()\n",
    "\n",
    "# Save the plot as an HTML file\n",
    "offline.plot(fig, filename='interactive_models/robot_pred_limited_reg.html')"
   ]
  },
  {
   "attachments": {},
   "cell_type": "markdown",
   "metadata": {},
   "source": [
    "## Determine Point for Countermeasures\n",
    "Based on the project specificiations where \n",
    "- robot + badminton height=120cm\n",
    "- racket length is 68cm\n",
    "- robot lenght is 52cm\n",
    "- assuming top quarter of racket is top 17cm\n",
    "We assume that robot countermeasure will happen at Z = 1.2 - (0.17/2) = 1.115 because we want to hit it somewhere in the middle of the top quarter"
   ]
  },
  {
   "cell_type": "code",
   "execution_count": 426,
   "metadata": {},
   "outputs": [],
   "source": [
    "# # filter out records that are under X = 6.7\n",
    "# filtered_df = predicted_trajectory_points_RF_DF[predicted_trajectory_points_RF_DF['X'] > 6.7]\n",
    "\n",
    "# # Determine absolute difference between Z and 1.115 for the filtered dataframe\n",
    "# filtered_df['Z_diff'] = abs(filtered_df['Z'] - 1.115)\n",
    "\n",
    "# # Find the row index with the minimum difference\n",
    "# closest_row_index = filtered_df['Z_diff'].idxmin()\n",
    "\n",
    "# # Access the row with the closest Z value in the filtered dataframe\n",
    "# closest_row = filtered_df.loc[closest_row_index]\n",
    "\n",
    "# # Print the row or perform further operations\n",
    "# print(\"Data Point closest to countermeasure\")\n",
    "# print(closest_row)"
   ]
  },
  {
   "cell_type": "code",
   "execution_count": null,
   "metadata": {},
   "outputs": [],
   "source": []
  }
 ],
 "metadata": {
  "kernelspec": {
   "display_name": "Python 3 (ipykernel)",
   "language": "python",
   "name": "python3"
  },
  "language_info": {
   "codemirror_mode": {
    "name": "ipython",
    "version": 3
   },
   "file_extension": ".py",
   "mimetype": "text/x-python",
   "name": "python",
   "nbconvert_exporter": "python",
   "pygments_lexer": "ipython3",
   "version": "3.9.0"
  }
 },
 "nbformat": 4,
 "nbformat_minor": 2
}
