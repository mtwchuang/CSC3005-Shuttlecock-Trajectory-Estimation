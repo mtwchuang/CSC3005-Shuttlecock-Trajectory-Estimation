{
 "cells": [
  {
   "attachments": {},
   "cell_type": "markdown",
   "metadata": {},
   "source": [
    "# Regression Limited Input Approach\n",
    "This approach assumes that input for both training and testing is just limited to its coordinates (X,Y,Z) and that testing is just using the first trajectory coordinate of an observation group. Based on these coordinates, we will group them up based on their observation groups and generate significant features such as human positions, initial velocity, initial slant angle and initial firing angle using mathematical formulas which will be used to train models for predictions. \n",
    "\n",
    "\n",
    "Random Forest Regressor is used to predict the data points of the trajectory, Decision Tree Classifier is used to determine number of observations an observation groups has. "
   ]
  },
  {
   "attachments": {},
   "cell_type": "markdown",
   "metadata": {},
   "source": [
    "## Importing Libraries and Dependencies"
   ]
  },
  {
   "cell_type": "code",
   "execution_count": 161,
   "metadata": {},
   "outputs": [
    {
     "name": "stdout",
     "output_type": "stream",
     "text": [
      "Requirement already satisfied: pandas in c:\\users\\matthew chuang\\documents\\github\\csc3005-shuttlecock-trajectory-estimation\\dependencies\\lib\\site-packages (2.0.3)\n",
      "Requirement already satisfied: python-dateutil>=2.8.2 in c:\\users\\matthew chuang\\documents\\github\\csc3005-shuttlecock-trajectory-estimation\\dependencies\\lib\\site-packages (from pandas) (2.8.2)\n",
      "Requirement already satisfied: pytz>=2020.1 in c:\\users\\matthew chuang\\documents\\github\\csc3005-shuttlecock-trajectory-estimation\\dependencies\\lib\\site-packages (from pandas) (2023.3)\n",
      "Requirement already satisfied: tzdata>=2022.1 in c:\\users\\matthew chuang\\documents\\github\\csc3005-shuttlecock-trajectory-estimation\\dependencies\\lib\\site-packages (from pandas) (2023.3)\n",
      "Requirement already satisfied: numpy>=1.20.3 in c:\\users\\matthew chuang\\documents\\github\\csc3005-shuttlecock-trajectory-estimation\\dependencies\\lib\\site-packages (from pandas) (1.25.0)\n",
      "Requirement already satisfied: six>=1.5 in c:\\users\\matthew chuang\\documents\\github\\csc3005-shuttlecock-trajectory-estimation\\dependencies\\lib\\site-packages (from python-dateutil>=2.8.2->pandas) (1.16.0)\n",
      "Note: you may need to restart the kernel to use updated packages.\n",
      "Requirement already satisfied: matplotlib in c:\\users\\matthew chuang\\documents\\github\\csc3005-shuttlecock-trajectory-estimation\\dependencies\\lib\\site-packages (3.7.1)\n",
      "Requirement already satisfied: contourpy>=1.0.1 in c:\\users\\matthew chuang\\documents\\github\\csc3005-shuttlecock-trajectory-estimation\\dependencies\\lib\\site-packages (from matplotlib) (1.1.0)\n",
      "Requirement already satisfied: cycler>=0.10 in c:\\users\\matthew chuang\\documents\\github\\csc3005-shuttlecock-trajectory-estimation\\dependencies\\lib\\site-packages (from matplotlib) (0.11.0)\n",
      "Requirement already satisfied: fonttools>=4.22.0 in c:\\users\\matthew chuang\\documents\\github\\csc3005-shuttlecock-trajectory-estimation\\dependencies\\lib\\site-packages (from matplotlib) (4.40.0)\n",
      "Requirement already satisfied: kiwisolver>=1.0.1 in c:\\users\\matthew chuang\\documents\\github\\csc3005-shuttlecock-trajectory-estimation\\dependencies\\lib\\site-packages (from matplotlib) (1.4.4)\n",
      "Requirement already satisfied: numpy>=1.20 in c:\\users\\matthew chuang\\documents\\github\\csc3005-shuttlecock-trajectory-estimation\\dependencies\\lib\\site-packages (from matplotlib) (1.25.0)\n",
      "Requirement already satisfied: packaging>=20.0 in c:\\users\\matthew chuang\\documents\\github\\csc3005-shuttlecock-trajectory-estimation\\dependencies\\lib\\site-packages (from matplotlib) (23.1)\n",
      "Requirement already satisfied: pillow>=6.2.0 in c:\\users\\matthew chuang\\documents\\github\\csc3005-shuttlecock-trajectory-estimation\\dependencies\\lib\\site-packages (from matplotlib) (10.0.0)\n",
      "Requirement already satisfied: pyparsing>=2.3.1 in c:\\users\\matthew chuang\\documents\\github\\csc3005-shuttlecock-trajectory-estimation\\dependencies\\lib\\site-packages (from matplotlib) (3.1.0)\n",
      "Requirement already satisfied: python-dateutil>=2.7 in c:\\users\\matthew chuang\\documents\\github\\csc3005-shuttlecock-trajectory-estimation\\dependencies\\lib\\site-packages (from matplotlib) (2.8.2)\n",
      "Requirement already satisfied: importlib-resources>=3.2.0 in c:\\users\\matthew chuang\\documents\\github\\csc3005-shuttlecock-trajectory-estimation\\dependencies\\lib\\site-packages (from matplotlib) (5.12.0)\n",
      "Requirement already satisfied: zipp>=3.1.0 in c:\\users\\matthew chuang\\documents\\github\\csc3005-shuttlecock-trajectory-estimation\\dependencies\\lib\\site-packages (from importlib-resources>=3.2.0->matplotlib) (3.15.0)\n",
      "Requirement already satisfied: six>=1.5 in c:\\users\\matthew chuang\\documents\\github\\csc3005-shuttlecock-trajectory-estimation\\dependencies\\lib\\site-packages (from python-dateutil>=2.7->matplotlib) (1.16.0)\n",
      "Note: you may need to restart the kernel to use updated packages.\n",
      "Requirement already satisfied: plotly in c:\\users\\matthew chuang\\documents\\github\\csc3005-shuttlecock-trajectory-estimation\\dependencies\\lib\\site-packages (5.15.0)\n",
      "Requirement already satisfied: tenacity>=6.2.0 in c:\\users\\matthew chuang\\documents\\github\\csc3005-shuttlecock-trajectory-estimation\\dependencies\\lib\\site-packages (from plotly) (8.2.2)\n",
      "Requirement already satisfied: packaging in c:\\users\\matthew chuang\\documents\\github\\csc3005-shuttlecock-trajectory-estimation\\dependencies\\lib\\site-packages (from plotly) (23.1)\n",
      "Note: you may need to restart the kernel to use updated packages.\n",
      "Requirement already satisfied: scikit-learn in c:\\users\\matthew chuang\\documents\\github\\csc3005-shuttlecock-trajectory-estimation\\dependencies\\lib\\site-packages (1.3.0)\n",
      "Requirement already satisfied: numpy>=1.17.3 in c:\\users\\matthew chuang\\documents\\github\\csc3005-shuttlecock-trajectory-estimation\\dependencies\\lib\\site-packages (from scikit-learn) (1.25.0)\n",
      "Requirement already satisfied: scipy>=1.5.0 in c:\\users\\matthew chuang\\documents\\github\\csc3005-shuttlecock-trajectory-estimation\\dependencies\\lib\\site-packages (from scikit-learn) (1.11.1)\n",
      "Requirement already satisfied: joblib>=1.1.1 in c:\\users\\matthew chuang\\documents\\github\\csc3005-shuttlecock-trajectory-estimation\\dependencies\\lib\\site-packages (from scikit-learn) (1.3.1)\n",
      "Requirement already satisfied: threadpoolctl>=2.0.0 in c:\\users\\matthew chuang\\documents\\github\\csc3005-shuttlecock-trajectory-estimation\\dependencies\\lib\\site-packages (from scikit-learn) (3.1.0)\n",
      "Note: you may need to restart the kernel to use updated packages.\n",
      "Requirement already satisfied: numpy in c:\\users\\matthew chuang\\documents\\github\\csc3005-shuttlecock-trajectory-estimation\\dependencies\\lib\\site-packages (1.25.0)\n",
      "Note: you may need to restart the kernel to use updated packages.\n",
      "Requirement already satisfied: nbformat in c:\\users\\matthew chuang\\documents\\github\\csc3005-shuttlecock-trajectory-estimation\\dependencies\\lib\\site-packages (5.9.0)\n",
      "Requirement already satisfied: fastjsonschema in c:\\users\\matthew chuang\\documents\\github\\csc3005-shuttlecock-trajectory-estimation\\dependencies\\lib\\site-packages (from nbformat) (2.17.1)\n",
      "Requirement already satisfied: jsonschema>=2.6 in c:\\users\\matthew chuang\\documents\\github\\csc3005-shuttlecock-trajectory-estimation\\dependencies\\lib\\site-packages (from nbformat) (4.17.3)\n",
      "Requirement already satisfied: jupyter-core in c:\\users\\matthew chuang\\documents\\github\\csc3005-shuttlecock-trajectory-estimation\\dependencies\\lib\\site-packages (from nbformat) (5.3.1)\n",
      "Requirement already satisfied: traitlets>=5.1 in c:\\users\\matthew chuang\\documents\\github\\csc3005-shuttlecock-trajectory-estimation\\dependencies\\lib\\site-packages (from nbformat) (5.9.0)\n",
      "Requirement already satisfied: attrs>=17.4.0 in c:\\users\\matthew chuang\\documents\\github\\csc3005-shuttlecock-trajectory-estimation\\dependencies\\lib\\site-packages (from jsonschema>=2.6->nbformat) (23.1.0)\n",
      "Requirement already satisfied: pyrsistent!=0.17.0,!=0.17.1,!=0.17.2,>=0.14.0 in c:\\users\\matthew chuang\\documents\\github\\csc3005-shuttlecock-trajectory-estimation\\dependencies\\lib\\site-packages (from jsonschema>=2.6->nbformat) (0.19.3)\n",
      "Requirement already satisfied: platformdirs>=2.5 in c:\\users\\matthew chuang\\documents\\github\\csc3005-shuttlecock-trajectory-estimation\\dependencies\\lib\\site-packages (from jupyter-core->nbformat) (3.8.0)\n",
      "Requirement already satisfied: pywin32>=300 in c:\\users\\matthew chuang\\documents\\github\\csc3005-shuttlecock-trajectory-estimation\\dependencies\\lib\\site-packages (from jupyter-core->nbformat) (306)\n",
      "Note: you may need to restart the kernel to use updated packages.\n"
     ]
    }
   ],
   "source": [
    "%pip install pandas\n",
    "%pip install matplotlib\n",
    "%pip install plotly\n",
    "%pip install scikit-learn\n",
    "%pip install numpy\n",
    "%pip install nbformat"
   ]
  },
  {
   "cell_type": "code",
   "execution_count": 162,
   "metadata": {},
   "outputs": [],
   "source": [
    "# preprocessing and feature generation\n",
    "import pandas as pd\n",
    "import numpy as np\n",
    "import math\n",
    "import random\n",
    "\n",
    "# feature significance\n",
    "from sklearn.decomposition import PCA\n",
    "from sklearn.preprocessing import StandardScaler\n",
    "\n",
    "# data mining and model evaluation\n",
    "from sklearn.model_selection import train_test_split\n",
    "from sklearn.metrics import accuracy_score, mean_squared_error\n",
    "from sklearn.model_selection import learning_curve\n",
    "\n",
    "# visualization\n",
    "import matplotlib.pyplot as plt\n",
    "import plotly.graph_objects as go\n",
    "from plotly.offline import plot"
   ]
  },
  {
   "attachments": {},
   "cell_type": "markdown",
   "metadata": {},
   "source": [
    "## Stage: Preprocessing\n",
    "Mockup data with just X, Y, Z values by removing the rest of the value."
   ]
  },
  {
   "cell_type": "code",
   "execution_count": 163,
   "metadata": {},
   "outputs": [],
   "source": [
    "# # read csv data from badmintondata.csv\n",
    "# limited_serving_data = pd.read_csv('badmintondata.csv')\n",
    "\n",
    "# # just rename x metrics to avoid unnecessary errors\n",
    "# limited_serving_data = limited_serving_data.rename(columns={'SHUTTLECOCK POSITIION IN AIR(X ) metres': 'SHUTTLECOCK POSITIION IN AIR(X) metres'})\n",
    "\n",
    "# # limiting service data to just x, y, z coordinates\n",
    "# limited_serving_data = limited_serving_data[['SHUTTLECOCK POSITIION IN AIR(X) metres', \n",
    "#                                             'SHUTTLECOCK POSITIION IN AIR(Y) metres', \n",
    "#                                             'SHUTTLECOCK POSITIION IN AIR(Z) metres']]\n",
    "# limited_serving_data"
   ]
  },
  {
   "cell_type": "code",
   "execution_count": 164,
   "metadata": {},
   "outputs": [],
   "source": [
    "# # read csv data from badmintondata.csv\n",
    "# limited_rallying_data = pd.read_csv('badmintondata2.csv')\n",
    "\n",
    "# # just rename x metrics to avoid unnecessary errors\n",
    "# limited_rallying_data = limited_rallying_data.rename(columns={'SHUTTLECOCK POSITIION IN AIR(X ) metres': 'SHUTTLECOCK POSITIION IN AIR(X) metres'})\n",
    "\n",
    "# # limiting service data to just x, y, z coordinates\n",
    "# limited_rallying_data = limited_rallying_data[['SHUTTLECOCK POSITIION IN AIR(X) metres', \n",
    "#                                             'SHUTTLECOCK POSITIION IN AIR(Y) metres', \n",
    "#                                             'SHUTTLECOCK POSITIION IN AIR(Z) metres']]\n",
    "# limited_rallying_data"
   ]
  },
  {
   "attachments": {},
   "cell_type": "markdown",
   "metadata": {},
   "source": [
    "Assigning data to observation groups and labelling their sequences with observation numbers"
   ]
  },
  {
   "cell_type": "code",
   "execution_count": 165,
   "metadata": {},
   "outputs": [],
   "source": [
    "# # Initialize variables\n",
    "# observation_group_num = 0\n",
    "# observation_num = 0\n",
    "# is_group = False\n",
    "\n",
    "# # assign observation groups and their respective observation numbers to each row\n",
    "# for index, row in limited_serving_data.iterrows():\n",
    "#     if row['SHUTTLECOCK POSITIION IN AIR(X) metres'] == 0:\n",
    "#         if is_group:\n",
    "#             is_group = False\n",
    "#         limited_serving_data.drop(index, inplace=True)\n",
    "#     # if row is not empty\n",
    "#     else:\n",
    "#         # if inside an observation group just increment observation number\n",
    "#         if is_group:\n",
    "#             observation_num+=1\n",
    "#         # if just entering a new observation group\n",
    "#         else:\n",
    "#             is_group = True\n",
    "#             # increase observation group number by 1\n",
    "#             observation_group_num+=1\n",
    "#             # resets observation sequence number to 1\n",
    "#             observation_num = 1\n",
    "#         # assign observation group and observation number\n",
    "#         limited_serving_data.at[index, 'OBSERVATION NUMBER'] = observation_num\n",
    "#         limited_serving_data.at[index, 'OBSERVATION GROUP NUMBER'] = observation_group_num\n",
    "\n",
    "# # Set 'OBSERVATION GROUP NUMBER' as INT\n",
    "# limited_serving_data['OBSERVATION GROUP NUMBER'] = limited_serving_data['OBSERVATION GROUP NUMBER'].astype(int)\n",
    "# limited_serving_data.to_csv('regression_data/limited_serving_data_stage1.csv')"
   ]
  },
  {
   "cell_type": "code",
   "execution_count": 166,
   "metadata": {},
   "outputs": [],
   "source": [
    "# # Initialize variables\n",
    "# observation_group_num = 364 # last observation group number index from dataset 1\n",
    "# observation_num = 0\n",
    "# is_group = False\n",
    "\n",
    "# # assign observation groups and their respective observation numbers to each row\n",
    "# for index, row in limited_rallying_data.iterrows():\n",
    "#     if row['SHUTTLECOCK POSITIION IN AIR(X) metres'] == 0:\n",
    "#         if is_group:\n",
    "#             is_group = False\n",
    "#         limited_rallying_data.drop(index, inplace=True)\n",
    "#     # if row is not empty\n",
    "#     else:\n",
    "#         # if inside an observation group just increment observation number\n",
    "#         if is_group:\n",
    "#             observation_num+=1\n",
    "#         # if just entering a new observation group\n",
    "#         else:\n",
    "#             is_group = True\n",
    "#             # increase observation group number by 1\n",
    "#             observation_group_num+=1\n",
    "#             # resets observation sequence number to 1\n",
    "#             observation_num = 1\n",
    "#         # assign observation group and observation number\n",
    "#         limited_rallying_data.at[index, 'OBSERVATION NUMBER'] = observation_num\n",
    "#         limited_rallying_data.at[index, 'OBSERVATION GROUP NUMBER'] = observation_group_num\n",
    "\n",
    "# # Set 'OBSERVATION GROUP NUMBER' as INT\n",
    "# limited_rallying_data['OBSERVATION GROUP NUMBER'] = limited_rallying_data['OBSERVATION GROUP NUMBER'].astype(int)\n",
    "# limited_rallying_data.to_csv('regression_data/limited_rallying_data_stage1.csv')"
   ]
  },
  {
   "attachments": {},
   "cell_type": "markdown",
   "metadata": {},
   "source": [
    "Determining the initial starting position of each shuttlecock by either rounding it down, or rounding it to nearest necessary value "
   ]
  },
  {
   "cell_type": "code",
   "execution_count": 167,
   "metadata": {},
   "outputs": [],
   "source": [
    "# load in last milestone to save time \n",
    "limited_serving_data = pd.read_csv('regression_data/limited_serving_data_stage1.csv')\n",
    "limited_serving_data = limited_serving_data.drop(columns=('Unnamed: 0'))\n",
    "limited_rallying_data = pd.read_csv('regression_data/limited_rallying_data_stage1.csv')\n",
    "limited_rallying_data = limited_rallying_data.drop(columns=('Unnamed: 0'))\n",
    "\n",
    "# Add Initial Points of Human Position based on the rounded down version of the first point\n",
    "# Reset the index before applying groupby\n",
    "def calculate_human_position(group):\n",
    "    rounded_value_x = math.floor(group.iloc[0]['SHUTTLECOCK POSITIION IN AIR(X) metres'])\n",
    "    rounded_value_y = round(group.iloc[0]['SHUTTLECOCK POSITIION IN AIR(Y) metres'])\n",
    "    rounded_value_z = rounded_value = min(1.6, 2.6, key=lambda x: abs(x - group.iloc[0]['SHUTTLECOCK POSITIION IN AIR(Z) metres']))\n",
    "    group['HUMAN PLAYER POSITION (X) metres'] = rounded_value_x\n",
    "    group['HUMAN PLAYER POSITION (Y) metres'] = rounded_value_y\n",
    "    group['HUMAN PLAYER POSITION (Z) metres'] = rounded_value_z\n",
    "    return group\n",
    "\n",
    "# Apply the function to serving data in each group using groupby and apply\n",
    "limited_serving_data = limited_serving_data.groupby('OBSERVATION GROUP NUMBER').apply(calculate_human_position)\n",
    "limited_serving_data = limited_serving_data.reset_index(drop=True)\n",
    "\n",
    "# Apply the function to rallying data in each group using groupby and apply\n",
    "limited_rallying_data = limited_rallying_data.groupby('OBSERVATION GROUP NUMBER').apply(calculate_human_position)\n",
    "limited_rallying_data = limited_rallying_data.reset_index(drop=True)"
   ]
  },
  {
   "attachments": {},
   "cell_type": "markdown",
   "metadata": {},
   "source": [
    "Creating Velocity, Slant Angles and Firing Angles of each shuttlecock using mathematical equation with X,Y,Z manipulation"
   ]
  },
  {
   "cell_type": "code",
   "execution_count": 168,
   "metadata": {},
   "outputs": [],
   "source": [
    "def generate_features(group):\n",
    "    # calculate X,Y,Z distances from initial human points\n",
    "    X_displacement = group.iloc[0]['SHUTTLECOCK POSITIION IN AIR(X) metres'] - group.iloc[0]['HUMAN PLAYER POSITION (X) metres']\n",
    "    Y_displacement = group.iloc[0]['SHUTTLECOCK POSITIION IN AIR(Y) metres'] - group.iloc[0]['HUMAN PLAYER POSITION (Y) metres'] \n",
    "    Z_displacement = group.iloc[0]['SHUTTLECOCK POSITIION IN AIR(Z) metres'] - group.iloc[0]['HUMAN PLAYER POSITION (Z) metres']\n",
    "\n",
    "    # calculate initial firing angle\n",
    "    firing_angle_radians = math.atan(X_displacement / Z_displacement)\n",
    "    firing_angle_degrees = math.degrees(firing_angle_radians)\n",
    "    # round to nearest 10 for firing angle\n",
    "    group['INITIAL SHUTTELCOCK FIRING ANGLE (DEGREE)'] = round(firing_angle_degrees / 10) * 10\n",
    "\n",
    "    # calculate initial slant angle\n",
    "    slant_angle_radians = math.atan(Y_displacement / X_displacement)\n",
    "    slant_angle_degrees = math.degrees(slant_angle_radians)\n",
    "    group['INITIAL SHUTTELCOCK SLANT ANGLE TO SIDELINE(DEGREE)'] = round(slant_angle_degrees)\n",
    "\n",
    "    # Calculate the initial velocity (v₀)\n",
    "    time_elapsed = 0.1\n",
    "    displacement = math.sqrt(X_displacement**2 + Y_displacement**2 + Z_displacement**2)\n",
    "    initial_velocity = round(displacement/time_elapsed)\n",
    "    # round to nearest 10 for velocity\n",
    "    group['INITITAL VELOCITY OF SHUTTELCOCK(m/s)'] = initial_velocity\n",
    "    return group\n",
    "\n",
    "# generate features for serving data\n",
    "limited_serving_data = limited_serving_data.groupby('OBSERVATION GROUP NUMBER').apply(generate_features)\n",
    "limited_serving_data = limited_serving_data.reset_index(drop=True)\n",
    "limited_serving_data.to_csv('regression_data/limited_serving_data.csv')\n",
    "\n",
    "# generate features for rallying data\n",
    "limited_rallying_data = limited_rallying_data.groupby('OBSERVATION GROUP NUMBER').apply(generate_features)\n",
    "limited_rallying_data = limited_rallying_data.reset_index(drop=True)\n",
    "limited_rallying_data.to_csv('regression_data/limited_rallying_data.csv')"
   ]
  },
  {
   "attachments": {},
   "cell_type": "markdown",
   "metadata": {},
   "source": [
    "Combine the two datasets into a single dataset"
   ]
  },
  {
   "cell_type": "code",
   "execution_count": 169,
   "metadata": {},
   "outputs": [],
   "source": [
    "# combining the serving and rally dataframes\n",
    "limited_badminton_data = pd.concat([limited_serving_data, limited_rallying_data], ignore_index=True)\n",
    "limited_badminton_data.to_csv('regression_data/limited_badminton_data.csv')"
   ]
  },
  {
   "attachments": {},
   "cell_type": "markdown",
   "metadata": {},
   "source": [
    "label data if they are are out of bounds within the observations using data column \"OUT OF BOUNDS\". This includes\n",
    "- Data that exceeds the X axis (hit too far on both sides) X < 0 OR X > 13.4\n",
    "- Data that exceeds the Y axis (hit out of court on left or right side) Y < 0 OR Y > 5.18\n",
    "- Data that is out of bounds labelled as 1, no 0\n",
    "\n",
    "OPTIONAL, if needed"
   ]
  },
  {
   "cell_type": "code",
   "execution_count": 170,
   "metadata": {},
   "outputs": [],
   "source": [
    "# # labelling data if its out of bounds\n",
    "# unique_observation_number = limited_badminton_data['OBSERVATION GROUP NUMBER'].unique()\n",
    "# for obs_grp_number in unique_observation_number:\n",
    "#     last_row = limited_badminton_data[limited_badminton_data['OBSERVATION GROUP NUMBER'] == obs_grp_number].tail(1)\n",
    "#     # Check the conditions for 'Shuttlecock Position in Air X' and 'Shuttlecock Position in Air Y'\n",
    "#     if (last_row['SHUTTLECOCK POSITIION IN AIR(X) metres'].values[0] < 0 or\n",
    "#         last_row['SHUTTLECOCK POSITIION IN AIR(X) metres'].values[0] > 13.4 or\n",
    "#         last_row['SHUTTLECOCK POSITIION IN AIR(Y) metres'].values[0] < 0 or\n",
    "#         last_row['SHUTTLECOCK POSITIION IN AIR(Y) metres'].values[0] > 5.18):\n",
    "        \n",
    "#         # Set 'OUT OF BOUNDS' column to 1 for the corresponding observation number\n",
    "#         limited_badminton_data.loc[limited_badminton_data['OBSERVATION GROUP NUMBER'] == obs_grp_number, 'OUT OF BOUNDS'] = 1\n",
    "#     else:\n",
    "#         limited_badminton_data.loc[limited_badminton_data['OBSERVATION GROUP NUMBER'] == obs_grp_number, 'OUT OF BOUNDS']"
   ]
  },
  {
   "attachments": {},
   "cell_type": "markdown",
   "metadata": {},
   "source": [
    "## Feature Significance\n",
    "Selecting features to test significance using PCA and standardizing them. "
   ]
  },
  {
   "cell_type": "code",
   "execution_count": 171,
   "metadata": {},
   "outputs": [],
   "source": [
    "# removal of labels and dependent features\n",
    "X_limited_features = limited_badminton_data.drop(columns=['OBSERVATION GROUP NUMBER',\n",
    "                                            'SHUTTLECOCK POSITIION IN AIR(X) metres', \n",
    "                                            'SHUTTLECOCK POSITIION IN AIR(Y) metres', \n",
    "                                            'SHUTTLECOCK POSITIION IN AIR(Z) metres'])\n",
    "# Standardize the data\n",
    "scaler = StandardScaler()\n",
    "X_features_norm = scaler.fit_transform(X_limited_features)"
   ]
  },
  {
   "cell_type": "code",
   "execution_count": 172,
   "metadata": {},
   "outputs": [
    {
     "name": "stdout",
     "output_type": "stream",
     "text": [
      "Feature INITIAL SHUTTELCOCK FIRING ANGLE (DEGREE): Significance = 0.1865320813023315\n",
      "Feature HUMAN PLAYER POSITION (Z) metres: Significance = 0.17677218072800077\n",
      "Feature OBSERVATION NUMBER: Significance = 0.15130267848959464\n",
      "Feature INITIAL SHUTTELCOCK SLANT ANGLE TO SIDELINE(DEGREE): Significance = 0.1506764619077837\n",
      "Feature INITITAL VELOCITY OF SHUTTELCOCK(m/s): Significance = 0.13679930347016042\n",
      "Feature HUMAN PLAYER POSITION (Y) metres: Significance = 0.11239037013040225\n",
      "Feature HUMAN PLAYER POSITION (X) metres: Significance = 0.08552692397172691\n"
     ]
    },
    {
     "data": {
      "image/png": "[encoded data removed]",
      "text/plain": [
       "<Figure size 640x480 with 1 Axes>"
      ]
     },
     "metadata": {},
     "output_type": "display_data"
    }
   ],
   "source": [
    "# instantiate PCA object, fit model\n",
    "pca = PCA()\n",
    "pca.fit(X_features_norm)\n",
    "\n",
    "# loadings refer to the coefficients or weights that determine the contribution of each feature to the principal components\n",
    "# Get the absolute loadings for each feature in each principal component\n",
    "absolute_loadings = np.abs(pca.components_)\n",
    "# Calculate the total sum of absolute loadings for each feature across all principal components\n",
    "total_loadings = np.sum(absolute_loadings, axis=0)\n",
    "\n",
    "# Calculate the relative contribution of each feature to the total loadings\n",
    "relative_contribution = total_loadings / np.sum(total_loadings)\n",
    "\n",
    "# Sort the features based on their relative contribution\n",
    "sorted_features = np.argsort(relative_contribution)[::-1]\n",
    "feature_names = X_limited_features.columns\n",
    "# Print the significance of each feature\n",
    "for feature_idx in sorted_features:\n",
    "    print(f\"Feature {feature_names[feature_idx]}: Significance = {relative_contribution[feature_idx]}\")\n",
    "\n",
    "# Plot the significance of each feature\n",
    "plt.bar(range(len(sorted_features)), relative_contribution[sorted_features])\n",
    "plt.xlabel('Features')\n",
    "plt.ylabel('Significance')\n",
    "plt.title('Significance of Features in PCA')\n",
    "plt.xticks(range(len(sorted_features)), feature_names[sorted_features], rotation=90)\n",
    "# plt.xticks(range(len(sorted_features)), sorted_features)\n",
    "plt.show()"
   ]
  },
  {
   "attachments": {},
   "cell_type": "markdown",
   "metadata": {},
   "source": [
    "## Stage: Data Mining\n",
    "### Preparing data for Decision Tree Classifier\n",
    "To determine observation steps needed for a trajectory, only these X features are needed. No normalization is needed\n",
    "- 'HUMAN PLAYER POSITION (X) metres'\n",
    "- 'HUMAN PLAYER POSITION (Y) metres'\n",
    "- 'HUMAN PLAYER POSITION (Z) metres'\n",
    "- 'INITITAL VELOCITY OF SHUTTELCOCK(m/s)'\n",
    "- 'INITIAL SHUTTELCOCK FIRING ANGLE (DEGREE)'\n",
    "- 'INITIAL SHUTTELCOCK SLANT ANGLE TO SIDELINE(DEGREE)'"
   ]
  },
  {
   "cell_type": "code",
   "execution_count": 173,
   "metadata": {},
   "outputs": [],
   "source": [
    "# loading data\n",
    "temp_data = pd.read_csv('regression_data/limited_badminton_data.csv')\n",
    "temp_data = temp_data.drop(columns=['Unnamed: 0'])\n",
    "\n",
    "# Drop duplicates based on 'Observation Group Number', keeping only the last record\n",
    "data_DT = temp_data.copy()\n",
    "data_DT = data_DT.drop_duplicates(subset='OBSERVATION GROUP NUMBER', keep='last')\n",
    "\n",
    "# Define X and Y Features for Decision Tree\n",
    "X_features_DT = data_DT[['HUMAN PLAYER POSITION (X) metres', \n",
    "                            'HUMAN PLAYER POSITION (Y) metres',\n",
    "                            'HUMAN PLAYER POSITION (Z) metres', \n",
    "                            'INITITAL VELOCITY OF SHUTTELCOCK(m/s)', \n",
    "                            'INITIAL SHUTTELCOCK FIRING ANGLE (DEGREE)', \n",
    "                            'INITIAL SHUTTELCOCK SLANT ANGLE TO SIDELINE(DEGREE)']]\n",
    "\n",
    "Y_feature_DT = data_DT['OBSERVATION NUMBER']\n",
    "\n",
    "# Split the data into train/test, X/Y for Decision Tree Classifier\n",
    "X_train_DT, X_test_DT, Y_train_DT, Y_test_DT = train_test_split(X_features_DT, Y_feature_DT, test_size=0.2, random_state=42)"
   ]
  },
  {
   "attachments": {},
   "cell_type": "markdown",
   "metadata": {},
   "source": [
    "### Finding Optimal Decision Tree Model\n",
    "To predict total observation time based on the independent feature supplied. Predicts a set of observation take"
   ]
  },
  {
   "cell_type": "code",
   "execution_count": 174,
   "metadata": {},
   "outputs": [],
   "source": [
    "from sklearn.tree import DecisionTreeClassifier\n",
    "maxdepths = [2,3,4,5,6,7,8,9,10,15]  # 10 different depths\n",
    "\n",
    "# containers to store train/test accuracy rates\n",
    "trainAcc_DT = np.zeros(len(maxdepths))\n",
    "testAcc_DT = np.zeros(len(maxdepths))\n",
    "\n",
    "index = 0\n",
    "for depth in maxdepths:\n",
    "    # training decision tree with depth lengths\n",
    "    temp_model_DT = DecisionTreeClassifier(max_depth=depth)\n",
    "    temp_model_DT = temp_model_DT.fit(X_train_DT, Y_train_DT)\n",
    "    # generate predictions using the model trained, for the training data (X) and test data (X)\n",
    "    Y_predTrain = temp_model_DT.predict(X_train_DT)\n",
    "    Y_predTest = temp_model_DT.predict(X_test_DT)\n",
    "    # compare the predicted values and compare against original values for accuracy\n",
    "    trainAcc_DT[index] = accuracy_score(Y_train_DT, Y_predTrain)\n",
    "    testAcc_DT[index] = accuracy_score(Y_test_DT, Y_predTest)\n",
    "    index += 1"
   ]
  },
  {
   "cell_type": "code",
   "execution_count": 175,
   "metadata": {},
   "outputs": [
    {
     "data": {
      "text/plain": [
       "Text(0, 0.5, 'Accuracy')"
      ]
     },
     "execution_count": 175,
     "metadata": {},
     "output_type": "execute_result"
    },
    {
     "data": {
      "image/png": "[encoded data removed]",
      "text/plain": [
       "<Figure size 640x480 with 1 Axes>"
      ]
     },
     "metadata": {},
     "output_type": "display_data"
    }
   ],
   "source": [
    "plt.plot(maxdepths,trainAcc_DT,'ro-',maxdepths,testAcc_DT,'bv--')\n",
    "plt.legend(['Training Accuracy','Test Accuracy'])\n",
    "plt.xlabel('Max depth')\n",
    "plt.ylabel('Accuracy')"
   ]
  },
  {
   "attachments": {},
   "cell_type": "markdown",
   "metadata": {},
   "source": [
    "### Train Decision Tree Model \"Model_DecisionTree\"\n",
    "Using the optimal elbow depth found in the previous segment which is 4"
   ]
  },
  {
   "cell_type": "code",
   "execution_count": 176,
   "metadata": {},
   "outputs": [
    {
     "name": "stdout",
     "output_type": "stream",
     "text": [
      "Training Accuracy:  1.0\n",
      "Testing Accuracy:  1.0\n"
     ]
    }
   ],
   "source": [
    "model_decisionTree = DecisionTreeClassifier(max_depth=4)\n",
    "model_decisionTree = model_decisionTree.fit(X_train_DT, Y_train_DT)\n",
    "\n",
    "Y_predTrain = model_decisionTree.predict(X_train_DT)\n",
    "Y_predTest = model_decisionTree.predict(X_test_DT)\n",
    "\n",
    "trainAcc_DT = accuracy_score(Y_train_DT, Y_predTrain)\n",
    "testAcc_DT = accuracy_score(Y_test_DT, Y_predTest)\n",
    "print(\"Training Accuracy: \", trainAcc_DT)\n",
    "print(\"Testing Accuracy: \", testAcc_DT)"
   ]
  },
  {
   "attachments": {},
   "cell_type": "markdown",
   "metadata": {},
   "source": [
    "### Preparing data for Regressor Models"
   ]
  },
  {
   "attachments": {},
   "cell_type": "markdown",
   "metadata": {},
   "source": [
    "There are two approaches to data train-test splitting. \n",
    "- Data can be either split randomly by rows (Higher accuracy, lower error margin, messier model visualization)\n",
    "- Data can be split randomly based on their observations groups. (Lower accuracy, nicer and neater model visualization)\n",
    "Two segments of code are provided below. Choose train/test split approach and commment out the other code"
   ]
  },
  {
   "cell_type": "code",
   "execution_count": 177,
   "metadata": {},
   "outputs": [],
   "source": [
    "# # APPROACH FOR RANDOMLY SPLITTING BY ROWS\n",
    "# X_features_Regression = temp_data[['HUMAN PLAYER POSITION (X) metres', \n",
    "#                         'HUMAN PLAYER POSITION (Y) metres', \n",
    "#                         'HUMAN PLAYER POSITION (Z) metres',\n",
    "#                         'INITITAL VELOCITY OF SHUTTELCOCK(m/s)', \n",
    "#                         'INITIAL SHUTTELCOCK FIRING ANGLE (DEGREE)', \n",
    "#                         'INITIAL SHUTTELCOCK SLANT ANGLE TO SIDELINE(DEGREE)',\n",
    "#                         'OBSERVATION NUMBER']]\n",
    "\n",
    "# Y_features_Regression = temp_data[['SHUTTLECOCK POSITIION IN AIR(X) metres', \n",
    "#                         'SHUTTLECOCK POSITIION IN AIR(Y) metres', \n",
    "#                         'SHUTTLECOCK POSITIION IN AIR(Z) metres']]\n",
    "\n",
    "# X_train_Regression, X_test_Regression, Y_train_Regression, Y_test_Regression = train_test_split(X_features_Regression, Y_features_Regression, test_size=0.2, random_state=42)"
   ]
  },
  {
   "cell_type": "code",
   "execution_count": 178,
   "metadata": {},
   "outputs": [],
   "source": [
    "# APPROACH FOR RANDOMLY SPLITTING BY OBSERVATION GROUPS\n",
    "X_features_Regression = temp_data[['HUMAN PLAYER POSITION (X) metres', \n",
    "                        'HUMAN PLAYER POSITION (Y) metres', \n",
    "                        'HUMAN PLAYER POSITION (Z) metres',\n",
    "                        'INITITAL VELOCITY OF SHUTTELCOCK(m/s)', \n",
    "                        'INITIAL SHUTTELCOCK FIRING ANGLE (DEGREE)', \n",
    "                        'INITIAL SHUTTELCOCK SLANT ANGLE TO SIDELINE(DEGREE)',\n",
    "                        'OBSERVATION NUMBER']]\n",
    "\n",
    "Y_features_Regression = temp_data[['SHUTTLECOCK POSITIION IN AIR(X) metres', \n",
    "                        'SHUTTLECOCK POSITIION IN AIR(Y) metres', \n",
    "                        'SHUTTLECOCK POSITIION IN AIR(Z) metres']]\n",
    "\n",
    "# contains all the observation group numbers in data\n",
    "unique_observation_grps = temp_data['OBSERVATION GROUP NUMBER'].unique() # list of [1 to 1576]\n",
    "# shuffle order \n",
    "random.seed(42) # fixes the random order so results can be replicated\n",
    "random.shuffle(unique_observation_grps)\n",
    "\n",
    "# index of training sets\n",
    "training_test_split_idx = int(0.8*len(unique_observation_grps))\n",
    "# containers to store all the respective train and test observation groups idx from data\n",
    "train_idxes = unique_observation_grps[:training_test_split_idx]\n",
    "test_idxes = unique_observation_grps[training_test_split_idx:]\n",
    "\n",
    "train_data = temp_data[temp_data['OBSERVATION GROUP NUMBER'].isin(train_idxes)]\n",
    "test_data = temp_data[temp_data['OBSERVATION GROUP NUMBER'].isin(test_idxes)]\n",
    "\n",
    "# Define X and Y features\n",
    "X_train_Regression = train_data[['HUMAN PLAYER POSITION (X) metres', \n",
    "                        'HUMAN PLAYER POSITION (Y) metres', \n",
    "                        'HUMAN PLAYER POSITION (Z) metres',\n",
    "                        'INITITAL VELOCITY OF SHUTTELCOCK(m/s)', \n",
    "                        'INITIAL SHUTTELCOCK FIRING ANGLE (DEGREE)', \n",
    "                        'INITIAL SHUTTELCOCK SLANT ANGLE TO SIDELINE(DEGREE)',\n",
    "                        'OBSERVATION NUMBER']]\n",
    "\n",
    "Y_train_Regression = train_data[['SHUTTLECOCK POSITIION IN AIR(X) metres', \n",
    "                      'SHUTTLECOCK POSITIION IN AIR(Y) metres', \n",
    "                      'SHUTTLECOCK POSITIION IN AIR(Z) metres']]\n",
    "\n",
    "X_test_Regression = test_data[['HUMAN PLAYER POSITION (X) metres', \n",
    "                        'HUMAN PLAYER POSITION (Y) metres', \n",
    "                        'HUMAN PLAYER POSITION (Z) metres',\n",
    "                        'INITITAL VELOCITY OF SHUTTELCOCK(m/s)', \n",
    "                        'INITIAL SHUTTELCOCK FIRING ANGLE (DEGREE)', \n",
    "                        'INITIAL SHUTTELCOCK SLANT ANGLE TO SIDELINE(DEGREE)',\n",
    "                        'OBSERVATION NUMBER']]\n",
    "\n",
    "Y_test_Regression = test_data[['SHUTTLECOCK POSITIION IN AIR(X) metres', \n",
    "                    'SHUTTLECOCK POSITIION IN AIR(Y) metres', \n",
    "                    'SHUTTLECOCK POSITIION IN AIR(Z) metres']]"
   ]
  },
  {
   "attachments": {},
   "cell_type": "markdown",
   "metadata": {},
   "source": [
    "### Random Forest Regressor\n",
    "Random Forest is an ensemble learning algorithm that combines multiple decision trees to make predictions. It can handle both numerical and categorical data and is capable of capturing complex relationships in the data. It does not require feature standardization as they are not sensitive to the scale of the features. Random Forest algorithms work by creating decision trees based on random subsets of features, and each decision tree independently makes decisions based on these features.\n",
    "#### Dependencies for Random Forest Regressor"
   ]
  },
  {
   "cell_type": "code",
   "execution_count": 179,
   "metadata": {},
   "outputs": [],
   "source": [
    "from sklearn.ensemble import RandomForestRegressor  # for regression tasks"
   ]
  },
  {
   "attachments": {},
   "cell_type": "markdown",
   "metadata": {},
   "source": [
    "#### Optimizing Random Forest Regressor\n",
    "Building multiple models with different depths to find best model with lowest mean squared error. Best depth should be 15"
   ]
  },
  {
   "cell_type": "code",
   "execution_count": 180,
   "metadata": {},
   "outputs": [],
   "source": [
    "# # Define a list of depths to test\n",
    "# depths = [5, 10, 15, 20, 25, 30]\n",
    "# mse_score_RF = []\n",
    "\n",
    "# # Iterate over different depths and calculate MSE\n",
    "# for depth in depths:\n",
    "#     temp_model_RF = RandomForestRegressor(n_estimators=100, max_depth=depth, random_state=42)\n",
    "#     temp_model_RF.fit(X_train_Regression, Y_train_Regression)\n",
    "#     temp_y_pred_RF = temp_model_RF.predict(X_test_Regression)\n",
    "#     mse = mean_squared_error(Y_test_Regression, temp_y_pred_RF)\n",
    "#     mse_score_RF.append(mse)\n",
    "# print(mse_score_RF)"
   ]
  },
  {
   "cell_type": "code",
   "execution_count": 181,
   "metadata": {},
   "outputs": [],
   "source": [
    "# # Plotting the MSE scores\n",
    "# plt.plot(depths, mse_score_RF, marker='o')\n",
    "# plt.xlabel('Depth')\n",
    "# plt.ylabel('Mean Squared Error')\n",
    "# plt.title('Mean Squared Error vs. Depth for Random Forest Regressor')\n",
    "# plt.show()"
   ]
  },
  {
   "attachments": {},
   "cell_type": "markdown",
   "metadata": {},
   "source": [
    "Building multiple models with different number of decision trees \"n_estimators\" to find best \"n_estimator\". Best number of decision trees should be 200"
   ]
  },
  {
   "cell_type": "code",
   "execution_count": 182,
   "metadata": {},
   "outputs": [],
   "source": [
    "# # Define a list of n_estimators to test\n",
    "# n_estimators_values = [50, 100, 150, 200, 250, 300]\n",
    "# mse_score_RF = []\n",
    "\n",
    "# # Iterate over different n_estimators and calculate MSE\n",
    "# for n_estimators in n_estimators_values:\n",
    "#     temp_model_RF = RandomForestRegressor(n_estimators=n_estimators, max_depth=15, random_state=42)\n",
    "#     temp_model_RF.fit(X_train_Regression, Y_train_Regression)\n",
    "#     temp_y_pred_RF = temp_model_RF.predict(X_test_Regression)\n",
    "#     mse = mean_squared_error(Y_test_Regression, temp_y_pred_RF)\n",
    "#     mse_score_RF.append(mse)\n",
    "# print(mse_score_RF)"
   ]
  },
  {
   "cell_type": "code",
   "execution_count": 183,
   "metadata": {},
   "outputs": [],
   "source": [
    "# # Plotting the MSE scores\n",
    "# plt.plot(n_estimators_values, mse_score_RF, marker='o')\n",
    "# plt.xlabel('n_estimators')\n",
    "# plt.ylabel('Mean Squared Error')\n",
    "# plt.title('Mean Squared Error vs. n_estimators for Random Forest Regressor')\n",
    "# plt.show()"
   ]
  },
  {
   "attachments": {},
   "cell_type": "markdown",
   "metadata": {},
   "source": [
    "#### Training with Best Random Forest\n",
    "This model will allow us predict an X, Y, Z coordinate in relation to the independent features supplied"
   ]
  },
  {
   "cell_type": "code",
   "execution_count": 184,
   "metadata": {},
   "outputs": [],
   "source": [
    "# Define the Random Forest Regressor\n",
    "model_randomForest = RandomForestRegressor(n_estimators=200, max_depth=15, random_state=42)  # for regression\n",
    "\n",
    "model_randomForest.fit(X_train_Regression, Y_train_Regression)\n",
    "y_pred_RF = model_randomForest.predict(X_test_Regression)"
   ]
  },
  {
   "attachments": {},
   "cell_type": "markdown",
   "metadata": {},
   "source": [
    "### Training Evaluation of Random Forest\n",
    "Mean squared error and root mean squared errors are error margin metrics for regression models. Refer to root mean squared error for a closer error margin to original metric"
   ]
  },
  {
   "cell_type": "code",
   "execution_count": 185,
   "metadata": {},
   "outputs": [
    {
     "name": "stdout",
     "output_type": "stream",
     "text": [
      "Mean Squared Error: 0.0045074762761593695\n",
      "Root Squared Error: 0.06713774107131822\n"
     ]
    }
   ],
   "source": [
    "mse = mean_squared_error(Y_test_Regression, y_pred_RF)\n",
    "print(\"Mean Squared Error:\", mse)\n",
    "rmse = math.sqrt(mse)\n",
    "print(\"Root Squared Error:\", rmse)"
   ]
  },
  {
   "attachments": {},
   "cell_type": "markdown",
   "metadata": {},
   "source": [
    "Check for generalization of data and if data is able to capture underlying pattern properly. This is done with a learning curve, with a negative mean squared metric. If the training and validation lines converge at a low error rate, that means that the model is well generalized and captures patterns properly"
   ]
  },
  {
   "cell_type": "code",
   "execution_count": 186,
   "metadata": {},
   "outputs": [],
   "source": [
    "# # Calculate the learning curves\n",
    "# train_sizes, train_scores, val_scores = learning_curve(model_randomForest, X_train_Regression, Y_train_Regression, cv=5, scoring='neg_mean_squared_error')\n",
    "\n",
    "# # Calculate the mean and standard deviation of train and validation scores\n",
    "# train_mean = -np.mean(train_scores, axis=1)\n",
    "# train_std = np.std(train_scores, axis=1)\n",
    "# val_mean = -np.mean(val_scores, axis=1)\n",
    "# val_std = np.std(val_scores, axis=1)"
   ]
  },
  {
   "cell_type": "code",
   "execution_count": 187,
   "metadata": {},
   "outputs": [],
   "source": [
    "# # Plot the learning curves\n",
    "# plt.figure(figsize=(10, 7))\n",
    "# plt.plot(train_sizes, train_mean, label='Training score', color='blue')\n",
    "# plt.fill_between(train_sizes, train_mean - train_std, train_mean + train_std, alpha=0.1, color='blue')\n",
    "# plt.plot(train_sizes, val_mean, label='Validation score', color='red')\n",
    "# plt.fill_between(train_sizes, val_mean - val_std, val_mean + val_std, alpha=0.1, color='red')\n",
    "# plt.xlabel('Training Set Size')\n",
    "# plt.ylabel('Negative Mean Squared Error')\n",
    "# plt.title('Learning Curve for Random Forest Regressor')\n",
    "# plt.legend(loc='best')\n",
    "# plt.show()"
   ]
  },
  {
   "attachments": {},
   "cell_type": "markdown",
   "metadata": {},
   "source": [
    "### Model Visualization of Random Forest Regressor"
   ]
  },
  {
   "cell_type": "code",
   "execution_count": 188,
   "metadata": {},
   "outputs": [
    {
     "data": {
      "image/png": "[encoded data removed]",
      "text/plain": [
       "<Figure size 1500x500 with 3 Axes>"
      ]
     },
     "metadata": {},
     "output_type": "display_data"
    }
   ],
   "source": [
    "# Plotting the scatterplot\n",
    "fig, ax = plt.subplots(1, 3, figsize=(15, 5))\n",
    "\n",
    "# Plotting for each target variable\n",
    "for i, target in enumerate(Y_features_Regression.columns):\n",
    "    ax[i].scatter(Y_test_Regression[target], y_pred_RF[:, i], alpha=0.5)\n",
    "    ax[i].plot([Y_test_Regression[target].min(), Y_test_Regression[target].max()], [Y_test_Regression[target].min(), Y_test_Regression[target].max()], 'r--')\n",
    "    ax[i].set_xlabel('Actual ' + target)\n",
    "    ax[i].set_ylabel('Predicted ' + target)\n",
    "\n",
    "plt.suptitle('Actual vs Predicted Y for Random Forest Regressor')\n",
    "plt.tight_layout()\n",
    "plt.show()"
   ]
  },
  {
   "cell_type": "code",
   "execution_count": 189,
   "metadata": {},
   "outputs": [
    {
     "data": {
      "text/plain": [
       "'interactive_models/random_forest_limited_model.html'"
      ]
     },
     "execution_count": 189,
     "metadata": {},
     "output_type": "execute_result"
    }
   ],
   "source": [
    "# Create traces for actual and predicted values\n",
    "actual_trace = go.Scatter3d(\n",
    "    x=Y_test_Regression['SHUTTLECOCK POSITIION IN AIR(X) metres'],\n",
    "    y=Y_test_Regression['SHUTTLECOCK POSITIION IN AIR(Y) metres'],\n",
    "    z=Y_test_Regression['SHUTTLECOCK POSITIION IN AIR(Z) metres'],\n",
    "    name='Actual',\n",
    "    mode='markers',\n",
    "    marker=dict(\n",
    "        color='blue',\n",
    "        size=3,\n",
    "        symbol='circle'\n",
    "    )\n",
    ")\n",
    "\n",
    "predicted_trace = go.Scatter3d(\n",
    "    x=y_pred_RF[:, 0],\n",
    "    y=y_pred_RF[:, 1],\n",
    "    z=y_pred_RF[:, 2],\n",
    "    name='Predicted',\n",
    "    mode='markers',\n",
    "    marker=dict(\n",
    "        color='red',\n",
    "        size=3,\n",
    "        symbol='circle'\n",
    "    )\n",
    ")\n",
    "\n",
    "# Create layout\n",
    "layout = go.Layout(\n",
    "    title='Actual vs Predicted Shuttlecock Positions for Random Forest Regressor',\n",
    "    scene=dict(\n",
    "        xaxis=dict(title='X'),\n",
    "        yaxis=dict(title='Y'),\n",
    "        zaxis=dict(title='Z')\n",
    "    )\n",
    ")\n",
    "\n",
    "# Create figure\n",
    "fig = go.Figure(data=[actual_trace, predicted_trace], layout=layout)\n",
    "\n",
    "# Save the plot as an HTML file\n",
    "plot(fig, filename='interactive_models/random_forest_limited_model.html')"
   ]
  },
  {
   "attachments": {},
   "cell_type": "markdown",
   "metadata": {},
   "source": [
    "### Extra Trees Regressor\n",
    "Extra Trees aka. (Extremely Randomized Trees) Regressor is a variant of Random Forest Tree which also uses an ensemble of decision trees to make predictions. However unlike random forests, Extra Trees introduces extra randomness by randomly selecting features at each node split. This randomness helps to create more diverse and less correlated trees. The final prediction is obtained by averaging the predictions of all the trees.\n",
    "#### Dependencies for Extra Trees Regressor"
   ]
  },
  {
   "cell_type": "code",
   "execution_count": 190,
   "metadata": {},
   "outputs": [],
   "source": [
    "from sklearn.ensemble import ExtraTreesRegressor"
   ]
  },
  {
   "attachments": {},
   "cell_type": "markdown",
   "metadata": {},
   "source": [
    "### Optimization of Extra Tree Regressor \n",
    "Building multiple models with different depths to find best model with lowest mean squared error. Best depth should be 15"
   ]
  },
  {
   "cell_type": "code",
   "execution_count": 191,
   "metadata": {},
   "outputs": [],
   "source": [
    "# # Define a list of depths to test\n",
    "# depths = [5, 10, 15, 20, 25, 30]\n",
    "# mse_scores_ET = []\n",
    "\n",
    "# # Iterate over different depths and calculate MSE\n",
    "# for depth in depths:\n",
    "#     temp_model_ET = ExtraTreesRegressor(n_estimators=100, max_depth=depth, random_state=42)\n",
    "#     temp_model_ET.fit(X_train_Regression, Y_train_Regression)\n",
    "#     temp_y_pred_ET = temp_model_ET.predict(X_test_Regression)\n",
    "#     mse = mean_squared_error(Y_test_Regression, temp_y_pred_ET)\n",
    "#     mse_scores_ET.append(mse)"
   ]
  },
  {
   "cell_type": "code",
   "execution_count": 192,
   "metadata": {},
   "outputs": [],
   "source": [
    "# # Plotting the MSE scores\n",
    "# plt.plot(depths, mse_scores_ET, marker='o')\n",
    "# plt.xlabel('Depth')\n",
    "# plt.ylabel('Mean Squared Error')\n",
    "# plt.title('Mean Squared Error vs. Depth for Extra Trees Regressor')\n",
    "# plt.show()"
   ]
  },
  {
   "attachments": {},
   "cell_type": "markdown",
   "metadata": {},
   "source": [
    "Building multiple models with different number of decision trees \"n_estimators\" to find best \"n_estimator\". Best number of decision trees should be 200"
   ]
  },
  {
   "cell_type": "code",
   "execution_count": 193,
   "metadata": {},
   "outputs": [],
   "source": [
    "# # Define a list of n_estimators to test\n",
    "# n_estimators_values = [50, 100, 150, 200, 250, 300]\n",
    "# mse_scores_ET = []\n",
    "\n",
    "# # Iterate over different n_estimators and calculate MSE\n",
    "# for n_estimators in n_estimators_values:\n",
    "#     temp_model_ET = RandomForestRegressor(n_estimators=n_estimators, max_depth=15, random_state=42)\n",
    "#     temp_model_ET.fit(X_train_Regression, Y_train_Regression)\n",
    "#     temp_y_pred_RF = temp_model_ET.predict(X_test_Regression)\n",
    "#     mse = mean_squared_error(Y_test_Regression, temp_y_pred_RF)\n",
    "#     mse_scores_ET.append(mse)\n",
    "# print(mse_scores_ET)"
   ]
  },
  {
   "cell_type": "code",
   "execution_count": 194,
   "metadata": {},
   "outputs": [],
   "source": [
    "# # Plotting the MSE scores\n",
    "# plt.plot(n_estimators_values, mse_scores_ET, marker='o')\n",
    "# plt.xlabel('n_estimators')\n",
    "# plt.ylabel('Mean Squared Error')\n",
    "# plt.title('Mean Squared Error vs. n_estimators for Extra Trees Regressor')\n",
    "# plt.show()"
   ]
  },
  {
   "attachments": {},
   "cell_type": "markdown",
   "metadata": {},
   "source": [
    "### Training with Best Extra Trees Regressor\n",
    "This model will allow us predict an X, Y, Z coordinate in relation to the independent features supplied"
   ]
  },
  {
   "cell_type": "code",
   "execution_count": 195,
   "metadata": {},
   "outputs": [],
   "source": [
    "# Define the Extra Trees Regressor\n",
    "model_ExtraTrees = ExtraTreesRegressor()\n",
    "model_ExtraTrees.fit(X_train_Regression, Y_train_Regression)\n",
    "y_pred_ET = model_ExtraTrees.predict(X_test_Regression)"
   ]
  },
  {
   "attachments": {},
   "cell_type": "markdown",
   "metadata": {},
   "source": [
    "### Training Evaluation of Extra Trees Regressor\n",
    "Mean squared error and root mean squared errors are error margin metrics for regression models. Refer to root mean squared error for a closer error margin to original metric"
   ]
  },
  {
   "cell_type": "code",
   "execution_count": 196,
   "metadata": {},
   "outputs": [
    {
     "name": "stdout",
     "output_type": "stream",
     "text": [
      "Mean Squared Error: 9.624738479694016e-05\n",
      "Root Squared Error: 0.009810575151179474\n"
     ]
    }
   ],
   "source": [
    "mse = mean_squared_error(Y_test_Regression, y_pred_ET)\n",
    "print(\"Mean Squared Error:\", mse)\n",
    "rmse = math.sqrt(mse)\n",
    "print(\"Root Squared Error:\", rmse)"
   ]
  },
  {
   "attachments": {},
   "cell_type": "markdown",
   "metadata": {},
   "source": [
    "Check for generalization of data and if data is able to capture underlying pattern properly. This is done with a learning curve, with a negative mean squared metric. If the training and validation lines converge at a low error rate, that means that the model is well generalized and captures patterns properly"
   ]
  },
  {
   "cell_type": "code",
   "execution_count": 197,
   "metadata": {},
   "outputs": [],
   "source": [
    "# # Calculate the learning curves\n",
    "# train_sizes, train_scores, val_scores = learning_curve(model_ExtraTrees, X_train_Regression, Y_train_Regression, cv=5, scoring='neg_mean_squared_error')\n",
    "\n",
    "# # Calculate the mean and standard deviation of train and validation scores\n",
    "# train_mean = -np.mean(train_scores, axis=1)\n",
    "# train_std = np.std(train_scores, axis=1)\n",
    "# val_mean = -np.mean(val_scores, axis=1)\n",
    "# val_std = np.std(val_scores, axis=1)"
   ]
  },
  {
   "cell_type": "code",
   "execution_count": 198,
   "metadata": {},
   "outputs": [],
   "source": [
    "# # Plot the learning curves\n",
    "# plt.figure(figsize=(10, 7))\n",
    "# plt.plot(train_sizes, train_mean, label='Training score', color='blue')\n",
    "# plt.fill_between(train_sizes, train_mean - train_std, train_mean + train_std, alpha=0.1, color='blue')\n",
    "# plt.plot(train_sizes, val_mean, label='Validation score', color='red')\n",
    "# plt.fill_between(train_sizes, val_mean - val_std, val_mean + val_std, alpha=0.1, color='red')\n",
    "# plt.xlabel('Training Set Size')\n",
    "# plt.ylabel('Negative Mean Squared Error')\n",
    "# plt.title('Learning Curve for Extra Trees')\n",
    "# plt.legend(loc='best')\n",
    "# plt.show()"
   ]
  },
  {
   "attachments": {},
   "cell_type": "markdown",
   "metadata": {},
   "source": [
    "### Model Visualization of Extra Trees Regressor"
   ]
  },
  {
   "cell_type": "code",
   "execution_count": 199,
   "metadata": {},
   "outputs": [
    {
     "data": {
      "image/png": "[encoded data removed]",
      "text/plain": [
       "<Figure size 1500x500 with 3 Axes>"
      ]
     },
     "metadata": {},
     "output_type": "display_data"
    }
   ],
   "source": [
    "# Plotting the scatterplot\n",
    "fig, ax = plt.subplots(1, 3, figsize=(15, 5))\n",
    "\n",
    "# Plotting for each target variable\n",
    "for i, target in enumerate(Y_features_Regression.columns):\n",
    "    ax[i].scatter(Y_test_Regression[target], y_pred_ET[:, i], alpha=0.5)\n",
    "    ax[i].plot([Y_test_Regression[target].min(), Y_test_Regression[target].max()], [Y_test_Regression[target].min(), Y_test_Regression[target].max()], 'r--')\n",
    "    ax[i].set_xlabel('Actual ' + target)\n",
    "    ax[i].set_ylabel('Predicted ' + target)\n",
    "\n",
    "plt.suptitle('Actual vs Predicted Y for Extra Trees Regressor')\n",
    "plt.tight_layout()\n",
    "plt.show()"
   ]
  },
  {
   "cell_type": "code",
   "execution_count": 200,
   "metadata": {},
   "outputs": [
    {
     "data": {
      "text/plain": [
       "'interactive_models/extra_trees_limited_model.html'"
      ]
     },
     "execution_count": 200,
     "metadata": {},
     "output_type": "execute_result"
    }
   ],
   "source": [
    "# Create traces for actual and predicted values\n",
    "actual_trace = go.Scatter3d(\n",
    "    x=Y_test_Regression['SHUTTLECOCK POSITIION IN AIR(X) metres'],\n",
    "    y=Y_test_Regression['SHUTTLECOCK POSITIION IN AIR(Y) metres'],\n",
    "    z=Y_test_Regression['SHUTTLECOCK POSITIION IN AIR(Z) metres'],\n",
    "    name='Actual',\n",
    "    mode='markers',\n",
    "    marker=dict(\n",
    "        color='blue',\n",
    "        size=3,\n",
    "        symbol='circle'\n",
    "    )\n",
    ")\n",
    "\n",
    "predicted_trace = go.Scatter3d(\n",
    "    x=y_pred_ET[:, 0],\n",
    "    y=y_pred_ET[:, 1],\n",
    "    z=y_pred_ET[:, 2],\n",
    "    name='Predicted',\n",
    "    mode='markers',\n",
    "    marker=dict(\n",
    "        color='red',\n",
    "        size=3,\n",
    "        symbol='circle'\n",
    "    )\n",
    ")\n",
    "\n",
    "# Create layout\n",
    "layout = go.Layout(\n",
    "    title='Actual vs Predicted Shuttlecock Positions for Extra Trees Regressor',\n",
    "    scene=dict(\n",
    "        xaxis=dict(title='X'),\n",
    "        yaxis=dict(title='Y'),\n",
    "        zaxis=dict(title='Z')\n",
    "    )\n",
    ")\n",
    "\n",
    "# Create figure\n",
    "fig = go.Figure(data=[actual_trace, predicted_trace], layout=layout)\n",
    "\n",
    "# Save the plot as an HTML file\n",
    "plot(fig, filename='interactive_models/extra_trees_limited_model.html')"
   ]
  },
  {
   "attachments": {},
   "cell_type": "markdown",
   "metadata": {},
   "source": [
    "## Stage: Actual Testing with First Coordinate\n",
    "To actually test if all the models work, the first point of an observation group will be used for testing. Test will be randomized and based on observation group. Assuming that we will know the sequence order of the observation since they are ordered, OBSERVATION NUMBER will be used to identify the first observation"
   ]
  },
  {
   "cell_type": "code",
   "execution_count": 201,
   "metadata": {},
   "outputs": [
    {
     "name": "stdout",
     "output_type": "stream",
     "text": [
      "Selected Observation Group Number is : 558\n"
     ]
    },
    {
     "data": {
      "text/html": [
       "<div>\n",
       "<style scoped>\n",
       "    .dataframe tbody tr th:only-of-type {\n",
       "        vertical-align: middle;\n",
       "    }\n",
       "\n",
       "    .dataframe tbody tr th {\n",
       "        vertical-align: top;\n",
       "    }\n",
       "\n",
       "    .dataframe thead th {\n",
       "        text-align: right;\n",
       "    }\n",
       "</style>\n",
       "<table border=\"1\" class=\"dataframe\">\n",
       "  <thead>\n",
       "    <tr style=\"text-align: right;\">\n",
       "      <th></th>\n",
       "      <th>SHUTTLECOCK POSITIION IN AIR(X) metres</th>\n",
       "      <th>SHUTTLECOCK POSITIION IN AIR(Y) metres</th>\n",
       "      <th>SHUTTLECOCK POSITIION IN AIR(Z) metres</th>\n",
       "      <th>OBSERVATION NUMBER</th>\n",
       "    </tr>\n",
       "  </thead>\n",
       "  <tbody>\n",
       "    <tr>\n",
       "      <th>63862</th>\n",
       "      <td>4.076924</td>\n",
       "      <td>2.069262</td>\n",
       "      <td>2.664257</td>\n",
       "      <td>1.0</td>\n",
       "    </tr>\n",
       "  </tbody>\n",
       "</table>\n",
       "</div>"
      ],
      "text/plain": [
       "       SHUTTLECOCK POSITIION IN AIR(X) metres  \\\n",
       "63862                                4.076924   \n",
       "\n",
       "       SHUTTLECOCK POSITIION IN AIR(Y) metres  \\\n",
       "63862                                2.069262   \n",
       "\n",
       "       SHUTTLECOCK POSITIION IN AIR(Z) metres  OBSERVATION NUMBER  \n",
       "63862                                2.664257                 1.0  "
      ]
     },
     "execution_count": 201,
     "metadata": {},
     "output_type": "execute_result"
    }
   ],
   "source": [
    "import random\n",
    "# copied to avoid alterations to cleaned data\n",
    "test_data = temp_data.copy()\n",
    "\n",
    "# choose a random from the observation groups to test\n",
    "unique_observation_grps = test_data['OBSERVATION GROUP NUMBER'].nunique()\n",
    "selected_test_num = random.randint(1, unique_observation_grps)\n",
    "print(\"Selected Observation Group Number is :\", selected_test_num)\n",
    "\n",
    "# alternatively can hardcode to replicate results\n",
    "# selected_test_num = ?\n",
    "\n",
    "# retrieve all the rows from the data related to randomly selected row\n",
    "y_actual_records = test_data[test_data['OBSERVATION GROUP NUMBER'] == selected_test_num]\n",
    "\n",
    "# get the first coordinate of selected observation for input\n",
    "y_first_coord = y_actual_records.head(1)\n",
    "y_first_coord = y_first_coord[['SHUTTLECOCK POSITIION IN AIR(X) metres', 'SHUTTLECOCK POSITIION IN AIR(Y) metres', 'SHUTTLECOCK POSITIION IN AIR(Z) metres', 'OBSERVATION NUMBER']]\n",
    "\n",
    "# show the test data\n",
    "y_first_coord\n"
   ]
  },
  {
   "attachments": {},
   "cell_type": "markdown",
   "metadata": {},
   "source": [
    "### Generate Features for Input\n",
    "Generate human initial position"
   ]
  },
  {
   "cell_type": "code",
   "execution_count": 202,
   "metadata": {},
   "outputs": [
    {
     "name": "stderr",
     "output_type": "stream",
     "text": [
      "C:\\Users\\Matthew Chuang\\AppData\\Local\\Temp\\ipykernel_2964\\3174915428.py:2: FutureWarning:\n",
      "\n",
      "Calling float on a single element Series is deprecated and will raise a TypeError in the future. Use float(ser.iloc[0]) instead\n",
      "\n"
     ]
    },
    {
     "data": {
      "text/html": [
       "<div>\n",
       "<style scoped>\n",
       "    .dataframe tbody tr th:only-of-type {\n",
       "        vertical-align: middle;\n",
       "    }\n",
       "\n",
       "    .dataframe tbody tr th {\n",
       "        vertical-align: top;\n",
       "    }\n",
       "\n",
       "    .dataframe thead th {\n",
       "        text-align: right;\n",
       "    }\n",
       "</style>\n",
       "<table border=\"1\" class=\"dataframe\">\n",
       "  <thead>\n",
       "    <tr style=\"text-align: right;\">\n",
       "      <th></th>\n",
       "      <th>SHUTTLECOCK POSITIION IN AIR(X) metres</th>\n",
       "      <th>SHUTTLECOCK POSITIION IN AIR(Y) metres</th>\n",
       "      <th>SHUTTLECOCK POSITIION IN AIR(Z) metres</th>\n",
       "      <th>OBSERVATION NUMBER</th>\n",
       "      <th>HUMAN PLAYER POSITION (X) metres</th>\n",
       "      <th>HUMAN PLAYER POSITION (Y) metres</th>\n",
       "      <th>HUMAN PLAYER POSITION (Z) metres</th>\n",
       "    </tr>\n",
       "  </thead>\n",
       "  <tbody>\n",
       "    <tr>\n",
       "      <th>63862</th>\n",
       "      <td>4.076924</td>\n",
       "      <td>2.069262</td>\n",
       "      <td>2.664257</td>\n",
       "      <td>1.0</td>\n",
       "      <td>4</td>\n",
       "      <td>2.0</td>\n",
       "      <td>2.6</td>\n",
       "    </tr>\n",
       "  </tbody>\n",
       "</table>\n",
       "</div>"
      ],
      "text/plain": [
       "       SHUTTLECOCK POSITIION IN AIR(X) metres  \\\n",
       "63862                                4.076924   \n",
       "\n",
       "       SHUTTLECOCK POSITIION IN AIR(Y) metres  \\\n",
       "63862                                2.069262   \n",
       "\n",
       "       SHUTTLECOCK POSITIION IN AIR(Z) metres  OBSERVATION NUMBER  \\\n",
       "63862                                2.664257                 1.0   \n",
       "\n",
       "       HUMAN PLAYER POSITION (X) metres  HUMAN PLAYER POSITION (Y) metres  \\\n",
       "63862                                 4                               2.0   \n",
       "\n",
       "       HUMAN PLAYER POSITION (Z) metres  \n",
       "63862                               2.6  "
      ]
     },
     "execution_count": 202,
     "metadata": {},
     "output_type": "execute_result"
    }
   ],
   "source": [
    "# Generate Initial Human Position\n",
    "rounded_value_x = math.floor(y_first_coord['SHUTTLECOCK POSITIION IN AIR(X) metres'])\n",
    "rounded_value_y = round(y_first_coord['SHUTTLECOCK POSITIION IN AIR(Y) metres'])\n",
    "rounded_value_z = y_first_coord['SHUTTLECOCK POSITIION IN AIR(Z) metres'].apply(lambda x: min(1.6, 2.6, key=lambda y: abs(y - x)))\n",
    "# rounded_value_z = min(1.6, 2.6, key=lambda x: abs(x - y_first_coord['SHUTTLECOCK POSITIION IN AIR(Z) metres']))\n",
    "\n",
    "y_first_coord['HUMAN PLAYER POSITION (X) metres'] = rounded_value_x\n",
    "y_first_coord['HUMAN PLAYER POSITION (Y) metres'] = rounded_value_y\n",
    "y_first_coord['HUMAN PLAYER POSITION (Z) metres'] = rounded_value_z\n",
    "\n",
    "y_first_coord"
   ]
  },
  {
   "attachments": {},
   "cell_type": "markdown",
   "metadata": {},
   "source": [
    "Generate initial velocity, slant angle, firing angle"
   ]
  },
  {
   "cell_type": "code",
   "execution_count": 203,
   "metadata": {},
   "outputs": [
    {
     "name": "stderr",
     "output_type": "stream",
     "text": [
      "C:\\Users\\Matthew Chuang\\AppData\\Local\\Temp\\ipykernel_2964\\3704619852.py:7: FutureWarning:\n",
      "\n",
      "Calling float on a single element Series is deprecated and will raise a TypeError in the future. Use float(ser.iloc[0]) instead\n",
      "\n",
      "C:\\Users\\Matthew Chuang\\AppData\\Local\\Temp\\ipykernel_2964\\3704619852.py:13: FutureWarning:\n",
      "\n",
      "Calling float on a single element Series is deprecated and will raise a TypeError in the future. Use float(ser.iloc[0]) instead\n",
      "\n",
      "C:\\Users\\Matthew Chuang\\AppData\\Local\\Temp\\ipykernel_2964\\3704619852.py:19: FutureWarning:\n",
      "\n",
      "Calling float on a single element Series is deprecated and will raise a TypeError in the future. Use float(ser.iloc[0]) instead\n",
      "\n"
     ]
    },
    {
     "data": {
      "text/html": [
       "<div>\n",
       "<style scoped>\n",
       "    .dataframe tbody tr th:only-of-type {\n",
       "        vertical-align: middle;\n",
       "    }\n",
       "\n",
       "    .dataframe tbody tr th {\n",
       "        vertical-align: top;\n",
       "    }\n",
       "\n",
       "    .dataframe thead th {\n",
       "        text-align: right;\n",
       "    }\n",
       "</style>\n",
       "<table border=\"1\" class=\"dataframe\">\n",
       "  <thead>\n",
       "    <tr style=\"text-align: right;\">\n",
       "      <th></th>\n",
       "      <th>SHUTTLECOCK POSITIION IN AIR(X) metres</th>\n",
       "      <th>SHUTTLECOCK POSITIION IN AIR(Y) metres</th>\n",
       "      <th>SHUTTLECOCK POSITIION IN AIR(Z) metres</th>\n",
       "      <th>OBSERVATION NUMBER</th>\n",
       "      <th>HUMAN PLAYER POSITION (X) metres</th>\n",
       "      <th>HUMAN PLAYER POSITION (Y) metres</th>\n",
       "      <th>HUMAN PLAYER POSITION (Z) metres</th>\n",
       "      <th>INITIAL SHUTTELCOCK FIRING ANGLE (DEGREE)</th>\n",
       "      <th>INITIAL SHUTTELCOCK SLANT ANGLE TO SIDELINE(DEGREE)</th>\n",
       "      <th>INITITAL VELOCITY OF SHUTTELCOCK(m/s)</th>\n",
       "    </tr>\n",
       "  </thead>\n",
       "  <tbody>\n",
       "    <tr>\n",
       "      <th>63862</th>\n",
       "      <td>4.076924</td>\n",
       "      <td>2.069262</td>\n",
       "      <td>2.664257</td>\n",
       "      <td>1.0</td>\n",
       "      <td>4</td>\n",
       "      <td>2.0</td>\n",
       "      <td>2.6</td>\n",
       "      <td>50</td>\n",
       "      <td>42</td>\n",
       "      <td>1</td>\n",
       "    </tr>\n",
       "  </tbody>\n",
       "</table>\n",
       "</div>"
      ],
      "text/plain": [
       "       SHUTTLECOCK POSITIION IN AIR(X) metres  \\\n",
       "63862                                4.076924   \n",
       "\n",
       "       SHUTTLECOCK POSITIION IN AIR(Y) metres  \\\n",
       "63862                                2.069262   \n",
       "\n",
       "       SHUTTLECOCK POSITIION IN AIR(Z) metres  OBSERVATION NUMBER  \\\n",
       "63862                                2.664257                 1.0   \n",
       "\n",
       "       HUMAN PLAYER POSITION (X) metres  HUMAN PLAYER POSITION (Y) metres  \\\n",
       "63862                                 4                               2.0   \n",
       "\n",
       "       HUMAN PLAYER POSITION (Z) metres  \\\n",
       "63862                               2.6   \n",
       "\n",
       "       INITIAL SHUTTELCOCK FIRING ANGLE (DEGREE)  \\\n",
       "63862                                         50   \n",
       "\n",
       "       INITIAL SHUTTELCOCK SLANT ANGLE TO SIDELINE(DEGREE)  \\\n",
       "63862                                                 42     \n",
       "\n",
       "       INITITAL VELOCITY OF SHUTTELCOCK(m/s)  \n",
       "63862                                      1  "
      ]
     },
     "execution_count": 203,
     "metadata": {},
     "output_type": "execute_result"
    }
   ],
   "source": [
    "# calculate displacement\n",
    "X_displacement_test = y_first_coord['SHUTTLECOCK POSITIION IN AIR(X) metres'] - y_first_coord['HUMAN PLAYER POSITION (X) metres']\n",
    "Y_displacement_test = y_first_coord['SHUTTLECOCK POSITIION IN AIR(Y) metres'] - y_first_coord['HUMAN PLAYER POSITION (Y) metres'] \n",
    "Z_displacement_test = y_first_coord['SHUTTLECOCK POSITIION IN AIR(Z) metres'] - y_first_coord['HUMAN PLAYER POSITION (Z) metres']\n",
    "\n",
    "# calculate initial firing angle\n",
    "firing_angle_radians = math.atan(X_displacement_test / Z_displacement_test)\n",
    "firing_angle_degrees = math.degrees(firing_angle_radians)\n",
    "# round to nearest 10 for firing angle\n",
    "y_first_coord['INITIAL SHUTTELCOCK FIRING ANGLE (DEGREE)'] = round(firing_angle_degrees / 10) * 10\n",
    "\n",
    "# calculate initial slant angle\n",
    "slant_angle_radians = math.atan(Y_displacement_test / X_displacement_test)\n",
    "slant_angle_degrees = math.degrees(slant_angle_radians)\n",
    "y_first_coord['INITIAL SHUTTELCOCK SLANT ANGLE TO SIDELINE(DEGREE)'] = round(slant_angle_degrees)\n",
    "\n",
    "# Calculate the initial velocity (v₀)\n",
    "time_elapsed = 0.1\n",
    "displacement = math.sqrt(X_displacement_test**2 + Y_displacement_test**2 + Z_displacement_test**2)\n",
    "initial_velocity = round(displacement/time_elapsed)\n",
    "# round to nearest 10 for velocity\n",
    "y_first_coord['INITITAL VELOCITY OF SHUTTELCOCK(m/s)'] = initial_velocity\n",
    "y_first_coord"
   ]
  },
  {
   "attachments": {},
   "cell_type": "markdown",
   "metadata": {},
   "source": [
    "Predict number of observations within a Trajectory for test record"
   ]
  },
  {
   "cell_type": "code",
   "execution_count": 204,
   "metadata": {},
   "outputs": [
    {
     "name": "stdout",
     "output_type": "stream",
     "text": [
      "Predicted observation is : 128\n",
      "Actual number of observations is : 128\n"
     ]
    },
    {
     "name": "stderr",
     "output_type": "stream",
     "text": [
      "C:\\Users\\Matthew Chuang\\AppData\\Local\\Temp\\ipykernel_2964\\1487334482.py:9: DeprecationWarning:\n",
      "\n",
      "Conversion of an array with ndim > 0 to a scalar is deprecated, and will error in future. Ensure you extract a single element from your array before performing this operation. (Deprecated NumPy 1.25.)\n",
      "\n"
     ]
    }
   ],
   "source": [
    "# select the input features we want to feed into the decision tree model to prediction observation\n",
    "X_actual_test_DT = y_first_coord[['HUMAN PLAYER POSITION (X) metres', \n",
    "                                    'HUMAN PLAYER POSITION (Y) metres',\n",
    "                                    'HUMAN PLAYER POSITION (Z) metres', \n",
    "                                    'INITITAL VELOCITY OF SHUTTELCOCK(m/s)', \n",
    "                                    'INITIAL SHUTTELCOCK FIRING ANGLE (DEGREE)', \n",
    "                                    'INITIAL SHUTTELCOCK SLANT ANGLE TO SIDELINE(DEGREE)']]\n",
    "\n",
    "predicted_observation = int(model_decisionTree.predict(X_actual_test_DT))\n",
    "print(\"Predicted observation is :\", predicted_observation)\n",
    "print(\"Actual number of observations is :\", len(y_actual_records))"
   ]
  },
  {
   "attachments": {},
   "cell_type": "markdown",
   "metadata": {},
   "source": [
    "Prepare input features to be fed into Regressor Models"
   ]
  },
  {
   "cell_type": "code",
   "execution_count": 205,
   "metadata": {},
   "outputs": [
    {
     "data": {
      "text/plain": [
       "[[4.0, 2.0, 2.6, 1.0, 50.0, 42.0, 1],\n",
       " [4.0, 2.0, 2.6, 1.0, 50.0, 42.0, 2],\n",
       " [4.0, 2.0, 2.6, 1.0, 50.0, 42.0, 3],\n",
       " [4.0, 2.0, 2.6, 1.0, 50.0, 42.0, 4],\n",
       " [4.0, 2.0, 2.6, 1.0, 50.0, 42.0, 5],\n",
       " [4.0, 2.0, 2.6, 1.0, 50.0, 42.0, 6],\n",
       " [4.0, 2.0, 2.6, 1.0, 50.0, 42.0, 7],\n",
       " [4.0, 2.0, 2.6, 1.0, 50.0, 42.0, 8],\n",
       " [4.0, 2.0, 2.6, 1.0, 50.0, 42.0, 9],\n",
       " [4.0, 2.0, 2.6, 1.0, 50.0, 42.0, 10],\n",
       " [4.0, 2.0, 2.6, 1.0, 50.0, 42.0, 11],\n",
       " [4.0, 2.0, 2.6, 1.0, 50.0, 42.0, 12],\n",
       " [4.0, 2.0, 2.6, 1.0, 50.0, 42.0, 13],\n",
       " [4.0, 2.0, 2.6, 1.0, 50.0, 42.0, 14],\n",
       " [4.0, 2.0, 2.6, 1.0, 50.0, 42.0, 15],\n",
       " [4.0, 2.0, 2.6, 1.0, 50.0, 42.0, 16],\n",
       " [4.0, 2.0, 2.6, 1.0, 50.0, 42.0, 17],\n",
       " [4.0, 2.0, 2.6, 1.0, 50.0, 42.0, 18],\n",
       " [4.0, 2.0, 2.6, 1.0, 50.0, 42.0, 19],\n",
       " [4.0, 2.0, 2.6, 1.0, 50.0, 42.0, 20],\n",
       " [4.0, 2.0, 2.6, 1.0, 50.0, 42.0, 21],\n",
       " [4.0, 2.0, 2.6, 1.0, 50.0, 42.0, 22],\n",
       " [4.0, 2.0, 2.6, 1.0, 50.0, 42.0, 23],\n",
       " [4.0, 2.0, 2.6, 1.0, 50.0, 42.0, 24],\n",
       " [4.0, 2.0, 2.6, 1.0, 50.0, 42.0, 25],\n",
       " [4.0, 2.0, 2.6, 1.0, 50.0, 42.0, 26],\n",
       " [4.0, 2.0, 2.6, 1.0, 50.0, 42.0, 27],\n",
       " [4.0, 2.0, 2.6, 1.0, 50.0, 42.0, 28],\n",
       " [4.0, 2.0, 2.6, 1.0, 50.0, 42.0, 29],\n",
       " [4.0, 2.0, 2.6, 1.0, 50.0, 42.0, 30],\n",
       " [4.0, 2.0, 2.6, 1.0, 50.0, 42.0, 31],\n",
       " [4.0, 2.0, 2.6, 1.0, 50.0, 42.0, 32],\n",
       " [4.0, 2.0, 2.6, 1.0, 50.0, 42.0, 33],\n",
       " [4.0, 2.0, 2.6, 1.0, 50.0, 42.0, 34],\n",
       " [4.0, 2.0, 2.6, 1.0, 50.0, 42.0, 35],\n",
       " [4.0, 2.0, 2.6, 1.0, 50.0, 42.0, 36],\n",
       " [4.0, 2.0, 2.6, 1.0, 50.0, 42.0, 37],\n",
       " [4.0, 2.0, 2.6, 1.0, 50.0, 42.0, 38],\n",
       " [4.0, 2.0, 2.6, 1.0, 50.0, 42.0, 39],\n",
       " [4.0, 2.0, 2.6, 1.0, 50.0, 42.0, 40],\n",
       " [4.0, 2.0, 2.6, 1.0, 50.0, 42.0, 41],\n",
       " [4.0, 2.0, 2.6, 1.0, 50.0, 42.0, 42],\n",
       " [4.0, 2.0, 2.6, 1.0, 50.0, 42.0, 43],\n",
       " [4.0, 2.0, 2.6, 1.0, 50.0, 42.0, 44],\n",
       " [4.0, 2.0, 2.6, 1.0, 50.0, 42.0, 45],\n",
       " [4.0, 2.0, 2.6, 1.0, 50.0, 42.0, 46],\n",
       " [4.0, 2.0, 2.6, 1.0, 50.0, 42.0, 47],\n",
       " [4.0, 2.0, 2.6, 1.0, 50.0, 42.0, 48],\n",
       " [4.0, 2.0, 2.6, 1.0, 50.0, 42.0, 49],\n",
       " [4.0, 2.0, 2.6, 1.0, 50.0, 42.0, 50],\n",
       " [4.0, 2.0, 2.6, 1.0, 50.0, 42.0, 51],\n",
       " [4.0, 2.0, 2.6, 1.0, 50.0, 42.0, 52],\n",
       " [4.0, 2.0, 2.6, 1.0, 50.0, 42.0, 53],\n",
       " [4.0, 2.0, 2.6, 1.0, 50.0, 42.0, 54],\n",
       " [4.0, 2.0, 2.6, 1.0, 50.0, 42.0, 55],\n",
       " [4.0, 2.0, 2.6, 1.0, 50.0, 42.0, 56],\n",
       " [4.0, 2.0, 2.6, 1.0, 50.0, 42.0, 57],\n",
       " [4.0, 2.0, 2.6, 1.0, 50.0, 42.0, 58],\n",
       " [4.0, 2.0, 2.6, 1.0, 50.0, 42.0, 59],\n",
       " [4.0, 2.0, 2.6, 1.0, 50.0, 42.0, 60],\n",
       " [4.0, 2.0, 2.6, 1.0, 50.0, 42.0, 61],\n",
       " [4.0, 2.0, 2.6, 1.0, 50.0, 42.0, 62],\n",
       " [4.0, 2.0, 2.6, 1.0, 50.0, 42.0, 63],\n",
       " [4.0, 2.0, 2.6, 1.0, 50.0, 42.0, 64],\n",
       " [4.0, 2.0, 2.6, 1.0, 50.0, 42.0, 65],\n",
       " [4.0, 2.0, 2.6, 1.0, 50.0, 42.0, 66],\n",
       " [4.0, 2.0, 2.6, 1.0, 50.0, 42.0, 67],\n",
       " [4.0, 2.0, 2.6, 1.0, 50.0, 42.0, 68],\n",
       " [4.0, 2.0, 2.6, 1.0, 50.0, 42.0, 69],\n",
       " [4.0, 2.0, 2.6, 1.0, 50.0, 42.0, 70],\n",
       " [4.0, 2.0, 2.6, 1.0, 50.0, 42.0, 71],\n",
       " [4.0, 2.0, 2.6, 1.0, 50.0, 42.0, 72],\n",
       " [4.0, 2.0, 2.6, 1.0, 50.0, 42.0, 73],\n",
       " [4.0, 2.0, 2.6, 1.0, 50.0, 42.0, 74],\n",
       " [4.0, 2.0, 2.6, 1.0, 50.0, 42.0, 75],\n",
       " [4.0, 2.0, 2.6, 1.0, 50.0, 42.0, 76],\n",
       " [4.0, 2.0, 2.6, 1.0, 50.0, 42.0, 77],\n",
       " [4.0, 2.0, 2.6, 1.0, 50.0, 42.0, 78],\n",
       " [4.0, 2.0, 2.6, 1.0, 50.0, 42.0, 79],\n",
       " [4.0, 2.0, 2.6, 1.0, 50.0, 42.0, 80],\n",
       " [4.0, 2.0, 2.6, 1.0, 50.0, 42.0, 81],\n",
       " [4.0, 2.0, 2.6, 1.0, 50.0, 42.0, 82],\n",
       " [4.0, 2.0, 2.6, 1.0, 50.0, 42.0, 83],\n",
       " [4.0, 2.0, 2.6, 1.0, 50.0, 42.0, 84],\n",
       " [4.0, 2.0, 2.6, 1.0, 50.0, 42.0, 85],\n",
       " [4.0, 2.0, 2.6, 1.0, 50.0, 42.0, 86],\n",
       " [4.0, 2.0, 2.6, 1.0, 50.0, 42.0, 87],\n",
       " [4.0, 2.0, 2.6, 1.0, 50.0, 42.0, 88],\n",
       " [4.0, 2.0, 2.6, 1.0, 50.0, 42.0, 89],\n",
       " [4.0, 2.0, 2.6, 1.0, 50.0, 42.0, 90],\n",
       " [4.0, 2.0, 2.6, 1.0, 50.0, 42.0, 91],\n",
       " [4.0, 2.0, 2.6, 1.0, 50.0, 42.0, 92],\n",
       " [4.0, 2.0, 2.6, 1.0, 50.0, 42.0, 93],\n",
       " [4.0, 2.0, 2.6, 1.0, 50.0, 42.0, 94],\n",
       " [4.0, 2.0, 2.6, 1.0, 50.0, 42.0, 95],\n",
       " [4.0, 2.0, 2.6, 1.0, 50.0, 42.0, 96],\n",
       " [4.0, 2.0, 2.6, 1.0, 50.0, 42.0, 97],\n",
       " [4.0, 2.0, 2.6, 1.0, 50.0, 42.0, 98],\n",
       " [4.0, 2.0, 2.6, 1.0, 50.0, 42.0, 99],\n",
       " [4.0, 2.0, 2.6, 1.0, 50.0, 42.0, 100],\n",
       " [4.0, 2.0, 2.6, 1.0, 50.0, 42.0, 101],\n",
       " [4.0, 2.0, 2.6, 1.0, 50.0, 42.0, 102],\n",
       " [4.0, 2.0, 2.6, 1.0, 50.0, 42.0, 103],\n",
       " [4.0, 2.0, 2.6, 1.0, 50.0, 42.0, 104],\n",
       " [4.0, 2.0, 2.6, 1.0, 50.0, 42.0, 105],\n",
       " [4.0, 2.0, 2.6, 1.0, 50.0, 42.0, 106],\n",
       " [4.0, 2.0, 2.6, 1.0, 50.0, 42.0, 107],\n",
       " [4.0, 2.0, 2.6, 1.0, 50.0, 42.0, 108],\n",
       " [4.0, 2.0, 2.6, 1.0, 50.0, 42.0, 109],\n",
       " [4.0, 2.0, 2.6, 1.0, 50.0, 42.0, 110],\n",
       " [4.0, 2.0, 2.6, 1.0, 50.0, 42.0, 111],\n",
       " [4.0, 2.0, 2.6, 1.0, 50.0, 42.0, 112],\n",
       " [4.0, 2.0, 2.6, 1.0, 50.0, 42.0, 113],\n",
       " [4.0, 2.0, 2.6, 1.0, 50.0, 42.0, 114],\n",
       " [4.0, 2.0, 2.6, 1.0, 50.0, 42.0, 115],\n",
       " [4.0, 2.0, 2.6, 1.0, 50.0, 42.0, 116],\n",
       " [4.0, 2.0, 2.6, 1.0, 50.0, 42.0, 117],\n",
       " [4.0, 2.0, 2.6, 1.0, 50.0, 42.0, 118],\n",
       " [4.0, 2.0, 2.6, 1.0, 50.0, 42.0, 119],\n",
       " [4.0, 2.0, 2.6, 1.0, 50.0, 42.0, 120],\n",
       " [4.0, 2.0, 2.6, 1.0, 50.0, 42.0, 121],\n",
       " [4.0, 2.0, 2.6, 1.0, 50.0, 42.0, 122],\n",
       " [4.0, 2.0, 2.6, 1.0, 50.0, 42.0, 123],\n",
       " [4.0, 2.0, 2.6, 1.0, 50.0, 42.0, 124],\n",
       " [4.0, 2.0, 2.6, 1.0, 50.0, 42.0, 125],\n",
       " [4.0, 2.0, 2.6, 1.0, 50.0, 42.0, 126],\n",
       " [4.0, 2.0, 2.6, 1.0, 50.0, 42.0, 127],\n",
       " [4.0, 2.0, 2.6, 1.0, 50.0, 42.0, 128]]"
      ]
     },
     "execution_count": 205,
     "metadata": {},
     "output_type": "execute_result"
    }
   ],
   "source": [
    "# container to store prepared input features we want to feed into the regression model to predict entire trajectory x, y, z coordinates\n",
    "X_actual_test_Regressor = []\n",
    "# select x features and change the observation number accordingly and add into container\n",
    "for obs_num in range(1, predicted_observation+1):\n",
    "    temp = (y_first_coord[['HUMAN PLAYER POSITION (X) metres', \n",
    "                            'HUMAN PLAYER POSITION (Y) metres',\n",
    "                            'HUMAN PLAYER POSITION (Z) metres',\n",
    "                            'INITITAL VELOCITY OF SHUTTELCOCK(m/s)', \n",
    "                            'INITIAL SHUTTELCOCK FIRING ANGLE (DEGREE)', \n",
    "                            'INITIAL SHUTTELCOCK SLANT ANGLE TO SIDELINE(DEGREE)']]).values.tolist()\n",
    "    temp_obs_row = temp[:5][0]\n",
    "    temp_obs_row.append(obs_num)\n",
    "    X_actual_test_Regressor.append(temp_obs_row)\n",
    "X_actual_test_Regressor"
   ]
  },
  {
   "cell_type": "code",
   "execution_count": 206,
   "metadata": {},
   "outputs": [],
   "source": [
    "# Get array into dataframe format\n",
    "column_names = [\n",
    "    'HUMAN PLAYER POSITION (X) metres',\n",
    "    'HUMAN PLAYER POSITION (Y) metres',\n",
    "    'HUMAN PLAYER POSITION (Z) metres',\n",
    "    'INITITAL VELOCITY OF SHUTTELCOCK(m/s)',\n",
    "    'INITIAL SHUTTELCOCK FIRING ANGLE (DEGREE)',\n",
    "    'INITIAL SHUTTELCOCK SLANT ANGLE TO SIDELINE(DEGREE)',\n",
    "    'OBSERVATION NUMBER'\n",
    "]\n",
    "X_actual_test_Regressor_DF = pd.DataFrame(X_actual_test_Regressor, columns = column_names)"
   ]
  },
  {
   "attachments": {},
   "cell_type": "markdown",
   "metadata": {},
   "source": [
    "Predict the Trajectory using Trained Models, outputs an array of predicted shuttlecock trajectory coordinates"
   ]
  },
  {
   "cell_type": "code",
   "execution_count": 207,
   "metadata": {},
   "outputs": [],
   "source": [
    "# prediction using random forest regression\n",
    "predicted_trajectory_points_RT = model_randomForest.predict(X_actual_test_Regressor_DF)\n",
    "# prediction using extra trees regression\n",
    "predicted_trajectory_points_ET = model_ExtraTrees.predict(X_actual_test_Regressor_DF)"
   ]
  },
  {
   "attachments": {},
   "cell_type": "markdown",
   "metadata": {},
   "source": [
    "### Overall Evaluation for all Regression Models"
   ]
  },
  {
   "cell_type": "code",
   "execution_count": 208,
   "metadata": {},
   "outputs": [
    {
     "name": "stdout",
     "output_type": "stream",
     "text": [
      "Mean Square Error of the Random Forest Tree Regressor is : 0.00017616763261678344\n",
      "Root Mean Square Error of the Random Forest Tree Regressor is : 0.013272815549716023\n",
      "Mean Square Error of the Extra Trees Regressor is : 6.40324285499318e-29\n",
      "Root Mean Square Error of the Extra Trees Regressor is : 8.002026527694832e-15\n"
     ]
    }
   ],
   "source": [
    "# Do an error evaluation\n",
    "y_actual_coords = y_actual_records[['SHUTTLECOCK POSITIION IN AIR(X) metres', 'SHUTTLECOCK POSITIION IN AIR(Y) metres', 'SHUTTLECOCK POSITIION IN AIR(Z) metres']]\n",
    "\n",
    "mse_actual_RT = mean_squared_error(y_actual_coords, predicted_trajectory_points_RT)\n",
    "rmse_actual_RT = math.sqrt(mse_actual_RT)\n",
    "print(\"Mean Square Error of the Random Forest Tree Regressor is :\", mse_actual_RT)\n",
    "print(\"Root Mean Square Error of the Random Forest Tree Regressor is :\", rmse_actual_RT)\n",
    "\n",
    "mse_actual_ET = mean_squared_error(y_actual_coords, predicted_trajectory_points_ET)\n",
    "rmse_actual_ET = math.sqrt(mse_actual_ET)\n",
    "print(\"Mean Square Error of the Extra Trees Regressor is :\", mse_actual_ET)\n",
    "print(\"Root Mean Square Error of the Extra Trees Regressor is :\", rmse_actual_ET)"
   ]
  },
  {
   "attachments": {},
   "cell_type": "markdown",
   "metadata": {},
   "source": [
    "Static Visualization of Shuttlecock Trajectory in a Court"
   ]
  },
  {
   "cell_type": "code",
   "execution_count": 209,
   "metadata": {},
   "outputs": [],
   "source": [
    "#Court Constants\n",
    "_HEIGHT_SKYBOX_M_ = 10\n",
    "_HEIGHT_NET_M_ = 1.55\n",
    "_HEIGHT_ROBOTBADMINTON_CENTER_M_ = 1.1\n",
    "\n",
    "_LENGTH_COURT_X_M_ = 13.4\n",
    "_LENGTH_COURT_Y_M_ = 5.18\n",
    "_LENGTH_CENTERLINE_M_ = 4.68\n",
    "\n",
    "_COURT_BOUNDARY_TOP_ = [\n",
    " (0,0),\n",
    " (0, _LENGTH_COURT_Y_M_)\n",
    "]\n",
    "_COURT_BOUNDARY_BOTTOM_ = [\n",
    " (_LENGTH_COURT_X_M_, 0),\n",
    " (_LENGTH_COURT_X_M_, _LENGTH_COURT_Y_M_)\n",
    "]\n",
    "_COURT_BOUNDARY_LEFT_ = [\n",
    " (0,0),\n",
    " (_LENGTH_COURT_X_M_, 0)\n",
    "]\n",
    "_COURT_BOUNDARY_RIGHT_ = [\n",
    " (0, _LENGTH_COURT_Y_M_),\n",
    " (_LENGTH_COURT_X_M_, _LENGTH_COURT_Y_M_)\n",
    "]\n",
    "\n",
    "_COURT_CENTRELINE01_ = [\n",
    " (0, (_LENGTH_COURT_Y_M_/2)),\n",
    " (_LENGTH_CENTERLINE_M_, (_LENGTH_COURT_Y_M_/2))\n",
    "]\n",
    "_COURT_CENTRELINE02_ = [\n",
    "    (_LENGTH_COURT_X_M_ - _LENGTH_CENTERLINE_M_, (_LENGTH_COURT_Y_M_/2)),\n",
    "    (_LENGTH_COURT_X_M_, (_LENGTH_COURT_Y_M_/2))\n",
    "]\n",
    "_COURT_SHORTSERVICELINE01_ = [\n",
    "    (_LENGTH_CENTERLINE_M_ + 0.04, 0),\n",
    "    (_LENGTH_CENTERLINE_M_ + 0.04, _LENGTH_COURT_Y_M_)\n",
    "]\n",
    "_COURT_SHORTSERVICELINE02_ = [\n",
    "    (_LENGTH_COURT_X_M_ - _LENGTH_CENTERLINE_M_ - 0.04, 0),\n",
    "    (_LENGTH_COURT_X_M_ - _LENGTH_CENTERLINE_M_ - 0.04, _LENGTH_COURT_Y_M_)\n",
    "]"
   ]
  },
  {
   "cell_type": "code",
   "execution_count": 210,
   "metadata": {},
   "outputs": [
    {
     "data": {
      "image/png": "[encoded data removed]",
      "text/plain": [
       "<Figure size 1600x700 with 2 Axes>"
      ]
     },
     "metadata": {},
     "output_type": "display_data"
    }
   ],
   "source": [
    "import matplotlib.pyplot as plt\n",
    "from mpl_toolkits.mplot3d import Axes3D\n",
    "\n",
    "# Create a 3D figure with subplots\n",
    "fig, axes = plt.subplots(nrows=1, ncols=2, figsize=(16, 7), subplot_kw={'projection': '3d'})\n",
    "\n",
    "# Set titles for subplots\n",
    "axes[0].set_title(\"Trajectory Estimation of Random Forest Regressor\")\n",
    "axes[1].set_title(\"Trajectory Estimation of Extra Trees Regressor\")\n",
    "\n",
    "# Define court dimensions\n",
    "court_length_x = 13.4\n",
    "court_length_y = 5.18\n",
    "court_height_skybox = 10\n",
    "court_height_net = 1.55\n",
    "court_height_robotbadminton_center = 1.1\n",
    "court_length_centerline = 4.68\n",
    "\n",
    "# Loop over subplots\n",
    "for ax_index, ax in enumerate(axes):\n",
    "    # Plot court boundaries\n",
    "    ax.plot([0, court_length_x], [0, 0], [0, 0], color='black', linewidth=1)  # Bottom boundary\n",
    "    ax.plot([0, court_length_x], [court_length_y, court_length_y], [0, 0], color='black', linewidth=1)  # Top boundary\n",
    "    ax.plot([0, 0], [0, court_length_y], [0, 0], color='black', linewidth=1)  # Left boundary\n",
    "    ax.plot([court_length_x, court_length_x], [0, court_length_y], [0, 0], color='black', linewidth=1)  # Right boundary\n",
    "\n",
    "    # Plot center line\n",
    "    ax.plot([0, court_length_centerline], [court_length_y / 2, court_length_y / 2], [0, 0], color='black', linewidth=1)\n",
    "    ax.plot([court_length_x - court_length_centerline, court_length_x], [court_length_y / 2, court_length_y / 2], [0, 0], color='black', linewidth=1)\n",
    "\n",
    "    # Plot short service lines\n",
    "    ax.plot([court_length_centerline + 0.04, court_length_centerline + 0.04], [0, court_length_y], [0, 0], color='black', linewidth=1)\n",
    "    ax.plot([court_length_x - court_length_centerline - 0.04, court_length_x - court_length_centerline - 0.04], [0, court_length_y], [0, 0], color='black', linewidth=1)\n",
    "\n",
    "    # Plot net\n",
    "    net_height = court_height_net\n",
    "    ax.plot([court_length_x / 2, court_length_x / 2], [0, court_length_y], [net_height, net_height], color='red', linewidth=1)\n",
    "\n",
    "    # Set plot limits and labels\n",
    "    ax.set_xlim([0, court_length_x])\n",
    "    ax.set_ylim([0, court_length_y])\n",
    "    ax.set_zlim([0, court_height_skybox])\n",
    "    ax.set_xlabel('Length (m)')\n",
    "    ax.set_ylabel('Width (m)')\n",
    "    ax.set_zlabel('Height (m)')\n",
    "\n",
    "    if ax_index == 0:\n",
    "        columns_n = ['X', 'Y', 'Z']\n",
    "        predicted_trajectory_points_RF_DF = pd.DataFrame(predicted_trajectory_points_RT, columns=columns_n)\n",
    "\n",
    "        # Extract X, Y, Z coordinates from y_actual_test and predicted_trajectory_point\n",
    "        x_actual = y_actual_coords['SHUTTLECOCK POSITIION IN AIR(X) metres']\n",
    "        y_actual = y_actual_coords['SHUTTLECOCK POSITIION IN AIR(Y) metres']\n",
    "        z_actual = y_actual_coords['SHUTTLECOCK POSITIION IN AIR(Z) metres']\n",
    "\n",
    "        x_predicted = predicted_trajectory_points_RF_DF['X'].values\n",
    "        y_predicted = predicted_trajectory_points_RF_DF['Y'].values\n",
    "        z_predicted = predicted_trajectory_points_RF_DF['Z'].values\n",
    "\n",
    "        ax.scatter(x_actual, y_actual, z_actual, c='blue', label='Actual Trajectory')\n",
    "        ax.scatter(x_predicted, y_predicted, z_predicted, c='red', label='Predicted Trajectory (Random Forest Regressor)')\n",
    "\n",
    "    elif ax_index == 1:\n",
    "        columns_n = ['X', 'Y', 'Z']\n",
    "        predicted_trajectory_points_ET_DF = pd.DataFrame(predicted_trajectory_points_ET, columns=columns_n)\n",
    "\n",
    "        # Extract X, Y, Z coordinates from y_actual_test and predicted_trajectory_point\n",
    "        x_actual = y_actual_coords['SHUTTLECOCK POSITIION IN AIR(X) metres']\n",
    "        y_actual = y_actual_coords['SHUTTLECOCK POSITIION IN AIR(Y) metres']\n",
    "        z_actual = y_actual_coords['SHUTTLECOCK POSITIION IN AIR(Z) metres']\n",
    "\n",
    "        x_predicted = predicted_trajectory_points_ET_DF['X'].values\n",
    "        y_predicted = predicted_trajectory_points_ET_DF['Y'].values\n",
    "        z_predicted = predicted_trajectory_points_ET_DF['Z'].values\n",
    "\n",
    "        ax.scatter(x_actual, y_actual, z_actual, c='blue', label='Actual Trajectory')\n",
    "        ax.scatter(x_predicted, y_predicted, z_predicted, c='red', label='Predicted Trajectory (Extra Trees Regressor)')\n",
    "\n",
    "    ax.legend()\n",
    "\n",
    "# Adjust spacing between subplots\n",
    "plt.subplots_adjust(wspace=0.2)\n",
    "\n",
    "# Display the plot\n",
    "plt.show()\n"
   ]
  },
  {
   "attachments": {},
   "cell_type": "markdown",
   "metadata": {},
   "source": [
    "3D Interactive Visualization of the Shuttlecock Trajectory"
   ]
  },
  {
   "cell_type": "code",
   "execution_count": 211,
   "metadata": {},
   "outputs": [
    {
     "data": {
      "text/plain": [
       "'interactive_models/normal_regression_trajectory.html'"
      ]
     },
     "execution_count": 211,
     "metadata": {},
     "output_type": "execute_result"
    }
   ],
   "source": [
    "import plotly.graph_objects as go\n",
    "import plotly.offline as offline\n",
    "\n",
    "# Create a scatter plot for actual trajectory\n",
    "actual_trace = go.Scatter3d(x=y_actual_coords['SHUTTLECOCK POSITIION IN AIR(X) metres'],\n",
    "                            y=y_actual_coords['SHUTTLECOCK POSITIION IN AIR(Y) metres'],\n",
    "                            z=y_actual_coords['SHUTTLECOCK POSITIION IN AIR(Z) metres'],\n",
    "                            mode='markers',\n",
    "                            marker=dict(color='blue'),\n",
    "                            name='Actual Trajectory')\n",
    "\n",
    "# Create a scatter plot for predicted trajectory using Random Forest Regressor\n",
    "predicted_trace_RF = go.Scatter3d(x=predicted_trajectory_points_RT[:, 0],\n",
    "                                  y=predicted_trajectory_points_RT[:, 1],\n",
    "                                  z=predicted_trajectory_points_RT[:, 2],\n",
    "                                  mode='markers',\n",
    "                                  marker=dict(color='red'),\n",
    "                                  name='Predicted Trajectory (Random Forest)')\n",
    "\n",
    "# Create a scatter plot for predicted trajectory using Extra Trees Regressor\n",
    "predicted_trace_ET = go.Scatter3d(x=predicted_trajectory_points_ET[:, 0],\n",
    "                                  y=predicted_trajectory_points_ET[:, 1],\n",
    "                                  z=predicted_trajectory_points_ET[:, 2],\n",
    "                                  mode='markers',\n",
    "                                  marker=dict(color='green'),\n",
    "                                  name='Predicted Trajectory (Extra Trees)')\n",
    "\n",
    "# Set the data trace\n",
    "data = [actual_trace, predicted_trace_RF, predicted_trace_ET]\n",
    "\n",
    "# Set layout and title\n",
    "layout = go.Layout(\n",
    "    scene=dict(\n",
    "        xaxis_title='X',\n",
    "        yaxis_title='Y',\n",
    "        zaxis_title='Z',\n",
    "        xaxis=dict(range=[-15, 15]),  # Set X-axis range\n",
    "        yaxis=dict(range=[-15, 15]),  # Set Y-axis range\n",
    "        zaxis=dict(range=[0, 15])     # Set Z-axis range\n",
    "    ),\n",
    "    title='Actual vs Predicted Trajectory'\n",
    ")\n",
    "\n",
    "# Create the figure\n",
    "fig = go.Figure(data=data, layout=layout)\n",
    "\n",
    "# Save the plot as an HTML file\n",
    "offline.plot(fig, filename='interactive_models/normal_regression_trajectory.html')\n"
   ]
  },
  {
   "attachments": {},
   "cell_type": "markdown",
   "metadata": {},
   "source": [
    "### ROBOT - Shuttlecock Trajectory Estimation"
   ]
  },
  {
   "cell_type": "code",
   "execution_count": 212,
   "metadata": {},
   "outputs": [
    {
     "name": "stdout",
     "output_type": "stream",
     "text": [
      "Is predicted Regression Tree (RT) within court:  False\n",
      "Is predicted Extra Tree (ET) within court:  False\n",
      "Average XYZ of Estimated Shuttlecock Position: [9.47802794 6.91191088 0.05786129]\n"
     ]
    },
    {
     "data": {
      "application/vnd.plotly.v1+json": {
       "config": {
        "plotlyServerURL": "https://plot.ly"
       },
       "data": [
        {
         "marker": {
          "color": "blue",
          "size": 2
         },
         "mode": "markers",
         "name": "True Values",
         "opacity": 0.7,
         "type": "scatter3d",
         "x": [
          4.07692371,
          4.15318543,
          4.227445952,
          4.302452646,
          4.378770944,
          4.449487971,
          4.523241171,
          4.595701756,
          4.668130233,
          4.741144203,
          4.810700996,
          4.879808625,
          4.951043719,
          5.019513693,
          5.089454364,
          5.157148991,
          5.22797924,
          5.293185486,
          5.361507266,
          5.427215,
          5.491404101,
          5.557159365,
          5.620847526,
          5.68497975,
          5.750981181,
          5.813906002,
          5.875695374,
          5.939432575,
          5.999244828,
          6.060172449,
          6.121391174,
          6.181217963,
          6.241714916,
          6.298545148,
          6.356780499,
          6.414594751,
          6.472864532,
          6.52946351,
          6.584570847,
          6.641448604,
          6.697064559,
          6.752340209,
          6.806479488,
          6.857896302,
          6.913462246,
          6.964633948,
          7.019697852,
          7.069031597,
          7.118511468,
          7.171012656,
          7.219348945,
          7.270453491,
          7.317781883,
          7.365405952,
          7.415481297,
          7.461065709,
          7.508081441,
          7.554115231,
          7.599668737,
          7.646095423,
          7.690452888,
          7.734113772,
          7.778073256,
          7.822349723,
          7.863600582,
          7.90493988,
          7.9468131,
          7.988589398,
          8.029298512,
          8.069170765,
          8.107906568,
          8.147191952,
          8.18393089,
          8.22000008,
          8.259588802,
          8.296191369,
          8.33245053,
          8.368022945,
          8.40404941,
          8.438782209,
          8.472375475,
          8.505557782,
          8.538021223,
          8.570048765,
          8.603870452,
          8.634935875,
          8.665328135,
          8.696429419,
          8.725485745,
          8.755603826,
          8.783457767,
          8.812307109,
          8.839925573,
          8.866620861,
          8.896105601,
          8.919435246,
          8.944366985,
          8.971780939,
          8.995410091,
          9.020343248,
          9.043072404,
          9.065665088,
          9.087727417,
          9.109237425,
          9.131412981,
          9.1528815,
          9.172983693,
          9.192292855,
          9.21209283,
          9.229742879,
          9.247499276,
          9.265840526,
          9.284125148,
          9.300170966,
          9.315279813,
          9.332936051,
          9.348619882,
          9.361615701,
          9.376172676,
          9.390024682,
          9.402200337,
          9.415307177,
          9.427864438,
          9.437734518,
          9.447993937,
          9.45844299,
          9.469282458,
          9.479095411
         ],
         "y": [
          2.069262419,
          2.137928781,
          2.204793255,
          2.272329586,
          2.34104689,
          2.404720787,
          2.471128467,
          2.536372271,
          2.601587164,
          2.667329238,
          2.729958456,
          2.792183244,
          2.856323611,
          2.917974253,
          2.980949116,
          3.041901632,
          3.105677474,
          3.164389442,
          3.225906649,
          3.285070158,
          3.342866285,
          3.40207259,
          3.459417668,
          3.517162582,
          3.576590537,
          3.6332483,
          3.6888837,
          3.746272934,
          3.800128129,
          3.854987605,
          3.910109192,
          3.963977476,
          4.018449176,
          4.069619347,
          4.122054693,
          4.174110879,
          4.226577225,
          4.277539174,
          4.327158044,
          4.378371006,
          4.428447837,
          4.478218256,
          4.526965481,
          4.573261388,
          4.623293189,
          4.669368396,
          4.718948158,
          4.763368462,
          4.807920338,
          4.85519262,
          4.89871481,
          4.94472955,
          4.987344225,
          5.03022513,
          5.075313173,
          5.116357562,
          5.158690717,
          5.200139728,
          5.241156289,
          5.282959065,
          5.322898706,
          5.362211142,
          5.401792439,
          5.44165915,
          5.47880159,
          5.516023661,
          5.553726477,
          5.591342025,
          5.627996675,
          5.663897814,
          5.698775688,
          5.734148406,
          5.767228294,
          5.799705139,
          5.835350984,
          5.868308084,
          5.900955979,
          5.932985525,
          5.9654239,
          5.996697453,
          6.026944966,
          6.056822449,
          6.086052662,
          6.11489039,
          6.145343574,
          6.173315007,
          6.200680321,
          6.228684043,
          6.254846476,
          6.281964918,
          6.307044719,
          6.333020783,
          6.35788856,
          6.381925105,
          6.408473284,
          6.429479392,
          6.451928029,
          6.476611665,
          6.497887449,
          6.520337364,
          6.540802789,
          6.561145332,
          6.581010342,
          6.600378041,
          6.620345001,
          6.639675342,
          6.657775438,
          6.675161486,
          6.692989463,
          6.708881639,
          6.72486957,
          6.741384106,
          6.757847654,
          6.772295373,
          6.78589944,
          6.801797188,
          6.815918973,
          6.827620461,
          6.84072762,
          6.853200023,
          6.864163031,
          6.875964483,
          6.887271092,
          6.896158151,
          6.905395774,
          6.914804144,
          6.924564044,
          6.933399667
         ],
         "z": [
          2.664257457,
          2.724961584,
          2.786746222,
          2.846154592,
          2.904639872,
          2.963296632,
          3.019141418,
          3.074073984,
          3.128789016,
          3.181158406,
          3.233090233,
          3.28351253,
          3.332372258,
          3.380875827,
          3.428365011,
          3.474357961,
          3.520635748,
          3.566207952,
          3.611123177,
          3.651863623,
          3.695587593,
          3.737883514,
          3.777355745,
          3.818219587,
          3.856584314,
          3.894100366,
          3.93133155,
          3.968711758,
          4.00309374,
          4.036152163,
          4.070879808,
          4.104015636,
          4.136303897,
          4.1693235,
          4.19964463,
          4.228820561,
          4.261563883,
          4.286990341,
          4.316357064,
          4.341355779,
          4.366972771,
          4.394830188,
          4.416227651,
          4.441304708,
          4.4631845,
          4.485692158,
          4.50489121,
          4.525258964,
          4.54284626,
          4.563425188,
          4.579468269,
          4.596990986,
          4.611841983,
          4.625630925,
          4.638867317,
          4.651975946,
          4.66043841,
          4.672145445,
          4.680648191,
          4.687258259,
          4.694618286,
          4.699469284,
          4.704016393,
          4.706025675,
          4.708429417,
          4.706692814,
          4.708439157,
          4.703756213,
          4.698856719,
          4.694576246,
          4.686993838,
          4.67692779,
          4.670005749,
          4.655374648,
          4.643559077,
          4.629020689,
          4.609100455,
          4.594413511,
          4.572508805,
          4.549429536,
          4.523828278,
          4.498074074,
          4.469541004,
          4.436736188,
          4.40555937,
          4.370955135,
          4.33165318,
          4.292715483,
          4.252083828,
          4.209081714,
          4.161786922,
          4.110468683,
          4.059754974,
          4.004251162,
          3.945114512,
          3.88592921,
          3.823585624,
          3.757870297,
          3.688784448,
          3.616613983,
          3.540166082,
          3.463433924,
          3.381285166,
          3.29512677,
          3.207428335,
          3.113692032,
          3.021023319,
          2.919365532,
          2.815376582,
          2.709926859,
          2.60006698,
          2.483672118,
          2.366752539,
          2.244371344,
          2.116586268,
          1.986179493,
          1.848836328,
          1.710025233,
          1.566154596,
          1.41512885,
          1.260014079,
          1.10055531,
          0.938541721,
          0.769769069,
          0.595067792,
          0.41640157,
          0.230224423,
          0.041471295
         ]
        },
        {
         "marker": {
          "color": "red",
          "size": 2
         },
         "mode": "markers",
         "name": "Predicted Values (Random Forest)",
         "opacity": 0.7,
         "type": "scatter3d",
         "x": [
          4.076677977952785,
          4.152417439844906,
          4.227526589395768,
          4.302524510257011,
          4.376516582037356,
          4.4524027481658734,
          4.524088023174852,
          4.609303273808096,
          4.660806623074917,
          4.747748881546914,
          4.807343202063745,
          4.88299959023053,
          4.948635014240257,
          5.015396231330662,
          5.097080576001586,
          5.158856763076858,
          5.227018678998681,
          5.295728881533574,
          5.360655391176227,
          5.430096343225674,
          5.485732101405948,
          5.565756906678417,
          5.629125610676542,
          5.680640379706781,
          5.754277411523902,
          5.820438041062926,
          5.8884675544779865,
          5.935426150774512,
          5.978924793686559,
          6.055538058007699,
          6.131824156807783,
          6.181696778029853,
          6.245450262784512,
          6.30489798494904,
          6.353134467949068,
          6.417756269129971,
          6.473089546574446,
          6.534925126754063,
          6.589240034546603,
          6.643329174261287,
          6.700274736651618,
          6.756912604013829,
          6.80215073336763,
          6.864781391827312,
          6.906893697771511,
          6.9582550844283855,
          7.014423351383075,
          7.069140288297172,
          7.118433871300181,
          7.171703899702895,
          7.21690260648188,
          7.268927353158849,
          7.31725563347728,
          7.36768843041485,
          7.417277626005625,
          7.465388960344849,
          7.51203104488811,
          7.56530288187999,
          7.602290263829448,
          7.649203879926338,
          7.687274315944375,
          7.740194492942675,
          7.784216050835244,
          7.821245100475576,
          7.852041686271296,
          7.895669189401428,
          7.928815561354797,
          7.975684790109817,
          8.022551928225143,
          8.063568279745295,
          8.10428618753321,
          8.1405578826717,
          8.16970708546961,
          8.210831756370219,
          8.249029516998599,
          8.29090231049786,
          8.32864678301666,
          8.361528215552518,
          8.393925461661121,
          8.426692170952924,
          8.462918134935128,
          8.501732436845653,
          8.530489018810883,
          8.56358133350061,
          8.593148446050932,
          8.622926936003488,
          8.658193326447487,
          8.687059218075838,
          8.71623649931904,
          8.748669257224114,
          8.773511908125814,
          8.805051442921023,
          8.830798152594264,
          8.858009113107046,
          8.88827525109234,
          8.913227993067942,
          8.944469401953024,
          8.967695032868633,
          8.989788935058872,
          9.013496949769097,
          9.037756836478176,
          9.06084995275092,
          9.085300305242294,
          9.102270891750587,
          9.127321435689083,
          9.15004532573593,
          9.169902081661684,
          9.189524909213455,
          9.208951006475923,
          9.22686951950357,
          9.246814435988863,
          9.26208754730843,
          9.282713359100068,
          9.298766623981074,
          9.314734476395984,
          9.330756810057075,
          9.346284054782725,
          9.360568512605772,
          9.37495142783909,
          9.389377745040937,
          9.400515847793764,
          9.415127495892483,
          9.42646339321832,
          9.436657812837096,
          9.44756180079728,
          9.45902661512336,
          9.46918786920748,
          9.476960459907463
         ],
         "y": [
          2.069812117737117,
          2.139758904532698,
          2.2077447025045074,
          2.2791213087118196,
          2.347274299141436,
          2.4182472636845596,
          2.4832960277910856,
          2.5535831639435806,
          2.593063618130915,
          2.6637010528025824,
          2.72642665365051,
          2.7981515048028753,
          2.8471096663549122,
          2.9112420254617692,
          3.003005981655852,
          3.058630063936533,
          3.118093007448712,
          3.1758148288841137,
          3.232680901222675,
          3.288482739605911,
          3.3404133593684224,
          3.4283168507840123,
          3.4871456263163174,
          3.536243249574099,
          3.6004587770197376,
          3.658306615923994,
          3.7153269222378644,
          3.7509664835512937,
          3.7858474793403274,
          3.852963633609902,
          3.928192162422335,
          3.9701605479256403,
          4.022266835720681,
          4.072805058805984,
          4.118496896204104,
          4.174393149965011,
          4.222770505581596,
          4.2767268378138565,
          4.330271507733541,
          4.383178444385268,
          4.433548659105511,
          4.486505701337876,
          4.526889888218554,
          4.578360570880145,
          4.614202853167903,
          4.660579248365326,
          4.711989916412578,
          4.76120043545183,
          4.80739299924177,
          4.849536155928391,
          4.890583082768581,
          4.936840000820963,
          4.983918170365429,
          5.022633904679992,
          5.071155171506303,
          5.11140940329842,
          5.1525015959684834,
          5.1995091002195055,
          5.232918254742966,
          5.271722283934337,
          5.307278644247074,
          5.353866615700786,
          5.393951589783472,
          5.427471296016267,
          5.452535808985582,
          5.494642591224498,
          5.527467613775135,
          5.568579833977286,
          5.6159523100118145,
          5.647647502832838,
          5.682976958192297,
          5.714312640106195,
          5.740828902772811,
          5.774234185781784,
          5.811206590135007,
          5.8483290013425036,
          5.881264252068447,
          5.907737250365102,
          5.933442024095449,
          5.965158805928365,
          5.995232041127321,
          6.034257366440647,
          6.064310590306303,
          6.090384550997377,
          6.11913413812293,
          6.151658534089555,
          6.181847805389753,
          6.20745024915247,
          6.232946086718922,
          6.265260058520855,
          6.286648319449675,
          6.312983647528322,
          6.331647078895987,
          6.3545997093335815,
          6.38168087229862,
          6.407422512677339,
          6.434177761747566,
          6.448859396647698,
          6.473055217882316,
          6.491248414166629,
          6.513985502094291,
          6.538209868466228,
          6.557753052516805,
          6.576017785592991,
          6.597960845650955,
          6.619748813675479,
          6.632163081946827,
          6.636536437058621,
          6.6559619585425756,
          6.6686293670791486,
          6.694354174734488,
          6.704317191931818,
          6.71880321285641,
          6.736651041031995,
          6.75826379086892,
          6.782479448985,
          6.792641897312609,
          6.805934988026535,
          6.816006305769475,
          6.8340645449630015,
          6.836313837175834,
          6.856488894294151,
          6.852876688433324,
          6.864096207232922,
          6.876328113810082,
          6.8790294605338325,
          6.878289322590831,
          6.890422084249999
         ],
         "z": [
          2.6641316415187974,
          2.7258556528202194,
          2.7870293069301204,
          2.8463434963675796,
          2.905229485926766,
          2.964334380594357,
          3.018655312571697,
          3.083823848946272,
          3.1227372263404574,
          3.1860369882835147,
          3.2292684473855484,
          3.2842873424413703,
          3.3308833319569477,
          3.3776386243114858,
          3.433740980913792,
          3.4759431957238474,
          3.522146828872008,
          3.5677832532192064,
          3.6103739802624193,
          3.6554892053717007,
          3.6914545930746256,
          3.742524885437661,
          3.7820650952403514,
          3.8138101399036874,
          3.8587993042624076,
          3.8984814369297514,
          3.9386790385181394,
          3.9661613690769695,
          3.9914184526293526,
          4.03499499405643,
          4.077830515800892,
          4.105092749697698,
          4.139698741491704,
          4.1717901536106545,
          4.197187314356612,
          4.230875099121275,
          4.259366813808572,
          4.290471247655776,
          4.316947578582055,
          4.342301470363152,
          4.36893180529,
          4.395025933007996,
          4.415438657032915,
          4.4427296974221635,
          4.460559489444823,
          4.4817902536949115,
          4.504067235781516,
          4.525036080423122,
          4.54328456922429,
          4.5623733169564895,
          4.578017512772693,
          4.595232849803823,
          4.61031011002309,
          4.625042162504214,
          4.638372363256791,
          4.650602851215464,
          4.661071444298043,
          4.6724334886726115,
          4.679332265868436,
          4.686957431436694,
          4.692323502960921,
          4.698331525363564,
          4.702037097673719,
          4.704291615662864,
          4.705503264474389,
          4.706025701201017,
          4.705450702662982,
          4.702914835774244,
          4.698418021369148,
          4.692989249571064,
          4.686089630367423,
          4.67825984450916,
          4.670748549258098,
          4.658363099226609,
          4.645016322837055,
          4.628187636875194,
          4.610860834973336,
          4.594474466644857,
          4.5757183962400525,
          4.55466231313835,
          4.528667483798063,
          4.498445114439244,
          4.473582618743413,
          4.442657057681414,
          4.413024034931912,
          4.3809049236712445,
          4.338664864655382,
          4.301681614196299,
          4.26204373106409,
          4.215062103391812,
          4.175381929704059,
          4.121311900732343,
          4.0738410812101815,
          4.0202170915563284,
          3.9559260760251957,
          3.899044496815104,
          3.8233126685856447,
          3.763843205824979,
          3.7027701101475854,
          3.6335870346142243,
          3.5563073645764587,
          3.477151483607591,
          3.38831562863805,
          3.3225847383577136,
          3.221043929637097,
          3.122945902512047,
          3.0311880620682485,
          2.9331302285996284,
          2.8291730407971203,
          2.7269882182978233,
          2.6051853890317047,
          2.508196212398288,
          2.3716807273468334,
          2.2529607579096664,
          2.124039343983248,
          1.9987991964662535,
          1.8622401415801926,
          1.7193054211966108,
          1.575845590997855,
          1.4193292164098321,
          1.2800173940379174,
          1.0961381165116686,
          0.9465810987991691,
          0.7872321436550019,
          0.606329411003333,
          0.41074718031016666,
          0.22550261854583342,
          0.07425128910499974
         ]
        },
        {
         "marker": {
          "color": "green",
          "size": 2
         },
         "mode": "markers",
         "name": "Predicted Values (Extra Trees)",
         "opacity": 0.7,
         "type": "scatter3d",
         "x": [
          4.0769237100000035,
          4.153185430000004,
          4.227445951999996,
          4.302452646000005,
          4.378770943999997,
          4.449487970999997,
          4.523241170999996,
          4.595701755999994,
          4.668130233,
          4.74114420299999,
          4.8107009959999925,
          4.879808625000006,
          4.951043718999995,
          5.019513693000008,
          5.089454364000004,
          5.157148990999989,
          5.22797924000001,
          5.293185486000011,
          5.361507265999993,
          5.427214999999997,
          5.491404100999996,
          5.557159365000003,
          5.620847525999994,
          5.6849797500000125,
          5.750981180999995,
          5.813906002000001,
          5.875695373999987,
          5.939432575000001,
          5.999244827999986,
          6.060172448999995,
          6.121391173999997,
          6.1812179629999955,
          6.24171491599999,
          6.298545148000008,
          6.3567804990000125,
          6.41459475099999,
          6.472864532000008,
          6.529463510000016,
          6.584570847000006,
          6.641448603999991,
          6.697064558999996,
          6.7523402089999935,
          6.806479488000003,
          6.8578963019999835,
          6.9134622459999955,
          6.964633948000017,
          7.019697852000004,
          7.069031597000009,
          7.118511467999991,
          7.171012656000008,
          7.2193489449999895,
          7.270453491000009,
          7.31778188299999,
          7.3654059519999855,
          7.41548129700001,
          7.461065708999997,
          7.508081440999984,
          7.554115230999998,
          7.599668737000001,
          7.646095423000012,
          7.69045288799999,
          7.734113772,
          7.778073255999999,
          7.822349723000001,
          7.863600582000003,
          7.9049398800000015,
          7.946813099999988,
          7.988589398000011,
          8.029298511999995,
          8.069170764999994,
          8.107906567999985,
          8.147191951999991,
          8.18393089000002,
          8.220000079999986,
          8.25958880200002,
          8.296191368999992,
          8.332450529999988,
          8.368022945000005,
          8.404049409999997,
          8.438782209000008,
          8.472375475000009,
          8.50555778199999,
          8.538021222999989,
          8.570048765000017,
          8.603870452000017,
          8.634935874999998,
          8.665328134999989,
          8.696429418999994,
          8.725485745000013,
          8.755603825999994,
          8.783457766999986,
          8.81230710900001,
          8.839925572999986,
          8.866620861,
          8.896105601000015,
          8.91943524600001,
          8.94436698499999,
          8.971780939000014,
          8.995410091000021,
          9.02034324800001,
          9.043072403999988,
          9.065665087999978,
          9.087727416999998,
          9.109237424999979,
          9.131412981000013,
          9.152881500000012,
          9.172983692999994,
          9.192292855000003,
          9.212092829999985,
          9.229742879000012,
          9.247499275999987,
          9.26584052600001,
          9.284125148000014,
          9.300170965999998,
          9.315279812999986,
          9.332936051000017,
          9.348619881999987,
          9.361615701000003,
          9.376172676000008,
          9.390024681999991,
          9.402200336999984,
          9.415307177000015,
          9.427864438000022,
          9.437734517999985,
          9.447993936999985,
          9.458442989999988,
          9.469282457999983,
          9.479095411000001
         ],
         "y": [
          2.0692624190000033,
          2.137928781,
          2.204793254999999,
          2.2723295860000046,
          2.3410468900000008,
          2.404720787000002,
          2.471128467,
          2.5363722710000034,
          2.6015871639999966,
          2.6673292380000015,
          2.729958455999998,
          2.792183244,
          2.856323610999995,
          2.9179742530000055,
          2.9809491159999992,
          3.041901632,
          3.1056774740000033,
          3.1643894419999983,
          3.225906649000002,
          3.285070157999997,
          3.342866285000008,
          3.402072589999994,
          3.4594176679999986,
          3.5171625820000054,
          3.576590537,
          3.633248299999995,
          3.6888837000000034,
          3.7462729339999936,
          3.800128128999991,
          3.854987605000004,
          3.9101091919999944,
          3.963977476000007,
          4.018449175999994,
          4.0696193470000095,
          4.122054692999996,
          4.174110879000008,
          4.226577225000011,
          4.277539174000009,
          4.32715804399999,
          4.378371006000005,
          4.428447837000006,
          4.478218255999995,
          4.526965480999994,
          4.573261387999995,
          4.623293188999993,
          4.669368395999994,
          4.718948157999993,
          4.763368462000005,
          4.807920337999989,
          4.85519262000001,
          4.89871481,
          4.94472954999999,
          4.987344225000004,
          5.030225130000008,
          5.075313172999994,
          5.116357562000007,
          5.15869071700001,
          5.200139728000006,
          5.241156289,
          5.282959065,
          5.322898705999995,
          5.362211141999991,
          5.401792439000007,
          5.441659150000005,
          5.478801589999993,
          5.516023661000005,
          5.553726477000002,
          5.5913420250000065,
          5.627996675000004,
          5.663897814000002,
          5.698775688000003,
          5.734148405999992,
          5.767228294000005,
          5.799705139000013,
          5.835350984000001,
          5.868308083999989,
          5.900955978999995,
          5.932985525000003,
          5.965423900000008,
          5.996697453000013,
          6.026944965999986,
          6.056822448999998,
          6.086052661999998,
          6.114890390000016,
          6.145343573999991,
          6.173315007000005,
          6.2006803210000045,
          6.2286840429999994,
          6.254846476000008,
          6.281964917999983,
          6.307044718999997,
          6.333020783000007,
          6.357888559999995,
          6.381925105000006,
          6.408473284000013,
          6.429479391999998,
          6.4519280289999905,
          6.476611664999995,
          6.497887449000009,
          6.520337364000012,
          6.5408027890000096,
          6.561145332000012,
          6.58101034200001,
          6.600378041,
          6.620345000999999,
          6.639675341999999,
          6.657775438000003,
          6.67516148599999,
          6.692989463000003,
          6.708881639000002,
          6.724869570000007,
          6.741384106000013,
          6.757847653999992,
          6.772295373000011,
          6.785899439999989,
          6.8017971880000125,
          6.815918972999993,
          6.827620461000004,
          6.840727620000011,
          6.853200023,
          6.864163030999986,
          6.875964482999995,
          6.887271091999994,
          6.896158151000006,
          6.905395774,
          6.9148041439999925,
          6.924564044000011,
          6.933399667000002
         ],
         "z": [
          2.664257456999997,
          2.724961584000001,
          2.786746222000001,
          2.846154592000003,
          2.9046398719999984,
          2.963296632000001,
          3.0191414180000025,
          3.0740739839999964,
          3.1287890160000025,
          3.181158406000004,
          3.2330902330000013,
          3.283512529999997,
          3.332372258000003,
          3.380875827000006,
          3.4283650109999986,
          3.4743579610000053,
          3.520635748000002,
          3.566207952000008,
          3.611123177000006,
          3.6518636229999974,
          3.695587593000008,
          3.7378835139999946,
          3.7773557450000044,
          3.8182195869999918,
          3.856584313999993,
          3.8941003659999933,
          3.9313315499999963,
          3.9687117579999978,
          4.003093739999998,
          4.036152162999998,
          4.07087980799999,
          4.10401563599999,
          4.136303897000004,
          4.169323500000004,
          4.199644630000007,
          4.228820561000007,
          4.261563883000004,
          4.286990340999994,
          4.316357063999991,
          4.341355779000009,
          4.366972771000007,
          4.39483018800001,
          4.416227650999989,
          4.441304708000005,
          4.463184500000008,
          4.485692158000005,
          4.504891209999995,
          4.525258963999992,
          4.542846259999991,
          4.563425187999997,
          4.579468269000006,
          4.596990985999993,
          4.611841982999992,
          4.625630924999997,
          4.638867317000005,
          4.651975945999994,
          4.660438409999995,
          4.672145445000009,
          4.680648190999992,
          4.68725825899999,
          4.694618285999992,
          4.699469283999989,
          4.704016393000006,
          4.706025674999993,
          4.708429416999994,
          4.706692814000006,
          4.70843915699999,
          4.703756213000007,
          4.698856718999995,
          4.694576245999998,
          4.686993837999993,
          4.676927789999992,
          4.670005748999995,
          4.6553746480000076,
          4.643559077000008,
          4.629020689000003,
          4.60910045499999,
          4.594413511000012,
          4.572508804999996,
          4.549429535999995,
          4.523828277999997,
          4.498074073999991,
          4.469541004000006,
          4.4367361879999985,
          4.405559369999995,
          4.370955134999991,
          4.331653179999993,
          4.292715482999996,
          4.252083828000008,
          4.2090817139999945,
          4.161786921999993,
          4.110468683000005,
          4.059754973999991,
          4.004251162000002,
          3.9451145119999933,
          3.8859292099999903,
          3.8235856239999935,
          3.7578702970000064,
          3.6887844479999967,
          3.6166139829999953,
          3.5401660820000003,
          3.4634339239999985,
          3.3812851659999983,
          3.2951267700000035,
          3.207428334999997,
          3.113692031999999,
          3.0210233189999958,
          2.9193655319999965,
          2.8153765819999994,
          2.7099268590000047,
          2.6000669800000025,
          2.483672117999994,
          2.3667525390000033,
          2.2443713440000006,
          2.1165862679999985,
          1.9861794930000016,
          1.8488363280000024,
          1.7100252330000019,
          1.5661545959999992,
          1.4151288500000012,
          1.260014079000001,
          1.1005553100000012,
          0.9385417210000022,
          0.7697690690000002,
          0.5950677920000014,
          0.41640156999999994,
          0.23022442299999957,
          0.04147129500000001
         ]
        },
        {
         "line": {
          "color": "black",
          "width": 1
         },
         "mode": "lines",
         "name": "Court Boundaries",
         "type": "scatter3d",
         "x": [
          0,
          13.4,
          13.4,
          0,
          0
         ],
         "y": [
          0,
          0,
          5.18,
          5.18,
          0
         ],
         "z": [
          0,
          0,
          0,
          0,
          0
         ]
        },
        {
         "line": {
          "color": "black",
          "width": 1
         },
         "mode": "lines",
         "name": "Center Line",
         "type": "scatter3d",
         "x": [
          0,
          4.68,
          4.68,
          0,
          0
         ],
         "y": [
          2.59,
          2.59,
          2.59,
          2.59,
          2.59
         ],
         "z": [
          0,
          0,
          0,
          0,
          0
         ]
        },
        {
         "line": {
          "color": "black",
          "width": 1
         },
         "mode": "lines",
         "name": "Center Line",
         "type": "scatter3d",
         "x": [
          8.72,
          13.4
         ],
         "y": [
          2.59,
          2.59
         ],
         "z": [
          0,
          0,
          0,
          0,
          0
         ]
        },
        {
         "line": {
          "color": "black",
          "width": 1
         },
         "mode": "lines",
         "name": "Short Service Lines",
         "type": "scatter3d",
         "x": [
          4.72,
          4.72
         ],
         "y": [
          0,
          5.18
         ],
         "z": [
          0,
          0
         ]
        },
        {
         "line": {
          "color": "black",
          "width": 1
         },
         "mode": "lines",
         "name": "Short Service Lines",
         "type": "scatter3d",
         "x": [
          8.680000000000001,
          8.680000000000001
         ],
         "y": [
          0,
          5.18
         ],
         "z": [
          0,
          0
         ]
        },
        {
         "line": {
          "color": "red",
          "width": 1
         },
         "mode": "lines",
         "name": "Net",
         "type": "scatter3d",
         "x": [
          6.7,
          6.7
         ],
         "y": [
          0,
          5.18
         ],
         "z": [
          1.55,
          1.55
         ]
        },
        {
         "line": {
          "color": "green",
          "width": 5
         },
         "marker": {
          "color": "cyan",
          "line": {
           "color": "black",
           "width": 4
          },
          "size": 10,
          "symbol": "cross"
         },
         "mode": "lines+markers",
         "name": "Predicted Position",
         "opacity": 1,
         "type": "scatter3d",
         "x": [
          9.478027935453731
         ],
         "y": [
          6.911910875625001
         ],
         "z": [
          0.057861292052499874
         ]
        },
        {
         "line": {
          "color": "green",
          "width": 5
         },
         "marker": {
          "color": "cyan",
          "line": {
           "color": "black",
           "width": 4
          },
          "size": 6,
          "symbol": "diamond"
         },
         "mode": "lines+markers",
         "name": "Average Highest XYZ-point",
         "opacity": 1,
         "type": "scatter3d",
         "x": [
          7.9212411447007085
         ],
         "y": [
          5.5241845341122495
         ],
         "z": [
          4.707232429100504
         ]
        },
        {
         "marker": {
          "color": "black",
          "size": 10
         },
         "mode": "markers",
         "name": "Initial Starting Point (OUT)",
         "opacity": 0.3,
         "type": "scatter3d",
         "x": [
          11.308506761160862
         ],
         "y": [
          2.983603475274685
         ],
         "z": [
          1.115
         ]
        },
        {
         "marker": {
          "color": "black",
          "size": 10
         },
         "mode": "markers",
         "name": "Initial Starting Point (OUT)",
         "opacity": 0.3,
         "type": "scatter3d",
         "x": [
          10.534601244878408
         ],
         "y": [
          3.034528237767486
         ],
         "z": [
          1.115
         ]
        },
        {
         "marker": {
          "color": "black",
          "size": 10
         },
         "mode": "markers",
         "name": "Initial Starting Point (OUT)",
         "opacity": 0.3,
         "type": "scatter3d",
         "x": [
          12.382514483605835
         ],
         "y": [
          2.5260461359502773
         ],
         "z": [
          1.115
         ]
        }
       ],
       "layout": {
        "scene": {
         "aspectmode": "manual",
         "aspectratio": {
          "x": 1,
          "y": 1,
          "z": 1
         },
         "xaxis": {
          "range": [
           -4,
           18
          ],
          "title": {
           "text": "X-coordinate"
          }
         },
         "yaxis": {
          "range": [
           -2,
           7
          ],
          "title": {
           "text": "Y-coordinate"
          }
         },
         "zaxis": {
          "range": [
           0,
           12
          ],
          "title": {
           "text": "Z-coordinate"
          }
         }
        },
        "template": {
         "data": {
          "bar": [
           {
            "error_x": {
             "color": "#2a3f5f"
            },
            "error_y": {
             "color": "#2a3f5f"
            },
            "marker": {
             "line": {
              "color": "#E5ECF6",
              "width": 0.5
             },
             "pattern": {
              "fillmode": "overlay",
              "size": 10,
              "solidity": 0.2
             }
            },
            "type": "bar"
           }
          ],
          "barpolar": [
           {
            "marker": {
             "line": {
              "color": "#E5ECF6",
              "width": 0.5
             },
             "pattern": {
              "fillmode": "overlay",
              "size": 10,
              "solidity": 0.2
             }
            },
            "type": "barpolar"
           }
          ],
          "carpet": [
           {
            "aaxis": {
             "endlinecolor": "#2a3f5f",
             "gridcolor": "white",
             "linecolor": "white",
             "minorgridcolor": "white",
             "startlinecolor": "#2a3f5f"
            },
            "baxis": {
             "endlinecolor": "#2a3f5f",
             "gridcolor": "white",
             "linecolor": "white",
             "minorgridcolor": "white",
             "startlinecolor": "#2a3f5f"
            },
            "type": "carpet"
           }
          ],
          "choropleth": [
           {
            "colorbar": {
             "outlinewidth": 0,
             "ticks": ""
            },
            "type": "choropleth"
           }
          ],
          "contour": [
           {
            "colorbar": {
             "outlinewidth": 0,
             "ticks": ""
            },
            "colorscale": [
             [
              0,
              "#0d0887"
             ],
             [
              0.1111111111111111,
              "#46039f"
             ],
             [
              0.2222222222222222,
              "#7201a8"
             ],
             [
              0.3333333333333333,
              "#9c179e"
             ],
             [
              0.4444444444444444,
              "#bd3786"
             ],
             [
              0.5555555555555556,
              "#d8576b"
             ],
             [
              0.6666666666666666,
              "#ed7953"
             ],
             [
              0.7777777777777778,
              "#fb9f3a"
             ],
             [
              0.8888888888888888,
              "#fdca26"
             ],
             [
              1,
              "#f0f921"
             ]
            ],
            "type": "contour"
           }
          ],
          "contourcarpet": [
           {
            "colorbar": {
             "outlinewidth": 0,
             "ticks": ""
            },
            "type": "contourcarpet"
           }
          ],
          "heatmap": [
           {
            "colorbar": {
             "outlinewidth": 0,
             "ticks": ""
            },
            "colorscale": [
             [
              0,
              "#0d0887"
             ],
             [
              0.1111111111111111,
              "#46039f"
             ],
             [
              0.2222222222222222,
              "#7201a8"
             ],
             [
              0.3333333333333333,
              "#9c179e"
             ],
             [
              0.4444444444444444,
              "#bd3786"
             ],
             [
              0.5555555555555556,
              "#d8576b"
             ],
             [
              0.6666666666666666,
              "#ed7953"
             ],
             [
              0.7777777777777778,
              "#fb9f3a"
             ],
             [
              0.8888888888888888,
              "#fdca26"
             ],
             [
              1,
              "#f0f921"
             ]
            ],
            "type": "heatmap"
           }
          ],
          "heatmapgl": [
           {
            "colorbar": {
             "outlinewidth": 0,
             "ticks": ""
            },
            "colorscale": [
             [
              0,
              "#0d0887"
             ],
             [
              0.1111111111111111,
              "#46039f"
             ],
             [
              0.2222222222222222,
              "#7201a8"
             ],
             [
              0.3333333333333333,
              "#9c179e"
             ],
             [
              0.4444444444444444,
              "#bd3786"
             ],
             [
              0.5555555555555556,
              "#d8576b"
             ],
             [
              0.6666666666666666,
              "#ed7953"
             ],
             [
              0.7777777777777778,
              "#fb9f3a"
             ],
             [
              0.8888888888888888,
              "#fdca26"
             ],
             [
              1,
              "#f0f921"
             ]
            ],
            "type": "heatmapgl"
           }
          ],
          "histogram": [
           {
            "marker": {
             "pattern": {
              "fillmode": "overlay",
              "size": 10,
              "solidity": 0.2
             }
            },
            "type": "histogram"
           }
          ],
          "histogram2d": [
           {
            "colorbar": {
             "outlinewidth": 0,
             "ticks": ""
            },
            "colorscale": [
             [
              0,
              "#0d0887"
             ],
             [
              0.1111111111111111,
              "#46039f"
             ],
             [
              0.2222222222222222,
              "#7201a8"
             ],
             [
              0.3333333333333333,
              "#9c179e"
             ],
             [
              0.4444444444444444,
              "#bd3786"
             ],
             [
              0.5555555555555556,
              "#d8576b"
             ],
             [
              0.6666666666666666,
              "#ed7953"
             ],
             [
              0.7777777777777778,
              "#fb9f3a"
             ],
             [
              0.8888888888888888,
              "#fdca26"
             ],
             [
              1,
              "#f0f921"
             ]
            ],
            "type": "histogram2d"
           }
          ],
          "histogram2dcontour": [
           {
            "colorbar": {
             "outlinewidth": 0,
             "ticks": ""
            },
            "colorscale": [
             [
              0,
              "#0d0887"
             ],
             [
              0.1111111111111111,
              "#46039f"
             ],
             [
              0.2222222222222222,
              "#7201a8"
             ],
             [
              0.3333333333333333,
              "#9c179e"
             ],
             [
              0.4444444444444444,
              "#bd3786"
             ],
             [
              0.5555555555555556,
              "#d8576b"
             ],
             [
              0.6666666666666666,
              "#ed7953"
             ],
             [
              0.7777777777777778,
              "#fb9f3a"
             ],
             [
              0.8888888888888888,
              "#fdca26"
             ],
             [
              1,
              "#f0f921"
             ]
            ],
            "type": "histogram2dcontour"
           }
          ],
          "mesh3d": [
           {
            "colorbar": {
             "outlinewidth": 0,
             "ticks": ""
            },
            "type": "mesh3d"
           }
          ],
          "parcoords": [
           {
            "line": {
             "colorbar": {
              "outlinewidth": 0,
              "ticks": ""
             }
            },
            "type": "parcoords"
           }
          ],
          "pie": [
           {
            "automargin": true,
            "type": "pie"
           }
          ],
          "scatter": [
           {
            "fillpattern": {
             "fillmode": "overlay",
             "size": 10,
             "solidity": 0.2
            },
            "type": "scatter"
           }
          ],
          "scatter3d": [
           {
            "line": {
             "colorbar": {
              "outlinewidth": 0,
              "ticks": ""
             }
            },
            "marker": {
             "colorbar": {
              "outlinewidth": 0,
              "ticks": ""
             }
            },
            "type": "scatter3d"
           }
          ],
          "scattercarpet": [
           {
            "marker": {
             "colorbar": {
              "outlinewidth": 0,
              "ticks": ""
             }
            },
            "type": "scattercarpet"
           }
          ],
          "scattergeo": [
           {
            "marker": {
             "colorbar": {
              "outlinewidth": 0,
              "ticks": ""
             }
            },
            "type": "scattergeo"
           }
          ],
          "scattergl": [
           {
            "marker": {
             "colorbar": {
              "outlinewidth": 0,
              "ticks": ""
             }
            },
            "type": "scattergl"
           }
          ],
          "scattermapbox": [
           {
            "marker": {
             "colorbar": {
              "outlinewidth": 0,
              "ticks": ""
             }
            },
            "type": "scattermapbox"
           }
          ],
          "scatterpolar": [
           {
            "marker": {
             "colorbar": {
              "outlinewidth": 0,
              "ticks": ""
             }
            },
            "type": "scatterpolar"
           }
          ],
          "scatterpolargl": [
           {
            "marker": {
             "colorbar": {
              "outlinewidth": 0,
              "ticks": ""
             }
            },
            "type": "scatterpolargl"
           }
          ],
          "scatterternary": [
           {
            "marker": {
             "colorbar": {
              "outlinewidth": 0,
              "ticks": ""
             }
            },
            "type": "scatterternary"
           }
          ],
          "surface": [
           {
            "colorbar": {
             "outlinewidth": 0,
             "ticks": ""
            },
            "colorscale": [
             [
              0,
              "#0d0887"
             ],
             [
              0.1111111111111111,
              "#46039f"
             ],
             [
              0.2222222222222222,
              "#7201a8"
             ],
             [
              0.3333333333333333,
              "#9c179e"
             ],
             [
              0.4444444444444444,
              "#bd3786"
             ],
             [
              0.5555555555555556,
              "#d8576b"
             ],
             [
              0.6666666666666666,
              "#ed7953"
             ],
             [
              0.7777777777777778,
              "#fb9f3a"
             ],
             [
              0.8888888888888888,
              "#fdca26"
             ],
             [
              1,
              "#f0f921"
             ]
            ],
            "type": "surface"
           }
          ],
          "table": [
           {
            "cells": {
             "fill": {
              "color": "#EBF0F8"
             },
             "line": {
              "color": "white"
             }
            },
            "header": {
             "fill": {
              "color": "#C8D4E3"
             },
             "line": {
              "color": "white"
             }
            },
            "type": "table"
           }
          ]
         },
         "layout": {
          "annotationdefaults": {
           "arrowcolor": "#2a3f5f",
           "arrowhead": 0,
           "arrowwidth": 1
          },
          "autotypenumbers": "strict",
          "coloraxis": {
           "colorbar": {
            "outlinewidth": 0,
            "ticks": ""
           }
          },
          "colorscale": {
           "diverging": [
            [
             0,
             "#8e0152"
            ],
            [
             0.1,
             "#c51b7d"
            ],
            [
             0.2,
             "#de77ae"
            ],
            [
             0.3,
             "#f1b6da"
            ],
            [
             0.4,
             "#fde0ef"
            ],
            [
             0.5,
             "#f7f7f7"
            ],
            [
             0.6,
             "#e6f5d0"
            ],
            [
             0.7,
             "#b8e186"
            ],
            [
             0.8,
             "#7fbc41"
            ],
            [
             0.9,
             "#4d9221"
            ],
            [
             1,
             "#276419"
            ]
           ],
           "sequential": [
            [
             0,
             "#0d0887"
            ],
            [
             0.1111111111111111,
             "#46039f"
            ],
            [
             0.2222222222222222,
             "#7201a8"
            ],
            [
             0.3333333333333333,
             "#9c179e"
            ],
            [
             0.4444444444444444,
             "#bd3786"
            ],
            [
             0.5555555555555556,
             "#d8576b"
            ],
            [
             0.6666666666666666,
             "#ed7953"
            ],
            [
             0.7777777777777778,
             "#fb9f3a"
            ],
            [
             0.8888888888888888,
             "#fdca26"
            ],
            [
             1,
             "#f0f921"
            ]
           ],
           "sequentialminus": [
            [
             0,
             "#0d0887"
            ],
            [
             0.1111111111111111,
             "#46039f"
            ],
            [
             0.2222222222222222,
             "#7201a8"
            ],
            [
             0.3333333333333333,
             "#9c179e"
            ],
            [
             0.4444444444444444,
             "#bd3786"
            ],
            [
             0.5555555555555556,
             "#d8576b"
            ],
            [
             0.6666666666666666,
             "#ed7953"
            ],
            [
             0.7777777777777778,
             "#fb9f3a"
            ],
            [
             0.8888888888888888,
             "#fdca26"
            ],
            [
             1,
             "#f0f921"
            ]
           ]
          },
          "colorway": [
           "#636efa",
           "#EF553B",
           "#00cc96",
           "#ab63fa",
           "#FFA15A",
           "#19d3f3",
           "#FF6692",
           "#B6E880",
           "#FF97FF",
           "#FECB52"
          ],
          "font": {
           "color": "#2a3f5f"
          },
          "geo": {
           "bgcolor": "white",
           "lakecolor": "white",
           "landcolor": "#E5ECF6",
           "showlakes": true,
           "showland": true,
           "subunitcolor": "white"
          },
          "hoverlabel": {
           "align": "left"
          },
          "hovermode": "closest",
          "mapbox": {
           "style": "light"
          },
          "paper_bgcolor": "white",
          "plot_bgcolor": "#E5ECF6",
          "polar": {
           "angularaxis": {
            "gridcolor": "white",
            "linecolor": "white",
            "ticks": ""
           },
           "bgcolor": "#E5ECF6",
           "radialaxis": {
            "gridcolor": "white",
            "linecolor": "white",
            "ticks": ""
           }
          },
          "scene": {
           "xaxis": {
            "backgroundcolor": "#E5ECF6",
            "gridcolor": "white",
            "gridwidth": 2,
            "linecolor": "white",
            "showbackground": true,
            "ticks": "",
            "zerolinecolor": "white"
           },
           "yaxis": {
            "backgroundcolor": "#E5ECF6",
            "gridcolor": "white",
            "gridwidth": 2,
            "linecolor": "white",
            "showbackground": true,
            "ticks": "",
            "zerolinecolor": "white"
           },
           "zaxis": {
            "backgroundcolor": "#E5ECF6",
            "gridcolor": "white",
            "gridwidth": 2,
            "linecolor": "white",
            "showbackground": true,
            "ticks": "",
            "zerolinecolor": "white"
           }
          },
          "shapedefaults": {
           "line": {
            "color": "#2a3f5f"
           }
          },
          "ternary": {
           "aaxis": {
            "gridcolor": "white",
            "linecolor": "white",
            "ticks": ""
           },
           "baxis": {
            "gridcolor": "white",
            "linecolor": "white",
            "ticks": ""
           },
           "bgcolor": "#E5ECF6",
           "caxis": {
            "gridcolor": "white",
            "linecolor": "white",
            "ticks": ""
           }
          },
          "title": {
           "x": 0.05
          },
          "xaxis": {
           "automargin": true,
           "gridcolor": "white",
           "linecolor": "white",
           "ticks": "",
           "title": {
            "standoff": 15
           },
           "zerolinecolor": "white",
           "zerolinewidth": 2
          },
          "yaxis": {
           "automargin": true,
           "gridcolor": "white",
           "linecolor": "white",
           "ticks": "",
           "title": {
            "standoff": 15
           },
           "zerolinecolor": "white",
           "zerolinewidth": 2
          }
         }
        },
        "title": {
         "text": "Shuttlecock Trajectory Estimation"
        }
       }
      }
     },
     "metadata": {},
     "output_type": "display_data"
    },
    {
     "data": {
      "text/plain": [
       "'interactive_models/robot_pred_limited_reg.html'"
      ]
     },
     "execution_count": 212,
     "metadata": {},
     "output_type": "execute_result"
    }
   ],
   "source": [
    "import plotly.graph_objects as go\n",
    "# Define court dimensions\n",
    "court_length_x = 13.4\n",
    "court_length_y = 5.18\n",
    "court_height_skybox = 10\n",
    "court_height_net = 1.55\n",
    "court_length_centerline = 4.68\n",
    "\n",
    "def is_point_within_court(x, y, z, court_length_x, court_length_y, court_height_skybox):\n",
    "    \"\"\"\n",
    "    Check if a point is within the court boundaries.\n",
    "    \n",
    "    Args:\n",
    "        x (float): X-coordinate of the point\n",
    "        y (float): Y-coordinate of the point\n",
    "        z (float): Z-coordinate of the point\n",
    "        court_length_x (float): Length of the court along the X-axis\n",
    "        court_length_y (float): Length of the court along the Y-axis\n",
    "        court_height_skybox (float): Height of the court's skybox\n",
    "    \n",
    "    Returns:\n",
    "        bool: True if the point is within the court boundaries, False otherwise\n",
    "    \"\"\"\n",
    "    return 0 <= x <= court_length_x and 0 <= y <= court_length_y and 0 <= z <= court_height_skybox\n",
    "\n",
    "\n",
    "# Create the 3D scatter plot\n",
    "fig = go.Figure(data=[\n",
    "    go.Scatter3d(\n",
    "        x=y_actual_coords['SHUTTLECOCK POSITIION IN AIR(X) metres'],\n",
    "        y=y_actual_coords['SHUTTLECOCK POSITIION IN AIR(Y) metres'],\n",
    "        z=y_actual_coords['SHUTTLECOCK POSITIION IN AIR(Z) metres'],\n",
    "        mode='markers',\n",
    "        name='True Values',\n",
    "        marker=dict(color='blue', size=2),\n",
    "        opacity=0.7\n",
    "    ),\n",
    "    go.Scatter3d(\n",
    "        x=predicted_trajectory_points_RT[:, 0],\n",
    "        y=predicted_trajectory_points_RT[:, 1],\n",
    "        z=predicted_trajectory_points_RT[:, 2],\n",
    "        mode='markers',\n",
    "        name='Predicted Values (Random Forest)',\n",
    "        marker=dict(color='red', size=2),\n",
    "        opacity=0.7\n",
    "    ),\n",
    "    go.Scatter3d(\n",
    "        x=predicted_trajectory_points_ET[:, 0],\n",
    "        y=predicted_trajectory_points_ET[:, 1],\n",
    "        z=predicted_trajectory_points_ET[:, 2],\n",
    "        mode='markers',\n",
    "        name='Predicted Values (Extra Trees)',\n",
    "        marker=dict(color='green', size=2),\n",
    "        opacity=0.7\n",
    "    ),\n",
    "])\n",
    "\n",
    "# Set plot title and axis labels\n",
    "fig.update_layout(\n",
    "    title='Shuttlecock Trajectory Estimation',\n",
    "    scene=dict(\n",
    "        xaxis_title='X-coordinate',\n",
    "        yaxis_title='Y-coordinate',\n",
    "        zaxis_title='Z-coordinate',\n",
    "        xaxis=dict(range=[-4, 18]),  # Set the range for X-axis\n",
    "        yaxis=dict(range=[-2, 7]),   # Set the range for Y-axis\n",
    "        zaxis=dict(range=[0, 12]),  # Set the range for Z-axis\n",
    "        aspectmode='manual',         # Set the aspect mode to manual for custom scaling\n",
    "        aspectratio=dict(x=1, y=1, z=1)  # Set the aspect ratio for equal scaling of axes\n",
    "    )\n",
    ")\n",
    "\n",
    "# Add court lines to the plot\n",
    "fig.add_trace(go.Scatter3d(\n",
    "    x=[0, court_length_x, court_length_x, 0, 0],\n",
    "    y=[0, 0, court_length_y, court_length_y, 0],\n",
    "    z=[0, 0, 0, 0, 0],\n",
    "    mode='lines',\n",
    "    name='Court Boundaries',\n",
    "    line=dict(color='black', width=1)\n",
    "))\n",
    "\n",
    "fig.add_trace(go.Scatter3d(\n",
    "    x=[0, court_length_centerline, court_length_centerline, 0, 0],\n",
    "    y=[court_length_y / 2, court_length_y / 2, court_length_y / 2, court_length_y / 2, court_length_y / 2],\n",
    "    z=[0, 0, 0, 0, 0],\n",
    "    mode='lines',\n",
    "    name='Center Line',\n",
    "    line=dict(color='black', width=1)\n",
    "))\n",
    "\n",
    "fig.add_trace(go.Scatter3d(\n",
    "    x=[court_length_x - court_length_centerline, court_length_x],\n",
    "    y=[court_length_y / 2, court_length_y / 2],\n",
    "    z=[0, 0, 0, 0, 0],\n",
    "    mode='lines',\n",
    "    name='Center Line',\n",
    "    line=dict(color='black', width=1)\n",
    "))\n",
    "\n",
    "fig.add_trace(go.Scatter3d(\n",
    "    x=[court_length_centerline + 0.04, court_length_centerline + 0.04],\n",
    "    y=[0, court_length_y],\n",
    "    z=[0, 0],\n",
    "    mode='lines',\n",
    "    name='Short Service Lines',\n",
    "    line=dict(color='black', width=1)\n",
    "))\n",
    "\n",
    "fig.add_trace(go.Scatter3d(\n",
    "    x=[court_length_x - court_length_centerline - 0.04, court_length_x - court_length_centerline - 0.04],\n",
    "    y=[0, court_length_y],\n",
    "    z=[0, 0],\n",
    "    mode='lines',\n",
    "    name='Short Service Lines',\n",
    "    line=dict(color='black', width=1)\n",
    "))\n",
    "\n",
    "fig.add_trace(go.Scatter3d(\n",
    "    x=[court_length_x / 2, court_length_x / 2],\n",
    "    y=[0, court_length_y],\n",
    "    z=[court_height_net, court_height_net],\n",
    "    mode='lines',\n",
    "    name='Net',\n",
    "    line=dict(color='red', width=1)\n",
    "))\n",
    "\n",
    "# Initialize variables\n",
    "all_within_court_RT = True\n",
    "all_within_court_ET = True\n",
    "highest_xyz_points_RT = []\n",
    "highest_xyz_points_ET = []\n",
    "highest_z_index_RT = np.argmax(predicted_trajectory_points_RT[:, 2])\n",
    "highest_z_index_ET = np.argmax(predicted_trajectory_points_ET[:, 2])\n",
    "\n",
    "# Check if all predicted values for the RT group are within the court\n",
    "for point in predicted_trajectory_points_RT:\n",
    "    x, y, z = point\n",
    "    if not is_point_within_court(x, y, z, court_length_x, court_length_y, court_height_skybox):\n",
    "        all_within_court_RT = False\n",
    "        break\n",
    "\n",
    "# Check if all predicted values for the ET group are within the court\n",
    "for point in predicted_trajectory_points_ET:\n",
    "    x, y, z = point\n",
    "    if not is_point_within_court(x, y, z, court_length_x, court_length_y, court_height_skybox):\n",
    "        all_within_court_ET = False\n",
    "        break\n",
    "\n",
    "color = \"red\"\n",
    "predict = True\n",
    "placeholder=\"Initial Starting Point (Miss)\"\n",
    "            \n",
    "if not (all_within_court_RT and all_within_court_ET):\n",
    "    color = \"black\"\n",
    "    predict = False\n",
    "    placeholder=\"Initial Starting Point (OUT)\"\n",
    "        \n",
    "highest_xyz_points_RT = predicted_trajectory_points_RT[-1]\n",
    "highest_xyz_point_RT = predicted_trajectory_points_RT[highest_z_index_RT]\n",
    "highest_xyz_points_ET = predicted_trajectory_points_ET[-1]\n",
    "highest_xyz_point_ET = predicted_trajectory_points_ET[highest_z_index_ET]\n",
    "    \n",
    "# Average out the predicted XYZ points\n",
    "average_xyz = np.mean([highest_xyz_points_RT, highest_xyz_points_ET], axis=0)\n",
    "# Average out the highest XYZ points\n",
    "average_highest_xyz = np.mean([highest_xyz_point_RT, highest_xyz_point_ET], axis=0)\n",
    "\n",
    "# Print the count\n",
    "print(\"Is predicted Regression Tree (RT) within court: \", all_within_court_RT)\n",
    "print(\"Is predicted Extra Tree (ET) within court: \", all_within_court_ET)\n",
    "# Print the average XYZ values\n",
    "print(\"Average XYZ of Estimated Shuttlecock Position:\", average_xyz)\n",
    "\n",
    "# Add the average predicted X, Y, and Z points to the graph\n",
    "fig.add_trace(go.Scatter3d(\n",
    "    x=[average_xyz[0]],\n",
    "    y=[average_xyz[1]],\n",
    "    z=[average_xyz[2]],\n",
    "    mode='lines+markers',\n",
    "    name='Predicted Position',\n",
    "    line=dict(color=\"green\", width=5),\n",
    "    marker=dict(symbol=\"cross\", size=10, color=\"cyan\", line=dict(color=\"black\", width=4)),\n",
    "    opacity=1\n",
    "))\n",
    "\n",
    "# Add the average highest X, Y, and Z points to the graph\n",
    "fig.add_trace(go.Scatter3d(\n",
    "    x=[average_highest_xyz[0]],\n",
    "    y=[average_highest_xyz[1]],\n",
    "    z=[average_highest_xyz[2]],\n",
    "    mode='lines+markers',\n",
    "    name='Average Highest XYZ-point',\n",
    "    line=dict(color=\"green\", width=5),\n",
    "    marker=dict(symbol=\"diamond\", size=6, color=\"cyan\", line=dict(color=\"black\", width=4)),\n",
    "    opacity=1\n",
    "))\n",
    "\n",
    "# Calculate the height of the badminton racket from the ground\n",
    "badminton_height = (120 / 100) - (0.17/2)  # -> 0.17/2 assuming we want to hit it somewhere in the middle of the top quarter\n",
    "\n",
    "# Calculate the length and width of the robot\n",
    "robot_length = 20.4 / 100  # Convert length from cm to meters\n",
    "robot_width = 23 / 100  # Convert width from cm to meters\n",
    "\n",
    "# Define the range for the initial starting position\n",
    "x_range = [0, 4.72]\n",
    "y_range = [0, 5.18]\n",
    "\n",
    "# Define number of random positions to test\n",
    "no_of_random_pos = 3\n",
    "\n",
    "for i in range(no_of_random_pos):\n",
    "    # Generate random initial starting position within the specified range\n",
    "    random_initial_x = random.uniform(x_range[0], x_range[1])\n",
    "    random_initial_y = random.uniform(y_range[0], y_range[1])\n",
    "\n",
    "    # Calculate the position where the dummy robot should move to\n",
    "    robot_x = court_length_x - average_xyz[0] - robot_length - random_initial_x\n",
    "    robot_y = court_length_y - average_xyz[1] - robot_width - random_initial_y\n",
    "\n",
    "    # Calculate the distance traveled by the robot\n",
    "    robot_distance = np.sqrt(robot_x ** 2 + robot_y ** 2)\n",
    "    # Calculate the time required for the robot to move to the position\n",
    "    robot_movement_time = robot_distance / 3\n",
    "    if (all_within_court_RT and all_within_court_ET):\n",
    "        print(\"Distance: {:.2f} meters in {:.2f} seconds\".format(robot_distance, robot_movement_time))\n",
    "\n",
    "    # Calculate the adjusted z-coordinate for hitting the shuttlecock\n",
    "    robot_z = average_highest_xyz[2] - badminton_height\n",
    "\n",
    "    # Check if the average highest XYZ-point is within the court and the robot can reach the position before the ball drops\n",
    "    if (\n",
    "        average_xyz[0] >= 0\n",
    "        and average_xyz[0] <= court_length_x\n",
    "        and average_xyz[1] >= 0\n",
    "        and average_xyz[1] <= court_length_y\n",
    "        and average_highest_xyz[2] >= 0\n",
    "        and average_highest_xyz[2] <= court_height_skybox\n",
    "        and robot_movement_time <= 1.5\n",
    "        and robot_z >= 0\n",
    "    ):\n",
    "        # Add the initial starting point of the dummy robot to the graph\n",
    "        fig.add_trace(\n",
    "            go.Scatter3d(\n",
    "                x=[court_length_x - random_initial_x],\n",
    "                y=[court_length_y - random_initial_y],\n",
    "                z=[badminton_height],\n",
    "                mode=\"markers\",\n",
    "                name=\"Initial Starting Point (Hit)\",\n",
    "                marker=dict(color=\"blue\", size=10),\n",
    "                opacity=1,\n",
    "            )\n",
    "        )\n",
    "\n",
    "        # Calculate the (x, y) difference\n",
    "        x_difference = robot_x\n",
    "        y_difference = robot_y\n",
    "        \n",
    "        if (all_within_court_RT and all_within_court_ET):\n",
    "            print(f\"X difference: {x_difference}\")\n",
    "            print(f\"Y difference: {y_difference}\")\n",
    "            print(f\"Time required: {robot_movement_time} seconds\")\n",
    "            print(\"Able to reach and hit on time\")\n",
    "    else:\n",
    "        # Add the initial starting point of the dummy robot to the graph\n",
    "        fig.add_trace(\n",
    "            go.Scatter3d(\n",
    "                x=[court_length_x - random_initial_x],\n",
    "                y=[court_length_y - random_initial_y],\n",
    "                z=[badminton_height],\n",
    "                mode=\"markers\",\n",
    "                name=placeholder,\n",
    "                marker=dict(color=color, size=10),\n",
    "                opacity=0.3,\n",
    "            )\n",
    "        )\n",
    "        \n",
    "        if (all_within_court_RT and all_within_court_ET):\n",
    "            if robot_movement_time > 1.5:\n",
    "                print(f\"X difference: {x_difference}\")\n",
    "                print(f\"Y difference: {y_difference}\")\n",
    "                print(f\"Time required: {robot_movement_time} seconds\")\n",
    "                print(\"Cannot reach on time\")\n",
    "            else:\n",
    "                print(\"Cannot hit\")\n",
    "\n",
    "if (all_within_court_RT and all_within_court_ET):\n",
    "    # Add the point where the dummy robot can hit the ball to the graph\n",
    "    fig.add_trace(\n",
    "        go.Scatter3d(\n",
    "            x=[court_length_x - random_initial_x - robot_x],\n",
    "            y=[court_length_y - random_initial_y - robot_y],\n",
    "            z=[badminton_height],\n",
    "            mode=\"markers\",\n",
    "            name=\"Point to Hit the Ball\",\n",
    "            marker=dict(color=\"green\", size=10),\n",
    "            opacity=1,\n",
    "        )\n",
    ")\n",
    "\n",
    "# Show the 3D plot\n",
    "fig.show()\n",
    "\n",
    "# Save the plot as an HTML file\n",
    "offline.plot(fig, filename='interactive_models/robot_pred_limited_reg.html')"
   ]
  },
  {
   "attachments": {},
   "cell_type": "markdown",
   "metadata": {},
   "source": [
    "## Determine Point for Countermeasures\n",
    "Based on the project specificiations where \n",
    "- robot + badminton height=120cm\n",
    "- racket length is 68cm\n",
    "- robot lenght is 52cm\n",
    "- assuming top quarter of racket is top 17cm\n",
    "We assume that robot countermeasure will happen at Z = 1.2 - (0.17/2) = 1.115 because we want to hit it somewhere in the middle of the top quarter"
   ]
  },
  {
   "cell_type": "code",
   "execution_count": 213,
   "metadata": {},
   "outputs": [],
   "source": [
    "# # filter out records that are under X = 6.7\n",
    "# filtered_df = predicted_trajectory_points_RF_DF[predicted_trajectory_points_RF_DF['X'] > 6.7]\n",
    "\n",
    "# # Determine absolute difference between Z and 1.115 for the filtered dataframe\n",
    "# filtered_df['Z_diff'] = abs(filtered_df['Z'] - 1.115)\n",
    "\n",
    "# # Find the row index with the minimum difference\n",
    "# closest_row_index = filtered_df['Z_diff'].idxmin()\n",
    "\n",
    "# # Access the row with the closest Z value in the filtered dataframe\n",
    "# closest_row = filtered_df.loc[closest_row_index]\n",
    "\n",
    "# # Print the row or perform further operations\n",
    "# print(\"Data Point closest to countermeasure\")\n",
    "# print(closest_row)"
   ]
  },
  {
   "cell_type": "code",
   "execution_count": null,
   "metadata": {},
   "outputs": [],
   "source": []
  }
 ],
 "metadata": {
  "kernelspec": {
   "display_name": "Python 3 (ipykernel)",
   "language": "python",
   "name": "python3"
  },
  "language_info": {
   "codemirror_mode": {
    "name": "ipython",
    "version": 3
   },
   "file_extension": ".py",
   "mimetype": "text/x-python",
   "name": "python",
   "nbconvert_exporter": "python",
   "pygments_lexer": "ipython3",
   "version": "3.9.0"
  }
 },
 "nbformat": 4,
 "nbformat_minor": 2
}
