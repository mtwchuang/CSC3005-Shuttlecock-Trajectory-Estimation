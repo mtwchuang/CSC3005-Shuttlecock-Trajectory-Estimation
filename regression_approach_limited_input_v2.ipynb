{
 "cells": [
  {
   "cell_type": "markdown",
   "metadata": {},
   "source": [
    "# Regression Limited Input Approach\n",
    "This approach assumes that input for both training and testing is just limited to its coordinates (X,Y,Z) and that testing is just using the first trajectory coordinate of an observation group. Based on these coordinates, we will group them up based on their observation groups and generate significant features such as human positions, initial velocity, initial slant angle and initial firing angle using mathematical formulas which will be used to train models for predictions. \n",
    "\n",
    "\n",
    "Random Forest Regressor is used to predict the data points of the trajectory, Decision Tree Classifier is used to determine number of observations an observation groups has. "
   ]
  },
  {
   "cell_type": "markdown",
   "metadata": {},
   "source": [
    "## Importing Libraries and Dependencies"
   ]
  },
  {
   "cell_type": "code",
   "execution_count": 1,
   "metadata": {},
   "outputs": [
    {
     "name": "stdout",
     "output_type": "stream",
     "text": [
      "Looking in indexes: https://pypi.org/simple, https://pypi.ngc.nvidia.com\n",
      "Requirement already satisfied: pandas in c:\\users\\evely\\appdata\\local\\programs\\python\\python310\\lib\\site-packages (1.5.3)\n",
      "Requirement already satisfied: python-dateutil>=2.8.1 in c:\\users\\evely\\appdata\\local\\programs\\python\\python310\\lib\\site-packages (from pandas) (2.8.2)\n",
      "Requirement already satisfied: pytz>=2020.1 in c:\\users\\evely\\appdata\\local\\programs\\python\\python310\\lib\\site-packages (from pandas) (2023.3)\n",
      "Requirement already satisfied: numpy>=1.21.0 in c:\\users\\evely\\appdata\\roaming\\python\\python310\\site-packages (from pandas) (1.23.5)\n",
      "Requirement already satisfied: six>=1.5 in c:\\users\\evely\\appdata\\local\\programs\\python\\python310\\lib\\site-packages (from python-dateutil>=2.8.1->pandas) (1.16.0)\n",
      "Note: you may need to restart the kernel to use updated packages.\n",
      "Looking in indexes: https://pypi.org/simple, https://pypi.ngc.nvidia.com\n",
      "Requirement already satisfied: matplotlib in c:\\users\\evely\\appdata\\local\\programs\\python\\python310\\lib\\site-packages (3.6.2)\n",
      "Requirement already satisfied: contourpy>=1.0.1 in c:\\users\\evely\\appdata\\local\\programs\\python\\python310\\lib\\site-packages (from matplotlib) (1.0.6)\n",
      "Requirement already satisfied: cycler>=0.10 in c:\\users\\evely\\appdata\\local\\programs\\python\\python310\\lib\\site-packages (from matplotlib) (0.11.0)\n",
      "Requirement already satisfied: fonttools>=4.22.0 in c:\\users\\evely\\appdata\\local\\programs\\python\\python310\\lib\\site-packages (from matplotlib) (4.38.0)\n",
      "Requirement already satisfied: kiwisolver>=1.0.1 in c:\\users\\evely\\appdata\\local\\programs\\python\\python310\\lib\\site-packages (from matplotlib) (1.4.4)\n",
      "Requirement already satisfied: numpy>=1.19 in c:\\users\\evely\\appdata\\roaming\\python\\python310\\site-packages (from matplotlib) (1.23.5)\n",
      "Requirement already satisfied: packaging>=20.0 in c:\\users\\evely\\appdata\\local\\programs\\python\\python310\\lib\\site-packages (from matplotlib) (23.1)\n",
      "Requirement already satisfied: pillow>=6.2.0 in c:\\users\\evely\\appdata\\local\\programs\\python\\python310\\lib\\site-packages (from matplotlib) (9.2.0)\n",
      "Requirement already satisfied: pyparsing>=2.2.1 in c:\\users\\evely\\appdata\\local\\programs\\python\\python310\\lib\\site-packages (from matplotlib) (3.0.9)\n",
      "Requirement already satisfied: python-dateutil>=2.7 in c:\\users\\evely\\appdata\\local\\programs\\python\\python310\\lib\\site-packages (from matplotlib) (2.8.2)\n",
      "Requirement already satisfied: six>=1.5 in c:\\users\\evely\\appdata\\local\\programs\\python\\python310\\lib\\site-packages (from python-dateutil>=2.7->matplotlib) (1.16.0)\n",
      "Note: you may need to restart the kernel to use updated packages.\n",
      "Looking in indexes: https://pypi.org/simple, https://pypi.ngc.nvidia.com\n",
      "Requirement already satisfied: plotly in c:\\users\\evely\\appdata\\local\\programs\\python\\python310\\lib\\site-packages (5.15.0)\n",
      "Requirement already satisfied: tenacity>=6.2.0 in c:\\users\\evely\\appdata\\local\\programs\\python\\python310\\lib\\site-packages (from plotly) (8.2.2)\n",
      "Requirement already satisfied: packaging in c:\\users\\evely\\appdata\\local\\programs\\python\\python310\\lib\\site-packages (from plotly) (23.1)\n",
      "Note: you may need to restart the kernel to use updated packages.\n",
      "Looking in indexes: https://pypi.org/simple, https://pypi.ngc.nvidia.com\n",
      "Requirement already satisfied: scikit-learn in c:\\users\\evely\\appdata\\local\\programs\\python\\python310\\lib\\site-packages (1.2.0)\n",
      "Requirement already satisfied: numpy>=1.17.3 in c:\\users\\evely\\appdata\\roaming\\python\\python310\\site-packages (from scikit-learn) (1.23.5)\n",
      "Requirement already satisfied: scipy>=1.3.2 in c:\\users\\evely\\appdata\\local\\programs\\python\\python310\\lib\\site-packages (from scikit-learn) (1.10.0)\n",
      "Requirement already satisfied: joblib>=1.1.1 in c:\\users\\evely\\appdata\\local\\programs\\python\\python310\\lib\\site-packages (from scikit-learn) (1.2.0)\n",
      "Requirement already satisfied: threadpoolctl>=2.0.0 in c:\\users\\evely\\appdata\\local\\programs\\python\\python310\\lib\\site-packages (from scikit-learn) (3.1.0)\n",
      "Note: you may need to restart the kernel to use updated packages.\n",
      "Looking in indexes: https://pypi.org/simple, https://pypi.ngc.nvidia.com\n",
      "Requirement already satisfied: numpy in c:\\users\\evely\\appdata\\roaming\\python\\python310\\site-packages (1.23.5)\n",
      "Note: you may need to restart the kernel to use updated packages.\n",
      "Looking in indexes: https://pypi.org/simple, https://pypi.ngc.nvidia.com\n",
      "Requirement already satisfied: nbformat in c:\\users\\evely\\appdata\\local\\programs\\python\\python310\\lib\\site-packages (5.7.3)\n",
      "Requirement already satisfied: fastjsonschema in c:\\users\\evely\\appdata\\local\\programs\\python\\python310\\lib\\site-packages (from nbformat) (2.16.2)\n",
      "Requirement already satisfied: jsonschema>=2.6 in c:\\users\\evely\\appdata\\local\\programs\\python\\python310\\lib\\site-packages (from nbformat) (4.17.3)\n",
      "Requirement already satisfied: jupyter-core in c:\\users\\evely\\appdata\\local\\programs\\python\\python310\\lib\\site-packages (from nbformat) (5.2.0)\n",
      "Requirement already satisfied: traitlets>=5.1 in c:\\users\\evely\\appdata\\local\\programs\\python\\python310\\lib\\site-packages (from nbformat) (5.9.0)\n",
      "Requirement already satisfied: attrs>=17.4.0 in c:\\users\\evely\\appdata\\local\\programs\\python\\python310\\lib\\site-packages (from jsonschema>=2.6->nbformat) (23.1.0)\n",
      "Requirement already satisfied: pyrsistent!=0.17.0,!=0.17.1,!=0.17.2,>=0.14.0 in c:\\users\\evely\\appdata\\local\\programs\\python\\python310\\lib\\site-packages (from jsonschema>=2.6->nbformat) (0.19.3)\n",
      "Requirement already satisfied: platformdirs>=2.5 in c:\\users\\evely\\appdata\\roaming\\python\\python310\\site-packages (from jupyter-core->nbformat) (3.5.3)\n",
      "Requirement already satisfied: pywin32>=1.0 in c:\\users\\evely\\appdata\\local\\programs\\python\\python310\\lib\\site-packages (from jupyter-core->nbformat) (305)\n",
      "Note: you may need to restart the kernel to use updated packages.\n"
     ]
    }
   ],
   "source": [
    "%pip install pandas\n",
    "%pip install matplotlib\n",
    "%pip install plotly\n",
    "%pip install scikit-learn\n",
    "%pip install numpy\n",
    "%pip install nbformat"
   ]
  },
  {
   "cell_type": "code",
   "execution_count": 2,
   "metadata": {},
   "outputs": [],
   "source": [
    "# preprocessing and feature generation\n",
    "import pandas as pd\n",
    "import numpy as np\n",
    "import math\n",
    "import random\n",
    "\n",
    "# feature significance\n",
    "from sklearn.decomposition import PCA\n",
    "from sklearn.preprocessing import StandardScaler\n",
    "\n",
    "# data mining and model evaluation\n",
    "from sklearn.model_selection import train_test_split\n",
    "from sklearn.metrics import accuracy_score, mean_squared_error\n",
    "from sklearn.model_selection import learning_curve\n",
    "\n",
    "# visualization\n",
    "import matplotlib.pyplot as plt\n",
    "import plotly.graph_objects as go\n",
    "from plotly.offline import plot"
   ]
  },
  {
   "cell_type": "markdown",
   "metadata": {},
   "source": [
    "## Stage: Preprocessing\n",
    "Mockup data with just X, Y, Z values by removing the rest of the value."
   ]
  },
  {
   "cell_type": "code",
   "execution_count": 3,
   "metadata": {},
   "outputs": [],
   "source": [
    "# # read csv data from badmintondata.csv\n",
    "# limited_serving_data = pd.read_csv('badmintondata.csv')\n",
    "\n",
    "# # just rename x metrics to avoid unnecessary errors\n",
    "# limited_serving_data = limited_serving_data.rename(columns={'SHUTTLECOCK POSITIION IN AIR(X ) metres': 'SHUTTLECOCK POSITIION IN AIR(X) metres'})\n",
    "\n",
    "# # limiting service data to just x, y, z coordinates\n",
    "# limited_serving_data = limited_serving_data[['SHUTTLECOCK POSITIION IN AIR(X) metres', \n",
    "#                                             'SHUTTLECOCK POSITIION IN AIR(Y) metres', \n",
    "#                                             'SHUTTLECOCK POSITIION IN AIR(Z) metres']]\n",
    "# limited_serving_data"
   ]
  },
  {
   "cell_type": "code",
   "execution_count": 4,
   "metadata": {},
   "outputs": [],
   "source": [
    "# # read csv data from badmintondata.csv\n",
    "# limited_rallying_data = pd.read_csv('badmintondata2.csv')\n",
    "\n",
    "# # just rename x metrics to avoid unnecessary errors\n",
    "# limited_rallying_data = limited_rallying_data.rename(columns={'SHUTTLECOCK POSITIION IN AIR(X ) metres': 'SHUTTLECOCK POSITIION IN AIR(X) metres'})\n",
    "\n",
    "# # limiting service data to just x, y, z coordinates\n",
    "# limited_rallying_data = limited_rallying_data[['SHUTTLECOCK POSITIION IN AIR(X) metres', \n",
    "#                                             'SHUTTLECOCK POSITIION IN AIR(Y) metres', \n",
    "#                                             'SHUTTLECOCK POSITIION IN AIR(Z) metres']]\n",
    "# limited_rallying_data"
   ]
  },
  {
   "cell_type": "markdown",
   "metadata": {},
   "source": [
    "Assigning data to observation groups and labelling their sequences with observation numbers"
   ]
  },
  {
   "cell_type": "code",
   "execution_count": 5,
   "metadata": {},
   "outputs": [],
   "source": [
    "# # Initialize variables\n",
    "# observation_group_num = 0\n",
    "# observation_num = 0\n",
    "# is_group = False\n",
    "\n",
    "# # assign observation groups and their respective observation numbers to each row\n",
    "# for index, row in limited_serving_data.iterrows():\n",
    "#     if row['SHUTTLECOCK POSITIION IN AIR(X) metres'] == 0:\n",
    "#         if is_group:\n",
    "#             is_group = False\n",
    "#         limited_serving_data.drop(index, inplace=True)\n",
    "#     # if row is not empty\n",
    "#     else:\n",
    "#         # if inside an observation group just increment observation number\n",
    "#         if is_group:\n",
    "#             observation_num+=1\n",
    "#         # if just entering a new observation group\n",
    "#         else:\n",
    "#             is_group = True\n",
    "#             # increase observation group number by 1\n",
    "#             observation_group_num+=1\n",
    "#             # resets observation sequence number to 1\n",
    "#             observation_num = 1\n",
    "#         # assign observation group and observation number\n",
    "#         limited_serving_data.at[index, 'OBSERVATION NUMBER'] = observation_num\n",
    "#         limited_serving_data.at[index, 'OBSERVATION GROUP NUMBER'] = observation_group_num\n",
    "\n",
    "# # Set 'OBSERVATION GROUP NUMBER' as INT\n",
    "# limited_serving_data['OBSERVATION GROUP NUMBER'] = limited_serving_data['OBSERVATION GROUP NUMBER'].astype(int)\n",
    "# limited_serving_data.to_csv('regression_data/limited_serving_data_stage1.csv')"
   ]
  },
  {
   "cell_type": "code",
   "execution_count": 6,
   "metadata": {},
   "outputs": [],
   "source": [
    "# # Initialize variables\n",
    "# observation_group_num = 364 # last observation group number index from dataset 1\n",
    "# observation_num = 0\n",
    "# is_group = False\n",
    "\n",
    "# # assign observation groups and their respective observation numbers to each row\n",
    "# for index, row in limited_rallying_data.iterrows():\n",
    "#     if row['SHUTTLECOCK POSITIION IN AIR(X) metres'] == 0:\n",
    "#         if is_group:\n",
    "#             is_group = False\n",
    "#         limited_rallying_data.drop(index, inplace=True)\n",
    "#     # if row is not empty\n",
    "#     else:\n",
    "#         # if inside an observation group just increment observation number\n",
    "#         if is_group:\n",
    "#             observation_num+=1\n",
    "#         # if just entering a new observation group\n",
    "#         else:\n",
    "#             is_group = True\n",
    "#             # increase observation group number by 1\n",
    "#             observation_group_num+=1\n",
    "#             # resets observation sequence number to 1\n",
    "#             observation_num = 1\n",
    "#         # assign observation group and observation number\n",
    "#         limited_rallying_data.at[index, 'OBSERVATION NUMBER'] = observation_num\n",
    "#         limited_rallying_data.at[index, 'OBSERVATION GROUP NUMBER'] = observation_group_num\n",
    "\n",
    "# # Set 'OBSERVATION GROUP NUMBER' as INT\n",
    "# limited_rallying_data['OBSERVATION GROUP NUMBER'] = limited_rallying_data['OBSERVATION GROUP NUMBER'].astype(int)\n",
    "# limited_rallying_data.to_csv('regression_data/limited_rallying_data_stage1.csv')"
   ]
  },
  {
   "cell_type": "markdown",
   "metadata": {},
   "source": [
    "Determining the initial starting position of each shuttlecock by either rounding it down, or rounding it to nearest necessary value "
   ]
  },
  {
   "cell_type": "code",
   "execution_count": 7,
   "metadata": {},
   "outputs": [
    {
     "name": "stderr",
     "output_type": "stream",
     "text": [
      "C:\\Users\\evely\\AppData\\Local\\Temp\\ipykernel_14072\\410818634.py:19: FutureWarning:\n",
      "\n",
      "Not prepending group keys to the result index of transform-like apply. In the future, the group keys will be included in the index, regardless of whether the applied function returns a like-indexed object.\n",
      "To preserve the previous behavior, use\n",
      "\n",
      "\t>>> .groupby(..., group_keys=False)\n",
      "\n",
      "To adopt the future behavior and silence this warning, use \n",
      "\n",
      "\t>>> .groupby(..., group_keys=True)\n",
      "\n",
      "C:\\Users\\evely\\AppData\\Local\\Temp\\ipykernel_14072\\410818634.py:23: FutureWarning:\n",
      "\n",
      "Not prepending group keys to the result index of transform-like apply. In the future, the group keys will be included in the index, regardless of whether the applied function returns a like-indexed object.\n",
      "To preserve the previous behavior, use\n",
      "\n",
      "\t>>> .groupby(..., group_keys=False)\n",
      "\n",
      "To adopt the future behavior and silence this warning, use \n",
      "\n",
      "\t>>> .groupby(..., group_keys=True)\n",
      "\n"
     ]
    }
   ],
   "source": [
    "# load in last milestone to save time \n",
    "limited_serving_data = pd.read_csv('regression_data/limited_serving_data_stage1.csv')\n",
    "limited_serving_data = limited_serving_data.drop(columns=('Unnamed: 0'))\n",
    "limited_rallying_data = pd.read_csv('regression_data/limited_rallying_data_stage1.csv')\n",
    "limited_rallying_data = limited_rallying_data.drop(columns=('Unnamed: 0'))\n",
    "\n",
    "# Add Initial Points of Human Position based on the rounded down version of the first point\n",
    "# Reset the index before applying groupby\n",
    "def calculate_human_position(group):\n",
    "    rounded_value_x = math.floor(group.iloc[0]['SHUTTLECOCK POSITIION IN AIR(X) metres'])\n",
    "    rounded_value_y = round(group.iloc[0]['SHUTTLECOCK POSITIION IN AIR(Y) metres'])\n",
    "    rounded_value_z = rounded_value = min(1.6, 2.6, key=lambda x: abs(x - group.iloc[0]['SHUTTLECOCK POSITIION IN AIR(Z) metres']))\n",
    "    group['HUMAN PLAYER POSITION (X) metres'] = rounded_value_x\n",
    "    group['HUMAN PLAYER POSITION (Y) metres'] = rounded_value_y\n",
    "    group['HUMAN PLAYER POSITION (Z) metres'] = rounded_value_z\n",
    "    return group\n",
    "\n",
    "# Apply the function to serving data in each group using groupby and apply\n",
    "limited_serving_data = limited_serving_data.groupby('OBSERVATION GROUP NUMBER').apply(calculate_human_position)\n",
    "limited_serving_data = limited_serving_data.reset_index(drop=True)\n",
    "\n",
    "# Apply the function to rallying data in each group using groupby and apply\n",
    "limited_rallying_data = limited_rallying_data.groupby('OBSERVATION GROUP NUMBER').apply(calculate_human_position)\n",
    "limited_rallying_data = limited_rallying_data.reset_index(drop=True)"
   ]
  },
  {
   "cell_type": "markdown",
   "metadata": {},
   "source": [
    "Creating Velocity, Slant Angles and Firing Angles of each shuttlecock using mathematical equation with X,Y,Z manipulation"
   ]
  },
  {
   "cell_type": "code",
   "execution_count": 8,
   "metadata": {},
   "outputs": [
    {
     "name": "stderr",
     "output_type": "stream",
     "text": [
      "C:\\Users\\evely\\AppData\\Local\\Temp\\ipykernel_14072\\3872537049.py:27: FutureWarning:\n",
      "\n",
      "Not prepending group keys to the result index of transform-like apply. In the future, the group keys will be included in the index, regardless of whether the applied function returns a like-indexed object.\n",
      "To preserve the previous behavior, use\n",
      "\n",
      "\t>>> .groupby(..., group_keys=False)\n",
      "\n",
      "To adopt the future behavior and silence this warning, use \n",
      "\n",
      "\t>>> .groupby(..., group_keys=True)\n",
      "\n",
      "C:\\Users\\evely\\AppData\\Local\\Temp\\ipykernel_14072\\3872537049.py:32: FutureWarning:\n",
      "\n",
      "Not prepending group keys to the result index of transform-like apply. In the future, the group keys will be included in the index, regardless of whether the applied function returns a like-indexed object.\n",
      "To preserve the previous behavior, use\n",
      "\n",
      "\t>>> .groupby(..., group_keys=False)\n",
      "\n",
      "To adopt the future behavior and silence this warning, use \n",
      "\n",
      "\t>>> .groupby(..., group_keys=True)\n",
      "\n"
     ]
    }
   ],
   "source": [
    "def generate_features(group):\n",
    "    # calculate X,Y,Z distances from initial human points\n",
    "    X_displacement = group.iloc[0]['SHUTTLECOCK POSITIION IN AIR(X) metres'] - group.iloc[0]['HUMAN PLAYER POSITION (X) metres']\n",
    "    Y_displacement = group.iloc[0]['SHUTTLECOCK POSITIION IN AIR(Y) metres'] - group.iloc[0]['HUMAN PLAYER POSITION (Y) metres'] \n",
    "    Z_displacement = group.iloc[0]['SHUTTLECOCK POSITIION IN AIR(Z) metres'] - group.iloc[0]['HUMAN PLAYER POSITION (Z) metres']\n",
    "\n",
    "    # calculate initial firing angle\n",
    "    firing_angle_radians = math.atan(X_displacement / Z_displacement)\n",
    "    firing_angle_degrees = math.degrees(firing_angle_radians)\n",
    "    # round to nearest 10 for firing angle\n",
    "    group['INITIAL SHUTTELCOCK FIRING ANGLE (DEGREE)'] = round(firing_angle_degrees / 10) * 10\n",
    "\n",
    "    # calculate initial slant angle\n",
    "    slant_angle_radians = math.atan(Y_displacement / X_displacement)\n",
    "    slant_angle_degrees = math.degrees(slant_angle_radians)\n",
    "    group['INITIAL SHUTTELCOCK SLANT ANGLE TO SIDELINE(DEGREE)'] = round(slant_angle_degrees)\n",
    "\n",
    "    # Calculate the initial velocity (v₀)\n",
    "    time_elapsed = 0.1\n",
    "    displacement = math.sqrt(X_displacement**2 + Y_displacement**2 + Z_displacement**2)\n",
    "    initial_velocity = round(displacement/time_elapsed)\n",
    "    # round to nearest 10 for velocity\n",
    "    group['INITITAL VELOCITY OF SHUTTELCOCK(m/s)'] = initial_velocity\n",
    "    return group\n",
    "\n",
    "# generate features for serving data\n",
    "limited_serving_data = limited_serving_data.groupby('OBSERVATION GROUP NUMBER').apply(generate_features)\n",
    "limited_serving_data = limited_serving_data.reset_index(drop=True)\n",
    "limited_serving_data.to_csv('regression_data/limited_serving_data.csv')\n",
    "\n",
    "# generate features for rallying data\n",
    "limited_rallying_data = limited_rallying_data.groupby('OBSERVATION GROUP NUMBER').apply(generate_features)\n",
    "limited_rallying_data = limited_rallying_data.reset_index(drop=True)\n",
    "limited_rallying_data.to_csv('regression_data/limited_rallying_data.csv')"
   ]
  },
  {
   "cell_type": "markdown",
   "metadata": {},
   "source": [
    "Combine the two datasets into a single dataset"
   ]
  },
  {
   "cell_type": "code",
   "execution_count": 9,
   "metadata": {},
   "outputs": [],
   "source": [
    "# combining the serving and rally dataframes\n",
    "limited_badminton_data = pd.concat([limited_serving_data, limited_rallying_data], ignore_index=True)\n",
    "limited_badminton_data.to_csv('regression_data/limited_badminton_data.csv')"
   ]
  },
  {
   "cell_type": "markdown",
   "metadata": {},
   "source": [
    "label data if they are are out of bounds within the observations using data column \"OUT OF BOUNDS\". This includes\n",
    "- Data that exceeds the X axis (hit too far on both sides) X < 0 OR X > 13.4\n",
    "- Data that exceeds the Y axis (hit out of court on left or right side) Y < 0 OR Y > 5.18\n",
    "- Data that is out of bounds labelled as 1, no 0\n",
    "\n",
    "OPTIONAL, if needed"
   ]
  },
  {
   "cell_type": "code",
   "execution_count": 10,
   "metadata": {},
   "outputs": [],
   "source": [
    "# # labelling data if its out of bounds\n",
    "# unique_observation_number = limited_badminton_data['OBSERVATION GROUP NUMBER'].unique()\n",
    "# for obs_grp_number in unique_observation_number:\n",
    "#     last_row = limited_badminton_data[limited_badminton_data['OBSERVATION GROUP NUMBER'] == obs_grp_number].tail(1)\n",
    "#     # Check the conditions for 'Shuttlecock Position in Air X' and 'Shuttlecock Position in Air Y'\n",
    "#     if (last_row['SHUTTLECOCK POSITIION IN AIR(X) metres'].values[0] < 0 or\n",
    "#         last_row['SHUTTLECOCK POSITIION IN AIR(X) metres'].values[0] > 13.4 or\n",
    "#         last_row['SHUTTLECOCK POSITIION IN AIR(Y) metres'].values[0] < 0 or\n",
    "#         last_row['SHUTTLECOCK POSITIION IN AIR(Y) metres'].values[0] > 5.18):\n",
    "        \n",
    "#         # Set 'OUT OF BOUNDS' column to 1 for the corresponding observation number\n",
    "#         limited_badminton_data.loc[limited_badminton_data['OBSERVATION GROUP NUMBER'] == obs_grp_number, 'OUT OF BOUNDS'] = 1\n",
    "#     else:\n",
    "#         limited_badminton_data.loc[limited_badminton_data['OBSERVATION GROUP NUMBER'] == obs_grp_number, 'OUT OF BOUNDS']"
   ]
  },
  {
   "cell_type": "markdown",
   "metadata": {},
   "source": [
    "## Feature Significance\n",
    "Selecting features to test significance using PCA and standardizing them. "
   ]
  },
  {
   "cell_type": "code",
   "execution_count": 11,
   "metadata": {},
   "outputs": [],
   "source": [
    "# removal of labels and dependent features\n",
    "X_limited_features = limited_badminton_data.drop(columns=['OBSERVATION GROUP NUMBER',\n",
    "                                            'SHUTTLECOCK POSITIION IN AIR(X) metres', \n",
    "                                            'SHUTTLECOCK POSITIION IN AIR(Y) metres', \n",
    "                                            'SHUTTLECOCK POSITIION IN AIR(Z) metres'])\n",
    "# Standardize the data\n",
    "scaler = StandardScaler()\n",
    "X_features_norm = scaler.fit_transform(X_limited_features)"
   ]
  },
  {
   "cell_type": "code",
   "execution_count": 12,
   "metadata": {},
   "outputs": [
    {
     "name": "stdout",
     "output_type": "stream",
     "text": [
      "Feature INITIAL SHUTTELCOCK FIRING ANGLE (DEGREE): Significance = 0.18653208130233231\n",
      "Feature HUMAN PLAYER POSITION (Z) metres: Significance = 0.17677218072799952\n",
      "Feature OBSERVATION NUMBER: Significance = 0.15130267848958967\n",
      "Feature INITIAL SHUTTELCOCK SLANT ANGLE TO SIDELINE(DEGREE): Significance = 0.15067646190778108\n",
      "Feature INITITAL VELOCITY OF SHUTTELCOCK(m/s): Significance = 0.13679930347016347\n",
      "Feature HUMAN PLAYER POSITION (Y) metres: Significance = 0.11239037013040598\n",
      "Feature HUMAN PLAYER POSITION (X) metres: Significance = 0.08552692397172786\n"
     ]
    },
    {
     "data": {
      "image/png": "[encoded data removed]",
      "text/plain": [
       "<Figure size 640x480 with 1 Axes>"
      ]
     },
     "metadata": {},
     "output_type": "display_data"
    }
   ],
   "source": [
    "# instantiate PCA object, fit model\n",
    "pca = PCA()\n",
    "pca.fit(X_features_norm)\n",
    "\n",
    "# loadings refer to the coefficients or weights that determine the contribution of each feature to the principal components\n",
    "# Get the absolute loadings for each feature in each principal component\n",
    "absolute_loadings = np.abs(pca.components_)\n",
    "# Calculate the total sum of absolute loadings for each feature across all principal components\n",
    "total_loadings = np.sum(absolute_loadings, axis=0)\n",
    "\n",
    "# Calculate the relative contribution of each feature to the total loadings\n",
    "relative_contribution = total_loadings / np.sum(total_loadings)\n",
    "\n",
    "# Sort the features based on their relative contribution\n",
    "sorted_features = np.argsort(relative_contribution)[::-1]\n",
    "feature_names = X_limited_features.columns\n",
    "# Print the significance of each feature\n",
    "for feature_idx in sorted_features:\n",
    "    print(f\"Feature {feature_names[feature_idx]}: Significance = {relative_contribution[feature_idx]}\")\n",
    "\n",
    "# Plot the significance of each feature\n",
    "plt.bar(range(len(sorted_features)), relative_contribution[sorted_features])\n",
    "plt.xlabel('Features')\n",
    "plt.ylabel('Significance')\n",
    "plt.title('Significance of Features in PCA')\n",
    "plt.xticks(range(len(sorted_features)), feature_names[sorted_features], rotation=90)\n",
    "# plt.xticks(range(len(sorted_features)), sorted_features)\n",
    "plt.show()"
   ]
  },
  {
   "cell_type": "markdown",
   "metadata": {},
   "source": [
    "## Stage: Data Mining\n",
    "### Preparing data for Decision Tree Classifier\n",
    "To determine observation steps needed for a trajectory, only these X features are needed. No normalization is needed\n",
    "- 'HUMAN PLAYER POSITION (X) metres'\n",
    "- 'HUMAN PLAYER POSITION (Y) metres'\n",
    "- 'HUMAN PLAYER POSITION (Z) metres'\n",
    "- 'INITITAL VELOCITY OF SHUTTELCOCK(m/s)'\n",
    "- 'INITIAL SHUTTELCOCK FIRING ANGLE (DEGREE)'\n",
    "- 'INITIAL SHUTTELCOCK SLANT ANGLE TO SIDELINE(DEGREE)'"
   ]
  },
  {
   "cell_type": "code",
   "execution_count": 13,
   "metadata": {},
   "outputs": [],
   "source": [
    "# loading data\n",
    "temp_data = pd.read_csv('regression_data/limited_badminton_data.csv')\n",
    "temp_data = temp_data.drop(columns=['Unnamed: 0'])\n",
    "\n",
    "# Drop duplicates based on 'Observation Group Number', keeping only the last record\n",
    "data_DT = temp_data.copy()\n",
    "data_DT = data_DT.drop_duplicates(subset='OBSERVATION GROUP NUMBER', keep='last')\n",
    "\n",
    "# Define X and Y Features for Decision Tree\n",
    "X_features_DT = data_DT[['HUMAN PLAYER POSITION (X) metres', \n",
    "                            'HUMAN PLAYER POSITION (Y) metres',\n",
    "                            'HUMAN PLAYER POSITION (Z) metres', \n",
    "                            'INITITAL VELOCITY OF SHUTTELCOCK(m/s)', \n",
    "                            'INITIAL SHUTTELCOCK FIRING ANGLE (DEGREE)', \n",
    "                            'INITIAL SHUTTELCOCK SLANT ANGLE TO SIDELINE(DEGREE)']]\n",
    "\n",
    "Y_feature_DT = data_DT['OBSERVATION NUMBER']\n",
    "\n",
    "# Split the data into train/test, X/Y for Decision Tree Classifier\n",
    "X_train_DT, X_test_DT, Y_train_DT, Y_test_DT = train_test_split(X_features_DT, Y_feature_DT, test_size=0.2, random_state=42)"
   ]
  },
  {
   "cell_type": "markdown",
   "metadata": {},
   "source": [
    "### Finding Optimal Decision Tree Model\n",
    "To predict total observation time based on the independent feature supplied. Predicts a set of observation take"
   ]
  },
  {
   "cell_type": "code",
   "execution_count": 14,
   "metadata": {},
   "outputs": [],
   "source": [
    "from sklearn.tree import DecisionTreeClassifier\n",
    "maxdepths = [2,3,4,5,6,7,8,9,10,15]  # 10 different depths\n",
    "\n",
    "# containers to store train/test accuracy rates\n",
    "trainAcc_DT = np.zeros(len(maxdepths))\n",
    "testAcc_DT = np.zeros(len(maxdepths))\n",
    "\n",
    "index = 0\n",
    "for depth in maxdepths:\n",
    "    # training decision tree with depth lengths\n",
    "    temp_model_DT = DecisionTreeClassifier(max_depth=depth)\n",
    "    temp_model_DT = temp_model_DT.fit(X_train_DT, Y_train_DT)\n",
    "    # generate predictions using the model trained, for the training data (X) and test data (X)\n",
    "    Y_predTrain = temp_model_DT.predict(X_train_DT)\n",
    "    Y_predTest = temp_model_DT.predict(X_test_DT)\n",
    "    # compare the predicted values and compare against original values for accuracy\n",
    "    trainAcc_DT[index] = accuracy_score(Y_train_DT, Y_predTrain)\n",
    "    testAcc_DT[index] = accuracy_score(Y_test_DT, Y_predTest)\n",
    "    index += 1"
   ]
  },
  {
   "cell_type": "code",
   "execution_count": 15,
   "metadata": {},
   "outputs": [
    {
     "data": {
      "text/plain": [
       "Text(0, 0.5, 'Accuracy')"
      ]
     },
     "execution_count": 15,
     "metadata": {},
     "output_type": "execute_result"
    },
    {
     "data": {
      "image/png": "[encoded data removed]",
      "text/plain": [
       "<Figure size 640x480 with 1 Axes>"
      ]
     },
     "metadata": {},
     "output_type": "display_data"
    }
   ],
   "source": [
    "plt.plot(maxdepths,trainAcc_DT,'ro-',maxdepths,testAcc_DT,'bv--')\n",
    "plt.legend(['Training Accuracy','Test Accuracy'])\n",
    "plt.xlabel('Max depth')\n",
    "plt.ylabel('Accuracy')"
   ]
  },
  {
   "cell_type": "markdown",
   "metadata": {},
   "source": [
    "### Train Decision Tree Model \"Model_DecisionTree\"\n",
    "Using the optimal elbow depth found in the previous segment which is 4"
   ]
  },
  {
   "cell_type": "code",
   "execution_count": 16,
   "metadata": {},
   "outputs": [
    {
     "name": "stdout",
     "output_type": "stream",
     "text": [
      "Training Accuracy:  1.0\n",
      "Testing Accuracy:  1.0\n"
     ]
    }
   ],
   "source": [
    "model_decisionTree = DecisionTreeClassifier(max_depth=4)\n",
    "model_decisionTree = model_decisionTree.fit(X_train_DT, Y_train_DT)\n",
    "\n",
    "Y_predTrain = model_decisionTree.predict(X_train_DT)\n",
    "Y_predTest = model_decisionTree.predict(X_test_DT)\n",
    "\n",
    "trainAcc_DT = accuracy_score(Y_train_DT, Y_predTrain)\n",
    "testAcc_DT = accuracy_score(Y_test_DT, Y_predTest)\n",
    "print(\"Training Accuracy: \", trainAcc_DT)\n",
    "print(\"Testing Accuracy: \", testAcc_DT)"
   ]
  },
  {
   "cell_type": "markdown",
   "metadata": {},
   "source": [
    "### Preparing data for Regressor Models"
   ]
  },
  {
   "cell_type": "code",
   "execution_count": 17,
   "metadata": {},
   "outputs": [],
   "source": [
    "# define x and y features\n",
    "X_features_Regression = temp_data[['HUMAN PLAYER POSITION (X) metres', \n",
    "                        'HUMAN PLAYER POSITION (Y) metres', \n",
    "                        'HUMAN PLAYER POSITION (Z) metres',\n",
    "                        'INITITAL VELOCITY OF SHUTTELCOCK(m/s)', \n",
    "                        'INITIAL SHUTTELCOCK FIRING ANGLE (DEGREE)', \n",
    "                        'INITIAL SHUTTELCOCK SLANT ANGLE TO SIDELINE(DEGREE)',\n",
    "                        'OBSERVATION NUMBER']]\n",
    "\n",
    "Y_features_Regression = temp_data[['SHUTTLECOCK POSITIION IN AIR(X) metres', \n",
    "                        'SHUTTLECOCK POSITIION IN AIR(Y) metres', \n",
    "                        'SHUTTLECOCK POSITIION IN AIR(Z) metres']]\n",
    "\n",
    "# contains all the observation group numbers in data\n",
    "unique_observation_grps = temp_data['OBSERVATION GROUP NUMBER'].unique() # list of [1 to 1576]\n",
    "# shuffle order\n",
    "random.shuffle(unique_observation_grps)\n",
    "\n",
    "# index of training sets\n",
    "training_test_split_idx = int(0.8*len(unique_observation_grps))\n",
    "# containers to store all the respective train and test observation groups idx from data\n",
    "train_idxes = unique_observation_grps[:training_test_split_idx]\n",
    "test_idxes = unique_observation_grps[training_test_split_idx:]\n",
    "\n",
    "train_data = temp_data[temp_data['OBSERVATION GROUP NUMBER'].isin(train_idxes)]\n",
    "test_data = temp_data[temp_data['OBSERVATION GROUP NUMBER'].isin(test_idxes)]\n",
    "\n",
    "# Define X and Y features\n",
    "X_train_Regression = train_data[['HUMAN PLAYER POSITION (X) metres', \n",
    "                        'HUMAN PLAYER POSITION (Y) metres', \n",
    "                        'HUMAN PLAYER POSITION (Z) metres',\n",
    "                        'INITITAL VELOCITY OF SHUTTELCOCK(m/s)', \n",
    "                        'INITIAL SHUTTELCOCK FIRING ANGLE (DEGREE)', \n",
    "                        'INITIAL SHUTTELCOCK SLANT ANGLE TO SIDELINE(DEGREE)',\n",
    "                        'OBSERVATION NUMBER']]\n",
    "\n",
    "Y_train_Regression = train_data[['SHUTTLECOCK POSITIION IN AIR(X) metres', \n",
    "                      'SHUTTLECOCK POSITIION IN AIR(Y) metres', \n",
    "                      'SHUTTLECOCK POSITIION IN AIR(Z) metres']]\n",
    "\n",
    "X_test_Regression = test_data[['HUMAN PLAYER POSITION (X) metres', \n",
    "                        'HUMAN PLAYER POSITION (Y) metres', \n",
    "                        'HUMAN PLAYER POSITION (Z) metres',\n",
    "                        'INITITAL VELOCITY OF SHUTTELCOCK(m/s)', \n",
    "                        'INITIAL SHUTTELCOCK FIRING ANGLE (DEGREE)', \n",
    "                        'INITIAL SHUTTELCOCK SLANT ANGLE TO SIDELINE(DEGREE)',\n",
    "                        'OBSERVATION NUMBER']]\n",
    "\n",
    "Y_test_Regression = test_data[['SHUTTLECOCK POSITIION IN AIR(X) metres', \n",
    "                    'SHUTTLECOCK POSITIION IN AIR(Y) metres', \n",
    "                    'SHUTTLECOCK POSITIION IN AIR(Z) metres']]"
   ]
  },
  {
   "cell_type": "markdown",
   "metadata": {},
   "source": [
    "### Random Forest Regressor\n",
    "Random Forest is an ensemble learning algorithm that combines multiple decision trees to make predictions. It can handle both numerical and categorical data and is capable of capturing complex relationships in the data. It does not require feature standardization as they are not sensitive to the scale of the features. Random Forest algorithms work by creating decision trees based on random subsets of features, and each decision tree independently makes decisions based on these features.\n",
    "#### Dependencies for Random Forest Regressor"
   ]
  },
  {
   "cell_type": "code",
   "execution_count": 18,
   "metadata": {},
   "outputs": [],
   "source": [
    "from sklearn.ensemble import RandomForestRegressor  # for regression tasks"
   ]
  },
  {
   "cell_type": "markdown",
   "metadata": {},
   "source": [
    "#### Optimizing Random Forest Regressor\n",
    "Building multiple models with different depths to find best model with lowest mean squared error. Best depth should be 15"
   ]
  },
  {
   "cell_type": "code",
   "execution_count": 19,
   "metadata": {},
   "outputs": [],
   "source": [
    "# # Define a list of depths to test\n",
    "# depths = [5, 10, 15, 20, 25, 30]\n",
    "# mse_score_RF = []\n",
    "\n",
    "# # Iterate over different depths and calculate MSE\n",
    "# for depth in depths:\n",
    "#     temp_model_RF = RandomForestRegressor(n_estimators=100, max_depth=depth, random_state=42)\n",
    "#     temp_model_RF.fit(X_train_Regression, Y_train_Regression)\n",
    "#     temp_y_pred_RF = temp_model_RF.predict(X_test_Regression)\n",
    "#     mse = mean_squared_error(Y_test_Regression, temp_y_pred_RF)\n",
    "#     mse_score_RF.append(mse)\n",
    "# print(mse_score_RF)"
   ]
  },
  {
   "cell_type": "code",
   "execution_count": 20,
   "metadata": {},
   "outputs": [],
   "source": [
    "# # Plotting the MSE scores\n",
    "# plt.plot(depths, mse_score_RF, marker='o')\n",
    "# plt.xlabel('Depth')\n",
    "# plt.ylabel('Mean Squared Error')\n",
    "# plt.title('Mean Squared Error vs. Depth for Random Forest Regressor')\n",
    "# plt.show()"
   ]
  },
  {
   "cell_type": "markdown",
   "metadata": {},
   "source": [
    "Building multiple models with different number of decision trees \"n_estimators\" to find best \"n_estimator\". Best number of decision trees should be 200"
   ]
  },
  {
   "cell_type": "code",
   "execution_count": 21,
   "metadata": {},
   "outputs": [],
   "source": [
    "# # Define a list of n_estimators to test\n",
    "# n_estimators_values = [50, 100, 150, 200, 250, 300]\n",
    "# mse_score_RF = []\n",
    "\n",
    "# # Iterate over different n_estimators and calculate MSE\n",
    "# for n_estimators in n_estimators_values:\n",
    "#     temp_model_RF = RandomForestRegressor(n_estimators=n_estimators, max_depth=15, random_state=42)\n",
    "#     temp_model_RF.fit(X_train_Regression, Y_train_Regression)\n",
    "#     temp_y_pred_RF = temp_model_RF.predict(X_test_Regression)\n",
    "#     mse = mean_squared_error(Y_test_Regression, temp_y_pred_RF)\n",
    "#     mse_score_RF.append(mse)\n",
    "# print(mse_score_RF)"
   ]
  },
  {
   "cell_type": "code",
   "execution_count": 22,
   "metadata": {},
   "outputs": [],
   "source": [
    "# # Plotting the MSE scores\n",
    "# plt.plot(n_estimators_values, mse_score_RF, marker='o')\n",
    "# plt.xlabel('n_estimators')\n",
    "# plt.ylabel('Mean Squared Error')\n",
    "# plt.title('Mean Squared Error vs. n_estimators for Random Forest Regressor')\n",
    "# plt.show()"
   ]
  },
  {
   "cell_type": "markdown",
   "metadata": {},
   "source": [
    "#### Training with Best Random Forest\n",
    "This model will allow us predict an X, Y, Z coordinate in relation to the independent features supplied"
   ]
  },
  {
   "cell_type": "code",
   "execution_count": 23,
   "metadata": {},
   "outputs": [],
   "source": [
    "# Define the Random Forest Regressor\n",
    "model_randomForest = RandomForestRegressor(n_estimators=200, max_depth=15, random_state=42)  # for regression\n",
    "\n",
    "model_randomForest.fit(X_train_Regression, Y_train_Regression)\n",
    "y_pred_RF = model_randomForest.predict(X_test_Regression)"
   ]
  },
  {
   "cell_type": "markdown",
   "metadata": {},
   "source": [
    "### Training Evaluation of Random Forest\n",
    "Mean squared error and root mean squared errors are error margin metrics for regression models. Refer to root mean squared error for a closer error margin to original metric"
   ]
  },
  {
   "cell_type": "code",
   "execution_count": 24,
   "metadata": {},
   "outputs": [
    {
     "name": "stdout",
     "output_type": "stream",
     "text": [
      "Mean Squared Error: 0.006309554230944713\n",
      "Root Squared Error: 0.07943270252827052\n"
     ]
    }
   ],
   "source": [
    "mse = mean_squared_error(Y_test_Regression, y_pred_RF)\n",
    "print(\"Mean Squared Error:\", mse)\n",
    "rmse = math.sqrt(mse)\n",
    "print(\"Root Squared Error:\", rmse)"
   ]
  },
  {
   "cell_type": "markdown",
   "metadata": {},
   "source": [
    "Check for generalization of data and if data is able to capture underlying pattern properly. This is done with a learning curve, with a negative mean squared metric. If the training and validation lines converge at a low error rate, that means that the model is well generalized and captures patterns properly"
   ]
  },
  {
   "cell_type": "code",
   "execution_count": 25,
   "metadata": {},
   "outputs": [],
   "source": [
    "# # Calculate the learning curves\n",
    "# train_sizes, train_scores, val_scores = learning_curve(model_randomForest, X_train_Regression, Y_train_Regression, cv=5, scoring='neg_mean_squared_error')\n",
    "\n",
    "# # Calculate the mean and standard deviation of train and validation scores\n",
    "# train_mean = -np.mean(train_scores, axis=1)\n",
    "# train_std = np.std(train_scores, axis=1)\n",
    "# val_mean = -np.mean(val_scores, axis=1)\n",
    "# val_std = np.std(val_scores, axis=1)"
   ]
  },
  {
   "cell_type": "code",
   "execution_count": 26,
   "metadata": {},
   "outputs": [],
   "source": [
    "# # Plot the learning curves\n",
    "# plt.figure(figsize=(10, 7))\n",
    "# plt.plot(train_sizes, train_mean, label='Training score', color='blue')\n",
    "# plt.fill_between(train_sizes, train_mean - train_std, train_mean + train_std, alpha=0.1, color='blue')\n",
    "# plt.plot(train_sizes, val_mean, label='Validation score', color='red')\n",
    "# plt.fill_between(train_sizes, val_mean - val_std, val_mean + val_std, alpha=0.1, color='red')\n",
    "# plt.xlabel('Training Set Size')\n",
    "# plt.ylabel('Negative Mean Squared Error')\n",
    "# plt.title('Learning Curve for Random Forest Regressor')\n",
    "# plt.legend(loc='best')\n",
    "# plt.show()"
   ]
  },
  {
   "cell_type": "markdown",
   "metadata": {},
   "source": [
    "### Model Visualization of Random Forest Regressor"
   ]
  },
  {
   "cell_type": "code",
   "execution_count": 27,
   "metadata": {},
   "outputs": [
    {
     "data": {
      "image/png": "[encoded data removed]",
      "text/plain": [
       "<Figure size 1500x500 with 3 Axes>"
      ]
     },
     "metadata": {},
     "output_type": "display_data"
    }
   ],
   "source": [
    "# Plotting the scatterplot\n",
    "fig, ax = plt.subplots(1, 3, figsize=(15, 5))\n",
    "\n",
    "# Plotting for each target variable\n",
    "for i, target in enumerate(Y_features_Regression.columns):\n",
    "    ax[i].scatter(Y_test_Regression[target], y_pred_RF[:, i], alpha=0.5)\n",
    "    ax[i].plot([Y_test_Regression[target].min(), Y_test_Regression[target].max()], [Y_test_Regression[target].min(), Y_test_Regression[target].max()], 'r--')\n",
    "    ax[i].set_xlabel('Actual ' + target)\n",
    "    ax[i].set_ylabel('Predicted ' + target)\n",
    "\n",
    "plt.suptitle('Actual vs Predicted Y for Random Forest Regressor')\n",
    "plt.tight_layout()\n",
    "plt.show()"
   ]
  },
  {
   "cell_type": "code",
   "execution_count": 28,
   "metadata": {},
   "outputs": [
    {
     "data": {
      "text/plain": [
       "'interactive_models/random_forest_limited_model.html'"
      ]
     },
     "execution_count": 28,
     "metadata": {},
     "output_type": "execute_result"
    }
   ],
   "source": [
    "# Create traces for actual and predicted values\n",
    "actual_trace = go.Scatter3d(\n",
    "    x=Y_test_Regression['SHUTTLECOCK POSITIION IN AIR(X) metres'],\n",
    "    y=Y_test_Regression['SHUTTLECOCK POSITIION IN AIR(Y) metres'],\n",
    "    z=Y_test_Regression['SHUTTLECOCK POSITIION IN AIR(Z) metres'],\n",
    "    name='Actual',\n",
    "    mode='markers',\n",
    "    marker=dict(\n",
    "        color='blue',\n",
    "        size=3,\n",
    "        symbol='circle'\n",
    "    )\n",
    ")\n",
    "\n",
    "predicted_trace = go.Scatter3d(\n",
    "    x=y_pred_RF[:, 0],\n",
    "    y=y_pred_RF[:, 1],\n",
    "    z=y_pred_RF[:, 2],\n",
    "    name='Predicted',\n",
    "    mode='markers',\n",
    "    marker=dict(\n",
    "        color='red',\n",
    "        size=3,\n",
    "        symbol='circle'\n",
    "    )\n",
    ")\n",
    "\n",
    "# Create layout\n",
    "layout = go.Layout(\n",
    "    title='Actual vs Predicted Shuttlecock Positions for Random Forest Regressor',\n",
    "    scene=dict(\n",
    "        xaxis=dict(title='X'),\n",
    "        yaxis=dict(title='Y'),\n",
    "        zaxis=dict(title='Z')\n",
    "    )\n",
    ")\n",
    "\n",
    "# Create figure\n",
    "fig = go.Figure(data=[actual_trace, predicted_trace], layout=layout)\n",
    "\n",
    "# Save the plot as an HTML file\n",
    "plot(fig, filename='interactive_models/random_forest_limited_model.html')"
   ]
  },
  {
   "cell_type": "markdown",
   "metadata": {},
   "source": [
    "### Extra Trees Regressor\n",
    "Extra Trees aka. (Extremely Randomized Trees) Regressor is a variant of Random Forest Tree which also uses an ensemble of decision trees to make predictions. However unlike random forests, Extra Trees introduces extra randomness by randomly selecting features at each node split. This randomness helps to create more diverse and less correlated trees. The final prediction is obtained by averaging the predictions of all the trees.\n",
    "#### Dependencies for Extra Trees Regressor"
   ]
  },
  {
   "cell_type": "code",
   "execution_count": 29,
   "metadata": {},
   "outputs": [],
   "source": [
    "from sklearn.ensemble import ExtraTreesRegressor"
   ]
  },
  {
   "cell_type": "markdown",
   "metadata": {},
   "source": [
    "### Optimization of Extra Tree Regressor \n",
    "Building multiple models with different depths to find best model with lowest mean squared error. Best depth should be 15"
   ]
  },
  {
   "cell_type": "code",
   "execution_count": 30,
   "metadata": {},
   "outputs": [],
   "source": [
    "# # Define a list of depths to test\n",
    "# depths = [5, 10, 15, 20, 25, 30]\n",
    "# mse_scores_ET = []\n",
    "\n",
    "# # Iterate over different depths and calculate MSE\n",
    "# for depth in depths:\n",
    "#     temp_model_ET = ExtraTreesRegressor(n_estimators=100, max_depth=depth, random_state=42)\n",
    "#     temp_model_ET.fit(X_train_Regression, Y_train_Regression)\n",
    "#     temp_y_pred_ET = temp_model_ET.predict(X_test_Regression)\n",
    "#     mse = mean_squared_error(Y_test_Regression, temp_y_pred_ET)\n",
    "#     mse_scores_ET.append(mse)"
   ]
  },
  {
   "cell_type": "code",
   "execution_count": 31,
   "metadata": {},
   "outputs": [],
   "source": [
    "# # Plotting the MSE scores\n",
    "# plt.plot(depths, mse_scores_ET, marker='o')\n",
    "# plt.xlabel('Depth')\n",
    "# plt.ylabel('Mean Squared Error')\n",
    "# plt.title('Mean Squared Error vs. Depth for Extra Trees Regressor')\n",
    "# plt.show()"
   ]
  },
  {
   "cell_type": "markdown",
   "metadata": {},
   "source": [
    "Building multiple models with different number of decision trees \"n_estimators\" to find best \"n_estimator\". Best number of decision trees should be 200"
   ]
  },
  {
   "cell_type": "code",
   "execution_count": 32,
   "metadata": {},
   "outputs": [],
   "source": [
    "# # Define a list of n_estimators to test\n",
    "# n_estimators_values = [50, 100, 150, 200, 250, 300]\n",
    "# mse_scores_ET = []\n",
    "\n",
    "# # Iterate over different n_estimators and calculate MSE\n",
    "# for n_estimators in n_estimators_values:\n",
    "#     temp_model_ET = RandomForestRegressor(n_estimators=n_estimators, max_depth=15, random_state=42)\n",
    "#     temp_model_ET.fit(X_train_Regression, Y_train_Regression)\n",
    "#     temp_y_pred_RF = temp_model_ET.predict(X_test_Regression)\n",
    "#     mse = mean_squared_error(Y_test_Regression, temp_y_pred_RF)\n",
    "#     mse_scores_ET.append(mse)\n",
    "# print(mse_scores_ET)"
   ]
  },
  {
   "cell_type": "code",
   "execution_count": 33,
   "metadata": {},
   "outputs": [],
   "source": [
    "# # Plotting the MSE scores\n",
    "# plt.plot(n_estimators_values, mse_scores_ET, marker='o')\n",
    "# plt.xlabel('n_estimators')\n",
    "# plt.ylabel('Mean Squared Error')\n",
    "# plt.title('Mean Squared Error vs. n_estimators for Extra Trees Regressor')\n",
    "# plt.show()"
   ]
  },
  {
   "cell_type": "markdown",
   "metadata": {},
   "source": [
    "### Training with Best Extra Trees Regressor\n",
    "This model will allow us predict an X, Y, Z coordinate in relation to the independent features supplied"
   ]
  },
  {
   "cell_type": "code",
   "execution_count": 34,
   "metadata": {},
   "outputs": [],
   "source": [
    "# Define the Extra Trees Regressor\n",
    "model_ExtraTrees = ExtraTreesRegressor()\n",
    "model_ExtraTrees.fit(X_train_Regression, Y_train_Regression)\n",
    "y_pred_ET = model_ExtraTrees.predict(X_test_Regression)"
   ]
  },
  {
   "cell_type": "markdown",
   "metadata": {},
   "source": [
    "### Training Evaluation of Extra Trees Regressor\n",
    "Mean squared error and root mean squared errors are error margin metrics for regression models. Refer to root mean squared error for a closer error margin to original metric"
   ]
  },
  {
   "cell_type": "code",
   "execution_count": 35,
   "metadata": {},
   "outputs": [
    {
     "name": "stdout",
     "output_type": "stream",
     "text": [
      "Mean Squared Error: 0.0008745922840829946\n",
      "Root Squared Error: 0.029573506455660523\n"
     ]
    }
   ],
   "source": [
    "mse = mean_squared_error(Y_test_Regression, y_pred_ET)\n",
    "print(\"Mean Squared Error:\", mse)\n",
    "rmse = math.sqrt(mse)\n",
    "print(\"Root Squared Error:\", rmse)"
   ]
  },
  {
   "cell_type": "markdown",
   "metadata": {},
   "source": [
    "Check for generalization of data and if data is able to capture underlying pattern properly. This is done with a learning curve, with a negative mean squared metric. If the training and validation lines converge at a low error rate, that means that the model is well generalized and captures patterns properly"
   ]
  },
  {
   "cell_type": "code",
   "execution_count": 36,
   "metadata": {},
   "outputs": [],
   "source": [
    "# # Calculate the learning curves\n",
    "# train_sizes, train_scores, val_scores = learning_curve(model_ExtraTrees, X_train_Regression, Y_train_Regression, cv=5, scoring='neg_mean_squared_error')\n",
    "\n",
    "# # Calculate the mean and standard deviation of train and validation scores\n",
    "# train_mean = -np.mean(train_scores, axis=1)\n",
    "# train_std = np.std(train_scores, axis=1)\n",
    "# val_mean = -np.mean(val_scores, axis=1)\n",
    "# val_std = np.std(val_scores, axis=1)"
   ]
  },
  {
   "cell_type": "code",
   "execution_count": 37,
   "metadata": {},
   "outputs": [],
   "source": [
    "# # Plot the learning curves\n",
    "# plt.figure(figsize=(10, 7))\n",
    "# plt.plot(train_sizes, train_mean, label='Training score', color='blue')\n",
    "# plt.fill_between(train_sizes, train_mean - train_std, train_mean + train_std, alpha=0.1, color='blue')\n",
    "# plt.plot(train_sizes, val_mean, label='Validation score', color='red')\n",
    "# plt.fill_between(train_sizes, val_mean - val_std, val_mean + val_std, alpha=0.1, color='red')\n",
    "# plt.xlabel('Training Set Size')\n",
    "# plt.ylabel('Negative Mean Squared Error')\n",
    "# plt.title('Learning Curve for Extra Trees')\n",
    "# plt.legend(loc='best')\n",
    "# plt.show()"
   ]
  },
  {
   "cell_type": "markdown",
   "metadata": {},
   "source": [
    "### Model Visualization of Extra Trees Regressor"
   ]
  },
  {
   "cell_type": "code",
   "execution_count": 38,
   "metadata": {},
   "outputs": [
    {
     "data": {
      "image/png": "[encoded data removed]",
      "text/plain": [
       "<Figure size 1500x500 with 3 Axes>"
      ]
     },
     "metadata": {},
     "output_type": "display_data"
    }
   ],
   "source": [
    "# Plotting the scatterplot\n",
    "fig, ax = plt.subplots(1, 3, figsize=(15, 5))\n",
    "\n",
    "# Plotting for each target variable\n",
    "for i, target in enumerate(Y_features_Regression.columns):\n",
    "    ax[i].scatter(Y_test_Regression[target], y_pred_ET[:, i], alpha=0.5)\n",
    "    ax[i].plot([Y_test_Regression[target].min(), Y_test_Regression[target].max()], [Y_test_Regression[target].min(), Y_test_Regression[target].max()], 'r--')\n",
    "    ax[i].set_xlabel('Actual ' + target)\n",
    "    ax[i].set_ylabel('Predicted ' + target)\n",
    "\n",
    "plt.suptitle('Actual vs Predicted Y for Extra Trees Regressor')\n",
    "plt.tight_layout()\n",
    "plt.show()"
   ]
  },
  {
   "cell_type": "code",
   "execution_count": 39,
   "metadata": {},
   "outputs": [
    {
     "data": {
      "text/plain": [
       "'interactive_models/extra_trees_limited_model.html'"
      ]
     },
     "execution_count": 39,
     "metadata": {},
     "output_type": "execute_result"
    }
   ],
   "source": [
    "# Create traces for actual and predicted values\n",
    "actual_trace = go.Scatter3d(\n",
    "    x=Y_test_Regression['SHUTTLECOCK POSITIION IN AIR(X) metres'],\n",
    "    y=Y_test_Regression['SHUTTLECOCK POSITIION IN AIR(Y) metres'],\n",
    "    z=Y_test_Regression['SHUTTLECOCK POSITIION IN AIR(Z) metres'],\n",
    "    name='Actual',\n",
    "    mode='markers',\n",
    "    marker=dict(\n",
    "        color='blue',\n",
    "        size=3,\n",
    "        symbol='circle'\n",
    "    )\n",
    ")\n",
    "\n",
    "predicted_trace = go.Scatter3d(\n",
    "    x=y_pred_ET[:, 0],\n",
    "    y=y_pred_ET[:, 1],\n",
    "    z=y_pred_ET[:, 2],\n",
    "    name='Predicted',\n",
    "    mode='markers',\n",
    "    marker=dict(\n",
    "        color='red',\n",
    "        size=3,\n",
    "        symbol='circle'\n",
    "    )\n",
    ")\n",
    "\n",
    "# Create layout\n",
    "layout = go.Layout(\n",
    "    title='Actual vs Predicted Shuttlecock Positions for Extra Trees Regressor',\n",
    "    scene=dict(\n",
    "        xaxis=dict(title='X'),\n",
    "        yaxis=dict(title='Y'),\n",
    "        zaxis=dict(title='Z')\n",
    "    )\n",
    ")\n",
    "\n",
    "# Create figure\n",
    "fig = go.Figure(data=[actual_trace, predicted_trace], layout=layout)\n",
    "\n",
    "# Save the plot as an HTML file\n",
    "plot(fig, filename='interactive_models/extra_trees_limited_model.html')"
   ]
  },
  {
   "cell_type": "markdown",
   "metadata": {},
   "source": [
    "## Stage: Actual Testing with First Coordinate\n",
    "To actually test if all the models work, the first point of an observation group will be used for testing. Test will be randomized and based on observation group. Assuming that we will know the sequence order of the observation since they are ordered, OBSERVATION NUMBER will be used to identify the first observation"
   ]
  },
  {
   "cell_type": "code",
   "execution_count": 40,
   "metadata": {},
   "outputs": [
    {
     "name": "stdout",
     "output_type": "stream",
     "text": [
      "Selected Observation Group Number is : 530\n"
     ]
    },
    {
     "data": {
      "text/html": [
       "<div>\n",
       "<style scoped>\n",
       "    .dataframe tbody tr th:only-of-type {\n",
       "        vertical-align: middle;\n",
       "    }\n",
       "\n",
       "    .dataframe tbody tr th {\n",
       "        vertical-align: top;\n",
       "    }\n",
       "\n",
       "    .dataframe thead th {\n",
       "        text-align: right;\n",
       "    }\n",
       "</style>\n",
       "<table border=\"1\" class=\"dataframe\">\n",
       "  <thead>\n",
       "    <tr style=\"text-align: right;\">\n",
       "      <th></th>\n",
       "      <th>SHUTTLECOCK POSITIION IN AIR(X) metres</th>\n",
       "      <th>SHUTTLECOCK POSITIION IN AIR(Y) metres</th>\n",
       "      <th>SHUTTLECOCK POSITIION IN AIR(Z) metres</th>\n",
       "      <th>OBSERVATION NUMBER</th>\n",
       "    </tr>\n",
       "  </thead>\n",
       "  <tbody>\n",
       "    <tr>\n",
       "      <th>60278</th>\n",
       "      <td>4.076043</td>\n",
       "      <td>2.01896</td>\n",
       "      <td>2.664532</td>\n",
       "      <td>1.0</td>\n",
       "    </tr>\n",
       "  </tbody>\n",
       "</table>\n",
       "</div>"
      ],
      "text/plain": [
       "       SHUTTLECOCK POSITIION IN AIR(X) metres  \\\n",
       "60278                                4.076043   \n",
       "\n",
       "       SHUTTLECOCK POSITIION IN AIR(Y) metres  \\\n",
       "60278                                 2.01896   \n",
       "\n",
       "       SHUTTLECOCK POSITIION IN AIR(Z) metres  OBSERVATION NUMBER  \n",
       "60278                                2.664532                 1.0  "
      ]
     },
     "execution_count": 40,
     "metadata": {},
     "output_type": "execute_result"
    }
   ],
   "source": [
    "import random\n",
    "# copied to avoid alterations to cleaned data\n",
    "test_data = temp_data.copy()\n",
    "\n",
    "# choose a random from the observation groups to test\n",
    "unique_observation_grps = test_data['OBSERVATION GROUP NUMBER'].nunique()\n",
    "selected_test_num = random.randint(1, unique_observation_grps)\n",
    "print(\"Selected Observation Group Number is :\", selected_test_num)\n",
    "\n",
    "# alternatively can hardcode to replicate results\n",
    "# selected_test_num = ?\n",
    "\n",
    "# retrieve all the rows from the data related to randomly selected row\n",
    "y_actual_records = test_data[test_data['OBSERVATION GROUP NUMBER'] == selected_test_num]\n",
    "\n",
    "# get the first coordinate of selected observation for input\n",
    "y_first_coord = y_actual_records.head(1)\n",
    "y_first_coord = y_first_coord[['SHUTTLECOCK POSITIION IN AIR(X) metres', 'SHUTTLECOCK POSITIION IN AIR(Y) metres', 'SHUTTLECOCK POSITIION IN AIR(Z) metres', 'OBSERVATION NUMBER']]\n",
    "\n",
    "# show the test data\n",
    "y_first_coord\n"
   ]
  },
  {
   "cell_type": "markdown",
   "metadata": {},
   "source": [
    "### Generate Features for Input\n",
    "Generate human initial position"
   ]
  },
  {
   "cell_type": "code",
   "execution_count": 41,
   "metadata": {},
   "outputs": [
    {
     "data": {
      "text/html": [
       "<div>\n",
       "<style scoped>\n",
       "    .dataframe tbody tr th:only-of-type {\n",
       "        vertical-align: middle;\n",
       "    }\n",
       "\n",
       "    .dataframe tbody tr th {\n",
       "        vertical-align: top;\n",
       "    }\n",
       "\n",
       "    .dataframe thead th {\n",
       "        text-align: right;\n",
       "    }\n",
       "</style>\n",
       "<table border=\"1\" class=\"dataframe\">\n",
       "  <thead>\n",
       "    <tr style=\"text-align: right;\">\n",
       "      <th></th>\n",
       "      <th>SHUTTLECOCK POSITIION IN AIR(X) metres</th>\n",
       "      <th>SHUTTLECOCK POSITIION IN AIR(Y) metres</th>\n",
       "      <th>SHUTTLECOCK POSITIION IN AIR(Z) metres</th>\n",
       "      <th>OBSERVATION NUMBER</th>\n",
       "      <th>HUMAN PLAYER POSITION (X) metres</th>\n",
       "      <th>HUMAN PLAYER POSITION (Y) metres</th>\n",
       "      <th>HUMAN PLAYER POSITION (Z) metres</th>\n",
       "    </tr>\n",
       "  </thead>\n",
       "  <tbody>\n",
       "    <tr>\n",
       "      <th>60278</th>\n",
       "      <td>4.076043</td>\n",
       "      <td>2.01896</td>\n",
       "      <td>2.664532</td>\n",
       "      <td>1.0</td>\n",
       "      <td>4</td>\n",
       "      <td>2.0</td>\n",
       "      <td>2.6</td>\n",
       "    </tr>\n",
       "  </tbody>\n",
       "</table>\n",
       "</div>"
      ],
      "text/plain": [
       "       SHUTTLECOCK POSITIION IN AIR(X) metres  \\\n",
       "60278                                4.076043   \n",
       "\n",
       "       SHUTTLECOCK POSITIION IN AIR(Y) metres  \\\n",
       "60278                                 2.01896   \n",
       "\n",
       "       SHUTTLECOCK POSITIION IN AIR(Z) metres  OBSERVATION NUMBER  \\\n",
       "60278                                2.664532                 1.0   \n",
       "\n",
       "       HUMAN PLAYER POSITION (X) metres  HUMAN PLAYER POSITION (Y) metres  \\\n",
       "60278                                 4                               2.0   \n",
       "\n",
       "       HUMAN PLAYER POSITION (Z) metres  \n",
       "60278                               2.6  "
      ]
     },
     "execution_count": 41,
     "metadata": {},
     "output_type": "execute_result"
    }
   ],
   "source": [
    "# Generate Initial Human Position\n",
    "rounded_value_x = math.floor(y_first_coord['SHUTTLECOCK POSITIION IN AIR(X) metres'])\n",
    "rounded_value_y = round(y_first_coord['SHUTTLECOCK POSITIION IN AIR(Y) metres'])\n",
    "rounded_value_z = y_first_coord['SHUTTLECOCK POSITIION IN AIR(Z) metres'].apply(lambda x: min(1.6, 2.6, key=lambda y: abs(y - x)))\n",
    "# rounded_value_z = min(1.6, 2.6, key=lambda x: abs(x - y_first_coord['SHUTTLECOCK POSITIION IN AIR(Z) metres']))\n",
    "\n",
    "y_first_coord['HUMAN PLAYER POSITION (X) metres'] = rounded_value_x\n",
    "y_first_coord['HUMAN PLAYER POSITION (Y) metres'] = rounded_value_y\n",
    "y_first_coord['HUMAN PLAYER POSITION (Z) metres'] = rounded_value_z\n",
    "\n",
    "y_first_coord"
   ]
  },
  {
   "cell_type": "markdown",
   "metadata": {},
   "source": [
    "Generate initial velocity, slant angle, firing angle"
   ]
  },
  {
   "cell_type": "code",
   "execution_count": 42,
   "metadata": {},
   "outputs": [
    {
     "data": {
      "text/html": [
       "<div>\n",
       "<style scoped>\n",
       "    .dataframe tbody tr th:only-of-type {\n",
       "        vertical-align: middle;\n",
       "    }\n",
       "\n",
       "    .dataframe tbody tr th {\n",
       "        vertical-align: top;\n",
       "    }\n",
       "\n",
       "    .dataframe thead th {\n",
       "        text-align: right;\n",
       "    }\n",
       "</style>\n",
       "<table border=\"1\" class=\"dataframe\">\n",
       "  <thead>\n",
       "    <tr style=\"text-align: right;\">\n",
       "      <th></th>\n",
       "      <th>SHUTTLECOCK POSITIION IN AIR(X) metres</th>\n",
       "      <th>SHUTTLECOCK POSITIION IN AIR(Y) metres</th>\n",
       "      <th>SHUTTLECOCK POSITIION IN AIR(Z) metres</th>\n",
       "      <th>OBSERVATION NUMBER</th>\n",
       "      <th>HUMAN PLAYER POSITION (X) metres</th>\n",
       "      <th>HUMAN PLAYER POSITION (Y) metres</th>\n",
       "      <th>HUMAN PLAYER POSITION (Z) metres</th>\n",
       "      <th>INITIAL SHUTTELCOCK FIRING ANGLE (DEGREE)</th>\n",
       "      <th>INITIAL SHUTTELCOCK SLANT ANGLE TO SIDELINE(DEGREE)</th>\n",
       "      <th>INITITAL VELOCITY OF SHUTTELCOCK(m/s)</th>\n",
       "    </tr>\n",
       "  </thead>\n",
       "  <tbody>\n",
       "    <tr>\n",
       "      <th>60278</th>\n",
       "      <td>4.076043</td>\n",
       "      <td>2.01896</td>\n",
       "      <td>2.664532</td>\n",
       "      <td>1.0</td>\n",
       "      <td>4</td>\n",
       "      <td>2.0</td>\n",
       "      <td>2.6</td>\n",
       "      <td>50</td>\n",
       "      <td>14</td>\n",
       "      <td>1</td>\n",
       "    </tr>\n",
       "  </tbody>\n",
       "</table>\n",
       "</div>"
      ],
      "text/plain": [
       "       SHUTTLECOCK POSITIION IN AIR(X) metres  \\\n",
       "60278                                4.076043   \n",
       "\n",
       "       SHUTTLECOCK POSITIION IN AIR(Y) metres  \\\n",
       "60278                                 2.01896   \n",
       "\n",
       "       SHUTTLECOCK POSITIION IN AIR(Z) metres  OBSERVATION NUMBER  \\\n",
       "60278                                2.664532                 1.0   \n",
       "\n",
       "       HUMAN PLAYER POSITION (X) metres  HUMAN PLAYER POSITION (Y) metres  \\\n",
       "60278                                 4                               2.0   \n",
       "\n",
       "       HUMAN PLAYER POSITION (Z) metres  \\\n",
       "60278                               2.6   \n",
       "\n",
       "       INITIAL SHUTTELCOCK FIRING ANGLE (DEGREE)  \\\n",
       "60278                                         50   \n",
       "\n",
       "       INITIAL SHUTTELCOCK SLANT ANGLE TO SIDELINE(DEGREE)  \\\n",
       "60278                                                 14     \n",
       "\n",
       "       INITITAL VELOCITY OF SHUTTELCOCK(m/s)  \n",
       "60278                                      1  "
      ]
     },
     "execution_count": 42,
     "metadata": {},
     "output_type": "execute_result"
    }
   ],
   "source": [
    "# calculate displacement\n",
    "X_displacement_test = y_first_coord['SHUTTLECOCK POSITIION IN AIR(X) metres'] - y_first_coord['HUMAN PLAYER POSITION (X) metres']\n",
    "Y_displacement_test = y_first_coord['SHUTTLECOCK POSITIION IN AIR(Y) metres'] - y_first_coord['HUMAN PLAYER POSITION (Y) metres'] \n",
    "Z_displacement_test = y_first_coord['SHUTTLECOCK POSITIION IN AIR(Z) metres'] - y_first_coord['HUMAN PLAYER POSITION (Z) metres']\n",
    "\n",
    "# calculate initial firing angle\n",
    "firing_angle_radians = math.atan(X_displacement_test / Z_displacement_test)\n",
    "firing_angle_degrees = math.degrees(firing_angle_radians)\n",
    "# round to nearest 10 for firing angle\n",
    "y_first_coord['INITIAL SHUTTELCOCK FIRING ANGLE (DEGREE)'] = round(firing_angle_degrees / 10) * 10\n",
    "\n",
    "# calculate initial slant angle\n",
    "slant_angle_radians = math.atan(Y_displacement_test / X_displacement_test)\n",
    "slant_angle_degrees = math.degrees(slant_angle_radians)\n",
    "y_first_coord['INITIAL SHUTTELCOCK SLANT ANGLE TO SIDELINE(DEGREE)'] = round(slant_angle_degrees)\n",
    "\n",
    "# Calculate the initial velocity (v₀)\n",
    "time_elapsed = 0.1\n",
    "displacement = math.sqrt(X_displacement_test**2 + Y_displacement_test**2 + Z_displacement_test**2)\n",
    "initial_velocity = round(displacement/time_elapsed)\n",
    "# round to nearest 10 for velocity\n",
    "y_first_coord['INITITAL VELOCITY OF SHUTTELCOCK(m/s)'] = initial_velocity\n",
    "y_first_coord"
   ]
  },
  {
   "cell_type": "markdown",
   "metadata": {},
   "source": [
    "Predict number of observations within a Trajectory for test record"
   ]
  },
  {
   "cell_type": "code",
   "execution_count": 43,
   "metadata": {},
   "outputs": [
    {
     "name": "stdout",
     "output_type": "stream",
     "text": [
      "Predicted observation is : 128\n",
      "Actual number of observations is : 128\n"
     ]
    }
   ],
   "source": [
    "# select the input features we want to feed into the decision tree model to prediction observation\n",
    "X_actual_test_DT = y_first_coord[['HUMAN PLAYER POSITION (X) metres', \n",
    "                                    'HUMAN PLAYER POSITION (Y) metres',\n",
    "                                    'HUMAN PLAYER POSITION (Z) metres', \n",
    "                                    'INITITAL VELOCITY OF SHUTTELCOCK(m/s)', \n",
    "                                    'INITIAL SHUTTELCOCK FIRING ANGLE (DEGREE)', \n",
    "                                    'INITIAL SHUTTELCOCK SLANT ANGLE TO SIDELINE(DEGREE)']]\n",
    "\n",
    "predicted_observation = int(model_decisionTree.predict(X_actual_test_DT))\n",
    "print(\"Predicted observation is :\", predicted_observation)\n",
    "print(\"Actual number of observations is :\", len(y_actual_records))"
   ]
  },
  {
   "cell_type": "markdown",
   "metadata": {},
   "source": [
    "Prepare input features to be fed into Regressor Models"
   ]
  },
  {
   "cell_type": "code",
   "execution_count": 44,
   "metadata": {},
   "outputs": [
    {
     "data": {
      "text/plain": [
       "[[4.0, 2.0, 2.6, 1.0, 50.0, 14.0, 1],\n",
       " [4.0, 2.0, 2.6, 1.0, 50.0, 14.0, 2],\n",
       " [4.0, 2.0, 2.6, 1.0, 50.0, 14.0, 3],\n",
       " [4.0, 2.0, 2.6, 1.0, 50.0, 14.0, 4],\n",
       " [4.0, 2.0, 2.6, 1.0, 50.0, 14.0, 5],\n",
       " [4.0, 2.0, 2.6, 1.0, 50.0, 14.0, 6],\n",
       " [4.0, 2.0, 2.6, 1.0, 50.0, 14.0, 7],\n",
       " [4.0, 2.0, 2.6, 1.0, 50.0, 14.0, 8],\n",
       " [4.0, 2.0, 2.6, 1.0, 50.0, 14.0, 9],\n",
       " [4.0, 2.0, 2.6, 1.0, 50.0, 14.0, 10],\n",
       " [4.0, 2.0, 2.6, 1.0, 50.0, 14.0, 11],\n",
       " [4.0, 2.0, 2.6, 1.0, 50.0, 14.0, 12],\n",
       " [4.0, 2.0, 2.6, 1.0, 50.0, 14.0, 13],\n",
       " [4.0, 2.0, 2.6, 1.0, 50.0, 14.0, 14],\n",
       " [4.0, 2.0, 2.6, 1.0, 50.0, 14.0, 15],\n",
       " [4.0, 2.0, 2.6, 1.0, 50.0, 14.0, 16],\n",
       " [4.0, 2.0, 2.6, 1.0, 50.0, 14.0, 17],\n",
       " [4.0, 2.0, 2.6, 1.0, 50.0, 14.0, 18],\n",
       " [4.0, 2.0, 2.6, 1.0, 50.0, 14.0, 19],\n",
       " [4.0, 2.0, 2.6, 1.0, 50.0, 14.0, 20],\n",
       " [4.0, 2.0, 2.6, 1.0, 50.0, 14.0, 21],\n",
       " [4.0, 2.0, 2.6, 1.0, 50.0, 14.0, 22],\n",
       " [4.0, 2.0, 2.6, 1.0, 50.0, 14.0, 23],\n",
       " [4.0, 2.0, 2.6, 1.0, 50.0, 14.0, 24],\n",
       " [4.0, 2.0, 2.6, 1.0, 50.0, 14.0, 25],\n",
       " [4.0, 2.0, 2.6, 1.0, 50.0, 14.0, 26],\n",
       " [4.0, 2.0, 2.6, 1.0, 50.0, 14.0, 27],\n",
       " [4.0, 2.0, 2.6, 1.0, 50.0, 14.0, 28],\n",
       " [4.0, 2.0, 2.6, 1.0, 50.0, 14.0, 29],\n",
       " [4.0, 2.0, 2.6, 1.0, 50.0, 14.0, 30],\n",
       " [4.0, 2.0, 2.6, 1.0, 50.0, 14.0, 31],\n",
       " [4.0, 2.0, 2.6, 1.0, 50.0, 14.0, 32],\n",
       " [4.0, 2.0, 2.6, 1.0, 50.0, 14.0, 33],\n",
       " [4.0, 2.0, 2.6, 1.0, 50.0, 14.0, 34],\n",
       " [4.0, 2.0, 2.6, 1.0, 50.0, 14.0, 35],\n",
       " [4.0, 2.0, 2.6, 1.0, 50.0, 14.0, 36],\n",
       " [4.0, 2.0, 2.6, 1.0, 50.0, 14.0, 37],\n",
       " [4.0, 2.0, 2.6, 1.0, 50.0, 14.0, 38],\n",
       " [4.0, 2.0, 2.6, 1.0, 50.0, 14.0, 39],\n",
       " [4.0, 2.0, 2.6, 1.0, 50.0, 14.0, 40],\n",
       " [4.0, 2.0, 2.6, 1.0, 50.0, 14.0, 41],\n",
       " [4.0, 2.0, 2.6, 1.0, 50.0, 14.0, 42],\n",
       " [4.0, 2.0, 2.6, 1.0, 50.0, 14.0, 43],\n",
       " [4.0, 2.0, 2.6, 1.0, 50.0, 14.0, 44],\n",
       " [4.0, 2.0, 2.6, 1.0, 50.0, 14.0, 45],\n",
       " [4.0, 2.0, 2.6, 1.0, 50.0, 14.0, 46],\n",
       " [4.0, 2.0, 2.6, 1.0, 50.0, 14.0, 47],\n",
       " [4.0, 2.0, 2.6, 1.0, 50.0, 14.0, 48],\n",
       " [4.0, 2.0, 2.6, 1.0, 50.0, 14.0, 49],\n",
       " [4.0, 2.0, 2.6, 1.0, 50.0, 14.0, 50],\n",
       " [4.0, 2.0, 2.6, 1.0, 50.0, 14.0, 51],\n",
       " [4.0, 2.0, 2.6, 1.0, 50.0, 14.0, 52],\n",
       " [4.0, 2.0, 2.6, 1.0, 50.0, 14.0, 53],\n",
       " [4.0, 2.0, 2.6, 1.0, 50.0, 14.0, 54],\n",
       " [4.0, 2.0, 2.6, 1.0, 50.0, 14.0, 55],\n",
       " [4.0, 2.0, 2.6, 1.0, 50.0, 14.0, 56],\n",
       " [4.0, 2.0, 2.6, 1.0, 50.0, 14.0, 57],\n",
       " [4.0, 2.0, 2.6, 1.0, 50.0, 14.0, 58],\n",
       " [4.0, 2.0, 2.6, 1.0, 50.0, 14.0, 59],\n",
       " [4.0, 2.0, 2.6, 1.0, 50.0, 14.0, 60],\n",
       " [4.0, 2.0, 2.6, 1.0, 50.0, 14.0, 61],\n",
       " [4.0, 2.0, 2.6, 1.0, 50.0, 14.0, 62],\n",
       " [4.0, 2.0, 2.6, 1.0, 50.0, 14.0, 63],\n",
       " [4.0, 2.0, 2.6, 1.0, 50.0, 14.0, 64],\n",
       " [4.0, 2.0, 2.6, 1.0, 50.0, 14.0, 65],\n",
       " [4.0, 2.0, 2.6, 1.0, 50.0, 14.0, 66],\n",
       " [4.0, 2.0, 2.6, 1.0, 50.0, 14.0, 67],\n",
       " [4.0, 2.0, 2.6, 1.0, 50.0, 14.0, 68],\n",
       " [4.0, 2.0, 2.6, 1.0, 50.0, 14.0, 69],\n",
       " [4.0, 2.0, 2.6, 1.0, 50.0, 14.0, 70],\n",
       " [4.0, 2.0, 2.6, 1.0, 50.0, 14.0, 71],\n",
       " [4.0, 2.0, 2.6, 1.0, 50.0, 14.0, 72],\n",
       " [4.0, 2.0, 2.6, 1.0, 50.0, 14.0, 73],\n",
       " [4.0, 2.0, 2.6, 1.0, 50.0, 14.0, 74],\n",
       " [4.0, 2.0, 2.6, 1.0, 50.0, 14.0, 75],\n",
       " [4.0, 2.0, 2.6, 1.0, 50.0, 14.0, 76],\n",
       " [4.0, 2.0, 2.6, 1.0, 50.0, 14.0, 77],\n",
       " [4.0, 2.0, 2.6, 1.0, 50.0, 14.0, 78],\n",
       " [4.0, 2.0, 2.6, 1.0, 50.0, 14.0, 79],\n",
       " [4.0, 2.0, 2.6, 1.0, 50.0, 14.0, 80],\n",
       " [4.0, 2.0, 2.6, 1.0, 50.0, 14.0, 81],\n",
       " [4.0, 2.0, 2.6, 1.0, 50.0, 14.0, 82],\n",
       " [4.0, 2.0, 2.6, 1.0, 50.0, 14.0, 83],\n",
       " [4.0, 2.0, 2.6, 1.0, 50.0, 14.0, 84],\n",
       " [4.0, 2.0, 2.6, 1.0, 50.0, 14.0, 85],\n",
       " [4.0, 2.0, 2.6, 1.0, 50.0, 14.0, 86],\n",
       " [4.0, 2.0, 2.6, 1.0, 50.0, 14.0, 87],\n",
       " [4.0, 2.0, 2.6, 1.0, 50.0, 14.0, 88],\n",
       " [4.0, 2.0, 2.6, 1.0, 50.0, 14.0, 89],\n",
       " [4.0, 2.0, 2.6, 1.0, 50.0, 14.0, 90],\n",
       " [4.0, 2.0, 2.6, 1.0, 50.0, 14.0, 91],\n",
       " [4.0, 2.0, 2.6, 1.0, 50.0, 14.0, 92],\n",
       " [4.0, 2.0, 2.6, 1.0, 50.0, 14.0, 93],\n",
       " [4.0, 2.0, 2.6, 1.0, 50.0, 14.0, 94],\n",
       " [4.0, 2.0, 2.6, 1.0, 50.0, 14.0, 95],\n",
       " [4.0, 2.0, 2.6, 1.0, 50.0, 14.0, 96],\n",
       " [4.0, 2.0, 2.6, 1.0, 50.0, 14.0, 97],\n",
       " [4.0, 2.0, 2.6, 1.0, 50.0, 14.0, 98],\n",
       " [4.0, 2.0, 2.6, 1.0, 50.0, 14.0, 99],\n",
       " [4.0, 2.0, 2.6, 1.0, 50.0, 14.0, 100],\n",
       " [4.0, 2.0, 2.6, 1.0, 50.0, 14.0, 101],\n",
       " [4.0, 2.0, 2.6, 1.0, 50.0, 14.0, 102],\n",
       " [4.0, 2.0, 2.6, 1.0, 50.0, 14.0, 103],\n",
       " [4.0, 2.0, 2.6, 1.0, 50.0, 14.0, 104],\n",
       " [4.0, 2.0, 2.6, 1.0, 50.0, 14.0, 105],\n",
       " [4.0, 2.0, 2.6, 1.0, 50.0, 14.0, 106],\n",
       " [4.0, 2.0, 2.6, 1.0, 50.0, 14.0, 107],\n",
       " [4.0, 2.0, 2.6, 1.0, 50.0, 14.0, 108],\n",
       " [4.0, 2.0, 2.6, 1.0, 50.0, 14.0, 109],\n",
       " [4.0, 2.0, 2.6, 1.0, 50.0, 14.0, 110],\n",
       " [4.0, 2.0, 2.6, 1.0, 50.0, 14.0, 111],\n",
       " [4.0, 2.0, 2.6, 1.0, 50.0, 14.0, 112],\n",
       " [4.0, 2.0, 2.6, 1.0, 50.0, 14.0, 113],\n",
       " [4.0, 2.0, 2.6, 1.0, 50.0, 14.0, 114],\n",
       " [4.0, 2.0, 2.6, 1.0, 50.0, 14.0, 115],\n",
       " [4.0, 2.0, 2.6, 1.0, 50.0, 14.0, 116],\n",
       " [4.0, 2.0, 2.6, 1.0, 50.0, 14.0, 117],\n",
       " [4.0, 2.0, 2.6, 1.0, 50.0, 14.0, 118],\n",
       " [4.0, 2.0, 2.6, 1.0, 50.0, 14.0, 119],\n",
       " [4.0, 2.0, 2.6, 1.0, 50.0, 14.0, 120],\n",
       " [4.0, 2.0, 2.6, 1.0, 50.0, 14.0, 121],\n",
       " [4.0, 2.0, 2.6, 1.0, 50.0, 14.0, 122],\n",
       " [4.0, 2.0, 2.6, 1.0, 50.0, 14.0, 123],\n",
       " [4.0, 2.0, 2.6, 1.0, 50.0, 14.0, 124],\n",
       " [4.0, 2.0, 2.6, 1.0, 50.0, 14.0, 125],\n",
       " [4.0, 2.0, 2.6, 1.0, 50.0, 14.0, 126],\n",
       " [4.0, 2.0, 2.6, 1.0, 50.0, 14.0, 127],\n",
       " [4.0, 2.0, 2.6, 1.0, 50.0, 14.0, 128]]"
      ]
     },
     "execution_count": 44,
     "metadata": {},
     "output_type": "execute_result"
    }
   ],
   "source": [
    "# container to store prepared input features we want to feed into the regression model to predict entire trajectory x, y, z coordinates\n",
    "X_actual_test_Regressor = []\n",
    "# select x features and change the observation number accordingly and add into container\n",
    "for obs_num in range(1, predicted_observation+1):\n",
    "    temp = (y_first_coord[['HUMAN PLAYER POSITION (X) metres', \n",
    "                            'HUMAN PLAYER POSITION (Y) metres',\n",
    "                            'HUMAN PLAYER POSITION (Z) metres',\n",
    "                            'INITITAL VELOCITY OF SHUTTELCOCK(m/s)', \n",
    "                            'INITIAL SHUTTELCOCK FIRING ANGLE (DEGREE)', \n",
    "                            'INITIAL SHUTTELCOCK SLANT ANGLE TO SIDELINE(DEGREE)']]).values.tolist()\n",
    "    temp_obs_row = temp[:5][0]\n",
    "    temp_obs_row.append(obs_num)\n",
    "    X_actual_test_Regressor.append(temp_obs_row)\n",
    "X_actual_test_Regressor"
   ]
  },
  {
   "cell_type": "code",
   "execution_count": 45,
   "metadata": {},
   "outputs": [],
   "source": [
    "# Get array into dataframe format\n",
    "column_names = [\n",
    "    'HUMAN PLAYER POSITION (X) metres',\n",
    "    'HUMAN PLAYER POSITION (Y) metres',\n",
    "    'HUMAN PLAYER POSITION (Z) metres',\n",
    "    'INITITAL VELOCITY OF SHUTTELCOCK(m/s)',\n",
    "    'INITIAL SHUTTELCOCK FIRING ANGLE (DEGREE)',\n",
    "    'INITIAL SHUTTELCOCK SLANT ANGLE TO SIDELINE(DEGREE)',\n",
    "    'OBSERVATION NUMBER'\n",
    "]\n",
    "X_actual_test_Regressor_DF = pd.DataFrame(X_actual_test_Regressor, columns = column_names)"
   ]
  },
  {
   "cell_type": "markdown",
   "metadata": {},
   "source": [
    "Predict the Trajectory using Trained Models, outputs an array of predicted shuttlecock trajectory coordinates"
   ]
  },
  {
   "cell_type": "code",
   "execution_count": 46,
   "metadata": {},
   "outputs": [],
   "source": [
    "# prediction using random forest regression\n",
    "predicted_trajectory_points_RT = model_randomForest.predict(X_actual_test_Regressor_DF)\n",
    "# prediction using extra trees regression\n",
    "predicted_trajectory_points_ET = model_ExtraTrees.predict(X_actual_test_Regressor_DF)"
   ]
  },
  {
   "cell_type": "markdown",
   "metadata": {},
   "source": [
    "### Overall Evaluation for all Regression Models"
   ]
  },
  {
   "cell_type": "code",
   "execution_count": 47,
   "metadata": {},
   "outputs": [
    {
     "name": "stdout",
     "output_type": "stream",
     "text": [
      "Mean Square Error of the Random Forest Tree Regressor is : 0.0012345490446514843\n",
      "Root Mean Square Error of the Random Forest Tree Regressor is : 0.03513615011140925\n",
      "Mean Square Error of the Extra Trees Regressor is : 5.992413309523918e-29\n",
      "Root Mean Square Error of the Extra Trees Regressor is : 7.741067955730603e-15\n"
     ]
    }
   ],
   "source": [
    "# Do an error evaluation\n",
    "y_actual_coords = y_actual_records[['SHUTTLECOCK POSITIION IN AIR(X) metres', 'SHUTTLECOCK POSITIION IN AIR(Y) metres', 'SHUTTLECOCK POSITIION IN AIR(Z) metres']]\n",
    "\n",
    "mse_actual_RT = mean_squared_error(y_actual_coords, predicted_trajectory_points_RT)\n",
    "rmse_actual_RT = math.sqrt(mse_actual_RT)\n",
    "print(\"Mean Square Error of the Random Forest Tree Regressor is :\", mse_actual_RT)\n",
    "print(\"Root Mean Square Error of the Random Forest Tree Regressor is :\", rmse_actual_RT)\n",
    "\n",
    "mse_actual_ET = mean_squared_error(y_actual_coords, predicted_trajectory_points_ET)\n",
    "rmse_actual_ET = math.sqrt(mse_actual_ET)\n",
    "print(\"Mean Square Error of the Extra Trees Regressor is :\", mse_actual_ET)\n",
    "print(\"Root Mean Square Error of the Extra Trees Regressor is :\", rmse_actual_ET)"
   ]
  },
  {
   "cell_type": "markdown",
   "metadata": {},
   "source": [
    "Static Visualization of Shuttlecock Trajectory in a Court"
   ]
  },
  {
   "cell_type": "code",
   "execution_count": 48,
   "metadata": {},
   "outputs": [],
   "source": [
    "#Court Constants\n",
    "_HEIGHT_SKYBOX_M_ = 10\n",
    "_HEIGHT_NET_M_ = 1.55\n",
    "_HEIGHT_ROBOTBADMINTON_CENTER_M_ = 1.1\n",
    "\n",
    "_LENGTH_COURT_X_M_ = 13.4\n",
    "_LENGTH_COURT_Y_M_ = 5.18\n",
    "_LENGTH_CENTERLINE_M_ = 4.68\n",
    "\n",
    "_COURT_BOUNDARY_TOP_ = [\n",
    " (0,0),\n",
    " (0, _LENGTH_COURT_Y_M_)\n",
    "]\n",
    "_COURT_BOUNDARY_BOTTOM_ = [\n",
    " (_LENGTH_COURT_X_M_, 0),\n",
    " (_LENGTH_COURT_X_M_, _LENGTH_COURT_Y_M_)\n",
    "]\n",
    "_COURT_BOUNDARY_LEFT_ = [\n",
    " (0,0),\n",
    " (_LENGTH_COURT_X_M_, 0)\n",
    "]\n",
    "_COURT_BOUNDARY_RIGHT_ = [\n",
    " (0, _LENGTH_COURT_Y_M_),\n",
    " (_LENGTH_COURT_X_M_, _LENGTH_COURT_Y_M_)\n",
    "]\n",
    "\n",
    "_COURT_CENTRELINE01_ = [\n",
    " (0, (_LENGTH_COURT_Y_M_/2)),\n",
    " (_LENGTH_CENTERLINE_M_, (_LENGTH_COURT_Y_M_/2))\n",
    "]\n",
    "_COURT_CENTRELINE02_ = [\n",
    "    (_LENGTH_COURT_X_M_ - _LENGTH_CENTERLINE_M_, (_LENGTH_COURT_Y_M_/2)),\n",
    "    (_LENGTH_COURT_X_M_, (_LENGTH_COURT_Y_M_/2))\n",
    "]\n",
    "_COURT_SHORTSERVICELINE01_ = [\n",
    "    (_LENGTH_CENTERLINE_M_ + 0.04, 0),\n",
    "    (_LENGTH_CENTERLINE_M_ + 0.04, _LENGTH_COURT_Y_M_)\n",
    "]\n",
    "_COURT_SHORTSERVICELINE02_ = [\n",
    "    (_LENGTH_COURT_X_M_ - _LENGTH_CENTERLINE_M_ - 0.04, 0),\n",
    "    (_LENGTH_COURT_X_M_ - _LENGTH_CENTERLINE_M_ - 0.04, _LENGTH_COURT_Y_M_)\n",
    "]"
   ]
  },
  {
   "cell_type": "code",
   "execution_count": 49,
   "metadata": {},
   "outputs": [
    {
     "data": {
      "image/png": "[encoded data removed]",
      "text/plain": [
       "<Figure size 1600x700 with 2 Axes>"
      ]
     },
     "metadata": {},
     "output_type": "display_data"
    }
   ],
   "source": [
    "import matplotlib.pyplot as plt\n",
    "from mpl_toolkits.mplot3d import Axes3D\n",
    "\n",
    "# Create a 3D figure with subplots\n",
    "fig, axes = plt.subplots(nrows=1, ncols=2, figsize=(16, 7), subplot_kw={'projection': '3d'})\n",
    "\n",
    "# Set titles for subplots\n",
    "axes[0].set_title(\"Trajectory Estimation of Random Forest Regressor\")\n",
    "axes[1].set_title(\"Trajectory Estimation of Extra Trees Regressor\")\n",
    "\n",
    "# Define court dimensions\n",
    "court_length_x = 13.4\n",
    "court_length_y = 5.18\n",
    "court_height_skybox = 10\n",
    "court_height_net = 1.55\n",
    "court_height_robotbadminton_center = 1.1\n",
    "court_length_centerline = 4.68\n",
    "\n",
    "# Loop over subplots\n",
    "for ax_index, ax in enumerate(axes):\n",
    "    # Plot court boundaries\n",
    "    ax.plot([0, court_length_x], [0, 0], [0, 0], color='black', linewidth=1)  # Bottom boundary\n",
    "    ax.plot([0, court_length_x], [court_length_y, court_length_y], [0, 0], color='black', linewidth=1)  # Top boundary\n",
    "    ax.plot([0, 0], [0, court_length_y], [0, 0], color='black', linewidth=1)  # Left boundary\n",
    "    ax.plot([court_length_x, court_length_x], [0, court_length_y], [0, 0], color='black', linewidth=1)  # Right boundary\n",
    "\n",
    "    # Plot center line\n",
    "    ax.plot([0, court_length_centerline], [court_length_y / 2, court_length_y / 2], [0, 0], color='black', linewidth=1)\n",
    "    ax.plot([court_length_x - court_length_centerline, court_length_x], [court_length_y / 2, court_length_y / 2], [0, 0], color='black', linewidth=1)\n",
    "\n",
    "    # Plot short service lines\n",
    "    ax.plot([court_length_centerline + 0.04, court_length_centerline + 0.04], [0, court_length_y], [0, 0], color='black', linewidth=1)\n",
    "    ax.plot([court_length_x - court_length_centerline - 0.04, court_length_x - court_length_centerline - 0.04], [0, court_length_y], [0, 0], color='black', linewidth=1)\n",
    "\n",
    "    # Plot net\n",
    "    net_height = court_height_net\n",
    "    ax.plot([court_length_x / 2, court_length_x / 2], [0, court_length_y], [net_height, net_height], color='red', linewidth=1)\n",
    "\n",
    "    # Set plot limits and labels\n",
    "    ax.set_xlim([0, court_length_x])\n",
    "    ax.set_ylim([0, court_length_y])\n",
    "    ax.set_zlim([0, court_height_skybox])\n",
    "    ax.set_xlabel('Length (m)')\n",
    "    ax.set_ylabel('Width (m)')\n",
    "    ax.set_zlabel('Height (m)')\n",
    "\n",
    "    if ax_index == 0:\n",
    "        columns_n = ['X', 'Y', 'Z']\n",
    "        predicted_trajectory_points_RF_DF = pd.DataFrame(predicted_trajectory_points_RT, columns=columns_n)\n",
    "\n",
    "        # Extract X, Y, Z coordinates from y_actual_test and predicted_trajectory_point\n",
    "        x_actual = y_actual_coords['SHUTTLECOCK POSITIION IN AIR(X) metres']\n",
    "        y_actual = y_actual_coords['SHUTTLECOCK POSITIION IN AIR(Y) metres']\n",
    "        z_actual = y_actual_coords['SHUTTLECOCK POSITIION IN AIR(Z) metres']\n",
    "\n",
    "        x_predicted = predicted_trajectory_points_RF_DF['X'].values\n",
    "        y_predicted = predicted_trajectory_points_RF_DF['Y'].values\n",
    "        z_predicted = predicted_trajectory_points_RF_DF['Z'].values\n",
    "\n",
    "        ax.scatter(x_actual, y_actual, z_actual, c='blue', label='Actual Trajectory')\n",
    "        ax.scatter(x_predicted, y_predicted, z_predicted, c='red', label='Predicted Trajectory (Random Forest Regressor)')\n",
    "\n",
    "    elif ax_index == 1:\n",
    "        columns_n = ['X', 'Y', 'Z']\n",
    "        predicted_trajectory_points_ET_DF = pd.DataFrame(predicted_trajectory_points_ET, columns=columns_n)\n",
    "\n",
    "        # Extract X, Y, Z coordinates from y_actual_test and predicted_trajectory_point\n",
    "        x_actual = y_actual_coords['SHUTTLECOCK POSITIION IN AIR(X) metres']\n",
    "        y_actual = y_actual_coords['SHUTTLECOCK POSITIION IN AIR(Y) metres']\n",
    "        z_actual = y_actual_coords['SHUTTLECOCK POSITIION IN AIR(Z) metres']\n",
    "\n",
    "        x_predicted = predicted_trajectory_points_ET_DF['X'].values\n",
    "        y_predicted = predicted_trajectory_points_ET_DF['Y'].values\n",
    "        z_predicted = predicted_trajectory_points_ET_DF['Z'].values\n",
    "\n",
    "        ax.scatter(x_actual, y_actual, z_actual, c='blue', label='Actual Trajectory')\n",
    "        ax.scatter(x_predicted, y_predicted, z_predicted, c='red', label='Predicted Trajectory (Extra Trees Regressor)')\n",
    "\n",
    "    ax.legend()\n",
    "\n",
    "# Adjust spacing between subplots\n",
    "plt.subplots_adjust(wspace=0.2)\n",
    "\n",
    "# Display the plot\n",
    "plt.show()\n"
   ]
  },
  {
   "cell_type": "markdown",
   "metadata": {},
   "source": [
    "3D Interactive Visualization of the Shuttlecock Trajectory"
   ]
  },
  {
   "cell_type": "code",
   "execution_count": 50,
   "metadata": {},
   "outputs": [
    {
     "data": {
      "text/plain": [
       "'interactive_models/normal_regression_trajectory.html'"
      ]
     },
     "execution_count": 50,
     "metadata": {},
     "output_type": "execute_result"
    }
   ],
   "source": [
    "import plotly.graph_objects as go\n",
    "import plotly.offline as offline\n",
    "\n",
    "# Create a scatter plot for actual trajectory\n",
    "actual_trace = go.Scatter3d(x=y_actual_coords['SHUTTLECOCK POSITIION IN AIR(X) metres'],\n",
    "                            y=y_actual_coords['SHUTTLECOCK POSITIION IN AIR(Y) metres'],\n",
    "                            z=y_actual_coords['SHUTTLECOCK POSITIION IN AIR(Z) metres'],\n",
    "                            mode='markers',\n",
    "                            marker=dict(color='blue'),\n",
    "                            name='Actual Trajectory')\n",
    "\n",
    "# Create a scatter plot for predicted trajectory using Random Forest Regressor\n",
    "predicted_trace_RF = go.Scatter3d(x=predicted_trajectory_points_RT[:, 0],\n",
    "                                  y=predicted_trajectory_points_RT[:, 1],\n",
    "                                  z=predicted_trajectory_points_RT[:, 2],\n",
    "                                  mode='markers',\n",
    "                                  marker=dict(color='red'),\n",
    "                                  name='Predicted Trajectory (Random Forest)')\n",
    "\n",
    "# Create a scatter plot for predicted trajectory using Extra Trees Regressor\n",
    "predicted_trace_ET = go.Scatter3d(x=predicted_trajectory_points_ET[:, 0],\n",
    "                                  y=predicted_trajectory_points_ET[:, 1],\n",
    "                                  z=predicted_trajectory_points_ET[:, 2],\n",
    "                                  mode='markers',\n",
    "                                  marker=dict(color='green'),\n",
    "                                  name='Predicted Trajectory (Extra Trees)')\n",
    "\n",
    "# Set the data trace\n",
    "data = [actual_trace, predicted_trace_RF, predicted_trace_ET]\n",
    "\n",
    "# Set layout and title\n",
    "layout = go.Layout(\n",
    "    scene=dict(\n",
    "        xaxis_title='X',\n",
    "        yaxis_title='Y',\n",
    "        zaxis_title='Z',\n",
    "        xaxis=dict(range=[-15, 15]),  # Set X-axis range\n",
    "        yaxis=dict(range=[-15, 15]),  # Set Y-axis range\n",
    "        zaxis=dict(range=[0, 15])     # Set Z-axis range\n",
    "    ),\n",
    "    title='Actual vs Predicted Trajectory'\n",
    ")\n",
    "\n",
    "# Create the figure\n",
    "fig = go.Figure(data=data, layout=layout)\n",
    "\n",
    "# Save the plot as an HTML file\n",
    "offline.plot(fig, filename='interactive_models/normal_regression_trajectory.html')\n"
   ]
  },
  {
   "cell_type": "markdown",
   "metadata": {},
   "source": [
    "### ROBOT - Shuttlecock Trajectory Estimation"
   ]
  },
  {
   "cell_type": "code",
   "execution_count": 89,
   "metadata": {},
   "outputs": [
    {
     "name": "stdout",
     "output_type": "stream",
     "text": [
      "Is predicted Regression Tree (RT) within court:  True\n",
      "Is predicted Extra Tree (ET) within court:  True\n",
      "Average XYZ of Estimated Shuttlecock Position: [9.47750096 3.33779208 0.05486448]\n",
      "Distance: 2.76 meters in 0.92 seconds\n",
      "X difference: 2.418982251759405\n",
      "Y difference: -1.3342802630214226\n",
      "Time required: 0.9208558190084505 seconds\n",
      "Able to reach and hit on time\n",
      "Distance: 1.32 meters in 0.44 seconds\n",
      "X difference: 0.6535585242838176\n",
      "Y difference: 1.1438635500663545\n",
      "Time required: 0.4391358389982718 seconds\n",
      "Able to reach and hit on time\n",
      "Distance: 3.59 meters in 1.20 seconds\n",
      "X difference: 3.561216909311176\n",
      "Y difference: -0.42700383484111226\n",
      "Time required: 1.195575089427346 seconds\n",
      "Able to reach and hit on time\n"
     ]
    },
    {
     "data": {
      "application/vnd.plotly.v1+json": {
       "config": {
        "plotlyServerURL": "https://plot.ly"
       },
       "data": [
        {
         "marker": {
          "color": "blue",
          "size": 2
         },
         "mode": "markers",
         "name": "True Values",
         "opacity": 0.7,
         "type": "scatter3d",
         "x": [
          4.076043252,
          4.152177686,
          4.226412511,
          4.301682303,
          4.375091973,
          4.449873132,
          4.522218619,
          4.595868397,
          4.666419296,
          4.738384524,
          4.809827463,
          4.881766739,
          4.949788632,
          5.022165215,
          5.087382515,
          5.158478679,
          5.225661029,
          5.294272735,
          5.359395389,
          5.426650311,
          5.493718054,
          5.558533884,
          5.620842182,
          5.685862788,
          5.750792998,
          5.812240614,
          5.875620462,
          5.938642357,
          5.999394465,
          6.058755832,
          6.12313817,
          6.180749335,
          6.242369578,
          6.300276263,
          6.357504344,
          6.415973014,
          6.472614703,
          6.531666966,
          6.586818081,
          6.643060943,
          6.696896006,
          6.751148762,
          6.805958871,
          6.857456607,
          6.910967029,
          6.964939519,
          7.016599692,
          7.069298235,
          7.121052923,
          7.168964031,
          7.219307718,
          7.269530418,
          7.317407033,
          7.368051503,
          7.413871835,
          7.460429884,
          7.508593214,
          7.553643048,
          7.599779192,
          7.645582145,
          7.690428052,
          7.736349218,
          7.777784634,
          7.820313774,
          7.865460506,
          7.906883176,
          7.94688605,
          7.987978772,
          8.026054403,
          8.068702962,
          8.107900155,
          8.144895093,
          8.184026809,
          8.221776281,
          8.259700404,
          8.296511874,
          8.331853164,
          8.368089116,
          8.405117905,
          8.437313277,
          8.472711984,
          8.504848075,
          8.539261741,
          8.572820587,
          8.60478579,
          8.635157086,
          8.665007639,
          8.696301432,
          8.726990362,
          8.755478305,
          8.783214512,
          8.811884931,
          8.839993911,
          8.868526041,
          8.89365831,
          8.919877377,
          8.944921112,
          8.970776896,
          8.995056163,
          9.019658256,
          9.044608883,
          9.065105851,
          9.087437391,
          9.109035144,
          9.131073216,
          9.154064122,
          9.172743166,
          9.192346321,
          9.212958355,
          9.23079695,
          9.248023767,
          9.266924158,
          9.284611193,
          9.300558897,
          9.317415892,
          9.332164335,
          9.345861696,
          9.362258835,
          9.375179188,
          9.389694877,
          9.401550562,
          9.415467635,
          9.426098544,
          9.438176162,
          9.448926342,
          9.458921207,
          9.469749232,
          9.478105958
         ],
         "y": [
          2.018959712,
          2.037942159,
          2.056450979,
          2.075217846,
          2.093520932,
          2.11216597,
          2.130203725,
          2.148566677,
          2.166156992,
          2.184099939,
          2.201912664,
          2.21984914,
          2.236808903,
          2.254854412,
          2.271114911,
          2.288841175,
          2.305591616,
          2.322698436,
          2.338935337,
          2.355703873,
          2.372425739,
          2.388586141,
          2.404121344,
          2.420332802,
          2.436521722,
          2.451842333,
          2.467644704,
          2.483357827,
          2.498505029,
          2.51330548,
          2.5293578,
          2.543721877,
          2.559085529,
          2.573523287,
          2.58779185,
          2.602369727,
          2.616492086,
          2.631215469,
          2.644966186,
          2.658989106,
          2.672411695,
          2.685938426,
          2.699604121,
          2.712443949,
          2.725785596,
          2.739242449,
          2.752122777,
          2.765261999,
          2.778165892,
          2.790111473,
          2.802663564,
          2.815185489,
          2.82712247,
          2.839749555,
          2.851173847,
          2.862782072,
          2.874790539,
          2.886022724,
          2.897525757,
          2.908945715,
          2.920127056,
          2.931576489,
          2.941907498,
          2.952511204,
          2.963767548,
          2.97409538,
          2.984069216,
          2.994314783,
          3.003808104,
          3.014441584,
          3.024214541,
          3.033438415,
          3.043195048,
          3.052607048,
          3.062062595,
          3.071240725,
          3.080052298,
          3.089086935,
          3.09831925,
          3.106346457,
          3.115172346,
          3.123184774,
          3.131765064,
          3.140132224,
          3.148102044,
          3.155674459,
          3.163117038,
          3.170919457,
          3.178571066,
          3.185673908,
          3.192589322,
          3.19973766,
          3.206746016,
          3.213859875,
          3.220126053,
          3.226663201,
          3.232907305,
          3.239353876,
          3.245407377,
          3.251541368,
          3.257762258,
          3.262872726,
          3.268440604,
          3.273825529,
          3.279320237,
          3.285052514,
          3.289709723,
          3.294597338,
          3.299736495,
          3.304184157,
          3.308479285,
          3.313191681,
          3.317601555,
          3.321577764,
          3.325780685,
          3.329457885,
          3.33287302,
          3.336961286,
          3.340182692,
          3.34380186,
          3.346757814,
          3.35022773,
          3.352878313,
          3.355889602,
          3.358569922,
          3.361061922,
          3.363761652,
          3.365845218
         ],
         "z": [
          2.664532224,
          2.726518161,
          2.786865595,
          2.848356171,
          2.904178305,
          2.962700051,
          3.019156013,
          3.073606098,
          3.126071565,
          3.180046318,
          3.232351189,
          3.282474945,
          3.334299952,
          3.382059918,
          3.42876404,
          3.476137071,
          3.520757618,
          3.56669662,
          3.611130528,
          3.65566909,
          3.695155141,
          3.737713413,
          3.777768683,
          3.816743103,
          3.85516508,
          3.893831627,
          3.930290689,
          3.966280885,
          4.001338611,
          4.037182909,
          4.070345209,
          4.107457903,
          4.137433652,
          4.168822021,
          4.199486198,
          4.229645808,
          4.260667972,
          4.28717411,
          4.315092248,
          4.340084377,
          4.368762799,
          4.393026853,
          4.415644378,
          4.441199556,
          4.46299426,
          4.486360271,
          4.507225104,
          4.525044949,
          4.544833885,
          4.563235688,
          4.579817676,
          4.594782309,
          4.611732936,
          4.626652151,
          4.640159168,
          4.650778268,
          4.66032103,
          4.672469887,
          4.680089783,
          4.686002867,
          4.693130846,
          4.698120697,
          4.70436073,
          4.707291942,
          4.709883639,
          4.707484024,
          4.70718173,
          4.705421998,
          4.70044523,
          4.695224133,
          4.686253338,
          4.68065751,
          4.669398207,
          4.656234201,
          4.64282024,
          4.628169225,
          4.611049436,
          4.594398361,
          4.570933602,
          4.54675547,
          4.525820058,
          4.497247233,
          4.46894667,
          4.439123971,
          4.403749621,
          4.371896058,
          4.333252218,
          4.292812923,
          4.252308152,
          4.209031081,
          4.159827609,
          4.111758421,
          4.060286948,
          4.003802647,
          3.945988835,
          3.886456804,
          3.821986565,
          3.756998928,
          3.688906678,
          3.614969677,
          3.538985907,
          3.463035425,
          3.382261926,
          3.294641132,
          3.208933143,
          3.114114517,
          3.018800417,
          2.920381196,
          2.817208429,
          2.70893383,
          2.599306021,
          2.484722118,
          2.366345781,
          2.243819363,
          2.116587658,
          1.986220165,
          1.850011589,
          1.708787593,
          1.564652467,
          1.414583565,
          1.260169214,
          1.102094714,
          0.937551867,
          0.769472543,
          0.595994229,
          0.415561812,
          0.229767815,
          0.041117461
         ]
        },
        {
         "marker": {
          "color": "red",
          "size": 2
         },
         "mode": "markers",
         "name": "Predicted Values (Random Forest)",
         "opacity": 0.7,
         "type": "scatter3d",
         "x": [
          4.075932471300266,
          4.152259144982633,
          4.227682596489555,
          4.302547076973002,
          4.37632503864327,
          4.4514846068556215,
          4.521980877066341,
          4.611574644837687,
          4.663263280868375,
          4.744269173279244,
          4.8105982990116125,
          4.879434574603483,
          4.950550389676479,
          5.016953768422412,
          5.092128204011389,
          5.155783623276537,
          5.228174296509357,
          5.293620558726065,
          5.363802418869174,
          5.426510088096646,
          5.490738783699429,
          5.557983493186312,
          5.632930779974247,
          5.686599548452514,
          5.746708578934552,
          5.816234062102726,
          5.900758999922086,
          5.947416937476114,
          5.986622021013553,
          6.0480060735410515,
          6.143615212849656,
          6.190071321837605,
          6.224541562306367,
          6.28394387039529,
          6.380753473920361,
          6.435753156776738,
          6.465944355495402,
          6.507930823980559,
          6.596140701915687,
          6.671547585447786,
          6.70387172136127,
          6.72810680658143,
          6.798121775466423,
          6.87913185238315,
          6.92797325489579,
          6.955703411269751,
          6.985432866673876,
          7.069448548357522,
          7.134268959561431,
          7.182206280781754,
          7.211851552692957,
          7.254151665867903,
          7.322739923763697,
          7.376265079262891,
          7.422043558817458,
          7.453719865577724,
          7.494819457943022,
          7.552586539583752,
          7.62158174713064,
          7.655359633378397,
          7.682880048788204,
          7.725926157136465,
          7.768008305488767,
          7.8226672241169455,
          7.885450685650175,
          7.910433579474523,
          7.940273881112463,
          7.981380060975627,
          8.036232416146754,
          8.089173019351083,
          8.134764802293102,
          8.169093613109801,
          8.179036612855578,
          8.202194758268762,
          8.23323332072039,
          8.27019158277954,
          8.32570918505474,
          8.38282862809681,
          8.414138464535828,
          8.432967683064692,
          8.450797351159636,
          8.480250337302907,
          8.511292693324885,
          8.560646248192734,
          8.605603962740407,
          8.63560838956945,
          8.661982675712144,
          8.685790744380968,
          8.708628184592248,
          8.749992768402038,
          8.776797877067994,
          8.809731137339726,
          8.833753945183844,
          8.857077179496587,
          8.888110619126584,
          8.920002891575184,
          8.946471195028385,
          8.966035419545467,
          8.9868275684001,
          9.01358510530317,
          9.04308700300372,
          9.067627667104786,
          9.083255484830417,
          9.101121827139378,
          9.133768283483496,
          9.15591467266616,
          9.169215616804006,
          9.187406353560183,
          9.21269953581405,
          9.229304467098837,
          9.243016699488491,
          9.262897658618492,
          9.283850141448223,
          9.299804870036654,
          9.315710105466586,
          9.332032483538542,
          9.346515813304473,
          9.362075534147852,
          9.378621622366488,
          9.390274544138576,
          9.399913844101546,
          9.415404146771403,
          9.428412066769257,
          9.433908025190583,
          9.446605677282715,
          9.459042760883687,
          9.469587384801585,
          9.476895957182634
         ],
         "y": [
          2.020953390374042,
          2.0449588508431678,
          2.0608994378178163,
          2.0901849031420903,
          2.1117337027748837,
          2.1352487240074387,
          2.150873870007683,
          2.1640079333236795,
          2.174992355550822,
          2.1853846136450072,
          2.199026435688044,
          2.216044504599532,
          2.229013534802613,
          2.244749354211337,
          2.270921157019919,
          2.2892309927643733,
          2.3039891844181977,
          2.3186756557699955,
          2.334288752517223,
          2.3469049917353133,
          2.3616299690140057,
          2.3801921936593153,
          2.4057161328317593,
          2.4156540099233625,
          2.4280951506211705,
          2.4388947649346937,
          2.45553213644814,
          2.4671794009618817,
          2.476188174900449,
          2.4949341643472858,
          2.516169561204789,
          2.5219432906816297,
          2.5318736623882563,
          2.5457977541975434,
          2.5775865172996997,
          2.5973375645200423,
          2.60884684571295,
          2.6208132969356783,
          2.643730658946966,
          2.6625254263111784,
          2.6734459418240415,
          2.681137324236186,
          2.700518110583669,
          2.720164137323489,
          2.7311354536959622,
          2.7376531482568094,
          2.742197406137831,
          2.7593426685986833,
          2.773880006654337,
          2.7774963732139457,
          2.7826218115368766,
          2.789666051472959,
          2.8054812452322495,
          2.818160575393772,
          2.828488839666392,
          2.8354552223034126,
          2.845236221877356,
          2.8612688864257034,
          2.8766140945388536,
          2.885644228517882,
          2.8928298918460444,
          2.901366146245286,
          2.9096147550988087,
          2.9210967992784527,
          2.935426924249595,
          2.941070452123838,
          2.9462812008527783,
          2.945132137720588,
          2.9500300624738673,
          2.9541826749796343,
          2.952573453202762,
          2.9613149553156255,
          2.965602110573515,
          2.9711146079273703,
          2.979824310205597,
          2.988437447393391,
          3.0020850129055456,
          3.0144345685718807,
          3.0232299065114114,
          3.0282703763072187,
          3.0323963490983954,
          3.0418521183901337,
          3.0484710805538464,
          3.0610426918742575,
          3.072104624291803,
          3.079231097934048,
          3.085831193763955,
          3.091265680100978,
          3.095385066677386,
          3.105397851521268,
          3.116760200481931,
          3.124130034344201,
          3.1304810267751013,
          3.1358483147210605,
          3.1399786136556798,
          3.140855735016722,
          3.1447823000223787,
          3.1481539924904594,
          3.1527589915205954,
          3.159735966911109,
          3.167672941705392,
          3.174683781710141,
          3.1813693211114504,
          3.1826085169986413,
          3.188015572543406,
          3.192234118403971,
          3.193080284800588,
          3.1989363890337343,
          3.2054000199015262,
          3.208639987016822,
          3.211343824521104,
          3.228236591275619,
          3.2467734583963312,
          3.2542673464741374,
          3.2579548046801374,
          3.257747703129518,
          3.262420034497035,
          3.2589797776170615,
          3.242633394386711,
          3.233668788340391,
          3.2283296913544732,
          3.234012099538317,
          3.253923420666084,
          3.2607664377465717,
          3.2793038048046386,
          3.3093191462773244,
          3.3039972147922474,
          3.3097389391798
         ],
         "z": [
          2.663618007051937,
          2.7259734112274354,
          2.787114509634818,
          2.8465191217539494,
          2.9051353376066777,
          2.9640571365416974,
          3.018068357540527,
          3.0854764212969887,
          3.1237888808088052,
          3.1839030807012936,
          3.232385892690409,
          3.2819651271916728,
          3.3322055075465022,
          3.3786193292408524,
          3.4305881009328956,
          3.4739702000137953,
          3.5227259101362303,
          3.5664939364614496,
          3.613032079901464,
          3.65394014448543,
          3.694981449323667,
          3.737266608457128,
          3.7840147853580612,
          3.817276795359667,
          3.8538656526989548,
          3.895538779113126,
          3.945680459250018,
          3.9729572190896794,
          3.9955573773132413,
          4.030610543033985,
          4.0844098767929085,
          4.110180726370429,
          4.128922074186555,
          4.160648629811628,
          4.211495003468684,
          4.239863520773502,
          4.2551687610027695,
          4.2760664082204185,
          4.3190127077988185,
          4.355035457924731,
          4.370221476699114,
          4.381300932062371,
          4.412773108455264,
          4.448272513864461,
          4.469095486164261,
          4.480489254004136,
          4.4923205603516,
          4.5245558597520175,
          4.548635970080135,
          4.565749795358675,
          4.575825357411907,
          4.589478627688692,
          4.610612354700477,
          4.6262416710159115,
          4.638647049292714,
          4.646614804136727,
          4.6561393761296515,
          4.668116516523585,
          4.681078205606139,
          4.686686418734412,
          4.690643759452674,
          4.695530430890635,
          4.699289111347989,
          4.7025732570977485,
          4.704384291289591,
          4.7045132534288365,
          4.703241033646006,
          4.6999431875583255,
          4.692905144678074,
          4.684117748457823,
          4.675334365777386,
          4.667285452587782,
          4.664460033627899,
          4.656830810295002,
          4.645502751427702,
          4.630020024226459,
          4.604167027454345,
          4.574646709811635,
          4.556311149128252,
          4.544440361332266,
          4.531845907698081,
          4.50935015282358,
          4.483410230340311,
          4.438359381254189,
          4.393293246890636,
          4.36113695095064,
          4.32966649445467,
          4.299154321994126,
          4.267574039262366,
          4.206445608200134,
          4.163649719054237,
          4.106913077179803,
          4.063090210636559,
          4.016393940631215,
          3.950201853148795,
          3.877764109129904,
          3.8128206933705737,
          3.7621227772291927,
          3.7042631878878063,
          3.6251180969390937,
          3.532173148055248,
          3.449249423455082,
          3.392934521782675,
          3.3246194228197465,
          3.1914914564086847,
          3.0947755963644754,
          3.032639737598468,
          2.9414926888325703,
          2.8069989685919374,
          2.713593663755603,
          2.631969973506402,
          2.506300120319939,
          2.364552677420726,
          2.248639821083337,
          2.122418119288432,
          1.9843302645294114,
          1.8520504895100678,
          1.7005246678094312,
          1.5305790244924935,
          1.3989580476514474,
          1.2847388149969479,
          1.0862531898069112,
          0.9078127209693926,
          0.8274814701530196,
          0.6333542424858237,
          0.41854779615433335,
          0.2154056865474981,
          0.0686114924794861
         ]
        },
        {
         "marker": {
          "color": "green",
          "size": 2
         },
         "mode": "markers",
         "name": "Predicted Values (Extra Trees)",
         "opacity": 0.7,
         "type": "scatter3d",
         "x": [
          4.076043251999994,
          4.152177686000003,
          4.226412510999994,
          4.301682303000006,
          4.375091972999997,
          4.449873131999994,
          4.522218619,
          4.595868397000003,
          4.6664192960000035,
          4.73838452400001,
          4.809827462999991,
          4.881766739,
          4.949788631999991,
          5.022165214999987,
          5.087382515000001,
          5.1584786789999955,
          5.225661028999991,
          5.294272734999996,
          5.359395388999998,
          5.426650311000002,
          5.493718054000003,
          5.558533883999996,
          5.620842181999998,
          5.685862788000005,
          5.750792998,
          5.812240614000002,
          5.875620461999992,
          5.938642357000003,
          5.9993944650000115,
          6.058755831999987,
          6.123138169999994,
          6.180749334999985,
          6.242369578000003,
          6.300276263,
          6.357504343999993,
          6.415973013999985,
          6.472614702999988,
          6.531666965999992,
          6.586818081000005,
          6.6430609430000125,
          6.696896005999986,
          6.751148761999997,
          6.805958870999997,
          6.857456607000009,
          6.91096702899999,
          6.964939519000007,
          7.016599692,
          7.06929823500001,
          7.121052922999987,
          7.168964030999984,
          7.21930771799999,
          7.2695304180000075,
          7.317407032999996,
          7.368051502999986,
          7.413871835000006,
          7.460429883999989,
          7.508593214,
          7.553643048000017,
          7.5997791920000175,
          7.645582145000012,
          7.690428052000008,
          7.736349217999989,
          7.777784634,
          7.820313774000019,
          7.865460505999986,
          7.906883175999987,
          7.946886049999992,
          7.9879787720000115,
          8.026054402999991,
          8.068702961999984,
          8.107900155000008,
          8.144895092999981,
          8.18402680899999,
          8.22177628099999,
          8.259700404,
          8.296511873999984,
          8.331853163999996,
          8.368089115999991,
          8.405117905,
          8.437313277000012,
          8.472711983999977,
          8.504848075000014,
          8.539261741000011,
          8.572820587000017,
          8.604785790000017,
          8.635157086000016,
          8.665007639000008,
          8.696301432000014,
          8.726990362000011,
          8.755478304999999,
          8.783214511999981,
          8.811884931000007,
          8.83999391099999,
          8.868526040999997,
          8.893658309999985,
          8.91987737700001,
          8.944921111999982,
          8.970776895999988,
          8.995056162999985,
          9.019658255999987,
          9.044608883000016,
          9.065105851,
          9.087437390999987,
          9.10903514400001,
          9.131073216000003,
          9.154064122000015,
          9.172743166000009,
          9.192346320999976,
          9.212958354999985,
          9.23079695000001,
          9.24802376699998,
          9.266924158000021,
          9.284611193000016,
          9.30055889699998,
          9.317415891999987,
          9.332164335000009,
          9.345861696000014,
          9.362258835000011,
          9.375179187999978,
          9.389694877000009,
          9.40155056200001,
          9.41546763500002,
          9.426098543999986,
          9.438176161999992,
          9.44892634200002,
          9.458921207000001,
          9.46974923200002,
          9.478105958000013
         ],
         "y": [
          2.018959711999998,
          2.037942159000002,
          2.0564509790000027,
          2.0752178459999953,
          2.093520931999997,
          2.1121659700000044,
          2.1302037250000008,
          2.1485666769999976,
          2.166156991999998,
          2.1840999389999984,
          2.2019126639999973,
          2.2198491400000018,
          2.236808902999997,
          2.254854411999994,
          2.2711149110000046,
          2.288841174999995,
          2.3055916159999943,
          2.322698435999998,
          2.3389353370000032,
          2.355703873000004,
          2.372425738999995,
          2.3885861409999967,
          2.404121344000003,
          2.420332801999996,
          2.4365217220000033,
          2.4518423330000014,
          2.4676447040000027,
          2.4833578269999976,
          2.498505029,
          2.5133054800000068,
          2.5293578000000068,
          2.543721876999997,
          2.5590855289999936,
          2.573523287,
          2.587791850000001,
          2.6023697269999975,
          2.6164920859999956,
          2.631215469000004,
          2.6449661860000027,
          2.6589891060000044,
          2.6724116949999956,
          2.685938426000005,
          2.699604120999995,
          2.7124439490000016,
          2.725785596000002,
          2.7392424489999962,
          2.7521227770000047,
          2.7652619989999976,
          2.7781658920000023,
          2.790111473,
          2.802663564,
          2.815185488999993,
          2.8271224700000044,
          2.839749555000001,
          2.8511738470000036,
          2.8627820719999963,
          2.8747905390000024,
          2.886022723999992,
          2.897525757000002,
          2.908945714999997,
          2.9201270560000063,
          2.931576489000003,
          2.941907498000001,
          2.9525112039999986,
          2.9637675479999985,
          2.974095379999996,
          2.9840692160000004,
          2.9943147829999948,
          3.0038081039999964,
          3.014441583999997,
          3.0242145409999965,
          3.0334384150000004,
          3.0431950479999967,
          3.052607048000004,
          3.062062594999992,
          3.071240724999997,
          3.0800522979999987,
          3.089086935000006,
          3.098319249999997,
          3.1063464569999955,
          3.115172346000004,
          3.1231847739999994,
          3.131765064,
          3.140132224000007,
          3.1481020440000016,
          3.155674459000005,
          3.163117037999997,
          3.1709194570000028,
          3.178571066,
          3.1856739080000067,
          3.192589322000003,
          3.1997376600000003,
          3.206746016000005,
          3.2138598750000034,
          3.220126053000001,
          3.2266632010000036,
          3.232907305000004,
          3.239353875999997,
          3.2454073769999967,
          3.2515413680000034,
          3.257762258000008,
          3.262872726000006,
          3.268440603999998,
          3.2738255290000002,
          3.279320236999997,
          3.2850525139999944,
          3.289709722999993,
          3.294597338,
          3.299736494999995,
          3.3041841570000043,
          3.3084792849999967,
          3.3131916809999984,
          3.3176015550000058,
          3.3215777639999997,
          3.3257806850000002,
          3.3294578850000054,
          3.332873020000002,
          3.336961286000001,
          3.3401826920000013,
          3.3438018600000015,
          3.346757814,
          3.3502277299999936,
          3.3528783130000015,
          3.355889601999995,
          3.3585699219999987,
          3.3610619219999966,
          3.3637616519999955,
          3.3658452180000027
         ],
         "z": [
          2.664532224,
          2.726518161000001,
          2.7868655949999965,
          2.8483561710000016,
          2.9041783049999967,
          2.9627000510000068,
          3.019156012999992,
          3.0736060980000044,
          3.126071565,
          3.1800463179999965,
          3.232351189000002,
          3.2824749449999944,
          3.3342999519999985,
          3.3820599179999986,
          3.428764039999996,
          3.4761370709999984,
          3.5207576180000033,
          3.5666966200000005,
          3.6111305279999937,
          3.655669090000003,
          3.695155140999992,
          3.737713412999996,
          3.777768682999995,
          3.8167431030000034,
          3.855165080000005,
          3.8938316269999977,
          3.9302906890000027,
          3.966280885000003,
          4.001338610999995,
          4.037182909000006,
          4.070345208999996,
          4.1074579030000065,
          4.13743365200001,
          4.168822020999996,
          4.199486197999992,
          4.229645807999991,
          4.260667972000006,
          4.287174110000008,
          4.315092247999998,
          4.340084376999995,
          4.368762799000008,
          4.393026852999994,
          4.4156443780000085,
          4.441199556000003,
          4.462994260000004,
          4.486360271000009,
          4.507225103999989,
          4.525044949000004,
          4.544833885000002,
          4.563235688000007,
          4.579817676000004,
          4.594782308999994,
          4.611732936000006,
          4.6266521509999885,
          4.64015916800001,
          4.650778268000007,
          4.660321029999992,
          4.672469886999992,
          4.680089782999987,
          4.68600286700001,
          4.693130845999989,
          4.698120696999993,
          4.7043607300000065,
          4.707291941999995,
          4.709883638999998,
          4.707484023999997,
          4.707181730000001,
          4.705421998000007,
          4.70044523000001,
          4.695224133000007,
          4.686253338000013,
          4.680657510000002,
          4.669398206999988,
          4.656234201000006,
          4.642820239999995,
          4.628169225000007,
          4.6110494359999885,
          4.594398361000002,
          4.570933602000009,
          4.546755469999995,
          4.525820058000007,
          4.497247232999997,
          4.468946669999993,
          4.4391239710000026,
          4.403749620999991,
          4.3718960580000035,
          4.3332522179999975,
          4.29281292299999,
          4.252308152000008,
          4.209031080999994,
          4.1598276089999935,
          4.111758420999994,
          4.060286947999999,
          4.003802646999991,
          3.9459888349999948,
          3.8864568039999945,
          3.8219865649999933,
          3.7569989279999927,
          3.688906678000005,
          3.614969676999995,
          3.538985906999999,
          3.463035424999992,
          3.382261926000007,
          3.294641131999999,
          3.2089331430000025,
          3.114114517,
          3.018800417,
          2.9203811959999957,
          2.8172084290000026,
          2.708933830000003,
          2.599306020999996,
          2.484722118000002,
          2.366345781000005,
          2.243819363,
          2.1165876579999945,
          1.9862201649999989,
          1.8500115889999984,
          1.708787593000001,
          1.5646524670000013,
          1.4145835649999996,
          1.260169214000001,
          1.1020947140000024,
          0.9375518669999999,
          0.7694725430000005,
          0.5959942289999991,
          0.415561812,
          0.22976781499999985,
          0.041117460999999904
         ]
        },
        {
         "line": {
          "color": "black",
          "width": 1
         },
         "mode": "lines",
         "name": "Court Boundaries",
         "type": "scatter3d",
         "x": [
          0,
          13.4,
          13.4,
          0,
          0
         ],
         "y": [
          0,
          0,
          5.18,
          5.18,
          0
         ],
         "z": [
          0,
          0,
          0,
          0,
          0
         ]
        },
        {
         "line": {
          "color": "black",
          "width": 1
         },
         "mode": "lines",
         "name": "Center Line",
         "type": "scatter3d",
         "x": [
          0,
          4.68,
          4.68,
          0,
          0
         ],
         "y": [
          2.59,
          2.59,
          2.59,
          2.59,
          2.59
         ],
         "z": [
          0,
          0,
          0,
          0,
          0
         ]
        },
        {
         "line": {
          "color": "black",
          "width": 1
         },
         "mode": "lines",
         "name": "Center Line",
         "type": "scatter3d",
         "x": [
          8.72,
          13.4
         ],
         "y": [
          2.59,
          2.59
         ],
         "z": [
          0,
          0,
          0,
          0,
          0
         ]
        },
        {
         "line": {
          "color": "black",
          "width": 1
         },
         "mode": "lines",
         "name": "Short Service Lines",
         "type": "scatter3d",
         "x": [
          4.72,
          4.72
         ],
         "y": [
          0,
          5.18
         ],
         "z": [
          0,
          0
         ]
        },
        {
         "line": {
          "color": "black",
          "width": 1
         },
         "mode": "lines",
         "name": "Short Service Lines",
         "type": "scatter3d",
         "x": [
          8.680000000000001,
          8.680000000000001
         ],
         "y": [
          0,
          5.18
         ],
         "z": [
          0,
          0
         ]
        },
        {
         "line": {
          "color": "red",
          "width": 1
         },
         "mode": "lines",
         "name": "Net",
         "type": "scatter3d",
         "x": [
          6.7,
          6.7
         ],
         "y": [
          0,
          5.18
         ],
         "z": [
          1.55,
          1.55
         ]
        },
        {
         "line": {
          "color": "green",
          "width": 5
         },
         "marker": {
          "color": "cyan",
          "line": {
           "color": "black",
           "width": 4
          },
          "size": 10,
          "symbol": "cross"
         },
         "mode": "lines+markers",
         "name": "Predicted Position",
         "opacity": 1,
         "type": "scatter3d",
         "x": [
          9.477500957591324
         ],
         "y": [
          3.337792078589901
         ],
         "z": [
          0.054864476739743
         ]
        },
        {
         "line": {
          "color": "green",
          "width": 5
         },
         "marker": {
          "color": "cyan",
          "line": {
           "color": "black",
           "width": 4
          },
          "size": 6,
          "symbol": "diamond"
         },
         "mode": "lines+markers",
         "name": "Average Highest XYZ-point",
         "opacity": 1,
         "type": "scatter3d",
         "x": [
          7.887947042737254
         ],
         "y": [
          2.9524190000619184
         ],
         "z": [
          4.707198446214417
         ]
        },
        {
         "marker": {
          "color": "blue",
          "size": 10
         },
         "mode": "markers",
         "name": "Initial Starting Point (Hit)",
         "opacity": 1,
         "type": "scatter3d",
         "x": [
          12.10048320935073
         ],
         "y": [
          2.2335118155684786
         ],
         "z": [
          1.115
         ]
        },
        {
         "marker": {
          "color": "blue",
          "size": 10
         },
         "mode": "markers",
         "name": "Initial Starting Point (Hit)",
         "opacity": 1,
         "type": "scatter3d",
         "x": [
          10.335059481875142
         ],
         "y": [
          4.711655628656255
         ],
         "z": [
          1.115
         ]
        },
        {
         "marker": {
          "color": "blue",
          "size": 10
         },
         "mode": "markers",
         "name": "Initial Starting Point (Hit)",
         "opacity": 1,
         "type": "scatter3d",
         "x": [
          13.2427178669025
         ],
         "y": [
          3.140788243748789
         ],
         "z": [
          1.115
         ]
        },
        {
         "marker": {
          "color": "green",
          "size": 10
         },
         "mode": "markers",
         "name": "Point to Hit the Ball",
         "opacity": 1,
         "type": "scatter3d",
         "x": [
          9.681500957591325
         ],
         "y": [
          3.567792078589901
         ],
         "z": [
          1.115
         ]
        }
       ],
       "layout": {
        "scene": {
         "aspectmode": "manual",
         "aspectratio": {
          "x": 1,
          "y": 1,
          "z": 1
         },
         "xaxis": {
          "range": [
           -4,
           18
          ],
          "title": {
           "text": "X-coordinate"
          }
         },
         "yaxis": {
          "range": [
           -2,
           7
          ],
          "title": {
           "text": "Y-coordinate"
          }
         },
         "zaxis": {
          "range": [
           0,
           12
          ],
          "title": {
           "text": "Z-coordinate"
          }
         }
        },
        "template": {
         "data": {
          "bar": [
           {
            "error_x": {
             "color": "#2a3f5f"
            },
            "error_y": {
             "color": "#2a3f5f"
            },
            "marker": {
             "line": {
              "color": "#E5ECF6",
              "width": 0.5
             },
             "pattern": {
              "fillmode": "overlay",
              "size": 10,
              "solidity": 0.2
             }
            },
            "type": "bar"
           }
          ],
          "barpolar": [
           {
            "marker": {
             "line": {
              "color": "#E5ECF6",
              "width": 0.5
             },
             "pattern": {
              "fillmode": "overlay",
              "size": 10,
              "solidity": 0.2
             }
            },
            "type": "barpolar"
           }
          ],
          "carpet": [
           {
            "aaxis": {
             "endlinecolor": "#2a3f5f",
             "gridcolor": "white",
             "linecolor": "white",
             "minorgridcolor": "white",
             "startlinecolor": "#2a3f5f"
            },
            "baxis": {
             "endlinecolor": "#2a3f5f",
             "gridcolor": "white",
             "linecolor": "white",
             "minorgridcolor": "white",
             "startlinecolor": "#2a3f5f"
            },
            "type": "carpet"
           }
          ],
          "choropleth": [
           {
            "colorbar": {
             "outlinewidth": 0,
             "ticks": ""
            },
            "type": "choropleth"
           }
          ],
          "contour": [
           {
            "colorbar": {
             "outlinewidth": 0,
             "ticks": ""
            },
            "colorscale": [
             [
              0,
              "#0d0887"
             ],
             [
              0.1111111111111111,
              "#46039f"
             ],
             [
              0.2222222222222222,
              "#7201a8"
             ],
             [
              0.3333333333333333,
              "#9c179e"
             ],
             [
              0.4444444444444444,
              "#bd3786"
             ],
             [
              0.5555555555555556,
              "#d8576b"
             ],
             [
              0.6666666666666666,
              "#ed7953"
             ],
             [
              0.7777777777777778,
              "#fb9f3a"
             ],
             [
              0.8888888888888888,
              "#fdca26"
             ],
             [
              1,
              "#f0f921"
             ]
            ],
            "type": "contour"
           }
          ],
          "contourcarpet": [
           {
            "colorbar": {
             "outlinewidth": 0,
             "ticks": ""
            },
            "type": "contourcarpet"
           }
          ],
          "heatmap": [
           {
            "colorbar": {
             "outlinewidth": 0,
             "ticks": ""
            },
            "colorscale": [
             [
              0,
              "#0d0887"
             ],
             [
              0.1111111111111111,
              "#46039f"
             ],
             [
              0.2222222222222222,
              "#7201a8"
             ],
             [
              0.3333333333333333,
              "#9c179e"
             ],
             [
              0.4444444444444444,
              "#bd3786"
             ],
             [
              0.5555555555555556,
              "#d8576b"
             ],
             [
              0.6666666666666666,
              "#ed7953"
             ],
             [
              0.7777777777777778,
              "#fb9f3a"
             ],
             [
              0.8888888888888888,
              "#fdca26"
             ],
             [
              1,
              "#f0f921"
             ]
            ],
            "type": "heatmap"
           }
          ],
          "heatmapgl": [
           {
            "colorbar": {
             "outlinewidth": 0,
             "ticks": ""
            },
            "colorscale": [
             [
              0,
              "#0d0887"
             ],
             [
              0.1111111111111111,
              "#46039f"
             ],
             [
              0.2222222222222222,
              "#7201a8"
             ],
             [
              0.3333333333333333,
              "#9c179e"
             ],
             [
              0.4444444444444444,
              "#bd3786"
             ],
             [
              0.5555555555555556,
              "#d8576b"
             ],
             [
              0.6666666666666666,
              "#ed7953"
             ],
             [
              0.7777777777777778,
              "#fb9f3a"
             ],
             [
              0.8888888888888888,
              "#fdca26"
             ],
             [
              1,
              "#f0f921"
             ]
            ],
            "type": "heatmapgl"
           }
          ],
          "histogram": [
           {
            "marker": {
             "pattern": {
              "fillmode": "overlay",
              "size": 10,
              "solidity": 0.2
             }
            },
            "type": "histogram"
           }
          ],
          "histogram2d": [
           {
            "colorbar": {
             "outlinewidth": 0,
             "ticks": ""
            },
            "colorscale": [
             [
              0,
              "#0d0887"
             ],
             [
              0.1111111111111111,
              "#46039f"
             ],
             [
              0.2222222222222222,
              "#7201a8"
             ],
             [
              0.3333333333333333,
              "#9c179e"
             ],
             [
              0.4444444444444444,
              "#bd3786"
             ],
             [
              0.5555555555555556,
              "#d8576b"
             ],
             [
              0.6666666666666666,
              "#ed7953"
             ],
             [
              0.7777777777777778,
              "#fb9f3a"
             ],
             [
              0.8888888888888888,
              "#fdca26"
             ],
             [
              1,
              "#f0f921"
             ]
            ],
            "type": "histogram2d"
           }
          ],
          "histogram2dcontour": [
           {
            "colorbar": {
             "outlinewidth": 0,
             "ticks": ""
            },
            "colorscale": [
             [
              0,
              "#0d0887"
             ],
             [
              0.1111111111111111,
              "#46039f"
             ],
             [
              0.2222222222222222,
              "#7201a8"
             ],
             [
              0.3333333333333333,
              "#9c179e"
             ],
             [
              0.4444444444444444,
              "#bd3786"
             ],
             [
              0.5555555555555556,
              "#d8576b"
             ],
             [
              0.6666666666666666,
              "#ed7953"
             ],
             [
              0.7777777777777778,
              "#fb9f3a"
             ],
             [
              0.8888888888888888,
              "#fdca26"
             ],
             [
              1,
              "#f0f921"
             ]
            ],
            "type": "histogram2dcontour"
           }
          ],
          "mesh3d": [
           {
            "colorbar": {
             "outlinewidth": 0,
             "ticks": ""
            },
            "type": "mesh3d"
           }
          ],
          "parcoords": [
           {
            "line": {
             "colorbar": {
              "outlinewidth": 0,
              "ticks": ""
             }
            },
            "type": "parcoords"
           }
          ],
          "pie": [
           {
            "automargin": true,
            "type": "pie"
           }
          ],
          "scatter": [
           {
            "fillpattern": {
             "fillmode": "overlay",
             "size": 10,
             "solidity": 0.2
            },
            "type": "scatter"
           }
          ],
          "scatter3d": [
           {
            "line": {
             "colorbar": {
              "outlinewidth": 0,
              "ticks": ""
             }
            },
            "marker": {
             "colorbar": {
              "outlinewidth": 0,
              "ticks": ""
             }
            },
            "type": "scatter3d"
           }
          ],
          "scattercarpet": [
           {
            "marker": {
             "colorbar": {
              "outlinewidth": 0,
              "ticks": ""
             }
            },
            "type": "scattercarpet"
           }
          ],
          "scattergeo": [
           {
            "marker": {
             "colorbar": {
              "outlinewidth": 0,
              "ticks": ""
             }
            },
            "type": "scattergeo"
           }
          ],
          "scattergl": [
           {
            "marker": {
             "colorbar": {
              "outlinewidth": 0,
              "ticks": ""
             }
            },
            "type": "scattergl"
           }
          ],
          "scattermapbox": [
           {
            "marker": {
             "colorbar": {
              "outlinewidth": 0,
              "ticks": ""
             }
            },
            "type": "scattermapbox"
           }
          ],
          "scatterpolar": [
           {
            "marker": {
             "colorbar": {
              "outlinewidth": 0,
              "ticks": ""
             }
            },
            "type": "scatterpolar"
           }
          ],
          "scatterpolargl": [
           {
            "marker": {
             "colorbar": {
              "outlinewidth": 0,
              "ticks": ""
             }
            },
            "type": "scatterpolargl"
           }
          ],
          "scatterternary": [
           {
            "marker": {
             "colorbar": {
              "outlinewidth": 0,
              "ticks": ""
             }
            },
            "type": "scatterternary"
           }
          ],
          "surface": [
           {
            "colorbar": {
             "outlinewidth": 0,
             "ticks": ""
            },
            "colorscale": [
             [
              0,
              "#0d0887"
             ],
             [
              0.1111111111111111,
              "#46039f"
             ],
             [
              0.2222222222222222,
              "#7201a8"
             ],
             [
              0.3333333333333333,
              "#9c179e"
             ],
             [
              0.4444444444444444,
              "#bd3786"
             ],
             [
              0.5555555555555556,
              "#d8576b"
             ],
             [
              0.6666666666666666,
              "#ed7953"
             ],
             [
              0.7777777777777778,
              "#fb9f3a"
             ],
             [
              0.8888888888888888,
              "#fdca26"
             ],
             [
              1,
              "#f0f921"
             ]
            ],
            "type": "surface"
           }
          ],
          "table": [
           {
            "cells": {
             "fill": {
              "color": "#EBF0F8"
             },
             "line": {
              "color": "white"
             }
            },
            "header": {
             "fill": {
              "color": "#C8D4E3"
             },
             "line": {
              "color": "white"
             }
            },
            "type": "table"
           }
          ]
         },
         "layout": {
          "annotationdefaults": {
           "arrowcolor": "#2a3f5f",
           "arrowhead": 0,
           "arrowwidth": 1
          },
          "autotypenumbers": "strict",
          "coloraxis": {
           "colorbar": {
            "outlinewidth": 0,
            "ticks": ""
           }
          },
          "colorscale": {
           "diverging": [
            [
             0,
             "#8e0152"
            ],
            [
             0.1,
             "#c51b7d"
            ],
            [
             0.2,
             "#de77ae"
            ],
            [
             0.3,
             "#f1b6da"
            ],
            [
             0.4,
             "#fde0ef"
            ],
            [
             0.5,
             "#f7f7f7"
            ],
            [
             0.6,
             "#e6f5d0"
            ],
            [
             0.7,
             "#b8e186"
            ],
            [
             0.8,
             "#7fbc41"
            ],
            [
             0.9,
             "#4d9221"
            ],
            [
             1,
             "#276419"
            ]
           ],
           "sequential": [
            [
             0,
             "#0d0887"
            ],
            [
             0.1111111111111111,
             "#46039f"
            ],
            [
             0.2222222222222222,
             "#7201a8"
            ],
            [
             0.3333333333333333,
             "#9c179e"
            ],
            [
             0.4444444444444444,
             "#bd3786"
            ],
            [
             0.5555555555555556,
             "#d8576b"
            ],
            [
             0.6666666666666666,
             "#ed7953"
            ],
            [
             0.7777777777777778,
             "#fb9f3a"
            ],
            [
             0.8888888888888888,
             "#fdca26"
            ],
            [
             1,
             "#f0f921"
            ]
           ],
           "sequentialminus": [
            [
             0,
             "#0d0887"
            ],
            [
             0.1111111111111111,
             "#46039f"
            ],
            [
             0.2222222222222222,
             "#7201a8"
            ],
            [
             0.3333333333333333,
             "#9c179e"
            ],
            [
             0.4444444444444444,
             "#bd3786"
            ],
            [
             0.5555555555555556,
             "#d8576b"
            ],
            [
             0.6666666666666666,
             "#ed7953"
            ],
            [
             0.7777777777777778,
             "#fb9f3a"
            ],
            [
             0.8888888888888888,
             "#fdca26"
            ],
            [
             1,
             "#f0f921"
            ]
           ]
          },
          "colorway": [
           "#636efa",
           "#EF553B",
           "#00cc96",
           "#ab63fa",
           "#FFA15A",
           "#19d3f3",
           "#FF6692",
           "#B6E880",
           "#FF97FF",
           "#FECB52"
          ],
          "font": {
           "color": "#2a3f5f"
          },
          "geo": {
           "bgcolor": "white",
           "lakecolor": "white",
           "landcolor": "#E5ECF6",
           "showlakes": true,
           "showland": true,
           "subunitcolor": "white"
          },
          "hoverlabel": {
           "align": "left"
          },
          "hovermode": "closest",
          "mapbox": {
           "style": "light"
          },
          "paper_bgcolor": "white",
          "plot_bgcolor": "#E5ECF6",
          "polar": {
           "angularaxis": {
            "gridcolor": "white",
            "linecolor": "white",
            "ticks": ""
           },
           "bgcolor": "#E5ECF6",
           "radialaxis": {
            "gridcolor": "white",
            "linecolor": "white",
            "ticks": ""
           }
          },
          "scene": {
           "xaxis": {
            "backgroundcolor": "#E5ECF6",
            "gridcolor": "white",
            "gridwidth": 2,
            "linecolor": "white",
            "showbackground": true,
            "ticks": "",
            "zerolinecolor": "white"
           },
           "yaxis": {
            "backgroundcolor": "#E5ECF6",
            "gridcolor": "white",
            "gridwidth": 2,
            "linecolor": "white",
            "showbackground": true,
            "ticks": "",
            "zerolinecolor": "white"
           },
           "zaxis": {
            "backgroundcolor": "#E5ECF6",
            "gridcolor": "white",
            "gridwidth": 2,
            "linecolor": "white",
            "showbackground": true,
            "ticks": "",
            "zerolinecolor": "white"
           }
          },
          "shapedefaults": {
           "line": {
            "color": "#2a3f5f"
           }
          },
          "ternary": {
           "aaxis": {
            "gridcolor": "white",
            "linecolor": "white",
            "ticks": ""
           },
           "baxis": {
            "gridcolor": "white",
            "linecolor": "white",
            "ticks": ""
           },
           "bgcolor": "#E5ECF6",
           "caxis": {
            "gridcolor": "white",
            "linecolor": "white",
            "ticks": ""
           }
          },
          "title": {
           "x": 0.05
          },
          "xaxis": {
           "automargin": true,
           "gridcolor": "white",
           "linecolor": "white",
           "ticks": "",
           "title": {
            "standoff": 15
           },
           "zerolinecolor": "white",
           "zerolinewidth": 2
          },
          "yaxis": {
           "automargin": true,
           "gridcolor": "white",
           "linecolor": "white",
           "ticks": "",
           "title": {
            "standoff": 15
           },
           "zerolinecolor": "white",
           "zerolinewidth": 2
          }
         }
        },
        "title": {
         "text": "Shuttlecock Trajectory Estimation"
        }
       }
      },
      "text/html": [
       "<div>                            <div id=\"a10813ce-88a5-47a3-9931-2c81029eb681\" class=\"plotly-graph-div\" style=\"height:525px; width:100%;\"></div>            <script type=\"text/javascript\">                require([\"plotly\"], function(Plotly) {                    window.PLOTLYENV=window.PLOTLYENV || {};                                    if (document.getElementById(\"a10813ce-88a5-47a3-9931-2c81029eb681\")) {                    Plotly.newPlot(                        \"a10813ce-88a5-47a3-9931-2c81029eb681\",                        [{\"marker\":{\"color\":\"blue\",\"size\":2},\"mode\":\"markers\",\"name\":\"True Values\",\"opacity\":0.7,\"x\":[4.076043252,4.152177686,4.226412511,4.301682303,4.375091973,4.449873132,4.522218619,4.595868397,4.666419296,4.738384524,4.809827463,4.881766739,4.949788632,5.022165215,5.087382515,5.158478679,5.225661029,5.294272735,5.359395389,5.426650311,5.493718054,5.558533884,5.620842182,5.685862788,5.750792998,5.812240614,5.875620462,5.938642357,5.999394465,6.058755832,6.12313817,6.180749335,6.242369578,6.300276263,6.357504344,6.415973014,6.472614703,6.531666966,6.586818081,6.643060943,6.696896006,6.751148762,6.805958871,6.857456607,6.910967029,6.964939519,7.016599692,7.069298235,7.121052923,7.168964031,7.219307718,7.269530418,7.317407033,7.368051503,7.413871835,7.460429884,7.508593214,7.553643048,7.599779192,7.645582145,7.690428052,7.736349218,7.777784634,7.820313774,7.865460506,7.906883176,7.94688605,7.987978772,8.026054403,8.068702962,8.107900155,8.144895093,8.184026809,8.221776281,8.259700404,8.296511874,8.331853164,8.368089116,8.405117905,8.437313277,8.472711984,8.504848075,8.539261741,8.572820587,8.60478579,8.635157086,8.665007639,8.696301432,8.726990362,8.755478305,8.783214512,8.811884931,8.839993911,8.868526041,8.89365831,8.919877377,8.944921112,8.970776896,8.995056163,9.019658256,9.044608883,9.065105851,9.087437391,9.109035144,9.131073216,9.154064122,9.172743166,9.192346321,9.212958355,9.23079695,9.248023767,9.266924158,9.284611193,9.300558897,9.317415892,9.332164335,9.345861696,9.362258835,9.375179188,9.389694877,9.401550562,9.415467635,9.426098544,9.438176162,9.448926342,9.458921207,9.469749232,9.478105958],\"y\":[2.018959712,2.037942159,2.056450979,2.075217846,2.093520932,2.11216597,2.130203725,2.148566677,2.166156992,2.184099939,2.201912664,2.21984914,2.236808903,2.254854412,2.271114911,2.288841175,2.305591616,2.322698436,2.338935337,2.355703873,2.372425739,2.388586141,2.404121344,2.420332802,2.436521722,2.451842333,2.467644704,2.483357827,2.498505029,2.51330548,2.5293578,2.543721877,2.559085529,2.573523287,2.58779185,2.602369727,2.616492086,2.631215469,2.644966186,2.658989106,2.672411695,2.685938426,2.699604121,2.712443949,2.725785596,2.739242449,2.752122777,2.765261999,2.778165892,2.790111473,2.802663564,2.815185489,2.82712247,2.839749555,2.851173847,2.862782072,2.874790539,2.886022724,2.897525757,2.908945715,2.920127056,2.931576489,2.941907498,2.952511204,2.963767548,2.97409538,2.984069216,2.994314783,3.003808104,3.014441584,3.024214541,3.033438415,3.043195048,3.052607048,3.062062595,3.071240725,3.080052298,3.089086935,3.09831925,3.106346457,3.115172346,3.123184774,3.131765064,3.140132224,3.148102044,3.155674459,3.163117038,3.170919457,3.178571066,3.185673908,3.192589322,3.19973766,3.206746016,3.213859875,3.220126053,3.226663201,3.232907305,3.239353876,3.245407377,3.251541368,3.257762258,3.262872726,3.268440604,3.273825529,3.279320237,3.285052514,3.289709723,3.294597338,3.299736495,3.304184157,3.308479285,3.313191681,3.317601555,3.321577764,3.325780685,3.329457885,3.33287302,3.336961286,3.340182692,3.34380186,3.346757814,3.35022773,3.352878313,3.355889602,3.358569922,3.361061922,3.363761652,3.365845218],\"z\":[2.664532224,2.726518161,2.786865595,2.848356171,2.904178305,2.962700051,3.019156013,3.073606098,3.126071565,3.180046318,3.232351189,3.282474945,3.334299952,3.382059918,3.42876404,3.476137071,3.520757618,3.56669662,3.611130528,3.65566909,3.695155141,3.737713413,3.777768683,3.816743103,3.85516508,3.893831627,3.930290689,3.966280885,4.001338611,4.037182909,4.070345209,4.107457903,4.137433652,4.168822021,4.199486198,4.229645808,4.260667972,4.28717411,4.315092248,4.340084377,4.368762799,4.393026853,4.415644378,4.441199556,4.46299426,4.486360271,4.507225104,4.525044949,4.544833885,4.563235688,4.579817676,4.594782309,4.611732936,4.626652151,4.640159168,4.650778268,4.66032103,4.672469887,4.680089783,4.686002867,4.693130846,4.698120697,4.70436073,4.707291942,4.709883639,4.707484024,4.70718173,4.705421998,4.70044523,4.695224133,4.686253338,4.68065751,4.669398207,4.656234201,4.64282024,4.628169225,4.611049436,4.594398361,4.570933602,4.54675547,4.525820058,4.497247233,4.46894667,4.439123971,4.403749621,4.371896058,4.333252218,4.292812923,4.252308152,4.209031081,4.159827609,4.111758421,4.060286948,4.003802647,3.945988835,3.886456804,3.821986565,3.756998928,3.688906678,3.614969677,3.538985907,3.463035425,3.382261926,3.294641132,3.208933143,3.114114517,3.018800417,2.920381196,2.817208429,2.70893383,2.599306021,2.484722118,2.366345781,2.243819363,2.116587658,1.986220165,1.850011589,1.708787593,1.564652467,1.414583565,1.260169214,1.102094714,0.937551867,0.769472543,0.595994229,0.415561812,0.229767815,0.041117461],\"type\":\"scatter3d\"},{\"marker\":{\"color\":\"red\",\"size\":2},\"mode\":\"markers\",\"name\":\"Predicted Values (Random Forest)\",\"opacity\":0.7,\"x\":[4.075932471300266,4.152259144982633,4.227682596489555,4.302547076973002,4.37632503864327,4.4514846068556215,4.521980877066341,4.611574644837687,4.663263280868375,4.744269173279244,4.8105982990116125,4.879434574603483,4.950550389676479,5.016953768422412,5.092128204011389,5.155783623276537,5.228174296509357,5.293620558726065,5.363802418869174,5.426510088096646,5.490738783699429,5.557983493186312,5.632930779974247,5.686599548452514,5.746708578934552,5.816234062102726,5.900758999922086,5.947416937476114,5.986622021013553,6.0480060735410515,6.143615212849656,6.190071321837605,6.224541562306367,6.28394387039529,6.380753473920361,6.435753156776738,6.465944355495402,6.507930823980559,6.596140701915687,6.671547585447786,6.70387172136127,6.72810680658143,6.798121775466423,6.87913185238315,6.92797325489579,6.955703411269751,6.985432866673876,7.069448548357522,7.134268959561431,7.182206280781754,7.211851552692957,7.254151665867903,7.322739923763697,7.376265079262891,7.422043558817458,7.453719865577724,7.494819457943022,7.552586539583752,7.62158174713064,7.655359633378397,7.682880048788204,7.725926157136465,7.768008305488767,7.8226672241169455,7.885450685650175,7.910433579474523,7.940273881112463,7.981380060975627,8.036232416146754,8.089173019351083,8.134764802293102,8.169093613109801,8.179036612855578,8.202194758268762,8.23323332072039,8.27019158277954,8.32570918505474,8.38282862809681,8.414138464535828,8.432967683064692,8.450797351159636,8.480250337302907,8.511292693324885,8.560646248192734,8.605603962740407,8.63560838956945,8.661982675712144,8.685790744380968,8.708628184592248,8.749992768402038,8.776797877067994,8.809731137339726,8.833753945183844,8.857077179496587,8.888110619126584,8.920002891575184,8.946471195028385,8.966035419545467,8.9868275684001,9.01358510530317,9.04308700300372,9.067627667104786,9.083255484830417,9.101121827139378,9.133768283483496,9.15591467266616,9.169215616804006,9.187406353560183,9.21269953581405,9.229304467098837,9.243016699488491,9.262897658618492,9.283850141448223,9.299804870036654,9.315710105466586,9.332032483538542,9.346515813304473,9.362075534147852,9.378621622366488,9.390274544138576,9.399913844101546,9.415404146771403,9.428412066769257,9.433908025190583,9.446605677282715,9.459042760883687,9.469587384801585,9.476895957182634],\"y\":[2.020953390374042,2.0449588508431678,2.0608994378178163,2.0901849031420903,2.1117337027748837,2.1352487240074387,2.150873870007683,2.1640079333236795,2.174992355550822,2.1853846136450072,2.199026435688044,2.216044504599532,2.229013534802613,2.244749354211337,2.270921157019919,2.2892309927643733,2.3039891844181977,2.3186756557699955,2.334288752517223,2.3469049917353133,2.3616299690140057,2.3801921936593153,2.4057161328317593,2.4156540099233625,2.4280951506211705,2.4388947649346937,2.45553213644814,2.4671794009618817,2.476188174900449,2.4949341643472858,2.516169561204789,2.5219432906816297,2.5318736623882563,2.5457977541975434,2.5775865172996997,2.5973375645200423,2.60884684571295,2.6208132969356783,2.643730658946966,2.6625254263111784,2.6734459418240415,2.681137324236186,2.700518110583669,2.720164137323489,2.7311354536959622,2.7376531482568094,2.742197406137831,2.7593426685986833,2.773880006654337,2.7774963732139457,2.7826218115368766,2.789666051472959,2.8054812452322495,2.818160575393772,2.828488839666392,2.8354552223034126,2.845236221877356,2.8612688864257034,2.8766140945388536,2.885644228517882,2.8928298918460444,2.901366146245286,2.9096147550988087,2.9210967992784527,2.935426924249595,2.941070452123838,2.9462812008527783,2.945132137720588,2.9500300624738673,2.9541826749796343,2.952573453202762,2.9613149553156255,2.965602110573515,2.9711146079273703,2.979824310205597,2.988437447393391,3.0020850129055456,3.0144345685718807,3.0232299065114114,3.0282703763072187,3.0323963490983954,3.0418521183901337,3.0484710805538464,3.0610426918742575,3.072104624291803,3.079231097934048,3.085831193763955,3.091265680100978,3.095385066677386,3.105397851521268,3.116760200481931,3.124130034344201,3.1304810267751013,3.1358483147210605,3.1399786136556798,3.140855735016722,3.1447823000223787,3.1481539924904594,3.1527589915205954,3.159735966911109,3.167672941705392,3.174683781710141,3.1813693211114504,3.1826085169986413,3.188015572543406,3.192234118403971,3.193080284800588,3.1989363890337343,3.2054000199015262,3.208639987016822,3.211343824521104,3.228236591275619,3.2467734583963312,3.2542673464741374,3.2579548046801374,3.257747703129518,3.262420034497035,3.2589797776170615,3.242633394386711,3.233668788340391,3.2283296913544732,3.234012099538317,3.253923420666084,3.2607664377465717,3.2793038048046386,3.3093191462773244,3.3039972147922474,3.3097389391798],\"z\":[2.663618007051937,2.7259734112274354,2.787114509634818,2.8465191217539494,2.9051353376066777,2.9640571365416974,3.018068357540527,3.0854764212969887,3.1237888808088052,3.1839030807012936,3.232385892690409,3.2819651271916728,3.3322055075465022,3.3786193292408524,3.4305881009328956,3.4739702000137953,3.5227259101362303,3.5664939364614496,3.613032079901464,3.65394014448543,3.694981449323667,3.737266608457128,3.7840147853580612,3.817276795359667,3.8538656526989548,3.895538779113126,3.945680459250018,3.9729572190896794,3.9955573773132413,4.030610543033985,4.0844098767929085,4.110180726370429,4.128922074186555,4.160648629811628,4.211495003468684,4.239863520773502,4.2551687610027695,4.2760664082204185,4.3190127077988185,4.355035457924731,4.370221476699114,4.381300932062371,4.412773108455264,4.448272513864461,4.469095486164261,4.480489254004136,4.4923205603516,4.5245558597520175,4.548635970080135,4.565749795358675,4.575825357411907,4.589478627688692,4.610612354700477,4.6262416710159115,4.638647049292714,4.646614804136727,4.6561393761296515,4.668116516523585,4.681078205606139,4.686686418734412,4.690643759452674,4.695530430890635,4.699289111347989,4.7025732570977485,4.704384291289591,4.7045132534288365,4.703241033646006,4.6999431875583255,4.692905144678074,4.684117748457823,4.675334365777386,4.667285452587782,4.664460033627899,4.656830810295002,4.645502751427702,4.630020024226459,4.604167027454345,4.574646709811635,4.556311149128252,4.544440361332266,4.531845907698081,4.50935015282358,4.483410230340311,4.438359381254189,4.393293246890636,4.36113695095064,4.32966649445467,4.299154321994126,4.267574039262366,4.206445608200134,4.163649719054237,4.106913077179803,4.063090210636559,4.016393940631215,3.950201853148795,3.877764109129904,3.8128206933705737,3.7621227772291927,3.7042631878878063,3.6251180969390937,3.532173148055248,3.449249423455082,3.392934521782675,3.3246194228197465,3.1914914564086847,3.0947755963644754,3.032639737598468,2.9414926888325703,2.8069989685919374,2.713593663755603,2.631969973506402,2.506300120319939,2.364552677420726,2.248639821083337,2.122418119288432,1.9843302645294114,1.8520504895100678,1.7005246678094312,1.5305790244924935,1.3989580476514474,1.2847388149969479,1.0862531898069112,0.9078127209693926,0.8274814701530196,0.6333542424858237,0.41854779615433335,0.2154056865474981,0.0686114924794861],\"type\":\"scatter3d\"},{\"marker\":{\"color\":\"green\",\"size\":2},\"mode\":\"markers\",\"name\":\"Predicted Values (Extra Trees)\",\"opacity\":0.7,\"x\":[4.076043251999994,4.152177686000003,4.226412510999994,4.301682303000006,4.375091972999997,4.449873131999994,4.522218619,4.595868397000003,4.6664192960000035,4.73838452400001,4.809827462999991,4.881766739,4.949788631999991,5.022165214999987,5.087382515000001,5.1584786789999955,5.225661028999991,5.294272734999996,5.359395388999998,5.426650311000002,5.493718054000003,5.558533883999996,5.620842181999998,5.685862788000005,5.750792998,5.812240614000002,5.875620461999992,5.938642357000003,5.9993944650000115,6.058755831999987,6.123138169999994,6.180749334999985,6.242369578000003,6.300276263,6.357504343999993,6.415973013999985,6.472614702999988,6.531666965999992,6.586818081000005,6.6430609430000125,6.696896005999986,6.751148761999997,6.805958870999997,6.857456607000009,6.91096702899999,6.964939519000007,7.016599692,7.06929823500001,7.121052922999987,7.168964030999984,7.21930771799999,7.2695304180000075,7.317407032999996,7.368051502999986,7.413871835000006,7.460429883999989,7.508593214,7.553643048000017,7.5997791920000175,7.645582145000012,7.690428052000008,7.736349217999989,7.777784634,7.820313774000019,7.865460505999986,7.906883175999987,7.946886049999992,7.9879787720000115,8.026054402999991,8.068702961999984,8.107900155000008,8.144895092999981,8.18402680899999,8.22177628099999,8.259700404,8.296511873999984,8.331853163999996,8.368089115999991,8.405117905,8.437313277000012,8.472711983999977,8.504848075000014,8.539261741000011,8.572820587000017,8.604785790000017,8.635157086000016,8.665007639000008,8.696301432000014,8.726990362000011,8.755478304999999,8.783214511999981,8.811884931000007,8.83999391099999,8.868526040999997,8.893658309999985,8.91987737700001,8.944921111999982,8.970776895999988,8.995056162999985,9.019658255999987,9.044608883000016,9.065105851,9.087437390999987,9.10903514400001,9.131073216000003,9.154064122000015,9.172743166000009,9.192346320999976,9.212958354999985,9.23079695000001,9.24802376699998,9.266924158000021,9.284611193000016,9.30055889699998,9.317415891999987,9.332164335000009,9.345861696000014,9.362258835000011,9.375179187999978,9.389694877000009,9.40155056200001,9.41546763500002,9.426098543999986,9.438176161999992,9.44892634200002,9.458921207000001,9.46974923200002,9.478105958000013],\"y\":[2.018959711999998,2.037942159000002,2.0564509790000027,2.0752178459999953,2.093520931999997,2.1121659700000044,2.1302037250000008,2.1485666769999976,2.166156991999998,2.1840999389999984,2.2019126639999973,2.2198491400000018,2.236808902999997,2.254854411999994,2.2711149110000046,2.288841174999995,2.3055916159999943,2.322698435999998,2.3389353370000032,2.355703873000004,2.372425738999995,2.3885861409999967,2.404121344000003,2.420332801999996,2.4365217220000033,2.4518423330000014,2.4676447040000027,2.4833578269999976,2.498505029,2.5133054800000068,2.5293578000000068,2.543721876999997,2.5590855289999936,2.573523287,2.587791850000001,2.6023697269999975,2.6164920859999956,2.631215469000004,2.6449661860000027,2.6589891060000044,2.6724116949999956,2.685938426000005,2.699604120999995,2.7124439490000016,2.725785596000002,2.7392424489999962,2.7521227770000047,2.7652619989999976,2.7781658920000023,2.790111473,2.802663564,2.815185488999993,2.8271224700000044,2.839749555000001,2.8511738470000036,2.8627820719999963,2.8747905390000024,2.886022723999992,2.897525757000002,2.908945714999997,2.9201270560000063,2.931576489000003,2.941907498000001,2.9525112039999986,2.9637675479999985,2.974095379999996,2.9840692160000004,2.9943147829999948,3.0038081039999964,3.014441583999997,3.0242145409999965,3.0334384150000004,3.0431950479999967,3.052607048000004,3.062062594999992,3.071240724999997,3.0800522979999987,3.089086935000006,3.098319249999997,3.1063464569999955,3.115172346000004,3.1231847739999994,3.131765064,3.140132224000007,3.1481020440000016,3.155674459000005,3.163117037999997,3.1709194570000028,3.178571066,3.1856739080000067,3.192589322000003,3.1997376600000003,3.206746016000005,3.2138598750000034,3.220126053000001,3.2266632010000036,3.232907305000004,3.239353875999997,3.2454073769999967,3.2515413680000034,3.257762258000008,3.262872726000006,3.268440603999998,3.2738255290000002,3.279320236999997,3.2850525139999944,3.289709722999993,3.294597338,3.299736494999995,3.3041841570000043,3.3084792849999967,3.3131916809999984,3.3176015550000058,3.3215777639999997,3.3257806850000002,3.3294578850000054,3.332873020000002,3.336961286000001,3.3401826920000013,3.3438018600000015,3.346757814,3.3502277299999936,3.3528783130000015,3.355889601999995,3.3585699219999987,3.3610619219999966,3.3637616519999955,3.3658452180000027],\"z\":[2.664532224,2.726518161000001,2.7868655949999965,2.8483561710000016,2.9041783049999967,2.9627000510000068,3.019156012999992,3.0736060980000044,3.126071565,3.1800463179999965,3.232351189000002,3.2824749449999944,3.3342999519999985,3.3820599179999986,3.428764039999996,3.4761370709999984,3.5207576180000033,3.5666966200000005,3.6111305279999937,3.655669090000003,3.695155140999992,3.737713412999996,3.777768682999995,3.8167431030000034,3.855165080000005,3.8938316269999977,3.9302906890000027,3.966280885000003,4.001338610999995,4.037182909000006,4.070345208999996,4.1074579030000065,4.13743365200001,4.168822020999996,4.199486197999992,4.229645807999991,4.260667972000006,4.287174110000008,4.315092247999998,4.340084376999995,4.368762799000008,4.393026852999994,4.4156443780000085,4.441199556000003,4.462994260000004,4.486360271000009,4.507225103999989,4.525044949000004,4.544833885000002,4.563235688000007,4.579817676000004,4.594782308999994,4.611732936000006,4.6266521509999885,4.64015916800001,4.650778268000007,4.660321029999992,4.672469886999992,4.680089782999987,4.68600286700001,4.693130845999989,4.698120696999993,4.7043607300000065,4.707291941999995,4.709883638999998,4.707484023999997,4.707181730000001,4.705421998000007,4.70044523000001,4.695224133000007,4.686253338000013,4.680657510000002,4.669398206999988,4.656234201000006,4.642820239999995,4.628169225000007,4.6110494359999885,4.594398361000002,4.570933602000009,4.546755469999995,4.525820058000007,4.497247232999997,4.468946669999993,4.4391239710000026,4.403749620999991,4.3718960580000035,4.3332522179999975,4.29281292299999,4.252308152000008,4.209031080999994,4.1598276089999935,4.111758420999994,4.060286947999999,4.003802646999991,3.9459888349999948,3.8864568039999945,3.8219865649999933,3.7569989279999927,3.688906678000005,3.614969676999995,3.538985906999999,3.463035424999992,3.382261926000007,3.294641131999999,3.2089331430000025,3.114114517,3.018800417,2.9203811959999957,2.8172084290000026,2.708933830000003,2.599306020999996,2.484722118000002,2.366345781000005,2.243819363,2.1165876579999945,1.9862201649999989,1.8500115889999984,1.708787593000001,1.5646524670000013,1.4145835649999996,1.260169214000001,1.1020947140000024,0.9375518669999999,0.7694725430000005,0.5959942289999991,0.415561812,0.22976781499999985,0.041117460999999904],\"type\":\"scatter3d\"},{\"line\":{\"color\":\"black\",\"width\":1},\"mode\":\"lines\",\"name\":\"Court Boundaries\",\"x\":[0,13.4,13.4,0,0],\"y\":[0,0,5.18,5.18,0],\"z\":[0,0,0,0,0],\"type\":\"scatter3d\"},{\"line\":{\"color\":\"black\",\"width\":1},\"mode\":\"lines\",\"name\":\"Center Line\",\"x\":[0,4.68,4.68,0,0],\"y\":[2.59,2.59,2.59,2.59,2.59],\"z\":[0,0,0,0,0],\"type\":\"scatter3d\"},{\"line\":{\"color\":\"black\",\"width\":1},\"mode\":\"lines\",\"name\":\"Center Line\",\"x\":[8.72,13.4],\"y\":[2.59,2.59],\"z\":[0,0,0,0,0],\"type\":\"scatter3d\"},{\"line\":{\"color\":\"black\",\"width\":1},\"mode\":\"lines\",\"name\":\"Short Service Lines\",\"x\":[4.72,4.72],\"y\":[0,5.18],\"z\":[0,0],\"type\":\"scatter3d\"},{\"line\":{\"color\":\"black\",\"width\":1},\"mode\":\"lines\",\"name\":\"Short Service Lines\",\"x\":[8.680000000000001,8.680000000000001],\"y\":[0,5.18],\"z\":[0,0],\"type\":\"scatter3d\"},{\"line\":{\"color\":\"red\",\"width\":1},\"mode\":\"lines\",\"name\":\"Net\",\"x\":[6.7,6.7],\"y\":[0,5.18],\"z\":[1.55,1.55],\"type\":\"scatter3d\"},{\"line\":{\"color\":\"green\",\"width\":5},\"marker\":{\"color\":\"cyan\",\"line\":{\"color\":\"black\",\"width\":4},\"size\":10,\"symbol\":\"cross\"},\"mode\":\"lines+markers\",\"name\":\"Predicted Position\",\"opacity\":1,\"x\":[9.477500957591324],\"y\":[3.337792078589901],\"z\":[0.054864476739743],\"type\":\"scatter3d\"},{\"line\":{\"color\":\"green\",\"width\":5},\"marker\":{\"color\":\"cyan\",\"line\":{\"color\":\"black\",\"width\":4},\"size\":6,\"symbol\":\"diamond\"},\"mode\":\"lines+markers\",\"name\":\"Average Highest XYZ-point\",\"opacity\":1,\"x\":[7.887947042737254],\"y\":[2.9524190000619184],\"z\":[4.707198446214417],\"type\":\"scatter3d\"},{\"marker\":{\"color\":\"blue\",\"size\":10},\"mode\":\"markers\",\"name\":\"Initial Starting Point (Hit)\",\"opacity\":1,\"x\":[12.10048320935073],\"y\":[2.2335118155684786],\"z\":[1.115],\"type\":\"scatter3d\"},{\"marker\":{\"color\":\"blue\",\"size\":10},\"mode\":\"markers\",\"name\":\"Initial Starting Point (Hit)\",\"opacity\":1,\"x\":[10.335059481875142],\"y\":[4.711655628656255],\"z\":[1.115],\"type\":\"scatter3d\"},{\"marker\":{\"color\":\"blue\",\"size\":10},\"mode\":\"markers\",\"name\":\"Initial Starting Point (Hit)\",\"opacity\":1,\"x\":[13.2427178669025],\"y\":[3.140788243748789],\"z\":[1.115],\"type\":\"scatter3d\"},{\"marker\":{\"color\":\"green\",\"size\":10},\"mode\":\"markers\",\"name\":\"Point to Hit the Ball\",\"opacity\":1,\"x\":[9.681500957591325],\"y\":[3.567792078589901],\"z\":[1.115],\"type\":\"scatter3d\"}],                        {\"template\":{\"data\":{\"histogram2dcontour\":[{\"type\":\"histogram2dcontour\",\"colorbar\":{\"outlinewidth\":0,\"ticks\":\"\"},\"colorscale\":[[0.0,\"#0d0887\"],[0.1111111111111111,\"#46039f\"],[0.2222222222222222,\"#7201a8\"],[0.3333333333333333,\"#9c179e\"],[0.4444444444444444,\"#bd3786\"],[0.5555555555555556,\"#d8576b\"],[0.6666666666666666,\"#ed7953\"],[0.7777777777777778,\"#fb9f3a\"],[0.8888888888888888,\"#fdca26\"],[1.0,\"#f0f921\"]]}],\"choropleth\":[{\"type\":\"choropleth\",\"colorbar\":{\"outlinewidth\":0,\"ticks\":\"\"}}],\"histogram2d\":[{\"type\":\"histogram2d\",\"colorbar\":{\"outlinewidth\":0,\"ticks\":\"\"},\"colorscale\":[[0.0,\"#0d0887\"],[0.1111111111111111,\"#46039f\"],[0.2222222222222222,\"#7201a8\"],[0.3333333333333333,\"#9c179e\"],[0.4444444444444444,\"#bd3786\"],[0.5555555555555556,\"#d8576b\"],[0.6666666666666666,\"#ed7953\"],[0.7777777777777778,\"#fb9f3a\"],[0.8888888888888888,\"#fdca26\"],[1.0,\"#f0f921\"]]}],\"heatmap\":[{\"type\":\"heatmap\",\"colorbar\":{\"outlinewidth\":0,\"ticks\":\"\"},\"colorscale\":[[0.0,\"#0d0887\"],[0.1111111111111111,\"#46039f\"],[0.2222222222222222,\"#7201a8\"],[0.3333333333333333,\"#9c179e\"],[0.4444444444444444,\"#bd3786\"],[0.5555555555555556,\"#d8576b\"],[0.6666666666666666,\"#ed7953\"],[0.7777777777777778,\"#fb9f3a\"],[0.8888888888888888,\"#fdca26\"],[1.0,\"#f0f921\"]]}],\"heatmapgl\":[{\"type\":\"heatmapgl\",\"colorbar\":{\"outlinewidth\":0,\"ticks\":\"\"},\"colorscale\":[[0.0,\"#0d0887\"],[0.1111111111111111,\"#46039f\"],[0.2222222222222222,\"#7201a8\"],[0.3333333333333333,\"#9c179e\"],[0.4444444444444444,\"#bd3786\"],[0.5555555555555556,\"#d8576b\"],[0.6666666666666666,\"#ed7953\"],[0.7777777777777778,\"#fb9f3a\"],[0.8888888888888888,\"#fdca26\"],[1.0,\"#f0f921\"]]}],\"contourcarpet\":[{\"type\":\"contourcarpet\",\"colorbar\":{\"outlinewidth\":0,\"ticks\":\"\"}}],\"contour\":[{\"type\":\"contour\",\"colorbar\":{\"outlinewidth\":0,\"ticks\":\"\"},\"colorscale\":[[0.0,\"#0d0887\"],[0.1111111111111111,\"#46039f\"],[0.2222222222222222,\"#7201a8\"],[0.3333333333333333,\"#9c179e\"],[0.4444444444444444,\"#bd3786\"],[0.5555555555555556,\"#d8576b\"],[0.6666666666666666,\"#ed7953\"],[0.7777777777777778,\"#fb9f3a\"],[0.8888888888888888,\"#fdca26\"],[1.0,\"#f0f921\"]]}],\"surface\":[{\"type\":\"surface\",\"colorbar\":{\"outlinewidth\":0,\"ticks\":\"\"},\"colorscale\":[[0.0,\"#0d0887\"],[0.1111111111111111,\"#46039f\"],[0.2222222222222222,\"#7201a8\"],[0.3333333333333333,\"#9c179e\"],[0.4444444444444444,\"#bd3786\"],[0.5555555555555556,\"#d8576b\"],[0.6666666666666666,\"#ed7953\"],[0.7777777777777778,\"#fb9f3a\"],[0.8888888888888888,\"#fdca26\"],[1.0,\"#f0f921\"]]}],\"mesh3d\":[{\"type\":\"mesh3d\",\"colorbar\":{\"outlinewidth\":0,\"ticks\":\"\"}}],\"scatter\":[{\"fillpattern\":{\"fillmode\":\"overlay\",\"size\":10,\"solidity\":0.2},\"type\":\"scatter\"}],\"parcoords\":[{\"type\":\"parcoords\",\"line\":{\"colorbar\":{\"outlinewidth\":0,\"ticks\":\"\"}}}],\"scatterpolargl\":[{\"type\":\"scatterpolargl\",\"marker\":{\"colorbar\":{\"outlinewidth\":0,\"ticks\":\"\"}}}],\"bar\":[{\"error_x\":{\"color\":\"#2a3f5f\"},\"error_y\":{\"color\":\"#2a3f5f\"},\"marker\":{\"line\":{\"color\":\"#E5ECF6\",\"width\":0.5},\"pattern\":{\"fillmode\":\"overlay\",\"size\":10,\"solidity\":0.2}},\"type\":\"bar\"}],\"scattergeo\":[{\"type\":\"scattergeo\",\"marker\":{\"colorbar\":{\"outlinewidth\":0,\"ticks\":\"\"}}}],\"scatterpolar\":[{\"type\":\"scatterpolar\",\"marker\":{\"colorbar\":{\"outlinewidth\":0,\"ticks\":\"\"}}}],\"histogram\":[{\"marker\":{\"pattern\":{\"fillmode\":\"overlay\",\"size\":10,\"solidity\":0.2}},\"type\":\"histogram\"}],\"scattergl\":[{\"type\":\"scattergl\",\"marker\":{\"colorbar\":{\"outlinewidth\":0,\"ticks\":\"\"}}}],\"scatter3d\":[{\"type\":\"scatter3d\",\"line\":{\"colorbar\":{\"outlinewidth\":0,\"ticks\":\"\"}},\"marker\":{\"colorbar\":{\"outlinewidth\":0,\"ticks\":\"\"}}}],\"scattermapbox\":[{\"type\":\"scattermapbox\",\"marker\":{\"colorbar\":{\"outlinewidth\":0,\"ticks\":\"\"}}}],\"scatterternary\":[{\"type\":\"scatterternary\",\"marker\":{\"colorbar\":{\"outlinewidth\":0,\"ticks\":\"\"}}}],\"scattercarpet\":[{\"type\":\"scattercarpet\",\"marker\":{\"colorbar\":{\"outlinewidth\":0,\"ticks\":\"\"}}}],\"carpet\":[{\"aaxis\":{\"endlinecolor\":\"#2a3f5f\",\"gridcolor\":\"white\",\"linecolor\":\"white\",\"minorgridcolor\":\"white\",\"startlinecolor\":\"#2a3f5f\"},\"baxis\":{\"endlinecolor\":\"#2a3f5f\",\"gridcolor\":\"white\",\"linecolor\":\"white\",\"minorgridcolor\":\"white\",\"startlinecolor\":\"#2a3f5f\"},\"type\":\"carpet\"}],\"table\":[{\"cells\":{\"fill\":{\"color\":\"#EBF0F8\"},\"line\":{\"color\":\"white\"}},\"header\":{\"fill\":{\"color\":\"#C8D4E3\"},\"line\":{\"color\":\"white\"}},\"type\":\"table\"}],\"barpolar\":[{\"marker\":{\"line\":{\"color\":\"#E5ECF6\",\"width\":0.5},\"pattern\":{\"fillmode\":\"overlay\",\"size\":10,\"solidity\":0.2}},\"type\":\"barpolar\"}],\"pie\":[{\"automargin\":true,\"type\":\"pie\"}]},\"layout\":{\"autotypenumbers\":\"strict\",\"colorway\":[\"#636efa\",\"#EF553B\",\"#00cc96\",\"#ab63fa\",\"#FFA15A\",\"#19d3f3\",\"#FF6692\",\"#B6E880\",\"#FF97FF\",\"#FECB52\"],\"font\":{\"color\":\"#2a3f5f\"},\"hovermode\":\"closest\",\"hoverlabel\":{\"align\":\"left\"},\"paper_bgcolor\":\"white\",\"plot_bgcolor\":\"#E5ECF6\",\"polar\":{\"bgcolor\":\"#E5ECF6\",\"angularaxis\":{\"gridcolor\":\"white\",\"linecolor\":\"white\",\"ticks\":\"\"},\"radialaxis\":{\"gridcolor\":\"white\",\"linecolor\":\"white\",\"ticks\":\"\"}},\"ternary\":{\"bgcolor\":\"#E5ECF6\",\"aaxis\":{\"gridcolor\":\"white\",\"linecolor\":\"white\",\"ticks\":\"\"},\"baxis\":{\"gridcolor\":\"white\",\"linecolor\":\"white\",\"ticks\":\"\"},\"caxis\":{\"gridcolor\":\"white\",\"linecolor\":\"white\",\"ticks\":\"\"}},\"coloraxis\":{\"colorbar\":{\"outlinewidth\":0,\"ticks\":\"\"}},\"colorscale\":{\"sequential\":[[0.0,\"#0d0887\"],[0.1111111111111111,\"#46039f\"],[0.2222222222222222,\"#7201a8\"],[0.3333333333333333,\"#9c179e\"],[0.4444444444444444,\"#bd3786\"],[0.5555555555555556,\"#d8576b\"],[0.6666666666666666,\"#ed7953\"],[0.7777777777777778,\"#fb9f3a\"],[0.8888888888888888,\"#fdca26\"],[1.0,\"#f0f921\"]],\"sequentialminus\":[[0.0,\"#0d0887\"],[0.1111111111111111,\"#46039f\"],[0.2222222222222222,\"#7201a8\"],[0.3333333333333333,\"#9c179e\"],[0.4444444444444444,\"#bd3786\"],[0.5555555555555556,\"#d8576b\"],[0.6666666666666666,\"#ed7953\"],[0.7777777777777778,\"#fb9f3a\"],[0.8888888888888888,\"#fdca26\"],[1.0,\"#f0f921\"]],\"diverging\":[[0,\"#8e0152\"],[0.1,\"#c51b7d\"],[0.2,\"#de77ae\"],[0.3,\"#f1b6da\"],[0.4,\"#fde0ef\"],[0.5,\"#f7f7f7\"],[0.6,\"#e6f5d0\"],[0.7,\"#b8e186\"],[0.8,\"#7fbc41\"],[0.9,\"#4d9221\"],[1,\"#276419\"]]},\"xaxis\":{\"gridcolor\":\"white\",\"linecolor\":\"white\",\"ticks\":\"\",\"title\":{\"standoff\":15},\"zerolinecolor\":\"white\",\"automargin\":true,\"zerolinewidth\":2},\"yaxis\":{\"gridcolor\":\"white\",\"linecolor\":\"white\",\"ticks\":\"\",\"title\":{\"standoff\":15},\"zerolinecolor\":\"white\",\"automargin\":true,\"zerolinewidth\":2},\"scene\":{\"xaxis\":{\"backgroundcolor\":\"#E5ECF6\",\"gridcolor\":\"white\",\"linecolor\":\"white\",\"showbackground\":true,\"ticks\":\"\",\"zerolinecolor\":\"white\",\"gridwidth\":2},\"yaxis\":{\"backgroundcolor\":\"#E5ECF6\",\"gridcolor\":\"white\",\"linecolor\":\"white\",\"showbackground\":true,\"ticks\":\"\",\"zerolinecolor\":\"white\",\"gridwidth\":2},\"zaxis\":{\"backgroundcolor\":\"#E5ECF6\",\"gridcolor\":\"white\",\"linecolor\":\"white\",\"showbackground\":true,\"ticks\":\"\",\"zerolinecolor\":\"white\",\"gridwidth\":2}},\"shapedefaults\":{\"line\":{\"color\":\"#2a3f5f\"}},\"annotationdefaults\":{\"arrowcolor\":\"#2a3f5f\",\"arrowhead\":0,\"arrowwidth\":1},\"geo\":{\"bgcolor\":\"white\",\"landcolor\":\"#E5ECF6\",\"subunitcolor\":\"white\",\"showland\":true,\"showlakes\":true,\"lakecolor\":\"white\"},\"title\":{\"x\":0.05},\"mapbox\":{\"style\":\"light\"}}},\"scene\":{\"xaxis\":{\"title\":{\"text\":\"X-coordinate\"},\"range\":[-4,18]},\"yaxis\":{\"title\":{\"text\":\"Y-coordinate\"},\"range\":[-2,7]},\"zaxis\":{\"title\":{\"text\":\"Z-coordinate\"},\"range\":[0,12]},\"aspectratio\":{\"x\":1,\"y\":1,\"z\":1},\"aspectmode\":\"manual\"},\"title\":{\"text\":\"Shuttlecock Trajectory Estimation\"}},                        {\"responsive\": true}                    ).then(function(){\n",
       "                            \n",
       "var gd = document.getElementById('a10813ce-88a5-47a3-9931-2c81029eb681');\n",
       "var x = new MutationObserver(function (mutations, observer) {{\n",
       "        var display = window.getComputedStyle(gd).display;\n",
       "        if (!display || display === 'none') {{\n",
       "            console.log([gd, 'removed!']);\n",
       "            Plotly.purge(gd);\n",
       "            observer.disconnect();\n",
       "        }}\n",
       "}});\n",
       "\n",
       "// Listen for the removal of the full notebook cells\n",
       "var notebookContainer = gd.closest('#notebook-container');\n",
       "if (notebookContainer) {{\n",
       "    x.observe(notebookContainer, {childList: true});\n",
       "}}\n",
       "\n",
       "// Listen for the clearing of the current output cell\n",
       "var outputEl = gd.closest('.output');\n",
       "if (outputEl) {{\n",
       "    x.observe(outputEl, {childList: true});\n",
       "}}\n",
       "\n",
       "                        })                };                });            </script>        </div>"
      ]
     },
     "metadata": {},
     "output_type": "display_data"
    },
    {
     "data": {
      "text/plain": [
       "'interactive_models/robot_pred_limited_reg.html'"
      ]
     },
     "execution_count": 89,
     "metadata": {},
     "output_type": "execute_result"
    }
   ],
   "source": [
    "import plotly.graph_objects as go\n",
    "# Define court dimensions\n",
    "court_length_x = 13.4\n",
    "court_length_y = 5.18\n",
    "court_height_skybox = 10\n",
    "court_height_net = 1.55\n",
    "court_length_centerline = 4.68\n",
    "\n",
    "def is_point_within_court(x, y, z, court_length_x, court_length_y, court_height_skybox):\n",
    "    \"\"\"\n",
    "    Check if a point is within the court boundaries.\n",
    "    \n",
    "    Args:\n",
    "        x (float): X-coordinate of the point\n",
    "        y (float): Y-coordinate of the point\n",
    "        z (float): Z-coordinate of the point\n",
    "        court_length_x (float): Length of the court along the X-axis\n",
    "        court_length_y (float): Length of the court along the Y-axis\n",
    "        court_height_skybox (float): Height of the court's skybox\n",
    "    \n",
    "    Returns:\n",
    "        bool: True if the point is within the court boundaries, False otherwise\n",
    "    \"\"\"\n",
    "    return 0 <= x <= court_length_x and 0 <= y <= court_length_y and 0 <= z <= court_height_skybox\n",
    "\n",
    "\n",
    "# Create the 3D scatter plot\n",
    "fig = go.Figure(data=[\n",
    "    go.Scatter3d(\n",
    "        x=y_actual_coords['SHUTTLECOCK POSITIION IN AIR(X) metres'],\n",
    "        y=y_actual_coords['SHUTTLECOCK POSITIION IN AIR(Y) metres'],\n",
    "        z=y_actual_coords['SHUTTLECOCK POSITIION IN AIR(Z) metres'],\n",
    "        mode='markers',\n",
    "        name='True Values',\n",
    "        marker=dict(color='blue', size=2),\n",
    "        opacity=0.7\n",
    "    ),\n",
    "    go.Scatter3d(\n",
    "        x=predicted_trajectory_points_RT[:, 0],\n",
    "        y=predicted_trajectory_points_RT[:, 1],\n",
    "        z=predicted_trajectory_points_RT[:, 2],\n",
    "        mode='markers',\n",
    "        name='Predicted Values (Random Forest)',\n",
    "        marker=dict(color='red', size=2),\n",
    "        opacity=0.7\n",
    "    ),\n",
    "    go.Scatter3d(\n",
    "        x=predicted_trajectory_points_ET[:, 0],\n",
    "        y=predicted_trajectory_points_ET[:, 1],\n",
    "        z=predicted_trajectory_points_ET[:, 2],\n",
    "        mode='markers',\n",
    "        name='Predicted Values (Extra Trees)',\n",
    "        marker=dict(color='green', size=2),\n",
    "        opacity=0.7\n",
    "    ),\n",
    "])\n",
    "\n",
    "# Set plot title and axis labels\n",
    "fig.update_layout(\n",
    "    title='Shuttlecock Trajectory Estimation',\n",
    "    scene=dict(\n",
    "        xaxis_title='X-coordinate',\n",
    "        yaxis_title='Y-coordinate',\n",
    "        zaxis_title='Z-coordinate',\n",
    "        xaxis=dict(range=[-4, 18]),  # Set the range for X-axis\n",
    "        yaxis=dict(range=[-2, 7]),   # Set the range for Y-axis\n",
    "        zaxis=dict(range=[0, 12]),  # Set the range for Z-axis\n",
    "        aspectmode='manual',         # Set the aspect mode to manual for custom scaling\n",
    "        aspectratio=dict(x=1, y=1, z=1)  # Set the aspect ratio for equal scaling of axes\n",
    "    )\n",
    ")\n",
    "\n",
    "# Add court lines to the plot\n",
    "fig.add_trace(go.Scatter3d(\n",
    "    x=[0, court_length_x, court_length_x, 0, 0],\n",
    "    y=[0, 0, court_length_y, court_length_y, 0],\n",
    "    z=[0, 0, 0, 0, 0],\n",
    "    mode='lines',\n",
    "    name='Court Boundaries',\n",
    "    line=dict(color='black', width=1)\n",
    "))\n",
    "\n",
    "fig.add_trace(go.Scatter3d(\n",
    "    x=[0, court_length_centerline, court_length_centerline, 0, 0],\n",
    "    y=[court_length_y / 2, court_length_y / 2, court_length_y / 2, court_length_y / 2, court_length_y / 2],\n",
    "    z=[0, 0, 0, 0, 0],\n",
    "    mode='lines',\n",
    "    name='Center Line',\n",
    "    line=dict(color='black', width=1)\n",
    "))\n",
    "\n",
    "fig.add_trace(go.Scatter3d(\n",
    "    x=[court_length_x - court_length_centerline, court_length_x],\n",
    "    y=[court_length_y / 2, court_length_y / 2],\n",
    "    z=[0, 0, 0, 0, 0],\n",
    "    mode='lines',\n",
    "    name='Center Line',\n",
    "    line=dict(color='black', width=1)\n",
    "))\n",
    "\n",
    "fig.add_trace(go.Scatter3d(\n",
    "    x=[court_length_centerline + 0.04, court_length_centerline + 0.04],\n",
    "    y=[0, court_length_y],\n",
    "    z=[0, 0],\n",
    "    mode='lines',\n",
    "    name='Short Service Lines',\n",
    "    line=dict(color='black', width=1)\n",
    "))\n",
    "\n",
    "fig.add_trace(go.Scatter3d(\n",
    "    x=[court_length_x - court_length_centerline - 0.04, court_length_x - court_length_centerline - 0.04],\n",
    "    y=[0, court_length_y],\n",
    "    z=[0, 0],\n",
    "    mode='lines',\n",
    "    name='Short Service Lines',\n",
    "    line=dict(color='black', width=1)\n",
    "))\n",
    "\n",
    "fig.add_trace(go.Scatter3d(\n",
    "    x=[court_length_x / 2, court_length_x / 2],\n",
    "    y=[0, court_length_y],\n",
    "    z=[court_height_net, court_height_net],\n",
    "    mode='lines',\n",
    "    name='Net',\n",
    "    line=dict(color='red', width=1)\n",
    "))\n",
    "\n",
    "# Initialize variables\n",
    "all_within_court_RT = True\n",
    "all_within_court_ET = True\n",
    "highest_xyz_points_RT = []\n",
    "highest_xyz_points_ET = []\n",
    "highest_z_index_RT = np.argmax(predicted_trajectory_points_RT[:, 2])\n",
    "highest_z_index_ET = np.argmax(predicted_trajectory_points_ET[:, 2])\n",
    "\n",
    "# Check if all predicted values for the RT group are within the court\n",
    "for point in predicted_trajectory_points_RT:\n",
    "    x, y, z = point\n",
    "    if not is_point_within_court(x, y, z, court_length_x, court_length_y, court_height_skybox):\n",
    "        all_within_court_RT = False\n",
    "        break\n",
    "\n",
    "# Check if all predicted values for the ET group are within the court\n",
    "for point in predicted_trajectory_points_ET:\n",
    "    x, y, z = point\n",
    "    if not is_point_within_court(x, y, z, court_length_x, court_length_y, court_height_skybox):\n",
    "        all_within_court_ET = False\n",
    "        break\n",
    "\n",
    "color = \"red\"\n",
    "predict = True\n",
    "placeholder=\"Initial Starting Point (Miss)\"\n",
    "            \n",
    "if not (all_within_court_RT and all_within_court_ET):\n",
    "    color = \"black\"\n",
    "    predict = False\n",
    "    placeholder=\"Initial Starting Point (OUT)\"\n",
    "        \n",
    "highest_xyz_points_RT = predicted_trajectory_points_RT[-1]\n",
    "highest_xyz_point_RT = predicted_trajectory_points_RT[highest_z_index_RT]\n",
    "highest_xyz_points_ET = predicted_trajectory_points_ET[-1]\n",
    "highest_xyz_point_ET = predicted_trajectory_points_ET[highest_z_index_ET]\n",
    "    \n",
    "# Average out the predicted XYZ points\n",
    "average_xyz = np.mean([highest_xyz_points_RT, highest_xyz_points_ET], axis=0)\n",
    "# Average out the highest XYZ points\n",
    "average_highest_xyz = np.mean([highest_xyz_point_RT, highest_xyz_point_ET], axis=0)\n",
    "\n",
    "# Print the count\n",
    "print(\"Is predicted Regression Tree (RT) within court: \", all_within_court_RT)\n",
    "print(\"Is predicted Extra Tree (ET) within court: \", all_within_court_ET)\n",
    "# Print the average XYZ values\n",
    "print(\"Average XYZ of Estimated Shuttlecock Position:\", average_xyz)\n",
    "\n",
    "# Add the average predicted X, Y, and Z points to the graph\n",
    "fig.add_trace(go.Scatter3d(\n",
    "    x=[average_xyz[0]],\n",
    "    y=[average_xyz[1]],\n",
    "    z=[average_xyz[2]],\n",
    "    mode='lines+markers',\n",
    "    name='Predicted Position',\n",
    "    line=dict(color=\"green\", width=5),\n",
    "    marker=dict(symbol=\"cross\", size=10, color=\"cyan\", line=dict(color=\"black\", width=4)),\n",
    "    opacity=1\n",
    "))\n",
    "\n",
    "# Add the average highest X, Y, and Z points to the graph\n",
    "fig.add_trace(go.Scatter3d(\n",
    "    x=[average_highest_xyz[0]],\n",
    "    y=[average_highest_xyz[1]],\n",
    "    z=[average_highest_xyz[2]],\n",
    "    mode='lines+markers',\n",
    "    name='Average Highest XYZ-point',\n",
    "    line=dict(color=\"green\", width=5),\n",
    "    marker=dict(symbol=\"diamond\", size=6, color=\"cyan\", line=dict(color=\"black\", width=4)),\n",
    "    opacity=1\n",
    "))\n",
    "\n",
    "# Calculate the height of the badminton racket from the ground\n",
    "badminton_height = (120 / 100) - (0.17/2)  # -> 0.17/2 assuming we want to hit it somewhere in the middle of the top quarter\n",
    "\n",
    "# Calculate the length and width of the robot\n",
    "robot_length = 20.4 / 100  # Convert length from cm to meters\n",
    "robot_width = 23 / 100  # Convert width from cm to meters\n",
    "\n",
    "# Define the range for the initial starting position\n",
    "x_range = [0, 4.72]\n",
    "y_range = [0, 5.18]\n",
    "\n",
    "# Define number of random positions to test\n",
    "no_of_random_pos = 3\n",
    "\n",
    "for i in range(no_of_random_pos):\n",
    "    # Generate random initial starting position within the specified range\n",
    "    random_initial_x = random.uniform(x_range[0], x_range[1])\n",
    "    random_initial_y = random.uniform(y_range[0], y_range[1])\n",
    "\n",
    "    # Calculate the position where the dummy robot should move to\n",
    "    robot_x = court_length_x - average_xyz[0] - robot_length - random_initial_x\n",
    "    robot_y = court_length_y - average_xyz[1] - robot_width - random_initial_y\n",
    "\n",
    "    # Calculate the distance traveled by the robot\n",
    "    robot_distance = np.sqrt(robot_x ** 2 + robot_y ** 2)\n",
    "    # Calculate the time required for the robot to move to the position\n",
    "    robot_movement_time = robot_distance / 3\n",
    "    if (all_within_court_RT and all_within_court_ET):\n",
    "        print(\"Distance: {:.2f} meters in {:.2f} seconds\".format(robot_distance, robot_movement_time))\n",
    "\n",
    "    # Calculate the adjusted z-coordinate for hitting the shuttlecock\n",
    "    robot_z = average_highest_xyz[2] - badminton_height\n",
    "\n",
    "    # Check if the average highest XYZ-point is within the court and the robot can reach the position before the ball drops\n",
    "    if (\n",
    "        average_xyz[0] >= 0\n",
    "        and average_xyz[0] <= court_length_x\n",
    "        and average_xyz[1] >= 0\n",
    "        and average_xyz[1] <= court_length_y\n",
    "        and average_highest_xyz[2] >= 0\n",
    "        and average_highest_xyz[2] <= court_height_skybox\n",
    "        and robot_movement_time <= 1.5\n",
    "        and robot_z >= 0\n",
    "    ):\n",
    "        # Add the initial starting point of the dummy robot to the graph\n",
    "        fig.add_trace(\n",
    "            go.Scatter3d(\n",
    "                x=[court_length_x - random_initial_x],\n",
    "                y=[court_length_y - random_initial_y],\n",
    "                z=[badminton_height],\n",
    "                mode=\"markers\",\n",
    "                name=\"Initial Starting Point (Hit)\",\n",
    "                marker=dict(color=\"blue\", size=10),\n",
    "                opacity=1,\n",
    "            )\n",
    "        )\n",
    "\n",
    "        # Calculate the (x, y) difference\n",
    "        x_difference = robot_x\n",
    "        y_difference = robot_y\n",
    "        \n",
    "        if (all_within_court_RT and all_within_court_ET):\n",
    "            print(f\"X difference: {x_difference}\")\n",
    "            print(f\"Y difference: {y_difference}\")\n",
    "            print(f\"Time required: {robot_movement_time} seconds\")\n",
    "            print(\"Able to reach and hit on time\")\n",
    "    else:\n",
    "        # Add the initial starting point of the dummy robot to the graph\n",
    "        fig.add_trace(\n",
    "            go.Scatter3d(\n",
    "                x=[court_length_x - random_initial_x],\n",
    "                y=[court_length_y - random_initial_y],\n",
    "                z=[badminton_height],\n",
    "                mode=\"markers\",\n",
    "                name=placeholder,\n",
    "                marker=dict(color=color, size=10),\n",
    "                opacity=0.3,\n",
    "            )\n",
    "        )\n",
    "        \n",
    "        if (all_within_court_RT and all_within_court_ET):\n",
    "            if robot_movement_time > 1.5:\n",
    "                print(f\"X difference: {x_difference}\")\n",
    "                print(f\"Y difference: {y_difference}\")\n",
    "                print(f\"Time required: {robot_movement_time} seconds\")\n",
    "                print(\"Cannot reach on time\")\n",
    "            else:\n",
    "                print(\"Cannot hit\")\n",
    "\n",
    "if (all_within_court_RT and all_within_court_ET):\n",
    "    # Add the point where the dummy robot can hit the ball to the graph\n",
    "    fig.add_trace(\n",
    "        go.Scatter3d(\n",
    "            x=[court_length_x - random_initial_x - robot_x],\n",
    "            y=[court_length_y - random_initial_y - robot_y],\n",
    "            z=[badminton_height],\n",
    "            mode=\"markers\",\n",
    "            name=\"Point to Hit the Ball\",\n",
    "            marker=dict(color=\"green\", size=10),\n",
    "            opacity=1,\n",
    "        )\n",
    ")\n",
    "\n",
    "# Show the 3D plot\n",
    "fig.show()\n",
    "\n",
    "# Save the plot as an HTML file\n",
    "offline.plot(fig, filename='interactive_models/robot_pred_limited_reg.html')"
   ]
  },
  {
   "cell_type": "markdown",
   "metadata": {},
   "source": [
    "## Determine Point for Countermeasures\n",
    "Based on the project specificiations where \n",
    "- robot + badminton height=120cm\n",
    "- racket length is 68cm\n",
    "- robot lenght is 52cm\n",
    "- assuming top quarter of racket is top 17cm\n",
    "We assume that robot countermeasure will happen at Z = 1.2 - (0.17/2) = 1.115 because we want to hit it somewhere in the middle of the top quarter"
   ]
  },
  {
   "cell_type": "code",
   "execution_count": 84,
   "metadata": {},
   "outputs": [],
   "source": [
    "# # filter out records that are under X = 6.7\n",
    "# filtered_df = predicted_trajectory_points_RF_DF[predicted_trajectory_points_RF_DF['X'] > 6.7]\n",
    "\n",
    "# # Determine absolute difference between Z and 1.115 for the filtered dataframe\n",
    "# filtered_df['Z_diff'] = abs(filtered_df['Z'] - 1.115)\n",
    "\n",
    "# # Find the row index with the minimum difference\n",
    "# closest_row_index = filtered_df['Z_diff'].idxmin()\n",
    "\n",
    "# # Access the row with the closest Z value in the filtered dataframe\n",
    "# closest_row = filtered_df.loc[closest_row_index]\n",
    "\n",
    "# # Print the row or perform further operations\n",
    "# print(\"Data Point closest to countermeasure\")\n",
    "# print(closest_row)"
   ]
  },
  {
   "cell_type": "code",
   "execution_count": null,
   "metadata": {},
   "outputs": [],
   "source": []
  }
 ],
 "metadata": {
  "kernelspec": {
   "display_name": "Python 3 (ipykernel)",
   "language": "python",
   "name": "python3"
  },
  "language_info": {
   "codemirror_mode": {
    "name": "ipython",
    "version": 3
   },
   "file_extension": ".py",
   "mimetype": "text/x-python",
   "name": "python",
   "nbconvert_exporter": "python",
   "pygments_lexer": "ipython3",
   "version": "3.10.4"
  }
 },
 "nbformat": 4,
 "nbformat_minor": 2
}
