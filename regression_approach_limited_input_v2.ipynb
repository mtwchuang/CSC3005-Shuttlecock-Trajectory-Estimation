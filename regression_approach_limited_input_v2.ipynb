{
 "cells": [
  {
   "attachments": {},
   "cell_type": "markdown",
   "metadata": {},
   "source": [
    "# Regression Limited Input Approach\n",
    "This approach assumes that input for both training and testing is just limited to its coordinates (X,Y,Z) and that testing is just using the first trajectory coordinate of an observation group. Based on these coordinates, we will group them up based on their observation groups and generate significant features such as human positions, initial velocity, initial slant angle and initial firing angle using mathematical formulas which will be used to train models for predictions. \n",
    "\n",
    "\n",
    "Random Forest Regressor is used to predict the data points of the trajectory, Decision Tree Classifier is used to determine number of observations an observation groups has. "
   ]
  },
  {
   "attachments": {},
   "cell_type": "markdown",
   "metadata": {},
   "source": [
    "## Importing Libraries and Dependencies"
   ]
  },
  {
   "cell_type": "code",
   "execution_count": 215,
   "metadata": {},
   "outputs": [
    {
     "name": "stdout",
     "output_type": "stream",
     "text": [
      "Requirement already satisfied: pandas in c:\\users\\matthew chuang\\documents\\github\\csc3005-shuttlecock-trajectory-estimation\\dependencies\\lib\\site-packages (2.0.3)\n",
      "Requirement already satisfied: python-dateutil>=2.8.2 in c:\\users\\matthew chuang\\documents\\github\\csc3005-shuttlecock-trajectory-estimation\\dependencies\\lib\\site-packages (from pandas) (2.8.2)\n",
      "Requirement already satisfied: pytz>=2020.1 in c:\\users\\matthew chuang\\documents\\github\\csc3005-shuttlecock-trajectory-estimation\\dependencies\\lib\\site-packages (from pandas) (2023.3)\n",
      "Requirement already satisfied: tzdata>=2022.1 in c:\\users\\matthew chuang\\documents\\github\\csc3005-shuttlecock-trajectory-estimation\\dependencies\\lib\\site-packages (from pandas) (2023.3)\n",
      "Requirement already satisfied: numpy>=1.20.3 in c:\\users\\matthew chuang\\documents\\github\\csc3005-shuttlecock-trajectory-estimation\\dependencies\\lib\\site-packages (from pandas) (1.25.0)\n",
      "Requirement already satisfied: six>=1.5 in c:\\users\\matthew chuang\\documents\\github\\csc3005-shuttlecock-trajectory-estimation\\dependencies\\lib\\site-packages (from python-dateutil>=2.8.2->pandas) (1.16.0)\n",
      "Note: you may need to restart the kernel to use updated packages.\n",
      "Requirement already satisfied: matplotlib in c:\\users\\matthew chuang\\documents\\github\\csc3005-shuttlecock-trajectory-estimation\\dependencies\\lib\\site-packages (3.7.1)\n",
      "Requirement already satisfied: contourpy>=1.0.1 in c:\\users\\matthew chuang\\documents\\github\\csc3005-shuttlecock-trajectory-estimation\\dependencies\\lib\\site-packages (from matplotlib) (1.1.0)\n",
      "Requirement already satisfied: cycler>=0.10 in c:\\users\\matthew chuang\\documents\\github\\csc3005-shuttlecock-trajectory-estimation\\dependencies\\lib\\site-packages (from matplotlib) (0.11.0)\n",
      "Requirement already satisfied: fonttools>=4.22.0 in c:\\users\\matthew chuang\\documents\\github\\csc3005-shuttlecock-trajectory-estimation\\dependencies\\lib\\site-packages (from matplotlib) (4.40.0)\n",
      "Requirement already satisfied: kiwisolver>=1.0.1 in c:\\users\\matthew chuang\\documents\\github\\csc3005-shuttlecock-trajectory-estimation\\dependencies\\lib\\site-packages (from matplotlib) (1.4.4)\n",
      "Requirement already satisfied: numpy>=1.20 in c:\\users\\matthew chuang\\documents\\github\\csc3005-shuttlecock-trajectory-estimation\\dependencies\\lib\\site-packages (from matplotlib) (1.25.0)\n",
      "Requirement already satisfied: packaging>=20.0 in c:\\users\\matthew chuang\\documents\\github\\csc3005-shuttlecock-trajectory-estimation\\dependencies\\lib\\site-packages (from matplotlib) (23.1)\n",
      "Requirement already satisfied: pillow>=6.2.0 in c:\\users\\matthew chuang\\documents\\github\\csc3005-shuttlecock-trajectory-estimation\\dependencies\\lib\\site-packages (from matplotlib) (10.0.0)\n",
      "Requirement already satisfied: pyparsing>=2.3.1 in c:\\users\\matthew chuang\\documents\\github\\csc3005-shuttlecock-trajectory-estimation\\dependencies\\lib\\site-packages (from matplotlib) (3.1.0)\n",
      "Requirement already satisfied: python-dateutil>=2.7 in c:\\users\\matthew chuang\\documents\\github\\csc3005-shuttlecock-trajectory-estimation\\dependencies\\lib\\site-packages (from matplotlib) (2.8.2)\n",
      "Requirement already satisfied: importlib-resources>=3.2.0 in c:\\users\\matthew chuang\\documents\\github\\csc3005-shuttlecock-trajectory-estimation\\dependencies\\lib\\site-packages (from matplotlib) (5.12.0)\n",
      "Requirement already satisfied: zipp>=3.1.0 in c:\\users\\matthew chuang\\documents\\github\\csc3005-shuttlecock-trajectory-estimation\\dependencies\\lib\\site-packages (from importlib-resources>=3.2.0->matplotlib) (3.15.0)\n",
      "Requirement already satisfied: six>=1.5 in c:\\users\\matthew chuang\\documents\\github\\csc3005-shuttlecock-trajectory-estimation\\dependencies\\lib\\site-packages (from python-dateutil>=2.7->matplotlib) (1.16.0)\n",
      "Note: you may need to restart the kernel to use updated packages.\n",
      "Requirement already satisfied: plotly in c:\\users\\matthew chuang\\documents\\github\\csc3005-shuttlecock-trajectory-estimation\\dependencies\\lib\\site-packages (5.15.0)\n",
      "Requirement already satisfied: tenacity>=6.2.0 in c:\\users\\matthew chuang\\documents\\github\\csc3005-shuttlecock-trajectory-estimation\\dependencies\\lib\\site-packages (from plotly) (8.2.2)\n",
      "Requirement already satisfied: packaging in c:\\users\\matthew chuang\\documents\\github\\csc3005-shuttlecock-trajectory-estimation\\dependencies\\lib\\site-packages (from plotly) (23.1)\n",
      "Note: you may need to restart the kernel to use updated packages.\n",
      "Requirement already satisfied: scikit-learn in c:\\users\\matthew chuang\\documents\\github\\csc3005-shuttlecock-trajectory-estimation\\dependencies\\lib\\site-packages (1.3.0)\n",
      "Requirement already satisfied: numpy>=1.17.3 in c:\\users\\matthew chuang\\documents\\github\\csc3005-shuttlecock-trajectory-estimation\\dependencies\\lib\\site-packages (from scikit-learn) (1.25.0)\n",
      "Requirement already satisfied: scipy>=1.5.0 in c:\\users\\matthew chuang\\documents\\github\\csc3005-shuttlecock-trajectory-estimation\\dependencies\\lib\\site-packages (from scikit-learn) (1.11.1)\n",
      "Requirement already satisfied: joblib>=1.1.1 in c:\\users\\matthew chuang\\documents\\github\\csc3005-shuttlecock-trajectory-estimation\\dependencies\\lib\\site-packages (from scikit-learn) (1.3.1)\n",
      "Requirement already satisfied: threadpoolctl>=2.0.0 in c:\\users\\matthew chuang\\documents\\github\\csc3005-shuttlecock-trajectory-estimation\\dependencies\\lib\\site-packages (from scikit-learn) (3.1.0)\n",
      "Note: you may need to restart the kernel to use updated packages.\n",
      "Requirement already satisfied: numpy in c:\\users\\matthew chuang\\documents\\github\\csc3005-shuttlecock-trajectory-estimation\\dependencies\\lib\\site-packages (1.25.0)\n",
      "Note: you may need to restart the kernel to use updated packages.\n",
      "Requirement already satisfied: nbformat in c:\\users\\matthew chuang\\documents\\github\\csc3005-shuttlecock-trajectory-estimation\\dependencies\\lib\\site-packages (5.9.0)\n",
      "Requirement already satisfied: fastjsonschema in c:\\users\\matthew chuang\\documents\\github\\csc3005-shuttlecock-trajectory-estimation\\dependencies\\lib\\site-packages (from nbformat) (2.17.1)\n",
      "Requirement already satisfied: jsonschema>=2.6 in c:\\users\\matthew chuang\\documents\\github\\csc3005-shuttlecock-trajectory-estimation\\dependencies\\lib\\site-packages (from nbformat) (4.17.3)\n",
      "Requirement already satisfied: jupyter-core in c:\\users\\matthew chuang\\documents\\github\\csc3005-shuttlecock-trajectory-estimation\\dependencies\\lib\\site-packages (from nbformat) (5.3.1)\n",
      "Requirement already satisfied: traitlets>=5.1 in c:\\users\\matthew chuang\\documents\\github\\csc3005-shuttlecock-trajectory-estimation\\dependencies\\lib\\site-packages (from nbformat) (5.9.0)\n",
      "Requirement already satisfied: attrs>=17.4.0 in c:\\users\\matthew chuang\\documents\\github\\csc3005-shuttlecock-trajectory-estimation\\dependencies\\lib\\site-packages (from jsonschema>=2.6->nbformat) (23.1.0)\n",
      "Requirement already satisfied: pyrsistent!=0.17.0,!=0.17.1,!=0.17.2,>=0.14.0 in c:\\users\\matthew chuang\\documents\\github\\csc3005-shuttlecock-trajectory-estimation\\dependencies\\lib\\site-packages (from jsonschema>=2.6->nbformat) (0.19.3)\n",
      "Requirement already satisfied: platformdirs>=2.5 in c:\\users\\matthew chuang\\documents\\github\\csc3005-shuttlecock-trajectory-estimation\\dependencies\\lib\\site-packages (from jupyter-core->nbformat) (3.8.0)\n",
      "Requirement already satisfied: pywin32>=300 in c:\\users\\matthew chuang\\documents\\github\\csc3005-shuttlecock-trajectory-estimation\\dependencies\\lib\\site-packages (from jupyter-core->nbformat) (306)\n",
      "Note: you may need to restart the kernel to use updated packages.\n"
     ]
    }
   ],
   "source": [
    "%pip install pandas\n",
    "%pip install matplotlib\n",
    "%pip install plotly\n",
    "%pip install scikit-learn\n",
    "%pip install numpy\n",
    "%pip install nbformat"
   ]
  },
  {
   "cell_type": "code",
   "execution_count": 216,
   "metadata": {},
   "outputs": [],
   "source": [
    "# preprocessing and feature generation\n",
    "import pandas as pd\n",
    "import numpy as np\n",
    "import math\n",
    "import random\n",
    "\n",
    "# feature significance\n",
    "from sklearn.decomposition import PCA\n",
    "from sklearn.preprocessing import StandardScaler\n",
    "\n",
    "# data mining and model evaluation\n",
    "from sklearn.model_selection import train_test_split\n",
    "from sklearn.metrics import accuracy_score, mean_squared_error\n",
    "from sklearn.model_selection import learning_curve\n",
    "\n",
    "# visualization\n",
    "import matplotlib.pyplot as plt\n",
    "import plotly.graph_objects as go\n",
    "from plotly.offline import plot"
   ]
  },
  {
   "attachments": {},
   "cell_type": "markdown",
   "metadata": {},
   "source": [
    "## Stage: Preprocessing\n",
    "Mockup data with just X, Y, Z values by removing the rest of the value."
   ]
  },
  {
   "cell_type": "code",
   "execution_count": 217,
   "metadata": {},
   "outputs": [],
   "source": [
    "# # read csv data from badmintondata.csv\n",
    "# limited_serving_data = pd.read_csv('badmintondata.csv')\n",
    "\n",
    "# # just rename x metrics to avoid unnecessary errors\n",
    "# limited_serving_data = limited_serving_data.rename(columns={'SHUTTLECOCK POSITIION IN AIR(X ) metres': 'SHUTTLECOCK POSITIION IN AIR(X) metres'})\n",
    "\n",
    "# # limiting service data to just x, y, z coordinates\n",
    "# limited_serving_data = limited_serving_data[['SHUTTLECOCK POSITIION IN AIR(X) metres', \n",
    "#                                             'SHUTTLECOCK POSITIION IN AIR(Y) metres', \n",
    "#                                             'SHUTTLECOCK POSITIION IN AIR(Z) metres']]\n",
    "# limited_serving_data"
   ]
  },
  {
   "cell_type": "code",
   "execution_count": 218,
   "metadata": {},
   "outputs": [],
   "source": [
    "# # read csv data from badmintondata.csv\n",
    "# limited_rallying_data = pd.read_csv('badmintondata2.csv')\n",
    "\n",
    "# # just rename x metrics to avoid unnecessary errors\n",
    "# limited_rallying_data = limited_rallying_data.rename(columns={'SHUTTLECOCK POSITIION IN AIR(X ) metres': 'SHUTTLECOCK POSITIION IN AIR(X) metres'})\n",
    "\n",
    "# # limiting service data to just x, y, z coordinates\n",
    "# limited_rallying_data = limited_rallying_data[['SHUTTLECOCK POSITIION IN AIR(X) metres', \n",
    "#                                             'SHUTTLECOCK POSITIION IN AIR(Y) metres', \n",
    "#                                             'SHUTTLECOCK POSITIION IN AIR(Z) metres']]\n",
    "# limited_rallying_data"
   ]
  },
  {
   "attachments": {},
   "cell_type": "markdown",
   "metadata": {},
   "source": [
    "Assigning data to observation groups and labelling their sequences with observation numbers"
   ]
  },
  {
   "cell_type": "code",
   "execution_count": 219,
   "metadata": {},
   "outputs": [],
   "source": [
    "# # Initialize variables\n",
    "# observation_group_num = 0\n",
    "# observation_num = 0\n",
    "# is_group = False\n",
    "\n",
    "# # assign observation groups and their respective observation numbers to each row\n",
    "# for index, row in limited_serving_data.iterrows():\n",
    "#     if row['SHUTTLECOCK POSITIION IN AIR(X) metres'] == 0:\n",
    "#         if is_group:\n",
    "#             is_group = False\n",
    "#         limited_serving_data.drop(index, inplace=True)\n",
    "#     # if row is not empty\n",
    "#     else:\n",
    "#         # if inside an observation group just increment observation number\n",
    "#         if is_group:\n",
    "#             observation_num+=1\n",
    "#         # if just entering a new observation group\n",
    "#         else:\n",
    "#             is_group = True\n",
    "#             # increase observation group number by 1\n",
    "#             observation_group_num+=1\n",
    "#             # resets observation sequence number to 1\n",
    "#             observation_num = 1\n",
    "#         # assign observation group and observation number\n",
    "#         limited_serving_data.at[index, 'OBSERVATION NUMBER'] = observation_num\n",
    "#         limited_serving_data.at[index, 'OBSERVATION GROUP NUMBER'] = observation_group_num\n",
    "\n",
    "# # Set 'OBSERVATION GROUP NUMBER' as INT\n",
    "# limited_serving_data['OBSERVATION GROUP NUMBER'] = limited_serving_data['OBSERVATION GROUP NUMBER'].astype(int)\n",
    "# limited_serving_data.to_csv('regression_data/limited_serving_data_stage1.csv')"
   ]
  },
  {
   "cell_type": "code",
   "execution_count": 220,
   "metadata": {},
   "outputs": [],
   "source": [
    "# # Initialize variables\n",
    "# observation_group_num = 364 # last observation group number index from dataset 1\n",
    "# observation_num = 0\n",
    "# is_group = False\n",
    "\n",
    "# # assign observation groups and their respective observation numbers to each row\n",
    "# for index, row in limited_rallying_data.iterrows():\n",
    "#     if row['SHUTTLECOCK POSITIION IN AIR(X) metres'] == 0:\n",
    "#         if is_group:\n",
    "#             is_group = False\n",
    "#         limited_rallying_data.drop(index, inplace=True)\n",
    "#     # if row is not empty\n",
    "#     else:\n",
    "#         # if inside an observation group just increment observation number\n",
    "#         if is_group:\n",
    "#             observation_num+=1\n",
    "#         # if just entering a new observation group\n",
    "#         else:\n",
    "#             is_group = True\n",
    "#             # increase observation group number by 1\n",
    "#             observation_group_num+=1\n",
    "#             # resets observation sequence number to 1\n",
    "#             observation_num = 1\n",
    "#         # assign observation group and observation number\n",
    "#         limited_rallying_data.at[index, 'OBSERVATION NUMBER'] = observation_num\n",
    "#         limited_rallying_data.at[index, 'OBSERVATION GROUP NUMBER'] = observation_group_num\n",
    "\n",
    "# # Set 'OBSERVATION GROUP NUMBER' as INT\n",
    "# limited_rallying_data['OBSERVATION GROUP NUMBER'] = limited_rallying_data['OBSERVATION GROUP NUMBER'].astype(int)\n",
    "# limited_rallying_data.to_csv('regression_data/limited_rallying_data_stage1.csv')"
   ]
  },
  {
   "attachments": {},
   "cell_type": "markdown",
   "metadata": {},
   "source": [
    "Determining the initial starting position of each shuttlecock by either rounding it down, or rounding it to nearest necessary value "
   ]
  },
  {
   "cell_type": "code",
   "execution_count": 221,
   "metadata": {},
   "outputs": [],
   "source": [
    "# load in last milestone to save time \n",
    "limited_serving_data = pd.read_csv('regression_data/limited_serving_data_stage1.csv')\n",
    "limited_serving_data = limited_serving_data.drop(columns=('Unnamed: 0'))\n",
    "limited_rallying_data = pd.read_csv('regression_data/limited_rallying_data_stage1.csv')\n",
    "limited_rallying_data = limited_rallying_data.drop(columns=('Unnamed: 0'))\n",
    "\n",
    "# Add Initial Points of Human Position based on the rounded down version of the first point\n",
    "# Reset the index before applying groupby\n",
    "def calculate_human_position(group):\n",
    "    rounded_value_x = math.floor(group.iloc[0]['SHUTTLECOCK POSITIION IN AIR(X) metres'])\n",
    "    rounded_value_y = round(group.iloc[0]['SHUTTLECOCK POSITIION IN AIR(Y) metres'])\n",
    "    rounded_value_z = rounded_value = min(1.6, 2.6, key=lambda x: abs(x - group.iloc[0]['SHUTTLECOCK POSITIION IN AIR(Z) metres']))\n",
    "    group['HUMAN PLAYER POSITION (X) metres'] = rounded_value_x\n",
    "    group['HUMAN PLAYER POSITION (Y) metres'] = rounded_value_y\n",
    "    group['HUMAN PLAYER POSITION (Z) metres'] = rounded_value_z\n",
    "    return group\n",
    "\n",
    "# Apply the function to serving data in each group using groupby and apply\n",
    "limited_serving_data = limited_serving_data.groupby('OBSERVATION GROUP NUMBER').apply(calculate_human_position)\n",
    "limited_serving_data = limited_serving_data.reset_index(drop=True)\n",
    "\n",
    "# Apply the function to rallying data in each group using groupby and apply\n",
    "limited_rallying_data = limited_rallying_data.groupby('OBSERVATION GROUP NUMBER').apply(calculate_human_position)\n",
    "limited_rallying_data = limited_rallying_data.reset_index(drop=True)"
   ]
  },
  {
   "attachments": {},
   "cell_type": "markdown",
   "metadata": {},
   "source": [
    "Creating Velocity, Slant Angles and Firing Angles of each shuttlecock using mathematical equation with X,Y,Z manipulation"
   ]
  },
  {
   "cell_type": "code",
   "execution_count": 222,
   "metadata": {},
   "outputs": [],
   "source": [
    "def generate_features(group):\n",
    "    # calculate X,Y,Z distances from initial human points\n",
    "    X_displacement = group.iloc[0]['SHUTTLECOCK POSITIION IN AIR(X) metres'] - group.iloc[0]['HUMAN PLAYER POSITION (X) metres']\n",
    "    Y_displacement = group.iloc[0]['SHUTTLECOCK POSITIION IN AIR(Y) metres'] - group.iloc[0]['HUMAN PLAYER POSITION (Y) metres'] \n",
    "    Z_displacement = group.iloc[0]['SHUTTLECOCK POSITIION IN AIR(Z) metres'] - group.iloc[0]['HUMAN PLAYER POSITION (Z) metres']\n",
    "\n",
    "    # calculate initial firing angle\n",
    "    firing_angle_radians = math.atan(X_displacement / Z_displacement)\n",
    "    firing_angle_degrees = math.degrees(firing_angle_radians)\n",
    "    # round to nearest 10 for firing angle\n",
    "    group['INITIAL SHUTTELCOCK FIRING ANGLE (DEGREE)'] = round(firing_angle_degrees / 10) * 10\n",
    "\n",
    "    # calculate initial slant angle\n",
    "    slant_angle_radians = math.atan(Y_displacement / X_displacement)\n",
    "    slant_angle_degrees = math.degrees(slant_angle_radians)\n",
    "    group['INITIAL SHUTTELCOCK SLANT ANGLE TO SIDELINE(DEGREE)'] = round(slant_angle_degrees)\n",
    "\n",
    "    # Calculate the initial velocity (v₀)\n",
    "    time_elapsed = 0.1\n",
    "    displacement = math.sqrt(X_displacement**2 + Y_displacement**2 + Z_displacement**2)\n",
    "    initial_velocity = round(displacement/time_elapsed)\n",
    "    # round to nearest 10 for velocity\n",
    "    group['INITITAL VELOCITY OF SHUTTELCOCK(m/s)'] = initial_velocity\n",
    "    return group\n",
    "\n",
    "# generate features for serving data\n",
    "limited_serving_data = limited_serving_data.groupby('OBSERVATION GROUP NUMBER').apply(generate_features)\n",
    "limited_serving_data = limited_serving_data.reset_index(drop=True)\n",
    "limited_serving_data.to_csv('regression_data/limited_serving_data.csv')\n",
    "\n",
    "# generate features for rallying data\n",
    "limited_rallying_data = limited_rallying_data.groupby('OBSERVATION GROUP NUMBER').apply(generate_features)\n",
    "limited_rallying_data = limited_rallying_data.reset_index(drop=True)\n",
    "limited_rallying_data.to_csv('regression_data/limited_rallying_data.csv')"
   ]
  },
  {
   "attachments": {},
   "cell_type": "markdown",
   "metadata": {},
   "source": [
    "Combine the two datasets into a single dataset"
   ]
  },
  {
   "cell_type": "code",
   "execution_count": 223,
   "metadata": {},
   "outputs": [],
   "source": [
    "# combining the serving and rally dataframes\n",
    "limited_badminton_data = pd.concat([limited_serving_data, limited_rallying_data], ignore_index=True)\n",
    "limited_badminton_data.to_csv('regression_data/limited_badminton_data.csv')"
   ]
  },
  {
   "attachments": {},
   "cell_type": "markdown",
   "metadata": {},
   "source": [
    "label data if they are are out of bounds within the observations using data column \"OUT OF BOUNDS\". This includes\n",
    "- Data that exceeds the X axis (hit too far on both sides) X < 0 OR X > 13.4\n",
    "- Data that exceeds the Y axis (hit out of court on left or right side) Y < 0 OR Y > 5.18\n",
    "- Data that is out of bounds labelled as 1, no 0\n",
    "\n",
    "OPTIONAL, if needed"
   ]
  },
  {
   "cell_type": "code",
   "execution_count": 224,
   "metadata": {},
   "outputs": [],
   "source": [
    "# # labelling data if its out of bounds\n",
    "# unique_observation_number = limited_badminton_data['OBSERVATION GROUP NUMBER'].unique()\n",
    "# for obs_grp_number in unique_observation_number:\n",
    "#     last_row = limited_badminton_data[limited_badminton_data['OBSERVATION GROUP NUMBER'] == obs_grp_number].tail(1)\n",
    "#     # Check the conditions for 'Shuttlecock Position in Air X' and 'Shuttlecock Position in Air Y'\n",
    "#     if (last_row['SHUTTLECOCK POSITIION IN AIR(X) metres'].values[0] < 0 or\n",
    "#         last_row['SHUTTLECOCK POSITIION IN AIR(X) metres'].values[0] > 13.4 or\n",
    "#         last_row['SHUTTLECOCK POSITIION IN AIR(Y) metres'].values[0] < 0 or\n",
    "#         last_row['SHUTTLECOCK POSITIION IN AIR(Y) metres'].values[0] > 5.18):\n",
    "        \n",
    "#         # Set 'OUT OF BOUNDS' column to 1 for the corresponding observation number\n",
    "#         limited_badminton_data.loc[limited_badminton_data['OBSERVATION GROUP NUMBER'] == obs_grp_number, 'OUT OF BOUNDS'] = 1\n",
    "#     else:\n",
    "#         limited_badminton_data.loc[limited_badminton_data['OBSERVATION GROUP NUMBER'] == obs_grp_number, 'OUT OF BOUNDS']"
   ]
  },
  {
   "attachments": {},
   "cell_type": "markdown",
   "metadata": {},
   "source": [
    "## Feature Significance\n",
    "Selecting features to test significance using PCA and standardizing them. "
   ]
  },
  {
   "cell_type": "code",
   "execution_count": 225,
   "metadata": {},
   "outputs": [],
   "source": [
    "# removal of labels and dependent features\n",
    "X_limited_features = limited_badminton_data.drop(columns=['OBSERVATION GROUP NUMBER',\n",
    "                                            'SHUTTLECOCK POSITIION IN AIR(X) metres', \n",
    "                                            'SHUTTLECOCK POSITIION IN AIR(Y) metres', \n",
    "                                            'SHUTTLECOCK POSITIION IN AIR(Z) metres'])\n",
    "# Standardize the data\n",
    "scaler = StandardScaler()\n",
    "X_features_norm = scaler.fit_transform(X_limited_features)"
   ]
  },
  {
   "cell_type": "code",
   "execution_count": 226,
   "metadata": {},
   "outputs": [
    {
     "name": "stdout",
     "output_type": "stream",
     "text": [
      "Feature INITIAL SHUTTELCOCK FIRING ANGLE (DEGREE): Significance = 0.1865320813023315\n",
      "Feature HUMAN PLAYER POSITION (Z) metres: Significance = 0.17677218072800077\n",
      "Feature OBSERVATION NUMBER: Significance = 0.15130267848959464\n",
      "Feature INITIAL SHUTTELCOCK SLANT ANGLE TO SIDELINE(DEGREE): Significance = 0.1506764619077837\n",
      "Feature INITITAL VELOCITY OF SHUTTELCOCK(m/s): Significance = 0.13679930347016042\n",
      "Feature HUMAN PLAYER POSITION (Y) metres: Significance = 0.11239037013040225\n",
      "Feature HUMAN PLAYER POSITION (X) metres: Significance = 0.08552692397172691\n"
     ]
    },
    {
     "data": {
      "image/png": "[encoded data removed]",
      "text/plain": [
       "<Figure size 640x480 with 1 Axes>"
      ]
     },
     "metadata": {},
     "output_type": "display_data"
    }
   ],
   "source": [
    "# instantiate PCA object, fit model\n",
    "pca = PCA()\n",
    "pca.fit(X_features_norm)\n",
    "\n",
    "# loadings refer to the coefficients or weights that determine the contribution of each feature to the principal components\n",
    "# Get the absolute loadings for each feature in each principal component\n",
    "absolute_loadings = np.abs(pca.components_)\n",
    "# Calculate the total sum of absolute loadings for each feature across all principal components\n",
    "total_loadings = np.sum(absolute_loadings, axis=0)\n",
    "\n",
    "# Calculate the relative contribution of each feature to the total loadings\n",
    "relative_contribution = total_loadings / np.sum(total_loadings)\n",
    "\n",
    "# Sort the features based on their relative contribution\n",
    "sorted_features = np.argsort(relative_contribution)[::-1]\n",
    "feature_names = X_limited_features.columns\n",
    "# Print the significance of each feature\n",
    "for feature_idx in sorted_features:\n",
    "    print(f\"Feature {feature_names[feature_idx]}: Significance = {relative_contribution[feature_idx]}\")\n",
    "\n",
    "# Plot the significance of each feature\n",
    "plt.bar(range(len(sorted_features)), relative_contribution[sorted_features])\n",
    "plt.xlabel('Features')\n",
    "plt.ylabel('Significance')\n",
    "plt.title('Significance of Features in PCA')\n",
    "plt.xticks(range(len(sorted_features)), feature_names[sorted_features], rotation=90)\n",
    "# plt.xticks(range(len(sorted_features)), sorted_features)\n",
    "plt.show()"
   ]
  },
  {
   "attachments": {},
   "cell_type": "markdown",
   "metadata": {},
   "source": [
    "## Stage: Data Mining\n",
    "### Preparing data for Decision Tree Classifier\n",
    "To determine observation steps needed for a trajectory, only these X features are needed. No normalization is needed\n",
    "- 'HUMAN PLAYER POSITION (X) metres'\n",
    "- 'HUMAN PLAYER POSITION (Y) metres'\n",
    "- 'HUMAN PLAYER POSITION (Z) metres'\n",
    "- 'INITITAL VELOCITY OF SHUTTELCOCK(m/s)'\n",
    "- 'INITIAL SHUTTELCOCK FIRING ANGLE (DEGREE)'\n",
    "- 'INITIAL SHUTTELCOCK SLANT ANGLE TO SIDELINE(DEGREE)'"
   ]
  },
  {
   "cell_type": "code",
   "execution_count": 227,
   "metadata": {},
   "outputs": [],
   "source": [
    "# loading data\n",
    "temp_data = pd.read_csv('regression_data/limited_badminton_data.csv')\n",
    "temp_data = temp_data.drop(columns=['Unnamed: 0'])\n",
    "\n",
    "# Drop duplicates based on 'Observation Group Number', keeping only the last record\n",
    "data_DT = temp_data.copy()\n",
    "data_DT = data_DT.drop_duplicates(subset='OBSERVATION GROUP NUMBER', keep='last')\n",
    "\n",
    "# Define X and Y Features for Decision Tree\n",
    "X_features_DT = data_DT[['HUMAN PLAYER POSITION (X) metres', \n",
    "                            'HUMAN PLAYER POSITION (Y) metres',\n",
    "                            'HUMAN PLAYER POSITION (Z) metres', \n",
    "                            'INITITAL VELOCITY OF SHUTTELCOCK(m/s)', \n",
    "                            'INITIAL SHUTTELCOCK FIRING ANGLE (DEGREE)', \n",
    "                            'INITIAL SHUTTELCOCK SLANT ANGLE TO SIDELINE(DEGREE)']]\n",
    "\n",
    "Y_feature_DT = data_DT['OBSERVATION NUMBER']\n",
    "\n",
    "# Split the data into train/test, X/Y for Decision Tree Classifier\n",
    "X_train_DT, X_test_DT, Y_train_DT, Y_test_DT = train_test_split(X_features_DT, Y_feature_DT, test_size=0.2, random_state=42)"
   ]
  },
  {
   "attachments": {},
   "cell_type": "markdown",
   "metadata": {},
   "source": [
    "### Finding Optimal Decision Tree Model\n",
    "To predict total observation time based on the independent feature supplied. Predicts a set of observation take"
   ]
  },
  {
   "cell_type": "code",
   "execution_count": 228,
   "metadata": {},
   "outputs": [],
   "source": [
    "from sklearn.tree import DecisionTreeClassifier\n",
    "maxdepths = [2,3,4,5,6,7,8,9,10,15]  # 10 different depths\n",
    "\n",
    "# containers to store train/test accuracy rates\n",
    "trainAcc_DT = np.zeros(len(maxdepths))\n",
    "testAcc_DT = np.zeros(len(maxdepths))\n",
    "\n",
    "index = 0\n",
    "for depth in maxdepths:\n",
    "    # training decision tree with depth lengths\n",
    "    temp_model_DT = DecisionTreeClassifier(max_depth=depth)\n",
    "    temp_model_DT = temp_model_DT.fit(X_train_DT, Y_train_DT)\n",
    "    # generate predictions using the model trained, for the training data (X) and test data (X)\n",
    "    Y_predTrain = temp_model_DT.predict(X_train_DT)\n",
    "    Y_predTest = temp_model_DT.predict(X_test_DT)\n",
    "    # compare the predicted values and compare against original values for accuracy\n",
    "    trainAcc_DT[index] = accuracy_score(Y_train_DT, Y_predTrain)\n",
    "    testAcc_DT[index] = accuracy_score(Y_test_DT, Y_predTest)\n",
    "    index += 1"
   ]
  },
  {
   "cell_type": "code",
   "execution_count": 229,
   "metadata": {},
   "outputs": [
    {
     "data": {
      "text/plain": [
       "Text(0, 0.5, 'Accuracy')"
      ]
     },
     "execution_count": 229,
     "metadata": {},
     "output_type": "execute_result"
    },
    {
     "data": {
      "image/png": "[encoded data removed]",
      "text/plain": [
       "<Figure size 640x480 with 1 Axes>"
      ]
     },
     "metadata": {},
     "output_type": "display_data"
    }
   ],
   "source": [
    "plt.plot(maxdepths,trainAcc_DT,'ro-',maxdepths,testAcc_DT,'bv--')\n",
    "plt.legend(['Training Accuracy','Test Accuracy'])\n",
    "plt.xlabel('Max depth')\n",
    "plt.ylabel('Accuracy')"
   ]
  },
  {
   "attachments": {},
   "cell_type": "markdown",
   "metadata": {},
   "source": [
    "### Train Decision Tree Model \"Model_DecisionTree\"\n",
    "Using the optimal elbow depth found in the previous segment which is 4"
   ]
  },
  {
   "cell_type": "code",
   "execution_count": 230,
   "metadata": {},
   "outputs": [
    {
     "name": "stdout",
     "output_type": "stream",
     "text": [
      "Training Accuracy:  1.0\n",
      "Testing Accuracy:  1.0\n"
     ]
    }
   ],
   "source": [
    "model_decisionTree = DecisionTreeClassifier(max_depth=4)\n",
    "model_decisionTree = model_decisionTree.fit(X_train_DT, Y_train_DT)\n",
    "\n",
    "Y_predTrain = model_decisionTree.predict(X_train_DT)\n",
    "Y_predTest = model_decisionTree.predict(X_test_DT)\n",
    "\n",
    "trainAcc_DT = accuracy_score(Y_train_DT, Y_predTrain)\n",
    "testAcc_DT = accuracy_score(Y_test_DT, Y_predTest)\n",
    "print(\"Training Accuracy: \", trainAcc_DT)\n",
    "print(\"Testing Accuracy: \", testAcc_DT)"
   ]
  },
  {
   "attachments": {},
   "cell_type": "markdown",
   "metadata": {},
   "source": [
    "### Preparing data for Regressor Models"
   ]
  },
  {
   "attachments": {},
   "cell_type": "markdown",
   "metadata": {},
   "source": [
    "There are two approaches to data train-test splitting. \n",
    "- Data can be either split randomly by rows (Higher accuracy, lower error margin, messier model visualization)\n",
    "- Data can be split randomly based on their observations groups. (Lower accuracy, nicer and neater model visualization)\n",
    "Two segments of code are provided below. Choose train/test split approach and commment out the other code"
   ]
  },
  {
   "cell_type": "code",
   "execution_count": 231,
   "metadata": {},
   "outputs": [],
   "source": [
    "# APPROACH FOR RANDOMLY SPLITTING BY ROWS\n",
    "X_features_Regression = temp_data[['HUMAN PLAYER POSITION (X) metres', \n",
    "                        'HUMAN PLAYER POSITION (Y) metres', \n",
    "                        'HUMAN PLAYER POSITION (Z) metres',\n",
    "                        'INITITAL VELOCITY OF SHUTTELCOCK(m/s)', \n",
    "                        'INITIAL SHUTTELCOCK FIRING ANGLE (DEGREE)', \n",
    "                        'INITIAL SHUTTELCOCK SLANT ANGLE TO SIDELINE(DEGREE)',\n",
    "                        'OBSERVATION NUMBER']]\n",
    "\n",
    "Y_features_Regression = temp_data[['SHUTTLECOCK POSITIION IN AIR(X) metres', \n",
    "                        'SHUTTLECOCK POSITIION IN AIR(Y) metres', \n",
    "                        'SHUTTLECOCK POSITIION IN AIR(Z) metres']]\n",
    "\n",
    "X_train_Regression, X_test_Regression, Y_train_Regression, Y_test_Regression = train_test_split(X_features_Regression, Y_features_Regression, test_size=0.2, random_state=42)"
   ]
  },
  {
   "cell_type": "code",
   "execution_count": 232,
   "metadata": {},
   "outputs": [],
   "source": [
    "# # APPROACH FOR RANDOMLY SPLITTING BY OBSERVATION GROUPS\n",
    "# X_features_Regression = temp_data[['HUMAN PLAYER POSITION (X) metres', \n",
    "#                         'HUMAN PLAYER POSITION (Y) metres', \n",
    "#                         'HUMAN PLAYER POSITION (Z) metres',\n",
    "#                         'INITITAL VELOCITY OF SHUTTELCOCK(m/s)', \n",
    "#                         'INITIAL SHUTTELCOCK FIRING ANGLE (DEGREE)', \n",
    "#                         'INITIAL SHUTTELCOCK SLANT ANGLE TO SIDELINE(DEGREE)',\n",
    "#                         'OBSERVATION NUMBER']]\n",
    "\n",
    "# Y_features_Regression = temp_data[['SHUTTLECOCK POSITIION IN AIR(X) metres', \n",
    "#                         'SHUTTLECOCK POSITIION IN AIR(Y) metres', \n",
    "#                         'SHUTTLECOCK POSITIION IN AIR(Z) metres']]\n",
    "\n",
    "# # contains all the observation group numbers in data\n",
    "# unique_observation_grps = temp_data['OBSERVATION GROUP NUMBER'].unique() # list of [1 to 1576]\n",
    "# # shuffle order \n",
    "# random.seed(42) # fixes the random order so results can be replicated\n",
    "# random.shuffle(unique_observation_grps)\n",
    "\n",
    "# # index of training sets\n",
    "# training_test_split_idx = int(0.8*len(unique_observation_grps))\n",
    "# # containers to store all the respective train and test observation groups idx from data\n",
    "# train_idxes = unique_observation_grps[:training_test_split_idx]\n",
    "# test_idxes = unique_observation_grps[training_test_split_idx:]\n",
    "\n",
    "# train_data = temp_data[temp_data['OBSERVATION GROUP NUMBER'].isin(train_idxes)]\n",
    "# test_data = temp_data[temp_data['OBSERVATION GROUP NUMBER'].isin(test_idxes)]\n",
    "\n",
    "# # Define X and Y features\n",
    "# X_train_Regression = train_data[['HUMAN PLAYER POSITION (X) metres', \n",
    "#                         'HUMAN PLAYER POSITION (Y) metres', \n",
    "#                         'HUMAN PLAYER POSITION (Z) metres',\n",
    "#                         'INITITAL VELOCITY OF SHUTTELCOCK(m/s)', \n",
    "#                         'INITIAL SHUTTELCOCK FIRING ANGLE (DEGREE)', \n",
    "#                         'INITIAL SHUTTELCOCK SLANT ANGLE TO SIDELINE(DEGREE)',\n",
    "#                         'OBSERVATION NUMBER']]\n",
    "\n",
    "# Y_train_Regression = train_data[['SHUTTLECOCK POSITIION IN AIR(X) metres', \n",
    "#                       'SHUTTLECOCK POSITIION IN AIR(Y) metres', \n",
    "#                       'SHUTTLECOCK POSITIION IN AIR(Z) metres']]\n",
    "\n",
    "# X_test_Regression = test_data[['HUMAN PLAYER POSITION (X) metres', \n",
    "#                         'HUMAN PLAYER POSITION (Y) metres', \n",
    "#                         'HUMAN PLAYER POSITION (Z) metres',\n",
    "#                         'INITITAL VELOCITY OF SHUTTELCOCK(m/s)', \n",
    "#                         'INITIAL SHUTTELCOCK FIRING ANGLE (DEGREE)', \n",
    "#                         'INITIAL SHUTTELCOCK SLANT ANGLE TO SIDELINE(DEGREE)',\n",
    "#                         'OBSERVATION NUMBER']]\n",
    "\n",
    "# Y_test_Regression = test_data[['SHUTTLECOCK POSITIION IN AIR(X) metres', \n",
    "#                     'SHUTTLECOCK POSITIION IN AIR(Y) metres', \n",
    "#                     'SHUTTLECOCK POSITIION IN AIR(Z) metres']]"
   ]
  },
  {
   "attachments": {},
   "cell_type": "markdown",
   "metadata": {},
   "source": [
    "### Random Forest Regressor\n",
    "Random Forest is an ensemble learning algorithm that combines multiple decision trees to make predictions. It can handle both numerical and categorical data and is capable of capturing complex relationships in the data. It does not require feature standardization as they are not sensitive to the scale of the features. Random Forest algorithms work by creating decision trees based on random subsets of features, and each decision tree independently makes decisions based on these features.\n",
    "#### Dependencies for Random Forest Regressor"
   ]
  },
  {
   "cell_type": "code",
   "execution_count": 233,
   "metadata": {},
   "outputs": [],
   "source": [
    "from sklearn.ensemble import RandomForestRegressor  # for regression tasks"
   ]
  },
  {
   "attachments": {},
   "cell_type": "markdown",
   "metadata": {},
   "source": [
    "#### Optimizing Random Forest Regressor\n",
    "Building multiple models with different depths to find best model with lowest mean squared error. Best depth should be 15"
   ]
  },
  {
   "cell_type": "code",
   "execution_count": 234,
   "metadata": {},
   "outputs": [],
   "source": [
    "# # Define a list of depths to test\n",
    "# depths = [5, 10, 15, 20, 25, 30]\n",
    "# mse_score_RF = []\n",
    "\n",
    "# # Iterate over different depths and calculate MSE\n",
    "# for depth in depths:\n",
    "#     temp_model_RF = RandomForestRegressor(n_estimators=100, max_depth=depth, random_state=42)\n",
    "#     temp_model_RF.fit(X_train_Regression, Y_train_Regression)\n",
    "#     temp_y_pred_RF = temp_model_RF.predict(X_test_Regression)\n",
    "#     mse = mean_squared_error(Y_test_Regression, temp_y_pred_RF)\n",
    "#     mse_score_RF.append(mse)\n",
    "# print(mse_score_RF)"
   ]
  },
  {
   "cell_type": "code",
   "execution_count": 235,
   "metadata": {},
   "outputs": [],
   "source": [
    "# # Plotting the MSE scores\n",
    "# plt.plot(depths, mse_score_RF, marker='o')\n",
    "# plt.xlabel('Depth')\n",
    "# plt.ylabel('Mean Squared Error')\n",
    "# plt.title('Mean Squared Error vs. Depth for Random Forest Regressor')\n",
    "# plt.show()"
   ]
  },
  {
   "attachments": {},
   "cell_type": "markdown",
   "metadata": {},
   "source": [
    "Building multiple models with different number of decision trees \"n_estimators\" to find best \"n_estimator\". Best number of decision trees should be 200"
   ]
  },
  {
   "cell_type": "code",
   "execution_count": 236,
   "metadata": {},
   "outputs": [],
   "source": [
    "# # Define a list of n_estimators to test\n",
    "# n_estimators_values = [50, 100, 150, 200, 250, 300]\n",
    "# mse_score_RF = []\n",
    "\n",
    "# # Iterate over different n_estimators and calculate MSE\n",
    "# for n_estimators in n_estimators_values:\n",
    "#     temp_model_RF = RandomForestRegressor(n_estimators=n_estimators, max_depth=15, random_state=42)\n",
    "#     temp_model_RF.fit(X_train_Regression, Y_train_Regression)\n",
    "#     temp_y_pred_RF = temp_model_RF.predict(X_test_Regression)\n",
    "#     mse = mean_squared_error(Y_test_Regression, temp_y_pred_RF)\n",
    "#     mse_score_RF.append(mse)\n",
    "# print(mse_score_RF)"
   ]
  },
  {
   "cell_type": "code",
   "execution_count": 237,
   "metadata": {},
   "outputs": [],
   "source": [
    "# # Plotting the MSE scores\n",
    "# plt.plot(n_estimators_values, mse_score_RF, marker='o')\n",
    "# plt.xlabel('n_estimators')\n",
    "# plt.ylabel('Mean Squared Error')\n",
    "# plt.title('Mean Squared Error vs. n_estimators for Random Forest Regressor')\n",
    "# plt.show()"
   ]
  },
  {
   "attachments": {},
   "cell_type": "markdown",
   "metadata": {},
   "source": [
    "#### Training with Best Random Forest\n",
    "This model will allow us predict an X, Y, Z coordinate in relation to the independent features supplied"
   ]
  },
  {
   "cell_type": "code",
   "execution_count": 238,
   "metadata": {},
   "outputs": [],
   "source": [
    "# Define the Random Forest Regressor\n",
    "model_randomForest = RandomForestRegressor(n_estimators=200, max_depth=15, random_state=42)  # for regression\n",
    "\n",
    "model_randomForest.fit(X_train_Regression, Y_train_Regression)\n",
    "y_pred_RF = model_randomForest.predict(X_test_Regression)"
   ]
  },
  {
   "attachments": {},
   "cell_type": "markdown",
   "metadata": {},
   "source": [
    "### Training Evaluation of Random Forest\n",
    "Mean squared error and root mean squared errors are error margin metrics for regression models. Refer to root mean squared error for a closer error margin to original metric"
   ]
  },
  {
   "cell_type": "code",
   "execution_count": 239,
   "metadata": {},
   "outputs": [
    {
     "name": "stdout",
     "output_type": "stream",
     "text": [
      "Mean Squared Error of Second Approach: 0.0005914124529569345\n",
      "Root Squared Error of Second Approach: 0.024318973106546554\n"
     ]
    }
   ],
   "source": [
    "mse = mean_squared_error(Y_test_Regression, y_pred_RF)\n",
    "print(\"Mean Squared Error of Random Forest Regressor:\", mse)\n",
    "rmse = math.sqrt(mse)\n",
    "print(\"Root Squared Error of Random Forest Regressor:\", rmse)"
   ]
  },
  {
   "attachments": {},
   "cell_type": "markdown",
   "metadata": {},
   "source": [
    "Check for generalization of data and if data is able to capture underlying pattern properly. This is done with a learning curve, with a negative mean squared metric. If the training and validation lines converge at a low error rate, that means that the model is well generalized and captures patterns properly"
   ]
  },
  {
   "cell_type": "code",
   "execution_count": 240,
   "metadata": {},
   "outputs": [],
   "source": [
    "# # Calculate the learning curves\n",
    "# train_sizes, train_scores, val_scores = learning_curve(model_randomForest, X_train_Regression, Y_train_Regression, cv=5, scoring='neg_mean_squared_error')\n",
    "\n",
    "# # Calculate the mean and standard deviation of train and validation scores\n",
    "# train_mean = -np.mean(train_scores, axis=1)\n",
    "# train_std = np.std(train_scores, axis=1)\n",
    "# val_mean = -np.mean(val_scores, axis=1)\n",
    "# val_std = np.std(val_scores, axis=1)"
   ]
  },
  {
   "cell_type": "code",
   "execution_count": 241,
   "metadata": {},
   "outputs": [],
   "source": [
    "# # Plot the learning curves\n",
    "# plt.figure(figsize=(10, 7))\n",
    "# plt.plot(train_sizes, train_mean, label='Training score', color='blue')\n",
    "# plt.fill_between(train_sizes, train_mean - train_std, train_mean + train_std, alpha=0.1, color='blue')\n",
    "# plt.plot(train_sizes, val_mean, label='Validation score', color='red')\n",
    "# plt.fill_between(train_sizes, val_mean - val_std, val_mean + val_std, alpha=0.1, color='red')\n",
    "# plt.xlabel('Training Set Size')\n",
    "# plt.ylabel('Negative Mean Squared Error')\n",
    "# plt.title('Learning Curve for Random Forest Regressor')\n",
    "# plt.legend(loc='best')\n",
    "# plt.show()"
   ]
  },
  {
   "attachments": {},
   "cell_type": "markdown",
   "metadata": {},
   "source": [
    "### Model Visualization of Random Forest Regressor"
   ]
  },
  {
   "cell_type": "code",
   "execution_count": 242,
   "metadata": {},
   "outputs": [
    {
     "data": {
      "image/png": "[encoded data removed]",
      "text/plain": [
       "<Figure size 1500x500 with 3 Axes>"
      ]
     },
     "metadata": {},
     "output_type": "display_data"
    }
   ],
   "source": [
    "# Plotting the scatterplot\n",
    "fig, ax = plt.subplots(1, 3, figsize=(15, 5))\n",
    "\n",
    "# Plotting for each target variable\n",
    "for i, target in enumerate(Y_features_Regression.columns):\n",
    "    ax[i].scatter(Y_test_Regression[target], y_pred_RF[:, i], alpha=0.5)\n",
    "    ax[i].plot([Y_test_Regression[target].min(), Y_test_Regression[target].max()], [Y_test_Regression[target].min(), Y_test_Regression[target].max()], 'r--')\n",
    "    ax[i].set_xlabel('Actual ' + target)\n",
    "    ax[i].set_ylabel('Predicted ' + target)\n",
    "\n",
    "plt.suptitle('Actual vs Predicted Y for Random Forest Regressor')\n",
    "plt.tight_layout()\n",
    "plt.show()"
   ]
  },
  {
   "cell_type": "code",
   "execution_count": 243,
   "metadata": {},
   "outputs": [
    {
     "data": {
      "text/plain": [
       "'interactive_models/random_forest_limited_model.html'"
      ]
     },
     "execution_count": 243,
     "metadata": {},
     "output_type": "execute_result"
    }
   ],
   "source": [
    "# Create traces for actual and predicted values\n",
    "actual_trace = go.Scatter3d(\n",
    "    x=Y_test_Regression['SHUTTLECOCK POSITIION IN AIR(X) metres'],\n",
    "    y=Y_test_Regression['SHUTTLECOCK POSITIION IN AIR(Y) metres'],\n",
    "    z=Y_test_Regression['SHUTTLECOCK POSITIION IN AIR(Z) metres'],\n",
    "    name='Actual',\n",
    "    mode='markers',\n",
    "    marker=dict(\n",
    "        color='blue',\n",
    "        size=3,\n",
    "        symbol='circle'\n",
    "    )\n",
    ")\n",
    "\n",
    "predicted_trace = go.Scatter3d(\n",
    "    x=y_pred_RF[:, 0],\n",
    "    y=y_pred_RF[:, 1],\n",
    "    z=y_pred_RF[:, 2],\n",
    "    name='Predicted',\n",
    "    mode='markers',\n",
    "    marker=dict(\n",
    "        color='red',\n",
    "        size=3,\n",
    "        symbol='circle'\n",
    "    )\n",
    ")\n",
    "\n",
    "# Create layout\n",
    "layout = go.Layout(\n",
    "    title='Actual vs Predicted Shuttlecock Positions for Random Forest Regressor',\n",
    "    scene=dict(\n",
    "        xaxis=dict(title='X'),\n",
    "        yaxis=dict(title='Y'),\n",
    "        zaxis=dict(title='Z')\n",
    "    )\n",
    ")\n",
    "\n",
    "# Create figure\n",
    "fig = go.Figure(data=[actual_trace, predicted_trace], layout=layout)\n",
    "\n",
    "# Save the plot as an HTML file\n",
    "plot(fig, filename='interactive_models/random_forest_limited_model.html')"
   ]
  },
  {
   "attachments": {},
   "cell_type": "markdown",
   "metadata": {},
   "source": [
    "### Extra Trees Regressor\n",
    "Extra Trees aka. (Extremely Randomized Trees) Regressor is a variant of Random Forest Tree which also uses an ensemble of decision trees to make predictions. However unlike random forests, Extra Trees introduces extra randomness by randomly selecting features at each node split. This randomness helps to create more diverse and less correlated trees. The final prediction is obtained by averaging the predictions of all the trees.\n",
    "#### Dependencies for Extra Trees Regressor"
   ]
  },
  {
   "cell_type": "code",
   "execution_count": 244,
   "metadata": {},
   "outputs": [],
   "source": [
    "from sklearn.ensemble import ExtraTreesRegressor"
   ]
  },
  {
   "attachments": {},
   "cell_type": "markdown",
   "metadata": {},
   "source": [
    "### Optimization of Extra Tree Regressor \n",
    "Building multiple models with different depths to find best model with lowest mean squared error. Best depth should be 15"
   ]
  },
  {
   "cell_type": "code",
   "execution_count": 245,
   "metadata": {},
   "outputs": [],
   "source": [
    "# # Define a list of depths to test\n",
    "# depths = [5, 10, 15, 20, 25, 30]\n",
    "# mse_scores_ET = []\n",
    "\n",
    "# # Iterate over different depths and calculate MSE\n",
    "# for depth in depths:\n",
    "#     temp_model_ET = ExtraTreesRegressor(n_estimators=100, max_depth=depth, random_state=42)\n",
    "#     temp_model_ET.fit(X_train_Regression, Y_train_Regression)\n",
    "#     temp_y_pred_ET = temp_model_ET.predict(X_test_Regression)\n",
    "#     mse = mean_squared_error(Y_test_Regression, temp_y_pred_ET)\n",
    "#     mse_scores_ET.append(mse)"
   ]
  },
  {
   "cell_type": "code",
   "execution_count": 246,
   "metadata": {},
   "outputs": [],
   "source": [
    "# # Plotting the MSE scores\n",
    "# plt.plot(depths, mse_scores_ET, marker='o')\n",
    "# plt.xlabel('Depth')\n",
    "# plt.ylabel('Mean Squared Error')\n",
    "# plt.title('Mean Squared Error vs. Depth for Extra Trees Regressor')\n",
    "# plt.show()"
   ]
  },
  {
   "attachments": {},
   "cell_type": "markdown",
   "metadata": {},
   "source": [
    "Building multiple models with different number of decision trees \"n_estimators\" to find best \"n_estimator\". Best number of decision trees should be 200"
   ]
  },
  {
   "cell_type": "code",
   "execution_count": 247,
   "metadata": {},
   "outputs": [],
   "source": [
    "# # Define a list of n_estimators to test\n",
    "# n_estimators_values = [50, 100, 150, 200, 250, 300]\n",
    "# mse_scores_ET = []\n",
    "\n",
    "# # Iterate over different n_estimators and calculate MSE\n",
    "# for n_estimators in n_estimators_values:\n",
    "#     temp_model_ET = RandomForestRegressor(n_estimators=n_estimators, max_depth=15, random_state=42)\n",
    "#     temp_model_ET.fit(X_train_Regression, Y_train_Regression)\n",
    "#     temp_y_pred_RF = temp_model_ET.predict(X_test_Regression)\n",
    "#     mse = mean_squared_error(Y_test_Regression, temp_y_pred_RF)\n",
    "#     mse_scores_ET.append(mse)\n",
    "# print(mse_scores_ET)"
   ]
  },
  {
   "cell_type": "code",
   "execution_count": 248,
   "metadata": {},
   "outputs": [],
   "source": [
    "# # Plotting the MSE scores\n",
    "# plt.plot(n_estimators_values, mse_scores_ET, marker='o')\n",
    "# plt.xlabel('n_estimators')\n",
    "# plt.ylabel('Mean Squared Error')\n",
    "# plt.title('Mean Squared Error vs. n_estimators for Extra Trees Regressor')\n",
    "# plt.show()"
   ]
  },
  {
   "attachments": {},
   "cell_type": "markdown",
   "metadata": {},
   "source": [
    "### Training with Best Extra Trees Regressor\n",
    "This model will allow us predict an X, Y, Z coordinate in relation to the independent features supplied"
   ]
  },
  {
   "cell_type": "code",
   "execution_count": 249,
   "metadata": {},
   "outputs": [],
   "source": [
    "# Define the Extra Trees Regressor\n",
    "model_ExtraTrees = ExtraTreesRegressor()\n",
    "model_ExtraTrees.fit(X_train_Regression, Y_train_Regression)\n",
    "y_pred_ET = model_ExtraTrees.predict(X_test_Regression)"
   ]
  },
  {
   "attachments": {},
   "cell_type": "markdown",
   "metadata": {},
   "source": [
    "### Training Evaluation of Extra Trees Regressor\n",
    "Mean squared error and root mean squared errors are error margin metrics for regression models. Refer to root mean squared error for a closer error margin to original metric"
   ]
  },
  {
   "cell_type": "code",
   "execution_count": 250,
   "metadata": {},
   "outputs": [
    {
     "name": "stdout",
     "output_type": "stream",
     "text": [
      "Mean Squared Error: 0.00011734992248077246\n",
      "Root Squared Error: 0.010832816922701707\n"
     ]
    }
   ],
   "source": [
    "mse = mean_squared_error(Y_test_Regression, y_pred_ET)\n",
    "print(\"Mean Squared Error of Extra Trees Regressor:\", mse)\n",
    "rmse = math.sqrt(mse)\n",
    "print(\"Root Squared Error of Extra Trees Regressor:\", rmse)"
   ]
  },
  {
   "attachments": {},
   "cell_type": "markdown",
   "metadata": {},
   "source": [
    "Check for generalization of data and if data is able to capture underlying pattern properly. This is done with a learning curve, with a negative mean squared metric. If the training and validation lines converge at a low error rate, that means that the model is well generalized and captures patterns properly"
   ]
  },
  {
   "cell_type": "code",
   "execution_count": 251,
   "metadata": {},
   "outputs": [],
   "source": [
    "# # Calculate the learning curves\n",
    "# train_sizes, train_scores, val_scores = learning_curve(model_ExtraTrees, X_train_Regression, Y_train_Regression, cv=5, scoring='neg_mean_squared_error')\n",
    "\n",
    "# # Calculate the mean and standard deviation of train and validation scores\n",
    "# train_mean = -np.mean(train_scores, axis=1)\n",
    "# train_std = np.std(train_scores, axis=1)\n",
    "# val_mean = -np.mean(val_scores, axis=1)\n",
    "# val_std = np.std(val_scores, axis=1)"
   ]
  },
  {
   "cell_type": "code",
   "execution_count": 252,
   "metadata": {},
   "outputs": [],
   "source": [
    "# # Plot the learning curves\n",
    "# plt.figure(figsize=(10, 7))\n",
    "# plt.plot(train_sizes, train_mean, label='Training score', color='blue')\n",
    "# plt.fill_between(train_sizes, train_mean - train_std, train_mean + train_std, alpha=0.1, color='blue')\n",
    "# plt.plot(train_sizes, val_mean, label='Validation score', color='red')\n",
    "# plt.fill_between(train_sizes, val_mean - val_std, val_mean + val_std, alpha=0.1, color='red')\n",
    "# plt.xlabel('Training Set Size')\n",
    "# plt.ylabel('Negative Mean Squared Error')\n",
    "# plt.title('Learning Curve for Extra Trees')\n",
    "# plt.legend(loc='best')\n",
    "# plt.show()"
   ]
  },
  {
   "attachments": {},
   "cell_type": "markdown",
   "metadata": {},
   "source": [
    "### Model Visualization of Extra Trees Regressor"
   ]
  },
  {
   "cell_type": "code",
   "execution_count": 253,
   "metadata": {},
   "outputs": [
    {
     "data": {
      "image/png": "[encoded data removed]",
      "text/plain": [
       "<Figure size 1500x500 with 3 Axes>"
      ]
     },
     "metadata": {},
     "output_type": "display_data"
    }
   ],
   "source": [
    "# Plotting the scatterplot\n",
    "fig, ax = plt.subplots(1, 3, figsize=(15, 5))\n",
    "\n",
    "# Plotting for each target variable\n",
    "for i, target in enumerate(Y_features_Regression.columns):\n",
    "    ax[i].scatter(Y_test_Regression[target], y_pred_ET[:, i], alpha=0.5)\n",
    "    ax[i].plot([Y_test_Regression[target].min(), Y_test_Regression[target].max()], [Y_test_Regression[target].min(), Y_test_Regression[target].max()], 'r--')\n",
    "    ax[i].set_xlabel('Actual ' + target)\n",
    "    ax[i].set_ylabel('Predicted ' + target)\n",
    "\n",
    "plt.suptitle('Actual vs Predicted Y for Extra Trees Regressor')\n",
    "plt.tight_layout()\n",
    "plt.show()"
   ]
  },
  {
   "cell_type": "code",
   "execution_count": 254,
   "metadata": {},
   "outputs": [
    {
     "data": {
      "text/plain": [
       "'interactive_models/extra_trees_limited_model.html'"
      ]
     },
     "execution_count": 254,
     "metadata": {},
     "output_type": "execute_result"
    }
   ],
   "source": [
    "# Create traces for actual and predicted values\n",
    "actual_trace = go.Scatter3d(\n",
    "    x=Y_test_Regression['SHUTTLECOCK POSITIION IN AIR(X) metres'],\n",
    "    y=Y_test_Regression['SHUTTLECOCK POSITIION IN AIR(Y) metres'],\n",
    "    z=Y_test_Regression['SHUTTLECOCK POSITIION IN AIR(Z) metres'],\n",
    "    name='Actual',\n",
    "    mode='markers',\n",
    "    marker=dict(\n",
    "        color='blue',\n",
    "        size=3,\n",
    "        symbol='circle'\n",
    "    )\n",
    ")\n",
    "\n",
    "predicted_trace = go.Scatter3d(\n",
    "    x=y_pred_ET[:, 0],\n",
    "    y=y_pred_ET[:, 1],\n",
    "    z=y_pred_ET[:, 2],\n",
    "    name='Predicted',\n",
    "    mode='markers',\n",
    "    marker=dict(\n",
    "        color='red',\n",
    "        size=3,\n",
    "        symbol='circle'\n",
    "    )\n",
    ")\n",
    "\n",
    "# Create layout\n",
    "layout = go.Layout(\n",
    "    title='Actual vs Predicted Shuttlecock Positions for Extra Trees Regressor',\n",
    "    scene=dict(\n",
    "        xaxis=dict(title='X'),\n",
    "        yaxis=dict(title='Y'),\n",
    "        zaxis=dict(title='Z')\n",
    "    )\n",
    ")\n",
    "\n",
    "# Create figure\n",
    "fig = go.Figure(data=[actual_trace, predicted_trace], layout=layout)\n",
    "\n",
    "# Save the plot as an HTML file\n",
    "plot(fig, filename='interactive_models/extra_trees_limited_model.html')"
   ]
  },
  {
   "attachments": {},
   "cell_type": "markdown",
   "metadata": {},
   "source": [
    "## Stage: Actual Testing with First Coordinate\n",
    "To actually test if all the models work, the first point of an observation group will be used for testing. Test will be randomized and based on observation group. Assuming that we will know the sequence order of the observation since they are ordered, OBSERVATION NUMBER will be used to identify the first observation"
   ]
  },
  {
   "cell_type": "code",
   "execution_count": 255,
   "metadata": {},
   "outputs": [
    {
     "name": "stdout",
     "output_type": "stream",
     "text": [
      "Selected Observation Group Number is : 707\n"
     ]
    },
    {
     "data": {
      "text/html": [
       "<div>\n",
       "<style scoped>\n",
       "    .dataframe tbody tr th:only-of-type {\n",
       "        vertical-align: middle;\n",
       "    }\n",
       "\n",
       "    .dataframe tbody tr th {\n",
       "        vertical-align: top;\n",
       "    }\n",
       "\n",
       "    .dataframe thead th {\n",
       "        text-align: right;\n",
       "    }\n",
       "</style>\n",
       "<table border=\"1\" class=\"dataframe\">\n",
       "  <thead>\n",
       "    <tr style=\"text-align: right;\">\n",
       "      <th></th>\n",
       "      <th>SHUTTLECOCK POSITIION IN AIR(X) metres</th>\n",
       "      <th>SHUTTLECOCK POSITIION IN AIR(Y) metres</th>\n",
       "      <th>SHUTTLECOCK POSITIION IN AIR(Z) metres</th>\n",
       "      <th>OBSERVATION NUMBER</th>\n",
       "    </tr>\n",
       "  </thead>\n",
       "  <tbody>\n",
       "    <tr>\n",
       "      <th>82934</th>\n",
       "      <td>4.076329</td>\n",
       "      <td>3.985163</td>\n",
       "      <td>2.663932</td>\n",
       "      <td>1.0</td>\n",
       "    </tr>\n",
       "  </tbody>\n",
       "</table>\n",
       "</div>"
      ],
      "text/plain": [
       "       SHUTTLECOCK POSITIION IN AIR(X) metres  \\\n",
       "82934                                4.076329   \n",
       "\n",
       "       SHUTTLECOCK POSITIION IN AIR(Y) metres  \\\n",
       "82934                                3.985163   \n",
       "\n",
       "       SHUTTLECOCK POSITIION IN AIR(Z) metres  OBSERVATION NUMBER  \n",
       "82934                                2.663932                 1.0  "
      ]
     },
     "execution_count": 255,
     "metadata": {},
     "output_type": "execute_result"
    }
   ],
   "source": [
    "import random\n",
    "# copied to avoid alterations to cleaned data\n",
    "test_data = temp_data.copy()\n",
    "\n",
    "# choose a random from the observation groups to test\n",
    "unique_observation_grps = test_data['OBSERVATION GROUP NUMBER'].nunique()\n",
    "selected_test_num = random.randint(1, unique_observation_grps)\n",
    "print(\"Selected Observation Group Number is :\", selected_test_num)\n",
    "\n",
    "# alternatively can hardcode to replicate results\n",
    "# selected_test_num = ?\n",
    "\n",
    "# retrieve all the rows from the data related to randomly selected row\n",
    "y_actual_records = test_data[test_data['OBSERVATION GROUP NUMBER'] == selected_test_num]\n",
    "\n",
    "# get the first coordinate of selected observation for input\n",
    "y_first_coord = y_actual_records.head(1)\n",
    "y_first_coord = y_first_coord[['SHUTTLECOCK POSITIION IN AIR(X) metres', 'SHUTTLECOCK POSITIION IN AIR(Y) metres', 'SHUTTLECOCK POSITIION IN AIR(Z) metres', 'OBSERVATION NUMBER']]\n",
    "\n",
    "# show the test data\n",
    "y_first_coord\n"
   ]
  },
  {
   "attachments": {},
   "cell_type": "markdown",
   "metadata": {},
   "source": [
    "### Generate Features for Input\n",
    "Generate human initial position"
   ]
  },
  {
   "cell_type": "code",
   "execution_count": 256,
   "metadata": {},
   "outputs": [
    {
     "name": "stderr",
     "output_type": "stream",
     "text": [
      "C:\\Users\\Matthew Chuang\\AppData\\Local\\Temp\\ipykernel_2964\\3174915428.py:2: FutureWarning:\n",
      "\n",
      "Calling float on a single element Series is deprecated and will raise a TypeError in the future. Use float(ser.iloc[0]) instead\n",
      "\n"
     ]
    },
    {
     "data": {
      "text/html": [
       "<div>\n",
       "<style scoped>\n",
       "    .dataframe tbody tr th:only-of-type {\n",
       "        vertical-align: middle;\n",
       "    }\n",
       "\n",
       "    .dataframe tbody tr th {\n",
       "        vertical-align: top;\n",
       "    }\n",
       "\n",
       "    .dataframe thead th {\n",
       "        text-align: right;\n",
       "    }\n",
       "</style>\n",
       "<table border=\"1\" class=\"dataframe\">\n",
       "  <thead>\n",
       "    <tr style=\"text-align: right;\">\n",
       "      <th></th>\n",
       "      <th>SHUTTLECOCK POSITIION IN AIR(X) metres</th>\n",
       "      <th>SHUTTLECOCK POSITIION IN AIR(Y) metres</th>\n",
       "      <th>SHUTTLECOCK POSITIION IN AIR(Z) metres</th>\n",
       "      <th>OBSERVATION NUMBER</th>\n",
       "      <th>HUMAN PLAYER POSITION (X) metres</th>\n",
       "      <th>HUMAN PLAYER POSITION (Y) metres</th>\n",
       "      <th>HUMAN PLAYER POSITION (Z) metres</th>\n",
       "    </tr>\n",
       "  </thead>\n",
       "  <tbody>\n",
       "    <tr>\n",
       "      <th>82934</th>\n",
       "      <td>4.076329</td>\n",
       "      <td>3.985163</td>\n",
       "      <td>2.663932</td>\n",
       "      <td>1.0</td>\n",
       "      <td>4</td>\n",
       "      <td>4.0</td>\n",
       "      <td>2.6</td>\n",
       "    </tr>\n",
       "  </tbody>\n",
       "</table>\n",
       "</div>"
      ],
      "text/plain": [
       "       SHUTTLECOCK POSITIION IN AIR(X) metres  \\\n",
       "82934                                4.076329   \n",
       "\n",
       "       SHUTTLECOCK POSITIION IN AIR(Y) metres  \\\n",
       "82934                                3.985163   \n",
       "\n",
       "       SHUTTLECOCK POSITIION IN AIR(Z) metres  OBSERVATION NUMBER  \\\n",
       "82934                                2.663932                 1.0   \n",
       "\n",
       "       HUMAN PLAYER POSITION (X) metres  HUMAN PLAYER POSITION (Y) metres  \\\n",
       "82934                                 4                               4.0   \n",
       "\n",
       "       HUMAN PLAYER POSITION (Z) metres  \n",
       "82934                               2.6  "
      ]
     },
     "execution_count": 256,
     "metadata": {},
     "output_type": "execute_result"
    }
   ],
   "source": [
    "# Generate Initial Human Position\n",
    "rounded_value_x = math.floor(y_first_coord['SHUTTLECOCK POSITIION IN AIR(X) metres'])\n",
    "rounded_value_y = round(y_first_coord['SHUTTLECOCK POSITIION IN AIR(Y) metres'])\n",
    "rounded_value_z = y_first_coord['SHUTTLECOCK POSITIION IN AIR(Z) metres'].apply(lambda x: min(1.6, 2.6, key=lambda y: abs(y - x)))\n",
    "# rounded_value_z = min(1.6, 2.6, key=lambda x: abs(x - y_first_coord['SHUTTLECOCK POSITIION IN AIR(Z) metres']))\n",
    "\n",
    "y_first_coord['HUMAN PLAYER POSITION (X) metres'] = rounded_value_x\n",
    "y_first_coord['HUMAN PLAYER POSITION (Y) metres'] = rounded_value_y\n",
    "y_first_coord['HUMAN PLAYER POSITION (Z) metres'] = rounded_value_z\n",
    "\n",
    "y_first_coord"
   ]
  },
  {
   "attachments": {},
   "cell_type": "markdown",
   "metadata": {},
   "source": [
    "Generate initial velocity, slant angle, firing angle"
   ]
  },
  {
   "cell_type": "code",
   "execution_count": 257,
   "metadata": {},
   "outputs": [
    {
     "name": "stderr",
     "output_type": "stream",
     "text": [
      "C:\\Users\\Matthew Chuang\\AppData\\Local\\Temp\\ipykernel_2964\\3704619852.py:7: FutureWarning:\n",
      "\n",
      "Calling float on a single element Series is deprecated and will raise a TypeError in the future. Use float(ser.iloc[0]) instead\n",
      "\n",
      "C:\\Users\\Matthew Chuang\\AppData\\Local\\Temp\\ipykernel_2964\\3704619852.py:13: FutureWarning:\n",
      "\n",
      "Calling float on a single element Series is deprecated and will raise a TypeError in the future. Use float(ser.iloc[0]) instead\n",
      "\n",
      "C:\\Users\\Matthew Chuang\\AppData\\Local\\Temp\\ipykernel_2964\\3704619852.py:19: FutureWarning:\n",
      "\n",
      "Calling float on a single element Series is deprecated and will raise a TypeError in the future. Use float(ser.iloc[0]) instead\n",
      "\n"
     ]
    },
    {
     "data": {
      "text/html": [
       "<div>\n",
       "<style scoped>\n",
       "    .dataframe tbody tr th:only-of-type {\n",
       "        vertical-align: middle;\n",
       "    }\n",
       "\n",
       "    .dataframe tbody tr th {\n",
       "        vertical-align: top;\n",
       "    }\n",
       "\n",
       "    .dataframe thead th {\n",
       "        text-align: right;\n",
       "    }\n",
       "</style>\n",
       "<table border=\"1\" class=\"dataframe\">\n",
       "  <thead>\n",
       "    <tr style=\"text-align: right;\">\n",
       "      <th></th>\n",
       "      <th>SHUTTLECOCK POSITIION IN AIR(X) metres</th>\n",
       "      <th>SHUTTLECOCK POSITIION IN AIR(Y) metres</th>\n",
       "      <th>SHUTTLECOCK POSITIION IN AIR(Z) metres</th>\n",
       "      <th>OBSERVATION NUMBER</th>\n",
       "      <th>HUMAN PLAYER POSITION (X) metres</th>\n",
       "      <th>HUMAN PLAYER POSITION (Y) metres</th>\n",
       "      <th>HUMAN PLAYER POSITION (Z) metres</th>\n",
       "      <th>INITIAL SHUTTELCOCK FIRING ANGLE (DEGREE)</th>\n",
       "      <th>INITIAL SHUTTELCOCK SLANT ANGLE TO SIDELINE(DEGREE)</th>\n",
       "      <th>INITITAL VELOCITY OF SHUTTELCOCK(m/s)</th>\n",
       "    </tr>\n",
       "  </thead>\n",
       "  <tbody>\n",
       "    <tr>\n",
       "      <th>82934</th>\n",
       "      <td>4.076329</td>\n",
       "      <td>3.985163</td>\n",
       "      <td>2.663932</td>\n",
       "      <td>1.0</td>\n",
       "      <td>4</td>\n",
       "      <td>4.0</td>\n",
       "      <td>2.6</td>\n",
       "      <td>50</td>\n",
       "      <td>-11</td>\n",
       "      <td>1</td>\n",
       "    </tr>\n",
       "  </tbody>\n",
       "</table>\n",
       "</div>"
      ],
      "text/plain": [
       "       SHUTTLECOCK POSITIION IN AIR(X) metres  \\\n",
       "82934                                4.076329   \n",
       "\n",
       "       SHUTTLECOCK POSITIION IN AIR(Y) metres  \\\n",
       "82934                                3.985163   \n",
       "\n",
       "       SHUTTLECOCK POSITIION IN AIR(Z) metres  OBSERVATION NUMBER  \\\n",
       "82934                                2.663932                 1.0   \n",
       "\n",
       "       HUMAN PLAYER POSITION (X) metres  HUMAN PLAYER POSITION (Y) metres  \\\n",
       "82934                                 4                               4.0   \n",
       "\n",
       "       HUMAN PLAYER POSITION (Z) metres  \\\n",
       "82934                               2.6   \n",
       "\n",
       "       INITIAL SHUTTELCOCK FIRING ANGLE (DEGREE)  \\\n",
       "82934                                         50   \n",
       "\n",
       "       INITIAL SHUTTELCOCK SLANT ANGLE TO SIDELINE(DEGREE)  \\\n",
       "82934                                                -11     \n",
       "\n",
       "       INITITAL VELOCITY OF SHUTTELCOCK(m/s)  \n",
       "82934                                      1  "
      ]
     },
     "execution_count": 257,
     "metadata": {},
     "output_type": "execute_result"
    }
   ],
   "source": [
    "# calculate displacement\n",
    "X_displacement_test = y_first_coord['SHUTTLECOCK POSITIION IN AIR(X) metres'] - y_first_coord['HUMAN PLAYER POSITION (X) metres']\n",
    "Y_displacement_test = y_first_coord['SHUTTLECOCK POSITIION IN AIR(Y) metres'] - y_first_coord['HUMAN PLAYER POSITION (Y) metres'] \n",
    "Z_displacement_test = y_first_coord['SHUTTLECOCK POSITIION IN AIR(Z) metres'] - y_first_coord['HUMAN PLAYER POSITION (Z) metres']\n",
    "\n",
    "# calculate initial firing angle\n",
    "firing_angle_radians = math.atan(X_displacement_test / Z_displacement_test)\n",
    "firing_angle_degrees = math.degrees(firing_angle_radians)\n",
    "# round to nearest 10 for firing angle\n",
    "y_first_coord['INITIAL SHUTTELCOCK FIRING ANGLE (DEGREE)'] = round(firing_angle_degrees / 10) * 10\n",
    "\n",
    "# calculate initial slant angle\n",
    "slant_angle_radians = math.atan(Y_displacement_test / X_displacement_test)\n",
    "slant_angle_degrees = math.degrees(slant_angle_radians)\n",
    "y_first_coord['INITIAL SHUTTELCOCK SLANT ANGLE TO SIDELINE(DEGREE)'] = round(slant_angle_degrees)\n",
    "\n",
    "# Calculate the initial velocity (v₀)\n",
    "time_elapsed = 0.1\n",
    "displacement = math.sqrt(X_displacement_test**2 + Y_displacement_test**2 + Z_displacement_test**2)\n",
    "initial_velocity = round(displacement/time_elapsed)\n",
    "# round to nearest 10 for velocity\n",
    "y_first_coord['INITITAL VELOCITY OF SHUTTELCOCK(m/s)'] = initial_velocity\n",
    "y_first_coord"
   ]
  },
  {
   "attachments": {},
   "cell_type": "markdown",
   "metadata": {},
   "source": [
    "Predict number of observations within a Trajectory for test record"
   ]
  },
  {
   "cell_type": "code",
   "execution_count": 258,
   "metadata": {},
   "outputs": [
    {
     "name": "stdout",
     "output_type": "stream",
     "text": [
      "Predicted observation is : 128\n",
      "Actual number of observations is : 128\n"
     ]
    },
    {
     "name": "stderr",
     "output_type": "stream",
     "text": [
      "C:\\Users\\Matthew Chuang\\AppData\\Local\\Temp\\ipykernel_2964\\1487334482.py:9: DeprecationWarning:\n",
      "\n",
      "Conversion of an array with ndim > 0 to a scalar is deprecated, and will error in future. Ensure you extract a single element from your array before performing this operation. (Deprecated NumPy 1.25.)\n",
      "\n"
     ]
    }
   ],
   "source": [
    "# select the input features we want to feed into the decision tree model to prediction observation\n",
    "X_actual_test_DT = y_first_coord[['HUMAN PLAYER POSITION (X) metres', \n",
    "                                    'HUMAN PLAYER POSITION (Y) metres',\n",
    "                                    'HUMAN PLAYER POSITION (Z) metres', \n",
    "                                    'INITITAL VELOCITY OF SHUTTELCOCK(m/s)', \n",
    "                                    'INITIAL SHUTTELCOCK FIRING ANGLE (DEGREE)', \n",
    "                                    'INITIAL SHUTTELCOCK SLANT ANGLE TO SIDELINE(DEGREE)']]\n",
    "\n",
    "predicted_observation = int(model_decisionTree.predict(X_actual_test_DT))\n",
    "print(\"Predicted observation is :\", predicted_observation)\n",
    "print(\"Actual number of observations is :\", len(y_actual_records))"
   ]
  },
  {
   "attachments": {},
   "cell_type": "markdown",
   "metadata": {},
   "source": [
    "Prepare input features to be fed into Regressor Models"
   ]
  },
  {
   "cell_type": "code",
   "execution_count": 259,
   "metadata": {},
   "outputs": [
    {
     "data": {
      "text/plain": [
       "[[4.0, 4.0, 2.6, 1.0, 50.0, -11.0, 1],\n",
       " [4.0, 4.0, 2.6, 1.0, 50.0, -11.0, 2],\n",
       " [4.0, 4.0, 2.6, 1.0, 50.0, -11.0, 3],\n",
       " [4.0, 4.0, 2.6, 1.0, 50.0, -11.0, 4],\n",
       " [4.0, 4.0, 2.6, 1.0, 50.0, -11.0, 5],\n",
       " [4.0, 4.0, 2.6, 1.0, 50.0, -11.0, 6],\n",
       " [4.0, 4.0, 2.6, 1.0, 50.0, -11.0, 7],\n",
       " [4.0, 4.0, 2.6, 1.0, 50.0, -11.0, 8],\n",
       " [4.0, 4.0, 2.6, 1.0, 50.0, -11.0, 9],\n",
       " [4.0, 4.0, 2.6, 1.0, 50.0, -11.0, 10],\n",
       " [4.0, 4.0, 2.6, 1.0, 50.0, -11.0, 11],\n",
       " [4.0, 4.0, 2.6, 1.0, 50.0, -11.0, 12],\n",
       " [4.0, 4.0, 2.6, 1.0, 50.0, -11.0, 13],\n",
       " [4.0, 4.0, 2.6, 1.0, 50.0, -11.0, 14],\n",
       " [4.0, 4.0, 2.6, 1.0, 50.0, -11.0, 15],\n",
       " [4.0, 4.0, 2.6, 1.0, 50.0, -11.0, 16],\n",
       " [4.0, 4.0, 2.6, 1.0, 50.0, -11.0, 17],\n",
       " [4.0, 4.0, 2.6, 1.0, 50.0, -11.0, 18],\n",
       " [4.0, 4.0, 2.6, 1.0, 50.0, -11.0, 19],\n",
       " [4.0, 4.0, 2.6, 1.0, 50.0, -11.0, 20],\n",
       " [4.0, 4.0, 2.6, 1.0, 50.0, -11.0, 21],\n",
       " [4.0, 4.0, 2.6, 1.0, 50.0, -11.0, 22],\n",
       " [4.0, 4.0, 2.6, 1.0, 50.0, -11.0, 23],\n",
       " [4.0, 4.0, 2.6, 1.0, 50.0, -11.0, 24],\n",
       " [4.0, 4.0, 2.6, 1.0, 50.0, -11.0, 25],\n",
       " [4.0, 4.0, 2.6, 1.0, 50.0, -11.0, 26],\n",
       " [4.0, 4.0, 2.6, 1.0, 50.0, -11.0, 27],\n",
       " [4.0, 4.0, 2.6, 1.0, 50.0, -11.0, 28],\n",
       " [4.0, 4.0, 2.6, 1.0, 50.0, -11.0, 29],\n",
       " [4.0, 4.0, 2.6, 1.0, 50.0, -11.0, 30],\n",
       " [4.0, 4.0, 2.6, 1.0, 50.0, -11.0, 31],\n",
       " [4.0, 4.0, 2.6, 1.0, 50.0, -11.0, 32],\n",
       " [4.0, 4.0, 2.6, 1.0, 50.0, -11.0, 33],\n",
       " [4.0, 4.0, 2.6, 1.0, 50.0, -11.0, 34],\n",
       " [4.0, 4.0, 2.6, 1.0, 50.0, -11.0, 35],\n",
       " [4.0, 4.0, 2.6, 1.0, 50.0, -11.0, 36],\n",
       " [4.0, 4.0, 2.6, 1.0, 50.0, -11.0, 37],\n",
       " [4.0, 4.0, 2.6, 1.0, 50.0, -11.0, 38],\n",
       " [4.0, 4.0, 2.6, 1.0, 50.0, -11.0, 39],\n",
       " [4.0, 4.0, 2.6, 1.0, 50.0, -11.0, 40],\n",
       " [4.0, 4.0, 2.6, 1.0, 50.0, -11.0, 41],\n",
       " [4.0, 4.0, 2.6, 1.0, 50.0, -11.0, 42],\n",
       " [4.0, 4.0, 2.6, 1.0, 50.0, -11.0, 43],\n",
       " [4.0, 4.0, 2.6, 1.0, 50.0, -11.0, 44],\n",
       " [4.0, 4.0, 2.6, 1.0, 50.0, -11.0, 45],\n",
       " [4.0, 4.0, 2.6, 1.0, 50.0, -11.0, 46],\n",
       " [4.0, 4.0, 2.6, 1.0, 50.0, -11.0, 47],\n",
       " [4.0, 4.0, 2.6, 1.0, 50.0, -11.0, 48],\n",
       " [4.0, 4.0, 2.6, 1.0, 50.0, -11.0, 49],\n",
       " [4.0, 4.0, 2.6, 1.0, 50.0, -11.0, 50],\n",
       " [4.0, 4.0, 2.6, 1.0, 50.0, -11.0, 51],\n",
       " [4.0, 4.0, 2.6, 1.0, 50.0, -11.0, 52],\n",
       " [4.0, 4.0, 2.6, 1.0, 50.0, -11.0, 53],\n",
       " [4.0, 4.0, 2.6, 1.0, 50.0, -11.0, 54],\n",
       " [4.0, 4.0, 2.6, 1.0, 50.0, -11.0, 55],\n",
       " [4.0, 4.0, 2.6, 1.0, 50.0, -11.0, 56],\n",
       " [4.0, 4.0, 2.6, 1.0, 50.0, -11.0, 57],\n",
       " [4.0, 4.0, 2.6, 1.0, 50.0, -11.0, 58],\n",
       " [4.0, 4.0, 2.6, 1.0, 50.0, -11.0, 59],\n",
       " [4.0, 4.0, 2.6, 1.0, 50.0, -11.0, 60],\n",
       " [4.0, 4.0, 2.6, 1.0, 50.0, -11.0, 61],\n",
       " [4.0, 4.0, 2.6, 1.0, 50.0, -11.0, 62],\n",
       " [4.0, 4.0, 2.6, 1.0, 50.0, -11.0, 63],\n",
       " [4.0, 4.0, 2.6, 1.0, 50.0, -11.0, 64],\n",
       " [4.0, 4.0, 2.6, 1.0, 50.0, -11.0, 65],\n",
       " [4.0, 4.0, 2.6, 1.0, 50.0, -11.0, 66],\n",
       " [4.0, 4.0, 2.6, 1.0, 50.0, -11.0, 67],\n",
       " [4.0, 4.0, 2.6, 1.0, 50.0, -11.0, 68],\n",
       " [4.0, 4.0, 2.6, 1.0, 50.0, -11.0, 69],\n",
       " [4.0, 4.0, 2.6, 1.0, 50.0, -11.0, 70],\n",
       " [4.0, 4.0, 2.6, 1.0, 50.0, -11.0, 71],\n",
       " [4.0, 4.0, 2.6, 1.0, 50.0, -11.0, 72],\n",
       " [4.0, 4.0, 2.6, 1.0, 50.0, -11.0, 73],\n",
       " [4.0, 4.0, 2.6, 1.0, 50.0, -11.0, 74],\n",
       " [4.0, 4.0, 2.6, 1.0, 50.0, -11.0, 75],\n",
       " [4.0, 4.0, 2.6, 1.0, 50.0, -11.0, 76],\n",
       " [4.0, 4.0, 2.6, 1.0, 50.0, -11.0, 77],\n",
       " [4.0, 4.0, 2.6, 1.0, 50.0, -11.0, 78],\n",
       " [4.0, 4.0, 2.6, 1.0, 50.0, -11.0, 79],\n",
       " [4.0, 4.0, 2.6, 1.0, 50.0, -11.0, 80],\n",
       " [4.0, 4.0, 2.6, 1.0, 50.0, -11.0, 81],\n",
       " [4.0, 4.0, 2.6, 1.0, 50.0, -11.0, 82],\n",
       " [4.0, 4.0, 2.6, 1.0, 50.0, -11.0, 83],\n",
       " [4.0, 4.0, 2.6, 1.0, 50.0, -11.0, 84],\n",
       " [4.0, 4.0, 2.6, 1.0, 50.0, -11.0, 85],\n",
       " [4.0, 4.0, 2.6, 1.0, 50.0, -11.0, 86],\n",
       " [4.0, 4.0, 2.6, 1.0, 50.0, -11.0, 87],\n",
       " [4.0, 4.0, 2.6, 1.0, 50.0, -11.0, 88],\n",
       " [4.0, 4.0, 2.6, 1.0, 50.0, -11.0, 89],\n",
       " [4.0, 4.0, 2.6, 1.0, 50.0, -11.0, 90],\n",
       " [4.0, 4.0, 2.6, 1.0, 50.0, -11.0, 91],\n",
       " [4.0, 4.0, 2.6, 1.0, 50.0, -11.0, 92],\n",
       " [4.0, 4.0, 2.6, 1.0, 50.0, -11.0, 93],\n",
       " [4.0, 4.0, 2.6, 1.0, 50.0, -11.0, 94],\n",
       " [4.0, 4.0, 2.6, 1.0, 50.0, -11.0, 95],\n",
       " [4.0, 4.0, 2.6, 1.0, 50.0, -11.0, 96],\n",
       " [4.0, 4.0, 2.6, 1.0, 50.0, -11.0, 97],\n",
       " [4.0, 4.0, 2.6, 1.0, 50.0, -11.0, 98],\n",
       " [4.0, 4.0, 2.6, 1.0, 50.0, -11.0, 99],\n",
       " [4.0, 4.0, 2.6, 1.0, 50.0, -11.0, 100],\n",
       " [4.0, 4.0, 2.6, 1.0, 50.0, -11.0, 101],\n",
       " [4.0, 4.0, 2.6, 1.0, 50.0, -11.0, 102],\n",
       " [4.0, 4.0, 2.6, 1.0, 50.0, -11.0, 103],\n",
       " [4.0, 4.0, 2.6, 1.0, 50.0, -11.0, 104],\n",
       " [4.0, 4.0, 2.6, 1.0, 50.0, -11.0, 105],\n",
       " [4.0, 4.0, 2.6, 1.0, 50.0, -11.0, 106],\n",
       " [4.0, 4.0, 2.6, 1.0, 50.0, -11.0, 107],\n",
       " [4.0, 4.0, 2.6, 1.0, 50.0, -11.0, 108],\n",
       " [4.0, 4.0, 2.6, 1.0, 50.0, -11.0, 109],\n",
       " [4.0, 4.0, 2.6, 1.0, 50.0, -11.0, 110],\n",
       " [4.0, 4.0, 2.6, 1.0, 50.0, -11.0, 111],\n",
       " [4.0, 4.0, 2.6, 1.0, 50.0, -11.0, 112],\n",
       " [4.0, 4.0, 2.6, 1.0, 50.0, -11.0, 113],\n",
       " [4.0, 4.0, 2.6, 1.0, 50.0, -11.0, 114],\n",
       " [4.0, 4.0, 2.6, 1.0, 50.0, -11.0, 115],\n",
       " [4.0, 4.0, 2.6, 1.0, 50.0, -11.0, 116],\n",
       " [4.0, 4.0, 2.6, 1.0, 50.0, -11.0, 117],\n",
       " [4.0, 4.0, 2.6, 1.0, 50.0, -11.0, 118],\n",
       " [4.0, 4.0, 2.6, 1.0, 50.0, -11.0, 119],\n",
       " [4.0, 4.0, 2.6, 1.0, 50.0, -11.0, 120],\n",
       " [4.0, 4.0, 2.6, 1.0, 50.0, -11.0, 121],\n",
       " [4.0, 4.0, 2.6, 1.0, 50.0, -11.0, 122],\n",
       " [4.0, 4.0, 2.6, 1.0, 50.0, -11.0, 123],\n",
       " [4.0, 4.0, 2.6, 1.0, 50.0, -11.0, 124],\n",
       " [4.0, 4.0, 2.6, 1.0, 50.0, -11.0, 125],\n",
       " [4.0, 4.0, 2.6, 1.0, 50.0, -11.0, 126],\n",
       " [4.0, 4.0, 2.6, 1.0, 50.0, -11.0, 127],\n",
       " [4.0, 4.0, 2.6, 1.0, 50.0, -11.0, 128]]"
      ]
     },
     "execution_count": 259,
     "metadata": {},
     "output_type": "execute_result"
    }
   ],
   "source": [
    "# container to store prepared input features we want to feed into the regression model to predict entire trajectory x, y, z coordinates\n",
    "X_actual_test_Regressor = []\n",
    "# select x features and change the observation number accordingly and add into container\n",
    "for obs_num in range(1, predicted_observation+1):\n",
    "    temp = (y_first_coord[['HUMAN PLAYER POSITION (X) metres', \n",
    "                            'HUMAN PLAYER POSITION (Y) metres',\n",
    "                            'HUMAN PLAYER POSITION (Z) metres',\n",
    "                            'INITITAL VELOCITY OF SHUTTELCOCK(m/s)', \n",
    "                            'INITIAL SHUTTELCOCK FIRING ANGLE (DEGREE)', \n",
    "                            'INITIAL SHUTTELCOCK SLANT ANGLE TO SIDELINE(DEGREE)']]).values.tolist()\n",
    "    temp_obs_row = temp[:5][0]\n",
    "    temp_obs_row.append(obs_num)\n",
    "    X_actual_test_Regressor.append(temp_obs_row)\n",
    "X_actual_test_Regressor"
   ]
  },
  {
   "cell_type": "code",
   "execution_count": 260,
   "metadata": {},
   "outputs": [],
   "source": [
    "# Get array into dataframe format\n",
    "column_names = [\n",
    "    'HUMAN PLAYER POSITION (X) metres',\n",
    "    'HUMAN PLAYER POSITION (Y) metres',\n",
    "    'HUMAN PLAYER POSITION (Z) metres',\n",
    "    'INITITAL VELOCITY OF SHUTTELCOCK(m/s)',\n",
    "    'INITIAL SHUTTELCOCK FIRING ANGLE (DEGREE)',\n",
    "    'INITIAL SHUTTELCOCK SLANT ANGLE TO SIDELINE(DEGREE)',\n",
    "    'OBSERVATION NUMBER'\n",
    "]\n",
    "X_actual_test_Regressor_DF = pd.DataFrame(X_actual_test_Regressor, columns = column_names)"
   ]
  },
  {
   "attachments": {},
   "cell_type": "markdown",
   "metadata": {},
   "source": [
    "Predict the Trajectory using Trained Models, outputs an array of predicted shuttlecock trajectory coordinates"
   ]
  },
  {
   "cell_type": "code",
   "execution_count": 261,
   "metadata": {},
   "outputs": [],
   "source": [
    "# prediction using random forest regression\n",
    "predicted_trajectory_points_RT = model_randomForest.predict(X_actual_test_Regressor_DF)\n",
    "# prediction using extra trees regression\n",
    "predicted_trajectory_points_ET = model_ExtraTrees.predict(X_actual_test_Regressor_DF)"
   ]
  },
  {
   "attachments": {},
   "cell_type": "markdown",
   "metadata": {},
   "source": [
    "### Overall Evaluation for all Regression Models"
   ]
  },
  {
   "cell_type": "code",
   "execution_count": 262,
   "metadata": {},
   "outputs": [
    {
     "name": "stdout",
     "output_type": "stream",
     "text": [
      "Mean Square Error of the Random Forest Tree Regressor is : 4.934299144357002e-05\n",
      "Root Mean Square Error of the Random Forest Tree Regressor is : 0.007024456665363522\n",
      "Mean Square Error of the Extra Trees Regressor is : 7.72546213666191e-06\n",
      "Root Mean Square Error of the Extra Trees Regressor is : 0.0027794715570881295\n"
     ]
    }
   ],
   "source": [
    "# Do an error evaluation\n",
    "y_actual_coords = y_actual_records[['SHUTTLECOCK POSITIION IN AIR(X) metres', 'SHUTTLECOCK POSITIION IN AIR(Y) metres', 'SHUTTLECOCK POSITIION IN AIR(Z) metres']]\n",
    "\n",
    "mse_actual_RT = mean_squared_error(y_actual_coords, predicted_trajectory_points_RT)\n",
    "rmse_actual_RT = math.sqrt(mse_actual_RT)\n",
    "print(\"Mean Square Error of the Random Forest Tree Regressor is :\", mse_actual_RT)\n",
    "print(\"Root Mean Square Error of the Random Forest Tree Regressor is :\", rmse_actual_RT)\n",
    "\n",
    "mse_actual_ET = mean_squared_error(y_actual_coords, predicted_trajectory_points_ET)\n",
    "rmse_actual_ET = math.sqrt(mse_actual_ET)\n",
    "print(\"Mean Square Error of the Extra Trees Regressor is :\", mse_actual_ET)\n",
    "print(\"Root Mean Square Error of the Extra Trees Regressor is :\", rmse_actual_ET)"
   ]
  },
  {
   "attachments": {},
   "cell_type": "markdown",
   "metadata": {},
   "source": [
    "Static Visualization of Shuttlecock Trajectory in a Court"
   ]
  },
  {
   "cell_type": "code",
   "execution_count": 263,
   "metadata": {},
   "outputs": [],
   "source": [
    "#Court Constants\n",
    "_HEIGHT_SKYBOX_M_ = 10\n",
    "_HEIGHT_NET_M_ = 1.55\n",
    "_HEIGHT_ROBOTBADMINTON_CENTER_M_ = 1.1\n",
    "\n",
    "_LENGTH_COURT_X_M_ = 13.4\n",
    "_LENGTH_COURT_Y_M_ = 5.18\n",
    "_LENGTH_CENTERLINE_M_ = 4.68\n",
    "\n",
    "_COURT_BOUNDARY_TOP_ = [\n",
    " (0,0),\n",
    " (0, _LENGTH_COURT_Y_M_)\n",
    "]\n",
    "_COURT_BOUNDARY_BOTTOM_ = [\n",
    " (_LENGTH_COURT_X_M_, 0),\n",
    " (_LENGTH_COURT_X_M_, _LENGTH_COURT_Y_M_)\n",
    "]\n",
    "_COURT_BOUNDARY_LEFT_ = [\n",
    " (0,0),\n",
    " (_LENGTH_COURT_X_M_, 0)\n",
    "]\n",
    "_COURT_BOUNDARY_RIGHT_ = [\n",
    " (0, _LENGTH_COURT_Y_M_),\n",
    " (_LENGTH_COURT_X_M_, _LENGTH_COURT_Y_M_)\n",
    "]\n",
    "\n",
    "_COURT_CENTRELINE01_ = [\n",
    " (0, (_LENGTH_COURT_Y_M_/2)),\n",
    " (_LENGTH_CENTERLINE_M_, (_LENGTH_COURT_Y_M_/2))\n",
    "]\n",
    "_COURT_CENTRELINE02_ = [\n",
    "    (_LENGTH_COURT_X_M_ - _LENGTH_CENTERLINE_M_, (_LENGTH_COURT_Y_M_/2)),\n",
    "    (_LENGTH_COURT_X_M_, (_LENGTH_COURT_Y_M_/2))\n",
    "]\n",
    "_COURT_SHORTSERVICELINE01_ = [\n",
    "    (_LENGTH_CENTERLINE_M_ + 0.04, 0),\n",
    "    (_LENGTH_CENTERLINE_M_ + 0.04, _LENGTH_COURT_Y_M_)\n",
    "]\n",
    "_COURT_SHORTSERVICELINE02_ = [\n",
    "    (_LENGTH_COURT_X_M_ - _LENGTH_CENTERLINE_M_ - 0.04, 0),\n",
    "    (_LENGTH_COURT_X_M_ - _LENGTH_CENTERLINE_M_ - 0.04, _LENGTH_COURT_Y_M_)\n",
    "]"
   ]
  },
  {
   "cell_type": "code",
   "execution_count": 264,
   "metadata": {},
   "outputs": [
    {
     "data": {
      "image/png": "[encoded data removed]",
      "text/plain": [
       "<Figure size 1600x700 with 2 Axes>"
      ]
     },
     "metadata": {},
     "output_type": "display_data"
    }
   ],
   "source": [
    "import matplotlib.pyplot as plt\n",
    "from mpl_toolkits.mplot3d import Axes3D\n",
    "\n",
    "# Create a 3D figure with subplots\n",
    "fig, axes = plt.subplots(nrows=1, ncols=2, figsize=(16, 7), subplot_kw={'projection': '3d'})\n",
    "\n",
    "# Set titles for subplots\n",
    "axes[0].set_title(\"Trajectory Estimation of Random Forest Regressor\")\n",
    "axes[1].set_title(\"Trajectory Estimation of Extra Trees Regressor\")\n",
    "\n",
    "# Define court dimensions\n",
    "court_length_x = 13.4\n",
    "court_length_y = 5.18\n",
    "court_height_skybox = 10\n",
    "court_height_net = 1.55\n",
    "court_height_robotbadminton_center = 1.1\n",
    "court_length_centerline = 4.68\n",
    "\n",
    "# Loop over subplots\n",
    "for ax_index, ax in enumerate(axes):\n",
    "    # Plot court boundaries\n",
    "    ax.plot([0, court_length_x], [0, 0], [0, 0], color='black', linewidth=1)  # Bottom boundary\n",
    "    ax.plot([0, court_length_x], [court_length_y, court_length_y], [0, 0], color='black', linewidth=1)  # Top boundary\n",
    "    ax.plot([0, 0], [0, court_length_y], [0, 0], color='black', linewidth=1)  # Left boundary\n",
    "    ax.plot([court_length_x, court_length_x], [0, court_length_y], [0, 0], color='black', linewidth=1)  # Right boundary\n",
    "\n",
    "    # Plot center line\n",
    "    ax.plot([0, court_length_centerline], [court_length_y / 2, court_length_y / 2], [0, 0], color='black', linewidth=1)\n",
    "    ax.plot([court_length_x - court_length_centerline, court_length_x], [court_length_y / 2, court_length_y / 2], [0, 0], color='black', linewidth=1)\n",
    "\n",
    "    # Plot short service lines\n",
    "    ax.plot([court_length_centerline + 0.04, court_length_centerline + 0.04], [0, court_length_y], [0, 0], color='black', linewidth=1)\n",
    "    ax.plot([court_length_x - court_length_centerline - 0.04, court_length_x - court_length_centerline - 0.04], [0, court_length_y], [0, 0], color='black', linewidth=1)\n",
    "\n",
    "    # Plot net\n",
    "    net_height = court_height_net\n",
    "    ax.plot([court_length_x / 2, court_length_x / 2], [0, court_length_y], [net_height, net_height], color='red', linewidth=1)\n",
    "\n",
    "    # Set plot limits and labels\n",
    "    ax.set_xlim([0, court_length_x])\n",
    "    ax.set_ylim([0, court_length_y])\n",
    "    ax.set_zlim([0, court_height_skybox])\n",
    "    ax.set_xlabel('Length (m)')\n",
    "    ax.set_ylabel('Width (m)')\n",
    "    ax.set_zlabel('Height (m)')\n",
    "\n",
    "    if ax_index == 0:\n",
    "        columns_n = ['X', 'Y', 'Z']\n",
    "        predicted_trajectory_points_RF_DF = pd.DataFrame(predicted_trajectory_points_RT, columns=columns_n)\n",
    "\n",
    "        # Extract X, Y, Z coordinates from y_actual_test and predicted_trajectory_point\n",
    "        x_actual = y_actual_coords['SHUTTLECOCK POSITIION IN AIR(X) metres']\n",
    "        y_actual = y_actual_coords['SHUTTLECOCK POSITIION IN AIR(Y) metres']\n",
    "        z_actual = y_actual_coords['SHUTTLECOCK POSITIION IN AIR(Z) metres']\n",
    "\n",
    "        x_predicted = predicted_trajectory_points_RF_DF['X'].values\n",
    "        y_predicted = predicted_trajectory_points_RF_DF['Y'].values\n",
    "        z_predicted = predicted_trajectory_points_RF_DF['Z'].values\n",
    "\n",
    "        ax.scatter(x_actual, y_actual, z_actual, c='blue', label='Actual Trajectory')\n",
    "        ax.scatter(x_predicted, y_predicted, z_predicted, c='red', label='Predicted Trajectory (Random Forest Regressor)')\n",
    "\n",
    "    elif ax_index == 1:\n",
    "        columns_n = ['X', 'Y', 'Z']\n",
    "        predicted_trajectory_points_ET_DF = pd.DataFrame(predicted_trajectory_points_ET, columns=columns_n)\n",
    "\n",
    "        # Extract X, Y, Z coordinates from y_actual_test and predicted_trajectory_point\n",
    "        x_actual = y_actual_coords['SHUTTLECOCK POSITIION IN AIR(X) metres']\n",
    "        y_actual = y_actual_coords['SHUTTLECOCK POSITIION IN AIR(Y) metres']\n",
    "        z_actual = y_actual_coords['SHUTTLECOCK POSITIION IN AIR(Z) metres']\n",
    "\n",
    "        x_predicted = predicted_trajectory_points_ET_DF['X'].values\n",
    "        y_predicted = predicted_trajectory_points_ET_DF['Y'].values\n",
    "        z_predicted = predicted_trajectory_points_ET_DF['Z'].values\n",
    "\n",
    "        ax.scatter(x_actual, y_actual, z_actual, c='blue', label='Actual Trajectory')\n",
    "        ax.scatter(x_predicted, y_predicted, z_predicted, c='red', label='Predicted Trajectory (Extra Trees Regressor)')\n",
    "\n",
    "    ax.legend()\n",
    "\n",
    "# Adjust spacing between subplots\n",
    "plt.subplots_adjust(wspace=0.2)\n",
    "\n",
    "# Display the plot\n",
    "plt.show()\n"
   ]
  },
  {
   "attachments": {},
   "cell_type": "markdown",
   "metadata": {},
   "source": [
    "3D Interactive Visualization of the Shuttlecock Trajectory"
   ]
  },
  {
   "cell_type": "code",
   "execution_count": 265,
   "metadata": {},
   "outputs": [
    {
     "data": {
      "text/plain": [
       "'interactive_models/normal_regression_trajectory.html'"
      ]
     },
     "execution_count": 265,
     "metadata": {},
     "output_type": "execute_result"
    }
   ],
   "source": [
    "import plotly.graph_objects as go\n",
    "import plotly.offline as offline\n",
    "\n",
    "# Create a scatter plot for actual trajectory\n",
    "actual_trace = go.Scatter3d(x=y_actual_coords['SHUTTLECOCK POSITIION IN AIR(X) metres'],\n",
    "                            y=y_actual_coords['SHUTTLECOCK POSITIION IN AIR(Y) metres'],\n",
    "                            z=y_actual_coords['SHUTTLECOCK POSITIION IN AIR(Z) metres'],\n",
    "                            mode='markers',\n",
    "                            marker=dict(color='blue'),\n",
    "                            name='Actual Trajectory')\n",
    "\n",
    "# Create a scatter plot for predicted trajectory using Random Forest Regressor\n",
    "predicted_trace_RF = go.Scatter3d(x=predicted_trajectory_points_RT[:, 0],\n",
    "                                  y=predicted_trajectory_points_RT[:, 1],\n",
    "                                  z=predicted_trajectory_points_RT[:, 2],\n",
    "                                  mode='markers',\n",
    "                                  marker=dict(color='red'),\n",
    "                                  name='Predicted Trajectory (Random Forest)')\n",
    "\n",
    "# Create a scatter plot for predicted trajectory using Extra Trees Regressor\n",
    "predicted_trace_ET = go.Scatter3d(x=predicted_trajectory_points_ET[:, 0],\n",
    "                                  y=predicted_trajectory_points_ET[:, 1],\n",
    "                                  z=predicted_trajectory_points_ET[:, 2],\n",
    "                                  mode='markers',\n",
    "                                  marker=dict(color='green'),\n",
    "                                  name='Predicted Trajectory (Extra Trees)')\n",
    "\n",
    "# Set the data trace\n",
    "data = [actual_trace, predicted_trace_RF, predicted_trace_ET]\n",
    "\n",
    "# Set layout and title\n",
    "layout = go.Layout(\n",
    "    scene=dict(\n",
    "        xaxis_title='X',\n",
    "        yaxis_title='Y',\n",
    "        zaxis_title='Z',\n",
    "        xaxis=dict(range=[-15, 15]),  # Set X-axis range\n",
    "        yaxis=dict(range=[-15, 15]),  # Set Y-axis range\n",
    "        zaxis=dict(range=[0, 15])     # Set Z-axis range\n",
    "    ),\n",
    "    title='Actual vs Predicted Trajectory'\n",
    ")\n",
    "\n",
    "# Create the figure\n",
    "fig = go.Figure(data=data, layout=layout)\n",
    "\n",
    "# Save the plot as an HTML file\n",
    "offline.plot(fig, filename='interactive_models/normal_regression_trajectory.html')\n"
   ]
  },
  {
   "attachments": {},
   "cell_type": "markdown",
   "metadata": {},
   "source": [
    "### ROBOT - Shuttlecock Trajectory Estimation"
   ]
  },
  {
   "cell_type": "code",
   "execution_count": 266,
   "metadata": {},
   "outputs": [
    {
     "name": "stdout",
     "output_type": "stream",
     "text": [
      "Is predicted Regression Tree (RT) within court:  True\n",
      "Is predicted Extra Tree (ET) within court:  True\n",
      "Average XYZ of Estimated Shuttlecock Position: [9.47684204 2.93241983 0.05113404]\n",
      "Distance: 1.78 meters in 0.59 seconds\n",
      "X difference: 1.6899656057408285\n",
      "Y difference: 0.550363457096233\n",
      "Time required: 0.5924416223930968 seconds\n",
      "Able to reach and hit on time\n",
      "Distance: 0.72 meters in 0.24 seconds\n",
      "X difference: 0.5167028329110432\n",
      "Y difference: -0.5031774903138588\n",
      "Time required: 0.24040923542457326 seconds\n",
      "Able to reach and hit on time\n",
      "Distance: 1.87 meters in 0.62 seconds\n",
      "X difference: 0.5702922781433011\n",
      "Y difference: 1.7823182338220258\n",
      "Time required: 0.6237780560712584 seconds\n",
      "Able to reach and hit on time\n"
     ]
    },
    {
     "data": {
      "application/vnd.plotly.v1+json": {
       "config": {
        "plotlyServerURL": "https://plot.ly"
       },
       "data": [
        {
         "marker": {
          "color": "blue",
          "size": 2
         },
         "mode": "markers",
         "name": "True Values",
         "opacity": 0.7,
         "type": "scatter3d",
         "x": [
          4.076329473,
          4.153726844,
          4.228512117,
          4.301841922,
          4.377329794,
          4.450497788,
          4.523404068,
          4.595919409,
          4.665280469,
          4.738033097,
          4.812028137,
          4.87964197,
          4.950268384,
          5.021681116,
          5.090389614,
          5.157511927,
          5.227467585,
          5.291999049,
          5.361490418,
          5.426463791,
          5.491248414,
          5.557850854,
          5.621950327,
          5.686244047,
          5.749393858,
          5.813362203,
          5.87542999,
          5.936943359,
          5.999240075,
          6.061481442,
          6.119717923,
          6.180404292,
          6.239175768,
          6.298091363,
          6.35864665,
          6.415520668,
          6.471320182,
          6.529897822,
          6.586919095,
          6.64091682,
          6.696521183,
          6.751508754,
          6.804620789,
          6.858912857,
          6.912025135,
          6.965443262,
          7.016779228,
          7.069136408,
          7.119632107,
          7.170055145,
          7.219235477,
          7.267228955,
          7.318572038,
          7.366417666,
          7.413411507,
          7.462032737,
          7.507335774,
          7.555184377,
          7.59905852,
          7.644801474,
          7.691593385,
          7.732546861,
          7.77740173,
          7.820518282,
          7.862730934,
          7.904467472,
          7.945932689,
          7.988182217,
          8.026499481,
          8.068625327,
          8.108356084,
          8.146394936,
          8.184982565,
          8.220600939,
          8.259667338,
          8.296468712,
          8.332883708,
          8.368635436,
          8.402564396,
          8.439482228,
          8.470337735,
          8.50518973,
          8.539816136,
          8.57243313,
          8.601864799,
          8.63563336,
          8.6654675,
          8.695829041,
          8.725293336,
          8.75387257,
          8.784506162,
          8.812698732,
          8.839946469,
          8.8678525,
          8.892876845,
          8.920623637,
          8.945678642,
          8.969923829,
          8.995752861,
          9.019936564,
          9.043138268,
          9.067278382,
          9.089964253,
          9.110213529,
          9.131474931,
          9.1536876,
          9.172137453,
          9.19335038,
          9.21133048,
          9.230934941,
          9.249904413,
          9.266979093,
          9.284573652,
          9.300668586,
          9.316577334,
          9.332482413,
          9.347210751,
          9.363037059,
          9.375916007,
          9.388831531,
          9.403177267,
          9.413038532,
          9.426265376,
          9.437701613,
          9.447876714,
          9.458992254,
          9.466576365,
          9.477175636
         ],
         "y": [
          3.985163053,
          3.970118528,
          3.955581744,
          3.941327874,
          3.926654518,
          3.912432101,
          3.898260555,
          3.884165001,
          3.870682577,
          3.856540898,
          3.84215772,
          3.829014922,
          3.815286538,
          3.801405309,
          3.78804973,
          3.775002474,
          3.761404471,
          3.748860825,
          3.735353072,
          3.722723527,
          3.710130672,
          3.697184469,
          3.684724794,
          3.672227361,
          3.659952281,
          3.647518094,
          3.635453339,
          3.623496351,
          3.611387096,
          3.5992886,
          3.587968575,
          3.57617234,
          3.564748322,
          3.55329629,
          3.541525535,
          3.530470346,
          3.519624019,
          3.508237679,
          3.497153867,
          3.486657772,
          3.475849379,
          3.465160878,
          3.454836944,
          3.444283635,
          3.433959654,
          3.423576222,
          3.413597521,
          3.403420316,
          3.393604947,
          3.383803701,
          3.374244013,
          3.364915026,
          3.354934941,
          3.345634693,
          3.336500016,
          3.327049006,
          3.318242988,
          3.308942162,
          3.300413892,
          3.291522363,
          3.282426937,
          3.274466387,
          3.265747484,
          3.257366475,
          3.249161167,
          3.241048406,
          3.232988384,
          3.224775908,
          3.217327786,
          3.209139351,
          3.201416474,
          3.194022471,
          3.186521795,
          3.179598285,
          3.172004546,
          3.164851084,
          3.157772725,
          3.150823293,
          3.144228172,
          3.137052072,
          3.131054369,
          3.124279828,
          3.117549136,
          3.111209035,
          3.105488098,
          3.098924154,
          3.093124985,
          3.087223299,
          3.081496021,
          3.07594078,
          3.069986213,
          3.064506133,
          3.059209709,
          3.053785326,
          3.048921086,
          3.043527656,
          3.038657457,
          3.03394467,
          3.028924014,
          3.024223179,
          3.019713224,
          3.015020862,
          3.010611175,
          3.006675114,
          3.002542316,
          2.998224611,
          2.994638323,
          2.990514948,
          2.98701997,
          2.983209249,
          2.979521957,
          2.976202976,
          2.97278294,
          2.969654402,
          2.966562054,
          2.96347042,
          2.960607521,
          2.957531199,
          2.955027785,
          2.952517261,
          2.949728732,
          2.947811897,
          2.945240859,
          2.94301788,
          2.94104004,
          2.938879398,
          2.937405196,
          2.935344907
         ],
         "z": [
          2.663932163,
          2.724377892,
          2.788495015,
          2.847775613,
          2.904765001,
          2.961207344,
          3.017663207,
          3.074267496,
          3.12680357,
          3.179758987,
          3.233078134,
          3.282915182,
          3.331655335,
          3.381891073,
          3.429441954,
          3.476722076,
          3.522139878,
          3.565105498,
          3.612059106,
          3.652207075,
          3.695450995,
          3.737292201,
          3.776210511,
          3.817691499,
          3.857131248,
          3.893248141,
          3.931321456,
          3.967652102,
          4.003635233,
          4.040110349,
          4.071776759,
          4.105275084,
          4.13796589,
          4.167821304,
          4.201461699,
          4.231287099,
          4.260671931,
          4.286807201,
          4.313641237,
          4.342546225,
          4.36556809,
          4.391068547,
          4.417819811,
          4.441530759,
          4.464406335,
          4.484486155,
          4.509136825,
          4.526759802,
          4.547033956,
          4.563637287,
          4.579064896,
          4.596393254,
          4.612027921,
          4.625138634,
          4.638994513,
          4.650995965,
          4.662174427,
          4.672847441,
          4.680075557,
          4.686551209,
          4.694916109,
          4.701229964,
          4.704412243,
          4.706037051,
          4.708853857,
          4.707438852,
          4.707662035,
          4.703566864,
          4.699311021,
          4.695364276,
          4.686766205,
          4.68018009,
          4.667725058,
          4.657025509,
          4.640799899,
          4.628587077,
          4.610924505,
          4.593439875,
          4.572175902,
          4.548728763,
          4.521939418,
          4.497190776,
          4.469317299,
          4.438259551,
          4.407802459,
          4.371963218,
          4.333904319,
          4.292751809,
          4.253808231,
          4.207484248,
          4.16154135,
          4.111374931,
          4.059346839,
          4.004159541,
          3.948473016,
          3.885340885,
          3.823624153,
          3.757031304,
          3.689143446,
          3.616677846,
          3.539867158,
          3.461800431,
          3.380266553,
          3.296099222,
          3.208807145,
          3.115670845,
          3.019822601,
          2.919078465,
          2.816814868,
          2.709995702,
          2.59785353,
          2.484135084,
          2.366710619,
          2.242136979,
          2.117819439,
          1.984541878,
          1.849821341,
          1.70914294,
          1.563735158,
          1.415543185,
          1.260130206,
          1.102183373,
          0.939350338,
          0.767912639,
          0.596296565,
          0.415267117,
          0.230586944,
          0.042417019
         ]
        },
        {
         "marker": {
          "color": "red",
          "size": 2
         },
         "mode": "markers",
         "name": "Predicted Values (Random Forest)",
         "opacity": 0.7,
         "type": "scatter3d",
         "x": [
          4.075624553589267,
          4.152220597871105,
          4.228023515800706,
          4.302049949701259,
          4.375835361116557,
          4.450675261680027,
          4.523417089214397,
          4.597767998325517,
          4.667497849961591,
          4.739265688649381,
          4.809858347186297,
          4.881215670797946,
          4.950613232012426,
          5.023282302603474,
          5.091901284801528,
          5.177825027073092,
          5.232076877343926,
          5.287246496423483,
          5.37412791455025,
          5.416841833525686,
          5.503834306323212,
          5.559920900114093,
          5.626219698646805,
          5.681086661724724,
          5.762001495713545,
          5.799895246627428,
          5.8765338738287936,
          5.9497936817004335,
          6.004374803978484,
          6.061422506103854,
          6.121295446568235,
          6.187945736951133,
          6.233144042607646,
          6.306452134749952,
          6.357057627297243,
          6.414131992431762,
          6.473900263889448,
          6.523380067761464,
          6.59164231844077,
          6.634829822447016,
          6.695809909362564,
          6.759519215235611,
          6.798286752912037,
          6.855679707195485,
          6.911429637264209,
          6.963866249272047,
          7.00818310190808,
          7.075894521394279,
          7.1365686864608175,
          7.179323804618871,
          7.217918990161926,
          7.2682795311146124,
          7.319897302416717,
          7.3671164628042645,
          7.417495978894859,
          7.458468503219811,
          7.514527653374994,
          7.550159344037055,
          7.596154616038473,
          7.649574861938016,
          7.686722886618046,
          7.720564861212293,
          7.757288745136467,
          7.807661657817407,
          7.876749325962885,
          7.917057575837726,
          7.94028142876615,
          7.974936863904285,
          8.02015602782079,
          8.06830490732748,
          8.094221522562387,
          8.134883356174138,
          8.171422325279371,
          8.219553325243506,
          8.26050752441221,
          8.29397980318679,
          8.323068618797775,
          8.375056188877977,
          8.397133291344451,
          8.428685189960527,
          8.468370230848125,
          8.513923503458358,
          8.538352616702712,
          8.56189566778207,
          8.597852964154487,
          8.638576793078448,
          8.663152384037263,
          8.687425973042766,
          8.722119026898204,
          8.75997224013261,
          8.782745727074792,
          8.809536445016073,
          8.83414725545328,
          8.861457394234277,
          8.893139941431606,
          8.91534753124139,
          8.945473080442701,
          8.9686063480008,
          8.989853367282231,
          9.016256044901276,
          9.043356783314154,
          9.063805373757782,
          9.089808722225929,
          9.10954065290522,
          9.129399652002775,
          9.154536241766337,
          9.171076909721545,
          9.193746373095557,
          9.209961040763709,
          9.228762980836727,
          9.248297491858263,
          9.267739508117963,
          9.282278828298931,
          9.299683914129483,
          9.31693759766881,
          9.331687623955839,
          9.346359466001124,
          9.358864174454347,
          9.37612391710248,
          9.387744414041096,
          9.403416134473344,
          9.413425423507569,
          9.425757503741659,
          9.436600811732648,
          9.447797048537653,
          9.4584455156664,
          9.46756602706076,
          9.476508453242264
         ],
         "y": [
          3.9836852881952427,
          3.9695250577613246,
          3.9540430845977323,
          3.9372470845517693,
          3.927692798937938,
          3.90716607903244,
          3.90006036526048,
          3.8848968743375747,
          3.8695864003941773,
          3.865771321384277,
          3.844514169088011,
          3.829247291248893,
          3.818042955250715,
          3.8033042662527468,
          3.7899468619993586,
          3.7567484522962062,
          3.7446063860900836,
          3.7424950875674297,
          3.7420403172935046,
          3.7354295544199645,
          3.727430491961296,
          3.7185088165930926,
          3.7012549699878163,
          3.696089808416346,
          3.6727140033672474,
          3.658733544002441,
          3.6428549107713626,
          3.6335374008566004,
          3.6202158732356717,
          3.611518180148005,
          3.60187443302823,
          3.59022625200124,
          3.575857037665129,
          3.5516582416571287,
          3.540876753587237,
          3.5334130451177264,
          3.522490164602229,
          3.504166166815704,
          3.4937479634588606,
          3.487611155370574,
          3.482210657961142,
          3.4746219172448387,
          3.4666143860015164,
          3.460620648317833,
          3.4462705646093337,
          3.4307785923883505,
          3.423361956601598,
          3.401647817448075,
          3.389127144636878,
          3.37907406373081,
          3.3716980264894603,
          3.364728141188819,
          3.355975565396488,
          3.3512337650738595,
          3.340166638389195,
          3.3304968291826125,
          3.3116801157876377,
          3.3045197274526577,
          3.2971238394854394,
          3.2872060788074595,
          3.283282526827425,
          3.2756683103921773,
          3.2731903544941314,
          3.262209688403626,
          3.247274341948716,
          3.2410066801636894,
          3.2354917623072,
          3.22678239738223,
          3.2174095531233387,
          3.2063365833140485,
          3.199965210677306,
          3.186312615924044,
          3.1778510391773573,
          3.16172167077994,
          3.1547437255069637,
          3.1460458229885986,
          3.14159717673,
          3.1375000114543585,
          3.137062151306551,
          3.1300051804801927,
          3.1212432896194717,
          3.1141434760032736,
          3.1098501668115888,
          3.10548098189386,
          3.1038447440263894,
          3.0908783157531827,
          3.089261860079664,
          3.091260315938732,
          3.0872279963129317,
          3.075100917162914,
          3.0682967080742065,
          3.0630870326880495,
          3.0603649636683423,
          3.058699844106668,
          3.048003844199416,
          3.037498787079691,
          3.0284600870930594,
          3.030133831549124,
          3.031295392805867,
          3.01414037809822,
          3.0180988449629003,
          3.0192716592332824,
          3.0091806807447274,
          3.0030721319847395,
          2.9942304199059255,
          2.9930786838365417,
          2.9899173675639155,
          2.977054827336603,
          2.9739195113850183,
          2.9635075471519015,
          2.973485107623532,
          2.9683642166865125,
          2.970234020956167,
          2.948729373791951,
          2.970786805435422,
          2.957869904782585,
          2.9575417471949352,
          2.942175308617497,
          2.9485121572447555,
          2.9554901972742567,
          2.9358261633837555,
          2.9445288527802513,
          2.9430800923963374,
          2.940116661823168,
          2.9520600628936675,
          2.9312181863625826,
          2.933703685829247,
          2.9294947487740783
         ],
         "z": [
          2.6636709314852287,
          2.725813777435446,
          2.787548267221975,
          2.846967705830015,
          2.904996955976722,
          2.9617909869630274,
          3.018540565025451,
          3.0751839303840263,
          3.1275155542249733,
          3.1810910916911217,
          3.2317535611670416,
          3.2839457298405694,
          3.3317851274434007,
          3.3833106847299472,
          3.4304318495527006,
          3.48831500600071,
          3.5253188333259193,
          3.5621607207156867,
          3.619869733166947,
          3.6473983232815077,
          3.703325953397956,
          3.7390931438971076,
          3.779959199267072,
          3.8139461903121874,
          3.8632313085716845,
          3.8860601447198864,
          3.9318818431711806,
          3.974873531738699,
          4.006364556864348,
          4.038773361724718,
          4.07212776009143,
          4.108783451778612,
          4.133445174827779,
          4.172779773663562,
          4.199469772643429,
          4.229148325287023,
          4.259568130248842,
          4.283987546782051,
          4.317139248464695,
          4.337930109350139,
          4.366573496901447,
          4.395983731497538,
          4.41351586632089,
          4.438872805835756,
          4.462579450034482,
          4.484087075372363,
          4.501442070392726,
          4.52743162452724,
          4.549737962807618,
          4.564945023771085,
          4.578252072608653,
          4.5948606762979685,
          4.611001125447509,
          4.624650598274876,
          4.638284924357817,
          4.648722940950059,
          4.662087956809805,
          4.669522321978531,
          4.678480495481818,
          4.6873862560973825,
          4.692805115054291,
          4.696742774873198,
          4.699799082280126,
          4.702748190230593,
          4.705624772976698,
          4.706060242781024,
          4.705288475094955,
          4.702769525269595,
          4.6980838099882565,
          4.691841627660168,
          4.687773226913885,
          4.67910073195342,
          4.669079514264355,
          4.654023986043864,
          4.640303144920501,
          4.626966398267981,
          4.613047749740507,
          4.586718127496706,
          4.573664990089451,
          4.551976071875462,
          4.522896247479918,
          4.487709198976325,
          4.467507569836427,
          4.445650358610162,
          4.408620820881673,
          4.363850796735956,
          4.3346430687324835,
          4.3023120603395935,
          4.253330043896842,
          4.197243432675608,
          4.160578382439785,
          4.11449342814003,
          4.0691267919396426,
          4.0140022156796284,
          3.9458799331407626,
          3.8951982844576394,
          3.821411385866299,
          3.761245040352114,
          3.703123841596686,
          3.6243953116332586,
          3.539407597696244,
          3.4695942288351596,
          3.3758334000617753,
          3.298618690111233,
          3.2162982065395385,
          3.106132311777294,
          3.0264844451797295,
          2.912010129646421,
          2.8249864330535126,
          2.7180204649455697,
          2.604292561312608,
          2.4797465745167133,
          2.378356005843571,
          2.24671730895237,
          2.1141774691342867,
          1.9872818590162082,
          1.8558622723809686,
          1.7303090244061652,
          1.5600972405427467,
          1.4304070446341643,
          1.2442095894074972,
          1.1036871352890842,
          0.9408149532935002,
          0.7829723800720007,
          0.5959294739640011,
          0.4189590493772496,
          0.23303005214466666,
          0.05985105105433339
         ]
        },
        {
         "marker": {
          "color": "green",
          "size": 2
         },
         "mode": "markers",
         "name": "Predicted Values (Extra Trees)",
         "opacity": 0.7,
         "type": "scatter3d",
         "x": [
          4.075149963000004,
          4.153726844000004,
          4.228512116999993,
          4.301841921999995,
          4.375525498120001,
          4.4510598148800025,
          4.523404067999994,
          4.595617138749999,
          4.665280468999994,
          4.738033097000012,
          4.812028137000012,
          4.879641970000009,
          4.950268384000012,
          5.0216811160000105,
          5.090389614000002,
          5.158757657589993,
          5.2292543757900045,
          5.29199904900001,
          5.361490418000006,
          5.426463791,
          5.4957420697199995,
          5.557954135980002,
          5.621950326999996,
          5.686244046999997,
          5.749393858000003,
          5.813362202999998,
          5.873627930019996,
          5.936702563990004,
          5.999240074999992,
          6.061481441999993,
          6.119717923000007,
          6.182028695609992,
          6.239175767999996,
          6.298091363000014,
          6.3582478795399915,
          6.415520668,
          6.471320182,
          6.529897821999994,
          6.586919094999994,
          6.640916819999997,
          6.696521182999994,
          6.756301606849997,
          6.804620788999995,
          6.858912856999991,
          6.909751075609997,
          6.965443262000005,
          7.0185384668600035,
          7.069136407999996,
          7.120146983419993,
          7.170055144999995,
          7.219235476999992,
          7.26722895499999,
          7.318572037999994,
          7.366417665999993,
          7.413411506999987,
          7.462032736999991,
          7.507335774000009,
          7.553789523849996,
          7.599058519999982,
          7.644801474000011,
          7.6915933850000044,
          7.7325468609999835,
          7.764991683009989,
          7.825857575359992,
          7.885099500059995,
          7.904467471999993,
          7.9459326889999895,
          7.988182217000003,
          8.031563178459994,
          8.068625326999985,
          8.108356083999988,
          8.146394935999988,
          8.18000426375999,
          8.234415252719993,
          8.259667337999987,
          8.296468711999985,
          8.331495792119988,
          8.368635435999984,
          8.402564396,
          8.429179967060007,
          8.470337735000012,
          8.50518972999999,
          8.539816136000011,
          8.57243313000001,
          8.60186479900002,
          8.63563336000001,
          8.665467499999984,
          8.695829041000017,
          8.729509885060004,
          8.75387257,
          8.784506161999987,
          8.812698731999978,
          8.83994646899999,
          8.86785250000002,
          8.892876845000016,
          8.92062363699998,
          8.945678641999988,
          8.969923828999988,
          8.995752861000021,
          9.02315952705001,
          9.043138268000005,
          9.067278382000014,
          9.08996425299998,
          9.110213529000013,
          9.131474930999987,
          9.15368760000001,
          9.172137453000003,
          9.193350379999993,
          9.211330480000013,
          9.227199039260007,
          9.24990441299999,
          9.266979093000009,
          9.28457365199998,
          9.300668586000022,
          9.316577334000014,
          9.332482412999987,
          9.347210751000011,
          9.360698511870003,
          9.375916007,
          9.38883153100002,
          9.403261554550005,
          9.41303853199998,
          9.426265375999977,
          9.437701612999975,
          9.44787671400001,
          9.458992254000007,
          9.466576365000012,
          9.477175635999993
         ],
         "y": [
          3.9852379453999935,
          3.970118528,
          3.95558174400001,
          3.941327874000007,
          3.9270169800999923,
          3.911793704930003,
          3.8982605549999945,
          3.886245329300002,
          3.8706825770000064,
          3.8565408979999956,
          3.8421577199999932,
          3.8290149219999994,
          3.8152865380000054,
          3.801405309000003,
          3.788049730000007,
          3.771888711890002,
          3.7581874351200075,
          3.7488608250000044,
          3.7353530720000054,
          3.7227235270000083,
          3.7095698498999945,
          3.6948044226200016,
          3.6847247939999948,
          3.672227361000007,
          3.659952281000001,
          3.647518094000004,
          3.6350049929600057,
          3.6241279433200013,
          3.6113870959999925,
          3.599288600000003,
          3.5879685749999948,
          3.57925690043,
          3.5647483220000087,
          3.5532962899999956,
          3.5431725684599984,
          3.530470346,
          3.519624018999995,
          3.5082376789999943,
          3.4971538670000046,
          3.4866577720000005,
          3.475849379000006,
          3.4735920278899965,
          3.4548369440000015,
          3.4442836349999966,
          3.4295362023599996,
          3.4235762220000043,
          3.42793148433,
          3.4034203159999965,
          3.403079951139996,
          3.383803700999997,
          3.374244013000005,
          3.364915026000004,
          3.354934941000005,
          3.345634693000002,
          3.336500016000002,
          3.3270490059999993,
          3.318242988000004,
          3.305956912730001,
          3.3004138919999964,
          3.291522363000007,
          3.2824269370000034,
          3.2744663870000004,
          3.268077083050002,
          3.2603531628800018,
          3.242621101640002,
          3.241048406000003,
          3.232988384000005,
          3.2247759080000042,
          3.2184586538799995,
          3.209139350999998,
          3.201416474000001,
          3.1940224710000003,
          3.1889153159000005,
          3.1691779125,
          3.172004546,
          3.1648510840000013,
          3.1650825109399983,
          3.150823292999996,
          3.1442281719999987,
          3.1438466827300005,
          3.1310543690000032,
          3.1242798279999993,
          3.1175491359999983,
          3.1112090350000012,
          3.1054880980000013,
          3.098924153999997,
          3.093124984999997,
          3.087223298999998,
          3.077224948479998,
          3.0759407799999967,
          3.0699862129999946,
          3.0645061330000045,
          3.059209708999997,
          3.0537853260000016,
          3.0489210860000053,
          3.043527656,
          3.038657457,
          3.033944670000001,
          3.0289240140000016,
          3.0135315044399977,
          3.019713223999992,
          3.0150208620000045,
          3.0106111750000037,
          3.006675113999999,
          3.0025423159999987,
          2.998224611000006,
          2.9946383230000033,
          2.990514947999998,
          2.987019970000004,
          2.977079528830004,
          2.9795219569999984,
          2.9762029760000015,
          2.9727829400000014,
          2.969654402000003,
          2.9665620540000024,
          2.963470419999999,
          2.960607520999992,
          2.9557576979999998,
          2.9550277850000026,
          2.9525172610000014,
          2.9365507179500008,
          2.947811897000003,
          2.945240859,
          2.9430178800000073,
          2.9410400399999985,
          2.9388793980000028,
          2.9374051959999923,
          2.9353449070000006
         ],
         "z": [
          2.6638172586000013,
          2.724377892000005,
          2.788495014999999,
          2.847775613000005,
          2.9047712255700033,
          2.9617564776300043,
          3.0176632069999987,
          3.0734471438000024,
          3.1268035699999945,
          3.179758987000008,
          3.233078134,
          3.2829151820000053,
          3.3316553349999953,
          3.381891073000002,
          3.4294419540000054,
          3.474144047750006,
          3.523954832020002,
          3.5651054979999963,
          3.6120591060000025,
          3.652207074999997,
          3.697864932160004,
          3.7383724651999946,
          3.7762105109999924,
          3.8176914989999955,
          3.857131247999992,
          3.893248141000001,
          3.930520179979996,
          3.9675526274299995,
          4.003635233000007,
          4.040110348999992,
          4.0717767589999925,
          4.105620115989996,
          4.137965889999992,
          4.16782130399999,
          4.200256642659994,
          4.231287098999998,
          4.260671930999994,
          4.286807200999991,
          4.3136412370000095,
          4.342546224999993,
          4.365568090000007,
          4.394849223240002,
          4.417819811000003,
          4.441530758999992,
          4.462964009480006,
          4.48448615500001,
          4.505723464780001,
          4.5267598020000035,
          4.545436574830002,
          4.563637287000005,
          4.579064895999992,
          4.596393254000008,
          4.612027920999996,
          4.625138633999996,
          4.638994513,
          4.650995964999994,
          4.66217442700001,
          4.6713639335000074,
          4.680075557000006,
          4.686551209000004,
          4.694916109000006,
          4.701229963999996,
          4.702493138979995,
          4.705494931099996,
          4.707753904449996,
          4.707438851999997,
          4.707662034999999,
          4.703566863999994,
          4.699214484830005,
          4.695364276000008,
          4.686766205000011,
          4.6801800900000075,
          4.668779361780005,
          4.650143615940001,
          4.640799899,
          4.628587077000008,
          4.611513737940004,
          4.5934398750000005,
          4.572175902000011,
          4.552618441470003,
          4.521939417999992,
          4.497190776000009,
          4.469317299000007,
          4.438259550999991,
          4.407802458999995,
          4.371963218000006,
          4.333904318999999,
          4.292751808999994,
          4.243493191200002,
          4.20748424800001,
          4.161541349999994,
          4.111374931,
          4.059346839,
          4.0041595409999955,
          3.9484730159999946,
          3.8853408850000037,
          3.823624153000007,
          3.7570313040000047,
          3.6891434460000023,
          3.6035675331299997,
          3.5398671579999945,
          3.4618004309999924,
          3.3802665530000073,
          3.296099222000005,
          3.2088071449999984,
          3.1156708450000052,
          3.0198226009999933,
          2.919078465000003,
          2.8168148679999963,
          2.728028024000001,
          2.597853530000003,
          2.4841350840000014,
          2.3667106190000022,
          2.2421369790000023,
          2.117819438999996,
          1.9845418779999966,
          1.8498213409999968,
          1.711785793129999,
          1.5637351579999978,
          1.4155431850000004,
          1.2549373629300011,
          1.1021833730000017,
          0.9393503379999981,
          0.7679126390000011,
          0.5962965650000012,
          0.41526711699999963,
          0.2305869439999998,
          0.04241701900000007
         ]
        },
        {
         "line": {
          "color": "black",
          "width": 1
         },
         "mode": "lines",
         "name": "Court Boundaries",
         "type": "scatter3d",
         "x": [
          0,
          13.4,
          13.4,
          0,
          0
         ],
         "y": [
          0,
          0,
          5.18,
          5.18,
          0
         ],
         "z": [
          0,
          0,
          0,
          0,
          0
         ]
        },
        {
         "line": {
          "color": "black",
          "width": 1
         },
         "mode": "lines",
         "name": "Center Line",
         "type": "scatter3d",
         "x": [
          0,
          4.68,
          4.68,
          0,
          0
         ],
         "y": [
          2.59,
          2.59,
          2.59,
          2.59,
          2.59
         ],
         "z": [
          0,
          0,
          0,
          0,
          0
         ]
        },
        {
         "line": {
          "color": "black",
          "width": 1
         },
         "mode": "lines",
         "name": "Center Line",
         "type": "scatter3d",
         "x": [
          8.72,
          13.4
         ],
         "y": [
          2.59,
          2.59
         ],
         "z": [
          0,
          0,
          0,
          0,
          0
         ]
        },
        {
         "line": {
          "color": "black",
          "width": 1
         },
         "mode": "lines",
         "name": "Short Service Lines",
         "type": "scatter3d",
         "x": [
          4.72,
          4.72
         ],
         "y": [
          0,
          5.18
         ],
         "z": [
          0,
          0
         ]
        },
        {
         "line": {
          "color": "black",
          "width": 1
         },
         "mode": "lines",
         "name": "Short Service Lines",
         "type": "scatter3d",
         "x": [
          8.680000000000001,
          8.680000000000001
         ],
         "y": [
          0,
          5.18
         ],
         "z": [
          0,
          0
         ]
        },
        {
         "line": {
          "color": "red",
          "width": 1
         },
         "mode": "lines",
         "name": "Net",
         "type": "scatter3d",
         "x": [
          6.7,
          6.7
         ],
         "y": [
          0,
          5.18
         ],
         "z": [
          1.55,
          1.55
         ]
        },
        {
         "line": {
          "color": "green",
          "width": 5
         },
         "marker": {
          "color": "cyan",
          "line": {
           "color": "black",
           "width": 4
          },
          "size": 10,
          "symbol": "cross"
         },
         "mode": "lines+markers",
         "name": "Predicted Position",
         "opacity": 1,
         "type": "scatter3d",
         "x": [
          9.47684204462113
         ],
         "y": [
          2.9324198278870393
         ],
         "z": [
          0.05113403502716673
         ]
        },
        {
         "line": {
          "color": "green",
          "width": 5
         },
         "marker": {
          "color": "cyan",
          "line": {
           "color": "black",
           "width": 4
          },
          "size": 6,
          "symbol": "diamond"
         },
         "mode": "lines+markers",
         "name": "Average Highest XYZ-point",
         "opacity": 1,
         "type": "scatter3d",
         "x": [
          7.901078537948861
         ],
         "y": [
          3.2418138909018457
         ],
         "z": [
          4.706907073615509
         ]
        },
        {
         "marker": {
          "color": "blue",
          "size": 10
         },
         "mode": "markers",
         "name": "Initial Starting Point (Hit)",
         "opacity": 1,
         "type": "scatter3d",
         "x": [
          11.370807650361957
         ],
         "y": [
          3.7127832849832725
         ],
         "z": [
          1.115
         ]
        },
        {
         "marker": {
          "color": "blue",
          "size": 10
         },
         "mode": "markers",
         "name": "Initial Starting Point (Hit)",
         "opacity": 1,
         "type": "scatter3d",
         "x": [
          10.197544877532174
         ],
         "y": [
          2.6592423375731804
         ],
         "z": [
          1.115
         ]
        },
        {
         "marker": {
          "color": "blue",
          "size": 10
         },
         "mode": "markers",
         "name": "Initial Starting Point (Hit)",
         "opacity": 1,
         "type": "scatter3d",
         "x": [
          10.25113432276443
         ],
         "y": [
          4.9447380617090655
         ],
         "z": [
          1.115
         ]
        },
        {
         "marker": {
          "color": "green",
          "size": 10
         },
         "mode": "markers",
         "name": "Point to Hit the Ball",
         "opacity": 1,
         "type": "scatter3d",
         "x": [
          9.68084204462113
         ],
         "y": [
          3.1624198278870397
         ],
         "z": [
          1.115
         ]
        }
       ],
       "layout": {
        "scene": {
         "aspectmode": "manual",
         "aspectratio": {
          "x": 1,
          "y": 1,
          "z": 1
         },
         "xaxis": {
          "range": [
           -4,
           18
          ],
          "title": {
           "text": "X-coordinate"
          }
         },
         "yaxis": {
          "range": [
           -2,
           7
          ],
          "title": {
           "text": "Y-coordinate"
          }
         },
         "zaxis": {
          "range": [
           0,
           12
          ],
          "title": {
           "text": "Z-coordinate"
          }
         }
        },
        "template": {
         "data": {
          "bar": [
           {
            "error_x": {
             "color": "#2a3f5f"
            },
            "error_y": {
             "color": "#2a3f5f"
            },
            "marker": {
             "line": {
              "color": "#E5ECF6",
              "width": 0.5
             },
             "pattern": {
              "fillmode": "overlay",
              "size": 10,
              "solidity": 0.2
             }
            },
            "type": "bar"
           }
          ],
          "barpolar": [
           {
            "marker": {
             "line": {
              "color": "#E5ECF6",
              "width": 0.5
             },
             "pattern": {
              "fillmode": "overlay",
              "size": 10,
              "solidity": 0.2
             }
            },
            "type": "barpolar"
           }
          ],
          "carpet": [
           {
            "aaxis": {
             "endlinecolor": "#2a3f5f",
             "gridcolor": "white",
             "linecolor": "white",
             "minorgridcolor": "white",
             "startlinecolor": "#2a3f5f"
            },
            "baxis": {
             "endlinecolor": "#2a3f5f",
             "gridcolor": "white",
             "linecolor": "white",
             "minorgridcolor": "white",
             "startlinecolor": "#2a3f5f"
            },
            "type": "carpet"
           }
          ],
          "choropleth": [
           {
            "colorbar": {
             "outlinewidth": 0,
             "ticks": ""
            },
            "type": "choropleth"
           }
          ],
          "contour": [
           {
            "colorbar": {
             "outlinewidth": 0,
             "ticks": ""
            },
            "colorscale": [
             [
              0,
              "#0d0887"
             ],
             [
              0.1111111111111111,
              "#46039f"
             ],
             [
              0.2222222222222222,
              "#7201a8"
             ],
             [
              0.3333333333333333,
              "#9c179e"
             ],
             [
              0.4444444444444444,
              "#bd3786"
             ],
             [
              0.5555555555555556,
              "#d8576b"
             ],
             [
              0.6666666666666666,
              "#ed7953"
             ],
             [
              0.7777777777777778,
              "#fb9f3a"
             ],
             [
              0.8888888888888888,
              "#fdca26"
             ],
             [
              1,
              "#f0f921"
             ]
            ],
            "type": "contour"
           }
          ],
          "contourcarpet": [
           {
            "colorbar": {
             "outlinewidth": 0,
             "ticks": ""
            },
            "type": "contourcarpet"
           }
          ],
          "heatmap": [
           {
            "colorbar": {
             "outlinewidth": 0,
             "ticks": ""
            },
            "colorscale": [
             [
              0,
              "#0d0887"
             ],
             [
              0.1111111111111111,
              "#46039f"
             ],
             [
              0.2222222222222222,
              "#7201a8"
             ],
             [
              0.3333333333333333,
              "#9c179e"
             ],
             [
              0.4444444444444444,
              "#bd3786"
             ],
             [
              0.5555555555555556,
              "#d8576b"
             ],
             [
              0.6666666666666666,
              "#ed7953"
             ],
             [
              0.7777777777777778,
              "#fb9f3a"
             ],
             [
              0.8888888888888888,
              "#fdca26"
             ],
             [
              1,
              "#f0f921"
             ]
            ],
            "type": "heatmap"
           }
          ],
          "heatmapgl": [
           {
            "colorbar": {
             "outlinewidth": 0,
             "ticks": ""
            },
            "colorscale": [
             [
              0,
              "#0d0887"
             ],
             [
              0.1111111111111111,
              "#46039f"
             ],
             [
              0.2222222222222222,
              "#7201a8"
             ],
             [
              0.3333333333333333,
              "#9c179e"
             ],
             [
              0.4444444444444444,
              "#bd3786"
             ],
             [
              0.5555555555555556,
              "#d8576b"
             ],
             [
              0.6666666666666666,
              "#ed7953"
             ],
             [
              0.7777777777777778,
              "#fb9f3a"
             ],
             [
              0.8888888888888888,
              "#fdca26"
             ],
             [
              1,
              "#f0f921"
             ]
            ],
            "type": "heatmapgl"
           }
          ],
          "histogram": [
           {
            "marker": {
             "pattern": {
              "fillmode": "overlay",
              "size": 10,
              "solidity": 0.2
             }
            },
            "type": "histogram"
           }
          ],
          "histogram2d": [
           {
            "colorbar": {
             "outlinewidth": 0,
             "ticks": ""
            },
            "colorscale": [
             [
              0,
              "#0d0887"
             ],
             [
              0.1111111111111111,
              "#46039f"
             ],
             [
              0.2222222222222222,
              "#7201a8"
             ],
             [
              0.3333333333333333,
              "#9c179e"
             ],
             [
              0.4444444444444444,
              "#bd3786"
             ],
             [
              0.5555555555555556,
              "#d8576b"
             ],
             [
              0.6666666666666666,
              "#ed7953"
             ],
             [
              0.7777777777777778,
              "#fb9f3a"
             ],
             [
              0.8888888888888888,
              "#fdca26"
             ],
             [
              1,
              "#f0f921"
             ]
            ],
            "type": "histogram2d"
           }
          ],
          "histogram2dcontour": [
           {
            "colorbar": {
             "outlinewidth": 0,
             "ticks": ""
            },
            "colorscale": [
             [
              0,
              "#0d0887"
             ],
             [
              0.1111111111111111,
              "#46039f"
             ],
             [
              0.2222222222222222,
              "#7201a8"
             ],
             [
              0.3333333333333333,
              "#9c179e"
             ],
             [
              0.4444444444444444,
              "#bd3786"
             ],
             [
              0.5555555555555556,
              "#d8576b"
             ],
             [
              0.6666666666666666,
              "#ed7953"
             ],
             [
              0.7777777777777778,
              "#fb9f3a"
             ],
             [
              0.8888888888888888,
              "#fdca26"
             ],
             [
              1,
              "#f0f921"
             ]
            ],
            "type": "histogram2dcontour"
           }
          ],
          "mesh3d": [
           {
            "colorbar": {
             "outlinewidth": 0,
             "ticks": ""
            },
            "type": "mesh3d"
           }
          ],
          "parcoords": [
           {
            "line": {
             "colorbar": {
              "outlinewidth": 0,
              "ticks": ""
             }
            },
            "type": "parcoords"
           }
          ],
          "pie": [
           {
            "automargin": true,
            "type": "pie"
           }
          ],
          "scatter": [
           {
            "fillpattern": {
             "fillmode": "overlay",
             "size": 10,
             "solidity": 0.2
            },
            "type": "scatter"
           }
          ],
          "scatter3d": [
           {
            "line": {
             "colorbar": {
              "outlinewidth": 0,
              "ticks": ""
             }
            },
            "marker": {
             "colorbar": {
              "outlinewidth": 0,
              "ticks": ""
             }
            },
            "type": "scatter3d"
           }
          ],
          "scattercarpet": [
           {
            "marker": {
             "colorbar": {
              "outlinewidth": 0,
              "ticks": ""
             }
            },
            "type": "scattercarpet"
           }
          ],
          "scattergeo": [
           {
            "marker": {
             "colorbar": {
              "outlinewidth": 0,
              "ticks": ""
             }
            },
            "type": "scattergeo"
           }
          ],
          "scattergl": [
           {
            "marker": {
             "colorbar": {
              "outlinewidth": 0,
              "ticks": ""
             }
            },
            "type": "scattergl"
           }
          ],
          "scattermapbox": [
           {
            "marker": {
             "colorbar": {
              "outlinewidth": 0,
              "ticks": ""
             }
            },
            "type": "scattermapbox"
           }
          ],
          "scatterpolar": [
           {
            "marker": {
             "colorbar": {
              "outlinewidth": 0,
              "ticks": ""
             }
            },
            "type": "scatterpolar"
           }
          ],
          "scatterpolargl": [
           {
            "marker": {
             "colorbar": {
              "outlinewidth": 0,
              "ticks": ""
             }
            },
            "type": "scatterpolargl"
           }
          ],
          "scatterternary": [
           {
            "marker": {
             "colorbar": {
              "outlinewidth": 0,
              "ticks": ""
             }
            },
            "type": "scatterternary"
           }
          ],
          "surface": [
           {
            "colorbar": {
             "outlinewidth": 0,
             "ticks": ""
            },
            "colorscale": [
             [
              0,
              "#0d0887"
             ],
             [
              0.1111111111111111,
              "#46039f"
             ],
             [
              0.2222222222222222,
              "#7201a8"
             ],
             [
              0.3333333333333333,
              "#9c179e"
             ],
             [
              0.4444444444444444,
              "#bd3786"
             ],
             [
              0.5555555555555556,
              "#d8576b"
             ],
             [
              0.6666666666666666,
              "#ed7953"
             ],
             [
              0.7777777777777778,
              "#fb9f3a"
             ],
             [
              0.8888888888888888,
              "#fdca26"
             ],
             [
              1,
              "#f0f921"
             ]
            ],
            "type": "surface"
           }
          ],
          "table": [
           {
            "cells": {
             "fill": {
              "color": "#EBF0F8"
             },
             "line": {
              "color": "white"
             }
            },
            "header": {
             "fill": {
              "color": "#C8D4E3"
             },
             "line": {
              "color": "white"
             }
            },
            "type": "table"
           }
          ]
         },
         "layout": {
          "annotationdefaults": {
           "arrowcolor": "#2a3f5f",
           "arrowhead": 0,
           "arrowwidth": 1
          },
          "autotypenumbers": "strict",
          "coloraxis": {
           "colorbar": {
            "outlinewidth": 0,
            "ticks": ""
           }
          },
          "colorscale": {
           "diverging": [
            [
             0,
             "#8e0152"
            ],
            [
             0.1,
             "#c51b7d"
            ],
            [
             0.2,
             "#de77ae"
            ],
            [
             0.3,
             "#f1b6da"
            ],
            [
             0.4,
             "#fde0ef"
            ],
            [
             0.5,
             "#f7f7f7"
            ],
            [
             0.6,
             "#e6f5d0"
            ],
            [
             0.7,
             "#b8e186"
            ],
            [
             0.8,
             "#7fbc41"
            ],
            [
             0.9,
             "#4d9221"
            ],
            [
             1,
             "#276419"
            ]
           ],
           "sequential": [
            [
             0,
             "#0d0887"
            ],
            [
             0.1111111111111111,
             "#46039f"
            ],
            [
             0.2222222222222222,
             "#7201a8"
            ],
            [
             0.3333333333333333,
             "#9c179e"
            ],
            [
             0.4444444444444444,
             "#bd3786"
            ],
            [
             0.5555555555555556,
             "#d8576b"
            ],
            [
             0.6666666666666666,
             "#ed7953"
            ],
            [
             0.7777777777777778,
             "#fb9f3a"
            ],
            [
             0.8888888888888888,
             "#fdca26"
            ],
            [
             1,
             "#f0f921"
            ]
           ],
           "sequentialminus": [
            [
             0,
             "#0d0887"
            ],
            [
             0.1111111111111111,
             "#46039f"
            ],
            [
             0.2222222222222222,
             "#7201a8"
            ],
            [
             0.3333333333333333,
             "#9c179e"
            ],
            [
             0.4444444444444444,
             "#bd3786"
            ],
            [
             0.5555555555555556,
             "#d8576b"
            ],
            [
             0.6666666666666666,
             "#ed7953"
            ],
            [
             0.7777777777777778,
             "#fb9f3a"
            ],
            [
             0.8888888888888888,
             "#fdca26"
            ],
            [
             1,
             "#f0f921"
            ]
           ]
          },
          "colorway": [
           "#636efa",
           "#EF553B",
           "#00cc96",
           "#ab63fa",
           "#FFA15A",
           "#19d3f3",
           "#FF6692",
           "#B6E880",
           "#FF97FF",
           "#FECB52"
          ],
          "font": {
           "color": "#2a3f5f"
          },
          "geo": {
           "bgcolor": "white",
           "lakecolor": "white",
           "landcolor": "#E5ECF6",
           "showlakes": true,
           "showland": true,
           "subunitcolor": "white"
          },
          "hoverlabel": {
           "align": "left"
          },
          "hovermode": "closest",
          "mapbox": {
           "style": "light"
          },
          "paper_bgcolor": "white",
          "plot_bgcolor": "#E5ECF6",
          "polar": {
           "angularaxis": {
            "gridcolor": "white",
            "linecolor": "white",
            "ticks": ""
           },
           "bgcolor": "#E5ECF6",
           "radialaxis": {
            "gridcolor": "white",
            "linecolor": "white",
            "ticks": ""
           }
          },
          "scene": {
           "xaxis": {
            "backgroundcolor": "#E5ECF6",
            "gridcolor": "white",
            "gridwidth": 2,
            "linecolor": "white",
            "showbackground": true,
            "ticks": "",
            "zerolinecolor": "white"
           },
           "yaxis": {
            "backgroundcolor": "#E5ECF6",
            "gridcolor": "white",
            "gridwidth": 2,
            "linecolor": "white",
            "showbackground": true,
            "ticks": "",
            "zerolinecolor": "white"
           },
           "zaxis": {
            "backgroundcolor": "#E5ECF6",
            "gridcolor": "white",
            "gridwidth": 2,
            "linecolor": "white",
            "showbackground": true,
            "ticks": "",
            "zerolinecolor": "white"
           }
          },
          "shapedefaults": {
           "line": {
            "color": "#2a3f5f"
           }
          },
          "ternary": {
           "aaxis": {
            "gridcolor": "white",
            "linecolor": "white",
            "ticks": ""
           },
           "baxis": {
            "gridcolor": "white",
            "linecolor": "white",
            "ticks": ""
           },
           "bgcolor": "#E5ECF6",
           "caxis": {
            "gridcolor": "white",
            "linecolor": "white",
            "ticks": ""
           }
          },
          "title": {
           "x": 0.05
          },
          "xaxis": {
           "automargin": true,
           "gridcolor": "white",
           "linecolor": "white",
           "ticks": "",
           "title": {
            "standoff": 15
           },
           "zerolinecolor": "white",
           "zerolinewidth": 2
          },
          "yaxis": {
           "automargin": true,
           "gridcolor": "white",
           "linecolor": "white",
           "ticks": "",
           "title": {
            "standoff": 15
           },
           "zerolinecolor": "white",
           "zerolinewidth": 2
          }
         }
        },
        "title": {
         "text": "Shuttlecock Trajectory Estimation"
        }
       }
      }
     },
     "metadata": {},
     "output_type": "display_data"
    },
    {
     "data": {
      "text/plain": [
       "'interactive_models/robot_pred_limited_reg.html'"
      ]
     },
     "execution_count": 266,
     "metadata": {},
     "output_type": "execute_result"
    }
   ],
   "source": [
    "import plotly.graph_objects as go\n",
    "# Define court dimensions\n",
    "court_length_x = 13.4\n",
    "court_length_y = 5.18\n",
    "court_height_skybox = 10\n",
    "court_height_net = 1.55\n",
    "court_length_centerline = 4.68\n",
    "\n",
    "def is_point_within_court(x, y, z, court_length_x, court_length_y, court_height_skybox):\n",
    "    \"\"\"\n",
    "    Check if a point is within the court boundaries.\n",
    "    \n",
    "    Args:\n",
    "        x (float): X-coordinate of the point\n",
    "        y (float): Y-coordinate of the point\n",
    "        z (float): Z-coordinate of the point\n",
    "        court_length_x (float): Length of the court along the X-axis\n",
    "        court_length_y (float): Length of the court along the Y-axis\n",
    "        court_height_skybox (float): Height of the court's skybox\n",
    "    \n",
    "    Returns:\n",
    "        bool: True if the point is within the court boundaries, False otherwise\n",
    "    \"\"\"\n",
    "    return 0 <= x <= court_length_x and 0 <= y <= court_length_y and 0 <= z <= court_height_skybox\n",
    "\n",
    "\n",
    "# Create the 3D scatter plot\n",
    "fig = go.Figure(data=[\n",
    "    go.Scatter3d(\n",
    "        x=y_actual_coords['SHUTTLECOCK POSITIION IN AIR(X) metres'],\n",
    "        y=y_actual_coords['SHUTTLECOCK POSITIION IN AIR(Y) metres'],\n",
    "        z=y_actual_coords['SHUTTLECOCK POSITIION IN AIR(Z) metres'],\n",
    "        mode='markers',\n",
    "        name='True Values',\n",
    "        marker=dict(color='blue', size=2),\n",
    "        opacity=0.7\n",
    "    ),\n",
    "    go.Scatter3d(\n",
    "        x=predicted_trajectory_points_RT[:, 0],\n",
    "        y=predicted_trajectory_points_RT[:, 1],\n",
    "        z=predicted_trajectory_points_RT[:, 2],\n",
    "        mode='markers',\n",
    "        name='Predicted Values (Random Forest)',\n",
    "        marker=dict(color='red', size=2),\n",
    "        opacity=0.7\n",
    "    ),\n",
    "    go.Scatter3d(\n",
    "        x=predicted_trajectory_points_ET[:, 0],\n",
    "        y=predicted_trajectory_points_ET[:, 1],\n",
    "        z=predicted_trajectory_points_ET[:, 2],\n",
    "        mode='markers',\n",
    "        name='Predicted Values (Extra Trees)',\n",
    "        marker=dict(color='green', size=2),\n",
    "        opacity=0.7\n",
    "    ),\n",
    "])\n",
    "\n",
    "# Set plot title and axis labels\n",
    "fig.update_layout(\n",
    "    title='Shuttlecock Trajectory Estimation',\n",
    "    scene=dict(\n",
    "        xaxis_title='X-coordinate',\n",
    "        yaxis_title='Y-coordinate',\n",
    "        zaxis_title='Z-coordinate',\n",
    "        xaxis=dict(range=[-4, 18]),  # Set the range for X-axis\n",
    "        yaxis=dict(range=[-2, 7]),   # Set the range for Y-axis\n",
    "        zaxis=dict(range=[0, 12]),  # Set the range for Z-axis\n",
    "        aspectmode='manual',         # Set the aspect mode to manual for custom scaling\n",
    "        aspectratio=dict(x=1, y=1, z=1)  # Set the aspect ratio for equal scaling of axes\n",
    "    )\n",
    ")\n",
    "\n",
    "# Add court lines to the plot\n",
    "fig.add_trace(go.Scatter3d(\n",
    "    x=[0, court_length_x, court_length_x, 0, 0],\n",
    "    y=[0, 0, court_length_y, court_length_y, 0],\n",
    "    z=[0, 0, 0, 0, 0],\n",
    "    mode='lines',\n",
    "    name='Court Boundaries',\n",
    "    line=dict(color='black', width=1)\n",
    "))\n",
    "\n",
    "fig.add_trace(go.Scatter3d(\n",
    "    x=[0, court_length_centerline, court_length_centerline, 0, 0],\n",
    "    y=[court_length_y / 2, court_length_y / 2, court_length_y / 2, court_length_y / 2, court_length_y / 2],\n",
    "    z=[0, 0, 0, 0, 0],\n",
    "    mode='lines',\n",
    "    name='Center Line',\n",
    "    line=dict(color='black', width=1)\n",
    "))\n",
    "\n",
    "fig.add_trace(go.Scatter3d(\n",
    "    x=[court_length_x - court_length_centerline, court_length_x],\n",
    "    y=[court_length_y / 2, court_length_y / 2],\n",
    "    z=[0, 0, 0, 0, 0],\n",
    "    mode='lines',\n",
    "    name='Center Line',\n",
    "    line=dict(color='black', width=1)\n",
    "))\n",
    "\n",
    "fig.add_trace(go.Scatter3d(\n",
    "    x=[court_length_centerline + 0.04, court_length_centerline + 0.04],\n",
    "    y=[0, court_length_y],\n",
    "    z=[0, 0],\n",
    "    mode='lines',\n",
    "    name='Short Service Lines',\n",
    "    line=dict(color='black', width=1)\n",
    "))\n",
    "\n",
    "fig.add_trace(go.Scatter3d(\n",
    "    x=[court_length_x - court_length_centerline - 0.04, court_length_x - court_length_centerline - 0.04],\n",
    "    y=[0, court_length_y],\n",
    "    z=[0, 0],\n",
    "    mode='lines',\n",
    "    name='Short Service Lines',\n",
    "    line=dict(color='black', width=1)\n",
    "))\n",
    "\n",
    "fig.add_trace(go.Scatter3d(\n",
    "    x=[court_length_x / 2, court_length_x / 2],\n",
    "    y=[0, court_length_y],\n",
    "    z=[court_height_net, court_height_net],\n",
    "    mode='lines',\n",
    "    name='Net',\n",
    "    line=dict(color='red', width=1)\n",
    "))\n",
    "\n",
    "# Initialize variables\n",
    "all_within_court_RT = True\n",
    "all_within_court_ET = True\n",
    "highest_xyz_points_RT = []\n",
    "highest_xyz_points_ET = []\n",
    "highest_z_index_RT = np.argmax(predicted_trajectory_points_RT[:, 2])\n",
    "highest_z_index_ET = np.argmax(predicted_trajectory_points_ET[:, 2])\n",
    "\n",
    "# Check if all predicted values for the RT group are within the court\n",
    "for point in predicted_trajectory_points_RT:\n",
    "    x, y, z = point\n",
    "    if not is_point_within_court(x, y, z, court_length_x, court_length_y, court_height_skybox):\n",
    "        all_within_court_RT = False\n",
    "        break\n",
    "\n",
    "# Check if all predicted values for the ET group are within the court\n",
    "for point in predicted_trajectory_points_ET:\n",
    "    x, y, z = point\n",
    "    if not is_point_within_court(x, y, z, court_length_x, court_length_y, court_height_skybox):\n",
    "        all_within_court_ET = False\n",
    "        break\n",
    "\n",
    "color = \"red\"\n",
    "predict = True\n",
    "placeholder=\"Initial Starting Point (Miss)\"\n",
    "            \n",
    "if not (all_within_court_RT and all_within_court_ET):\n",
    "    color = \"black\"\n",
    "    predict = False\n",
    "    placeholder=\"Initial Starting Point (OUT)\"\n",
    "        \n",
    "highest_xyz_points_RT = predicted_trajectory_points_RT[-1]\n",
    "highest_xyz_point_RT = predicted_trajectory_points_RT[highest_z_index_RT]\n",
    "highest_xyz_points_ET = predicted_trajectory_points_ET[-1]\n",
    "highest_xyz_point_ET = predicted_trajectory_points_ET[highest_z_index_ET]\n",
    "    \n",
    "# Average out the predicted XYZ points\n",
    "average_xyz = np.mean([highest_xyz_points_RT, highest_xyz_points_ET], axis=0)\n",
    "# Average out the highest XYZ points\n",
    "average_highest_xyz = np.mean([highest_xyz_point_RT, highest_xyz_point_ET], axis=0)\n",
    "\n",
    "# Print the count\n",
    "print(\"Is predicted Regression Tree (RT) within court: \", all_within_court_RT)\n",
    "print(\"Is predicted Extra Tree (ET) within court: \", all_within_court_ET)\n",
    "# Print the average XYZ values\n",
    "print(\"Average XYZ of Estimated Shuttlecock Position:\", average_xyz)\n",
    "\n",
    "# Add the average predicted X, Y, and Z points to the graph\n",
    "fig.add_trace(go.Scatter3d(\n",
    "    x=[average_xyz[0]],\n",
    "    y=[average_xyz[1]],\n",
    "    z=[average_xyz[2]],\n",
    "    mode='lines+markers',\n",
    "    name='Predicted Position',\n",
    "    line=dict(color=\"green\", width=5),\n",
    "    marker=dict(symbol=\"cross\", size=10, color=\"cyan\", line=dict(color=\"black\", width=4)),\n",
    "    opacity=1\n",
    "))\n",
    "\n",
    "# Add the average highest X, Y, and Z points to the graph\n",
    "fig.add_trace(go.Scatter3d(\n",
    "    x=[average_highest_xyz[0]],\n",
    "    y=[average_highest_xyz[1]],\n",
    "    z=[average_highest_xyz[2]],\n",
    "    mode='lines+markers',\n",
    "    name='Average Highest XYZ-point',\n",
    "    line=dict(color=\"green\", width=5),\n",
    "    marker=dict(symbol=\"diamond\", size=6, color=\"cyan\", line=dict(color=\"black\", width=4)),\n",
    "    opacity=1\n",
    "))\n",
    "\n",
    "# Calculate the height of the badminton racket from the ground\n",
    "badminton_height = (120 / 100) - (0.17/2)  # -> 0.17/2 assuming we want to hit it somewhere in the middle of the top quarter\n",
    "\n",
    "# Calculate the length and width of the robot\n",
    "robot_length = 20.4 / 100  # Convert length from cm to meters\n",
    "robot_width = 23 / 100  # Convert width from cm to meters\n",
    "\n",
    "# Define the range for the initial starting position\n",
    "x_range = [0, 4.72]\n",
    "y_range = [0, 5.18]\n",
    "\n",
    "# Define number of random positions to test\n",
    "no_of_random_pos = 3\n",
    "\n",
    "for i in range(no_of_random_pos):\n",
    "    # Generate random initial starting position within the specified range\n",
    "    random_initial_x = random.uniform(x_range[0], x_range[1])\n",
    "    random_initial_y = random.uniform(y_range[0], y_range[1])\n",
    "\n",
    "    # Calculate the position where the dummy robot should move to\n",
    "    robot_x = court_length_x - average_xyz[0] - robot_length - random_initial_x\n",
    "    robot_y = court_length_y - average_xyz[1] - robot_width - random_initial_y\n",
    "\n",
    "    # Calculate the distance traveled by the robot\n",
    "    robot_distance = np.sqrt(robot_x ** 2 + robot_y ** 2)\n",
    "    # Calculate the time required for the robot to move to the position\n",
    "    robot_movement_time = robot_distance / 3\n",
    "    if (all_within_court_RT and all_within_court_ET):\n",
    "        print(\"Distance: {:.2f} meters in {:.2f} seconds\".format(robot_distance, robot_movement_time))\n",
    "\n",
    "    # Calculate the adjusted z-coordinate for hitting the shuttlecock\n",
    "    robot_z = average_highest_xyz[2] - badminton_height\n",
    "\n",
    "    # Check if the average highest XYZ-point is within the court and the robot can reach the position before the ball drops\n",
    "    if (\n",
    "        average_xyz[0] >= 0\n",
    "        and average_xyz[0] <= court_length_x\n",
    "        and average_xyz[1] >= 0\n",
    "        and average_xyz[1] <= court_length_y\n",
    "        and average_highest_xyz[2] >= 0\n",
    "        and average_highest_xyz[2] <= court_height_skybox\n",
    "        and robot_movement_time <= 1.5\n",
    "        and robot_z >= 0\n",
    "    ):\n",
    "        # Add the initial starting point of the dummy robot to the graph\n",
    "        fig.add_trace(\n",
    "            go.Scatter3d(\n",
    "                x=[court_length_x - random_initial_x],\n",
    "                y=[court_length_y - random_initial_y],\n",
    "                z=[badminton_height],\n",
    "                mode=\"markers\",\n",
    "                name=\"Initial Starting Point (Hit)\",\n",
    "                marker=dict(color=\"blue\", size=10),\n",
    "                opacity=1,\n",
    "            )\n",
    "        )\n",
    "\n",
    "        # Calculate the (x, y) difference\n",
    "        x_difference = robot_x\n",
    "        y_difference = robot_y\n",
    "        \n",
    "        if (all_within_court_RT and all_within_court_ET):\n",
    "            print(f\"X difference: {x_difference}\")\n",
    "            print(f\"Y difference: {y_difference}\")\n",
    "            print(f\"Time required: {robot_movement_time} seconds\")\n",
    "            print(\"Able to reach and hit on time\")\n",
    "    else:\n",
    "        # Add the initial starting point of the dummy robot to the graph\n",
    "        fig.add_trace(\n",
    "            go.Scatter3d(\n",
    "                x=[court_length_x - random_initial_x],\n",
    "                y=[court_length_y - random_initial_y],\n",
    "                z=[badminton_height],\n",
    "                mode=\"markers\",\n",
    "                name=placeholder,\n",
    "                marker=dict(color=color, size=10),\n",
    "                opacity=0.3,\n",
    "            )\n",
    "        )\n",
    "        \n",
    "        if (all_within_court_RT and all_within_court_ET):\n",
    "            if robot_movement_time > 1.5:\n",
    "                print(f\"X difference: {x_difference}\")\n",
    "                print(f\"Y difference: {y_difference}\")\n",
    "                print(f\"Time required: {robot_movement_time} seconds\")\n",
    "                print(\"Cannot reach on time\")\n",
    "            else:\n",
    "                print(\"Cannot hit\")\n",
    "\n",
    "if (all_within_court_RT and all_within_court_ET):\n",
    "    # Add the point where the dummy robot can hit the ball to the graph\n",
    "    fig.add_trace(\n",
    "        go.Scatter3d(\n",
    "            x=[court_length_x - random_initial_x - robot_x],\n",
    "            y=[court_length_y - random_initial_y - robot_y],\n",
    "            z=[badminton_height],\n",
    "            mode=\"markers\",\n",
    "            name=\"Point to Hit the Ball\",\n",
    "            marker=dict(color=\"green\", size=10),\n",
    "            opacity=1,\n",
    "        )\n",
    ")\n",
    "\n",
    "# Show the 3D plot\n",
    "fig.show()\n",
    "\n",
    "# Save the plot as an HTML file\n",
    "offline.plot(fig, filename='interactive_models/robot_pred_limited_reg.html')"
   ]
  },
  {
   "attachments": {},
   "cell_type": "markdown",
   "metadata": {},
   "source": [
    "## Determine Point for Countermeasures\n",
    "Based on the project specificiations where \n",
    "- robot + badminton height=120cm\n",
    "- racket length is 68cm\n",
    "- robot lenght is 52cm\n",
    "- assuming top quarter of racket is top 17cm\n",
    "We assume that robot countermeasure will happen at Z = 1.2 - (0.17/2) = 1.115 because we want to hit it somewhere in the middle of the top quarter"
   ]
  },
  {
   "cell_type": "code",
   "execution_count": 267,
   "metadata": {},
   "outputs": [],
   "source": [
    "# # filter out records that are under X = 6.7\n",
    "# filtered_df = predicted_trajectory_points_RF_DF[predicted_trajectory_points_RF_DF['X'] > 6.7]\n",
    "\n",
    "# # Determine absolute difference between Z and 1.115 for the filtered dataframe\n",
    "# filtered_df['Z_diff'] = abs(filtered_df['Z'] - 1.115)\n",
    "\n",
    "# # Find the row index with the minimum difference\n",
    "# closest_row_index = filtered_df['Z_diff'].idxmin()\n",
    "\n",
    "# # Access the row with the closest Z value in the filtered dataframe\n",
    "# closest_row = filtered_df.loc[closest_row_index]\n",
    "\n",
    "# # Print the row or perform further operations\n",
    "# print(\"Data Point closest to countermeasure\")\n",
    "# print(closest_row)"
   ]
  },
  {
   "cell_type": "code",
   "execution_count": null,
   "metadata": {},
   "outputs": [],
   "source": []
  }
 ],
 "metadata": {
  "kernelspec": {
   "display_name": "Python 3 (ipykernel)",
   "language": "python",
   "name": "python3"
  },
  "language_info": {
   "codemirror_mode": {
    "name": "ipython",
    "version": 3
   },
   "file_extension": ".py",
   "mimetype": "text/x-python",
   "name": "python",
   "nbconvert_exporter": "python",
   "pygments_lexer": "ipython3",
   "version": "3.9.0"
  }
 },
 "nbformat": 4,
 "nbformat_minor": 2
}
