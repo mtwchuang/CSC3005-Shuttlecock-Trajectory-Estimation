{
 "cells": [
  {
   "cell_type": "code",
   "execution_count": 1,
   "metadata": {},
   "outputs": [
    {
     "name": "stdout",
     "output_type": "stream",
     "text": [
      "Requirement already satisfied: pandas in c:\\users\\matthew chuang\\documents\\github\\csc3005-shuttlecock-trajectory-estimation\\dependencies\\lib\\site-packages (2.0.2)\n",
      "Requirement already satisfied: python-dateutil>=2.8.2 in c:\\users\\matthew chuang\\documents\\github\\csc3005-shuttlecock-trajectory-estimation\\dependencies\\lib\\site-packages (from pandas) (2.8.2)\n",
      "Requirement already satisfied: pytz>=2020.1 in c:\\users\\matthew chuang\\documents\\github\\csc3005-shuttlecock-trajectory-estimation\\dependencies\\lib\\site-packages (from pandas) (2023.3)\n",
      "Requirement already satisfied: tzdata>=2022.1 in c:\\users\\matthew chuang\\documents\\github\\csc3005-shuttlecock-trajectory-estimation\\dependencies\\lib\\site-packages (from pandas) (2023.3)\n",
      "Requirement already satisfied: numpy>=1.20.3 in c:\\users\\matthew chuang\\documents\\github\\csc3005-shuttlecock-trajectory-estimation\\dependencies\\lib\\site-packages (from pandas) (1.23.5)\n",
      "Requirement already satisfied: six>=1.5 in c:\\users\\matthew chuang\\documents\\github\\csc3005-shuttlecock-trajectory-estimation\\dependencies\\lib\\site-packages (from python-dateutil>=2.8.2->pandas) (1.16.0)\n",
      "Note: you may need to restart the kernel to use updated packages.\n",
      "Requirement already satisfied: matplotlib in c:\\users\\matthew chuang\\documents\\github\\csc3005-shuttlecock-trajectory-estimation\\dependencies\\lib\\site-packages (3.7.1)\n",
      "Requirement already satisfied: contourpy>=1.0.1 in c:\\users\\matthew chuang\\documents\\github\\csc3005-shuttlecock-trajectory-estimation\\dependencies\\lib\\site-packages (from matplotlib) (1.1.0)\n",
      "Requirement already satisfied: cycler>=0.10 in c:\\users\\matthew chuang\\documents\\github\\csc3005-shuttlecock-trajectory-estimation\\dependencies\\lib\\site-packages (from matplotlib) (0.11.0)\n",
      "Requirement already satisfied: fonttools>=4.22.0 in c:\\users\\matthew chuang\\documents\\github\\csc3005-shuttlecock-trajectory-estimation\\dependencies\\lib\\site-packages (from matplotlib) (4.40.0)\n",
      "Requirement already satisfied: kiwisolver>=1.0.1 in c:\\users\\matthew chuang\\documents\\github\\csc3005-shuttlecock-trajectory-estimation\\dependencies\\lib\\site-packages (from matplotlib) (1.4.4)\n",
      "Requirement already satisfied: numpy>=1.20 in c:\\users\\matthew chuang\\documents\\github\\csc3005-shuttlecock-trajectory-estimation\\dependencies\\lib\\site-packages (from matplotlib) (1.23.5)\n",
      "Requirement already satisfied: packaging>=20.0 in c:\\users\\matthew chuang\\documents\\github\\csc3005-shuttlecock-trajectory-estimation\\dependencies\\lib\\site-packages (from matplotlib) (23.1)\n",
      "Requirement already satisfied: pillow>=6.2.0 in c:\\users\\matthew chuang\\documents\\github\\csc3005-shuttlecock-trajectory-estimation\\dependencies\\lib\\site-packages (from matplotlib) (9.5.0)\n",
      "Requirement already satisfied: pyparsing>=2.3.1 in c:\\users\\matthew chuang\\documents\\github\\csc3005-shuttlecock-trajectory-estimation\\dependencies\\lib\\site-packages (from matplotlib) (3.1.0)\n",
      "Requirement already satisfied: python-dateutil>=2.7 in c:\\users\\matthew chuang\\documents\\github\\csc3005-shuttlecock-trajectory-estimation\\dependencies\\lib\\site-packages (from matplotlib) (2.8.2)\n",
      "Requirement already satisfied: importlib-resources>=3.2.0 in c:\\users\\matthew chuang\\documents\\github\\csc3005-shuttlecock-trajectory-estimation\\dependencies\\lib\\site-packages (from matplotlib) (5.12.0)\n",
      "Requirement already satisfied: zipp>=3.1.0 in c:\\users\\matthew chuang\\documents\\github\\csc3005-shuttlecock-trajectory-estimation\\dependencies\\lib\\site-packages (from importlib-resources>=3.2.0->matplotlib) (3.15.0)\n",
      "Requirement already satisfied: six>=1.5 in c:\\users\\matthew chuang\\documents\\github\\csc3005-shuttlecock-trajectory-estimation\\dependencies\\lib\\site-packages (from python-dateutil>=2.7->matplotlib) (1.16.0)\n",
      "Note: you may need to restart the kernel to use updated packages.\n",
      "Requirement already satisfied: scikit-learn in c:\\users\\matthew chuang\\documents\\github\\csc3005-shuttlecock-trajectory-estimation\\dependencies\\lib\\site-packages (1.2.2)\n",
      "Requirement already satisfied: numpy>=1.17.3 in c:\\users\\matthew chuang\\documents\\github\\csc3005-shuttlecock-trajectory-estimation\\dependencies\\lib\\site-packages (from scikit-learn) (1.23.5)\n",
      "Requirement already satisfied: scipy>=1.3.2 in c:\\users\\matthew chuang\\documents\\github\\csc3005-shuttlecock-trajectory-estimation\\dependencies\\lib\\site-packages (from scikit-learn) (1.11.0)\n",
      "Requirement already satisfied: joblib>=1.1.1 in c:\\users\\matthew chuang\\documents\\github\\csc3005-shuttlecock-trajectory-estimation\\dependencies\\lib\\site-packages (from scikit-learn) (1.3.0)\n",
      "Requirement already satisfied: threadpoolctl>=2.0.0 in c:\\users\\matthew chuang\\documents\\github\\csc3005-shuttlecock-trajectory-estimation\\dependencies\\lib\\site-packages (from scikit-learn) (3.1.0)\n",
      "Note: you may need to restart the kernel to use updated packages.\n"
     ]
    }
   ],
   "source": [
    "%pip install pandas\n",
    "%pip install matplotlib\n",
    "%pip install scikit-learn"
   ]
  },
  {
   "cell_type": "code",
   "execution_count": 2,
   "metadata": {},
   "outputs": [],
   "source": [
    "import pandas as pd\n",
    "from sklearn.model_selection import train_test_split\n",
    "from sklearn.preprocessing import MinMaxScaler\n",
    "from sklearn.neighbors import KNeighborsClassifier\n",
    "from sklearn.metrics import accuracy_score\n",
    "import matplotlib.pyplot as plt"
   ]
  },
  {
   "cell_type": "code",
   "execution_count": 3,
   "metadata": {},
   "outputs": [],
   "source": [
    "# loading data\n",
    "data = pd.read_csv('cleaned_badminton_v2.csv')\n",
    "data = data.drop(columns=['Unnamed: 0'])\n",
    "\n",
    "# Assuming your data is stored in a DataFrame called 'data'\n",
    "# Drop duplicates based on 'Observation Group Number', keeping only the last record\n",
    "data.drop_duplicates(subset='OBSERVATION GROUP NUMBER', keep='last', inplace=True)\n",
    "# Define X and Y Features\n",
    "X_features = data[['HUMAN PLAYER POSITION (X) metres', \n",
    "                    'HUMAN PLAYER POSITION (Y) metres', \n",
    "                    'INITITAL VELOCITY OF SHUTTELCOCK(m/s)', \n",
    "                    'INITIAL SHUTTELCOCK FIRING ANGLE (DEGREE)', \n",
    "                    'SHUTTELCOCK SLANT ANGLE TO SIDELINE(DEGREE)',\n",
    "                    'SERVING SHOT']]\n",
    "\n",
    "Y_feature = data['OBSERVATION NUMBER']\n",
    "\n",
    "# Normalize features\n",
    "scaler = MinMaxScaler()\n",
    "X_features_normalized = scaler.fit_transform(X_features)\n",
    "\n",
    "# Split the data into train and test sets\n",
    "X_train, X_test, y_train, y_test = train_test_split(X_features_normalized, Y_feature, test_size=0.2, random_state=42)\n",
    "\n",
    "# Create a k-NN classifier object with k=6, given that I have six unique labels\n",
    "knn = KNeighborsClassifier(n_neighbors=6)"
   ]
  },
  {
   "cell_type": "code",
   "execution_count": 9,
   "metadata": {},
   "outputs": [
    {
     "name": "stdout",
     "output_type": "stream",
     "text": [
      "Accuracy: 1.0\n"
     ]
    },
    {
     "data": {
      "text/plain": [
       "array([[0.        , 0.        , 1.        , 1.        , 0.74      ,\n",
       "        0.        ],\n",
       "       [0.        , 0.        , 0.        , 0.66666667, 0.45      ,\n",
       "        0.        ],\n",
       "       [0.        , 0.        , 1.        , 1.        , 0.01      ,\n",
       "        0.        ],\n",
       "       ...,\n",
       "       [0.        , 0.66666667, 1.        , 1.        , 0.04      ,\n",
       "        0.        ],\n",
       "       [0.        , 1.        , 1.        , 1.        , 0.34      ,\n",
       "        0.        ],\n",
       "       [0.        , 0.66666667, 0.        , 0.66666667, 0.73      ,\n",
       "        0.        ]])"
      ]
     },
     "execution_count": 9,
     "metadata": {},
     "output_type": "execute_result"
    }
   ],
   "source": [
    "# Fit the classifier to the training data\n",
    "knn.fit(X_train, y_train)\n",
    "\n",
    "# Predict the labels for the test set\n",
    "y_pred = knn.predict(X_test)\n",
    "\n",
    "# Calculate the accuracy of the classifier\n",
    "accuracy = accuracy_score(y_test, y_pred)\n",
    "print(\"Accuracy:\", accuracy)\n"
   ]
  },
  {
   "cell_type": "code",
   "execution_count": 5,
   "metadata": {},
   "outputs": [
    {
     "data": {
      "image/png": "[encoded data removed]",
      "text/plain": [
       "<Figure size 640x480 with 1 Axes>"
      ]
     },
     "metadata": {},
     "output_type": "display_data"
    }
   ],
   "source": [
    "# Visualize the clusters\n",
    "plt.scatter(X_features_normalized[:, 0], X_features_normalized[:, 1], c=Y_feature)\n",
    "plt.xlabel('HUMAN PLAYER POSITION (X) metres')\n",
    "plt.ylabel('HUMAN PLAYER POSITION (Y) metres')\n",
    "plt.title('k-NN Clusters')\n",
    "plt.show()"
   ]
  }
 ],
 "metadata": {
  "kernelspec": {
   "display_name": "dependencies",
   "language": "python",
   "name": "python3"
  },
  "language_info": {
   "codemirror_mode": {
    "name": "ipython",
    "version": 3
   },
   "file_extension": ".py",
   "mimetype": "text/x-python",
   "name": "python",
   "nbconvert_exporter": "python",
   "pygments_lexer": "ipython3",
   "version": "3.9.0"
  },
  "orig_nbformat": 4
 },
 "nbformat": 4,
 "nbformat_minor": 2
}
