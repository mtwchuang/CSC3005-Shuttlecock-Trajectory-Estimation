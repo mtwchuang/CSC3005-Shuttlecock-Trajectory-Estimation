{
 "cells": [
  {
   "cell_type": "markdown",
   "metadata": {},
   "source": [
    "## Decision Tree Classifier\n",
    "##### For predicting number of Observation Sequences\n",
    "Decision Trees are supervised learning algorithms that make predictions by recursively splitting data into decision nodes based on feature values. It can handle both numerical data, making it perfect for predicting observation sequences needed for a group. \n",
    "\n",
    "To model a shuttlecock's trajectory for an observation group in a 3D space, one of the prerequisites is to obtain the total number of observation seqeunces needed for each observation group. This is predicted using a Decision Tree Classifier, to classify and predict these sequences, based on initial features such as the human player's initial position and shuttlecock's initial characteristics. \n",
    "### Dependencies for Decision Tree Classifier"
   ]
  },
  {
   "cell_type": "code",
   "execution_count": 6,
   "metadata": {},
   "outputs": [],
   "source": [
    "import pandas as pd\n",
    "from sklearn.tree import DecisionTreeClassifier\n",
    "import numpy as np\n",
    "import os\n",
    "\n",
    "# data mining and model evaluation\n",
    "from sklearn.model_selection import train_test_split\n",
    "from sklearn.metrics import accuracy_score, mean_squared_error\n",
    "from sklearn.model_selection import learning_curve\n",
    "import joblib\n",
    "\n",
    "# visualization\n",
    "import matplotlib.pyplot as plt"
   ]
  },
  {
   "cell_type": "markdown",
   "metadata": {},
   "source": [
    "### Prepare data for Decision Tree Classifer\n",
    "The decision tree is to be trained using inputs such as the human player's positions (X, Y, Z), shuttlecock's initial velocity, firing angle, slant angle to sideline. It will then be used to predict the number of observation sequences needed. Thus, for each observation group, only the last record of each observation group is retained, to allow the model to learn from steps at the end of the sequence instead of steps in the middle of the sequence. "
   ]
  },
  {
   "cell_type": "code",
   "execution_count": 7,
   "metadata": {},
   "outputs": [],
   "source": [
    "data = pd.read_csv('../../data/cleaned/normal_data.csv')\n",
    "# Drop all rows except last observation sequence, of each observation group\n",
    "data = data.drop_duplicates(subset='OBSERVATION GROUP NUMBER', keep='last')\n",
    "# Define X features\n",
    "x_feature = data[['HUMAN PLAYER POSITION(X) metres', \n",
    "    'HUMAN PLAYER POSITION(Y) metres', \n",
    "    'HUMAN PLAYER POSITION(Z) metres', \n",
    "    'INITIAL VELOCITY OF SHUTTLECOCK(m/s)', \n",
    "    'INITIAL SHUTTLECOCK FIRING ANGLE(DEGREE)', \n",
    "    'INITIAL SHUTTLECOCK SLANT ANGLE TO SIDELINE(DEGREE)']]\n",
    "# Define Y feature\n",
    "y_feature = data['OBSERVATION NUMBER']\n",
    "# Train-Test splits\n",
    "x_train, x_test, y_train, y_test = train_test_split(x_feature, y_feature, test_size=0.2, random_state=42)"
   ]
  },
  {
   "cell_type": "markdown",
   "metadata": {},
   "source": [
    "### Optimal Depth for Decision Tree Classifier\n",
    "The depth of a decision tree defines how many times the data can be split before reaching a leaf node. To find the optimal depth for the Decision Tree, multiple models are trained at different depths, and accuracy scores are recorded for both training and test sets. This ensures the best balance between performance and generalization."
   ]
  },
  {
   "cell_type": "code",
   "execution_count": 8,
   "metadata": {},
   "outputs": [
    {
     "name": "stdout",
     "output_type": "stream",
     "text": [
      "Depth: 2, Train Accuracy: 0.8396825396825397, Test Accuracy: 0.8481012658227848\n",
      "Depth: 3, Train Accuracy: 1.0, Test Accuracy: 1.0\n",
      "Depth: 4, Train Accuracy: 1.0, Test Accuracy: 1.0\n",
      "Depth: 5, Train Accuracy: 1.0, Test Accuracy: 1.0\n",
      "Depth: 6, Train Accuracy: 1.0, Test Accuracy: 1.0\n",
      "Depth: 7, Train Accuracy: 1.0, Test Accuracy: 1.0\n",
      "Depth: 8, Train Accuracy: 1.0, Test Accuracy: 1.0\n",
      "Depth: 9, Train Accuracy: 1.0, Test Accuracy: 1.0\n",
      "Depth: 10, Train Accuracy: 1.0, Test Accuracy: 1.0\n",
      "Depth: 15, Train Accuracy: 1.0, Test Accuracy: 1.0\n"
     ]
    }
   ],
   "source": [
    "# Define range of maximum depths to evaluate\n",
    "max_depths = [2,3,4,5,6,7,8,9,10,15] \n",
    "# Initialize arrays to store train-test accuracies\n",
    "train_acc = np.zeros(len(max_depths))\n",
    "test_acc = np.zeros(len(max_depths))\n",
    "# Iterate over different depth values\n",
    "for index, depth in enumerate(max_depths):\n",
    "    # Train a Decision Tree Classifier with the current max depth, using x and y training sets\n",
    "    temp_model = DecisionTreeClassifier(max_depth=depth)\n",
    "    temp_model.fit(x_train, y_train)\n",
    "    # Generate predictions on both training and test sets\n",
    "    y_pred_train = temp_model.predict(x_train)\n",
    "    y_pred_test = temp_model.predict(x_test)\n",
    "    # Compute accuracy scores and store them\n",
    "    train_acc[index] = accuracy_score(y_train, y_pred_train)\n",
    "    test_acc[index] = accuracy_score(y_test, y_pred_test)\n",
    "    print(f\"Depth: {depth}, Train Accuracy: {train_acc[index]}, Test Accuracy: {test_acc[index]}\")"
   ]
  },
  {
   "cell_type": "code",
   "execution_count": 9,
   "metadata": {},
   "outputs": [
    {
     "data": {
      "text/plain": [
       "Text(0, 0.5, 'Accuracy')"
      ]
     },
     "execution_count": 9,
     "metadata": {},
     "output_type": "execute_result"
    },
    {
     "data": {
      "image/png": "[encoded data removed]",
      "text/plain": [
       "<Figure size 640x480 with 1 Axes>"
      ]
     },
     "metadata": {},
     "output_type": "display_data"
    }
   ],
   "source": [
    "plt.plot(max_depths,train_acc,'ro-',max_depths,test_acc,'bv--')\n",
    "plt.legend(['Training Accuracy','Test Accuracy'])\n",
    "plt.xlabel('Max depth')\n",
    "plt.ylabel('Accuracy')"
   ]
  },
  {
   "cell_type": "markdown",
   "metadata": {},
   "source": [
    "From the plot generated above, the optimal elbow depth is around 4, where training and test accuracies converges as a 1.0 accuracy. The Optimal Decision Tree Classifier will be trained using this depth, and saved for further use. "
   ]
  },
  {
   "cell_type": "code",
   "execution_count": 10,
   "metadata": {},
   "outputs": [
    {
     "name": "stdout",
     "output_type": "stream",
     "text": [
      "Training Accuracy:  1.0\n",
      "Testing Accuracy:  1.0\n"
     ]
    },
    {
     "data": {
      "text/plain": [
       "['../trained_models/decision_tree_model.pkl']"
      ]
     },
     "execution_count": 10,
     "metadata": {},
     "output_type": "execute_result"
    }
   ],
   "source": [
    "# Train and fit the Decision Tree model using x and y training sets\n",
    "decision_tree_model = DecisionTreeClassifier(max_depth=4)\n",
    "decision_tree_model = decision_tree_model.fit(x_train, y_train)\n",
    "# Get results of model\n",
    "y_pred_train = decision_tree_model.predict(x_train)\n",
    "y_pred_test = decision_tree_model.predict(x_test)\n",
    "train_acc = accuracy_score(y_train, y_pred_train)\n",
    "test_acc = accuracy_score(y_test, y_pred_test)\n",
    "print(\"Training Accuracy: \", train_acc)\n",
    "print(\"Testing Accuracy: \", test_acc)\n",
    "\n",
    "# Ensure the 'trained_models' directory exists\n",
    "os.makedirs('trained_models', exist_ok=True)\n",
    "# Save the trained model to a file\n",
    "joblib.dump(decision_tree_model, '../trained_models/decision_tree_model.pkl')"
   ]
  }
 ],
 "metadata": {
  "kernelspec": {
   "display_name": "dependencies",
   "language": "python",
   "name": "python3"
  },
  "language_info": {
   "codemirror_mode": {
    "name": "ipython",
    "version": 3
   },
   "file_extension": ".py",
   "mimetype": "text/x-python",
   "name": "python",
   "nbconvert_exporter": "python",
   "pygments_lexer": "ipython3",
   "version": "3.11.1"
  }
 },
 "nbformat": 4,
 "nbformat_minor": 2
}
