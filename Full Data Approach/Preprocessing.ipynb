{
 "cells": [
  {
   "cell_type": "markdown",
   "metadata": {},
   "source": [
    "# Full Data Approach\n",
    "In this method, we use all the columns of data from two files, \"badmintondata.csv\" and \"badmintondata2.csv,\" for both training and testing. Unlike the trajectory based approach that is limited to just trajectory coordinates, there is no need to create many additional features because most of the features in the data are already important and can be directly used. Before continuing, ensure all relevant dependencies are installed from requirements.txt.\n",
    "\n",
    "Two datasets are given as\n",
    "- badminton serving data (badmintondata.csv)  : data points of shuttlecocks which are recorded in a serving trajectory\n",
    "- badminton rallying data (badmintondata2.csv) : data points of shuttlecocks which are recorded in a rallying trajectory"
   ]
  },
  {
   "cell_type": "markdown",
   "metadata": {},
   "source": [
    "### Importing libraries and dependencies"
   ]
  },
  {
   "cell_type": "code",
   "execution_count": 2,
   "metadata": {},
   "outputs": [],
   "source": [
    "# preprocessing and feature generation\n",
    "import pandas as pd\n",
    "\n",
    "# feature significance\n",
    "from sklearn.decomposition import PCA\n",
    "from sklearn.preprocessing import StandardScaler\n",
    "\n",
    "# data mining and model evaluation\n",
    "from sklearn.model_selection import train_test_split\n",
    "from sklearn.metrics import accuracy_score, mean_squared_error\n",
    "from sklearn.model_selection import learning_curve\n",
    "\n",
    "# visualization\n",
    "import matplotlib.pyplot as plt\n",
    "import plotly.graph_objects as go\n",
    "from plotly.offline import plot"
   ]
  },
  {
   "cell_type": "markdown",
   "metadata": {},
   "source": [
    "## Data Loading\n",
    "General observation about the data are that\n",
    "- Serving trajectories starts from a height of around 1.6 or 2.2\n",
    "- Rallying trajectories start from a height of either 2.6 or 3.2\n",
    "- Blank rows are used to separate observations. \n",
    "- Non-sparse data are filtered out\n",
    "\n",
    "Some derived data columns used in the preprocessing\n",
    "- \"OBSERVATION GROUP NUMBER\" - observation group an observation belongs to\n",
    "- \"OBSERVATION NUMBER\" - sequence number of an observation in a observation group\n",
    "\n",
    "### Load and Preprocess Serving Data"
   ]
  },
  {
   "cell_type": "code",
   "execution_count": 29,
   "metadata": {},
   "outputs": [],
   "source": [
    "# read csv data from badmintondata.csv\n",
    "serving_data = pd.read_csv('../badmintondata.csv')\n",
    "\n",
    "# Initialize variables\n",
    "observation_group_num = 0\n",
    "observation_num = 0\n",
    "is_group = False\n",
    "\n",
    "# Process rows\n",
    "for index, row in serving_data.iterrows():\n",
    "    # If the human player is at the 0 (invalid serve, noise), remove the row\n",
    "    if row['HUMAN PLAYER POSITION (X) metres'] == 0:\n",
    "        if is_group:\n",
    "            is_group = False\n",
    "        serving_data.drop(index, inplace=True)\n",
    "    # If the human player is at the 4 (valid serve), increase the observation number\n",
    "    elif row['HUMAN PLAYER POSITION (X) metres'] == 4:\n",
    "        # if the row is part of the same observation group\n",
    "        if is_group:\n",
    "            observation_num+=1\n",
    "        # if the row is part of a new observation group\n",
    "        else:\n",
    "            is_group = True\n",
    "            # increase observation group number by 1\n",
    "            observation_group_num+=1\n",
    "            # resets observation sequence number to 1\n",
    "            observation_num = 1\n",
    "        # Assign the observation number and observation group number to the row\n",
    "        serving_data.at[index, 'OBSERVATION NUMBER'] = observation_num\n",
    "        serving_data.at[index, 'OBSERVATION GROUP NUMBER'] = observation_group_num\n",
    "\n",
    "# Set 'OBSERVATION GROUP NUMBER' as int\n",
    "serving_data['OBSERVATION GROUP NUMBER'] = serving_data['OBSERVATION GROUP NUMBER'].astype(int)\n",
    "\n",
    "# Determine the human Z starting position based on the closest rounded version of the first Z point\n",
    "def calculate_human_position(group):\n",
    "    rounded_value_z = min(1.6, 2.2, 2.6, 3.2, key=lambda x: abs(x - group.iloc[0]['SHUTTLECOCK POSITIION IN AIR(Z) metres']))\n",
    "    group['HUMAN PLAYER POSITION (Z) metres'] = rounded_value_z\n",
    "    return group\n",
    "\n",
    "serving_data = serving_data.groupby('OBSERVATION GROUP NUMBER').apply(calculate_human_position).reset_index(drop=True)\n",
    "serving_data.to_csv('cleaned_data/serving_data.csv', index=False)\n",
    "print(\"Number of Observation Groups from Serving Data:\", serving_data[\"OBSERVATION GROUP NUMBER\"].nunique())"
   ]
  },
  {
   "cell_type": "markdown",
   "metadata": {},
   "source": [
    "### Load and Preprocess Rallying Data"
   ]
  },
  {
   "cell_type": "code",
   "execution_count": 30,
   "metadata": {},
   "outputs": [
    {
     "name": "stdout",
     "output_type": "stream",
     "text": [
      "Number of Observation Groups from Serving Data: 1212\n"
     ]
    }
   ],
   "source": [
    "# read csv data from badmintondata.csv\n",
    "rallying_data = pd.read_csv('../badmintondata2.csv')\n",
    "\n",
    "# Initialize variables\n",
    "observation_num = 0\n",
    "is_group = False\n",
    "\n",
    "# Process rows\n",
    "for index, row in rallying_data.iterrows():\n",
    "    if row['HUMAN PLAYER POSITION (X) metres'] == 0:\n",
    "        if is_group:\n",
    "            is_group = False\n",
    "        rallying_data.drop(index, inplace=True)\n",
    "    elif row['HUMAN PLAYER POSITION (X) metres'] == 4:\n",
    "        if is_group:\n",
    "            observation_num+=1\n",
    "        else:\n",
    "            is_group = True\n",
    "            # increase observation group number by 1\n",
    "            observation_group_num+=1\n",
    "            # resets observation sequence number to 1\n",
    "            observation_num = 1\n",
    "        rallying_data.at[index, 'OBSERVATION NUMBER'] = observation_num\n",
    "        rallying_data.at[index, 'OBSERVATION GROUP NUMBER'] = observation_group_num\n",
    "\n",
    "rallying_data = rallying_data.groupby('OBSERVATION GROUP NUMBER').apply(calculate_human_position).reset_index(drop=True)\n",
    "rallying_data.to_csv('cleaned_data/rallying_data.csv', index=False)\n",
    "\n",
    "print(\"Number of Observation Groups from rallying Data:\", rallying_data[\"OBSERVATION GROUP NUMBER\"].nunique())"
   ]
  },
  {
   "cell_type": "markdown",
   "metadata": {},
   "source": [
    "### Combine Serving and Rallying Data"
   ]
  },
  {
   "cell_type": "code",
   "execution_count": 32,
   "metadata": {},
   "outputs": [],
   "source": [
    "serving_data = pd.read_csv(\"cleaned_data/serving_data.csv\")\n",
    "rallying_data = pd.read_csv(\"cleaned_data/rallying_data.csv\")\n",
    "\n",
    "# combining the serving and rally dataframes\n",
    "entire_badminton_data = pd.concat([serving_data, rallying_data], ignore_index=True)\n",
    "# just renaming some of the data columns to avoid unnecessary errors\n",
    "entire_badminton_data = entire_badminton_data.rename(columns={'SHUTTLECOCK POSITIION IN AIR(X ) metres': 'SHUTTLECOCK POSITIION IN AIR(X) metres'})\n",
    "entire_badminton_data = entire_badminton_data.rename(columns={'SHUTTELCOCK SLANT ANGLE TO SIDELINE(DEGREE)': 'INITIAL SHUTTELCOCK SLANT ANGLE TO SIDELINE(DEGREE)'})\n",
    "\n",
    "entire_badminton_data.to_csv('cleaned_data/entire_data.csv', index=False)"
   ]
  }
 ],
 "metadata": {
  "kernelspec": {
   "display_name": "dependencies",
   "language": "python",
   "name": "python3"
  },
  "language_info": {
   "codemirror_mode": {
    "name": "ipython",
    "version": 3
   },
   "file_extension": ".py",
   "mimetype": "text/x-python",
   "name": "python",
   "nbconvert_exporter": "python",
   "pygments_lexer": "ipython3",
   "version": "3.9.0"
  }
 },
 "nbformat": 4,
 "nbformat_minor": 2
}
