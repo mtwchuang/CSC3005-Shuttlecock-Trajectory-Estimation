{
 "cells": [
  {
   "cell_type": "markdown",
   "metadata": {},
   "source": [
    "## Predicting Observation Steps with Decision Tree Classifier\n",
    "To accurately model a shuttlecock's trajectory across the X, Y, and Z dimensions of a badminton court, we first predict the number of observation steps (sequences) for an observation group. Once determined, we can then predict the shuttlecock's coordinates at each step. \n",
    "\n",
    "A Decision Tree Classifier was used to classify and predict the number of observation steps. \n",
    "### Importing libraries and dependencies\n"
   ]
  },
  {
   "cell_type": "code",
   "execution_count": 2,
   "metadata": {},
   "outputs": [],
   "source": [
    "import pandas as pd\n",
    "from sklearn.tree import DecisionTreeClassifier\n",
    "import numpy as np\n",
    "import os\n",
    "\n",
    "# data mining and model evaluation\n",
    "from sklearn.model_selection import train_test_split\n",
    "from sklearn.metrics import accuracy_score, mean_squared_error\n",
    "from sklearn.model_selection import learning_curve\n",
    "import joblib\n",
    "\n",
    "# visualization\n",
    "import matplotlib.pyplot as plt"
   ]
  },
  {
   "cell_type": "markdown",
   "metadata": {},
   "source": [
    "### Prepare data for Decision Tree Classifier\n",
    "To train the Decision Tree model, we select a subset of features (X) that capture key factors influencing the shuttlecock’s trajectory. Since all values are already in appropriate units, no normalization is required. The selected features are:\n",
    "- 'HUMAN PLAYER POSITION (X) metres'\n",
    "- 'HUMAN PLAYER POSITION (Y) metres'\n",
    "- 'HUMAN PLAYER POSITION (Z) metres'\n",
    "- 'INITITAL VELOCITY OF SHUTTELCOCK(m/s)'\n",
    "- 'INITIAL SHUTTELCOCK FIRING ANGLE (DEGREE)'\n",
    "- 'INITIAL SHUTTELCOCK SLANT ANGLE TO SIDELINE(DEGREE)'\n",
    "\n",
    "Additionally, we retain only the last record from each observation group to ensure that the classifier predicts the total number of observation steps for each trajectory. This prevents redundant data points from skewing the model and allows the decision tree to learn patterns from complete sequences rather than intermediate observations."
   ]
  },
  {
   "cell_type": "code",
   "execution_count": 3,
   "metadata": {},
   "outputs": [],
   "source": [
    "# Load the processed data\n",
    "data = pd.read_csv('cleaned_data/entire_data.csv')\n",
    "\n",
    "# Remove duplicate entries, keeping only the last record per observation group\n",
    "data_DT = data.drop_duplicates(subset='OBSERVATION GROUP NUMBER', keep='last')\n",
    "\n",
    "# Define input (X) and target (Y) features for classification\n",
    "X_features_DT = data_DT[['HUMAN PLAYER POSITION (X) metres', \n",
    "                        'HUMAN PLAYER POSITION (Y) metres', \n",
    "                        'HUMAN PLAYER POSITION (Z) metres', \n",
    "                        'INITITAL VELOCITY OF SHUTTELCOCK(m/s)', \n",
    "                        'INITIAL SHUTTELCOCK FIRING ANGLE (DEGREE)', \n",
    "                        'INITIAL SHUTTELCOCK SLANT ANGLE TO SIDELINE(DEGREE)']]\n",
    "Y_feature_DT = data_DT['OBSERVATION NUMBER']\n",
    "\n",
    "# Split the dataset into training and testing sets\n",
    "X_train_DT, X_test_DT, Y_train_DT, Y_test_DT = train_test_split(X_features_DT, Y_feature_DT, test_size=0.2, random_state=42)"
   ]
  },
  {
   "cell_type": "markdown",
   "metadata": {},
   "source": [
    "### Optimizing the Decision Tree Model\n",
    "To determine the optimal depth for the Decision Tree Classifier, we evaluate its performance across different maximum depth values. The model is trained using various depths, and accuracy scores are recorded for both the training and test sets."
   ]
  },
  {
   "cell_type": "code",
   "execution_count": 4,
   "metadata": {},
   "outputs": [],
   "source": [
    "# Define a range of maximum depths to test for the Decision Tree model\n",
    "maxdepths = [2,3,4,5,6,7,8,9,10,15]  # 10 different depths\n",
    "\n",
    "# Initialize arrays to store accuracy scores for training and test sets\n",
    "trainAcc_DT = np.zeros(len(maxdepths))\n",
    "testAcc_DT = np.zeros(len(maxdepths))\n",
    "\n",
    "# Iterate over different depth values to evaluate model performance\n",
    "for index, depth in enumerate(maxdepths):\n",
    "    # Train a Decision Tree Classifier with the current max depth\n",
    "    temp_model_DT = DecisionTreeClassifier(max_depth=depth)\n",
    "    temp_model_DT.fit(X_train_DT, Y_train_DT)\n",
    "    \n",
    "    # Generate predictions on both training and test sets\n",
    "    Y_predTrain = temp_model_DT.predict(X_train_DT)\n",
    "    Y_predTest = temp_model_DT.predict(X_test_DT)\n",
    "    \n",
    "    # Compute accuracy scores and store them\n",
    "    trainAcc_DT[index] = accuracy_score(Y_train_DT, Y_predTrain)\n",
    "    testAcc_DT[index] = accuracy_score(Y_test_DT, Y_predTest)"
   ]
  },
  {
   "cell_type": "code",
   "execution_count": 5,
   "metadata": {},
   "outputs": [
    {
     "data": {
      "text/plain": [
       "Text(0, 0.5, 'Accuracy')"
      ]
     },
     "execution_count": 5,
     "metadata": {},
     "output_type": "execute_result"
    },
    {
     "data": {
      "image/png": "[encoded data removed]",
      "text/plain": [
       "<Figure size 640x480 with 1 Axes>"
      ]
     },
     "metadata": {},
     "output_type": "display_data"
    }
   ],
   "source": [
    "plt.plot(maxdepths,trainAcc_DT,'ro-',maxdepths,testAcc_DT,'bv--')\n",
    "plt.legend(['Training Accuracy','Test Accuracy'])\n",
    "plt.xlabel('Max depth')\n",
    "plt.ylabel('Accuracy')"
   ]
  },
  {
   "cell_type": "markdown",
   "metadata": {},
   "source": [
    "### Train Decision Tree Model \"Model_DecisionTree\"\n",
    "Using the optimal elbow depth found in the previous segment which is 4"
   ]
  },
  {
   "cell_type": "code",
   "execution_count": 6,
   "metadata": {},
   "outputs": [
    {
     "name": "stdout",
     "output_type": "stream",
     "text": [
      "Training Accuracy:  1.0\n",
      "Testing Accuracy:  1.0\n"
     ]
    }
   ],
   "source": [
    "model_decisionTree = DecisionTreeClassifier(max_depth=4)\n",
    "model_decisionTree = model_decisionTree.fit(X_train_DT, Y_train_DT)\n",
    "\n",
    "Y_predTrain = model_decisionTree.predict(X_train_DT)\n",
    "Y_predTest = model_decisionTree.predict(X_test_DT)\n",
    "\n",
    "trainAcc_DT = accuracy_score(Y_train_DT, Y_predTrain)\n",
    "testAcc_DT = accuracy_score(Y_test_DT, Y_predTest)\n",
    "\n",
    "print(\"Training Accuracy: \", trainAcc_DT)\n",
    "print(\"Testing Accuracy: \", testAcc_DT)"
   ]
  },
  {
   "cell_type": "markdown",
   "metadata": {},
   "source": [
    "Save the trained observation step predictor"
   ]
  },
  {
   "cell_type": "code",
   "execution_count": 8,
   "metadata": {},
   "outputs": [
    {
     "ename": "NameError",
     "evalue": "name 'os' is not defined",
     "output_type": "error",
     "traceback": [
      "\u001b[1;31m---------------------------------------------------------------------------\u001b[0m",
      "\u001b[1;31mNameError\u001b[0m                                 Traceback (most recent call last)",
      "Cell \u001b[1;32mIn[8], line 2\u001b[0m\n\u001b[0;32m      1\u001b[0m \u001b[38;5;66;03m# Ensure the 'trained_models' directory exists\u001b[39;00m\n\u001b[1;32m----> 2\u001b[0m \u001b[43mos\u001b[49m\u001b[38;5;241m.\u001b[39mmakedirs(\u001b[38;5;124m'\u001b[39m\u001b[38;5;124mtrained_models\u001b[39m\u001b[38;5;124m'\u001b[39m, exist_ok\u001b[38;5;241m=\u001b[39m\u001b[38;5;28;01mTrue\u001b[39;00m)\n\u001b[0;32m      4\u001b[0m \u001b[38;5;66;03m# Save the trained model to a file\u001b[39;00m\n\u001b[0;32m      5\u001b[0m joblib\u001b[38;5;241m.\u001b[39mdump(model_decisionTree, \u001b[38;5;124m'\u001b[39m\u001b[38;5;124mtrained_models/model_DecisionTree.pkl\u001b[39m\u001b[38;5;124m'\u001b[39m)\n",
      "\u001b[1;31mNameError\u001b[0m: name 'os' is not defined"
     ]
    }
   ],
   "source": [
    "# Ensure the 'trained_models' directory exists\n",
    "os.makedirs('trained_models', exist_ok=True)\n",
    "\n",
    "# Save the trained model to a file\n",
    "joblib.dump(model_decisionTree, 'trained_models/model_DecisionTree.pkl')"
   ]
  }
 ],
 "metadata": {
  "kernelspec": {
   "display_name": "dependencies",
   "language": "python",
   "name": "python3"
  },
  "language_info": {
   "codemirror_mode": {
    "name": "ipython",
    "version": 3
   },
   "file_extension": ".py",
   "mimetype": "text/x-python",
   "name": "python",
   "nbconvert_exporter": "python",
   "pygments_lexer": "ipython3",
   "version": "3.9.0"
  }
 },
 "nbformat": 4,
 "nbformat_minor": 2
}
