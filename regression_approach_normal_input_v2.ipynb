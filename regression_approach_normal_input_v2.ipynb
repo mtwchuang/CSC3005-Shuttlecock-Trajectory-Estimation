{
 "cells": [
  {
   "attachments": {},
   "cell_type": "markdown",
   "metadata": {},
   "source": [
    "# Regressive Normal Input Approach\n",
    "This approach assumes that input for both training and testing is based of all the input data columns  from the \"badmintondata.csv\" and \"badmintondata2.csv\" files. Compared to the limited input approach, lesser features has to be generated as most of the features from the data are significance enough to be used. \n",
    "\n",
    "Random Forest Regressor is used to predict the data points of the trajectory, Decision Tree Classifier is used to determine number of observations an observation groups has."
   ]
  },
  {
   "attachments": {},
   "cell_type": "markdown",
   "metadata": {},
   "source": [
    "## Importing Libraries and Dependencies"
   ]
  },
  {
   "cell_type": "code",
   "execution_count": 1,
   "metadata": {},
   "outputs": [],
   "source": [
    "# %pip install pandas\n",
    "# %pip install plotly\n",
    "# %pip install scikit-learn\n",
    "# %pip install numpy\n",
    "# %pip install nbformat\n",
    "# %pip install matplotlib"
   ]
  },
  {
   "cell_type": "code",
   "execution_count": 2,
   "metadata": {},
   "outputs": [],
   "source": [
    "# preprocessing and feature generation\n",
    "import pandas as pd\n",
    "import numpy as np\n",
    "import math\n",
    "import random\n",
    "\n",
    "# feature significance\n",
    "from sklearn.decomposition import PCA\n",
    "from sklearn.preprocessing import StandardScaler\n",
    "\n",
    "# data mining and model evaluation\n",
    "from sklearn.model_selection import train_test_split\n",
    "from sklearn.metrics import accuracy_score, mean_squared_error\n",
    "from sklearn.model_selection import learning_curve\n",
    "\n",
    "# visualization\n",
    "import matplotlib.pyplot as plt\n",
    "import plotly.graph_objects as go\n",
    "from plotly.offline import plot"
   ]
  },
  {
   "attachments": {},
   "cell_type": "markdown",
   "metadata": {},
   "source": [
    "## Stage: Preprocessing\n",
    "Loading in Badminton Data\n",
    "- Blank rows are used to separarate observations. \n",
    "- Non-sparse data are filtered out\n",
    "- Data is grouped into observations labelled under data column \"OBSERVATION GROUP NUMBER\"\n",
    "- Data is also sequenced within each observation group with \"OBSERVATION NUMBER\"\n",
    "- There are a total of 365 (index 0 - 364) observation groups here\n",
    "\n",
    "Code is currently commented out as results has already been extracted"
   ]
  },
  {
   "cell_type": "code",
   "execution_count": 3,
   "metadata": {},
   "outputs": [],
   "source": [
    "# # read csv data from badmintondata.csv\n",
    "# serving_data = pd.read_csv('badmintondata.csv')\n",
    "\n",
    "# # Initialize variables\n",
    "# observation_group_num = 0\n",
    "# observation_num = 0\n",
    "# is_group = False\n",
    "\n",
    "# # Process rows\n",
    "# for index, row in serving_data.iterrows():\n",
    "#     if row['HUMAN PLAYER POSITION (X) metres'] == 0:\n",
    "#         if is_group:\n",
    "#             is_group = False\n",
    "#         serving_data.drop(index, inplace=True)\n",
    "#     elif row['HUMAN PLAYER POSITION (X) metres'] == 4:\n",
    "#         if is_group:\n",
    "#             observation_num+=1\n",
    "#         else:\n",
    "#             is_group = True\n",
    "#             # increase observation group number by 1\n",
    "#             observation_group_num+=1\n",
    "#             # resets observation sequence number to 1\n",
    "#             observation_num = 1\n",
    "#         serving_data.at[index, 'OBSERVATION NUMBER'] = observation_num\n",
    "#         serving_data.at[index, 'OBSERVATION GROUP NUMBER'] = observation_group_num\n",
    "\n",
    "# # Set 'OBSERVATION GROUP NUMBER' as int\n",
    "# serving_data['OBSERVATION GROUP NUMBER'] = serving_data['OBSERVATION GROUP NUMBER'].astype(int)\n",
    "# serving_data['HUMAN PLAYER POSITION (Z) metres'] = 1.6\n",
    "# serving_data.to_csv('normal_data/normal_serving_data.csv')"
   ]
  },
  {
   "attachments": {},
   "cell_type": "markdown",
   "metadata": {},
   "source": [
    "Loading in the Badminton Rallying Data. \n",
    "- Blank rows are used to separarate observations. \n",
    "- Non-sparse data are filtered out\n",
    "- Data is grouped into observations labelled under data column \"OBSERVATION GROUP NUMBER\"\n",
    "- Data is also sequenced within each observation group with \"OBSERVATION NUMBER\"\n",
    "- There are a total of 1212 (index 365 - 1576) observation groups here\n",
    "\n",
    "Code is currently commented out as results has already been extracted"
   ]
  },
  {
   "cell_type": "code",
   "execution_count": 4,
   "metadata": {},
   "outputs": [],
   "source": [
    "# # read csv data from badmintondata.csv\n",
    "# rallying_data = pd.read_csv('badmintondata2.csv')\n",
    "\n",
    "# # Initialize variables\n",
    "# observation_num = 0\n",
    "# is_group = False\n",
    "\n",
    "# # Process rows\n",
    "# for index, row in rallying_data.iterrows():\n",
    "#     if row['HUMAN PLAYER POSITION (X) metres'] == 0:\n",
    "#         if is_group:\n",
    "#             is_group = False\n",
    "#         rallying_data.drop(index, inplace=True)\n",
    "#     elif row['HUMAN PLAYER POSITION (X) metres'] == 4:\n",
    "#         if is_group:\n",
    "#             observation_num+=1\n",
    "#         else:\n",
    "#             is_group = True\n",
    "#             # increase observation group number by 1\n",
    "#             observation_group_num+=1\n",
    "#             # resets observation sequence number to 1\n",
    "#             observation_num = 1\n",
    "#         rallying_data.at[index, 'OBSERVATION NUMBER'] = observation_num\n",
    "#         rallying_data.at[index, 'OBSERVATION GROUP NUMBER'] = observation_group_num\n",
    "\n",
    "# # Set 'OBSERVATION GROUP NUMBER' as int\n",
    "# rallying_data['OBSERVATION GROUP NUMBER'] = rallying_data['OBSERVATION GROUP NUMBER'].astype(int)\n",
    "# rallying_data['HUMAN PLAYER POSITION (Z) metres'] = 2.6\n",
    "# rallying_data.to_csv('normal_data/normal_rallying_data.csv')"
   ]
  },
  {
   "attachments": {},
   "cell_type": "markdown",
   "metadata": {},
   "source": [
    "Combining serving and rallying data"
   ]
  },
  {
   "cell_type": "code",
   "execution_count": 5,
   "metadata": {},
   "outputs": [],
   "source": [
    "# # combining the serving and rally dataframes\n",
    "# normal_badminton_data = pd.concat([serving_data, rallying_data], ignore_index=True)\n",
    "# # just renaming some of the data columns to avoid unnecessary errors\n",
    "# normal_badminton_data = normal_badminton_data.rename(columns={'SHUTTLECOCK POSITIION IN AIR(X ) metres': 'SHUTTLECOCK POSITIION IN AIR(X) metres'})\n",
    "# normal_badminton_data = normal_badminton_data.rename(columns={'SHUTTELCOCK SLANT ANGLE TO SIDELINE(DEGREE)': 'INITIAL SHUTTELCOCK SLANT ANGLE TO SIDELINE(DEGREE)'})\n",
    "\n",
    "# normal_badminton_data.to_csv('normal_data/normal_badminton_data.csv')"
   ]
  },
  {
   "attachments": {},
   "cell_type": "markdown",
   "metadata": {},
   "source": [
    "label data if they are are out of bounds within the observations using data column \"OUT OF BOUNDS\". This includes\n",
    "- Data that exceeds the X axis (hit too far on both sides) X < 0 OR X > 13.4\n",
    "- Data that exceeds the Y axis (hit out of court on left or right side) Y < 0 OR Y > 5.18\n",
    "- Data that is out of bounds labelled as 1, no 0\n",
    "\n",
    "OPTIONAL, if needed"
   ]
  },
  {
   "cell_type": "code",
   "execution_count": 6,
   "metadata": {},
   "outputs": [],
   "source": [
    "# # labelling data if its out of bounds\n",
    "# unique_observation_number = badminton_data['OBSERVATION GROUP NUMBER'].unique()\n",
    "# for obs_grp_number in unique_observation_number:\n",
    "#     last_row = badminton_data[badminton_data['OBSERVATION GROUP NUMBER'] == obs_grp_number].tail(1)\n",
    "#     # Check the conditions for 'Shuttlecock Position in Air X' and 'Shuttlecock Position in Air Y'\n",
    "#     if (last_row['SHUTTLECOCK POSITIION IN AIR(X ) metres'].values[0] < 0 or\n",
    "#         last_row['SHUTTLECOCK POSITIION IN AIR(X ) metres'].values[0] > 13.4 or\n",
    "#         last_row['SHUTTLECOCK POSITIION IN AIR(Y) metres'].values[0] < 0 or\n",
    "#         last_row['SHUTTLECOCK POSITIION IN AIR(Y) metres'].values[0] > 5.18):\n",
    "        \n",
    "#         # Set 'OUT OF BOUNDS' column to 1 for the corresponding observation number\n",
    "#         badminton_data.loc[badminton_data['OBSERVATION GROUP NUMBER'] == obs_grp_number, 'OUT OF BOUNDS'] = 1\n",
    "#     else:\n",
    "#         badminton_data.loc[badminton_data['OBSERVATION GROUP NUMBER'] == obs_grp_number, 'OUT OF BOUNDS']"
   ]
  },
  {
   "attachments": {},
   "cell_type": "markdown",
   "metadata": {},
   "source": [
    "## Feature Significance\n",
    "Selecting features to test significance using PCA and standardizing them. "
   ]
  },
  {
   "cell_type": "code",
   "execution_count": 7,
   "metadata": {},
   "outputs": [],
   "source": [
    "# load combined data\n",
    "normal_badminton_data = pd.read_csv('normal_data/normal_badminton_data.csv')\n",
    "normal_badminton_data = normal_badminton_data.drop(columns=['Unnamed: 0'])\n",
    "# determine x features\n",
    "X_normal_features = normal_badminton_data.drop(columns=['OBSERVATION GROUP NUMBER',\n",
    "                                            'SHUTTLECOCK POSITIION IN AIR(X) metres', \n",
    "                                            'SHUTTLECOCK POSITIION IN AIR(Y) metres', \n",
    "                                            'SHUTTLECOCK POSITIION IN AIR(Z) metres'])\n",
    "# Standardize the data\n",
    "scaler = StandardScaler()\n",
    "X_features_norm = scaler.fit_transform(X_normal_features)"
   ]
  },
  {
   "cell_type": "code",
   "execution_count": 8,
   "metadata": {},
   "outputs": [
    {
     "name": "stdout",
     "output_type": "stream",
     "text": [
      "Feature OBSERVATION NUMBER: Significance = 0.17417663070901712\n",
      "Feature INITIAL SHUTTELCOCK FIRING ANGLE (DEGREE): Significance = 0.16891108945853878\n",
      "Feature INITIAL SHUTTELCOCK SLANT ANGLE TO SIDELINE(DEGREE): Significance = 0.15498260007946207\n",
      "Feature HUMAN PLAYER POSITION (Z) metres: Significance = 0.14545121940752978\n",
      "Feature INITITAL VELOCITY OF SHUTTELCOCK(m/s): Significance = 0.13877424720714093\n",
      "Feature HUMAN PLAYER POSITION (Y) metres: Significance = 0.13270330344128434\n",
      "Feature HUMAN PLAYER POSITION (X) metres: Significance = 0.08500090969702699\n"
     ]
    },
    {
     "data": {
      "image/png": "[encoded data removed]",
      "text/plain": [
       "<Figure size 640x480 with 1 Axes>"
      ]
     },
     "metadata": {},
     "output_type": "display_data"
    }
   ],
   "source": [
    "# instantiate PCA object, fit model\n",
    "pca = PCA()\n",
    "pca.fit(X_features_norm)\n",
    "\n",
    "# loadings refer to the coefficients or weights that determine the contribution of each feature to the principal components\n",
    "# Get the absolute loadings for each feature in each principal component\n",
    "absolute_loadings = np.abs(pca.components_)\n",
    "# Calculate the total sum of absolute loadings for each feature across all principal components\n",
    "total_loadings = np.sum(absolute_loadings, axis=0)\n",
    "\n",
    "# Calculate the relative contribution of each feature to the total loadings\n",
    "relative_contribution = total_loadings / np.sum(total_loadings)\n",
    "\n",
    "# Sort the features based on their relative contribution\n",
    "sorted_features = np.argsort(relative_contribution)[::-1]\n",
    "feature_names = X_normal_features.columns\n",
    "# Print the significance of each feature\n",
    "for feature_idx in sorted_features:\n",
    "    print(f\"Feature {feature_names[feature_idx]}: Significance = {relative_contribution[feature_idx]}\")\n",
    "\n",
    "# Plot the significance of each feature\n",
    "plt.bar(range(len(sorted_features)), relative_contribution[sorted_features])\n",
    "plt.xlabel('Features')\n",
    "plt.ylabel('Significance')\n",
    "plt.title('Significance of Features in PCA')\n",
    "plt.xticks(range(len(sorted_features)), feature_names[sorted_features], rotation=90)\n",
    "# plt.xticks(range(len(sorted_features)), sorted_features)\n",
    "plt.show()"
   ]
  },
  {
   "attachments": {},
   "cell_type": "markdown",
   "metadata": {},
   "source": [
    "## Stage: Data Mining\n",
    "### Preparing data for Decision Tree Classifier\n",
    "To determine observation steps needed for a trajectory, only these X features are needed. No normalization is needed\n",
    "- 'HUMAN PLAYER POSITION (X) metres'\n",
    "- 'HUMAN PLAYER POSITION (Y) metres'\n",
    "- 'HUMAN PLAYER POSITION (Z) metres'\n",
    "- 'INITITAL VELOCITY OF SHUTTELCOCK(m/s)'\n",
    "- 'INITIAL SHUTTELCOCK FIRING ANGLE (DEGREE)'\n",
    "- 'INITIAL SHUTTELCOCK SLANT ANGLE TO SIDELINE(DEGREE)'"
   ]
  },
  {
   "cell_type": "code",
   "execution_count": 9,
   "metadata": {},
   "outputs": [],
   "source": [
    "# loading data\n",
    "data = pd.read_csv('normal_data/normal_badminton_data.csv')\n",
    "data = data.drop(columns=['Unnamed: 0'])\n",
    "\n",
    "# Drop duplicates based on 'Observation Group Number', keeping only the last record\n",
    "data_DT = data.copy()\n",
    "data_DT = data_DT.drop_duplicates(subset='OBSERVATION GROUP NUMBER', keep='last')\n",
    "\n",
    "# Define X and Y Features for Decision Tree\n",
    "X_features_DT = data_DT[['HUMAN PLAYER POSITION (X) metres', \n",
    "                        'HUMAN PLAYER POSITION (Y) metres', \n",
    "                        'HUMAN PLAYER POSITION (Z) metres', \n",
    "                        'INITITAL VELOCITY OF SHUTTELCOCK(m/s)', \n",
    "                        'INITIAL SHUTTELCOCK FIRING ANGLE (DEGREE)', \n",
    "                        'INITIAL SHUTTELCOCK SLANT ANGLE TO SIDELINE(DEGREE)']]\n",
    "\n",
    "Y_feature_DT = data_DT['OBSERVATION NUMBER']\n",
    "\n",
    "\n",
    "# Split the data into train/test, X/Y for Decision Tree Classifier\n",
    "X_train_DT, X_test_DT, Y_train_DT, Y_test_DT = train_test_split(X_features_DT, Y_feature_DT, test_size=0.2, random_state=42)"
   ]
  },
  {
   "attachments": {},
   "cell_type": "markdown",
   "metadata": {},
   "source": [
    "### Finding Optimal Decision Tree Model\n",
    "To predict total observation time based on the independent feature supplied. Predicts a set of observation take"
   ]
  },
  {
   "cell_type": "code",
   "execution_count": 10,
   "metadata": {},
   "outputs": [],
   "source": [
    "from sklearn.tree import DecisionTreeClassifier\n",
    "maxdepths = [2,3,4,5,6,7,8,9,10,15]  # 10 different depths\n",
    "\n",
    "# containers to store train/test accuracy rates\n",
    "trainAcc_DT = np.zeros(len(maxdepths))\n",
    "testAcc_DT = np.zeros(len(maxdepths))\n",
    "\n",
    "index = 0\n",
    "for depth in maxdepths:\n",
    "    # training decision tree with depth lengths\n",
    "    temp_model_DT = DecisionTreeClassifier(max_depth=depth)\n",
    "    temp_model_DT = temp_model_DT.fit(X_train_DT, Y_train_DT)\n",
    "    # generate predictions using the model trained, for the training data (X) and test data (X)\n",
    "    Y_predTrain = temp_model_DT.predict(X_train_DT)\n",
    "    Y_predTest = temp_model_DT.predict(X_test_DT)\n",
    "    # compare the predicted values and compare against original values for accuracy\n",
    "    trainAcc_DT[index] = accuracy_score(Y_train_DT, Y_predTrain)\n",
    "    testAcc_DT[index] = accuracy_score(Y_test_DT, Y_predTest)\n",
    "    index += 1"
   ]
  },
  {
   "cell_type": "code",
   "execution_count": 11,
   "metadata": {},
   "outputs": [
    {
     "data": {
      "text/plain": [
       "Text(0, 0.5, 'Accuracy')"
      ]
     },
     "execution_count": 11,
     "metadata": {},
     "output_type": "execute_result"
    },
    {
     "data": {
      "image/png": "[encoded data removed]",
      "text/plain": [
       "<Figure size 640x480 with 1 Axes>"
      ]
     },
     "metadata": {},
     "output_type": "display_data"
    }
   ],
   "source": [
    "plt.plot(maxdepths,trainAcc_DT,'ro-',maxdepths,testAcc_DT,'bv--')\n",
    "plt.legend(['Training Accuracy','Test Accuracy'])\n",
    "plt.xlabel('Max depth')\n",
    "plt.ylabel('Accuracy')"
   ]
  },
  {
   "attachments": {},
   "cell_type": "markdown",
   "metadata": {},
   "source": [
    "### Train Decision Tree Model \"Model_DecisionTree\"\n",
    "Using the optimal elbow depth found in the previous segment which is 3"
   ]
  },
  {
   "cell_type": "code",
   "execution_count": 12,
   "metadata": {},
   "outputs": [
    {
     "name": "stdout",
     "output_type": "stream",
     "text": [
      "Training Accuracy:  1.0\n",
      "Testing Accuracy:  1.0\n"
     ]
    }
   ],
   "source": [
    "model_decisionTree = DecisionTreeClassifier(max_depth=3)\n",
    "model_decisionTree = model_decisionTree.fit(X_train_DT, Y_train_DT)\n",
    "\n",
    "Y_predTrain = model_decisionTree.predict(X_train_DT)\n",
    "Y_predTest = model_decisionTree.predict(X_test_DT)\n",
    "\n",
    "trainAcc_DT = accuracy_score(Y_train_DT, Y_predTrain)\n",
    "testAcc_DT = accuracy_score(Y_test_DT, Y_predTest)\n",
    "print(\"Training Accuracy: \", trainAcc_DT)\n",
    "print(\"Testing Accuracy: \", testAcc_DT)"
   ]
  },
  {
   "attachments": {},
   "cell_type": "markdown",
   "metadata": {},
   "source": [
    "### Preparing data for Regression Models\n",
    "There are two approaches to data train-test splitting. \n",
    "- Data can be either split randomly by rows (Higher accuracy, lower error margin, messier model visualization)\n",
    "- Data can be split randomly based on their observations groups. (Lower accuracy, nicer and neater model visualization)\n",
    "Two segments of code are provided below. Choose train/test split approach and commment out the other code"
   ]
  },
  {
   "cell_type": "code",
   "execution_count": null,
   "metadata": {},
   "outputs": [],
   "source": [
    "# APPROACH FOR RANDOMLY SPLITTING BY ROWS\n",
    "X_features_Regression = data[['HUMAN PLAYER POSITION (X) metres', \n",
    "                        'HUMAN PLAYER POSITION (Y) metres', \n",
    "                        'HUMAN PLAYER POSITION (Z) metres',\n",
    "                        'INITITAL VELOCITY OF SHUTTELCOCK(m/s)', \n",
    "                        'INITIAL SHUTTELCOCK FIRING ANGLE (DEGREE)', \n",
    "                        'INITIAL SHUTTELCOCK SLANT ANGLE TO SIDELINE(DEGREE)',\n",
    "                        'OBSERVATION NUMBER']]\n",
    "\n",
    "Y_features_Regression = data[['SHUTTLECOCK POSITIION IN AIR(X) metres', \n",
    "                        'SHUTTLECOCK POSITIION IN AIR(Y) metres', \n",
    "                        'SHUTTLECOCK POSITIION IN AIR(Z) metres']]\n",
    "\n",
    "X_train_Regression, X_test_Regression, Y_train_Regression, Y_test_Regression = train_test_split(X_features_Regression, Y_features_Regression, test_size=0.2, random_state=42)"
   ]
  },
  {
   "cell_type": "code",
   "execution_count": 13,
   "metadata": {},
   "outputs": [],
   "source": [
    "# # Define X and Y features\n",
    "# X_features_Regression = data[['HUMAN PLAYER POSITION (X) metres', \n",
    "#                         'HUMAN PLAYER POSITION (Y) metres', \n",
    "#                         'HUMAN PLAYER POSITION (Z) metres',\n",
    "#                         'INITITAL VELOCITY OF SHUTTELCOCK(m/s)', \n",
    "#                         'INITIAL SHUTTELCOCK FIRING ANGLE (DEGREE)', \n",
    "#                         'INITIAL SHUTTELCOCK SLANT ANGLE TO SIDELINE(DEGREE)',\n",
    "#                         'OBSERVATION NUMBER']]\n",
    "\n",
    "# Y_features_Regression = data[['SHUTTLECOCK POSITIION IN AIR(X) metres', \n",
    "#                         'SHUTTLECOCK POSITIION IN AIR(Y) metres', \n",
    "#                         'SHUTTLECOCK POSITIION IN AIR(Z) metres']]\n",
    "\n",
    "# # contains all the observation group numbers in data\n",
    "# unique_observation_grps = data['OBSERVATION GROUP NUMBER'].unique() # list of [1 to 1576]\n",
    "# # shuffle order\n",
    "# random.shuffle(unique_observation_grps)\n",
    "\n",
    "# # index of training sets\n",
    "# training_test_split_idx = int(0.8*len(unique_observation_grps))\n",
    "# # containers to store all the respective train and test observation groups idx from data\n",
    "# train_idxes = unique_observation_grps[:training_test_split_idx]\n",
    "# test_idxes = unique_observation_grps[training_test_split_idx:]\n",
    "\n",
    "# train_data = data[data['OBSERVATION GROUP NUMBER'].isin(train_idxes)]\n",
    "# test_data = data[data['OBSERVATION GROUP NUMBER'].isin(test_idxes)]\n",
    "\n",
    "# X_train_Regression = train_data[['HUMAN PLAYER POSITION (X) metres', \n",
    "#                         'HUMAN PLAYER POSITION (Y) metres', \n",
    "#                         'HUMAN PLAYER POSITION (Z) metres',\n",
    "#                         'INITITAL VELOCITY OF SHUTTELCOCK(m/s)', \n",
    "#                         'INITIAL SHUTTELCOCK FIRING ANGLE (DEGREE)', \n",
    "#                         'INITIAL SHUTTELCOCK SLANT ANGLE TO SIDELINE(DEGREE)',\n",
    "#                         'OBSERVATION NUMBER']]\n",
    "\n",
    "# Y_train_Regression = train_data[['SHUTTLECOCK POSITIION IN AIR(X) metres', \n",
    "#                       'SHUTTLECOCK POSITIION IN AIR(Y) metres', \n",
    "#                       'SHUTTLECOCK POSITIION IN AIR(Z) metres']]\n",
    "\n",
    "# X_test_Regression = test_data[['HUMAN PLAYER POSITION (X) metres', \n",
    "#                         'HUMAN PLAYER POSITION (Y) metres', \n",
    "#                         'HUMAN PLAYER POSITION (Z) metres',\n",
    "#                         'INITITAL VELOCITY OF SHUTTELCOCK(m/s)', \n",
    "#                         'INITIAL SHUTTELCOCK FIRING ANGLE (DEGREE)', \n",
    "#                         'INITIAL SHUTTELCOCK SLANT ANGLE TO SIDELINE(DEGREE)',\n",
    "#                         'OBSERVATION NUMBER']]\n",
    "\n",
    "# Y_test_Regression = test_data[['SHUTTLECOCK POSITIION IN AIR(X) metres', \n",
    "#                     'SHUTTLECOCK POSITIION IN AIR(Y) metres', \n",
    "#                     'SHUTTLECOCK POSITIION IN AIR(Z) metres']]"
   ]
  },
  {
   "attachments": {},
   "cell_type": "markdown",
   "metadata": {},
   "source": [
    "### Random Forest Regressor\n",
    "Random Forest is an ensemble learning algorithm that combines multiple decision trees to make predictions. It can handle both numerical and categorical data and is capable of capturing complex relationships in the data. It does not require feature standardization as they are not sensitive to the scale of the features. Random Forest algorithms work by creating decision trees based on random subsets of features, and each decision tree independently makes decisions based on these features.\n",
    "#### Dependencies for Random Forest Regressor"
   ]
  },
  {
   "cell_type": "code",
   "execution_count": 14,
   "metadata": {},
   "outputs": [],
   "source": [
    "from sklearn.ensemble import RandomForestRegressor  # for regression tasks"
   ]
  },
  {
   "attachments": {},
   "cell_type": "markdown",
   "metadata": {},
   "source": [
    "### Optimizing Random Forest Regressor\n",
    "Building multiple models with different depths to find best model with lowest mean squared error. Best depth should be 15"
   ]
  },
  {
   "cell_type": "code",
   "execution_count": 15,
   "metadata": {},
   "outputs": [],
   "source": [
    "# # Define a list of depths to test\n",
    "# depths = [5, 10, 15, 20, 25, 30]\n",
    "# mse_scores_depth_RF = []\n",
    "\n",
    "# # Iterate over different depths and calculate MSE\n",
    "# for depth in depths:\n",
    "#     temp_model_RF = RandomForestRegressor(n_estimators=100, max_depth=depth, random_state=42)\n",
    "#     temp_model_RF.fit(X_train_Regression, Y_train_Regression)\n",
    "#     temp_y_pred_RF = temp_model_RF.predict(X_test_Regression)\n",
    "#     temp_mse_depth_RF = mean_squared_error(Y_test_Regression, temp_y_pred_RF)\n",
    "#     mse_scores_depth_RF.append(temp_mse_depth_RF)\n",
    "# print(mse_scores_depth_RF)"
   ]
  },
  {
   "cell_type": "code",
   "execution_count": 16,
   "metadata": {},
   "outputs": [],
   "source": [
    "# # Plotting the MSE scores\n",
    "# plt.plot(depths, mse_scores_depth_RF, marker='o')\n",
    "# plt.xlabel('Depth')\n",
    "# plt.ylabel('Mean Squared Error')\n",
    "# plt.title('Mean Squared Error vs. Depth for Random Forest Regressor')\n",
    "# plt.show()"
   ]
  },
  {
   "attachments": {},
   "cell_type": "markdown",
   "metadata": {},
   "source": [
    "Building multiple models with different number of decision trees \"n_estimators\" to find best \"n_estimator\". Best number of decision trees should be 200"
   ]
  },
  {
   "cell_type": "code",
   "execution_count": 17,
   "metadata": {},
   "outputs": [],
   "source": [
    "# # Define a list of n_estimators to test\n",
    "# n_estimators_values = [50, 100, 150, 200, 250, 300]\n",
    "# mse_score_nestimator_RF = []\n",
    "\n",
    "# # Iterate over different n_estimators and calculate MSE\n",
    "# for n_estimators in n_estimators_values:\n",
    "#     temp_model_RF = RandomForestRegressor(n_estimators=n_estimators, max_depth=15, random_state=42)\n",
    "#     temp_model_RF.fit(X_train_Regression, Y_train_Regression)\n",
    "#     temp_y_pred_RF = temp_model_RF.predict(X_test_Regression)\n",
    "#     temp_mse_nestimator_RF = mean_squared_error(Y_test_Regression, temp_y_pred_RF)\n",
    "#     mse_score_nestimator_RF.append(temp_mse_nestimator_RF)\n",
    "# print(mse_score_nestimator_RF)"
   ]
  },
  {
   "cell_type": "code",
   "execution_count": 18,
   "metadata": {},
   "outputs": [],
   "source": [
    "# # Plotting the MSE scores\n",
    "# plt.plot(n_estimators_values, mse_score_nestimator_RF, marker='o')\n",
    "# plt.xlabel('n_estimators')\n",
    "# plt.ylabel('Mean Squared Error')\n",
    "# plt.title('Mean Squared Error vs. n_estimators for Random Forest Regressor')\n",
    "# plt.show()"
   ]
  },
  {
   "attachments": {},
   "cell_type": "markdown",
   "metadata": {},
   "source": [
    "### Training with Best Random Forest Regressor\n",
    "This model will allow us predict an X, Y, Z coordinate in relation to the independent features supplied"
   ]
  },
  {
   "cell_type": "code",
   "execution_count": 19,
   "metadata": {},
   "outputs": [],
   "source": [
    "model_randomForest = RandomForestRegressor(n_estimators=100, max_depth=15, random_state=42)  # for regression\n",
    "\n",
    "model_randomForest.fit(X_train_Regression, Y_train_Regression)\n",
    "y_pred_RF = model_randomForest.predict(X_test_Regression)"
   ]
  },
  {
   "attachments": {},
   "cell_type": "markdown",
   "metadata": {},
   "source": [
    "### Training Evaluation of Random Forest Regressor\n",
    "Mean squared error and root mean squared errors are error margin metrics for regression models. Refer to root mean squared error for a closer error margin to original metric"
   ]
  },
  {
   "cell_type": "code",
   "execution_count": 20,
   "metadata": {},
   "outputs": [
    {
     "name": "stdout",
     "output_type": "stream",
     "text": [
      "Mean Squared Error: 0.0038229267222102785\n",
      "Root Mean Squared Error: 0.061829820654844846\n"
     ]
    }
   ],
   "source": [
    "mse_RF = mean_squared_error(Y_test_Regression, y_pred_RF)\n",
    "print(\"Mean Squared Error:\", mse_RF)\n",
    "rmse_RF = math.sqrt(mse_RF)\n",
    "print(\"Root Mean Squared Error:\", rmse_RF)"
   ]
  },
  {
   "attachments": {},
   "cell_type": "markdown",
   "metadata": {},
   "source": [
    "Check for generalization of data and if data is able to capture underlying pattern properly. This is done with a learning curve, with a negative mean squared metric. If the training and validation lines converge at a low error rate, that means that the model is well generalized and captures patterns properly"
   ]
  },
  {
   "cell_type": "code",
   "execution_count": 21,
   "metadata": {},
   "outputs": [],
   "source": [
    "# # Calculate the learning curves\n",
    "# train_sizes, train_scores, val_scores = learning_curve(model_randomForest, X_train_Regression, Y_train_Regression, cv=5, scoring='neg_mean_squared_error')\n",
    "\n",
    "# # Calculate the mean and standard deviation of train and validation scores\n",
    "# train_mean = -np.mean(train_scores, axis=1)\n",
    "# train_std = np.std(train_scores, axis=1)\n",
    "# val_mean = -np.mean(val_scores, axis=1)\n",
    "# val_std = np.std(val_scores, axis=1)"
   ]
  },
  {
   "cell_type": "code",
   "execution_count": 22,
   "metadata": {},
   "outputs": [],
   "source": [
    "# # Plot the learning curves\n",
    "# plt.figure(figsize=(10, 7))\n",
    "# plt.plot(train_sizes, train_mean, label='Training score', color='blue')\n",
    "# plt.fill_between(train_sizes, train_mean - train_std, train_mean + train_std, alpha=0.1, color='blue')\n",
    "# plt.plot(train_sizes, val_mean, label='Validation score', color='red')\n",
    "# plt.fill_between(train_sizes, val_mean - val_std, val_mean + val_std, alpha=0.1, color='red')\n",
    "# plt.xlabel('Training Set Size')\n",
    "# plt.ylabel('Negative Mean Squared Error')\n",
    "# plt.title('Learning Curve for Random Forest Regressor')\n",
    "# plt.legend(loc='best')\n",
    "# plt.show()"
   ]
  },
  {
   "attachments": {},
   "cell_type": "markdown",
   "metadata": {},
   "source": [
    "### Model Visualization of Random Forest Regressor"
   ]
  },
  {
   "cell_type": "code",
   "execution_count": 23,
   "metadata": {},
   "outputs": [
    {
     "data": {
      "image/png": "[encoded data removed]",
      "text/plain": [
       "<Figure size 1500x500 with 3 Axes>"
      ]
     },
     "metadata": {},
     "output_type": "display_data"
    }
   ],
   "source": [
    "# Plotting the scatterplot\n",
    "fig, ax = plt.subplots(1, 3, figsize=(15, 5))\n",
    "\n",
    "# Plotting for each target variable\n",
    "for i, target in enumerate(Y_features_Regression.columns):\n",
    "    ax[i].scatter(Y_test_Regression[target], y_pred_RF[:, i], alpha=0.5)\n",
    "    ax[i].plot([Y_test_Regression[target].min(), Y_test_Regression[target].max()], [Y_test_Regression[target].min(), Y_test_Regression[target].max()], 'r--')\n",
    "    ax[i].set_xlabel('Actual ' + target)\n",
    "    ax[i].set_ylabel('Predicted ' + target)\n",
    "\n",
    "plt.suptitle('Actual vs Predicted Y for Random Forest Regressor')\n",
    "plt.tight_layout()\n",
    "plt.show()"
   ]
  },
  {
   "attachments": {},
   "cell_type": "markdown",
   "metadata": {},
   "source": [
    "Interactive Display of Entire Trained Regressive Model"
   ]
  },
  {
   "cell_type": "code",
   "execution_count": 24,
   "metadata": {},
   "outputs": [
    {
     "data": {
      "text/plain": [
       "'interactive_models/random_forest_normal_model.html'"
      ]
     },
     "execution_count": 24,
     "metadata": {},
     "output_type": "execute_result"
    }
   ],
   "source": [
    "import plotly.graph_objects as go\n",
    "from plotly.offline import plot\n",
    "\n",
    "# Create traces for actual and predicted values\n",
    "actual_trace = go.Scatter3d(\n",
    "    x=Y_test_Regression['SHUTTLECOCK POSITIION IN AIR(X) metres'],\n",
    "    y=Y_test_Regression['SHUTTLECOCK POSITIION IN AIR(Y) metres'],\n",
    "    z=Y_test_Regression['SHUTTLECOCK POSITIION IN AIR(Z) metres'],\n",
    "    name='Actual',\n",
    "    mode='markers',\n",
    "    marker=dict(\n",
    "        color='blue',\n",
    "        size=3,\n",
    "        symbol='circle'\n",
    "    )\n",
    ")\n",
    "\n",
    "predicted_trace = go.Scatter3d(\n",
    "    x=y_pred_RF[:, 0],\n",
    "    y=y_pred_RF[:, 1],\n",
    "    z=y_pred_RF[:, 2],\n",
    "    name='Predicted',\n",
    "    mode='markers',\n",
    "    marker=dict(\n",
    "        color='red',\n",
    "        size=3,\n",
    "        symbol='circle'\n",
    "    )\n",
    ")\n",
    "\n",
    "# Create layout\n",
    "layout = go.Layout(\n",
    "    title='Actual vs Predicted Shuttlecock Positions for Random Forest Regressor',\n",
    "    scene=dict(\n",
    "        xaxis=dict(title='X'),\n",
    "        yaxis=dict(title='Y'),\n",
    "        zaxis=dict(title='Z')\n",
    "    )\n",
    ")\n",
    "\n",
    "# Create figure\n",
    "fig = go.Figure(data=[actual_trace, predicted_trace], layout=layout)\n",
    "\n",
    "# Save the plot as an HTML file\n",
    "plot(fig, filename='interactive_models/random_forest_normal_model.html')"
   ]
  },
  {
   "attachments": {},
   "cell_type": "markdown",
   "metadata": {},
   "source": [
    "### Extra Trees Regressor\n",
    "Extra Trees aka. (Extremely Randomized Trees) Regressor is a variant of Random Forest Tree which also uses an ensemble of decision trees to make predictions. However unlike random forests, Extra Trees introduces extra randomness by randomly selecting features at each node split. This randomness helps to create more diverse and less correlated trees. The final prediction is obtained by averaging the predictions of all the trees.\n",
    "#### Dependencies for Extra Trees Regressor"
   ]
  },
  {
   "cell_type": "code",
   "execution_count": 25,
   "metadata": {},
   "outputs": [],
   "source": [
    "from sklearn.ensemble import ExtraTreesRegressor"
   ]
  },
  {
   "attachments": {},
   "cell_type": "markdown",
   "metadata": {},
   "source": [
    "### Optimization of Extra Tree Regressor \n",
    "Building multiple models with different depths to find best model with lowest mean squared error. Best depth should be 15"
   ]
  },
  {
   "cell_type": "code",
   "execution_count": 26,
   "metadata": {},
   "outputs": [],
   "source": [
    "# # Define a list of depths to test\n",
    "# depths = [5, 10, 15, 20, 25, 30]\n",
    "# mse_scores_depth_ET = []\n",
    "\n",
    "# # Iterate over different depths and calculate MSE\n",
    "# for depth in depths:\n",
    "#     temp_model_ET = ExtraTreesRegressor(n_estimators=100, max_depth=depth, random_state=42)\n",
    "#     temp_model_ET.fit(X_train_Regression, Y_train_Regression)\n",
    "#     temp_y_pred_ET = temp_model_ET.predict(X_test_Regression)\n",
    "#     temp_mse_depth_ET = mean_squared_error(Y_test_Regression, temp_y_pred_ET)\n",
    "#     mse_scores_depth_ET.append(temp_mse_depth_ET)"
   ]
  },
  {
   "cell_type": "code",
   "execution_count": 27,
   "metadata": {},
   "outputs": [],
   "source": [
    "# # Plotting the MSE scores\n",
    "# plt.plot(depths, mse_scores_depth_ET, marker='o')\n",
    "# plt.xlabel('Depth')\n",
    "# plt.ylabel('Mean Squared Error')\n",
    "# plt.title('Mean Squared Error vs. Depth for Extra Trees Regressor')\n",
    "# plt.show()"
   ]
  },
  {
   "attachments": {},
   "cell_type": "markdown",
   "metadata": {},
   "source": [
    "Building multiple models with different number of decision trees \"n_estimators\" to find best \"n_estimator\". Best number of decision trees should be 200"
   ]
  },
  {
   "cell_type": "code",
   "execution_count": 28,
   "metadata": {},
   "outputs": [],
   "source": [
    "# # Define a list of n_estimators to test\n",
    "# n_estimators_values = [50, 100, 150, 200, 250, 300]\n",
    "# mse_scores_nestimator_ET = []\n",
    "\n",
    "# # Iterate over different n_estimators and calculate MSE\n",
    "# for n_estimators in n_estimators_values:\n",
    "#     temp_model_ET = RandomForestRegressor(n_estimators=n_estimators, max_depth=15, random_state=42)\n",
    "#     temp_model_ET.fit(X_train_Regression, Y_train_Regression)\n",
    "#     temp_y_pred_RF = temp_model_ET.predict(X_test_Regression)\n",
    "#     temp_mse_nestimator_ET = mean_squared_error(Y_test_Regression, temp_y_pred_RF)\n",
    "#     mse_scores_nestimator_ET.append(temp_mse_nestimator_ET)\n",
    "# print(mse_scores_nestimator_ET)"
   ]
  },
  {
   "cell_type": "code",
   "execution_count": 29,
   "metadata": {},
   "outputs": [],
   "source": [
    "# # Plotting the MSE scores\n",
    "# plt.plot(n_estimators_values, mse_scores_nestimator_ET, marker='o')\n",
    "# plt.xlabel('n_estimators')\n",
    "# plt.ylabel('Mean Squared Error')\n",
    "# plt.title('Mean Squared Error vs. n_estimators for Extra Trees Regressor')\n",
    "# plt.show()"
   ]
  },
  {
   "attachments": {},
   "cell_type": "markdown",
   "metadata": {},
   "source": [
    "### Training with Best Extra Trees Regressor\n",
    "This model will allow us predict an X, Y, Z coordinate in relation to the independent features supplied"
   ]
  },
  {
   "cell_type": "code",
   "execution_count": 30,
   "metadata": {},
   "outputs": [],
   "source": [
    "# Define the Extra Trees Regressor\n",
    "model_ExtraTrees = ExtraTreesRegressor()\n",
    "model_ExtraTrees.fit(X_train_Regression, Y_train_Regression)\n",
    "y_pred_ET = model_ExtraTrees.predict(X_test_Regression)"
   ]
  },
  {
   "attachments": {},
   "cell_type": "markdown",
   "metadata": {},
   "source": [
    "### Training Evaluation of Extra Trees Regressor\n",
    "Mean squared error and root mean squared errors are error margin metrics for regression models. Refer to root mean squared error for a closer error margin to original metric"
   ]
  },
  {
   "cell_type": "code",
   "execution_count": 31,
   "metadata": {},
   "outputs": [
    {
     "name": "stdout",
     "output_type": "stream",
     "text": [
      "Mean Squared Error: 0.00025656445499538727\n",
      "Root Squared Error: 0.01601762950612191\n"
     ]
    }
   ],
   "source": [
    "mse_ET = mean_squared_error(Y_test_Regression, y_pred_ET)\n",
    "print(\"Mean Squared Error:\", mse_ET)\n",
    "rmse_ET = math.sqrt(mse_ET)\n",
    "print(\"Root Squared Error:\", rmse_ET)"
   ]
  },
  {
   "attachments": {},
   "cell_type": "markdown",
   "metadata": {},
   "source": [
    "Check for generalization of data and if data is able to capture underlying pattern properly. This is done with a learning curve, with a negative mean squared metric. If the training and validation lines converge at a low error rate, that means that the model is well generalized and captures patterns properly"
   ]
  },
  {
   "cell_type": "code",
   "execution_count": 32,
   "metadata": {},
   "outputs": [],
   "source": [
    "# # Calculate the learning curves\n",
    "# train_sizes, train_scores, val_scores = learning_curve(model_ExtraTrees, X_train_Regression, Y_train_Regression, cv=5, scoring='neg_mean_squared_error')\n",
    "\n",
    "# # Calculate the mean and standard deviation of train and validation scores\n",
    "# train_mean = -np.mean(train_scores, axis=1)\n",
    "# train_std = np.std(train_scores, axis=1)\n",
    "# val_mean = -np.mean(val_scores, axis=1)\n",
    "# val_std = np.std(val_scores, axis=1)"
   ]
  },
  {
   "cell_type": "code",
   "execution_count": 33,
   "metadata": {},
   "outputs": [],
   "source": [
    "# # Plot the learning curves\n",
    "# plt.figure(figsize=(10, 7))\n",
    "# plt.plot(train_sizes, train_mean, label='Training score', color='blue')\n",
    "# plt.fill_between(train_sizes, train_mean - train_std, train_mean + train_std, alpha=0.1, color='blue')\n",
    "# plt.plot(train_sizes, val_mean, label='Validation score', color='red')\n",
    "# plt.fill_between(train_sizes, val_mean - val_std, val_mean + val_std, alpha=0.1, color='red')\n",
    "# plt.xlabel('Training Set Size')\n",
    "# plt.ylabel('Negative Mean Squared Error')\n",
    "# plt.title('Learning Curve for Extra Trees')\n",
    "# plt.legend(loc='best')\n",
    "# plt.show()"
   ]
  },
  {
   "attachments": {},
   "cell_type": "markdown",
   "metadata": {},
   "source": [
    "### Model Visualization of Extra Trees Regressor"
   ]
  },
  {
   "cell_type": "code",
   "execution_count": 34,
   "metadata": {},
   "outputs": [
    {
     "data": {
      "image/png": "[encoded data removed]",
      "text/plain": [
       "<Figure size 1500x500 with 3 Axes>"
      ]
     },
     "metadata": {},
     "output_type": "display_data"
    }
   ],
   "source": [
    "# Plotting the scatterplot\n",
    "fig, ax = plt.subplots(1, 3, figsize=(15, 5))\n",
    "\n",
    "# Plotting for each target variable\n",
    "for i, target in enumerate(Y_features_Regression.columns):\n",
    "    ax[i].scatter(Y_test_Regression[target], y_pred_ET[:, i], alpha=0.5)\n",
    "    ax[i].plot([Y_test_Regression[target].min(), Y_test_Regression[target].max()], [Y_test_Regression[target].min(), Y_test_Regression[target].max()], 'r--')\n",
    "    ax[i].set_xlabel('Actual ' + target)\n",
    "    ax[i].set_ylabel('Predicted ' + target)\n",
    "\n",
    "plt.suptitle('Actual vs Predicted Y for Extra Trees Regressor')\n",
    "plt.tight_layout()\n",
    "plt.show()"
   ]
  },
  {
   "cell_type": "code",
   "execution_count": 35,
   "metadata": {},
   "outputs": [
    {
     "data": {
      "text/plain": [
       "'interactive_models/extra_trees_normal_model.html'"
      ]
     },
     "execution_count": 35,
     "metadata": {},
     "output_type": "execute_result"
    }
   ],
   "source": [
    "# Create traces for actual and predicted values\n",
    "actual_trace = go.Scatter3d(\n",
    "    x=Y_test_Regression['SHUTTLECOCK POSITIION IN AIR(X) metres'],\n",
    "    y=Y_test_Regression['SHUTTLECOCK POSITIION IN AIR(Y) metres'],\n",
    "    z=Y_test_Regression['SHUTTLECOCK POSITIION IN AIR(Z) metres'],\n",
    "    name='Actual',\n",
    "    mode='markers',\n",
    "    marker=dict(\n",
    "        color='blue',\n",
    "        size=3,\n",
    "        symbol='circle'\n",
    "    )\n",
    ")\n",
    "\n",
    "predicted_trace = go.Scatter3d(\n",
    "    x=y_pred_ET[:, 0],\n",
    "    y=y_pred_ET[:, 1],\n",
    "    z=y_pred_ET[:, 2],\n",
    "    name='Predicted',\n",
    "    mode='markers',\n",
    "    marker=dict(\n",
    "        color='red',\n",
    "        size=3,\n",
    "        symbol='circle'\n",
    "    )\n",
    ")\n",
    "\n",
    "# Create layout\n",
    "layout = go.Layout(\n",
    "    title='Actual vs Predicted Shuttlecock Positions for Extra Trees Regressor',\n",
    "    scene=dict(\n",
    "        xaxis=dict(title='X'),\n",
    "        yaxis=dict(title='Y'),\n",
    "        zaxis=dict(title='Z')\n",
    "    )\n",
    ")\n",
    "\n",
    "# Create figure\n",
    "fig = go.Figure(data=[actual_trace, predicted_trace], layout=layout)\n",
    "\n",
    "# Save the plot as an HTML file\n",
    "plot(fig, filename='interactive_models/extra_trees_normal_model.html')"
   ]
  },
  {
   "attachments": {},
   "cell_type": "markdown",
   "metadata": {},
   "source": [
    "## Stage: Actual Testing with First Coordinate\n",
    "To actually test if all the models work, the first point of an observation group will be used for testing. Test will be randomized and based on observation group. Assuming that we will know the sequence order of the observation since they are ordered, OBSERVATION NUMBER will be used to identify the first observation"
   ]
  },
  {
   "cell_type": "code",
   "execution_count": 36,
   "metadata": {},
   "outputs": [
    {
     "name": "stdout",
     "output_type": "stream",
     "text": [
      "Selected Observation Group Number is : 45\n"
     ]
    },
    {
     "data": {
      "text/html": [
       "<div>\n",
       "<style scoped>\n",
       "    .dataframe tbody tr th:only-of-type {\n",
       "        vertical-align: middle;\n",
       "    }\n",
       "\n",
       "    .dataframe tbody tr th {\n",
       "        vertical-align: top;\n",
       "    }\n",
       "\n",
       "    .dataframe thead th {\n",
       "        text-align: right;\n",
       "    }\n",
       "</style>\n",
       "<table border=\"1\" class=\"dataframe\">\n",
       "  <thead>\n",
       "    <tr style=\"text-align: right;\">\n",
       "      <th></th>\n",
       "      <th>HUMAN PLAYER POSITION (X) metres</th>\n",
       "      <th>HUMAN PLAYER POSITION (Y) metres</th>\n",
       "      <th>INITITAL VELOCITY OF SHUTTELCOCK(m/s)</th>\n",
       "      <th>INITIAL SHUTTELCOCK FIRING ANGLE (DEGREE)</th>\n",
       "      <th>INITIAL SHUTTELCOCK SLANT ANGLE TO SIDELINE(DEGREE)</th>\n",
       "      <th>SHUTTLECOCK POSITIION IN AIR(X) metres</th>\n",
       "      <th>SHUTTLECOCK POSITIION IN AIR(Y) metres</th>\n",
       "      <th>SHUTTLECOCK POSITIION IN AIR(Z) metres</th>\n",
       "      <th>OBSERVATION NUMBER</th>\n",
       "      <th>OBSERVATION GROUP NUMBER</th>\n",
       "      <th>HUMAN PLAYER POSITION (Z) metres</th>\n",
       "    </tr>\n",
       "  </thead>\n",
       "  <tbody>\n",
       "    <tr>\n",
       "      <th>5368</th>\n",
       "      <td>4</td>\n",
       "      <td>2</td>\n",
       "      <td>10</td>\n",
       "      <td>40</td>\n",
       "      <td>13</td>\n",
       "      <td>4.076208</td>\n",
       "      <td>2.017594</td>\n",
       "      <td>1.663831</td>\n",
       "      <td>1.0</td>\n",
       "      <td>45</td>\n",
       "      <td>1.6</td>\n",
       "    </tr>\n",
       "  </tbody>\n",
       "</table>\n",
       "</div>"
      ],
      "text/plain": [
       "      HUMAN PLAYER POSITION (X) metres  HUMAN PLAYER POSITION (Y) metres  \\\n",
       "5368                                 4                                 2   \n",
       "\n",
       "      INITITAL VELOCITY OF SHUTTELCOCK(m/s)  \\\n",
       "5368                                     10   \n",
       "\n",
       "      INITIAL SHUTTELCOCK FIRING ANGLE (DEGREE)  \\\n",
       "5368                                         40   \n",
       "\n",
       "      INITIAL SHUTTELCOCK SLANT ANGLE TO SIDELINE(DEGREE)  \\\n",
       "5368                                                 13     \n",
       "\n",
       "      SHUTTLECOCK POSITIION IN AIR(X) metres  \\\n",
       "5368                                4.076208   \n",
       "\n",
       "      SHUTTLECOCK POSITIION IN AIR(Y) metres  \\\n",
       "5368                                2.017594   \n",
       "\n",
       "      SHUTTLECOCK POSITIION IN AIR(Z) metres  OBSERVATION NUMBER  \\\n",
       "5368                                1.663831                 1.0   \n",
       "\n",
       "      OBSERVATION GROUP NUMBER  HUMAN PLAYER POSITION (Z) metres  \n",
       "5368                        45                               1.6  "
      ]
     },
     "execution_count": 36,
     "metadata": {},
     "output_type": "execute_result"
    }
   ],
   "source": [
    "import random\n",
    "# copied to avoid alterations to cleaned data\n",
    "test_data = data.copy()\n",
    "\n",
    "# choose a random record from the observation groups to test\n",
    "unique_observation_grps = test_data['OBSERVATION GROUP NUMBER'].nunique()\n",
    "selected_test_num = random.randint(1, unique_observation_grps)\n",
    "print(\"Selected Observation Group Number is :\", selected_test_num)\n",
    "\n",
    "# alternatively can hardcode to replicate results\n",
    "# selected_test_num = ?\n",
    "\n",
    "# retrieve all the rows from the data related to randomly selected row\n",
    "y_actual_records = test_data[test_data['OBSERVATION GROUP NUMBER'] == selected_test_num]\n",
    "\n",
    "# get the first row of selected observation for input\n",
    "y_first_record = y_actual_records.head(1)\n",
    "\n",
    "# show the test data\n",
    "y_first_record"
   ]
  },
  {
   "attachments": {},
   "cell_type": "markdown",
   "metadata": {},
   "source": [
    "Predict number of observations within a Trajectory for test record"
   ]
  },
  {
   "cell_type": "code",
   "execution_count": 37,
   "metadata": {},
   "outputs": [
    {
     "name": "stdout",
     "output_type": "stream",
     "text": [
      "Predicted observation is : 122\n",
      "Actual number of observations is : 122\n"
     ]
    }
   ],
   "source": [
    "# select the input features we want to feed into the decision tree model to prediction observation\n",
    "X_actual_test_DT = y_first_record[['HUMAN PLAYER POSITION (X) metres', \n",
    "                                    'HUMAN PLAYER POSITION (Y) metres',\n",
    "                                    'HUMAN PLAYER POSITION (Z) metres', \n",
    "                                    'INITITAL VELOCITY OF SHUTTELCOCK(m/s)', \n",
    "                                    'INITIAL SHUTTELCOCK FIRING ANGLE (DEGREE)', \n",
    "                                    'INITIAL SHUTTELCOCK SLANT ANGLE TO SIDELINE(DEGREE)']]\n",
    "\n",
    "predicted_observation = int(model_decisionTree.predict(X_actual_test_DT))\n",
    "print(\"Predicted observation is :\", predicted_observation)\n",
    "print(\"Actual number of observations is :\", len(y_actual_records))"
   ]
  },
  {
   "attachments": {},
   "cell_type": "markdown",
   "metadata": {},
   "source": [
    "Prepare input features to be fed into Regressor Models"
   ]
  },
  {
   "cell_type": "code",
   "execution_count": 38,
   "metadata": {},
   "outputs": [
    {
     "data": {
      "text/plain": [
       "[[4.0, 2.0, 1.6, 10.0, 40.0, 13.0, 1],\n",
       " [4.0, 2.0, 1.6, 10.0, 40.0, 13.0, 2],\n",
       " [4.0, 2.0, 1.6, 10.0, 40.0, 13.0, 3],\n",
       " [4.0, 2.0, 1.6, 10.0, 40.0, 13.0, 4],\n",
       " [4.0, 2.0, 1.6, 10.0, 40.0, 13.0, 5],\n",
       " [4.0, 2.0, 1.6, 10.0, 40.0, 13.0, 6],\n",
       " [4.0, 2.0, 1.6, 10.0, 40.0, 13.0, 7],\n",
       " [4.0, 2.0, 1.6, 10.0, 40.0, 13.0, 8],\n",
       " [4.0, 2.0, 1.6, 10.0, 40.0, 13.0, 9],\n",
       " [4.0, 2.0, 1.6, 10.0, 40.0, 13.0, 10],\n",
       " [4.0, 2.0, 1.6, 10.0, 40.0, 13.0, 11],\n",
       " [4.0, 2.0, 1.6, 10.0, 40.0, 13.0, 12],\n",
       " [4.0, 2.0, 1.6, 10.0, 40.0, 13.0, 13],\n",
       " [4.0, 2.0, 1.6, 10.0, 40.0, 13.0, 14],\n",
       " [4.0, 2.0, 1.6, 10.0, 40.0, 13.0, 15],\n",
       " [4.0, 2.0, 1.6, 10.0, 40.0, 13.0, 16],\n",
       " [4.0, 2.0, 1.6, 10.0, 40.0, 13.0, 17],\n",
       " [4.0, 2.0, 1.6, 10.0, 40.0, 13.0, 18],\n",
       " [4.0, 2.0, 1.6, 10.0, 40.0, 13.0, 19],\n",
       " [4.0, 2.0, 1.6, 10.0, 40.0, 13.0, 20],\n",
       " [4.0, 2.0, 1.6, 10.0, 40.0, 13.0, 21],\n",
       " [4.0, 2.0, 1.6, 10.0, 40.0, 13.0, 22],\n",
       " [4.0, 2.0, 1.6, 10.0, 40.0, 13.0, 23],\n",
       " [4.0, 2.0, 1.6, 10.0, 40.0, 13.0, 24],\n",
       " [4.0, 2.0, 1.6, 10.0, 40.0, 13.0, 25],\n",
       " [4.0, 2.0, 1.6, 10.0, 40.0, 13.0, 26],\n",
       " [4.0, 2.0, 1.6, 10.0, 40.0, 13.0, 27],\n",
       " [4.0, 2.0, 1.6, 10.0, 40.0, 13.0, 28],\n",
       " [4.0, 2.0, 1.6, 10.0, 40.0, 13.0, 29],\n",
       " [4.0, 2.0, 1.6, 10.0, 40.0, 13.0, 30],\n",
       " [4.0, 2.0, 1.6, 10.0, 40.0, 13.0, 31],\n",
       " [4.0, 2.0, 1.6, 10.0, 40.0, 13.0, 32],\n",
       " [4.0, 2.0, 1.6, 10.0, 40.0, 13.0, 33],\n",
       " [4.0, 2.0, 1.6, 10.0, 40.0, 13.0, 34],\n",
       " [4.0, 2.0, 1.6, 10.0, 40.0, 13.0, 35],\n",
       " [4.0, 2.0, 1.6, 10.0, 40.0, 13.0, 36],\n",
       " [4.0, 2.0, 1.6, 10.0, 40.0, 13.0, 37],\n",
       " [4.0, 2.0, 1.6, 10.0, 40.0, 13.0, 38],\n",
       " [4.0, 2.0, 1.6, 10.0, 40.0, 13.0, 39],\n",
       " [4.0, 2.0, 1.6, 10.0, 40.0, 13.0, 40],\n",
       " [4.0, 2.0, 1.6, 10.0, 40.0, 13.0, 41],\n",
       " [4.0, 2.0, 1.6, 10.0, 40.0, 13.0, 42],\n",
       " [4.0, 2.0, 1.6, 10.0, 40.0, 13.0, 43],\n",
       " [4.0, 2.0, 1.6, 10.0, 40.0, 13.0, 44],\n",
       " [4.0, 2.0, 1.6, 10.0, 40.0, 13.0, 45],\n",
       " [4.0, 2.0, 1.6, 10.0, 40.0, 13.0, 46],\n",
       " [4.0, 2.0, 1.6, 10.0, 40.0, 13.0, 47],\n",
       " [4.0, 2.0, 1.6, 10.0, 40.0, 13.0, 48],\n",
       " [4.0, 2.0, 1.6, 10.0, 40.0, 13.0, 49],\n",
       " [4.0, 2.0, 1.6, 10.0, 40.0, 13.0, 50],\n",
       " [4.0, 2.0, 1.6, 10.0, 40.0, 13.0, 51],\n",
       " [4.0, 2.0, 1.6, 10.0, 40.0, 13.0, 52],\n",
       " [4.0, 2.0, 1.6, 10.0, 40.0, 13.0, 53],\n",
       " [4.0, 2.0, 1.6, 10.0, 40.0, 13.0, 54],\n",
       " [4.0, 2.0, 1.6, 10.0, 40.0, 13.0, 55],\n",
       " [4.0, 2.0, 1.6, 10.0, 40.0, 13.0, 56],\n",
       " [4.0, 2.0, 1.6, 10.0, 40.0, 13.0, 57],\n",
       " [4.0, 2.0, 1.6, 10.0, 40.0, 13.0, 58],\n",
       " [4.0, 2.0, 1.6, 10.0, 40.0, 13.0, 59],\n",
       " [4.0, 2.0, 1.6, 10.0, 40.0, 13.0, 60],\n",
       " [4.0, 2.0, 1.6, 10.0, 40.0, 13.0, 61],\n",
       " [4.0, 2.0, 1.6, 10.0, 40.0, 13.0, 62],\n",
       " [4.0, 2.0, 1.6, 10.0, 40.0, 13.0, 63],\n",
       " [4.0, 2.0, 1.6, 10.0, 40.0, 13.0, 64],\n",
       " [4.0, 2.0, 1.6, 10.0, 40.0, 13.0, 65],\n",
       " [4.0, 2.0, 1.6, 10.0, 40.0, 13.0, 66],\n",
       " [4.0, 2.0, 1.6, 10.0, 40.0, 13.0, 67],\n",
       " [4.0, 2.0, 1.6, 10.0, 40.0, 13.0, 68],\n",
       " [4.0, 2.0, 1.6, 10.0, 40.0, 13.0, 69],\n",
       " [4.0, 2.0, 1.6, 10.0, 40.0, 13.0, 70],\n",
       " [4.0, 2.0, 1.6, 10.0, 40.0, 13.0, 71],\n",
       " [4.0, 2.0, 1.6, 10.0, 40.0, 13.0, 72],\n",
       " [4.0, 2.0, 1.6, 10.0, 40.0, 13.0, 73],\n",
       " [4.0, 2.0, 1.6, 10.0, 40.0, 13.0, 74],\n",
       " [4.0, 2.0, 1.6, 10.0, 40.0, 13.0, 75],\n",
       " [4.0, 2.0, 1.6, 10.0, 40.0, 13.0, 76],\n",
       " [4.0, 2.0, 1.6, 10.0, 40.0, 13.0, 77],\n",
       " [4.0, 2.0, 1.6, 10.0, 40.0, 13.0, 78],\n",
       " [4.0, 2.0, 1.6, 10.0, 40.0, 13.0, 79],\n",
       " [4.0, 2.0, 1.6, 10.0, 40.0, 13.0, 80],\n",
       " [4.0, 2.0, 1.6, 10.0, 40.0, 13.0, 81],\n",
       " [4.0, 2.0, 1.6, 10.0, 40.0, 13.0, 82],\n",
       " [4.0, 2.0, 1.6, 10.0, 40.0, 13.0, 83],\n",
       " [4.0, 2.0, 1.6, 10.0, 40.0, 13.0, 84],\n",
       " [4.0, 2.0, 1.6, 10.0, 40.0, 13.0, 85],\n",
       " [4.0, 2.0, 1.6, 10.0, 40.0, 13.0, 86],\n",
       " [4.0, 2.0, 1.6, 10.0, 40.0, 13.0, 87],\n",
       " [4.0, 2.0, 1.6, 10.0, 40.0, 13.0, 88],\n",
       " [4.0, 2.0, 1.6, 10.0, 40.0, 13.0, 89],\n",
       " [4.0, 2.0, 1.6, 10.0, 40.0, 13.0, 90],\n",
       " [4.0, 2.0, 1.6, 10.0, 40.0, 13.0, 91],\n",
       " [4.0, 2.0, 1.6, 10.0, 40.0, 13.0, 92],\n",
       " [4.0, 2.0, 1.6, 10.0, 40.0, 13.0, 93],\n",
       " [4.0, 2.0, 1.6, 10.0, 40.0, 13.0, 94],\n",
       " [4.0, 2.0, 1.6, 10.0, 40.0, 13.0, 95],\n",
       " [4.0, 2.0, 1.6, 10.0, 40.0, 13.0, 96],\n",
       " [4.0, 2.0, 1.6, 10.0, 40.0, 13.0, 97],\n",
       " [4.0, 2.0, 1.6, 10.0, 40.0, 13.0, 98],\n",
       " [4.0, 2.0, 1.6, 10.0, 40.0, 13.0, 99],\n",
       " [4.0, 2.0, 1.6, 10.0, 40.0, 13.0, 100],\n",
       " [4.0, 2.0, 1.6, 10.0, 40.0, 13.0, 101],\n",
       " [4.0, 2.0, 1.6, 10.0, 40.0, 13.0, 102],\n",
       " [4.0, 2.0, 1.6, 10.0, 40.0, 13.0, 103],\n",
       " [4.0, 2.0, 1.6, 10.0, 40.0, 13.0, 104],\n",
       " [4.0, 2.0, 1.6, 10.0, 40.0, 13.0, 105],\n",
       " [4.0, 2.0, 1.6, 10.0, 40.0, 13.0, 106],\n",
       " [4.0, 2.0, 1.6, 10.0, 40.0, 13.0, 107],\n",
       " [4.0, 2.0, 1.6, 10.0, 40.0, 13.0, 108],\n",
       " [4.0, 2.0, 1.6, 10.0, 40.0, 13.0, 109],\n",
       " [4.0, 2.0, 1.6, 10.0, 40.0, 13.0, 110],\n",
       " [4.0, 2.0, 1.6, 10.0, 40.0, 13.0, 111],\n",
       " [4.0, 2.0, 1.6, 10.0, 40.0, 13.0, 112],\n",
       " [4.0, 2.0, 1.6, 10.0, 40.0, 13.0, 113],\n",
       " [4.0, 2.0, 1.6, 10.0, 40.0, 13.0, 114],\n",
       " [4.0, 2.0, 1.6, 10.0, 40.0, 13.0, 115],\n",
       " [4.0, 2.0, 1.6, 10.0, 40.0, 13.0, 116],\n",
       " [4.0, 2.0, 1.6, 10.0, 40.0, 13.0, 117],\n",
       " [4.0, 2.0, 1.6, 10.0, 40.0, 13.0, 118],\n",
       " [4.0, 2.0, 1.6, 10.0, 40.0, 13.0, 119],\n",
       " [4.0, 2.0, 1.6, 10.0, 40.0, 13.0, 120],\n",
       " [4.0, 2.0, 1.6, 10.0, 40.0, 13.0, 121],\n",
       " [4.0, 2.0, 1.6, 10.0, 40.0, 13.0, 122]]"
      ]
     },
     "execution_count": 38,
     "metadata": {},
     "output_type": "execute_result"
    }
   ],
   "source": [
    "# container to store prepared input features we want to feed into the regression model to predict entire trajectory x, y, z coordinates\n",
    "Y_actual_test_Regression = []\n",
    "# select x features and change the observation number accordingly and add into container\n",
    "for obs_num in range(1, predicted_observation+1):\n",
    "    temp = (y_first_record[['HUMAN PLAYER POSITION (X) metres', \n",
    "                            'HUMAN PLAYER POSITION (Y) metres',\n",
    "                            'HUMAN PLAYER POSITION (Z) metres',\n",
    "                            'INITITAL VELOCITY OF SHUTTELCOCK(m/s)', \n",
    "                            'INITIAL SHUTTELCOCK FIRING ANGLE (DEGREE)', \n",
    "                            'INITIAL SHUTTELCOCK SLANT ANGLE TO SIDELINE(DEGREE)']]).values.tolist()\n",
    "    temp_obs_row = temp[:5][0]\n",
    "    temp_obs_row.append(obs_num)\n",
    "    Y_actual_test_Regression.append(temp_obs_row)\n",
    "\n",
    "Y_actual_test_Regression"
   ]
  },
  {
   "cell_type": "code",
   "execution_count": 39,
   "metadata": {},
   "outputs": [],
   "source": [
    "# Turn it into dataframe\n",
    "column_names = [\n",
    "    'HUMAN PLAYER POSITION (X) metres',\n",
    "    'HUMAN PLAYER POSITION (Y) metres',\n",
    "    'HUMAN PLAYER POSITION (Z) metres',\n",
    "    'INITITAL VELOCITY OF SHUTTELCOCK(m/s)',\n",
    "    'INITIAL SHUTTELCOCK FIRING ANGLE (DEGREE)',\n",
    "    'INITIAL SHUTTELCOCK SLANT ANGLE TO SIDELINE(DEGREE)',\n",
    "    'OBSERVATION NUMBER'\n",
    "]\n",
    "\n",
    "X_actual_test_Regression_DF = pd.DataFrame(Y_actual_test_Regression, columns = column_names)"
   ]
  },
  {
   "attachments": {},
   "cell_type": "markdown",
   "metadata": {},
   "source": [
    "Predict the Trajectory using Trained Models, outputs an array of predicted shuttlecock trajectory coordinates"
   ]
  },
  {
   "cell_type": "code",
   "execution_count": 40,
   "metadata": {},
   "outputs": [],
   "source": [
    "# prediction using random forest regression\n",
    "predicted_trajectory_points_RT = model_randomForest.predict(X_actual_test_Regression_DF)\n",
    "# prediction using extra trees regression\n",
    "predicted_trajectory_points_ET = model_ExtraTrees.predict(X_actual_test_Regression_DF)"
   ]
  },
  {
   "attachments": {},
   "cell_type": "markdown",
   "metadata": {},
   "source": [
    "### Overall Evaluation for all Regression Models"
   ]
  },
  {
   "cell_type": "code",
   "execution_count": 41,
   "metadata": {},
   "outputs": [
    {
     "name": "stdout",
     "output_type": "stream",
     "text": [
      "Mean Square Error of the Random Forest Tree Regressor is : 0.00029850314486380464\n",
      "Root Mean Square Error of the Random Forest Tree Regressor is : 0.01727724355514515\n",
      "Mean Square Error of the Extra Trees Regressor is : 4.779474101112641e-29\n",
      "Root Mean Square Error of the Extra Trees Regressor is : 6.913374068508546e-15\n"
     ]
    }
   ],
   "source": [
    "# Do an error evaluation\n",
    "y_actual_coords = y_actual_records[['SHUTTLECOCK POSITIION IN AIR(X) metres', 'SHUTTLECOCK POSITIION IN AIR(Y) metres', 'SHUTTLECOCK POSITIION IN AIR(Z) metres']]\n",
    "\n",
    "mse_actual_RT = mean_squared_error(y_actual_coords, predicted_trajectory_points_RT)\n",
    "rmse_actual_RT = math.sqrt(mse_actual_RT)\n",
    "print(\"Mean Square Error of the Random Forest Tree Regressor is :\", mse_actual_RT)\n",
    "print(\"Root Mean Square Error of the Random Forest Tree Regressor is :\", rmse_actual_RT)\n",
    "\n",
    "mse_actual_ET = mean_squared_error(y_actual_coords, predicted_trajectory_points_ET)\n",
    "rmse_actual_ET = math.sqrt(mse_actual_ET)\n",
    "print(\"Mean Square Error of the Extra Trees Regressor is :\", mse_actual_ET)\n",
    "print(\"Root Mean Square Error of the Extra Trees Regressor is :\", rmse_actual_ET)"
   ]
  },
  {
   "attachments": {},
   "cell_type": "markdown",
   "metadata": {},
   "source": [
    "Static Visualization of Shuttlecock Trajectory in a Court"
   ]
  },
  {
   "cell_type": "code",
   "execution_count": 42,
   "metadata": {},
   "outputs": [],
   "source": [
    "#Court Constants\n",
    "_HEIGHT_SKYBOX_M_ = 10\n",
    "_HEIGHT_NET_M_ = 1.55\n",
    "_HEIGHT_ROBOTBADMINTON_CENTER_M_ = 1.1\n",
    "\n",
    "_LENGTH_COURT_X_M_ = 13.4\n",
    "_LENGTH_COURT_Y_M_ = 5.18\n",
    "_LENGTH_CENTERLINE_M_ = 4.68\n",
    "\n",
    "_COURT_BOUNDARY_TOP_ = [\n",
    " (0,0),\n",
    " (0, _LENGTH_COURT_Y_M_)\n",
    "]\n",
    "_COURT_BOUNDARY_BOTTOM_ = [\n",
    " (_LENGTH_COURT_X_M_, 0),\n",
    " (_LENGTH_COURT_X_M_, _LENGTH_COURT_Y_M_)\n",
    "]\n",
    "_COURT_BOUNDARY_LEFT_ = [\n",
    " (0,0),\n",
    " (_LENGTH_COURT_X_M_, 0)\n",
    "]\n",
    "_COURT_BOUNDARY_RIGHT_ = [\n",
    " (0, _LENGTH_COURT_Y_M_),\n",
    " (_LENGTH_COURT_X_M_, _LENGTH_COURT_Y_M_)\n",
    "]\n",
    "\n",
    "_COURT_CENTRELINE01_ = [\n",
    " (0, (_LENGTH_COURT_Y_M_/2)),\n",
    " (_LENGTH_CENTERLINE_M_, (_LENGTH_COURT_Y_M_/2))\n",
    "]\n",
    "_COURT_CENTRELINE02_ = [\n",
    "    (_LENGTH_COURT_X_M_ - _LENGTH_CENTERLINE_M_, (_LENGTH_COURT_Y_M_/2)),\n",
    "    (_LENGTH_COURT_X_M_, (_LENGTH_COURT_Y_M_/2))\n",
    "]\n",
    "_COURT_SHORTSERVICELINE01_ = [\n",
    "    (_LENGTH_CENTERLINE_M_ + 0.04, 0),\n",
    "    (_LENGTH_CENTERLINE_M_ + 0.04, _LENGTH_COURT_Y_M_)\n",
    "]\n",
    "_COURT_SHORTSERVICELINE02_ = [\n",
    "    (_LENGTH_COURT_X_M_ - _LENGTH_CENTERLINE_M_ - 0.04, 0),\n",
    "    (_LENGTH_COURT_X_M_ - _LENGTH_CENTERLINE_M_ - 0.04, _LENGTH_COURT_Y_M_)\n",
    "]"
   ]
  },
  {
   "cell_type": "code",
   "execution_count": 43,
   "metadata": {},
   "outputs": [
    {
     "data": {
      "image/png": "[encoded data removed]",
      "text/plain": [
       "<Figure size 1600x700 with 2 Axes>"
      ]
     },
     "metadata": {},
     "output_type": "display_data"
    }
   ],
   "source": [
    "import matplotlib.pyplot as plt\n",
    "from mpl_toolkits.mplot3d import Axes3D\n",
    "\n",
    "# Create a 3D figure with subplots\n",
    "fig, axes = plt.subplots(nrows=1, ncols=2, figsize=(16, 7), subplot_kw={'projection': '3d'})\n",
    "\n",
    "# Set titles for subplots\n",
    "axes[0].set_title(\"Trajectory Estimation of Random Forest Regressor\")\n",
    "axes[1].set_title(\"Trajectory Estimation of Extra Trees Regressor\")\n",
    "\n",
    "# Define court dimensions\n",
    "court_length_x = 13.4\n",
    "court_length_y = 5.18\n",
    "court_height_skybox = 10\n",
    "court_height_net = 1.55\n",
    "court_height_robotbadminton_center = 1.1\n",
    "court_length_centerline = 4.68\n",
    "\n",
    "# Loop over subplots\n",
    "for ax_index, ax in enumerate(axes):\n",
    "    # Plot court boundaries\n",
    "    ax.plot([0, court_length_x], [0, 0], [0, 0], color='black', linewidth=1)  # Bottom boundary\n",
    "    ax.plot([0, court_length_x], [court_length_y, court_length_y], [0, 0], color='black', linewidth=1)  # Top boundary\n",
    "    ax.plot([0, 0], [0, court_length_y], [0, 0], color='black', linewidth=1)  # Left boundary\n",
    "    ax.plot([court_length_x, court_length_x], [0, court_length_y], [0, 0], color='black', linewidth=1)  # Right boundary\n",
    "\n",
    "    # Plot center line\n",
    "    ax.plot([0, court_length_centerline], [court_length_y / 2, court_length_y / 2], [0, 0], color='black', linewidth=1)\n",
    "    ax.plot([court_length_x - court_length_centerline, court_length_x], [court_length_y / 2, court_length_y / 2], [0, 0], color='black', linewidth=1)\n",
    "\n",
    "    # Plot short service lines\n",
    "    ax.plot([court_length_centerline + 0.04, court_length_centerline + 0.04], [0, court_length_y], [0, 0], color='black', linewidth=1)\n",
    "    ax.plot([court_length_x - court_length_centerline - 0.04, court_length_x - court_length_centerline - 0.04], [0, court_length_y], [0, 0], color='black', linewidth=1)\n",
    "\n",
    "    # Plot net\n",
    "    net_height = court_height_net\n",
    "    ax.plot([court_length_x / 2, court_length_x / 2], [0, court_length_y], [net_height, net_height], color='red', linewidth=1)\n",
    "\n",
    "    # Set plot limits and labels\n",
    "    ax.set_xlim([0, court_length_x])\n",
    "    ax.set_ylim([0, court_length_y])\n",
    "    ax.set_zlim([0, court_height_skybox])\n",
    "    ax.set_xlabel('Length (m)')\n",
    "    ax.set_ylabel('Width (m)')\n",
    "    ax.set_zlabel('Height (m)')\n",
    "\n",
    "    if ax_index == 0:\n",
    "        columns_n = ['X', 'Y', 'Z']\n",
    "        predicted_trajectory_points_RF_DF = pd.DataFrame(predicted_trajectory_points_RT, columns=columns_n)\n",
    "\n",
    "        # Extract X, Y, Z coordinates from y_actual_test and predicted_trajectory_point\n",
    "        x_actual = y_actual_coords['SHUTTLECOCK POSITIION IN AIR(X) metres']\n",
    "        y_actual = y_actual_coords['SHUTTLECOCK POSITIION IN AIR(Y) metres']\n",
    "        z_actual = y_actual_coords['SHUTTLECOCK POSITIION IN AIR(Z) metres']\n",
    "\n",
    "        x_predicted = predicted_trajectory_points_RF_DF['X'].values\n",
    "        y_predicted = predicted_trajectory_points_RF_DF['Y'].values\n",
    "        z_predicted = predicted_trajectory_points_RF_DF['Z'].values\n",
    "\n",
    "        ax.scatter(x_actual, y_actual, z_actual, c='blue', label='Actual Trajectory')\n",
    "        ax.scatter(x_predicted, y_predicted, z_predicted, c='red', label='Predicted Trajectory (Random Forest Regressor)')\n",
    "\n",
    "    elif ax_index == 1:\n",
    "        columns_n = ['X', 'Y', 'Z']\n",
    "        predicted_trajectory_points_ET_DF = pd.DataFrame(predicted_trajectory_points_ET, columns=columns_n)\n",
    "\n",
    "        # Extract X, Y, Z coordinates from y_actual_test and predicted_trajectory_point\n",
    "        x_actual = y_actual_coords['SHUTTLECOCK POSITIION IN AIR(X) metres']\n",
    "        y_actual = y_actual_coords['SHUTTLECOCK POSITIION IN AIR(Y) metres']\n",
    "        z_actual = y_actual_coords['SHUTTLECOCK POSITIION IN AIR(Z) metres']\n",
    "\n",
    "        x_predicted = predicted_trajectory_points_ET_DF['X'].values\n",
    "        y_predicted = predicted_trajectory_points_ET_DF['Y'].values\n",
    "        z_predicted = predicted_trajectory_points_ET_DF['Z'].values\n",
    "\n",
    "        ax.scatter(x_actual, y_actual, z_actual, c='blue', label='Actual Trajectory')\n",
    "        ax.scatter(x_predicted, y_predicted, z_predicted, c='red', label='Predicted Trajectory (Extra Trees Regressor)')\n",
    "\n",
    "    ax.legend()\n",
    "\n",
    "# Adjust spacing between subplots\n",
    "plt.subplots_adjust(wspace=0.2)\n",
    "\n",
    "# Display the plot\n",
    "plt.show()\n"
   ]
  },
  {
   "attachments": {},
   "cell_type": "markdown",
   "metadata": {},
   "source": [
    "3D Interactive Visualization of the Shuttlecock Trajectory"
   ]
  },
  {
   "cell_type": "code",
   "execution_count": 44,
   "metadata": {},
   "outputs": [
    {
     "data": {
      "text/plain": [
       "'interactive_models/normal_regression_trajectory.html'"
      ]
     },
     "execution_count": 44,
     "metadata": {},
     "output_type": "execute_result"
    }
   ],
   "source": [
    "import plotly.graph_objects as go\n",
    "import plotly.offline as offline\n",
    "\n",
    "# Create a scatter plot for actual trajectory\n",
    "actual_trace = go.Scatter3d(x=y_actual_coords['SHUTTLECOCK POSITIION IN AIR(X) metres'],\n",
    "                            y=y_actual_coords['SHUTTLECOCK POSITIION IN AIR(Y) metres'],\n",
    "                            z=y_actual_coords['SHUTTLECOCK POSITIION IN AIR(Z) metres'],\n",
    "                            mode='markers',\n",
    "                            marker=dict(color='blue'),\n",
    "                            name='Actual Trajectory')\n",
    "\n",
    "# Create a scatter plot for predicted trajectory using Random Forest Regressor\n",
    "predicted_trace_RF = go.Scatter3d(x=predicted_trajectory_points_RT[:, 0],\n",
    "                                  y=predicted_trajectory_points_RT[:, 1],\n",
    "                                  z=predicted_trajectory_points_RT[:, 2],\n",
    "                                  mode='markers',\n",
    "                                  marker=dict(color='red'),\n",
    "                                  name='Predicted Trajectory (Random Forest)')\n",
    "\n",
    "# Create a scatter plot for predicted trajectory using Extra Trees Regressor\n",
    "predicted_trace_ET = go.Scatter3d(x=predicted_trajectory_points_ET[:, 0],\n",
    "                                  y=predicted_trajectory_points_ET[:, 1],\n",
    "                                  z=predicted_trajectory_points_ET[:, 2],\n",
    "                                  mode='markers',\n",
    "                                  marker=dict(color='green'),\n",
    "                                  name='Predicted Trajectory (Extra Trees)')\n",
    "\n",
    "# Set the data trace\n",
    "data = [actual_trace, predicted_trace_RF, predicted_trace_ET]\n",
    "\n",
    "# Set layout and title\n",
    "layout = go.Layout(\n",
    "    scene=dict(\n",
    "        xaxis_title='X',\n",
    "        yaxis_title='Y',\n",
    "        zaxis_title='Z',\n",
    "        xaxis=dict(range=[-15, 15]),  # Set X-axis range\n",
    "        yaxis=dict(range=[-15, 15]),  # Set Y-axis range\n",
    "        zaxis=dict(range=[0, 15])     # Set Z-axis range\n",
    "    ),\n",
    "    title='Actual vs Predicted Trajectory'\n",
    ")\n",
    "\n",
    "# Create the figure\n",
    "fig = go.Figure(data=data, layout=layout)\n",
    "\n",
    "# Save the plot as an HTML file\n",
    "offline.plot(fig, filename='interactive_models/normal_regression_trajectory.html')\n"
   ]
  },
  {
   "attachments": {},
   "cell_type": "markdown",
   "metadata": {},
   "source": [
    "### ROBOT - Shuttlecock Trajectory Estimation"
   ]
  },
  {
   "cell_type": "code",
   "execution_count": 86,
   "metadata": {},
   "outputs": [
    {
     "name": "stdout",
     "output_type": "stream",
     "text": [
      "Is predicted Regression Tree (RT) within court:  True\n",
      "Is predicted Extra Tree (ET) within court:  True\n",
      "Average XYZ of Estimated Shuttlecock Position: [9.41239823 3.24792773 0.14060399]\n",
      "Distance: 1.31 meters in 0.44 seconds\n",
      "X difference: -0.7454185873684893\n",
      "Y difference: 1.0778001220810407\n",
      "Time required: 0.4368195627426781 seconds\n",
      "Able to reach and hit on time\n",
      "Distance: 3.12 meters in 1.04 seconds\n",
      "X difference: 2.687430573062348\n",
      "Y difference: 1.5900492030438336\n",
      "Time required: 1.040861798550207 seconds\n",
      "Able to reach and hit on time\n",
      "Distance: 3.80 meters in 1.27 seconds\n",
      "X difference: 3.0651280563653875\n",
      "Y difference: -2.2490912975103323\n",
      "Time required: 1.2672551995226609 seconds\n",
      "Able to reach and hit on time\n"
     ]
    },
    {
     "data": {
      "application/vnd.plotly.v1+json": {
       "config": {
        "plotlyServerURL": "https://plot.ly"
       },
       "data": [
        {
         "marker": {
          "color": "blue",
          "size": 2
         },
         "mode": "markers",
         "name": "True Values",
         "opacity": 0.7,
         "type": "scatter3d",
         "x": [
          4.076207748,
          4.151257826,
          4.227329412,
          4.301839388,
          4.376462548,
          4.45004021,
          4.524014832,
          4.595875272,
          4.667938015,
          4.739368772,
          4.810979293,
          4.881001339,
          4.951967103,
          5.020735281,
          5.09039894,
          5.157619453,
          5.225946338,
          5.292867721,
          5.359816765,
          5.427108244,
          5.492955228,
          5.556905778,
          5.621761299,
          5.686853387,
          5.750356662,
          5.81327015,
          5.876415844,
          5.938465793,
          5.999839969,
          6.060952551,
          6.119030563,
          6.182104036,
          6.240987288,
          6.299052268,
          6.356715369,
          6.416927103,
          6.472961528,
          6.52954326,
          6.587609307,
          6.642607224,
          6.697549458,
          6.752126202,
          6.805871076,
          6.858843594,
          6.91215319,
          6.964629597,
          7.016460313,
          7.069772647,
          7.119162831,
          7.171077522,
          7.220557975,
          7.268722019,
          7.317313571,
          7.367161414,
          7.414509981,
          7.460169553,
          7.509176303,
          7.554147011,
          7.60117329,
          7.646347233,
          7.68905879,
          7.733718433,
          7.777505117,
          7.820121352,
          7.863858135,
          7.903742146,
          7.94647491,
          7.988049908,
          8.028354503,
          8.067781407,
          8.108859872,
          8.146911145,
          8.186440108,
          8.221920233,
          8.262858664,
          8.296004934,
          8.333476958,
          8.366852248,
          8.403713442,
          8.438053776,
          8.472354682,
          8.501815468,
          8.539603057,
          8.57029321,
          8.60303643,
          8.634054812,
          8.666727919,
          8.695121775,
          8.72546855,
          8.755528881,
          8.783509386,
          8.812719803,
          8.840640139,
          8.865153469,
          8.891892493,
          8.919806512,
          8.946533103,
          8.970893339,
          8.993607833,
          9.020344403,
          9.043375075,
          9.06670718,
          9.088961832,
          9.111592829,
          9.12945587,
          9.152836081,
          9.172348701,
          9.193568658,
          9.211975949,
          9.230720875,
          9.250130996,
          9.268764485,
          9.284405698,
          9.299783424,
          9.317059807,
          9.333147305,
          9.347682828,
          9.361676594,
          9.376158622,
          9.388928499,
          9.401890254,
          9.414770182
         ],
         "y": [
          2.017593945,
          2.034920621,
          2.05248313,
          2.069685114,
          2.086913227,
          2.103899969,
          2.120978356,
          2.137568646,
          2.154205641,
          2.170696731,
          2.187229322,
          2.203395185,
          2.219778923,
          2.235655308,
          2.251738431,
          2.267257509,
          2.283032014,
          2.298482032,
          2.313938437,
          2.329473899,
          2.344675873,
          2.359440021,
          2.374413098,
          2.38944079,
          2.404101676,
          2.4186264,
          2.433204732,
          2.447530091,
          2.461699436,
          2.475808387,
          2.489216753,
          2.503778412,
          2.517372682,
          2.530778038,
          2.544090614,
          2.557991588,
          2.570928155,
          2.583991077,
          2.59739668,
          2.61009395,
          2.622778364,
          2.635378398,
          2.64778638,
          2.660016049,
          2.672323539,
          2.684438672,
          2.696404736,
          2.708712858,
          2.720115481,
          2.732100931,
          2.743524394,
          2.75464394,
          2.765862184,
          2.777370465,
          2.788301743,
          2.798843086,
          2.810157185,
          2.820539492,
          2.831396363,
          2.84182559,
          2.85168633,
          2.861996821,
          2.872105773,
          2.881944507,
          2.892041938,
          2.901249888,
          2.911115524,
          2.920713868,
          2.930018917,
          2.939121335,
          2.948605046,
          2.957389875,
          2.966515855,
          2.974707087,
          2.984158469,
          2.991810888,
          3.000461987,
          3.008167279,
          3.016677357,
          3.024605447,
          3.032524435,
          3.039325994,
          3.048049946,
          3.055135326,
          3.062694694,
          3.069855852,
          3.077399033,
          3.083954271,
          3.090960376,
          3.097900351,
          3.104360159,
          3.111103915,
          3.117549833,
          3.123209181,
          3.129382371,
          3.13582683,
          3.14199715,
          3.147621153,
          3.152865208,
          3.159037831,
          3.164354881,
          3.169741522,
          3.174879413,
          3.18010419,
          3.184228198,
          3.189625945,
          3.194130789,
          3.199029801,
          3.20327946,
          3.207607067,
          3.212088246,
          3.216390126,
          3.220001185,
          3.223551413,
          3.22753998,
          3.231254071,
          3.234609861,
          3.237840577,
          3.241184016,
          3.244132175,
          3.247124632,
          3.250098197
         ],
         "z": [
          1.663831418,
          1.726369589,
          1.785717045,
          1.847135427,
          1.905279115,
          1.96307739,
          2.019367811,
          2.073827487,
          2.127252022,
          2.18028974,
          2.232561178,
          2.285078466,
          2.332169828,
          2.382421849,
          2.430040512,
          2.476315848,
          2.521497134,
          2.56612261,
          2.61061262,
          2.651297894,
          2.693624658,
          2.736118539,
          2.777120881,
          2.819208516,
          2.857806298,
          2.894654179,
          2.931077028,
          2.970020232,
          3.002767627,
          3.037412908,
          3.072573728,
          3.106777499,
          3.140107083,
          3.169898098,
          3.200046912,
          3.231029331,
          3.259746194,
          3.288108565,
          3.315550019,
          3.340439943,
          3.367554693,
          3.392945044,
          3.416754023,
          3.441116422,
          3.462926328,
          3.485936368,
          3.507390481,
          3.52690789,
          3.542518447,
          3.561572278,
          3.580136395,
          3.596402274,
          3.611151825,
          3.624468643,
          3.637662687,
          3.650137199,
          3.660910029,
          3.670811257,
          3.680543428,
          3.688772629,
          3.693906976,
          3.700283103,
          3.705180641,
          3.708586578,
          3.708105854,
          3.710284362,
          3.708068069,
          3.705085365,
          3.699132648,
          3.695428093,
          3.687879813,
          3.677603621,
          3.668690947,
          3.657911506,
          3.642766428,
          3.628397255,
          3.612254102,
          3.593252168,
          3.571126417,
          3.549456869,
          3.523805867,
          3.498483263,
          3.469578768,
          3.43954105,
          3.405955637,
          3.371578832,
          3.333733468,
          3.294273071,
          3.25253161,
          3.207376271,
          3.16138393,
          3.110847533,
          3.059430668,
          3.00439285,
          2.947882524,
          2.886337326,
          2.824267734,
          2.757045373,
          2.687755947,
          2.615694529,
          2.541112896,
          2.461736004,
          2.38106508,
          2.296400748,
          2.205835344,
          2.115698484,
          2.017824684,
          1.921291619,
          1.817816709,
          1.710215632,
          1.599969113,
          1.485637122,
          1.366586863,
          1.242894143,
          1.115022213,
          0.984412937,
          0.849586836,
          0.709862422,
          0.562758775,
          0.41267819,
          0.260490723,
          0.101741036
         ]
        },
        {
         "marker": {
          "color": "red",
          "size": 2
         },
         "mode": "markers",
         "name": "Predicted Values (Random Forest)",
         "opacity": 0.7,
         "type": "scatter3d",
         "x": [
          4.076258614610915,
          4.152213909355844,
          4.227431800053573,
          4.30242841240785,
          4.376502786687644,
          4.450472478400571,
          4.523339652424485,
          4.596146028882295,
          4.668530429768128,
          4.740506713195546,
          4.8117488497583585,
          4.881639223464886,
          4.952162375992279,
          5.022925225834071,
          5.095757598521592,
          5.154433144561582,
          5.230192733779545,
          5.295362512001459,
          5.357741669057819,
          5.4311409262973545,
          5.493908933150724,
          5.558933640959689,
          5.6205860417529765,
          5.6888121058486965,
          5.74825168208518,
          5.813888055176418,
          5.875515521215193,
          5.937665343844003,
          6.001698555806808,
          6.074210504673324,
          6.140909024446304,
          6.179120202223563,
          6.231918160248914,
          6.307592407602051,
          6.376197606462206,
          6.425055269527665,
          6.46274172536928,
          6.531019568776229,
          6.604454796431027,
          6.659995340430735,
          6.702022564467346,
          6.7296142008852655,
          6.814255582015757,
          6.879427025132519,
          6.91718245961349,
          6.953461283477884,
          7.016448536226757,
          7.079467726468758,
          7.153719336921905,
          7.181112650739858,
          7.21402069203311,
          7.256361318249633,
          7.315595295014831,
          7.383528663869949,
          7.415709859038193,
          7.455507033916554,
          7.506998955292788,
          7.560782618570326,
          7.6089981582609925,
          7.648650283835335,
          7.67394930471715,
          7.708847468898809,
          7.787490679002479,
          7.8313490479021945,
          7.865378366733849,
          7.900390050404971,
          7.929818660160878,
          7.97186295222789,
          8.029226206808811,
          8.078734471773886,
          8.12038372378217,
          8.147642800251392,
          8.173112450446949,
          8.199268049631462,
          8.25777263776267,
          8.301337597209269,
          8.337225361852223,
          8.361614216371835,
          8.405574045424174,
          8.428318359448316,
          8.445551533022309,
          8.483056415914845,
          8.536868472652548,
          8.56671002604243,
          8.59905939570178,
          8.623619977833851,
          8.654769820328077,
          8.686493192787351,
          8.711358768253945,
          8.7581876567566,
          8.780774179762435,
          8.80855071019585,
          8.83265741057381,
          8.859379511351307,
          8.89088073830534,
          8.918059349843572,
          8.940681654380379,
          8.960228115347126,
          8.983016233984335,
          9.019514466176261,
          9.043947811497063,
          9.059082320529463,
          9.07945899917308,
          9.113013066410257,
          9.133211557948862,
          9.149976151799306,
          9.166719317395327,
          9.195308877746838,
          9.208205573155196,
          9.226258340286174,
          9.245109825190577,
          9.265619549759355,
          9.282879342818667,
          9.296505262855163,
          9.317625309074,
          9.331409684741006,
          9.344618968304832,
          9.3609004620059,
          9.374707542872912,
          9.387367721050577,
          9.401405147031335,
          9.410026268304994
         ],
         "y": [
          2.0160920665360145,
          2.0305971075680236,
          2.0457127068826777,
          2.0631098102285828,
          2.075992618763241,
          2.0872819019833386,
          2.10186357328884,
          2.119242131984519,
          2.1248383128072725,
          2.1420276821867246,
          2.158113865368998,
          2.178971265561981,
          2.1866310021154636,
          2.204853102588729,
          2.2246356226477424,
          2.243594232356306,
          2.2578548292891742,
          2.2777469505169505,
          2.2843997289843823,
          2.3012451401056864,
          2.318587724877842,
          2.3382654979407227,
          2.351027278683627,
          2.36676765789255,
          2.3813661601458644,
          2.3967572661487764,
          2.4084183280945974,
          2.4153010443422294,
          2.428374546624003,
          2.439053760910191,
          2.4566842682439987,
          2.4609300714994014,
          2.474317361202864,
          2.4958596320801134,
          2.5148888167794885,
          2.527553950374886,
          2.52998185969659,
          2.542261173839267,
          2.5647462414662505,
          2.5802158330780007,
          2.594930417399291,
          2.600679111289251,
          2.6230850477282384,
          2.629495459230642,
          2.634825591284304,
          2.640500950826399,
          2.657483887317769,
          2.674615355370138,
          2.6958465682366444,
          2.7005165957112394,
          2.704822771988046,
          2.713864805882098,
          2.7273240223658393,
          2.7425979832486673,
          2.748769237401979,
          2.7604290382119143,
          2.7704119138666297,
          2.7799967740426155,
          2.792175567873913,
          2.7992526784173295,
          2.806775303661817,
          2.8144524328616893,
          2.8341185923952112,
          2.8419718844814854,
          2.846614116740223,
          2.8603483298675303,
          2.878157742323424,
          2.900298936843564,
          2.9180312722185637,
          2.935150887483586,
          2.9505152456882744,
          2.962630948319186,
          2.9730808881904944,
          2.984985202798181,
          2.998301541165972,
          3.0094528302008934,
          3.018420084157825,
          3.025686609660426,
          3.0347637076902667,
          3.0347931043358876,
          3.039501502551856,
          3.0445337935934886,
          3.0543181233220946,
          3.0664011606811186,
          3.0797900012579746,
          3.084947301738923,
          3.0937327618361805,
          3.099104792002943,
          3.1056576788874306,
          3.1132045362799334,
          3.120187791179057,
          3.1272567450925717,
          3.131190263748325,
          3.1427904509001467,
          3.1548357670268086,
          3.166635413993,
          3.171503093215126,
          3.1747179740559877,
          3.1739663791035624,
          3.172767885314778,
          3.182098142631208,
          3.1899516663916296,
          3.198356031405475,
          3.197486101565478,
          3.2003011367553706,
          3.2065932501362138,
          3.201022719185346,
          3.2120633257209166,
          3.2157936686345,
          3.20131897654377,
          3.2269117801713336,
          3.2377403356119046,
          3.221826685596499,
          3.233204936863166,
          3.231806901628167,
          3.2285370038965,
          3.227624041127334,
          3.2299903144679987,
          3.2553842214479976,
          3.2470590193740003,
          3.241197141022501,
          3.245757257948166
         ],
         "z": [
          1.6632262163795632,
          1.7260016041186166,
          1.7865096577003912,
          1.846639086242276,
          1.9049174867524885,
          1.962527544311564,
          2.018401157981487,
          2.0731646262540386,
          2.127414088578077,
          2.1810795294656846,
          2.233095325388727,
          2.2839844952597907,
          2.3332735702197365,
          2.3830940377601126,
          2.433083258217557,
          2.4734005820529075,
          2.5247927532677603,
          2.568132145365056,
          2.6081015456009435,
          2.655386164829569,
          2.6961313571994707,
          2.7375586856547365,
          2.77612213029761,
          2.8187244525453905,
          2.855272118745634,
          2.8946968667212865,
          2.93109134617146,
          2.967743662439052,
          3.0047535142155777,
          3.0458233285152096,
          3.083251888815077,
          3.104409453475538,
          3.133051442136724,
          3.1736085466334494,
          3.209734700498926,
          3.2349371623286025,
          3.253948517367414,
          3.287677774573853,
          3.3231959570555603,
          3.349499637904644,
          3.369077036142151,
          3.3816736951580886,
          3.4194751683325735,
          3.448063141318471,
          3.464209150719648,
          3.479106377749899,
          3.504180856270476,
          3.5283091418854338,
          3.5555563970561144,
          3.5652006539479135,
          3.576318556574589,
          3.5901490171032826,
          3.6083627405908856,
          3.6281471935130143,
          3.636606924812996,
          3.646711186659039,
          3.658539840390511,
          3.6700519345474585,
          3.6792951152346314,
          3.6859262228942167,
          3.6894818946244055,
          3.6936789789316276,
          3.7006536887782,
          3.7032088803887033,
          3.7044489153421596,
          3.704653424608216,
          3.70400009507117,
          3.7013972529730745,
          3.695042480230282,
          3.68734452847639,
          3.6796230342130904,
          3.6734489943886506,
          3.6672476612640343,
          3.6596510352091856,
          3.6378826644511366,
          3.619688511240402,
          3.6021045642524836,
          3.589633447110632,
          3.564628809710304,
          3.549826889304465,
          3.5371831346891365,
          3.508157499726087,
          3.462129204036596,
          3.4356271465649546,
          3.403298693512407,
          3.376210525481514,
          3.3403761992570087,
          3.29978795733916,
          3.2657257272002638,
          3.19531392936896,
          3.158950010374462,
          3.1112983503235756,
          3.066198461846706,
          3.0130757605110836,
          2.94533043106807,
          2.883994107963974,
          2.829798294379805,
          2.7795887887700155,
          2.71778166196985,
          2.6101056554239186,
          2.53365346654843,
          2.483242414276256,
          2.409365309847851,
          2.277984435447917,
          2.193793254659774,
          2.1205414392070128,
          2.043100600175687,
          1.9032286183999483,
          1.8346501166482334,
          1.7335805135211029,
          1.6245001680063882,
          1.4957877257262056,
          1.3742557109191653,
          1.2709083997281667,
          1.1081602234883343,
          0.9952931422770006,
          0.8755190750475002,
          0.7169467556885957,
          0.572503899688262,
          0.4300492325842621,
          0.2652069716578333,
          0.17946695330583332
         ]
        },
        {
         "marker": {
          "color": "green",
          "size": 2
         },
         "mode": "markers",
         "name": "Predicted Values (Extra Trees)",
         "opacity": 0.7,
         "type": "scatter3d",
         "x": [
          4.076207748000001,
          4.151257826000005,
          4.227329412000004,
          4.301839388000006,
          4.3764625480000054,
          4.450040209999998,
          4.524014831999993,
          4.595875272,
          4.667938015000003,
          4.739368771999993,
          4.810979293000002,
          4.881001339000008,
          4.951967103000004,
          5.02073528099999,
          5.09039894,
          5.157619452999996,
          5.225946337999985,
          5.292867720999994,
          5.359816765000004,
          5.4271082440000065,
          5.492955228000015,
          5.55690577799999,
          5.62176129900001,
          5.686853387,
          5.750356661999994,
          5.813270149999995,
          5.8764158440000065,
          5.938465792999989,
          5.999839969000002,
          6.06095255100001,
          6.119030563000012,
          6.182104036000009,
          6.240987288000005,
          6.299052268000004,
          6.356715368999983,
          6.416927103000001,
          6.472961528000005,
          6.529543260000002,
          6.587609306999989,
          6.642607224000008,
          6.697549458000014,
          6.752126202,
          6.805871076000009,
          6.858843593999991,
          6.912153190000016,
          6.964629596999999,
          7.016460313000006,
          7.069772647000003,
          7.119162831000007,
          7.171077522000011,
          7.220557975000012,
          7.268722019000012,
          7.317313571,
          7.367161413999989,
          7.4145099810000055,
          7.460169553000011,
          7.509176303000003,
          7.554147011000017,
          7.601173290000012,
          7.646347233000018,
          7.689058789999993,
          7.733718433000007,
          7.777505117000004,
          7.820121352,
          7.863858134999989,
          7.903742146000011,
          7.946474910000005,
          7.9880499079999945,
          8.028354502999981,
          8.067781406999991,
          8.108859872000009,
          8.146911144999992,
          8.186440107999978,
          8.221920232999993,
          8.26285866399999,
          8.296004934000019,
          8.333476958000004,
          8.366852247999988,
          8.403713442000017,
          8.43805377599998,
          8.47235468199998,
          8.50181546800001,
          8.539603057000015,
          8.570293210000013,
          8.603036429999982,
          8.634054812000013,
          8.666727918999989,
          8.695121774999988,
          8.725468549999986,
          8.755528881000007,
          8.783509385999993,
          8.812719803000016,
          8.840640139000008,
          8.865153469000004,
          8.891892493,
          8.91980651200001,
          8.946533102999986,
          8.970893338999987,
          8.993607833000024,
          9.02034440299999,
          9.043375074999979,
          9.066707179999987,
          9.088961831999997,
          9.111592828999987,
          9.129455870000008,
          9.15283608100001,
          9.17234870100001,
          9.193568658000002,
          9.211975949000013,
          9.230720874999982,
          9.250130996000022,
          9.268764485000013,
          9.284405698,
          9.299783424,
          9.317059806999987,
          9.33314730500001,
          9.347682827999986,
          9.361676593999984,
          9.376158622000018,
          9.388928499000007,
          9.401890254000016,
          9.414770181999991
         ],
         "y": [
          2.0175939449999962,
          2.034920620999998,
          2.052483130000004,
          2.069685114000002,
          2.086913226999997,
          2.1038999689999973,
          2.1209783559999966,
          2.1375686460000036,
          2.1542056410000026,
          2.1706967309999987,
          2.187229322000001,
          2.2033951850000033,
          2.219778923000005,
          2.2356553079999975,
          2.251738431000005,
          2.2672575089999962,
          2.283032014000006,
          2.2984820320000034,
          2.3139384369999965,
          2.3294738989999946,
          2.344675873,
          2.359440021000004,
          2.3744130979999967,
          2.389440790000003,
          2.4041016760000034,
          2.4186263999999955,
          2.4332047320000054,
          2.447530091000003,
          2.461699436000003,
          2.4758083870000003,
          2.4892167529999956,
          2.503778412000002,
          2.517372682000001,
          2.530778037999996,
          2.5440906139999986,
          2.557991587999995,
          2.570928154999996,
          2.5839910770000016,
          2.5973966800000015,
          2.610093949999998,
          2.622778363999999,
          2.635378398,
          2.647786380000007,
          2.6600160490000038,
          2.6723235389999958,
          2.6844386719999993,
          2.6964047360000016,
          2.708712858000006,
          2.7201154809999952,
          2.7321009309999966,
          2.7435243939999983,
          2.754643939999996,
          2.765862184000007,
          2.7773704649999957,
          2.788301743000001,
          2.798843086000001,
          2.810157185000001,
          2.8205394919999986,
          2.831396363000005,
          2.8418255900000045,
          2.851686330000005,
          2.8619968209999964,
          2.8721057729999933,
          2.881944507000008,
          2.892041938000001,
          2.901249887999997,
          2.9111155240000004,
          2.9207138680000053,
          2.9300189170000026,
          2.9391213350000016,
          2.9486050460000057,
          2.957389874999995,
          2.9665158550000057,
          2.9747070870000067,
          2.984158468999999,
          2.991810887999999,
          3.000461986999996,
          3.008167279,
          3.0166773569999963,
          3.0246054469999994,
          3.0325244350000036,
          3.039325994000001,
          3.0480499459999963,
          3.055135326000004,
          3.062694693999997,
          3.069855851999995,
          3.0773990330000043,
          3.0839542710000005,
          3.0909603759999986,
          3.097900350999999,
          3.104360159000004,
          3.1111039150000006,
          3.1175498329999987,
          3.1232091809999947,
          3.129382371000001,
          3.1358268300000027,
          3.1419971500000043,
          3.1476211529999945,
          3.152865207999999,
          3.1590378309999996,
          3.164354881000004,
          3.1697415219999994,
          3.174879413000002,
          3.180104190000004,
          3.1842281980000053,
          3.1896259449999946,
          3.1941307890000017,
          3.1990298009999965,
          3.203279459999998,
          3.207607067000004,
          3.212088246000003,
          3.2163901260000007,
          3.2200011850000005,
          3.223551412999997,
          3.2275399800000004,
          3.2312540710000017,
          3.2346098610000023,
          3.2378405769999916,
          3.241184015999998,
          3.244132175000003,
          3.2471246320000047,
          3.250098197
         ],
         "z": [
          1.6638314180000007,
          1.7263695890000006,
          1.7857170450000026,
          1.8471354270000027,
          1.905279115000004,
          1.9630773899999971,
          2.019367810999997,
          2.073827486999997,
          2.1272520219999955,
          2.1802897400000045,
          2.232561177999998,
          2.2850784659999954,
          2.332169827999997,
          2.382421848999997,
          2.4300405120000033,
          2.476315848000006,
          2.5214971339999934,
          2.566122610000002,
          2.6106126200000053,
          2.651297894000003,
          2.693624658000002,
          2.736118538999997,
          2.7771208809999997,
          2.819208516000003,
          2.857806298000008,
          2.894654179000004,
          2.931077028000003,
          2.9700202320000013,
          3.0027676270000017,
          3.037412907999999,
          3.0725737280000045,
          3.1067774989999974,
          3.140107082999998,
          3.1698980979999978,
          3.2000469120000035,
          3.2310293310000016,
          3.259746194000001,
          3.2881085649999995,
          3.315550019,
          3.340439942999999,
          3.3675546929999935,
          3.392945043999992,
          3.4167540230000055,
          3.441116421999995,
          3.4629263279999973,
          3.485936368000006,
          3.5073904810000003,
          3.5269078900000017,
          3.542518447000004,
          3.561572277999992,
          3.5801363950000056,
          3.596402274000008,
          3.611151824999995,
          3.624468643,
          3.6376626869999935,
          3.650137199000008,
          3.660910028999997,
          3.6708112570000058,
          3.680543428000003,
          3.688772629000008,
          3.693906975999995,
          3.7002831030000025,
          3.705180641000007,
          3.7085865779999962,
          3.708105853999997,
          3.7102843619999972,
          3.7080680689999967,
          3.7050853650000017,
          3.699132647999993,
          3.695428092999994,
          3.6878798129999963,
          3.6776036210000025,
          3.6686909470000013,
          3.6579115060000036,
          3.6427664280000003,
          3.6283972549999977,
          3.6122541020000045,
          3.5932521679999962,
          3.5711264170000008,
          3.5494568689999983,
          3.523805867000002,
          3.498483263000005,
          3.4695787680000025,
          3.439541050000002,
          3.405955636999997,
          3.371578832000006,
          3.3337334679999957,
          3.2942730710000028,
          3.2525316100000037,
          3.2073762709999927,
          3.16138393,
          3.110847533000003,
          3.059430668000003,
          3.0043928499999937,
          2.947882523999999,
          2.886337325999995,
          2.824267733999995,
          2.7570453730000026,
          2.687755947000001,
          2.615694528999997,
          2.5411128959999942,
          2.4617360039999947,
          2.3810650800000057,
          2.296400747999997,
          2.2058353440000014,
          2.115698484000004,
          2.0178246840000025,
          1.9212916189999967,
          1.817816708999999,
          1.7102156320000004,
          1.5999691129999973,
          1.4856371220000018,
          1.3665868629999987,
          1.2428941430000007,
          1.1150222130000023,
          0.984412937000001,
          0.8495868360000002,
          0.7098624220000004,
          0.5627587749999994,
          0.4126781900000006,
          0.26049072300000015,
          0.10174103599999997
         ]
        },
        {
         "line": {
          "color": "black",
          "width": 1
         },
         "mode": "lines",
         "name": "Court Boundaries",
         "type": "scatter3d",
         "x": [
          0,
          13.4,
          13.4,
          0,
          0
         ],
         "y": [
          0,
          0,
          5.18,
          5.18,
          0
         ],
         "z": [
          0,
          0,
          0,
          0,
          0
         ]
        },
        {
         "line": {
          "color": "black",
          "width": 1
         },
         "mode": "lines",
         "name": "Center Line",
         "type": "scatter3d",
         "x": [
          0,
          4.68,
          4.68,
          0,
          0
         ],
         "y": [
          2.59,
          2.59,
          2.59,
          2.59,
          2.59
         ],
         "z": [
          0,
          0,
          0,
          0,
          0
         ]
        },
        {
         "line": {
          "color": "black",
          "width": 1
         },
         "mode": "lines",
         "name": "Center Line",
         "type": "scatter3d",
         "x": [
          8.72,
          13.4
         ],
         "y": [
          2.59,
          2.59
         ],
         "z": [
          0,
          0,
          0,
          0,
          0
         ]
        },
        {
         "line": {
          "color": "black",
          "width": 1
         },
         "mode": "lines",
         "name": "Short Service Lines",
         "type": "scatter3d",
         "x": [
          4.72,
          4.72
         ],
         "y": [
          0,
          5.18
         ],
         "z": [
          0,
          0
         ]
        },
        {
         "line": {
          "color": "black",
          "width": 1
         },
         "mode": "lines",
         "name": "Short Service Lines",
         "type": "scatter3d",
         "x": [
          8.680000000000001,
          8.680000000000001
         ],
         "y": [
          0,
          5.18
         ],
         "z": [
          0,
          0
         ]
        },
        {
         "line": {
          "color": "red",
          "width": 1
         },
         "mode": "lines",
         "name": "Net",
         "type": "scatter3d",
         "x": [
          6.7,
          6.7
         ],
         "y": [
          0,
          5.18
         ],
         "z": [
          1.55,
          1.55
         ]
        },
        {
         "line": {
          "color": "green",
          "width": 5
         },
         "marker": {
          "color": "cyan",
          "line": {
           "color": "black",
           "width": 4
          },
          "size": 10,
          "symbol": "cross"
         },
         "mode": "lines+markers",
         "name": "Predicted Position",
         "opacity": 1,
         "type": "scatter3d",
         "x": [
          9.412398225152494
         ],
         "y": [
          3.247927727474083
         ],
         "z": [
          0.14060399465291665
         ]
        },
        {
         "line": {
          "color": "green",
          "width": 5
         },
         "marker": {
          "color": "cyan",
          "line": {
           "color": "black",
           "width": 4
          },
          "size": 6,
          "symbol": "diamond"
         },
         "mode": "lines+markers",
         "name": "Average Highest XYZ-point",
         "opacity": 1,
         "type": "scatter3d",
         "x": [
          7.902066098202491
         ],
         "y": [
          2.880799108933764
         ],
         "z": [
          3.7074688933041067
         ]
        },
        {
         "marker": {
          "color": "blue",
          "size": 10
         },
         "mode": "markers",
         "name": "Initial Starting Point (Hit)",
         "opacity": 1,
         "type": "scatter3d",
         "x": [
          8.870979637784004
         ],
         "y": [
          4.555727849555124
         ],
         "z": [
          1.115
         ]
        },
        {
         "marker": {
          "color": "blue",
          "size": 10
         },
         "mode": "markers",
         "name": "Initial Starting Point (Hit)",
         "opacity": 1,
         "type": "scatter3d",
         "x": [
          12.303828798214841
         ],
         "y": [
          5.067976930517917
         ],
         "z": [
          1.115
         ]
        },
        {
         "marker": {
          "color": "blue",
          "size": 10
         },
         "mode": "markers",
         "name": "Initial Starting Point (Hit)",
         "opacity": 1,
         "type": "scatter3d",
         "x": [
          12.68152628151788
         ],
         "y": [
          1.2288364299637506
         ],
         "z": [
          1.115
         ]
        },
        {
         "marker": {
          "color": "green",
          "size": 10
         },
         "mode": "markers",
         "name": "Point to Hit the Ball",
         "opacity": 1,
         "type": "scatter3d",
         "x": [
          9.616398225152494
         ],
         "y": [
          3.477927727474083
         ],
         "z": [
          1.115
         ]
        }
       ],
       "layout": {
        "scene": {
         "aspectmode": "manual",
         "aspectratio": {
          "x": 1,
          "y": 1,
          "z": 1
         },
         "xaxis": {
          "range": [
           -4,
           18
          ],
          "title": {
           "text": "X-coordinate"
          }
         },
         "yaxis": {
          "range": [
           -2,
           7
          ],
          "title": {
           "text": "Y-coordinate"
          }
         },
         "zaxis": {
          "range": [
           0,
           12
          ],
          "title": {
           "text": "Z-coordinate"
          }
         }
        },
        "template": {
         "data": {
          "bar": [
           {
            "error_x": {
             "color": "#2a3f5f"
            },
            "error_y": {
             "color": "#2a3f5f"
            },
            "marker": {
             "line": {
              "color": "#E5ECF6",
              "width": 0.5
             },
             "pattern": {
              "fillmode": "overlay",
              "size": 10,
              "solidity": 0.2
             }
            },
            "type": "bar"
           }
          ],
          "barpolar": [
           {
            "marker": {
             "line": {
              "color": "#E5ECF6",
              "width": 0.5
             },
             "pattern": {
              "fillmode": "overlay",
              "size": 10,
              "solidity": 0.2
             }
            },
            "type": "barpolar"
           }
          ],
          "carpet": [
           {
            "aaxis": {
             "endlinecolor": "#2a3f5f",
             "gridcolor": "white",
             "linecolor": "white",
             "minorgridcolor": "white",
             "startlinecolor": "#2a3f5f"
            },
            "baxis": {
             "endlinecolor": "#2a3f5f",
             "gridcolor": "white",
             "linecolor": "white",
             "minorgridcolor": "white",
             "startlinecolor": "#2a3f5f"
            },
            "type": "carpet"
           }
          ],
          "choropleth": [
           {
            "colorbar": {
             "outlinewidth": 0,
             "ticks": ""
            },
            "type": "choropleth"
           }
          ],
          "contour": [
           {
            "colorbar": {
             "outlinewidth": 0,
             "ticks": ""
            },
            "colorscale": [
             [
              0,
              "#0d0887"
             ],
             [
              0.1111111111111111,
              "#46039f"
             ],
             [
              0.2222222222222222,
              "#7201a8"
             ],
             [
              0.3333333333333333,
              "#9c179e"
             ],
             [
              0.4444444444444444,
              "#bd3786"
             ],
             [
              0.5555555555555556,
              "#d8576b"
             ],
             [
              0.6666666666666666,
              "#ed7953"
             ],
             [
              0.7777777777777778,
              "#fb9f3a"
             ],
             [
              0.8888888888888888,
              "#fdca26"
             ],
             [
              1,
              "#f0f921"
             ]
            ],
            "type": "contour"
           }
          ],
          "contourcarpet": [
           {
            "colorbar": {
             "outlinewidth": 0,
             "ticks": ""
            },
            "type": "contourcarpet"
           }
          ],
          "heatmap": [
           {
            "colorbar": {
             "outlinewidth": 0,
             "ticks": ""
            },
            "colorscale": [
             [
              0,
              "#0d0887"
             ],
             [
              0.1111111111111111,
              "#46039f"
             ],
             [
              0.2222222222222222,
              "#7201a8"
             ],
             [
              0.3333333333333333,
              "#9c179e"
             ],
             [
              0.4444444444444444,
              "#bd3786"
             ],
             [
              0.5555555555555556,
              "#d8576b"
             ],
             [
              0.6666666666666666,
              "#ed7953"
             ],
             [
              0.7777777777777778,
              "#fb9f3a"
             ],
             [
              0.8888888888888888,
              "#fdca26"
             ],
             [
              1,
              "#f0f921"
             ]
            ],
            "type": "heatmap"
           }
          ],
          "heatmapgl": [
           {
            "colorbar": {
             "outlinewidth": 0,
             "ticks": ""
            },
            "colorscale": [
             [
              0,
              "#0d0887"
             ],
             [
              0.1111111111111111,
              "#46039f"
             ],
             [
              0.2222222222222222,
              "#7201a8"
             ],
             [
              0.3333333333333333,
              "#9c179e"
             ],
             [
              0.4444444444444444,
              "#bd3786"
             ],
             [
              0.5555555555555556,
              "#d8576b"
             ],
             [
              0.6666666666666666,
              "#ed7953"
             ],
             [
              0.7777777777777778,
              "#fb9f3a"
             ],
             [
              0.8888888888888888,
              "#fdca26"
             ],
             [
              1,
              "#f0f921"
             ]
            ],
            "type": "heatmapgl"
           }
          ],
          "histogram": [
           {
            "marker": {
             "pattern": {
              "fillmode": "overlay",
              "size": 10,
              "solidity": 0.2
             }
            },
            "type": "histogram"
           }
          ],
          "histogram2d": [
           {
            "colorbar": {
             "outlinewidth": 0,
             "ticks": ""
            },
            "colorscale": [
             [
              0,
              "#0d0887"
             ],
             [
              0.1111111111111111,
              "#46039f"
             ],
             [
              0.2222222222222222,
              "#7201a8"
             ],
             [
              0.3333333333333333,
              "#9c179e"
             ],
             [
              0.4444444444444444,
              "#bd3786"
             ],
             [
              0.5555555555555556,
              "#d8576b"
             ],
             [
              0.6666666666666666,
              "#ed7953"
             ],
             [
              0.7777777777777778,
              "#fb9f3a"
             ],
             [
              0.8888888888888888,
              "#fdca26"
             ],
             [
              1,
              "#f0f921"
             ]
            ],
            "type": "histogram2d"
           }
          ],
          "histogram2dcontour": [
           {
            "colorbar": {
             "outlinewidth": 0,
             "ticks": ""
            },
            "colorscale": [
             [
              0,
              "#0d0887"
             ],
             [
              0.1111111111111111,
              "#46039f"
             ],
             [
              0.2222222222222222,
              "#7201a8"
             ],
             [
              0.3333333333333333,
              "#9c179e"
             ],
             [
              0.4444444444444444,
              "#bd3786"
             ],
             [
              0.5555555555555556,
              "#d8576b"
             ],
             [
              0.6666666666666666,
              "#ed7953"
             ],
             [
              0.7777777777777778,
              "#fb9f3a"
             ],
             [
              0.8888888888888888,
              "#fdca26"
             ],
             [
              1,
              "#f0f921"
             ]
            ],
            "type": "histogram2dcontour"
           }
          ],
          "mesh3d": [
           {
            "colorbar": {
             "outlinewidth": 0,
             "ticks": ""
            },
            "type": "mesh3d"
           }
          ],
          "parcoords": [
           {
            "line": {
             "colorbar": {
              "outlinewidth": 0,
              "ticks": ""
             }
            },
            "type": "parcoords"
           }
          ],
          "pie": [
           {
            "automargin": true,
            "type": "pie"
           }
          ],
          "scatter": [
           {
            "fillpattern": {
             "fillmode": "overlay",
             "size": 10,
             "solidity": 0.2
            },
            "type": "scatter"
           }
          ],
          "scatter3d": [
           {
            "line": {
             "colorbar": {
              "outlinewidth": 0,
              "ticks": ""
             }
            },
            "marker": {
             "colorbar": {
              "outlinewidth": 0,
              "ticks": ""
             }
            },
            "type": "scatter3d"
           }
          ],
          "scattercarpet": [
           {
            "marker": {
             "colorbar": {
              "outlinewidth": 0,
              "ticks": ""
             }
            },
            "type": "scattercarpet"
           }
          ],
          "scattergeo": [
           {
            "marker": {
             "colorbar": {
              "outlinewidth": 0,
              "ticks": ""
             }
            },
            "type": "scattergeo"
           }
          ],
          "scattergl": [
           {
            "marker": {
             "colorbar": {
              "outlinewidth": 0,
              "ticks": ""
             }
            },
            "type": "scattergl"
           }
          ],
          "scattermapbox": [
           {
            "marker": {
             "colorbar": {
              "outlinewidth": 0,
              "ticks": ""
             }
            },
            "type": "scattermapbox"
           }
          ],
          "scatterpolar": [
           {
            "marker": {
             "colorbar": {
              "outlinewidth": 0,
              "ticks": ""
             }
            },
            "type": "scatterpolar"
           }
          ],
          "scatterpolargl": [
           {
            "marker": {
             "colorbar": {
              "outlinewidth": 0,
              "ticks": ""
             }
            },
            "type": "scatterpolargl"
           }
          ],
          "scatterternary": [
           {
            "marker": {
             "colorbar": {
              "outlinewidth": 0,
              "ticks": ""
             }
            },
            "type": "scatterternary"
           }
          ],
          "surface": [
           {
            "colorbar": {
             "outlinewidth": 0,
             "ticks": ""
            },
            "colorscale": [
             [
              0,
              "#0d0887"
             ],
             [
              0.1111111111111111,
              "#46039f"
             ],
             [
              0.2222222222222222,
              "#7201a8"
             ],
             [
              0.3333333333333333,
              "#9c179e"
             ],
             [
              0.4444444444444444,
              "#bd3786"
             ],
             [
              0.5555555555555556,
              "#d8576b"
             ],
             [
              0.6666666666666666,
              "#ed7953"
             ],
             [
              0.7777777777777778,
              "#fb9f3a"
             ],
             [
              0.8888888888888888,
              "#fdca26"
             ],
             [
              1,
              "#f0f921"
             ]
            ],
            "type": "surface"
           }
          ],
          "table": [
           {
            "cells": {
             "fill": {
              "color": "#EBF0F8"
             },
             "line": {
              "color": "white"
             }
            },
            "header": {
             "fill": {
              "color": "#C8D4E3"
             },
             "line": {
              "color": "white"
             }
            },
            "type": "table"
           }
          ]
         },
         "layout": {
          "annotationdefaults": {
           "arrowcolor": "#2a3f5f",
           "arrowhead": 0,
           "arrowwidth": 1
          },
          "autotypenumbers": "strict",
          "coloraxis": {
           "colorbar": {
            "outlinewidth": 0,
            "ticks": ""
           }
          },
          "colorscale": {
           "diverging": [
            [
             0,
             "#8e0152"
            ],
            [
             0.1,
             "#c51b7d"
            ],
            [
             0.2,
             "#de77ae"
            ],
            [
             0.3,
             "#f1b6da"
            ],
            [
             0.4,
             "#fde0ef"
            ],
            [
             0.5,
             "#f7f7f7"
            ],
            [
             0.6,
             "#e6f5d0"
            ],
            [
             0.7,
             "#b8e186"
            ],
            [
             0.8,
             "#7fbc41"
            ],
            [
             0.9,
             "#4d9221"
            ],
            [
             1,
             "#276419"
            ]
           ],
           "sequential": [
            [
             0,
             "#0d0887"
            ],
            [
             0.1111111111111111,
             "#46039f"
            ],
            [
             0.2222222222222222,
             "#7201a8"
            ],
            [
             0.3333333333333333,
             "#9c179e"
            ],
            [
             0.4444444444444444,
             "#bd3786"
            ],
            [
             0.5555555555555556,
             "#d8576b"
            ],
            [
             0.6666666666666666,
             "#ed7953"
            ],
            [
             0.7777777777777778,
             "#fb9f3a"
            ],
            [
             0.8888888888888888,
             "#fdca26"
            ],
            [
             1,
             "#f0f921"
            ]
           ],
           "sequentialminus": [
            [
             0,
             "#0d0887"
            ],
            [
             0.1111111111111111,
             "#46039f"
            ],
            [
             0.2222222222222222,
             "#7201a8"
            ],
            [
             0.3333333333333333,
             "#9c179e"
            ],
            [
             0.4444444444444444,
             "#bd3786"
            ],
            [
             0.5555555555555556,
             "#d8576b"
            ],
            [
             0.6666666666666666,
             "#ed7953"
            ],
            [
             0.7777777777777778,
             "#fb9f3a"
            ],
            [
             0.8888888888888888,
             "#fdca26"
            ],
            [
             1,
             "#f0f921"
            ]
           ]
          },
          "colorway": [
           "#636efa",
           "#EF553B",
           "#00cc96",
           "#ab63fa",
           "#FFA15A",
           "#19d3f3",
           "#FF6692",
           "#B6E880",
           "#FF97FF",
           "#FECB52"
          ],
          "font": {
           "color": "#2a3f5f"
          },
          "geo": {
           "bgcolor": "white",
           "lakecolor": "white",
           "landcolor": "#E5ECF6",
           "showlakes": true,
           "showland": true,
           "subunitcolor": "white"
          },
          "hoverlabel": {
           "align": "left"
          },
          "hovermode": "closest",
          "mapbox": {
           "style": "light"
          },
          "paper_bgcolor": "white",
          "plot_bgcolor": "#E5ECF6",
          "polar": {
           "angularaxis": {
            "gridcolor": "white",
            "linecolor": "white",
            "ticks": ""
           },
           "bgcolor": "#E5ECF6",
           "radialaxis": {
            "gridcolor": "white",
            "linecolor": "white",
            "ticks": ""
           }
          },
          "scene": {
           "xaxis": {
            "backgroundcolor": "#E5ECF6",
            "gridcolor": "white",
            "gridwidth": 2,
            "linecolor": "white",
            "showbackground": true,
            "ticks": "",
            "zerolinecolor": "white"
           },
           "yaxis": {
            "backgroundcolor": "#E5ECF6",
            "gridcolor": "white",
            "gridwidth": 2,
            "linecolor": "white",
            "showbackground": true,
            "ticks": "",
            "zerolinecolor": "white"
           },
           "zaxis": {
            "backgroundcolor": "#E5ECF6",
            "gridcolor": "white",
            "gridwidth": 2,
            "linecolor": "white",
            "showbackground": true,
            "ticks": "",
            "zerolinecolor": "white"
           }
          },
          "shapedefaults": {
           "line": {
            "color": "#2a3f5f"
           }
          },
          "ternary": {
           "aaxis": {
            "gridcolor": "white",
            "linecolor": "white",
            "ticks": ""
           },
           "baxis": {
            "gridcolor": "white",
            "linecolor": "white",
            "ticks": ""
           },
           "bgcolor": "#E5ECF6",
           "caxis": {
            "gridcolor": "white",
            "linecolor": "white",
            "ticks": ""
           }
          },
          "title": {
           "x": 0.05
          },
          "xaxis": {
           "automargin": true,
           "gridcolor": "white",
           "linecolor": "white",
           "ticks": "",
           "title": {
            "standoff": 15
           },
           "zerolinecolor": "white",
           "zerolinewidth": 2
          },
          "yaxis": {
           "automargin": true,
           "gridcolor": "white",
           "linecolor": "white",
           "ticks": "",
           "title": {
            "standoff": 15
           },
           "zerolinecolor": "white",
           "zerolinewidth": 2
          }
         }
        },
        "title": {
         "text": "Shuttlecock Trajectory Estimation"
        }
       }
      },
      "text/html": [
       "<div>                            <div id=\"e635fd29-ff44-4546-8a1d-1382a2a842c8\" class=\"plotly-graph-div\" style=\"height:525px; width:100%;\"></div>            <script type=\"text/javascript\">                require([\"plotly\"], function(Plotly) {                    window.PLOTLYENV=window.PLOTLYENV || {};                                    if (document.getElementById(\"e635fd29-ff44-4546-8a1d-1382a2a842c8\")) {                    Plotly.newPlot(                        \"e635fd29-ff44-4546-8a1d-1382a2a842c8\",                        [{\"marker\":{\"color\":\"blue\",\"size\":2},\"mode\":\"markers\",\"name\":\"True Values\",\"opacity\":0.7,\"x\":[4.076207748,4.151257826,4.227329412,4.301839388,4.376462548,4.45004021,4.524014832,4.595875272,4.667938015,4.739368772,4.810979293,4.881001339,4.951967103,5.020735281,5.09039894,5.157619453,5.225946338,5.292867721,5.359816765,5.427108244,5.492955228,5.556905778,5.621761299,5.686853387,5.750356662,5.81327015,5.876415844,5.938465793,5.999839969,6.060952551,6.119030563,6.182104036,6.240987288,6.299052268,6.356715369,6.416927103,6.472961528,6.52954326,6.587609307,6.642607224,6.697549458,6.752126202,6.805871076,6.858843594,6.91215319,6.964629597,7.016460313,7.069772647,7.119162831,7.171077522,7.220557975,7.268722019,7.317313571,7.367161414,7.414509981,7.460169553,7.509176303,7.554147011,7.60117329,7.646347233,7.68905879,7.733718433,7.777505117,7.820121352,7.863858135,7.903742146,7.94647491,7.988049908,8.028354503,8.067781407,8.108859872,8.146911145,8.186440108,8.221920233,8.262858664,8.296004934,8.333476958,8.366852248,8.403713442,8.438053776,8.472354682,8.501815468,8.539603057,8.57029321,8.60303643,8.634054812,8.666727919,8.695121775,8.72546855,8.755528881,8.783509386,8.812719803,8.840640139,8.865153469,8.891892493,8.919806512,8.946533103,8.970893339,8.993607833,9.020344403,9.043375075,9.06670718,9.088961832,9.111592829,9.12945587,9.152836081,9.172348701,9.193568658,9.211975949,9.230720875,9.250130996,9.268764485,9.284405698,9.299783424,9.317059807,9.333147305,9.347682828,9.361676594,9.376158622,9.388928499,9.401890254,9.414770182],\"y\":[2.017593945,2.034920621,2.05248313,2.069685114,2.086913227,2.103899969,2.120978356,2.137568646,2.154205641,2.170696731,2.187229322,2.203395185,2.219778923,2.235655308,2.251738431,2.267257509,2.283032014,2.298482032,2.313938437,2.329473899,2.344675873,2.359440021,2.374413098,2.38944079,2.404101676,2.4186264,2.433204732,2.447530091,2.461699436,2.475808387,2.489216753,2.503778412,2.517372682,2.530778038,2.544090614,2.557991588,2.570928155,2.583991077,2.59739668,2.61009395,2.622778364,2.635378398,2.64778638,2.660016049,2.672323539,2.684438672,2.696404736,2.708712858,2.720115481,2.732100931,2.743524394,2.75464394,2.765862184,2.777370465,2.788301743,2.798843086,2.810157185,2.820539492,2.831396363,2.84182559,2.85168633,2.861996821,2.872105773,2.881944507,2.892041938,2.901249888,2.911115524,2.920713868,2.930018917,2.939121335,2.948605046,2.957389875,2.966515855,2.974707087,2.984158469,2.991810888,3.000461987,3.008167279,3.016677357,3.024605447,3.032524435,3.039325994,3.048049946,3.055135326,3.062694694,3.069855852,3.077399033,3.083954271,3.090960376,3.097900351,3.104360159,3.111103915,3.117549833,3.123209181,3.129382371,3.13582683,3.14199715,3.147621153,3.152865208,3.159037831,3.164354881,3.169741522,3.174879413,3.18010419,3.184228198,3.189625945,3.194130789,3.199029801,3.20327946,3.207607067,3.212088246,3.216390126,3.220001185,3.223551413,3.22753998,3.231254071,3.234609861,3.237840577,3.241184016,3.244132175,3.247124632,3.250098197],\"z\":[1.663831418,1.726369589,1.785717045,1.847135427,1.905279115,1.96307739,2.019367811,2.073827487,2.127252022,2.18028974,2.232561178,2.285078466,2.332169828,2.382421849,2.430040512,2.476315848,2.521497134,2.56612261,2.61061262,2.651297894,2.693624658,2.736118539,2.777120881,2.819208516,2.857806298,2.894654179,2.931077028,2.970020232,3.002767627,3.037412908,3.072573728,3.106777499,3.140107083,3.169898098,3.200046912,3.231029331,3.259746194,3.288108565,3.315550019,3.340439943,3.367554693,3.392945044,3.416754023,3.441116422,3.462926328,3.485936368,3.507390481,3.52690789,3.542518447,3.561572278,3.580136395,3.596402274,3.611151825,3.624468643,3.637662687,3.650137199,3.660910029,3.670811257,3.680543428,3.688772629,3.693906976,3.700283103,3.705180641,3.708586578,3.708105854,3.710284362,3.708068069,3.705085365,3.699132648,3.695428093,3.687879813,3.677603621,3.668690947,3.657911506,3.642766428,3.628397255,3.612254102,3.593252168,3.571126417,3.549456869,3.523805867,3.498483263,3.469578768,3.43954105,3.405955637,3.371578832,3.333733468,3.294273071,3.25253161,3.207376271,3.16138393,3.110847533,3.059430668,3.00439285,2.947882524,2.886337326,2.824267734,2.757045373,2.687755947,2.615694529,2.541112896,2.461736004,2.38106508,2.296400748,2.205835344,2.115698484,2.017824684,1.921291619,1.817816709,1.710215632,1.599969113,1.485637122,1.366586863,1.242894143,1.115022213,0.984412937,0.849586836,0.709862422,0.562758775,0.41267819,0.260490723,0.101741036],\"type\":\"scatter3d\"},{\"marker\":{\"color\":\"red\",\"size\":2},\"mode\":\"markers\",\"name\":\"Predicted Values (Random Forest)\",\"opacity\":0.7,\"x\":[4.076258614610915,4.152213909355844,4.227431800053573,4.30242841240785,4.376502786687644,4.450472478400571,4.523339652424485,4.596146028882295,4.668530429768128,4.740506713195546,4.8117488497583585,4.881639223464886,4.952162375992279,5.022925225834071,5.095757598521592,5.154433144561582,5.230192733779545,5.295362512001459,5.357741669057819,5.4311409262973545,5.493908933150724,5.558933640959689,5.6205860417529765,5.6888121058486965,5.74825168208518,5.813888055176418,5.875515521215193,5.937665343844003,6.001698555806808,6.074210504673324,6.140909024446304,6.179120202223563,6.231918160248914,6.307592407602051,6.376197606462206,6.425055269527665,6.46274172536928,6.531019568776229,6.604454796431027,6.659995340430735,6.702022564467346,6.7296142008852655,6.814255582015757,6.879427025132519,6.91718245961349,6.953461283477884,7.016448536226757,7.079467726468758,7.153719336921905,7.181112650739858,7.21402069203311,7.256361318249633,7.315595295014831,7.383528663869949,7.415709859038193,7.455507033916554,7.506998955292788,7.560782618570326,7.6089981582609925,7.648650283835335,7.67394930471715,7.708847468898809,7.787490679002479,7.8313490479021945,7.865378366733849,7.900390050404971,7.929818660160878,7.97186295222789,8.029226206808811,8.078734471773886,8.12038372378217,8.147642800251392,8.173112450446949,8.199268049631462,8.25777263776267,8.301337597209269,8.337225361852223,8.361614216371835,8.405574045424174,8.428318359448316,8.445551533022309,8.483056415914845,8.536868472652548,8.56671002604243,8.59905939570178,8.623619977833851,8.654769820328077,8.686493192787351,8.711358768253945,8.7581876567566,8.780774179762435,8.80855071019585,8.83265741057381,8.859379511351307,8.89088073830534,8.918059349843572,8.940681654380379,8.960228115347126,8.983016233984335,9.019514466176261,9.043947811497063,9.059082320529463,9.07945899917308,9.113013066410257,9.133211557948862,9.149976151799306,9.166719317395327,9.195308877746838,9.208205573155196,9.226258340286174,9.245109825190577,9.265619549759355,9.282879342818667,9.296505262855163,9.317625309074,9.331409684741006,9.344618968304832,9.3609004620059,9.374707542872912,9.387367721050577,9.401405147031335,9.410026268304994],\"y\":[2.0160920665360145,2.0305971075680236,2.0457127068826777,2.0631098102285828,2.075992618763241,2.0872819019833386,2.10186357328884,2.119242131984519,2.1248383128072725,2.1420276821867246,2.158113865368998,2.178971265561981,2.1866310021154636,2.204853102588729,2.2246356226477424,2.243594232356306,2.2578548292891742,2.2777469505169505,2.2843997289843823,2.3012451401056864,2.318587724877842,2.3382654979407227,2.351027278683627,2.36676765789255,2.3813661601458644,2.3967572661487764,2.4084183280945974,2.4153010443422294,2.428374546624003,2.439053760910191,2.4566842682439987,2.4609300714994014,2.474317361202864,2.4958596320801134,2.5148888167794885,2.527553950374886,2.52998185969659,2.542261173839267,2.5647462414662505,2.5802158330780007,2.594930417399291,2.600679111289251,2.6230850477282384,2.629495459230642,2.634825591284304,2.640500950826399,2.657483887317769,2.674615355370138,2.6958465682366444,2.7005165957112394,2.704822771988046,2.713864805882098,2.7273240223658393,2.7425979832486673,2.748769237401979,2.7604290382119143,2.7704119138666297,2.7799967740426155,2.792175567873913,2.7992526784173295,2.806775303661817,2.8144524328616893,2.8341185923952112,2.8419718844814854,2.846614116740223,2.8603483298675303,2.878157742323424,2.900298936843564,2.9180312722185637,2.935150887483586,2.9505152456882744,2.962630948319186,2.9730808881904944,2.984985202798181,2.998301541165972,3.0094528302008934,3.018420084157825,3.025686609660426,3.0347637076902667,3.0347931043358876,3.039501502551856,3.0445337935934886,3.0543181233220946,3.0664011606811186,3.0797900012579746,3.084947301738923,3.0937327618361805,3.099104792002943,3.1056576788874306,3.1132045362799334,3.120187791179057,3.1272567450925717,3.131190263748325,3.1427904509001467,3.1548357670268086,3.166635413993,3.171503093215126,3.1747179740559877,3.1739663791035624,3.172767885314778,3.182098142631208,3.1899516663916296,3.198356031405475,3.197486101565478,3.2003011367553706,3.2065932501362138,3.201022719185346,3.2120633257209166,3.2157936686345,3.20131897654377,3.2269117801713336,3.2377403356119046,3.221826685596499,3.233204936863166,3.231806901628167,3.2285370038965,3.227624041127334,3.2299903144679987,3.2553842214479976,3.2470590193740003,3.241197141022501,3.245757257948166],\"z\":[1.6632262163795632,1.7260016041186166,1.7865096577003912,1.846639086242276,1.9049174867524885,1.962527544311564,2.018401157981487,2.0731646262540386,2.127414088578077,2.1810795294656846,2.233095325388727,2.2839844952597907,2.3332735702197365,2.3830940377601126,2.433083258217557,2.4734005820529075,2.5247927532677603,2.568132145365056,2.6081015456009435,2.655386164829569,2.6961313571994707,2.7375586856547365,2.77612213029761,2.8187244525453905,2.855272118745634,2.8946968667212865,2.93109134617146,2.967743662439052,3.0047535142155777,3.0458233285152096,3.083251888815077,3.104409453475538,3.133051442136724,3.1736085466334494,3.209734700498926,3.2349371623286025,3.253948517367414,3.287677774573853,3.3231959570555603,3.349499637904644,3.369077036142151,3.3816736951580886,3.4194751683325735,3.448063141318471,3.464209150719648,3.479106377749899,3.504180856270476,3.5283091418854338,3.5555563970561144,3.5652006539479135,3.576318556574589,3.5901490171032826,3.6083627405908856,3.6281471935130143,3.636606924812996,3.646711186659039,3.658539840390511,3.6700519345474585,3.6792951152346314,3.6859262228942167,3.6894818946244055,3.6936789789316276,3.7006536887782,3.7032088803887033,3.7044489153421596,3.704653424608216,3.70400009507117,3.7013972529730745,3.695042480230282,3.68734452847639,3.6796230342130904,3.6734489943886506,3.6672476612640343,3.6596510352091856,3.6378826644511366,3.619688511240402,3.6021045642524836,3.589633447110632,3.564628809710304,3.549826889304465,3.5371831346891365,3.508157499726087,3.462129204036596,3.4356271465649546,3.403298693512407,3.376210525481514,3.3403761992570087,3.29978795733916,3.2657257272002638,3.19531392936896,3.158950010374462,3.1112983503235756,3.066198461846706,3.0130757605110836,2.94533043106807,2.883994107963974,2.829798294379805,2.7795887887700155,2.71778166196985,2.6101056554239186,2.53365346654843,2.483242414276256,2.409365309847851,2.277984435447917,2.193793254659774,2.1205414392070128,2.043100600175687,1.9032286183999483,1.8346501166482334,1.7335805135211029,1.6245001680063882,1.4957877257262056,1.3742557109191653,1.2709083997281667,1.1081602234883343,0.9952931422770006,0.8755190750475002,0.7169467556885957,0.572503899688262,0.4300492325842621,0.2652069716578333,0.17946695330583332],\"type\":\"scatter3d\"},{\"marker\":{\"color\":\"green\",\"size\":2},\"mode\":\"markers\",\"name\":\"Predicted Values (Extra Trees)\",\"opacity\":0.7,\"x\":[4.076207748000001,4.151257826000005,4.227329412000004,4.301839388000006,4.3764625480000054,4.450040209999998,4.524014831999993,4.595875272,4.667938015000003,4.739368771999993,4.810979293000002,4.881001339000008,4.951967103000004,5.02073528099999,5.09039894,5.157619452999996,5.225946337999985,5.292867720999994,5.359816765000004,5.4271082440000065,5.492955228000015,5.55690577799999,5.62176129900001,5.686853387,5.750356661999994,5.813270149999995,5.8764158440000065,5.938465792999989,5.999839969000002,6.06095255100001,6.119030563000012,6.182104036000009,6.240987288000005,6.299052268000004,6.356715368999983,6.416927103000001,6.472961528000005,6.529543260000002,6.587609306999989,6.642607224000008,6.697549458000014,6.752126202,6.805871076000009,6.858843593999991,6.912153190000016,6.964629596999999,7.016460313000006,7.069772647000003,7.119162831000007,7.171077522000011,7.220557975000012,7.268722019000012,7.317313571,7.367161413999989,7.4145099810000055,7.460169553000011,7.509176303000003,7.554147011000017,7.601173290000012,7.646347233000018,7.689058789999993,7.733718433000007,7.777505117000004,7.820121352,7.863858134999989,7.903742146000011,7.946474910000005,7.9880499079999945,8.028354502999981,8.067781406999991,8.108859872000009,8.146911144999992,8.186440107999978,8.221920232999993,8.26285866399999,8.296004934000019,8.333476958000004,8.366852247999988,8.403713442000017,8.43805377599998,8.47235468199998,8.50181546800001,8.539603057000015,8.570293210000013,8.603036429999982,8.634054812000013,8.666727918999989,8.695121774999988,8.725468549999986,8.755528881000007,8.783509385999993,8.812719803000016,8.840640139000008,8.865153469000004,8.891892493,8.91980651200001,8.946533102999986,8.970893338999987,8.993607833000024,9.02034440299999,9.043375074999979,9.066707179999987,9.088961831999997,9.111592828999987,9.129455870000008,9.15283608100001,9.17234870100001,9.193568658000002,9.211975949000013,9.230720874999982,9.250130996000022,9.268764485000013,9.284405698,9.299783424,9.317059806999987,9.33314730500001,9.347682827999986,9.361676593999984,9.376158622000018,9.388928499000007,9.401890254000016,9.414770181999991],\"y\":[2.0175939449999962,2.034920620999998,2.052483130000004,2.069685114000002,2.086913226999997,2.1038999689999973,2.1209783559999966,2.1375686460000036,2.1542056410000026,2.1706967309999987,2.187229322000001,2.2033951850000033,2.219778923000005,2.2356553079999975,2.251738431000005,2.2672575089999962,2.283032014000006,2.2984820320000034,2.3139384369999965,2.3294738989999946,2.344675873,2.359440021000004,2.3744130979999967,2.389440790000003,2.4041016760000034,2.4186263999999955,2.4332047320000054,2.447530091000003,2.461699436000003,2.4758083870000003,2.4892167529999956,2.503778412000002,2.517372682000001,2.530778037999996,2.5440906139999986,2.557991587999995,2.570928154999996,2.5839910770000016,2.5973966800000015,2.610093949999998,2.622778363999999,2.635378398,2.647786380000007,2.6600160490000038,2.6723235389999958,2.6844386719999993,2.6964047360000016,2.708712858000006,2.7201154809999952,2.7321009309999966,2.7435243939999983,2.754643939999996,2.765862184000007,2.7773704649999957,2.788301743000001,2.798843086000001,2.810157185000001,2.8205394919999986,2.831396363000005,2.8418255900000045,2.851686330000005,2.8619968209999964,2.8721057729999933,2.881944507000008,2.892041938000001,2.901249887999997,2.9111155240000004,2.9207138680000053,2.9300189170000026,2.9391213350000016,2.9486050460000057,2.957389874999995,2.9665158550000057,2.9747070870000067,2.984158468999999,2.991810887999999,3.000461986999996,3.008167279,3.0166773569999963,3.0246054469999994,3.0325244350000036,3.039325994000001,3.0480499459999963,3.055135326000004,3.062694693999997,3.069855851999995,3.0773990330000043,3.0839542710000005,3.0909603759999986,3.097900350999999,3.104360159000004,3.1111039150000006,3.1175498329999987,3.1232091809999947,3.129382371000001,3.1358268300000027,3.1419971500000043,3.1476211529999945,3.152865207999999,3.1590378309999996,3.164354881000004,3.1697415219999994,3.174879413000002,3.180104190000004,3.1842281980000053,3.1896259449999946,3.1941307890000017,3.1990298009999965,3.203279459999998,3.207607067000004,3.212088246000003,3.2163901260000007,3.2200011850000005,3.223551412999997,3.2275399800000004,3.2312540710000017,3.2346098610000023,3.2378405769999916,3.241184015999998,3.244132175000003,3.2471246320000047,3.250098197],\"z\":[1.6638314180000007,1.7263695890000006,1.7857170450000026,1.8471354270000027,1.905279115000004,1.9630773899999971,2.019367810999997,2.073827486999997,2.1272520219999955,2.1802897400000045,2.232561177999998,2.2850784659999954,2.332169827999997,2.382421848999997,2.4300405120000033,2.476315848000006,2.5214971339999934,2.566122610000002,2.6106126200000053,2.651297894000003,2.693624658000002,2.736118538999997,2.7771208809999997,2.819208516000003,2.857806298000008,2.894654179000004,2.931077028000003,2.9700202320000013,3.0027676270000017,3.037412907999999,3.0725737280000045,3.1067774989999974,3.140107082999998,3.1698980979999978,3.2000469120000035,3.2310293310000016,3.259746194000001,3.2881085649999995,3.315550019,3.340439942999999,3.3675546929999935,3.392945043999992,3.4167540230000055,3.441116421999995,3.4629263279999973,3.485936368000006,3.5073904810000003,3.5269078900000017,3.542518447000004,3.561572277999992,3.5801363950000056,3.596402274000008,3.611151824999995,3.624468643,3.6376626869999935,3.650137199000008,3.660910028999997,3.6708112570000058,3.680543428000003,3.688772629000008,3.693906975999995,3.7002831030000025,3.705180641000007,3.7085865779999962,3.708105853999997,3.7102843619999972,3.7080680689999967,3.7050853650000017,3.699132647999993,3.695428092999994,3.6878798129999963,3.6776036210000025,3.6686909470000013,3.6579115060000036,3.6427664280000003,3.6283972549999977,3.6122541020000045,3.5932521679999962,3.5711264170000008,3.5494568689999983,3.523805867000002,3.498483263000005,3.4695787680000025,3.439541050000002,3.405955636999997,3.371578832000006,3.3337334679999957,3.2942730710000028,3.2525316100000037,3.2073762709999927,3.16138393,3.110847533000003,3.059430668000003,3.0043928499999937,2.947882523999999,2.886337325999995,2.824267733999995,2.7570453730000026,2.687755947000001,2.615694528999997,2.5411128959999942,2.4617360039999947,2.3810650800000057,2.296400747999997,2.2058353440000014,2.115698484000004,2.0178246840000025,1.9212916189999967,1.817816708999999,1.7102156320000004,1.5999691129999973,1.4856371220000018,1.3665868629999987,1.2428941430000007,1.1150222130000023,0.984412937000001,0.8495868360000002,0.7098624220000004,0.5627587749999994,0.4126781900000006,0.26049072300000015,0.10174103599999997],\"type\":\"scatter3d\"},{\"line\":{\"color\":\"black\",\"width\":1},\"mode\":\"lines\",\"name\":\"Court Boundaries\",\"x\":[0,13.4,13.4,0,0],\"y\":[0,0,5.18,5.18,0],\"z\":[0,0,0,0,0],\"type\":\"scatter3d\"},{\"line\":{\"color\":\"black\",\"width\":1},\"mode\":\"lines\",\"name\":\"Center Line\",\"x\":[0,4.68,4.68,0,0],\"y\":[2.59,2.59,2.59,2.59,2.59],\"z\":[0,0,0,0,0],\"type\":\"scatter3d\"},{\"line\":{\"color\":\"black\",\"width\":1},\"mode\":\"lines\",\"name\":\"Center Line\",\"x\":[8.72,13.4],\"y\":[2.59,2.59],\"z\":[0,0,0,0,0],\"type\":\"scatter3d\"},{\"line\":{\"color\":\"black\",\"width\":1},\"mode\":\"lines\",\"name\":\"Short Service Lines\",\"x\":[4.72,4.72],\"y\":[0,5.18],\"z\":[0,0],\"type\":\"scatter3d\"},{\"line\":{\"color\":\"black\",\"width\":1},\"mode\":\"lines\",\"name\":\"Short Service Lines\",\"x\":[8.680000000000001,8.680000000000001],\"y\":[0,5.18],\"z\":[0,0],\"type\":\"scatter3d\"},{\"line\":{\"color\":\"red\",\"width\":1},\"mode\":\"lines\",\"name\":\"Net\",\"x\":[6.7,6.7],\"y\":[0,5.18],\"z\":[1.55,1.55],\"type\":\"scatter3d\"},{\"line\":{\"color\":\"green\",\"width\":5},\"marker\":{\"color\":\"cyan\",\"line\":{\"color\":\"black\",\"width\":4},\"size\":10,\"symbol\":\"cross\"},\"mode\":\"lines+markers\",\"name\":\"Predicted Position\",\"opacity\":1,\"x\":[9.412398225152494],\"y\":[3.247927727474083],\"z\":[0.14060399465291665],\"type\":\"scatter3d\"},{\"line\":{\"color\":\"green\",\"width\":5},\"marker\":{\"color\":\"cyan\",\"line\":{\"color\":\"black\",\"width\":4},\"size\":6,\"symbol\":\"diamond\"},\"mode\":\"lines+markers\",\"name\":\"Average Highest XYZ-point\",\"opacity\":1,\"x\":[7.902066098202491],\"y\":[2.880799108933764],\"z\":[3.7074688933041067],\"type\":\"scatter3d\"},{\"marker\":{\"color\":\"blue\",\"size\":10},\"mode\":\"markers\",\"name\":\"Initial Starting Point (Hit)\",\"opacity\":1,\"x\":[8.870979637784004],\"y\":[4.555727849555124],\"z\":[1.115],\"type\":\"scatter3d\"},{\"marker\":{\"color\":\"blue\",\"size\":10},\"mode\":\"markers\",\"name\":\"Initial Starting Point (Hit)\",\"opacity\":1,\"x\":[12.303828798214841],\"y\":[5.067976930517917],\"z\":[1.115],\"type\":\"scatter3d\"},{\"marker\":{\"color\":\"blue\",\"size\":10},\"mode\":\"markers\",\"name\":\"Initial Starting Point (Hit)\",\"opacity\":1,\"x\":[12.68152628151788],\"y\":[1.2288364299637506],\"z\":[1.115],\"type\":\"scatter3d\"},{\"marker\":{\"color\":\"green\",\"size\":10},\"mode\":\"markers\",\"name\":\"Point to Hit the Ball\",\"opacity\":1,\"x\":[9.616398225152494],\"y\":[3.477927727474083],\"z\":[1.115],\"type\":\"scatter3d\"}],                        {\"template\":{\"data\":{\"histogram2dcontour\":[{\"type\":\"histogram2dcontour\",\"colorbar\":{\"outlinewidth\":0,\"ticks\":\"\"},\"colorscale\":[[0.0,\"#0d0887\"],[0.1111111111111111,\"#46039f\"],[0.2222222222222222,\"#7201a8\"],[0.3333333333333333,\"#9c179e\"],[0.4444444444444444,\"#bd3786\"],[0.5555555555555556,\"#d8576b\"],[0.6666666666666666,\"#ed7953\"],[0.7777777777777778,\"#fb9f3a\"],[0.8888888888888888,\"#fdca26\"],[1.0,\"#f0f921\"]]}],\"choropleth\":[{\"type\":\"choropleth\",\"colorbar\":{\"outlinewidth\":0,\"ticks\":\"\"}}],\"histogram2d\":[{\"type\":\"histogram2d\",\"colorbar\":{\"outlinewidth\":0,\"ticks\":\"\"},\"colorscale\":[[0.0,\"#0d0887\"],[0.1111111111111111,\"#46039f\"],[0.2222222222222222,\"#7201a8\"],[0.3333333333333333,\"#9c179e\"],[0.4444444444444444,\"#bd3786\"],[0.5555555555555556,\"#d8576b\"],[0.6666666666666666,\"#ed7953\"],[0.7777777777777778,\"#fb9f3a\"],[0.8888888888888888,\"#fdca26\"],[1.0,\"#f0f921\"]]}],\"heatmap\":[{\"type\":\"heatmap\",\"colorbar\":{\"outlinewidth\":0,\"ticks\":\"\"},\"colorscale\":[[0.0,\"#0d0887\"],[0.1111111111111111,\"#46039f\"],[0.2222222222222222,\"#7201a8\"],[0.3333333333333333,\"#9c179e\"],[0.4444444444444444,\"#bd3786\"],[0.5555555555555556,\"#d8576b\"],[0.6666666666666666,\"#ed7953\"],[0.7777777777777778,\"#fb9f3a\"],[0.8888888888888888,\"#fdca26\"],[1.0,\"#f0f921\"]]}],\"heatmapgl\":[{\"type\":\"heatmapgl\",\"colorbar\":{\"outlinewidth\":0,\"ticks\":\"\"},\"colorscale\":[[0.0,\"#0d0887\"],[0.1111111111111111,\"#46039f\"],[0.2222222222222222,\"#7201a8\"],[0.3333333333333333,\"#9c179e\"],[0.4444444444444444,\"#bd3786\"],[0.5555555555555556,\"#d8576b\"],[0.6666666666666666,\"#ed7953\"],[0.7777777777777778,\"#fb9f3a\"],[0.8888888888888888,\"#fdca26\"],[1.0,\"#f0f921\"]]}],\"contourcarpet\":[{\"type\":\"contourcarpet\",\"colorbar\":{\"outlinewidth\":0,\"ticks\":\"\"}}],\"contour\":[{\"type\":\"contour\",\"colorbar\":{\"outlinewidth\":0,\"ticks\":\"\"},\"colorscale\":[[0.0,\"#0d0887\"],[0.1111111111111111,\"#46039f\"],[0.2222222222222222,\"#7201a8\"],[0.3333333333333333,\"#9c179e\"],[0.4444444444444444,\"#bd3786\"],[0.5555555555555556,\"#d8576b\"],[0.6666666666666666,\"#ed7953\"],[0.7777777777777778,\"#fb9f3a\"],[0.8888888888888888,\"#fdca26\"],[1.0,\"#f0f921\"]]}],\"surface\":[{\"type\":\"surface\",\"colorbar\":{\"outlinewidth\":0,\"ticks\":\"\"},\"colorscale\":[[0.0,\"#0d0887\"],[0.1111111111111111,\"#46039f\"],[0.2222222222222222,\"#7201a8\"],[0.3333333333333333,\"#9c179e\"],[0.4444444444444444,\"#bd3786\"],[0.5555555555555556,\"#d8576b\"],[0.6666666666666666,\"#ed7953\"],[0.7777777777777778,\"#fb9f3a\"],[0.8888888888888888,\"#fdca26\"],[1.0,\"#f0f921\"]]}],\"mesh3d\":[{\"type\":\"mesh3d\",\"colorbar\":{\"outlinewidth\":0,\"ticks\":\"\"}}],\"scatter\":[{\"fillpattern\":{\"fillmode\":\"overlay\",\"size\":10,\"solidity\":0.2},\"type\":\"scatter\"}],\"parcoords\":[{\"type\":\"parcoords\",\"line\":{\"colorbar\":{\"outlinewidth\":0,\"ticks\":\"\"}}}],\"scatterpolargl\":[{\"type\":\"scatterpolargl\",\"marker\":{\"colorbar\":{\"outlinewidth\":0,\"ticks\":\"\"}}}],\"bar\":[{\"error_x\":{\"color\":\"#2a3f5f\"},\"error_y\":{\"color\":\"#2a3f5f\"},\"marker\":{\"line\":{\"color\":\"#E5ECF6\",\"width\":0.5},\"pattern\":{\"fillmode\":\"overlay\",\"size\":10,\"solidity\":0.2}},\"type\":\"bar\"}],\"scattergeo\":[{\"type\":\"scattergeo\",\"marker\":{\"colorbar\":{\"outlinewidth\":0,\"ticks\":\"\"}}}],\"scatterpolar\":[{\"type\":\"scatterpolar\",\"marker\":{\"colorbar\":{\"outlinewidth\":0,\"ticks\":\"\"}}}],\"histogram\":[{\"marker\":{\"pattern\":{\"fillmode\":\"overlay\",\"size\":10,\"solidity\":0.2}},\"type\":\"histogram\"}],\"scattergl\":[{\"type\":\"scattergl\",\"marker\":{\"colorbar\":{\"outlinewidth\":0,\"ticks\":\"\"}}}],\"scatter3d\":[{\"type\":\"scatter3d\",\"line\":{\"colorbar\":{\"outlinewidth\":0,\"ticks\":\"\"}},\"marker\":{\"colorbar\":{\"outlinewidth\":0,\"ticks\":\"\"}}}],\"scattermapbox\":[{\"type\":\"scattermapbox\",\"marker\":{\"colorbar\":{\"outlinewidth\":0,\"ticks\":\"\"}}}],\"scatterternary\":[{\"type\":\"scatterternary\",\"marker\":{\"colorbar\":{\"outlinewidth\":0,\"ticks\":\"\"}}}],\"scattercarpet\":[{\"type\":\"scattercarpet\",\"marker\":{\"colorbar\":{\"outlinewidth\":0,\"ticks\":\"\"}}}],\"carpet\":[{\"aaxis\":{\"endlinecolor\":\"#2a3f5f\",\"gridcolor\":\"white\",\"linecolor\":\"white\",\"minorgridcolor\":\"white\",\"startlinecolor\":\"#2a3f5f\"},\"baxis\":{\"endlinecolor\":\"#2a3f5f\",\"gridcolor\":\"white\",\"linecolor\":\"white\",\"minorgridcolor\":\"white\",\"startlinecolor\":\"#2a3f5f\"},\"type\":\"carpet\"}],\"table\":[{\"cells\":{\"fill\":{\"color\":\"#EBF0F8\"},\"line\":{\"color\":\"white\"}},\"header\":{\"fill\":{\"color\":\"#C8D4E3\"},\"line\":{\"color\":\"white\"}},\"type\":\"table\"}],\"barpolar\":[{\"marker\":{\"line\":{\"color\":\"#E5ECF6\",\"width\":0.5},\"pattern\":{\"fillmode\":\"overlay\",\"size\":10,\"solidity\":0.2}},\"type\":\"barpolar\"}],\"pie\":[{\"automargin\":true,\"type\":\"pie\"}]},\"layout\":{\"autotypenumbers\":\"strict\",\"colorway\":[\"#636efa\",\"#EF553B\",\"#00cc96\",\"#ab63fa\",\"#FFA15A\",\"#19d3f3\",\"#FF6692\",\"#B6E880\",\"#FF97FF\",\"#FECB52\"],\"font\":{\"color\":\"#2a3f5f\"},\"hovermode\":\"closest\",\"hoverlabel\":{\"align\":\"left\"},\"paper_bgcolor\":\"white\",\"plot_bgcolor\":\"#E5ECF6\",\"polar\":{\"bgcolor\":\"#E5ECF6\",\"angularaxis\":{\"gridcolor\":\"white\",\"linecolor\":\"white\",\"ticks\":\"\"},\"radialaxis\":{\"gridcolor\":\"white\",\"linecolor\":\"white\",\"ticks\":\"\"}},\"ternary\":{\"bgcolor\":\"#E5ECF6\",\"aaxis\":{\"gridcolor\":\"white\",\"linecolor\":\"white\",\"ticks\":\"\"},\"baxis\":{\"gridcolor\":\"white\",\"linecolor\":\"white\",\"ticks\":\"\"},\"caxis\":{\"gridcolor\":\"white\",\"linecolor\":\"white\",\"ticks\":\"\"}},\"coloraxis\":{\"colorbar\":{\"outlinewidth\":0,\"ticks\":\"\"}},\"colorscale\":{\"sequential\":[[0.0,\"#0d0887\"],[0.1111111111111111,\"#46039f\"],[0.2222222222222222,\"#7201a8\"],[0.3333333333333333,\"#9c179e\"],[0.4444444444444444,\"#bd3786\"],[0.5555555555555556,\"#d8576b\"],[0.6666666666666666,\"#ed7953\"],[0.7777777777777778,\"#fb9f3a\"],[0.8888888888888888,\"#fdca26\"],[1.0,\"#f0f921\"]],\"sequentialminus\":[[0.0,\"#0d0887\"],[0.1111111111111111,\"#46039f\"],[0.2222222222222222,\"#7201a8\"],[0.3333333333333333,\"#9c179e\"],[0.4444444444444444,\"#bd3786\"],[0.5555555555555556,\"#d8576b\"],[0.6666666666666666,\"#ed7953\"],[0.7777777777777778,\"#fb9f3a\"],[0.8888888888888888,\"#fdca26\"],[1.0,\"#f0f921\"]],\"diverging\":[[0,\"#8e0152\"],[0.1,\"#c51b7d\"],[0.2,\"#de77ae\"],[0.3,\"#f1b6da\"],[0.4,\"#fde0ef\"],[0.5,\"#f7f7f7\"],[0.6,\"#e6f5d0\"],[0.7,\"#b8e186\"],[0.8,\"#7fbc41\"],[0.9,\"#4d9221\"],[1,\"#276419\"]]},\"xaxis\":{\"gridcolor\":\"white\",\"linecolor\":\"white\",\"ticks\":\"\",\"title\":{\"standoff\":15},\"zerolinecolor\":\"white\",\"automargin\":true,\"zerolinewidth\":2},\"yaxis\":{\"gridcolor\":\"white\",\"linecolor\":\"white\",\"ticks\":\"\",\"title\":{\"standoff\":15},\"zerolinecolor\":\"white\",\"automargin\":true,\"zerolinewidth\":2},\"scene\":{\"xaxis\":{\"backgroundcolor\":\"#E5ECF6\",\"gridcolor\":\"white\",\"linecolor\":\"white\",\"showbackground\":true,\"ticks\":\"\",\"zerolinecolor\":\"white\",\"gridwidth\":2},\"yaxis\":{\"backgroundcolor\":\"#E5ECF6\",\"gridcolor\":\"white\",\"linecolor\":\"white\",\"showbackground\":true,\"ticks\":\"\",\"zerolinecolor\":\"white\",\"gridwidth\":2},\"zaxis\":{\"backgroundcolor\":\"#E5ECF6\",\"gridcolor\":\"white\",\"linecolor\":\"white\",\"showbackground\":true,\"ticks\":\"\",\"zerolinecolor\":\"white\",\"gridwidth\":2}},\"shapedefaults\":{\"line\":{\"color\":\"#2a3f5f\"}},\"annotationdefaults\":{\"arrowcolor\":\"#2a3f5f\",\"arrowhead\":0,\"arrowwidth\":1},\"geo\":{\"bgcolor\":\"white\",\"landcolor\":\"#E5ECF6\",\"subunitcolor\":\"white\",\"showland\":true,\"showlakes\":true,\"lakecolor\":\"white\"},\"title\":{\"x\":0.05},\"mapbox\":{\"style\":\"light\"}}},\"scene\":{\"xaxis\":{\"title\":{\"text\":\"X-coordinate\"},\"range\":[-4,18]},\"yaxis\":{\"title\":{\"text\":\"Y-coordinate\"},\"range\":[-2,7]},\"zaxis\":{\"title\":{\"text\":\"Z-coordinate\"},\"range\":[0,12]},\"aspectratio\":{\"x\":1,\"y\":1,\"z\":1},\"aspectmode\":\"manual\"},\"title\":{\"text\":\"Shuttlecock Trajectory Estimation\"}},                        {\"responsive\": true}                    ).then(function(){\n",
       "                            \n",
       "var gd = document.getElementById('e635fd29-ff44-4546-8a1d-1382a2a842c8');\n",
       "var x = new MutationObserver(function (mutations, observer) {{\n",
       "        var display = window.getComputedStyle(gd).display;\n",
       "        if (!display || display === 'none') {{\n",
       "            console.log([gd, 'removed!']);\n",
       "            Plotly.purge(gd);\n",
       "            observer.disconnect();\n",
       "        }}\n",
       "}});\n",
       "\n",
       "// Listen for the removal of the full notebook cells\n",
       "var notebookContainer = gd.closest('#notebook-container');\n",
       "if (notebookContainer) {{\n",
       "    x.observe(notebookContainer, {childList: true});\n",
       "}}\n",
       "\n",
       "// Listen for the clearing of the current output cell\n",
       "var outputEl = gd.closest('.output');\n",
       "if (outputEl) {{\n",
       "    x.observe(outputEl, {childList: true});\n",
       "}}\n",
       "\n",
       "                        })                };                });            </script>        </div>"
      ]
     },
     "metadata": {},
     "output_type": "display_data"
    }
   ],
   "source": [
    "import plotly.graph_objects as go\n",
    "# Define court dimensions\n",
    "court_length_x = 13.4\n",
    "court_length_y = 5.18\n",
    "court_height_skybox = 10\n",
    "court_height_net = 1.55\n",
    "court_length_centerline = 4.68\n",
    "\n",
    "def is_point_within_court(x, y, z, court_length_x, court_length_y, court_height_skybox):\n",
    "    \"\"\"\n",
    "    Check if a point is within the court boundaries.\n",
    "    \n",
    "    Args:\n",
    "        x (float): X-coordinate of the point\n",
    "        y (float): Y-coordinate of the point\n",
    "        z (float): Z-coordinate of the point\n",
    "        court_length_x (float): Length of the court along the X-axis\n",
    "        court_length_y (float): Length of the court along the Y-axis\n",
    "        court_height_skybox (float): Height of the court's skybox\n",
    "    \n",
    "    Returns:\n",
    "        bool: True if the point is within the court boundaries, False otherwise\n",
    "    \"\"\"\n",
    "    return 0 <= x <= court_length_x and 0 <= y <= court_length_y and 0 <= z <= court_height_skybox\n",
    "\n",
    "\n",
    "# Create the 3D scatter plot\n",
    "fig = go.Figure(data=[\n",
    "    go.Scatter3d(\n",
    "        x=y_actual_coords['SHUTTLECOCK POSITIION IN AIR(X) metres'],\n",
    "        y=y_actual_coords['SHUTTLECOCK POSITIION IN AIR(Y) metres'],\n",
    "        z=y_actual_coords['SHUTTLECOCK POSITIION IN AIR(Z) metres'],\n",
    "        mode='markers',\n",
    "        name='True Values',\n",
    "        marker=dict(color='blue', size=2),\n",
    "        opacity=0.7\n",
    "    ),\n",
    "    go.Scatter3d(\n",
    "        x=predicted_trajectory_points_RT[:, 0],\n",
    "        y=predicted_trajectory_points_RT[:, 1],\n",
    "        z=predicted_trajectory_points_RT[:, 2],\n",
    "        mode='markers',\n",
    "        name='Predicted Values (Random Forest)',\n",
    "        marker=dict(color='red', size=2),\n",
    "        opacity=0.7\n",
    "    ),\n",
    "    go.Scatter3d(\n",
    "        x=predicted_trajectory_points_ET[:, 0],\n",
    "        y=predicted_trajectory_points_ET[:, 1],\n",
    "        z=predicted_trajectory_points_ET[:, 2],\n",
    "        mode='markers',\n",
    "        name='Predicted Values (Extra Trees)',\n",
    "        marker=dict(color='green', size=2),\n",
    "        opacity=0.7\n",
    "    ),\n",
    "])\n",
    "\n",
    "# Set plot title and axis labels\n",
    "fig.update_layout(\n",
    "    title='Shuttlecock Trajectory Estimation',\n",
    "    scene=dict(\n",
    "        xaxis_title='X-coordinate',\n",
    "        yaxis_title='Y-coordinate',\n",
    "        zaxis_title='Z-coordinate',\n",
    "        xaxis=dict(range=[-4, 18]),  # Set the range for X-axis\n",
    "        yaxis=dict(range=[-2, 7]),   # Set the range for Y-axis\n",
    "        zaxis=dict(range=[0, 12]),  # Set the range for Z-axis\n",
    "        aspectmode='manual',         # Set the aspect mode to manual for custom scaling\n",
    "        aspectratio=dict(x=1, y=1, z=1)  # Set the aspect ratio for equal scaling of axes\n",
    "    )\n",
    ")\n",
    "\n",
    "# Add court lines to the plot\n",
    "fig.add_trace(go.Scatter3d(\n",
    "    x=[0, court_length_x, court_length_x, 0, 0],\n",
    "    y=[0, 0, court_length_y, court_length_y, 0],\n",
    "    z=[0, 0, 0, 0, 0],\n",
    "    mode='lines',\n",
    "    name='Court Boundaries',\n",
    "    line=dict(color='black', width=1)\n",
    "))\n",
    "\n",
    "fig.add_trace(go.Scatter3d(\n",
    "    x=[0, court_length_centerline, court_length_centerline, 0, 0],\n",
    "    y=[court_length_y / 2, court_length_y / 2, court_length_y / 2, court_length_y / 2, court_length_y / 2],\n",
    "    z=[0, 0, 0, 0, 0],\n",
    "    mode='lines',\n",
    "    name='Center Line',\n",
    "    line=dict(color='black', width=1)\n",
    "))\n",
    "\n",
    "fig.add_trace(go.Scatter3d(\n",
    "    x=[court_length_x - court_length_centerline, court_length_x],\n",
    "    y=[court_length_y / 2, court_length_y / 2],\n",
    "    z=[0, 0, 0, 0, 0],\n",
    "    mode='lines',\n",
    "    name='Center Line',\n",
    "    line=dict(color='black', width=1)\n",
    "))\n",
    "\n",
    "fig.add_trace(go.Scatter3d(\n",
    "    x=[court_length_centerline + 0.04, court_length_centerline + 0.04],\n",
    "    y=[0, court_length_y],\n",
    "    z=[0, 0],\n",
    "    mode='lines',\n",
    "    name='Short Service Lines',\n",
    "    line=dict(color='black', width=1)\n",
    "))\n",
    "\n",
    "fig.add_trace(go.Scatter3d(\n",
    "    x=[court_length_x - court_length_centerline - 0.04, court_length_x - court_length_centerline - 0.04],\n",
    "    y=[0, court_length_y],\n",
    "    z=[0, 0],\n",
    "    mode='lines',\n",
    "    name='Short Service Lines',\n",
    "    line=dict(color='black', width=1)\n",
    "))\n",
    "\n",
    "fig.add_trace(go.Scatter3d(\n",
    "    x=[court_length_x / 2, court_length_x / 2],\n",
    "    y=[0, court_length_y],\n",
    "    z=[court_height_net, court_height_net],\n",
    "    mode='lines',\n",
    "    name='Net',\n",
    "    line=dict(color='red', width=1)\n",
    "))\n",
    "\n",
    "# Initialize variables\n",
    "all_within_court_RT = True\n",
    "all_within_court_ET = True\n",
    "highest_xyz_points_RT = []\n",
    "highest_xyz_points_ET = []\n",
    "highest_z_index_RT = np.argmax(predicted_trajectory_points_RT[:, 2])\n",
    "highest_z_index_ET = np.argmax(predicted_trajectory_points_ET[:, 2])\n",
    "\n",
    "# Check if all predicted values for the RT group are within the court\n",
    "for point in predicted_trajectory_points_RT:\n",
    "    x, y, z = point\n",
    "    if not is_point_within_court(x, y, z, court_length_x, court_length_y, court_height_skybox):\n",
    "        all_within_court_RT = False\n",
    "        break\n",
    "\n",
    "# Check if all predicted values for the ET group are within the court\n",
    "for point in predicted_trajectory_points_ET:\n",
    "    x, y, z = point\n",
    "    if not is_point_within_court(x, y, z, court_length_x, court_length_y, court_height_skybox):\n",
    "        all_within_court_ET = False\n",
    "        break\n",
    "\n",
    "color = \"red\"\n",
    "predict = True\n",
    "placeholder=\"Initial Starting Point (Miss)\"\n",
    "            \n",
    "if not (all_within_court_RT and all_within_court_ET):\n",
    "    color = \"black\"\n",
    "    predict = False\n",
    "    placeholder=\"Initial Starting Point (OUT)\"\n",
    "        \n",
    "highest_xyz_points_RT = predicted_trajectory_points_RT[-1]\n",
    "highest_xyz_point_RT = predicted_trajectory_points_RT[highest_z_index_RT]\n",
    "highest_xyz_points_ET = predicted_trajectory_points_ET[-1]\n",
    "highest_xyz_point_ET = predicted_trajectory_points_ET[highest_z_index_ET]\n",
    "    \n",
    "# Average out the predicted XYZ points\n",
    "average_xyz = np.mean([highest_xyz_points_RT, highest_xyz_points_ET], axis=0)\n",
    "# Average out the highest XYZ points\n",
    "average_highest_xyz = np.mean([highest_xyz_point_RT, highest_xyz_point_ET], axis=0)\n",
    "\n",
    "# Print the count\n",
    "print(\"Is predicted Regression Tree (RT) within court: \", all_within_court_RT)\n",
    "print(\"Is predicted Extra Tree (ET) within court: \", all_within_court_ET)\n",
    "# Print the average XYZ values\n",
    "print(\"Average XYZ of Estimated Shuttlecock Position:\", average_xyz)\n",
    "\n",
    "# Add the average predicted X, Y, and Z points to the graph\n",
    "fig.add_trace(go.Scatter3d(\n",
    "    x=[average_xyz[0]],\n",
    "    y=[average_xyz[1]],\n",
    "    z=[average_xyz[2]],\n",
    "    mode='lines+markers',\n",
    "    name='Predicted Position',\n",
    "    line=dict(color=\"green\", width=5),\n",
    "    marker=dict(symbol=\"cross\", size=10, color=\"cyan\", line=dict(color=\"black\", width=4)),\n",
    "    opacity=1\n",
    "))\n",
    "\n",
    "# Add the average highest X, Y, and Z points to the graph\n",
    "fig.add_trace(go.Scatter3d(\n",
    "    x=[average_highest_xyz[0]],\n",
    "    y=[average_highest_xyz[1]],\n",
    "    z=[average_highest_xyz[2]],\n",
    "    mode='lines+markers',\n",
    "    name='Average Highest XYZ-point',\n",
    "    line=dict(color=\"green\", width=5),\n",
    "    marker=dict(symbol=\"diamond\", size=6, color=\"cyan\", line=dict(color=\"black\", width=4)),\n",
    "    opacity=1\n",
    "))\n",
    "\n",
    "# Calculate the height of the badminton racket from the ground\n",
    "badminton_height = (120 / 100) - (0.17/2)  # -> 0.17/2 assuming we want to hit it somewhere in the middle of the top quarter\n",
    "\n",
    "# Calculate the length and width of the robot\n",
    "robot_length = 20.4 / 100  # Convert length from cm to meters\n",
    "robot_width = 23 / 100  # Convert width from cm to meters\n",
    "\n",
    "# Define the range for the initial starting position\n",
    "x_range = [0, 4.72]\n",
    "y_range = [0, 5.18]\n",
    "\n",
    "# Define number of random positions to test\n",
    "no_of_random_pos = 3\n",
    "\n",
    "for i in range(no_of_random_pos):\n",
    "    # Generate random initial starting position within the specified range\n",
    "    random_initial_x = random.uniform(x_range[0], x_range[1])\n",
    "    random_initial_y = random.uniform(y_range[0], y_range[1])\n",
    "\n",
    "    # Calculate the position where the dummy robot should move to\n",
    "    robot_x = court_length_x - average_xyz[0] - robot_length - random_initial_x\n",
    "    robot_y = court_length_y - average_xyz[1] - robot_width - random_initial_y\n",
    "\n",
    "    # Calculate the distance traveled by the robot\n",
    "    robot_distance = np.sqrt(robot_x ** 2 + robot_y ** 2)\n",
    "    # Calculate the time required for the robot to move to the position\n",
    "    robot_movement_time = robot_distance / 3\n",
    "    if (all_within_court_RT and all_within_court_ET):\n",
    "        print(\"Distance: {:.2f} meters in {:.2f} seconds\".format(robot_distance, robot_movement_time))\n",
    "\n",
    "    # Calculate the adjusted z-coordinate for hitting the shuttlecock\n",
    "    robot_z = average_highest_xyz[2] - badminton_height\n",
    "\n",
    "    # Check if the average highest XYZ-point is within the court and the robot can reach the position before the ball drops\n",
    "    if (\n",
    "        average_xyz[0] >= 0\n",
    "        and average_xyz[0] <= court_length_x\n",
    "        and average_xyz[1] >= 0\n",
    "        and average_xyz[1] <= court_length_y\n",
    "        and average_highest_xyz[2] >= 0\n",
    "        and average_highest_xyz[2] <= court_height_skybox\n",
    "        and robot_movement_time <= 1.5\n",
    "        and robot_z >= 0\n",
    "    ):\n",
    "        # Add the initial starting point of the dummy robot to the graph\n",
    "        fig.add_trace(\n",
    "            go.Scatter3d(\n",
    "                x=[court_length_x - random_initial_x],\n",
    "                y=[court_length_y - random_initial_y],\n",
    "                z=[badminton_height],\n",
    "                mode=\"markers\",\n",
    "                name=\"Initial Starting Point (Hit)\",\n",
    "                marker=dict(color=\"blue\", size=10),\n",
    "                opacity=1,\n",
    "            )\n",
    "        )\n",
    "\n",
    "        # Calculate the (x, y) difference\n",
    "        x_difference = robot_x\n",
    "        y_difference = robot_y\n",
    "        \n",
    "        if (all_within_court_RT and all_within_court_ET):\n",
    "            print(f\"X difference: {x_difference}\")\n",
    "            print(f\"Y difference: {y_difference}\")\n",
    "            print(f\"Time required: {robot_movement_time} seconds\")\n",
    "            print(\"Able to reach and hit on time\")\n",
    "    else:\n",
    "        # Add the initial starting point of the dummy robot to the graph\n",
    "        fig.add_trace(\n",
    "            go.Scatter3d(\n",
    "                x=[court_length_x - random_initial_x],\n",
    "                y=[court_length_y - random_initial_y],\n",
    "                z=[badminton_height],\n",
    "                mode=\"markers\",\n",
    "                name=placeholder,\n",
    "                marker=dict(color=color, size=10),\n",
    "                opacity=0.3,\n",
    "            )\n",
    "        )\n",
    "        \n",
    "        if (all_within_court_RT and all_within_court_ET):\n",
    "            if robot_movement_time > 1.5:\n",
    "                print(f\"X difference: {x_difference}\")\n",
    "                print(f\"Y difference: {y_difference}\")\n",
    "                print(f\"Time required: {robot_movement_time} seconds\")\n",
    "                print(\"Cannot reach on time\")\n",
    "            else:\n",
    "                print(\"Cannot hit\")\n",
    "\n",
    "if (all_within_court_RT and all_within_court_ET):\n",
    "    # Add the point where the dummy robot can hit the ball to the graph\n",
    "    fig.add_trace(\n",
    "        go.Scatter3d(\n",
    "            x=[court_length_x - random_initial_x - robot_x],\n",
    "            y=[court_length_y - random_initial_y - robot_y],\n",
    "            z=[badminton_height],\n",
    "            mode=\"markers\",\n",
    "            name=\"Point to Hit the Ball\",\n",
    "            marker=dict(color=\"green\", size=10),\n",
    "            opacity=1,\n",
    "        )\n",
    ")\n",
    "\n",
    "# Show the 3D plot\n",
    "fig.show()\n",
    "\n",
    "# Save the plot as an HTML file\n",
    "offline.plot(fig, filename='interactive_models/robot_pred_normal_reg.html')"
   ]
  },
  {
   "attachments": {},
   "cell_type": "markdown",
   "metadata": {},
   "source": [
    "## Determine Point for Countermeasures\n",
    "Based on the project specificiations where \n",
    "- robot + badminton height=120cm\n",
    "- racket length is 68cm\n",
    "- robot lenght is 52cm\n",
    "- assuming top quarter of racket is top 17cm\n",
    "We assume that robot countermeasure will happen at Z = 1.2 - (0.17/2) = 1.115 because we want to hit it somewhere in the middle of the top quarter"
   ]
  },
  {
   "cell_type": "code",
   "execution_count": 46,
   "metadata": {},
   "outputs": [],
   "source": [
    "# # filter out records that are under X = 6.7\n",
    "# filtered_df = predicted_trajectory_points_df[predicted_trajectory_points_df['X'] > 6.7]\n",
    "\n",
    "# # Determine absolute difference between Z and 1.115 for the filtered dataframe\n",
    "# filtered_df['Z_diff'] = abs(filtered_df['Z'] - 1.115)\n",
    "\n",
    "# # Find the row index with the minimum difference\n",
    "# closest_row_index = filtered_df['Z_diff'].idxmin()\n",
    "\n",
    "# # Access the row with the closest Z value in the filtered dataframe\n",
    "# closest_row = filtered_df.loc[closest_row_index]\n",
    "\n",
    "# # Print the row or perform further operations\n",
    "# print(\"Data Point closest to countermeasure\")\n",
    "# print(closest_row)"
   ]
  }
 ],
 "metadata": {
  "kernelspec": {
   "display_name": "Python 3 (ipykernel)",
   "language": "python",
   "name": "python3"
  },
  "language_info": {
   "codemirror_mode": {
    "name": "ipython",
    "version": 3
   },
   "file_extension": ".py",
   "mimetype": "text/x-python",
   "name": "python",
   "nbconvert_exporter": "python",
   "pygments_lexer": "ipython3",
   "version": "3.10.4"
  }
 },
 "nbformat": 4,
 "nbformat_minor": 2
}
