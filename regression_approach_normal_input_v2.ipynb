{
 "cells": [
  {
   "attachments": {},
   "cell_type": "markdown",
   "metadata": {},
   "source": [
    "# Regressive Normal Input Approach\n",
    "This approach assumes that input for both training and testing is based of all the input data columns  from the \"badmintondata.csv\" and \"badmintondata2.csv\" files. Compared to the limited input approach, lesser features has to be generated as most of the features from the data are significance enough to be used. \n",
    "\n",
    "Random Forest Regressor is used to predict the data points of the trajectory, Decision Tree Classifier is used to determine number of observations an observation groups has."
   ]
  },
  {
   "attachments": {},
   "cell_type": "markdown",
   "metadata": {},
   "source": [
    "## Importing Libraries and Dependencies"
   ]
  },
  {
   "cell_type": "code",
   "execution_count": null,
   "metadata": {},
   "outputs": [],
   "source": [
    "# %pip install pandas\n",
    "# %pip install plotly\n",
    "# %pip install scikit-learn\n",
    "# %pip install numpy\n",
    "# %pip install nbformat\n",
    "# %pip install matplotlib"
   ]
  },
  {
   "cell_type": "code",
   "execution_count": null,
   "metadata": {},
   "outputs": [],
   "source": [
    "# preprocessing and feature generation\n",
    "import pandas as pd\n",
    "import numpy as np\n",
    "import math\n",
    "import random\n",
    "\n",
    "# feature significance\n",
    "from sklearn.decomposition import PCA\n",
    "from sklearn.preprocessing import StandardScaler\n",
    "\n",
    "# data mining and model evaluation\n",
    "from sklearn.model_selection import train_test_split\n",
    "from sklearn.metrics import accuracy_score, mean_squared_error\n",
    "from sklearn.model_selection import learning_curve\n",
    "\n",
    "# visualization\n",
    "import matplotlib.pyplot as plt\n",
    "import plotly.graph_objects as go\n",
    "from plotly.offline import plot"
   ]
  },
  {
   "attachments": {},
   "cell_type": "markdown",
   "metadata": {},
   "source": [
    "## Stage: Preprocessing\n",
    "Loading in Badminton Data\n",
    "- Blank rows are used to separarate observations. \n",
    "- Non-sparse data are filtered out\n",
    "- Data is grouped into observations labelled under data column \"OBSERVATION GROUP NUMBER\"\n",
    "- Data is also sequenced within each observation group with \"OBSERVATION NUMBER\"\n",
    "- There are a total of 365 (index 0 - 364) observation groups here\n",
    "\n",
    "Code is currently commented out as results has already been extracted"
   ]
  },
  {
   "cell_type": "code",
   "execution_count": null,
   "metadata": {},
   "outputs": [],
   "source": [
    "# # read csv data from badmintondata.csv\n",
    "# serving_data = pd.read_csv('badmintondata.csv')\n",
    "\n",
    "# # Initialize variables\n",
    "# observation_group_num = 0\n",
    "# observation_num = 0\n",
    "# is_group = False\n",
    "\n",
    "# # Process rows\n",
    "# for index, row in serving_data.iterrows():\n",
    "#     if row['HUMAN PLAYER POSITION (X) metres'] == 0:\n",
    "#         if is_group:\n",
    "#             is_group = False\n",
    "#         serving_data.drop(index, inplace=True)\n",
    "#     elif row['HUMAN PLAYER POSITION (X) metres'] == 4:\n",
    "#         if is_group:\n",
    "#             observation_num+=1\n",
    "#         else:\n",
    "#             is_group = True\n",
    "#             # increase observation group number by 1\n",
    "#             observation_group_num+=1\n",
    "#             # resets observation sequence number to 1\n",
    "#             observation_num = 1\n",
    "#         serving_data.at[index, 'OBSERVATION NUMBER'] = observation_num\n",
    "#         serving_data.at[index, 'OBSERVATION GROUP NUMBER'] = observation_group_num\n",
    "\n",
    "# # Set 'OBSERVATION GROUP NUMBER' as int\n",
    "# serving_data['OBSERVATION GROUP NUMBER'] = serving_data['OBSERVATION GROUP NUMBER'].astype(int)\n",
    "# serving_data['HUMAN PLAYER POSITION (Z) metres'] = 1.6\n",
    "# serving_data.to_csv('normal_data/normal_serving_data.csv')"
   ]
  },
  {
   "attachments": {},
   "cell_type": "markdown",
   "metadata": {},
   "source": [
    "Loading in the Badminton Rallying Data. \n",
    "- Blank rows are used to separarate observations. \n",
    "- Non-sparse data are filtered out\n",
    "- Data is grouped into observations labelled under data column \"OBSERVATION GROUP NUMBER\"\n",
    "- Data is also sequenced within each observation group with \"OBSERVATION NUMBER\"\n",
    "- There are a total of 1212 (index 365 - 1576) observation groups here\n",
    "\n",
    "Code is currently commented out as results has already been extracted"
   ]
  },
  {
   "cell_type": "code",
   "execution_count": null,
   "metadata": {},
   "outputs": [],
   "source": [
    "# # read csv data from badmintondata.csv\n",
    "# rallying_data = pd.read_csv('badmintondata2.csv')\n",
    "\n",
    "# # Initialize variables\n",
    "# observation_num = 0\n",
    "# is_group = False\n",
    "\n",
    "# # Process rows\n",
    "# for index, row in rallying_data.iterrows():\n",
    "#     if row['HUMAN PLAYER POSITION (X) metres'] == 0:\n",
    "#         if is_group:\n",
    "#             is_group = False\n",
    "#         rallying_data.drop(index, inplace=True)\n",
    "#     elif row['HUMAN PLAYER POSITION (X) metres'] == 4:\n",
    "#         if is_group:\n",
    "#             observation_num+=1\n",
    "#         else:\n",
    "#             is_group = True\n",
    "#             # increase observation group number by 1\n",
    "#             observation_group_num+=1\n",
    "#             # resets observation sequence number to 1\n",
    "#             observation_num = 1\n",
    "#         rallying_data.at[index, 'OBSERVATION NUMBER'] = observation_num\n",
    "#         rallying_data.at[index, 'OBSERVATION GROUP NUMBER'] = observation_group_num\n",
    "\n",
    "# # Set 'OBSERVATION GROUP NUMBER' as int\n",
    "# rallying_data['OBSERVATION GROUP NUMBER'] = rallying_data['OBSERVATION GROUP NUMBER'].astype(int)\n",
    "# rallying_data['HUMAN PLAYER POSITION (Z) metres'] = 2.6\n",
    "# rallying_data.to_csv('normal_data/normal_rallying_data.csv')"
   ]
  },
  {
   "attachments": {},
   "cell_type": "markdown",
   "metadata": {},
   "source": [
    "Combining serving and rallying data"
   ]
  },
  {
   "cell_type": "code",
   "execution_count": null,
   "metadata": {},
   "outputs": [],
   "source": [
    "# # combining the serving and rally dataframes\n",
    "# normal_badminton_data = pd.concat([serving_data, rallying_data], ignore_index=True)\n",
    "# # just renaming some of the data columns to avoid unnecessary errors\n",
    "# normal_badminton_data = normal_badminton_data.rename(columns={'SHUTTLECOCK POSITIION IN AIR(X ) metres': 'SHUTTLECOCK POSITIION IN AIR(X) metres'})\n",
    "# normal_badminton_data = normal_badminton_data.rename(columns={'SHUTTELCOCK SLANT ANGLE TO SIDELINE(DEGREE)': 'INITIAL SHUTTELCOCK SLANT ANGLE TO SIDELINE(DEGREE)'})\n",
    "\n",
    "# normal_badminton_data.to_csv('normal_data/normal_badminton_data.csv')"
   ]
  },
  {
   "attachments": {},
   "cell_type": "markdown",
   "metadata": {},
   "source": [
    "label data if they are are out of bounds within the observations using data column \"OUT OF BOUNDS\". This includes\n",
    "- Data that exceeds the X axis (hit too far on both sides) X < 0 OR X > 13.4\n",
    "- Data that exceeds the Y axis (hit out of court on left or right side) Y < 0 OR Y > 5.18\n",
    "- Data that is out of bounds labelled as 1, no 0\n",
    "\n",
    "OPTIONAL, if needed"
   ]
  },
  {
   "cell_type": "code",
   "execution_count": null,
   "metadata": {},
   "outputs": [],
   "source": [
    "# # labelling data if its out of bounds\n",
    "# unique_observation_number = badminton_data['OBSERVATION GROUP NUMBER'].unique()\n",
    "# for obs_grp_number in unique_observation_number:\n",
    "#     last_row = badminton_data[badminton_data['OBSERVATION GROUP NUMBER'] == obs_grp_number].tail(1)\n",
    "#     # Check the conditions for 'Shuttlecock Position in Air X' and 'Shuttlecock Position in Air Y'\n",
    "#     if (last_row['SHUTTLECOCK POSITIION IN AIR(X ) metres'].values[0] < 0 or\n",
    "#         last_row['SHUTTLECOCK POSITIION IN AIR(X ) metres'].values[0] > 13.4 or\n",
    "#         last_row['SHUTTLECOCK POSITIION IN AIR(Y) metres'].values[0] < 0 or\n",
    "#         last_row['SHUTTLECOCK POSITIION IN AIR(Y) metres'].values[0] > 5.18):\n",
    "        \n",
    "#         # Set 'OUT OF BOUNDS' column to 1 for the corresponding observation number\n",
    "#         badminton_data.loc[badminton_data['OBSERVATION GROUP NUMBER'] == obs_grp_number, 'OUT OF BOUNDS'] = 1\n",
    "#     else:\n",
    "#         badminton_data.loc[badminton_data['OBSERVATION GROUP NUMBER'] == obs_grp_number, 'OUT OF BOUNDS']"
   ]
  },
  {
   "attachments": {},
   "cell_type": "markdown",
   "metadata": {},
   "source": [
    "## Feature Significance\n",
    "Selecting features to test significance using PCA and standardizing them. "
   ]
  },
  {
   "cell_type": "code",
   "execution_count": null,
   "metadata": {},
   "outputs": [],
   "source": [
    "# load combined data\n",
    "normal_badminton_data = pd.read_csv('normal_data/normal_badminton_data.csv')\n",
    "normal_badminton_data = normal_badminton_data.drop(columns=['Unnamed: 0'])\n",
    "# determine x features\n",
    "X_normal_features = normal_badminton_data.drop(columns=['OBSERVATION GROUP NUMBER',\n",
    "                                            'SHUTTLECOCK POSITIION IN AIR(X) metres', \n",
    "                                            'SHUTTLECOCK POSITIION IN AIR(Y) metres', \n",
    "                                            'SHUTTLECOCK POSITIION IN AIR(Z) metres'])\n",
    "# Standardize the data\n",
    "scaler = StandardScaler()\n",
    "X_features_norm = scaler.fit_transform(X_normal_features)"
   ]
  },
  {
   "cell_type": "code",
   "execution_count": null,
   "metadata": {},
   "outputs": [
    {
     "name": "stdout",
     "output_type": "stream",
     "text": [
      "Feature OBSERVATION NUMBER: Significance = 0.17417663070901765\n",
      "Feature INITIAL SHUTTELCOCK FIRING ANGLE (DEGREE): Significance = 0.16891108945854036\n",
      "Feature INITIAL SHUTTELCOCK SLANT ANGLE TO SIDELINE(DEGREE): Significance = 0.15498260007946538\n",
      "Feature HUMAN PLAYER POSITION (Z) metres: Significance = 0.14545121940752884\n",
      "Feature INITITAL VELOCITY OF SHUTTELCOCK(m/s): Significance = 0.13877424720713488\n",
      "Feature HUMAN PLAYER POSITION (Y) metres: Significance = 0.13270330344128295\n",
      "Feature HUMAN PLAYER POSITION (X) metres: Significance = 0.08500090969702995\n"
     ]
    },
    {
     "data": {
      "image/png": "[encoded data removed]",
      "text/plain": [
       "<Figure size 640x480 with 1 Axes>"
      ]
     },
     "metadata": {},
     "output_type": "display_data"
    }
   ],
   "source": [
    "# instantiate PCA object, fit model\n",
    "pca = PCA()\n",
    "pca.fit(X_features_norm)\n",
    "\n",
    "# loadings refer to the coefficients or weights that determine the contribution of each feature to the principal components\n",
    "# Get the absolute loadings for each feature in each principal component\n",
    "absolute_loadings = np.abs(pca.components_)\n",
    "# Calculate the total sum of absolute loadings for each feature across all principal components\n",
    "total_loadings = np.sum(absolute_loadings, axis=0)\n",
    "\n",
    "# Calculate the relative contribution of each feature to the total loadings\n",
    "relative_contribution = total_loadings / np.sum(total_loadings)\n",
    "\n",
    "# Sort the features based on their relative contribution\n",
    "sorted_features = np.argsort(relative_contribution)[::-1]\n",
    "feature_names = X_normal_features.columns\n",
    "# Print the significance of each feature\n",
    "for feature_idx in sorted_features:\n",
    "    print(f\"Feature {feature_names[feature_idx]}: Significance = {relative_contribution[feature_idx]}\")\n",
    "\n",
    "# Plot the significance of each feature\n",
    "plt.bar(range(len(sorted_features)), relative_contribution[sorted_features])\n",
    "plt.xlabel('Features')\n",
    "plt.ylabel('Significance')\n",
    "plt.title('Significance of Features in PCA')\n",
    "plt.xticks(range(len(sorted_features)), feature_names[sorted_features], rotation=90)\n",
    "# plt.xticks(range(len(sorted_features)), sorted_features)\n",
    "plt.show()"
   ]
  },
  {
   "attachments": {},
   "cell_type": "markdown",
   "metadata": {},
   "source": [
    "## Stage: Data Mining\n",
    "### Preparing data for Decision Tree Classifier\n",
    "To determine observation steps needed for a trajectory, only these X features are needed. No normalization is needed\n",
    "- 'HUMAN PLAYER POSITION (X) metres'\n",
    "- 'HUMAN PLAYER POSITION (Y) metres'\n",
    "- 'HUMAN PLAYER POSITION (Z) metres'\n",
    "- 'INITITAL VELOCITY OF SHUTTELCOCK(m/s)'\n",
    "- 'INITIAL SHUTTELCOCK FIRING ANGLE (DEGREE)'\n",
    "- 'INITIAL SHUTTELCOCK SLANT ANGLE TO SIDELINE(DEGREE)'"
   ]
  },
  {
   "cell_type": "code",
   "execution_count": null,
   "metadata": {},
   "outputs": [],
   "source": [
    "# loading data\n",
    "data = pd.read_csv('normal_data/normal_badminton_data.csv')\n",
    "data = data.drop(columns=['Unnamed: 0'])\n",
    "\n",
    "# Drop duplicates based on 'Observation Group Number', keeping only the last record\n",
    "data_DT = data.copy()\n",
    "data_DT = data_DT.drop_duplicates(subset='OBSERVATION GROUP NUMBER', keep='last')\n",
    "\n",
    "# Define X and Y Features for Decision Tree\n",
    "X_features_DT = data_DT[['HUMAN PLAYER POSITION (X) metres', \n",
    "                        'HUMAN PLAYER POSITION (Y) metres', \n",
    "                        'HUMAN PLAYER POSITION (Z) metres', \n",
    "                        'INITITAL VELOCITY OF SHUTTELCOCK(m/s)', \n",
    "                        'INITIAL SHUTTELCOCK FIRING ANGLE (DEGREE)', \n",
    "                        'INITIAL SHUTTELCOCK SLANT ANGLE TO SIDELINE(DEGREE)']]\n",
    "\n",
    "Y_feature_DT = data_DT['OBSERVATION NUMBER']\n",
    "\n",
    "\n",
    "# Split the data into train/test, X/Y for Decision Tree Classifier\n",
    "X_train_DT, X_test_DT, Y_train_DT, Y_test_DT = train_test_split(X_features_DT, Y_feature_DT, test_size=0.2, random_state=42)"
   ]
  },
  {
   "attachments": {},
   "cell_type": "markdown",
   "metadata": {},
   "source": [
    "### Finding Optimal Decision Tree Model\n",
    "To predict total observation time based on the independent feature supplied. Predicts a set of observation take"
   ]
  },
  {
   "cell_type": "code",
   "execution_count": null,
   "metadata": {},
   "outputs": [],
   "source": [
    "from sklearn.tree import DecisionTreeClassifier\n",
    "maxdepths = [2,3,4,5,6,7,8,9,10,15]  # 10 different depths\n",
    "\n",
    "# containers to store train/test accuracy rates\n",
    "trainAcc_DT = np.zeros(len(maxdepths))\n",
    "testAcc_DT = np.zeros(len(maxdepths))\n",
    "\n",
    "index = 0\n",
    "for depth in maxdepths:\n",
    "    # training decision tree with depth lengths\n",
    "    temp_model_DT = DecisionTreeClassifier(max_depth=depth)\n",
    "    temp_model_DT = temp_model_DT.fit(X_train_DT, Y_train_DT)\n",
    "    # generate predictions using the model trained, for the training data (X) and test data (X)\n",
    "    Y_predTrain = temp_model_DT.predict(X_train_DT)\n",
    "    Y_predTest = temp_model_DT.predict(X_test_DT)\n",
    "    # compare the predicted values and compare against original values for accuracy\n",
    "    trainAcc_DT[index] = accuracy_score(Y_train_DT, Y_predTrain)\n",
    "    testAcc_DT[index] = accuracy_score(Y_test_DT, Y_predTest)\n",
    "    index += 1"
   ]
  },
  {
   "cell_type": "code",
   "execution_count": null,
   "metadata": {},
   "outputs": [
    {
     "data": {
      "text/plain": [
       "Text(0, 0.5, 'Accuracy')"
      ]
     },
     "execution_count": 11,
     "metadata": {},
     "output_type": "execute_result"
    },
    {
     "data": {
      "image/png": "[encoded data removed]",
      "text/plain": [
       "<Figure size 640x480 with 1 Axes>"
      ]
     },
     "metadata": {},
     "output_type": "display_data"
    }
   ],
   "source": [
    "plt.plot(maxdepths,trainAcc_DT,'ro-',maxdepths,testAcc_DT,'bv--')\n",
    "plt.legend(['Training Accuracy','Test Accuracy'])\n",
    "plt.xlabel('Max depth')\n",
    "plt.ylabel('Accuracy')"
   ]
  },
  {
   "attachments": {},
   "cell_type": "markdown",
   "metadata": {},
   "source": [
    "### Train Decision Tree Model \"Model_DecisionTree\"\n",
    "Using the optimal elbow depth found in the previous segment which is 3"
   ]
  },
  {
   "cell_type": "code",
   "execution_count": null,
   "metadata": {},
   "outputs": [
    {
     "name": "stdout",
     "output_type": "stream",
     "text": [
      "Training Accuracy:  1.0\n",
      "Testing Accuracy:  1.0\n"
     ]
    }
   ],
   "source": [
    "model_decisionTree = DecisionTreeClassifier(max_depth=3)\n",
    "model_decisionTree = model_decisionTree.fit(X_train_DT, Y_train_DT)\n",
    "\n",
    "Y_predTrain = model_decisionTree.predict(X_train_DT)\n",
    "Y_predTest = model_decisionTree.predict(X_test_DT)\n",
    "\n",
    "trainAcc_DT = accuracy_score(Y_train_DT, Y_predTrain)\n",
    "testAcc_DT = accuracy_score(Y_test_DT, Y_predTest)\n",
    "print(\"Training Accuracy: \", trainAcc_DT)\n",
    "print(\"Testing Accuracy: \", testAcc_DT)"
   ]
  },
  {
   "attachments": {},
   "cell_type": "markdown",
   "metadata": {},
   "source": [
    "### Preparing data for Regression Models"
   ]
  },
  {
   "cell_type": "code",
   "execution_count": null,
   "metadata": {},
   "outputs": [],
   "source": [
    "# Define X and Y features\n",
    "X_features_Regression = data[['HUMAN PLAYER POSITION (X) metres', \n",
    "                        'HUMAN PLAYER POSITION (Y) metres', \n",
    "                        'HUMAN PLAYER POSITION (Z) metres',\n",
    "                        'INITITAL VELOCITY OF SHUTTELCOCK(m/s)', \n",
    "                        'INITIAL SHUTTELCOCK FIRING ANGLE (DEGREE)', \n",
    "                        'INITIAL SHUTTELCOCK SLANT ANGLE TO SIDELINE(DEGREE)',\n",
    "                        'OBSERVATION NUMBER']]\n",
    "\n",
    "Y_features_Regression = data[['SHUTTLECOCK POSITIION IN AIR(X) metres', \n",
    "                        'SHUTTLECOCK POSITIION IN AIR(Y) metres', \n",
    "                        'SHUTTLECOCK POSITIION IN AIR(Z) metres']]\n",
    "\n",
    "# contains all the observation group numbers in data\n",
    "unique_observation_grps = data['OBSERVATION GROUP NUMBER'].unique() # list of [1 to 1576]\n",
    "# shuffle order\n",
    "random.shuffle(unique_observation_grps)\n",
    "\n",
    "# index of training sets\n",
    "training_test_split_idx = int(0.8*len(unique_observation_grps))\n",
    "# containers to store all the respective train and test observation groups idx from data\n",
    "train_idxes = unique_observation_grps[:training_test_split_idx]\n",
    "test_idxes = unique_observation_grps[training_test_split_idx:]\n",
    "\n",
    "train_data = data[data['OBSERVATION GROUP NUMBER'].isin(train_idxes)]\n",
    "test_data = data[data['OBSERVATION GROUP NUMBER'].isin(test_idxes)]\n",
    "\n",
    "X_train_Regression = train_data[['HUMAN PLAYER POSITION (X) metres', \n",
    "                        'HUMAN PLAYER POSITION (Y) metres', \n",
    "                        'HUMAN PLAYER POSITION (Z) metres',\n",
    "                        'INITITAL VELOCITY OF SHUTTELCOCK(m/s)', \n",
    "                        'INITIAL SHUTTELCOCK FIRING ANGLE (DEGREE)', \n",
    "                        'INITIAL SHUTTELCOCK SLANT ANGLE TO SIDELINE(DEGREE)',\n",
    "                        'OBSERVATION NUMBER']]\n",
    "\n",
    "Y_train_Regression = train_data[['SHUTTLECOCK POSITIION IN AIR(X) metres', \n",
    "                      'SHUTTLECOCK POSITIION IN AIR(Y) metres', \n",
    "                      'SHUTTLECOCK POSITIION IN AIR(Z) metres']]\n",
    "\n",
    "X_test_Regression = test_data[['HUMAN PLAYER POSITION (X) metres', \n",
    "                        'HUMAN PLAYER POSITION (Y) metres', \n",
    "                        'HUMAN PLAYER POSITION (Z) metres',\n",
    "                        'INITITAL VELOCITY OF SHUTTELCOCK(m/s)', \n",
    "                        'INITIAL SHUTTELCOCK FIRING ANGLE (DEGREE)', \n",
    "                        'INITIAL SHUTTELCOCK SLANT ANGLE TO SIDELINE(DEGREE)',\n",
    "                        'OBSERVATION NUMBER']]\n",
    "\n",
    "Y_test_Regression = test_data[['SHUTTLECOCK POSITIION IN AIR(X) metres', \n",
    "                    'SHUTTLECOCK POSITIION IN AIR(Y) metres', \n",
    "                    'SHUTTLECOCK POSITIION IN AIR(Z) metres']]\n",
    "\n",
    "# # splitting data into X, Y train test, 80/20\n",
    "# X_train_Regression, X_test_Regression, Y_train_Regression, Y_test_Regression = train_test_split(X_features_Regression, Y_features_Regression, test_size=0.2, random_state=42)"
   ]
  },
  {
   "attachments": {},
   "cell_type": "markdown",
   "metadata": {},
   "source": [
    "### Random Forest Regressor\n",
    "Random Forest is an ensemble learning algorithm that combines multiple decision trees to make predictions. It can handle both numerical and categorical data and is capable of capturing complex relationships in the data. It does not require feature standardization as they are not sensitive to the scale of the features. Random Forest algorithms work by creating decision trees based on random subsets of features, and each decision tree independently makes decisions based on these features.\n",
    "#### Dependencies for Random Forest Regressor"
   ]
  },
  {
   "cell_type": "code",
   "execution_count": null,
   "metadata": {},
   "outputs": [],
   "source": [
    "from sklearn.ensemble import RandomForestRegressor  # for regression tasks"
   ]
  },
  {
   "attachments": {},
   "cell_type": "markdown",
   "metadata": {},
   "source": [
    "### Optimizing Random Forest Regressor\n",
    "Building multiple models with different depths to find best model with lowest mean squared error. Best depth should be 15"
   ]
  },
  {
   "cell_type": "code",
   "execution_count": null,
   "metadata": {},
   "outputs": [],
   "source": [
    "# # Define a list of depths to test\n",
    "# depths = [5, 10, 15, 20, 25, 30]\n",
    "# mse_scores_depth_RF = []\n",
    "\n",
    "# # Iterate over different depths and calculate MSE\n",
    "# for depth in depths:\n",
    "#     temp_model_RF = RandomForestRegressor(n_estimators=100, max_depth=depth, random_state=42)\n",
    "#     temp_model_RF.fit(X_train_Regression, Y_train_Regression)\n",
    "#     temp_y_pred_RF = temp_model_RF.predict(X_test_Regression)\n",
    "#     temp_mse_depth_RF = mean_squared_error(Y_test_Regression, temp_y_pred_RF)\n",
    "#     mse_scores_depth_RF.append(temp_mse_depth_RF)\n",
    "# print(mse_scores_depth_RF)"
   ]
  },
  {
   "cell_type": "code",
   "execution_count": null,
   "metadata": {},
   "outputs": [],
   "source": [
    "# # Plotting the MSE scores\n",
    "# plt.plot(depths, mse_scores_depth_RF, marker='o')\n",
    "# plt.xlabel('Depth')\n",
    "# plt.ylabel('Mean Squared Error')\n",
    "# plt.title('Mean Squared Error vs. Depth for Random Forest Regressor')\n",
    "# plt.show()"
   ]
  },
  {
   "attachments": {},
   "cell_type": "markdown",
   "metadata": {},
   "source": [
    "Building multiple models with different number of decision trees \"n_estimators\" to find best \"n_estimator\". Best number of decision trees should be 200"
   ]
  },
  {
   "cell_type": "code",
   "execution_count": null,
   "metadata": {},
   "outputs": [],
   "source": [
    "# # Define a list of n_estimators to test\n",
    "# n_estimators_values = [50, 100, 150, 200, 250, 300]\n",
    "# mse_score_nestimator_RF = []\n",
    "\n",
    "# # Iterate over different n_estimators and calculate MSE\n",
    "# for n_estimators in n_estimators_values:\n",
    "#     temp_model_RF = RandomForestRegressor(n_estimators=n_estimators, max_depth=15, random_state=42)\n",
    "#     temp_model_RF.fit(X_train_Regression, Y_train_Regression)\n",
    "#     temp_y_pred_RF = temp_model_RF.predict(X_test_Regression)\n",
    "#     temp_mse_nestimator_RF = mean_squared_error(Y_test_Regression, temp_y_pred_RF)\n",
    "#     mse_score_nestimator_RF.append(temp_mse_nestimator_RF)\n",
    "# print(mse_score_nestimator_RF)"
   ]
  },
  {
   "cell_type": "code",
   "execution_count": null,
   "metadata": {},
   "outputs": [],
   "source": [
    "# # Plotting the MSE scores\n",
    "# plt.plot(n_estimators_values, mse_score_nestimator_RF, marker='o')\n",
    "# plt.xlabel('n_estimators')\n",
    "# plt.ylabel('Mean Squared Error')\n",
    "# plt.title('Mean Squared Error vs. n_estimators for Random Forest Regressor')\n",
    "# plt.show()"
   ]
  },
  {
   "attachments": {},
   "cell_type": "markdown",
   "metadata": {},
   "source": [
    "### Training with Best Random Forest Regressor\n",
    "This model will allow us predict an X, Y, Z coordinate in relation to the independent features supplied"
   ]
  },
  {
   "cell_type": "code",
   "execution_count": null,
   "metadata": {},
   "outputs": [],
   "source": [
    "model_randomForest = RandomForestRegressor(n_estimators=100, max_depth=15, random_state=42)  # for regression\n",
    "\n",
    "model_randomForest.fit(X_train_Regression, Y_train_Regression)\n",
    "y_pred_RF = model_randomForest.predict(X_test_Regression)"
   ]
  },
  {
   "attachments": {},
   "cell_type": "markdown",
   "metadata": {},
   "source": [
    "### Training Evaluation of Random Forest Regressor\n",
    "Mean squared error and root mean squared errors are error margin metrics for regression models. Refer to root mean squared error for a closer error margin to original metric"
   ]
  },
  {
   "cell_type": "code",
   "execution_count": null,
   "metadata": {},
   "outputs": [
    {
     "name": "stdout",
     "output_type": "stream",
     "text": [
      "Mean Squared Error: 0.005084803591630613\n",
      "Root Mean Squared Error: 0.07130780877036268\n"
     ]
    }
   ],
   "source": [
    "mse_RF = mean_squared_error(Y_test_Regression, y_pred_RF)\n",
    "print(\"Mean Squared Error:\", mse_RF)\n",
    "rmse_RF = math.sqrt(mse_RF)\n",
    "print(\"Root Mean Squared Error:\", rmse_RF)"
   ]
  },
  {
   "attachments": {},
   "cell_type": "markdown",
   "metadata": {},
   "source": [
    "Check for generalization of data and if data is able to capture underlying pattern properly. This is done with a learning curve, with a negative mean squared metric. If the training and validation lines converge at a low error rate, that means that the model is well generalized and captures patterns properly"
   ]
  },
  {
   "cell_type": "code",
   "execution_count": null,
   "metadata": {},
   "outputs": [],
   "source": [
    "# # Calculate the learning curves\n",
    "# train_sizes, train_scores, val_scores = learning_curve(model_randomForest, X_train_Regression, Y_train_Regression, cv=5, scoring='neg_mean_squared_error')\n",
    "\n",
    "# # Calculate the mean and standard deviation of train and validation scores\n",
    "# train_mean = -np.mean(train_scores, axis=1)\n",
    "# train_std = np.std(train_scores, axis=1)\n",
    "# val_mean = -np.mean(val_scores, axis=1)\n",
    "# val_std = np.std(val_scores, axis=1)"
   ]
  },
  {
   "cell_type": "code",
   "execution_count": null,
   "metadata": {},
   "outputs": [],
   "source": [
    "# # Plot the learning curves\n",
    "# plt.figure(figsize=(10, 7))\n",
    "# plt.plot(train_sizes, train_mean, label='Training score', color='blue')\n",
    "# plt.fill_between(train_sizes, train_mean - train_std, train_mean + train_std, alpha=0.1, color='blue')\n",
    "# plt.plot(train_sizes, val_mean, label='Validation score', color='red')\n",
    "# plt.fill_between(train_sizes, val_mean - val_std, val_mean + val_std, alpha=0.1, color='red')\n",
    "# plt.xlabel('Training Set Size')\n",
    "# plt.ylabel('Negative Mean Squared Error')\n",
    "# plt.title('Learning Curve for Random Forest Regressor')\n",
    "# plt.legend(loc='best')\n",
    "# plt.show()"
   ]
  },
  {
   "attachments": {},
   "cell_type": "markdown",
   "metadata": {},
   "source": [
    "### Model Visualization of Random Forest Regressor"
   ]
  },
  {
   "cell_type": "code",
   "execution_count": null,
   "metadata": {},
   "outputs": [
    {
     "data": {
      "image/png": "[encoded data removed]",
      "text/plain": [
       "<Figure size 1500x500 with 3 Axes>"
      ]
     },
     "metadata": {},
     "output_type": "display_data"
    }
   ],
   "source": [
    "# Plotting the scatterplot\n",
    "fig, ax = plt.subplots(1, 3, figsize=(15, 5))\n",
    "\n",
    "# Plotting for each target variable\n",
    "for i, target in enumerate(Y_features_Regression.columns):\n",
    "    ax[i].scatter(Y_test_Regression[target], y_pred_RF[:, i], alpha=0.5)\n",
    "    ax[i].plot([Y_test_Regression[target].min(), Y_test_Regression[target].max()], [Y_test_Regression[target].min(), Y_test_Regression[target].max()], 'r--')\n",
    "    ax[i].set_xlabel('Actual ' + target)\n",
    "    ax[i].set_ylabel('Predicted ' + target)\n",
    "\n",
    "plt.suptitle('Actual vs Predicted Y for Random Forest Regressor')\n",
    "plt.tight_layout()\n",
    "plt.show()"
   ]
  },
  {
   "attachments": {},
   "cell_type": "markdown",
   "metadata": {},
   "source": [
    "Interactive Display of Entire Trained Regressive Model"
   ]
  },
  {
   "cell_type": "code",
   "execution_count": null,
   "metadata": {},
   "outputs": [
    {
     "data": {
      "text/plain": [
       "'interactive_models/random_forest_normal_model.html'"
      ]
     },
     "execution_count": 24,
     "metadata": {},
     "output_type": "execute_result"
    }
   ],
   "source": [
    "import plotly.graph_objects as go\n",
    "from plotly.offline import plot\n",
    "\n",
    "# Create traces for actual and predicted values\n",
    "actual_trace = go.Scatter3d(\n",
    "    x=Y_test_Regression['SHUTTLECOCK POSITIION IN AIR(X) metres'],\n",
    "    y=Y_test_Regression['SHUTTLECOCK POSITIION IN AIR(Y) metres'],\n",
    "    z=Y_test_Regression['SHUTTLECOCK POSITIION IN AIR(Z) metres'],\n",
    "    name='Actual',\n",
    "    mode='markers',\n",
    "    marker=dict(\n",
    "        color='blue',\n",
    "        size=3,\n",
    "        symbol='circle'\n",
    "    )\n",
    ")\n",
    "\n",
    "predicted_trace = go.Scatter3d(\n",
    "    x=y_pred_RF[:, 0],\n",
    "    y=y_pred_RF[:, 1],\n",
    "    z=y_pred_RF[:, 2],\n",
    "    name='Predicted',\n",
    "    mode='markers',\n",
    "    marker=dict(\n",
    "        color='red',\n",
    "        size=3,\n",
    "        symbol='circle'\n",
    "    )\n",
    ")\n",
    "\n",
    "# Create layout\n",
    "layout = go.Layout(\n",
    "    title='Actual vs Predicted Shuttlecock Positions for Random Forest Regressor',\n",
    "    scene=dict(\n",
    "        xaxis=dict(title='X'),\n",
    "        yaxis=dict(title='Y'),\n",
    "        zaxis=dict(title='Z')\n",
    "    )\n",
    ")\n",
    "\n",
    "# Create figure\n",
    "fig = go.Figure(data=[actual_trace, predicted_trace], layout=layout)\n",
    "\n",
    "# Save the plot as an HTML file\n",
    "plot(fig, filename='interactive_models/random_forest_normal_model.html')"
   ]
  },
  {
   "attachments": {},
   "cell_type": "markdown",
   "metadata": {},
   "source": [
    "### Extra Trees Regressor\n",
    "Extra Trees aka. (Extremely Randomized Trees) Regressor is a variant of Random Forest Tree which also uses an ensemble of decision trees to make predictions. However unlike random forests, Extra Trees introduces extra randomness by randomly selecting features at each node split. This randomness helps to create more diverse and less correlated trees. The final prediction is obtained by averaging the predictions of all the trees.\n",
    "#### Dependencies for Extra Trees Regressor"
   ]
  },
  {
   "cell_type": "code",
   "execution_count": null,
   "metadata": {},
   "outputs": [],
   "source": [
    "from sklearn.ensemble import ExtraTreesRegressor"
   ]
  },
  {
   "attachments": {},
   "cell_type": "markdown",
   "metadata": {},
   "source": [
    "### Optimization of Extra Tree Regressor \n",
    "Building multiple models with different depths to find best model with lowest mean squared error. Best depth should be 15"
   ]
  },
  {
   "cell_type": "code",
   "execution_count": null,
   "metadata": {},
   "outputs": [],
   "source": [
    "# # Define a list of depths to test\n",
    "# depths = [5, 10, 15, 20, 25, 30]\n",
    "# mse_scores_depth_ET = []\n",
    "\n",
    "# # Iterate over different depths and calculate MSE\n",
    "# for depth in depths:\n",
    "#     temp_model_ET = ExtraTreesRegressor(n_estimators=100, max_depth=depth, random_state=42)\n",
    "#     temp_model_ET.fit(X_train_Regression, Y_train_Regression)\n",
    "#     temp_y_pred_ET = temp_model_ET.predict(X_test_Regression)\n",
    "#     temp_mse_depth_ET = mean_squared_error(Y_test_Regression, temp_y_pred_ET)\n",
    "#     mse_scores_depth_ET.append(temp_mse_depth_ET)"
   ]
  },
  {
   "cell_type": "code",
   "execution_count": null,
   "metadata": {},
   "outputs": [],
   "source": [
    "# # Plotting the MSE scores\n",
    "# plt.plot(depths, mse_scores_depth_ET, marker='o')\n",
    "# plt.xlabel('Depth')\n",
    "# plt.ylabel('Mean Squared Error')\n",
    "# plt.title('Mean Squared Error vs. Depth for Extra Trees Regressor')\n",
    "# plt.show()"
   ]
  },
  {
   "attachments": {},
   "cell_type": "markdown",
   "metadata": {},
   "source": [
    "Building multiple models with different number of decision trees \"n_estimators\" to find best \"n_estimator\". Best number of decision trees should be 200"
   ]
  },
  {
   "cell_type": "code",
   "execution_count": null,
   "metadata": {},
   "outputs": [],
   "source": [
    "# # Define a list of n_estimators to test\n",
    "# n_estimators_values = [50, 100, 150, 200, 250, 300]\n",
    "# mse_scores_nestimator_ET = []\n",
    "\n",
    "# # Iterate over different n_estimators and calculate MSE\n",
    "# for n_estimators in n_estimators_values:\n",
    "#     temp_model_ET = RandomForestRegressor(n_estimators=n_estimators, max_depth=15, random_state=42)\n",
    "#     temp_model_ET.fit(X_train_Regression, Y_train_Regression)\n",
    "#     temp_y_pred_RF = temp_model_ET.predict(X_test_Regression)\n",
    "#     temp_mse_nestimator_ET = mean_squared_error(Y_test_Regression, temp_y_pred_RF)\n",
    "#     mse_scores_nestimator_ET.append(temp_mse_nestimator_ET)\n",
    "# print(mse_scores_nestimator_ET)"
   ]
  },
  {
   "cell_type": "code",
   "execution_count": null,
   "metadata": {},
   "outputs": [],
   "source": [
    "# # Plotting the MSE scores\n",
    "# plt.plot(n_estimators_values, mse_scores_nestimator_ET, marker='o')\n",
    "# plt.xlabel('n_estimators')\n",
    "# plt.ylabel('Mean Squared Error')\n",
    "# plt.title('Mean Squared Error vs. n_estimators for Extra Trees Regressor')\n",
    "# plt.show()"
   ]
  },
  {
   "attachments": {},
   "cell_type": "markdown",
   "metadata": {},
   "source": [
    "### Training with Best Extra Trees Regressor\n",
    "This model will allow us predict an X, Y, Z coordinate in relation to the independent features supplied"
   ]
  },
  {
   "cell_type": "code",
   "execution_count": null,
   "metadata": {},
   "outputs": [],
   "source": [
    "# Define the Extra Trees Regressor\n",
    "model_ExtraTrees = ExtraTreesRegressor()\n",
    "model_ExtraTrees.fit(X_train_Regression, Y_train_Regression)\n",
    "y_pred_ET = model_ExtraTrees.predict(X_test_Regression)"
   ]
  },
  {
   "attachments": {},
   "cell_type": "markdown",
   "metadata": {},
   "source": [
    "### Training Evaluation of Extra Trees Regressor\n",
    "Mean squared error and root mean squared errors are error margin metrics for regression models. Refer to root mean squared error for a closer error margin to original metric"
   ]
  },
  {
   "cell_type": "code",
   "execution_count": null,
   "metadata": {},
   "outputs": [
    {
     "name": "stdout",
     "output_type": "stream",
     "text": [
      "Mean Squared Error: 0.00034134798199363754\n",
      "Root Squared Error: 0.01847560505081329\n"
     ]
    }
   ],
   "source": [
    "mse_ET = mean_squared_error(Y_test_Regression, y_pred_ET)\n",
    "print(\"Mean Squared Error:\", mse_ET)\n",
    "rmse_ET = math.sqrt(mse_ET)\n",
    "print(\"Root Squared Error:\", rmse_ET)"
   ]
  },
  {
   "attachments": {},
   "cell_type": "markdown",
   "metadata": {},
   "source": [
    "Check for generalization of data and if data is able to capture underlying pattern properly. This is done with a learning curve, with a negative mean squared metric. If the training and validation lines converge at a low error rate, that means that the model is well generalized and captures patterns properly"
   ]
  },
  {
   "cell_type": "code",
   "execution_count": null,
   "metadata": {},
   "outputs": [],
   "source": [
    "# # Calculate the learning curves\n",
    "# train_sizes, train_scores, val_scores = learning_curve(model_ExtraTrees, X_train_Regression, Y_train_Regression, cv=5, scoring='neg_mean_squared_error')\n",
    "\n",
    "# # Calculate the mean and standard deviation of train and validation scores\n",
    "# train_mean = -np.mean(train_scores, axis=1)\n",
    "# train_std = np.std(train_scores, axis=1)\n",
    "# val_mean = -np.mean(val_scores, axis=1)\n",
    "# val_std = np.std(val_scores, axis=1)"
   ]
  },
  {
   "cell_type": "code",
   "execution_count": null,
   "metadata": {},
   "outputs": [],
   "source": [
    "# # Plot the learning curves\n",
    "# plt.figure(figsize=(10, 7))\n",
    "# plt.plot(train_sizes, train_mean, label='Training score', color='blue')\n",
    "# plt.fill_between(train_sizes, train_mean - train_std, train_mean + train_std, alpha=0.1, color='blue')\n",
    "# plt.plot(train_sizes, val_mean, label='Validation score', color='red')\n",
    "# plt.fill_between(train_sizes, val_mean - val_std, val_mean + val_std, alpha=0.1, color='red')\n",
    "# plt.xlabel('Training Set Size')\n",
    "# plt.ylabel('Negative Mean Squared Error')\n",
    "# plt.title('Learning Curve for Extra Trees')\n",
    "# plt.legend(loc='best')\n",
    "# plt.show()"
   ]
  },
  {
   "attachments": {},
   "cell_type": "markdown",
   "metadata": {},
   "source": [
    "### Model Visualization of Extra Trees Regressor"
   ]
  },
  {
   "cell_type": "code",
   "execution_count": null,
   "metadata": {},
   "outputs": [
    {
     "data": {
      "image/png": "[encoded data removed]",
      "text/plain": [
       "<Figure size 1500x500 with 3 Axes>"
      ]
     },
     "metadata": {},
     "output_type": "display_data"
    }
   ],
   "source": [
    "# Plotting the scatterplot\n",
    "fig, ax = plt.subplots(1, 3, figsize=(15, 5))\n",
    "\n",
    "# Plotting for each target variable\n",
    "for i, target in enumerate(Y_features_Regression.columns):\n",
    "    ax[i].scatter(Y_test_Regression[target], y_pred_ET[:, i], alpha=0.5)\n",
    "    ax[i].plot([Y_test_Regression[target].min(), Y_test_Regression[target].max()], [Y_test_Regression[target].min(), Y_test_Regression[target].max()], 'r--')\n",
    "    ax[i].set_xlabel('Actual ' + target)\n",
    "    ax[i].set_ylabel('Predicted ' + target)\n",
    "\n",
    "plt.suptitle('Actual vs Predicted Y for Extra Trees Regressor')\n",
    "plt.tight_layout()\n",
    "plt.show()"
   ]
  },
  {
   "cell_type": "code",
   "execution_count": null,
   "metadata": {},
   "outputs": [
    {
     "data": {
      "text/plain": [
       "'interactive_models/extra_trees_normal_model.html'"
      ]
     },
     "execution_count": 35,
     "metadata": {},
     "output_type": "execute_result"
    }
   ],
   "source": [
    "# Create traces for actual and predicted values\n",
    "actual_trace = go.Scatter3d(\n",
    "    x=Y_test_Regression['SHUTTLECOCK POSITIION IN AIR(X) metres'],\n",
    "    y=Y_test_Regression['SHUTTLECOCK POSITIION IN AIR(Y) metres'],\n",
    "    z=Y_test_Regression['SHUTTLECOCK POSITIION IN AIR(Z) metres'],\n",
    "    name='Actual',\n",
    "    mode='markers',\n",
    "    marker=dict(\n",
    "        color='blue',\n",
    "        size=3,\n",
    "        symbol='circle'\n",
    "    )\n",
    ")\n",
    "\n",
    "predicted_trace = go.Scatter3d(\n",
    "    x=y_pred_ET[:, 0],\n",
    "    y=y_pred_ET[:, 1],\n",
    "    z=y_pred_ET[:, 2],\n",
    "    name='Predicted',\n",
    "    mode='markers',\n",
    "    marker=dict(\n",
    "        color='red',\n",
    "        size=3,\n",
    "        symbol='circle'\n",
    "    )\n",
    ")\n",
    "\n",
    "# Create layout\n",
    "layout = go.Layout(\n",
    "    title='Actual vs Predicted Shuttlecock Positions for Extra Trees Regressor',\n",
    "    scene=dict(\n",
    "        xaxis=dict(title='X'),\n",
    "        yaxis=dict(title='Y'),\n",
    "        zaxis=dict(title='Z')\n",
    "    )\n",
    ")\n",
    "\n",
    "# Create figure\n",
    "fig = go.Figure(data=[actual_trace, predicted_trace], layout=layout)\n",
    "\n",
    "# Save the plot as an HTML file\n",
    "plot(fig, filename='interactive_models/extra_trees_normal_model.html')"
   ]
  },
  {
   "attachments": {},
   "cell_type": "markdown",
   "metadata": {},
   "source": [
    "## Stage: Actual Testing with First Coordinate\n",
    "To actually test if all the models work, the first point of an observation group will be used for testing. Test will be randomized and based on observation group. Assuming that we will know the sequence order of the observation since they are ordered, OBSERVATION NUMBER will be used to identify the first observation"
   ]
  },
  {
   "cell_type": "code",
   "execution_count": null,
   "metadata": {},
   "outputs": [
    {
     "name": "stdout",
     "output_type": "stream",
     "text": [
      "Selected Observation Group Number is : 36\n"
     ]
    },
    {
     "data": {
      "text/html": [
       "<div>\n",
       "<style scoped>\n",
       "    .dataframe tbody tr th:only-of-type {\n",
       "        vertical-align: middle;\n",
       "    }\n",
       "\n",
       "    .dataframe tbody tr th {\n",
       "        vertical-align: top;\n",
       "    }\n",
       "\n",
       "    .dataframe thead th {\n",
       "        text-align: right;\n",
       "    }\n",
       "</style>\n",
       "<table border=\"1\" class=\"dataframe\">\n",
       "  <thead>\n",
       "    <tr style=\"text-align: right;\">\n",
       "      <th></th>\n",
       "      <th>HUMAN PLAYER POSITION (X) metres</th>\n",
       "      <th>HUMAN PLAYER POSITION (Y) metres</th>\n",
       "      <th>INITITAL VELOCITY OF SHUTTELCOCK(m/s)</th>\n",
       "      <th>INITIAL SHUTTELCOCK FIRING ANGLE (DEGREE)</th>\n",
       "      <th>INITIAL SHUTTELCOCK SLANT ANGLE TO SIDELINE(DEGREE)</th>\n",
       "      <th>SHUTTLECOCK POSITIION IN AIR(X) metres</th>\n",
       "      <th>SHUTTLECOCK POSITIION IN AIR(Y) metres</th>\n",
       "      <th>SHUTTLECOCK POSITIION IN AIR(Z) metres</th>\n",
       "      <th>OBSERVATION NUMBER</th>\n",
       "      <th>OBSERVATION GROUP NUMBER</th>\n",
       "      <th>HUMAN PLAYER POSITION (Z) metres</th>\n",
       "    </tr>\n",
       "  </thead>\n",
       "  <tbody>\n",
       "    <tr>\n",
       "      <th>4270</th>\n",
       "      <td>4</td>\n",
       "      <td>2</td>\n",
       "      <td>10</td>\n",
       "      <td>40</td>\n",
       "      <td>4</td>\n",
       "      <td>4.076244</td>\n",
       "      <td>2.005332</td>\n",
       "      <td>1.662061</td>\n",
       "      <td>1.0</td>\n",
       "      <td>36</td>\n",
       "      <td>1.6</td>\n",
       "    </tr>\n",
       "  </tbody>\n",
       "</table>\n",
       "</div>"
      ],
      "text/plain": [
       "      HUMAN PLAYER POSITION (X) metres  HUMAN PLAYER POSITION (Y) metres  \\\n",
       "4270                                 4                                 2   \n",
       "\n",
       "      INITITAL VELOCITY OF SHUTTELCOCK(m/s)  \\\n",
       "4270                                     10   \n",
       "\n",
       "      INITIAL SHUTTELCOCK FIRING ANGLE (DEGREE)  \\\n",
       "4270                                         40   \n",
       "\n",
       "      INITIAL SHUTTELCOCK SLANT ANGLE TO SIDELINE(DEGREE)  \\\n",
       "4270                                                  4     \n",
       "\n",
       "      SHUTTLECOCK POSITIION IN AIR(X) metres  \\\n",
       "4270                                4.076244   \n",
       "\n",
       "      SHUTTLECOCK POSITIION IN AIR(Y) metres  \\\n",
       "4270                                2.005332   \n",
       "\n",
       "      SHUTTLECOCK POSITIION IN AIR(Z) metres  OBSERVATION NUMBER  \\\n",
       "4270                                1.662061                 1.0   \n",
       "\n",
       "      OBSERVATION GROUP NUMBER  HUMAN PLAYER POSITION (Z) metres  \n",
       "4270                        36                               1.6  "
      ]
     },
     "execution_count": 36,
     "metadata": {},
     "output_type": "execute_result"
    }
   ],
   "source": [
    "import random\n",
    "# copied to avoid alterations to cleaned data\n",
    "test_data = data.copy()\n",
    "\n",
    "# choose a random record from the observation groups to test\n",
    "unique_observation_grps = test_data['OBSERVATION GROUP NUMBER'].nunique()\n",
    "selected_test_num = random.randint(1, unique_observation_grps)\n",
    "print(\"Selected Observation Group Number is :\", selected_test_num)\n",
    "\n",
    "# alternatively can hardcode to replicate results\n",
    "# selected_test_num = ?\n",
    "\n",
    "# retrieve all the rows from the data related to randomly selected row\n",
    "y_actual_records = test_data[test_data['OBSERVATION GROUP NUMBER'] == selected_test_num]\n",
    "\n",
    "# get the first row of selected observation for input\n",
    "y_first_record = y_actual_records.head(1)\n",
    "\n",
    "# show the test data\n",
    "y_first_record"
   ]
  },
  {
   "attachments": {},
   "cell_type": "markdown",
   "metadata": {},
   "source": [
    "Predict number of observations within a Trajectory for test record"
   ]
  },
  {
   "cell_type": "code",
   "execution_count": null,
   "metadata": {},
   "outputs": [
    {
     "name": "stdout",
     "output_type": "stream",
     "text": [
      "Predicted observation is : 122\n",
      "Actual number of observations is : 122\n"
     ]
    }
   ],
   "source": [
    "# select the input features we want to feed into the decision tree model to prediction observation\n",
    "X_actual_test_DT = y_first_record[['HUMAN PLAYER POSITION (X) metres', \n",
    "                                    'HUMAN PLAYER POSITION (Y) metres',\n",
    "                                    'HUMAN PLAYER POSITION (Z) metres', \n",
    "                                    'INITITAL VELOCITY OF SHUTTELCOCK(m/s)', \n",
    "                                    'INITIAL SHUTTELCOCK FIRING ANGLE (DEGREE)', \n",
    "                                    'INITIAL SHUTTELCOCK SLANT ANGLE TO SIDELINE(DEGREE)']]\n",
    "\n",
    "predicted_observation = int(model_decisionTree.predict(X_actual_test_DT))\n",
    "print(\"Predicted observation is :\", predicted_observation)\n",
    "print(\"Actual number of observations is :\", len(y_actual_records))"
   ]
  },
  {
   "attachments": {},
   "cell_type": "markdown",
   "metadata": {},
   "source": [
    "Prepare input features to be fed into Regressor Models"
   ]
  },
  {
   "cell_type": "code",
   "execution_count": null,
   "metadata": {},
   "outputs": [
    {
     "data": {
      "text/plain": [
       "[[4.0, 2.0, 1.6, 10.0, 40.0, 4.0, 1],\n",
       " [4.0, 2.0, 1.6, 10.0, 40.0, 4.0, 2],\n",
       " [4.0, 2.0, 1.6, 10.0, 40.0, 4.0, 3],\n",
       " [4.0, 2.0, 1.6, 10.0, 40.0, 4.0, 4],\n",
       " [4.0, 2.0, 1.6, 10.0, 40.0, 4.0, 5],\n",
       " [4.0, 2.0, 1.6, 10.0, 40.0, 4.0, 6],\n",
       " [4.0, 2.0, 1.6, 10.0, 40.0, 4.0, 7],\n",
       " [4.0, 2.0, 1.6, 10.0, 40.0, 4.0, 8],\n",
       " [4.0, 2.0, 1.6, 10.0, 40.0, 4.0, 9],\n",
       " [4.0, 2.0, 1.6, 10.0, 40.0, 4.0, 10],\n",
       " [4.0, 2.0, 1.6, 10.0, 40.0, 4.0, 11],\n",
       " [4.0, 2.0, 1.6, 10.0, 40.0, 4.0, 12],\n",
       " [4.0, 2.0, 1.6, 10.0, 40.0, 4.0, 13],\n",
       " [4.0, 2.0, 1.6, 10.0, 40.0, 4.0, 14],\n",
       " [4.0, 2.0, 1.6, 10.0, 40.0, 4.0, 15],\n",
       " [4.0, 2.0, 1.6, 10.0, 40.0, 4.0, 16],\n",
       " [4.0, 2.0, 1.6, 10.0, 40.0, 4.0, 17],\n",
       " [4.0, 2.0, 1.6, 10.0, 40.0, 4.0, 18],\n",
       " [4.0, 2.0, 1.6, 10.0, 40.0, 4.0, 19],\n",
       " [4.0, 2.0, 1.6, 10.0, 40.0, 4.0, 20],\n",
       " [4.0, 2.0, 1.6, 10.0, 40.0, 4.0, 21],\n",
       " [4.0, 2.0, 1.6, 10.0, 40.0, 4.0, 22],\n",
       " [4.0, 2.0, 1.6, 10.0, 40.0, 4.0, 23],\n",
       " [4.0, 2.0, 1.6, 10.0, 40.0, 4.0, 24],\n",
       " [4.0, 2.0, 1.6, 10.0, 40.0, 4.0, 25],\n",
       " [4.0, 2.0, 1.6, 10.0, 40.0, 4.0, 26],\n",
       " [4.0, 2.0, 1.6, 10.0, 40.0, 4.0, 27],\n",
       " [4.0, 2.0, 1.6, 10.0, 40.0, 4.0, 28],\n",
       " [4.0, 2.0, 1.6, 10.0, 40.0, 4.0, 29],\n",
       " [4.0, 2.0, 1.6, 10.0, 40.0, 4.0, 30],\n",
       " [4.0, 2.0, 1.6, 10.0, 40.0, 4.0, 31],\n",
       " [4.0, 2.0, 1.6, 10.0, 40.0, 4.0, 32],\n",
       " [4.0, 2.0, 1.6, 10.0, 40.0, 4.0, 33],\n",
       " [4.0, 2.0, 1.6, 10.0, 40.0, 4.0, 34],\n",
       " [4.0, 2.0, 1.6, 10.0, 40.0, 4.0, 35],\n",
       " [4.0, 2.0, 1.6, 10.0, 40.0, 4.0, 36],\n",
       " [4.0, 2.0, 1.6, 10.0, 40.0, 4.0, 37],\n",
       " [4.0, 2.0, 1.6, 10.0, 40.0, 4.0, 38],\n",
       " [4.0, 2.0, 1.6, 10.0, 40.0, 4.0, 39],\n",
       " [4.0, 2.0, 1.6, 10.0, 40.0, 4.0, 40],\n",
       " [4.0, 2.0, 1.6, 10.0, 40.0, 4.0, 41],\n",
       " [4.0, 2.0, 1.6, 10.0, 40.0, 4.0, 42],\n",
       " [4.0, 2.0, 1.6, 10.0, 40.0, 4.0, 43],\n",
       " [4.0, 2.0, 1.6, 10.0, 40.0, 4.0, 44],\n",
       " [4.0, 2.0, 1.6, 10.0, 40.0, 4.0, 45],\n",
       " [4.0, 2.0, 1.6, 10.0, 40.0, 4.0, 46],\n",
       " [4.0, 2.0, 1.6, 10.0, 40.0, 4.0, 47],\n",
       " [4.0, 2.0, 1.6, 10.0, 40.0, 4.0, 48],\n",
       " [4.0, 2.0, 1.6, 10.0, 40.0, 4.0, 49],\n",
       " [4.0, 2.0, 1.6, 10.0, 40.0, 4.0, 50],\n",
       " [4.0, 2.0, 1.6, 10.0, 40.0, 4.0, 51],\n",
       " [4.0, 2.0, 1.6, 10.0, 40.0, 4.0, 52],\n",
       " [4.0, 2.0, 1.6, 10.0, 40.0, 4.0, 53],\n",
       " [4.0, 2.0, 1.6, 10.0, 40.0, 4.0, 54],\n",
       " [4.0, 2.0, 1.6, 10.0, 40.0, 4.0, 55],\n",
       " [4.0, 2.0, 1.6, 10.0, 40.0, 4.0, 56],\n",
       " [4.0, 2.0, 1.6, 10.0, 40.0, 4.0, 57],\n",
       " [4.0, 2.0, 1.6, 10.0, 40.0, 4.0, 58],\n",
       " [4.0, 2.0, 1.6, 10.0, 40.0, 4.0, 59],\n",
       " [4.0, 2.0, 1.6, 10.0, 40.0, 4.0, 60],\n",
       " [4.0, 2.0, 1.6, 10.0, 40.0, 4.0, 61],\n",
       " [4.0, 2.0, 1.6, 10.0, 40.0, 4.0, 62],\n",
       " [4.0, 2.0, 1.6, 10.0, 40.0, 4.0, 63],\n",
       " [4.0, 2.0, 1.6, 10.0, 40.0, 4.0, 64],\n",
       " [4.0, 2.0, 1.6, 10.0, 40.0, 4.0, 65],\n",
       " [4.0, 2.0, 1.6, 10.0, 40.0, 4.0, 66],\n",
       " [4.0, 2.0, 1.6, 10.0, 40.0, 4.0, 67],\n",
       " [4.0, 2.0, 1.6, 10.0, 40.0, 4.0, 68],\n",
       " [4.0, 2.0, 1.6, 10.0, 40.0, 4.0, 69],\n",
       " [4.0, 2.0, 1.6, 10.0, 40.0, 4.0, 70],\n",
       " [4.0, 2.0, 1.6, 10.0, 40.0, 4.0, 71],\n",
       " [4.0, 2.0, 1.6, 10.0, 40.0, 4.0, 72],\n",
       " [4.0, 2.0, 1.6, 10.0, 40.0, 4.0, 73],\n",
       " [4.0, 2.0, 1.6, 10.0, 40.0, 4.0, 74],\n",
       " [4.0, 2.0, 1.6, 10.0, 40.0, 4.0, 75],\n",
       " [4.0, 2.0, 1.6, 10.0, 40.0, 4.0, 76],\n",
       " [4.0, 2.0, 1.6, 10.0, 40.0, 4.0, 77],\n",
       " [4.0, 2.0, 1.6, 10.0, 40.0, 4.0, 78],\n",
       " [4.0, 2.0, 1.6, 10.0, 40.0, 4.0, 79],\n",
       " [4.0, 2.0, 1.6, 10.0, 40.0, 4.0, 80],\n",
       " [4.0, 2.0, 1.6, 10.0, 40.0, 4.0, 81],\n",
       " [4.0, 2.0, 1.6, 10.0, 40.0, 4.0, 82],\n",
       " [4.0, 2.0, 1.6, 10.0, 40.0, 4.0, 83],\n",
       " [4.0, 2.0, 1.6, 10.0, 40.0, 4.0, 84],\n",
       " [4.0, 2.0, 1.6, 10.0, 40.0, 4.0, 85],\n",
       " [4.0, 2.0, 1.6, 10.0, 40.0, 4.0, 86],\n",
       " [4.0, 2.0, 1.6, 10.0, 40.0, 4.0, 87],\n",
       " [4.0, 2.0, 1.6, 10.0, 40.0, 4.0, 88],\n",
       " [4.0, 2.0, 1.6, 10.0, 40.0, 4.0, 89],\n",
       " [4.0, 2.0, 1.6, 10.0, 40.0, 4.0, 90],\n",
       " [4.0, 2.0, 1.6, 10.0, 40.0, 4.0, 91],\n",
       " [4.0, 2.0, 1.6, 10.0, 40.0, 4.0, 92],\n",
       " [4.0, 2.0, 1.6, 10.0, 40.0, 4.0, 93],\n",
       " [4.0, 2.0, 1.6, 10.0, 40.0, 4.0, 94],\n",
       " [4.0, 2.0, 1.6, 10.0, 40.0, 4.0, 95],\n",
       " [4.0, 2.0, 1.6, 10.0, 40.0, 4.0, 96],\n",
       " [4.0, 2.0, 1.6, 10.0, 40.0, 4.0, 97],\n",
       " [4.0, 2.0, 1.6, 10.0, 40.0, 4.0, 98],\n",
       " [4.0, 2.0, 1.6, 10.0, 40.0, 4.0, 99],\n",
       " [4.0, 2.0, 1.6, 10.0, 40.0, 4.0, 100],\n",
       " [4.0, 2.0, 1.6, 10.0, 40.0, 4.0, 101],\n",
       " [4.0, 2.0, 1.6, 10.0, 40.0, 4.0, 102],\n",
       " [4.0, 2.0, 1.6, 10.0, 40.0, 4.0, 103],\n",
       " [4.0, 2.0, 1.6, 10.0, 40.0, 4.0, 104],\n",
       " [4.0, 2.0, 1.6, 10.0, 40.0, 4.0, 105],\n",
       " [4.0, 2.0, 1.6, 10.0, 40.0, 4.0, 106],\n",
       " [4.0, 2.0, 1.6, 10.0, 40.0, 4.0, 107],\n",
       " [4.0, 2.0, 1.6, 10.0, 40.0, 4.0, 108],\n",
       " [4.0, 2.0, 1.6, 10.0, 40.0, 4.0, 109],\n",
       " [4.0, 2.0, 1.6, 10.0, 40.0, 4.0, 110],\n",
       " [4.0, 2.0, 1.6, 10.0, 40.0, 4.0, 111],\n",
       " [4.0, 2.0, 1.6, 10.0, 40.0, 4.0, 112],\n",
       " [4.0, 2.0, 1.6, 10.0, 40.0, 4.0, 113],\n",
       " [4.0, 2.0, 1.6, 10.0, 40.0, 4.0, 114],\n",
       " [4.0, 2.0, 1.6, 10.0, 40.0, 4.0, 115],\n",
       " [4.0, 2.0, 1.6, 10.0, 40.0, 4.0, 116],\n",
       " [4.0, 2.0, 1.6, 10.0, 40.0, 4.0, 117],\n",
       " [4.0, 2.0, 1.6, 10.0, 40.0, 4.0, 118],\n",
       " [4.0, 2.0, 1.6, 10.0, 40.0, 4.0, 119],\n",
       " [4.0, 2.0, 1.6, 10.0, 40.0, 4.0, 120],\n",
       " [4.0, 2.0, 1.6, 10.0, 40.0, 4.0, 121],\n",
       " [4.0, 2.0, 1.6, 10.0, 40.0, 4.0, 122]]"
      ]
     },
     "execution_count": 38,
     "metadata": {},
     "output_type": "execute_result"
    }
   ],
   "source": [
    "# container to store prepared input features we want to feed into the regression model to predict entire trajectory x, y, z coordinates\n",
    "Y_actual_test_Regression = []\n",
    "# select x features and change the observation number accordingly and add into container\n",
    "for obs_num in range(1, predicted_observation+1):\n",
    "    temp = (y_first_record[['HUMAN PLAYER POSITION (X) metres', \n",
    "                            'HUMAN PLAYER POSITION (Y) metres',\n",
    "                            'HUMAN PLAYER POSITION (Z) metres',\n",
    "                            'INITITAL VELOCITY OF SHUTTELCOCK(m/s)', \n",
    "                            'INITIAL SHUTTELCOCK FIRING ANGLE (DEGREE)', \n",
    "                            'INITIAL SHUTTELCOCK SLANT ANGLE TO SIDELINE(DEGREE)']]).values.tolist()\n",
    "    temp_obs_row = temp[:5][0]\n",
    "    temp_obs_row.append(obs_num)\n",
    "    Y_actual_test_Regression.append(temp_obs_row)\n",
    "\n",
    "Y_actual_test_Regression"
   ]
  },
  {
   "cell_type": "code",
   "execution_count": null,
   "metadata": {},
   "outputs": [],
   "source": [
    "# Turn it into dataframe\n",
    "column_names = [\n",
    "    'HUMAN PLAYER POSITION (X) metres',\n",
    "    'HUMAN PLAYER POSITION (Y) metres',\n",
    "    'HUMAN PLAYER POSITION (Z) metres',\n",
    "    'INITITAL VELOCITY OF SHUTTELCOCK(m/s)',\n",
    "    'INITIAL SHUTTELCOCK FIRING ANGLE (DEGREE)',\n",
    "    'INITIAL SHUTTELCOCK SLANT ANGLE TO SIDELINE(DEGREE)',\n",
    "    'OBSERVATION NUMBER'\n",
    "]\n",
    "\n",
    "X_actual_test_Regression_DF = pd.DataFrame(Y_actual_test_Regression, columns = column_names)"
   ]
  },
  {
   "attachments": {},
   "cell_type": "markdown",
   "metadata": {},
   "source": [
    "Predict the Trajectory using Trained Models, outputs an array of predicted shuttlecock trajectory coordinates"
   ]
  },
  {
   "cell_type": "code",
   "execution_count": null,
   "metadata": {},
   "outputs": [],
   "source": [
    "# prediction using random forest regression\n",
    "predicted_trajectory_points_RT = model_randomForest.predict(X_actual_test_Regression_DF)\n",
    "# prediction using extra trees regression\n",
    "predicted_trajectory_points_ET = model_ExtraTrees.predict(X_actual_test_Regression_DF)"
   ]
  },
  {
   "attachments": {},
   "cell_type": "markdown",
   "metadata": {},
   "source": [
    "### Overall Evaluation for all Regression Models"
   ]
  },
  {
   "cell_type": "code",
   "execution_count": null,
   "metadata": {},
   "outputs": [
    {
     "name": "stdout",
     "output_type": "stream",
     "text": [
      "Mean Square Error of the Random Forest Tree Regressor is : 0.00010353342023746919\n",
      "Root Mean Square Error of the Random Forest Tree Regressor is : 0.010175137357179469\n",
      "Mean Square Error of the Extra Trees Regressor is : 4.481540526629373e-29\n",
      "Root Mean Square Error of the Extra Trees Regressor is : 6.694430914296877e-15\n"
     ]
    }
   ],
   "source": [
    "# Do an error evaluation\n",
    "y_actual_coords = y_actual_records[['SHUTTLECOCK POSITIION IN AIR(X) metres', 'SHUTTLECOCK POSITIION IN AIR(Y) metres', 'SHUTTLECOCK POSITIION IN AIR(Z) metres']]\n",
    "\n",
    "mse_actual_RT = mean_squared_error(y_actual_coords, predicted_trajectory_points_RT)\n",
    "rmse_actual_RT = math.sqrt(mse_actual_RT)\n",
    "print(\"Mean Square Error of the Random Forest Tree Regressor is :\", mse_actual_RT)\n",
    "print(\"Root Mean Square Error of the Random Forest Tree Regressor is :\", rmse_actual_RT)\n",
    "\n",
    "mse_actual_ET = mean_squared_error(y_actual_coords, predicted_trajectory_points_ET)\n",
    "rmse_actual_ET = math.sqrt(mse_actual_ET)\n",
    "print(\"Mean Square Error of the Extra Trees Regressor is :\", mse_actual_ET)\n",
    "print(\"Root Mean Square Error of the Extra Trees Regressor is :\", rmse_actual_ET)"
   ]
  },
  {
   "attachments": {},
   "cell_type": "markdown",
   "metadata": {},
   "source": [
    "Static Visualization of Shuttlecock Trajectory in a Court"
   ]
  },
  {
   "cell_type": "code",
   "execution_count": null,
   "metadata": {},
   "outputs": [],
   "source": [
    "#Court Constants\n",
    "_HEIGHT_SKYBOX_M_ = 10\n",
    "_HEIGHT_NET_M_ = 1.55\n",
    "_HEIGHT_ROBOTBADMINTON_CENTER_M_ = 1.1\n",
    "\n",
    "_LENGTH_COURT_X_M_ = 13.4\n",
    "_LENGTH_COURT_Y_M_ = 5.18\n",
    "_LENGTH_CENTERLINE_M_ = 4.68\n",
    "\n",
    "_COURT_BOUNDARY_TOP_ = [\n",
    " (0,0),\n",
    " (0, _LENGTH_COURT_Y_M_)\n",
    "]\n",
    "_COURT_BOUNDARY_BOTTOM_ = [\n",
    " (_LENGTH_COURT_X_M_, 0),\n",
    " (_LENGTH_COURT_X_M_, _LENGTH_COURT_Y_M_)\n",
    "]\n",
    "_COURT_BOUNDARY_LEFT_ = [\n",
    " (0,0),\n",
    " (_LENGTH_COURT_X_M_, 0)\n",
    "]\n",
    "_COURT_BOUNDARY_RIGHT_ = [\n",
    " (0, _LENGTH_COURT_Y_M_),\n",
    " (_LENGTH_COURT_X_M_, _LENGTH_COURT_Y_M_)\n",
    "]\n",
    "\n",
    "_COURT_CENTRELINE01_ = [\n",
    " (0, (_LENGTH_COURT_Y_M_/2)),\n",
    " (_LENGTH_CENTERLINE_M_, (_LENGTH_COURT_Y_M_/2))\n",
    "]\n",
    "_COURT_CENTRELINE02_ = [\n",
    "    (_LENGTH_COURT_X_M_ - _LENGTH_CENTERLINE_M_, (_LENGTH_COURT_Y_M_/2)),\n",
    "    (_LENGTH_COURT_X_M_, (_LENGTH_COURT_Y_M_/2))\n",
    "]\n",
    "_COURT_SHORTSERVICELINE01_ = [\n",
    "    (_LENGTH_CENTERLINE_M_ + 0.04, 0),\n",
    "    (_LENGTH_CENTERLINE_M_ + 0.04, _LENGTH_COURT_Y_M_)\n",
    "]\n",
    "_COURT_SHORTSERVICELINE02_ = [\n",
    "    (_LENGTH_COURT_X_M_ - _LENGTH_CENTERLINE_M_ - 0.04, 0),\n",
    "    (_LENGTH_COURT_X_M_ - _LENGTH_CENTERLINE_M_ - 0.04, _LENGTH_COURT_Y_M_)\n",
    "]"
   ]
  },
  {
   "cell_type": "code",
   "execution_count": null,
   "metadata": {},
   "outputs": [
    {
     "data": {
      "image/png": "[encoded data removed]",
      "text/plain": [
       "<Figure size 1600x700 with 2 Axes>"
      ]
     },
     "metadata": {},
     "output_type": "display_data"
    }
   ],
   "source": [
    "import matplotlib.pyplot as plt\n",
    "from mpl_toolkits.mplot3d import Axes3D\n",
    "\n",
    "# Create a 3D figure with subplots\n",
    "fig, axes = plt.subplots(nrows=1, ncols=2, figsize=(16, 7), subplot_kw={'projection': '3d'})\n",
    "\n",
    "# Set titles for subplots\n",
    "axes[0].set_title(\"Trajectory Estimation of Random Forest Regressor\")\n",
    "axes[1].set_title(\"Trajectory Estimation of Extra Trees Regressor\")\n",
    "\n",
    "# Define court dimensions\n",
    "court_length_x = 13.4\n",
    "court_length_y = 5.18\n",
    "court_height_skybox = 10\n",
    "court_height_net = 1.55\n",
    "court_height_robotbadminton_center = 1.1\n",
    "court_length_centerline = 4.68\n",
    "\n",
    "# Loop over subplots\n",
    "for ax_index, ax in enumerate(axes):\n",
    "    # Plot court boundaries\n",
    "    ax.plot([0, court_length_x], [0, 0], [0, 0], color='black', linewidth=1)  # Bottom boundary\n",
    "    ax.plot([0, court_length_x], [court_length_y, court_length_y], [0, 0], color='black', linewidth=1)  # Top boundary\n",
    "    ax.plot([0, 0], [0, court_length_y], [0, 0], color='black', linewidth=1)  # Left boundary\n",
    "    ax.plot([court_length_x, court_length_x], [0, court_length_y], [0, 0], color='black', linewidth=1)  # Right boundary\n",
    "\n",
    "    # Plot center line\n",
    "    ax.plot([0, court_length_centerline], [court_length_y / 2, court_length_y / 2], [0, 0], color='black', linewidth=1)\n",
    "    ax.plot([court_length_x - court_length_centerline, court_length_x], [court_length_y / 2, court_length_y / 2], [0, 0], color='black', linewidth=1)\n",
    "\n",
    "    # Plot short service lines\n",
    "    ax.plot([court_length_centerline + 0.04, court_length_centerline + 0.04], [0, court_length_y], [0, 0], color='black', linewidth=1)\n",
    "    ax.plot([court_length_x - court_length_centerline - 0.04, court_length_x - court_length_centerline - 0.04], [0, court_length_y], [0, 0], color='black', linewidth=1)\n",
    "\n",
    "    # Plot net\n",
    "    net_height = court_height_net\n",
    "    ax.plot([court_length_x / 2, court_length_x / 2], [0, court_length_y], [net_height, net_height], color='red', linewidth=1)\n",
    "\n",
    "    # Set plot limits and labels\n",
    "    ax.set_xlim([0, court_length_x])\n",
    "    ax.set_ylim([0, court_length_y])\n",
    "    ax.set_zlim([0, court_height_skybox])\n",
    "    ax.set_xlabel('Length (m)')\n",
    "    ax.set_ylabel('Width (m)')\n",
    "    ax.set_zlabel('Height (m)')\n",
    "\n",
    "    if ax_index == 0:\n",
    "        columns_n = ['X', 'Y', 'Z']\n",
    "        predicted_trajectory_points_RF_DF = pd.DataFrame(predicted_trajectory_points_RT, columns=columns_n)\n",
    "\n",
    "        # Extract X, Y, Z coordinates from y_actual_test and predicted_trajectory_point\n",
    "        x_actual = y_actual_coords['SHUTTLECOCK POSITIION IN AIR(X) metres']\n",
    "        y_actual = y_actual_coords['SHUTTLECOCK POSITIION IN AIR(Y) metres']\n",
    "        z_actual = y_actual_coords['SHUTTLECOCK POSITIION IN AIR(Z) metres']\n",
    "\n",
    "        x_predicted = predicted_trajectory_points_RF_DF['X'].values\n",
    "        y_predicted = predicted_trajectory_points_RF_DF['Y'].values\n",
    "        z_predicted = predicted_trajectory_points_RF_DF['Z'].values\n",
    "\n",
    "        ax.scatter(x_actual, y_actual, z_actual, c='blue', label='Actual Trajectory')\n",
    "        ax.scatter(x_predicted, y_predicted, z_predicted, c='red', label='Predicted Trajectory (Random Forest Regressor)')\n",
    "\n",
    "    elif ax_index == 1:\n",
    "        columns_n = ['X', 'Y', 'Z']\n",
    "        predicted_trajectory_points_ET_DF = pd.DataFrame(predicted_trajectory_points_ET, columns=columns_n)\n",
    "\n",
    "        # Extract X, Y, Z coordinates from y_actual_test and predicted_trajectory_point\n",
    "        x_actual = y_actual_coords['SHUTTLECOCK POSITIION IN AIR(X) metres']\n",
    "        y_actual = y_actual_coords['SHUTTLECOCK POSITIION IN AIR(Y) metres']\n",
    "        z_actual = y_actual_coords['SHUTTLECOCK POSITIION IN AIR(Z) metres']\n",
    "\n",
    "        x_predicted = predicted_trajectory_points_ET_DF['X'].values\n",
    "        y_predicted = predicted_trajectory_points_ET_DF['Y'].values\n",
    "        z_predicted = predicted_trajectory_points_ET_DF['Z'].values\n",
    "\n",
    "        ax.scatter(x_actual, y_actual, z_actual, c='blue', label='Actual Trajectory')\n",
    "        ax.scatter(x_predicted, y_predicted, z_predicted, c='red', label='Predicted Trajectory (Extra Trees Regressor)')\n",
    "\n",
    "    ax.legend()\n",
    "\n",
    "# Adjust spacing between subplots\n",
    "plt.subplots_adjust(wspace=0.2)\n",
    "\n",
    "# Display the plot\n",
    "plt.show()\n"
   ]
  },
  {
   "attachments": {},
   "cell_type": "markdown",
   "metadata": {},
   "source": [
    "3D Interactive Visualization of the Shuttlecock Trajectory"
   ]
  },
  {
   "cell_type": "code",
   "execution_count": null,
   "metadata": {},
   "outputs": [
    {
     "data": {
      "text/plain": [
       "'interactive_models/normal_regression_trajectory.html'"
      ]
     },
     "execution_count": 44,
     "metadata": {},
     "output_type": "execute_result"
    }
   ],
   "source": [
    "import plotly.graph_objects as go\n",
    "import plotly.offline as offline\n",
    "\n",
    "# Create a scatter plot for actual trajectory\n",
    "actual_trace = go.Scatter3d(x=y_actual_coords['SHUTTLECOCK POSITIION IN AIR(X) metres'],\n",
    "                            y=y_actual_coords['SHUTTLECOCK POSITIION IN AIR(Y) metres'],\n",
    "                            z=y_actual_coords['SHUTTLECOCK POSITIION IN AIR(Z) metres'],\n",
    "                            mode='markers',\n",
    "                            marker=dict(color='blue'),\n",
    "                            name='Actual Trajectory')\n",
    "\n",
    "# Create a scatter plot for predicted trajectory using Random Forest Regressor\n",
    "predicted_trace_RF = go.Scatter3d(x=predicted_trajectory_points_RT[:, 0],\n",
    "                                  y=predicted_trajectory_points_RT[:, 1],\n",
    "                                  z=predicted_trajectory_points_RT[:, 2],\n",
    "                                  mode='markers',\n",
    "                                  marker=dict(color='red'),\n",
    "                                  name='Predicted Trajectory (Random Forest)')\n",
    "\n",
    "# Create a scatter plot for predicted trajectory using Extra Trees Regressor\n",
    "predicted_trace_ET = go.Scatter3d(x=predicted_trajectory_points_ET[:, 0],\n",
    "                                  y=predicted_trajectory_points_ET[:, 1],\n",
    "                                  z=predicted_trajectory_points_ET[:, 2],\n",
    "                                  mode='markers',\n",
    "                                  marker=dict(color='green'),\n",
    "                                  name='Predicted Trajectory (Extra Trees)')\n",
    "\n",
    "# Set the data trace\n",
    "data = [actual_trace, predicted_trace_RF, predicted_trace_ET]\n",
    "\n",
    "# Set layout and title\n",
    "layout = go.Layout(\n",
    "    scene=dict(\n",
    "        xaxis_title='X',\n",
    "        yaxis_title='Y',\n",
    "        zaxis_title='Z',\n",
    "        xaxis=dict(range=[-15, 15]),  # Set X-axis range\n",
    "        yaxis=dict(range=[-15, 15]),  # Set Y-axis range\n",
    "        zaxis=dict(range=[0, 15])     # Set Z-axis range\n",
    "    ),\n",
    "    title='Actual vs Predicted Trajectory'\n",
    ")\n",
    "\n",
    "# Create the figure\n",
    "fig = go.Figure(data=data, layout=layout)\n",
    "\n",
    "# Save the plot as an HTML file\n",
    "offline.plot(fig, filename='interactive_models/normal_regression_trajectory.html')\n"
   ]
  },
  {
   "attachments": {},
   "cell_type": "markdown",
   "metadata": {},
   "source": [
    "### ROBOT - Shuttlecock Trajectory Estimation"
   ]
  },
  {
   "cell_type": "code",
   "execution_count": null,
   "metadata": {},
   "outputs": [
    {
     "name": "stdout",
     "output_type": "stream",
     "text": [
      "Is predicted Regression Tree (RT) within court:  True\n",
      "Is predicted Extra Tree (ET) within court:  True\n",
      "Average XYZ of Estimated Shuttlecock Position: [9.41278798 2.37533226 0.11855974]\n",
      "Distance: 1.01 meters in 0.34 seconds\n",
      "X difference: 0.4040502131252892\n",
      "Y difference: -0.9273178267322559\n",
      "Time required: 0.3371736984770157 seconds\n",
      "Able to reach and hit on time\n",
      "Distance: 2.32 meters in 0.77 seconds\n",
      "X difference: 1.1867704485083848\n",
      "Y difference: -1.998304901962531\n",
      "Time required: 0.7747147560131243 seconds\n",
      "Able to reach and hit on time\n",
      "Distance: 2.95 meters in 0.98 seconds\n",
      "X difference: 2.905030074178635\n",
      "Y difference: 0.48764799990861674\n",
      "Time required: 0.9818916156354754 seconds\n",
      "Able to reach and hit on time\n"
     ]
    },
    {
     "data": {
      "application/vnd.plotly.v1+json": {
       "config": {
        "plotlyServerURL": "https://plot.ly"
       },
       "data": [
        {
         "marker": {
          "color": "blue",
          "size": 2
         },
         "mode": "markers",
         "name": "True Values",
         "opacity": 0.7,
         "type": "scatter3d",
         "x": [
          4.07624433,
          4.153633834,
          4.226064828,
          4.304187192,
          4.377709099,
          4.451172051,
          4.524025222,
          4.595111773,
          4.66746524,
          4.739268542,
          4.811089699,
          4.879883051,
          4.950954094,
          5.020554681,
          5.089695764,
          5.158237261,
          5.225233254,
          5.294920486,
          5.359916663,
          5.426084328,
          5.491150538,
          5.556576029,
          5.625154474,
          5.685314149,
          5.750379622,
          5.81473011,
          5.875705777,
          5.938070626,
          6.000102181,
          6.061228992,
          6.122577798,
          6.180582158,
          6.239974343,
          6.300165026,
          6.357105861,
          6.415172917,
          6.473070105,
          6.529030786,
          6.586028984,
          6.642035084,
          6.694712948,
          6.753035535,
          6.803624882,
          6.858997936,
          6.911848431,
          6.962564417,
          7.017834572,
          7.069670592,
          7.119165538,
          7.170470461,
          7.219702637,
          7.268462719,
          7.317468145,
          7.365811678,
          7.414654557,
          7.461140984,
          7.509674808,
          7.556518475,
          7.599857241,
          7.644819352,
          7.690379985,
          7.735536564,
          7.778744863,
          7.820998716,
          7.862832646,
          7.905337949,
          7.946580729,
          7.987372428,
          8.029128465,
          8.066813549,
          8.108564449,
          8.146320535,
          8.184807511,
          8.223699392,
          8.260591063,
          8.296323776,
          8.334080033,
          8.368397184,
          8.401782752,
          8.436220081,
          8.472306934,
          8.506871982,
          8.540022323,
          8.574279072,
          8.602152006,
          8.634863718,
          8.667274024,
          8.693486377,
          8.727231675,
          8.755433882,
          8.784202544,
          8.81077362,
          8.840301014,
          8.867315563,
          8.893573324,
          8.921228405,
          8.945152681,
          8.972206345,
          8.995425897,
          9.020697654,
          9.042167915,
          9.065463258,
          9.088667893,
          9.110130983,
          9.131594026,
          9.154910571,
          9.171578194,
          9.193449659,
          9.212852479,
          9.230226196,
          9.247586704,
          9.267597608,
          9.282933361,
          9.301440161,
          9.31718581,
          9.332988008,
          9.346713365,
          9.362255443,
          9.377730631,
          9.389768071,
          9.401545912,
          9.413693593
         ],
         "y": [
          2.005331523,
          2.010743124,
          2.015807993,
          2.021270841,
          2.026411993,
          2.031549023,
          2.036643413,
          2.041614269,
          2.046673716,
          2.051694692,
          2.056716917,
          2.061527417,
          2.066497188,
          2.071364135,
          2.076198951,
          2.080991839,
          2.085676655,
          2.090549661,
          2.095094637,
          2.099721531,
          2.104271403,
          2.108846399,
          2.113641871,
          2.117848646,
          2.122398467,
          2.126898291,
          2.131162125,
          2.1355231,
          2.139860769,
          2.144135172,
          2.148425099,
          2.152481158,
          2.156634265,
          2.160843207,
          2.164824898,
          2.168885342,
          2.172933908,
          2.17684706,
          2.180832762,
          2.18474909,
          2.188432686,
          2.192510998,
          2.19604855,
          2.199920611,
          2.203616278,
          2.207162685,
          2.211027551,
          2.214652278,
          2.218113302,
          2.221700892,
          2.225143541,
          2.228553178,
          2.231979971,
          2.23536048,
          2.238775907,
          2.242026555,
          2.24542037,
          2.248695999,
          2.25172654,
          2.254870597,
          2.258056507,
          2.261214163,
          2.264235581,
          2.267190259,
          2.270115572,
          2.273087832,
          2.275971808,
          2.278824242,
          2.281744108,
          2.284379306,
          2.287298814,
          2.289938976,
          2.292630248,
          2.295349833,
          2.29792955,
          2.300428225,
          2.303068399,
          2.305468088,
          2.307802635,
          2.310210727,
          2.312734166,
          2.31515119,
          2.317469287,
          2.319864752,
          2.321813818,
          2.324101244,
          2.326367593,
          2.328200539,
          2.33056024,
          2.332532331,
          2.334544032,
          2.336402062,
          2.338466819,
          2.34035586,
          2.342191982,
          2.344125813,
          2.345798762,
          2.347690538,
          2.349314207,
          2.351081381,
          2.352582728,
          2.354211697,
          2.355834323,
          2.357335168,
          2.35883601,
          2.360466462,
          2.361631976,
          2.363161378,
          2.364518155,
          2.365733044,
          2.366947009,
          2.368346307,
          2.369418688,
          2.370712809,
          2.371813852,
          2.37291885,
          2.37387862,
          2.374965428,
          2.376047559,
          2.376889298,
          2.377712885,
          2.378562334
         ],
         "z": [
          1.662060934,
          1.726470196,
          1.787211677,
          1.844772363,
          1.905158385,
          1.961622557,
          2.016413216,
          2.072476384,
          2.128135997,
          2.179118104,
          2.233500839,
          2.283731944,
          2.331962817,
          2.382777646,
          2.42954315,
          2.47562284,
          2.521327365,
          2.564835471,
          2.609921636,
          2.653263065,
          2.694377457,
          2.736947549,
          2.775899558,
          2.81750779,
          2.85565089,
          2.894936237,
          2.931611939,
          2.966953504,
          3.004936526,
          3.038481921,
          3.070220813,
          3.105439872,
          3.135857421,
          3.168797279,
          3.200610592,
          3.231152095,
          3.259896549,
          3.288476498,
          3.31463388,
          3.341938539,
          3.368115593,
          3.391789215,
          3.416237342,
          3.441175011,
          3.464818728,
          3.48346058,
          3.505715096,
          3.525920703,
          3.545126663,
          3.564482661,
          3.581101592,
          3.595931518,
          3.611396041,
          3.6245797,
          3.639512559,
          3.651945516,
          3.661543668,
          3.673094649,
          3.680947707,
          3.688730847,
          3.693150219,
          3.699554422,
          3.703851006,
          3.706710052,
          3.707732742,
          3.707985597,
          3.705559234,
          3.70492992,
          3.698329116,
          3.694914126,
          3.687479242,
          3.678525908,
          3.669448487,
          3.656513786,
          3.642182258,
          3.627208486,
          3.610725154,
          3.593417283,
          3.571749939,
          3.55023013,
          3.524882216,
          3.496211162,
          3.466928659,
          3.437705984,
          3.406861219,
          3.37199965,
          3.332833902,
          3.294103721,
          3.251048813,
          3.208837805,
          3.161041573,
          3.111768245,
          3.059503531,
          3.003004329,
          2.948102681,
          2.885211671,
          2.823614661,
          2.757665963,
          2.687685766,
          2.617123384,
          2.542230537,
          2.463351824,
          2.380708372,
          2.294579922,
          2.207731203,
          2.115052208,
          2.018846489,
          1.920597271,
          1.819017149,
          1.709745069,
          1.599355534,
          1.484721066,
          1.367489552,
          1.243183536,
          1.116260431,
          0.983571338,
          0.848365854,
          0.708978043,
          0.563866085,
          0.413604317,
          0.259717598,
          0.102025941
         ]
        },
        {
         "marker": {
          "color": "red",
          "size": 2
         },
         "mode": "markers",
         "name": "Predicted Values (Random Forest)",
         "opacity": 0.7,
         "type": "scatter3d",
         "x": [
          4.076726806805814,
          4.1519388408812095,
          4.2271877094517265,
          4.302516876859882,
          4.376789677332107,
          4.450428310242843,
          4.523513547224134,
          4.595605680589194,
          4.668755267475638,
          4.739781385596094,
          4.812124943848069,
          4.881607077972062,
          4.951579222676791,
          5.023727991399655,
          5.093966425226884,
          5.160982460760889,
          5.225588548185683,
          5.292960878035923,
          5.362416797231033,
          5.426097136137803,
          5.491934131083916,
          5.560431258827182,
          5.626540345231434,
          5.680164790315401,
          5.752633437860495,
          5.805727438499669,
          5.876414676397697,
          5.934671354131423,
          6.002199823432201,
          6.066296209125496,
          6.155634483837372,
          6.193521344566071,
          6.229582149818782,
          6.276078924728511,
          6.384949985754584,
          6.431610568401997,
          6.462759540325302,
          6.508198963732658,
          6.592203013883397,
          6.668272888924008,
          6.698442637156039,
          6.740684978995148,
          6.790541693187503,
          6.882932541841012,
          6.938768264858346,
          6.9525565044825965,
          6.980290664571586,
          7.059894925192549,
          7.1377642109352415,
          7.186353932077903,
          7.2098302721900085,
          7.246427497004933,
          7.325078321744127,
          7.392925999423827,
          7.427144920328314,
          7.453479955424965,
          7.500507391483308,
          7.559388323229046,
          7.623988952974139,
          7.66226048181539,
          7.692024115825416,
          7.718135594565258,
          7.768516295975863,
          7.814995506500178,
          7.880127171475971,
          7.913816477336776,
          7.935056905025272,
          7.965522353846411,
          8.020998483014926,
          8.064443962699896,
          8.115095066805418,
          8.1416889801275,
          8.181258150503094,
          8.210416509349306,
          8.242696511822643,
          8.29024006657452,
          8.342433441599516,
          8.383576590073952,
          8.410484556464139,
          8.433389865571954,
          8.4557870248577,
          8.486288132536037,
          8.52386014842383,
          8.577070808360867,
          8.607028792466417,
          8.63882539204052,
          8.66015623990882,
          8.688393826181638,
          8.710429829146756,
          8.75993263374801,
          8.783627845139865,
          8.807189398437998,
          8.833622632197557,
          8.859703608958727,
          8.892326572549468,
          8.921026691810313,
          8.94257239401193,
          8.966554853961597,
          8.99215942963017,
          9.020547131677617,
          9.042840550057111,
          9.061047032498596,
          9.08539122091867,
          9.111380419904043,
          9.133145520835688,
          9.152580651379917,
          9.170698855752384,
          9.189793106271395,
          9.21335693789226,
          9.227521509784438,
          9.244260273996758,
          9.264591993579335,
          9.282292595840401,
          9.300600138721643,
          9.315098576446239,
          9.3322987306375,
          9.347185495169057,
          9.361012634722542,
          9.375616242629377,
          9.388919766562445,
          9.401964523358574,
          9.411882372874588
         ],
         "y": [
          2.0052084160248818,
          2.010654558578569,
          2.0158418098456354,
          2.0211641035919725,
          2.0261670281838375,
          2.0301626664624055,
          2.034180997746062,
          2.0434179667810053,
          2.0476389574636484,
          2.0532802477691714,
          2.0572151059851533,
          2.0595984317219185,
          2.0675582078764663,
          2.067805688164807,
          2.0719561746481516,
          2.0778212161803182,
          2.079355772756913,
          2.084946559887912,
          2.0940261145575687,
          2.096735230852039,
          2.101846779469643,
          2.1017032899594987,
          2.11010974562399,
          2.113723023284603,
          2.1199013069838335,
          2.1267144587318887,
          2.131458455134861,
          2.1401272241121627,
          2.1505033667538034,
          2.1507705777799266,
          2.157004208757685,
          2.155346626050575,
          2.159418841307127,
          2.16142568698238,
          2.1629056011334806,
          2.1709113613799214,
          2.1770420615554102,
          2.1817840513606814,
          2.1870629502873276,
          2.1913093992495773,
          2.1912444633083386,
          2.1934156810468384,
          2.2066752913215226,
          2.214711411745812,
          2.22166551656873,
          2.222611563177152,
          2.220138978095507,
          2.2197219098069274,
          2.2268575328768336,
          2.2335096705171127,
          2.2337325592885104,
          2.23483222800804,
          2.2416118293411316,
          2.239157595511258,
          2.246838714353482,
          2.2486832874055085,
          2.252803388162067,
          2.260518962054964,
          2.2714746452453944,
          2.276758017607676,
          2.2807722831955783,
          2.2833998730399783,
          2.283381191097577,
          2.289601948455198,
          2.2989704081788425,
          2.297842352925478,
          2.298838842329097,
          2.2995425257045428,
          2.307069381551543,
          2.304139669421149,
          2.3026802121358156,
          2.303430526834173,
          2.306852950817375,
          2.3107768456457434,
          2.310514072591931,
          2.3159346208421323,
          2.313689353305057,
          2.316601472392067,
          2.3122705312318192,
          2.311299430314975,
          2.3096417713147663,
          2.316100502310206,
          2.3205821740648442,
          2.3287804330855844,
          2.334232331750181,
          2.3366753062602426,
          2.337776648642615,
          2.337169371822622,
          2.3431989878311135,
          2.3465052912912507,
          2.350238761616188,
          2.352583027749016,
          2.354944053006229,
          2.3533270082062265,
          2.3457739260032335,
          2.343508308889355,
          2.3456830117052885,
          2.354352722421927,
          2.3625934572847047,
          2.373829629047111,
          2.376265659326671,
          2.379530996549465,
          2.3804805073196142,
          2.3725953148988093,
          2.365497695107929,
          2.356656535391682,
          2.3604481091775082,
          2.361698762900651,
          2.3584945673770976,
          2.359037423318131,
          2.3587019218906575,
          2.3682072935592187,
          2.366650429006949,
          2.368185380319333,
          2.3658983329170713,
          2.365460885959047,
          2.3753567783266742,
          2.374161849267554,
          2.366610356967432,
          2.372887092986592,
          2.385299231058761,
          2.3721021913372384
         ],
         "z": [
          1.6633264441826616,
          1.7257613213662526,
          1.7870915544640409,
          1.8464854512718947,
          1.904889600351541,
          1.9619465188177927,
          2.0180607457449664,
          2.0739882200495274,
          2.1275170205397593,
          2.180502286971573,
          2.233034306472072,
          2.2838883168280537,
          2.332752368781831,
          2.3839905020674412,
          2.4318959791480186,
          2.477304345830315,
          2.5221547107920945,
          2.5659291885167215,
          2.6115419964570004,
          2.6529498779220506,
          2.6954044321553035,
          2.738766357725803,
          2.7800163468203483,
          2.8133317154096624,
          2.8573921013210537,
          2.8894950403244515,
          2.9315877748901173,
          2.965901496668565,
          3.005364850098215,
          3.0413500485151563,
          3.090735800813887,
          3.1115884249314827,
          3.1311424555096927,
          3.156219816437451,
          3.2139146869050963,
          3.238123429405237,
          3.253901628326422,
          3.2765306973642594,
          3.3174847297634154,
          3.353819902143442,
          3.367933305331905,
          3.3871378810653936,
          3.409406401008633,
          3.4498259865186185,
          3.4734807280019004,
          3.4791458806759215,
          3.490207564417468,
          3.520797613506771,
          3.5499871466896717,
          3.5673855057076462,
          3.575325800417588,
          3.5871758520447883,
          3.6114538337909567,
          3.6309097501019822,
          3.640272314475742,
          3.6466694929010783,
          3.657261166020943,
          3.669475624003289,
          3.681456431715033,
          3.688080460001708,
          3.6921198025371944,
          3.6948783227384348,
          3.699170304361075,
          3.70214960192073,
          3.704187018651011,
          3.704282546946033,
          3.703467761044138,
          3.701826528192054,
          3.6963949182633864,
          3.690863434395257,
          3.681889369446306,
          3.6765186151577485,
          3.665908711642864,
          3.656862910831202,
          3.645194751393212,
          3.6253760266962654,
          3.6007597978929584,
          3.5789147812241424,
          3.5622822178893876,
          3.547664422969667,
          3.5313108431066227,
          3.5074953712300134,
          3.4757701095818736,
          3.426558243048176,
          3.3963178077487504,
          3.360907584575655,
          3.3355318292525777,
          3.299119795466678,
          3.268462054157185,
          3.1945938005698973,
          3.15673997801032,
          3.116000595531085,
          3.0671848036282388,
          3.0149678553037713,
          2.9449879649403607,
          2.8801481399058577,
          2.8279298395877306,
          2.765892596243901,
          2.693983688039043,
          2.6090546353163524,
          2.536874939587536,
          2.474937710202409,
          2.386678656566998,
          2.2873925088230522,
          2.1988818575618967,
          2.113570880099832,
          2.0267779983245315,
          1.9309421941263998,
          1.8063744871857812,
          1.724873725455661,
          1.6233666470558705,
          1.4963167194694287,
          1.3760053319748606,
          1.2440143241523574,
          1.1311398263074408,
          0.9835564313887736,
          0.8491395954031182,
          0.7192014234695832,
          0.5725612677456238,
          0.42195630478758794,
          0.25343341138283365,
          0.13509354656092867
         ]
        },
        {
         "marker": {
          "color": "green",
          "size": 2
         },
         "mode": "markers",
         "name": "Predicted Values (Extra Trees)",
         "opacity": 0.7,
         "type": "scatter3d",
         "x": [
          4.076244330000005,
          4.153633834000003,
          4.226064828000005,
          4.304187191999989,
          4.377709099000002,
          4.451172051000011,
          4.524025221999993,
          4.595111772999997,
          4.667465240000009,
          4.739268541999994,
          4.811089698999993,
          4.879883050999992,
          4.950954093999997,
          5.020554681000008,
          5.089695763999999,
          5.158237261000007,
          5.225233253999993,
          5.29492048600001,
          5.359916662999994,
          5.426084328000001,
          5.491150538000004,
          5.556576028999995,
          5.625154474000004,
          5.685314149000004,
          5.750379622000008,
          5.814730110000015,
          5.8757057770000065,
          5.938070626000009,
          6.000102180999992,
          6.0612289919999975,
          6.122577797999997,
          6.180582157999994,
          6.239974342999984,
          6.30016502599999,
          6.357105861,
          6.415172916999994,
          6.473070105,
          6.5290307860000105,
          6.586028983999996,
          6.642035083999989,
          6.694712947999996,
          6.75303553499999,
          6.803624882000006,
          6.858997936000003,
          6.911848430999993,
          6.962564416999993,
          7.017834572000001,
          7.069670591999998,
          7.119165537999987,
          7.170470461000003,
          7.219702636999992,
          7.26846271900001,
          7.317468145000013,
          7.365811678,
          7.414654556999988,
          7.461140984000014,
          7.509674808,
          7.556518474999993,
          7.599857240999996,
          7.6448193520000105,
          7.690379985000012,
          7.7355365639999825,
          7.778744863000007,
          7.820998715999992,
          7.862832646000008,
          7.905337949,
          7.946580728999984,
          7.987372427999987,
          8.029128464999987,
          8.06681354900001,
          8.108564449000019,
          8.146320534999981,
          8.184807511000004,
          8.223699391999991,
          8.260591062999994,
          8.296323776000007,
          8.33408003299999,
          8.36839718399998,
          8.401782752000004,
          8.43622008099999,
          8.47230693400001,
          8.506871982000005,
          8.54002232300001,
          8.574279071999994,
          8.60215200599999,
          8.634863718000013,
          8.667274023999996,
          8.693486377,
          8.727231674999992,
          8.755433882000009,
          8.784202543999989,
          8.81077361999999,
          8.840301014000008,
          8.867315563000009,
          8.893573324000014,
          8.92122840499999,
          8.945152680999993,
          8.97220634500001,
          8.995425897000011,
          9.020697653999978,
          9.042167915000018,
          9.065463258000015,
          9.088667892999986,
          9.110130982999983,
          9.131594026000009,
          9.154910570999984,
          9.171578193999979,
          9.193449658999983,
          9.212852479000018,
          9.230226195999991,
          9.247586704000012,
          9.267597607999985,
          9.282933361000003,
          9.301440160999984,
          9.317185809999986,
          9.332988008000006,
          9.34671336500002,
          9.362255442999988,
          9.377730630999988,
          9.389768071000018,
          9.401545911999985,
          9.413693592999978
         ],
         "y": [
          2.005331522999997,
          2.0107431239999958,
          2.0158079930000024,
          2.0212708409999975,
          2.026411993000002,
          2.031549022999997,
          2.036643413000005,
          2.041614269000005,
          2.0466737159999955,
          2.0516946920000034,
          2.056716916999997,
          2.061527417000001,
          2.066497188,
          2.071364135000003,
          2.076198951000002,
          2.080991839000004,
          2.0856766549999946,
          2.090549661000003,
          2.0950946369999968,
          2.099721531,
          2.1042714030000043,
          2.108846398999995,
          2.113641870999999,
          2.1178486459999992,
          2.1223984670000027,
          2.126898291000003,
          2.1311621250000026,
          2.1355231,
          2.1398607689999967,
          2.144135172000004,
          2.148425099000001,
          2.152481158,
          2.1566342650000014,
          2.1608432069999997,
          2.1648248980000044,
          2.1688853420000034,
          2.1729339080000027,
          2.17684706,
          2.180832761999996,
          2.1847490899999973,
          2.188432685999999,
          2.1925109979999964,
          2.19604855,
          2.1999206110000036,
          2.203616277999999,
          2.207162685000006,
          2.2110275510000004,
          2.214652277999996,
          2.2181133020000043,
          2.2217008920000008,
          2.225143540999996,
          2.228553177999999,
          2.231979970999995,
          2.2353604799999975,
          2.238775906999997,
          2.242026554999997,
          2.2454203700000033,
          2.248695999000004,
          2.2517265399999946,
          2.2548705970000054,
          2.258056506999998,
          2.2612141630000036,
          2.264235581000002,
          2.2671902589999964,
          2.2701155720000026,
          2.2730878319999954,
          2.275971808000002,
          2.278824242000005,
          2.2817441079999985,
          2.2843793060000035,
          2.287298813999998,
          2.2899389760000015,
          2.2926302479999965,
          2.2953498329999964,
          2.297929549999998,
          2.3004282249999966,
          2.303068399000004,
          2.3054680879999983,
          2.307802635000001,
          2.310210726999998,
          2.312734166000005,
          2.3151511899999964,
          2.317469286999996,
          2.3198647520000004,
          2.3218138180000034,
          2.324101243999997,
          2.326367592999994,
          2.3282005389999956,
          2.3305602400000036,
          2.332532331000004,
          2.334544031999997,
          2.336402061999997,
          2.338466818999996,
          2.340355859999996,
          2.3421919820000023,
          2.3441258130000033,
          2.3457987619999945,
          2.3476905379999966,
          2.3493142069999977,
          2.351081381,
          2.352582727999995,
          2.3542116970000038,
          2.3558343230000034,
          2.3573351679999974,
          2.3588360100000028,
          2.3604664620000033,
          2.361631976000005,
          2.3631613780000005,
          2.3645181550000056,
          2.365733043999997,
          2.366947009,
          2.3683463069999977,
          2.369418687999998,
          2.3707128089999974,
          2.371813852000002,
          2.3729188499999965,
          2.3738786199999997,
          2.374965427999997,
          2.376047559,
          2.376889298000003,
          2.377712884999996,
          2.378562334000003
         ],
         "z": [
          1.6620609340000012,
          1.7264701960000002,
          1.7872116769999975,
          1.8447723630000021,
          1.9051583849999956,
          1.9616225569999985,
          2.016413215999998,
          2.0724763839999985,
          2.1281359969999953,
          2.1791181039999974,
          2.233500838999995,
          2.2837319440000035,
          2.3319628170000026,
          2.3827776459999956,
          2.42954315,
          2.47562284,
          2.5213273649999963,
          2.5648354710000034,
          2.6099216359999975,
          2.653263065000002,
          2.694377457,
          2.7369475490000035,
          2.775899557999997,
          2.81750779,
          2.855650889999998,
          2.8949362370000005,
          2.931611938999998,
          2.9669535040000024,
          3.0049365259999963,
          3.0384819210000034,
          3.070220812999996,
          3.105439871999999,
          3.135857421000003,
          3.1687972789999947,
          3.200610591999997,
          3.231152095000005,
          3.2598965490000005,
          3.2884764980000023,
          3.3146338799999957,
          3.3419385390000063,
          3.3681155930000055,
          3.3917892150000006,
          3.4162373419999934,
          3.4411750110000003,
          3.4648187280000062,
          3.483460580000001,
          3.505715096000001,
          3.5259207029999975,
          3.5451266630000027,
          3.564482661,
          3.5811015919999982,
          3.5959315179999916,
          3.6113960409999963,
          3.6245797000000066,
          3.639512559000005,
          3.6519455160000067,
          3.661543667999997,
          3.673094649000005,
          3.6809477069999925,
          3.6887308469999924,
          3.693150219000002,
          3.6995544220000043,
          3.7038510059999954,
          3.706710052000004,
          3.707732742000003,
          3.7079855970000026,
          3.7055592340000043,
          3.704929919999999,
          3.6983291160000054,
          3.694914126,
          3.687479241999996,
          3.678525907999999,
          3.6694484870000066,
          3.6565137860000037,
          3.642182257999995,
          3.6272084859999922,
          3.6107251540000034,
          3.593417283000004,
          3.571749939000008,
          3.550230129999994,
          3.524882215999997,
          3.4962111620000047,
          3.466928659000002,
          3.4377059839999946,
          3.406861219000005,
          3.371999650000003,
          3.332833902000003,
          3.2941037209999995,
          3.2510488130000055,
          3.2088378049999955,
          3.161041572999999,
          3.111768245000003,
          3.059503531,
          3.003004329000001,
          2.948102681,
          2.8852116709999995,
          2.823614660999998,
          2.7576659629999978,
          2.687685765999995,
          2.617123383999998,
          2.5422305369999965,
          2.463351824,
          2.380708371999994,
          2.2945799219999974,
          2.2077312030000025,
          2.115052208000002,
          2.018846488999998,
          1.9205972709999983,
          1.8190171489999978,
          1.7097450689999993,
          1.5993555340000005,
          1.484721066000001,
          1.3674895519999979,
          1.2431835360000028,
          1.1162604310000004,
          0.9835713380000008,
          0.8483658539999989,
          0.7089780430000006,
          0.5638660850000007,
          0.41360431700000055,
          0.25971759800000066,
          0.10202594100000015
         ]
        },
        {
         "line": {
          "color": "black",
          "width": 1
         },
         "mode": "lines",
         "name": "Court Boundaries",
         "type": "scatter3d",
         "x": [
          0,
          13.4,
          13.4,
          0,
          0
         ],
         "y": [
          0,
          0,
          5.18,
          5.18,
          0
         ],
         "z": [
          0,
          0,
          0,
          0,
          0
         ]
        },
        {
         "line": {
          "color": "black",
          "width": 1
         },
         "mode": "lines",
         "name": "Center Line",
         "type": "scatter3d",
         "x": [
          0,
          4.68,
          4.68,
          0,
          0
         ],
         "y": [
          2.59,
          2.59,
          2.59,
          2.59,
          2.59
         ],
         "z": [
          0,
          0,
          0,
          0,
          0
         ]
        },
        {
         "line": {
          "color": "black",
          "width": 1
         },
         "mode": "lines",
         "name": "Center Line",
         "type": "scatter3d",
         "x": [
          8.72,
          13.4
         ],
         "y": [
          2.59,
          2.59
         ],
         "z": [
          0,
          0,
          0,
          0,
          0
         ]
        },
        {
         "line": {
          "color": "black",
          "width": 1
         },
         "mode": "lines",
         "name": "Short Service Lines",
         "type": "scatter3d",
         "x": [
          4.72,
          4.72
         ],
         "y": [
          0,
          5.18
         ],
         "z": [
          0,
          0
         ]
        },
        {
         "line": {
          "color": "black",
          "width": 1
         },
         "mode": "lines",
         "name": "Short Service Lines",
         "type": "scatter3d",
         "x": [
          8.680000000000001,
          8.680000000000001
         ],
         "y": [
          0,
          5.18
         ],
         "z": [
          0,
          0
         ]
        },
        {
         "line": {
          "color": "red",
          "width": 1
         },
         "mode": "lines",
         "name": "Net",
         "type": "scatter3d",
         "x": [
          6.7,
          6.7
         ],
         "y": [
          0,
          5.18
         ],
         "z": [
          1.55,
          1.55
         ]
        },
        {
         "line": {
          "color": "green",
          "width": 5
         },
         "marker": {
          "color": "cyan",
          "line": {
           "color": "black",
           "width": 4
          },
          "size": 10,
          "symbol": "cross"
         },
         "mode": "lines+markers",
         "name": "Predicted Position",
         "opacity": 1,
         "type": "scatter3d",
         "x": [
          9.412787982937283
         ],
         "y": [
          2.3753322626686204
         ],
         "z": [
          0.11855974378046441
         ]
        },
        {
         "line": {
          "color": "green",
          "width": 5
         },
         "marker": {
          "color": "cyan",
          "line": {
           "color": "black",
           "width": 4
          },
          "size": 6,
          "symbol": "diamond"
         },
         "mode": "lines+markers",
         "name": "Average Highest XYZ-point",
         "opacity": 1,
         "type": "scatter3d",
         "x": [
          7.909577213168388
         ],
         "y": [
          2.2854650924627364
         ],
         "z": [
          3.706134071973018
         ]
        },
        {
         "marker": {
          "color": "blue",
          "size": 10
         },
         "mode": "markers",
         "name": "Initial Starting Point (Hit)",
         "opacity": 1,
         "type": "scatter3d",
         "x": [
          10.020838196062574
         ],
         "y": [
          1.6780144359363645
         ],
         "z": [
          1.115
         ]
        },
        {
         "marker": {
          "color": "blue",
          "size": 10
         },
         "mode": "markers",
         "name": "Initial Starting Point (Hit)",
         "opacity": 1,
         "type": "scatter3d",
         "x": [
          10.80355843144567
         ],
         "y": [
          0.6070273607060894
         ],
         "z": [
          1.115
         ]
        },
        {
         "marker": {
          "color": "blue",
          "size": 10
         },
         "mode": "markers",
         "name": "Initial Starting Point (Hit)",
         "opacity": 1,
         "type": "scatter3d",
         "x": [
          12.521818057115919
         ],
         "y": [
          3.092980262577237
         ],
         "z": [
          1.115
         ]
        },
        {
         "marker": {
          "color": "green",
          "size": 10
         },
         "mode": "markers",
         "name": "Point to Hit the Ball",
         "opacity": 1,
         "type": "scatter3d",
         "x": [
          9.616787982937284
         ],
         "y": [
          2.6053322626686204
         ],
         "z": [
          1.115
         ]
        }
       ],
       "layout": {
        "scene": {
         "aspectmode": "manual",
         "aspectratio": {
          "x": 1,
          "y": 1,
          "z": 1
         },
         "xaxis": {
          "range": [
           -4,
           18
          ],
          "title": {
           "text": "X-coordinate"
          }
         },
         "yaxis": {
          "range": [
           -2,
           7
          ],
          "title": {
           "text": "Y-coordinate"
          }
         },
         "zaxis": {
          "range": [
           0,
           12
          ],
          "title": {
           "text": "Z-coordinate"
          }
         }
        },
        "template": {
         "data": {
          "bar": [
           {
            "error_x": {
             "color": "#2a3f5f"
            },
            "error_y": {
             "color": "#2a3f5f"
            },
            "marker": {
             "line": {
              "color": "#E5ECF6",
              "width": 0.5
             },
             "pattern": {
              "fillmode": "overlay",
              "size": 10,
              "solidity": 0.2
             }
            },
            "type": "bar"
           }
          ],
          "barpolar": [
           {
            "marker": {
             "line": {
              "color": "#E5ECF6",
              "width": 0.5
             },
             "pattern": {
              "fillmode": "overlay",
              "size": 10,
              "solidity": 0.2
             }
            },
            "type": "barpolar"
           }
          ],
          "carpet": [
           {
            "aaxis": {
             "endlinecolor": "#2a3f5f",
             "gridcolor": "white",
             "linecolor": "white",
             "minorgridcolor": "white",
             "startlinecolor": "#2a3f5f"
            },
            "baxis": {
             "endlinecolor": "#2a3f5f",
             "gridcolor": "white",
             "linecolor": "white",
             "minorgridcolor": "white",
             "startlinecolor": "#2a3f5f"
            },
            "type": "carpet"
           }
          ],
          "choropleth": [
           {
            "colorbar": {
             "outlinewidth": 0,
             "ticks": ""
            },
            "type": "choropleth"
           }
          ],
          "contour": [
           {
            "colorbar": {
             "outlinewidth": 0,
             "ticks": ""
            },
            "colorscale": [
             [
              0,
              "#0d0887"
             ],
             [
              0.1111111111111111,
              "#46039f"
             ],
             [
              0.2222222222222222,
              "#7201a8"
             ],
             [
              0.3333333333333333,
              "#9c179e"
             ],
             [
              0.4444444444444444,
              "#bd3786"
             ],
             [
              0.5555555555555556,
              "#d8576b"
             ],
             [
              0.6666666666666666,
              "#ed7953"
             ],
             [
              0.7777777777777778,
              "#fb9f3a"
             ],
             [
              0.8888888888888888,
              "#fdca26"
             ],
             [
              1,
              "#f0f921"
             ]
            ],
            "type": "contour"
           }
          ],
          "contourcarpet": [
           {
            "colorbar": {
             "outlinewidth": 0,
             "ticks": ""
            },
            "type": "contourcarpet"
           }
          ],
          "heatmap": [
           {
            "colorbar": {
             "outlinewidth": 0,
             "ticks": ""
            },
            "colorscale": [
             [
              0,
              "#0d0887"
             ],
             [
              0.1111111111111111,
              "#46039f"
             ],
             [
              0.2222222222222222,
              "#7201a8"
             ],
             [
              0.3333333333333333,
              "#9c179e"
             ],
             [
              0.4444444444444444,
              "#bd3786"
             ],
             [
              0.5555555555555556,
              "#d8576b"
             ],
             [
              0.6666666666666666,
              "#ed7953"
             ],
             [
              0.7777777777777778,
              "#fb9f3a"
             ],
             [
              0.8888888888888888,
              "#fdca26"
             ],
             [
              1,
              "#f0f921"
             ]
            ],
            "type": "heatmap"
           }
          ],
          "heatmapgl": [
           {
            "colorbar": {
             "outlinewidth": 0,
             "ticks": ""
            },
            "colorscale": [
             [
              0,
              "#0d0887"
             ],
             [
              0.1111111111111111,
              "#46039f"
             ],
             [
              0.2222222222222222,
              "#7201a8"
             ],
             [
              0.3333333333333333,
              "#9c179e"
             ],
             [
              0.4444444444444444,
              "#bd3786"
             ],
             [
              0.5555555555555556,
              "#d8576b"
             ],
             [
              0.6666666666666666,
              "#ed7953"
             ],
             [
              0.7777777777777778,
              "#fb9f3a"
             ],
             [
              0.8888888888888888,
              "#fdca26"
             ],
             [
              1,
              "#f0f921"
             ]
            ],
            "type": "heatmapgl"
           }
          ],
          "histogram": [
           {
            "marker": {
             "pattern": {
              "fillmode": "overlay",
              "size": 10,
              "solidity": 0.2
             }
            },
            "type": "histogram"
           }
          ],
          "histogram2d": [
           {
            "colorbar": {
             "outlinewidth": 0,
             "ticks": ""
            },
            "colorscale": [
             [
              0,
              "#0d0887"
             ],
             [
              0.1111111111111111,
              "#46039f"
             ],
             [
              0.2222222222222222,
              "#7201a8"
             ],
             [
              0.3333333333333333,
              "#9c179e"
             ],
             [
              0.4444444444444444,
              "#bd3786"
             ],
             [
              0.5555555555555556,
              "#d8576b"
             ],
             [
              0.6666666666666666,
              "#ed7953"
             ],
             [
              0.7777777777777778,
              "#fb9f3a"
             ],
             [
              0.8888888888888888,
              "#fdca26"
             ],
             [
              1,
              "#f0f921"
             ]
            ],
            "type": "histogram2d"
           }
          ],
          "histogram2dcontour": [
           {
            "colorbar": {
             "outlinewidth": 0,
             "ticks": ""
            },
            "colorscale": [
             [
              0,
              "#0d0887"
             ],
             [
              0.1111111111111111,
              "#46039f"
             ],
             [
              0.2222222222222222,
              "#7201a8"
             ],
             [
              0.3333333333333333,
              "#9c179e"
             ],
             [
              0.4444444444444444,
              "#bd3786"
             ],
             [
              0.5555555555555556,
              "#d8576b"
             ],
             [
              0.6666666666666666,
              "#ed7953"
             ],
             [
              0.7777777777777778,
              "#fb9f3a"
             ],
             [
              0.8888888888888888,
              "#fdca26"
             ],
             [
              1,
              "#f0f921"
             ]
            ],
            "type": "histogram2dcontour"
           }
          ],
          "mesh3d": [
           {
            "colorbar": {
             "outlinewidth": 0,
             "ticks": ""
            },
            "type": "mesh3d"
           }
          ],
          "parcoords": [
           {
            "line": {
             "colorbar": {
              "outlinewidth": 0,
              "ticks": ""
             }
            },
            "type": "parcoords"
           }
          ],
          "pie": [
           {
            "automargin": true,
            "type": "pie"
           }
          ],
          "scatter": [
           {
            "fillpattern": {
             "fillmode": "overlay",
             "size": 10,
             "solidity": 0.2
            },
            "type": "scatter"
           }
          ],
          "scatter3d": [
           {
            "line": {
             "colorbar": {
              "outlinewidth": 0,
              "ticks": ""
             }
            },
            "marker": {
             "colorbar": {
              "outlinewidth": 0,
              "ticks": ""
             }
            },
            "type": "scatter3d"
           }
          ],
          "scattercarpet": [
           {
            "marker": {
             "colorbar": {
              "outlinewidth": 0,
              "ticks": ""
             }
            },
            "type": "scattercarpet"
           }
          ],
          "scattergeo": [
           {
            "marker": {
             "colorbar": {
              "outlinewidth": 0,
              "ticks": ""
             }
            },
            "type": "scattergeo"
           }
          ],
          "scattergl": [
           {
            "marker": {
             "colorbar": {
              "outlinewidth": 0,
              "ticks": ""
             }
            },
            "type": "scattergl"
           }
          ],
          "scattermapbox": [
           {
            "marker": {
             "colorbar": {
              "outlinewidth": 0,
              "ticks": ""
             }
            },
            "type": "scattermapbox"
           }
          ],
          "scatterpolar": [
           {
            "marker": {
             "colorbar": {
              "outlinewidth": 0,
              "ticks": ""
             }
            },
            "type": "scatterpolar"
           }
          ],
          "scatterpolargl": [
           {
            "marker": {
             "colorbar": {
              "outlinewidth": 0,
              "ticks": ""
             }
            },
            "type": "scatterpolargl"
           }
          ],
          "scatterternary": [
           {
            "marker": {
             "colorbar": {
              "outlinewidth": 0,
              "ticks": ""
             }
            },
            "type": "scatterternary"
           }
          ],
          "surface": [
           {
            "colorbar": {
             "outlinewidth": 0,
             "ticks": ""
            },
            "colorscale": [
             [
              0,
              "#0d0887"
             ],
             [
              0.1111111111111111,
              "#46039f"
             ],
             [
              0.2222222222222222,
              "#7201a8"
             ],
             [
              0.3333333333333333,
              "#9c179e"
             ],
             [
              0.4444444444444444,
              "#bd3786"
             ],
             [
              0.5555555555555556,
              "#d8576b"
             ],
             [
              0.6666666666666666,
              "#ed7953"
             ],
             [
              0.7777777777777778,
              "#fb9f3a"
             ],
             [
              0.8888888888888888,
              "#fdca26"
             ],
             [
              1,
              "#f0f921"
             ]
            ],
            "type": "surface"
           }
          ],
          "table": [
           {
            "cells": {
             "fill": {
              "color": "#EBF0F8"
             },
             "line": {
              "color": "white"
             }
            },
            "header": {
             "fill": {
              "color": "#C8D4E3"
             },
             "line": {
              "color": "white"
             }
            },
            "type": "table"
           }
          ]
         },
         "layout": {
          "annotationdefaults": {
           "arrowcolor": "#2a3f5f",
           "arrowhead": 0,
           "arrowwidth": 1
          },
          "autotypenumbers": "strict",
          "coloraxis": {
           "colorbar": {
            "outlinewidth": 0,
            "ticks": ""
           }
          },
          "colorscale": {
           "diverging": [
            [
             0,
             "#8e0152"
            ],
            [
             0.1,
             "#c51b7d"
            ],
            [
             0.2,
             "#de77ae"
            ],
            [
             0.3,
             "#f1b6da"
            ],
            [
             0.4,
             "#fde0ef"
            ],
            [
             0.5,
             "#f7f7f7"
            ],
            [
             0.6,
             "#e6f5d0"
            ],
            [
             0.7,
             "#b8e186"
            ],
            [
             0.8,
             "#7fbc41"
            ],
            [
             0.9,
             "#4d9221"
            ],
            [
             1,
             "#276419"
            ]
           ],
           "sequential": [
            [
             0,
             "#0d0887"
            ],
            [
             0.1111111111111111,
             "#46039f"
            ],
            [
             0.2222222222222222,
             "#7201a8"
            ],
            [
             0.3333333333333333,
             "#9c179e"
            ],
            [
             0.4444444444444444,
             "#bd3786"
            ],
            [
             0.5555555555555556,
             "#d8576b"
            ],
            [
             0.6666666666666666,
             "#ed7953"
            ],
            [
             0.7777777777777778,
             "#fb9f3a"
            ],
            [
             0.8888888888888888,
             "#fdca26"
            ],
            [
             1,
             "#f0f921"
            ]
           ],
           "sequentialminus": [
            [
             0,
             "#0d0887"
            ],
            [
             0.1111111111111111,
             "#46039f"
            ],
            [
             0.2222222222222222,
             "#7201a8"
            ],
            [
             0.3333333333333333,
             "#9c179e"
            ],
            [
             0.4444444444444444,
             "#bd3786"
            ],
            [
             0.5555555555555556,
             "#d8576b"
            ],
            [
             0.6666666666666666,
             "#ed7953"
            ],
            [
             0.7777777777777778,
             "#fb9f3a"
            ],
            [
             0.8888888888888888,
             "#fdca26"
            ],
            [
             1,
             "#f0f921"
            ]
           ]
          },
          "colorway": [
           "#636efa",
           "#EF553B",
           "#00cc96",
           "#ab63fa",
           "#FFA15A",
           "#19d3f3",
           "#FF6692",
           "#B6E880",
           "#FF97FF",
           "#FECB52"
          ],
          "font": {
           "color": "#2a3f5f"
          },
          "geo": {
           "bgcolor": "white",
           "lakecolor": "white",
           "landcolor": "#E5ECF6",
           "showlakes": true,
           "showland": true,
           "subunitcolor": "white"
          },
          "hoverlabel": {
           "align": "left"
          },
          "hovermode": "closest",
          "mapbox": {
           "style": "light"
          },
          "paper_bgcolor": "white",
          "plot_bgcolor": "#E5ECF6",
          "polar": {
           "angularaxis": {
            "gridcolor": "white",
            "linecolor": "white",
            "ticks": ""
           },
           "bgcolor": "#E5ECF6",
           "radialaxis": {
            "gridcolor": "white",
            "linecolor": "white",
            "ticks": ""
           }
          },
          "scene": {
           "xaxis": {
            "backgroundcolor": "#E5ECF6",
            "gridcolor": "white",
            "gridwidth": 2,
            "linecolor": "white",
            "showbackground": true,
            "ticks": "",
            "zerolinecolor": "white"
           },
           "yaxis": {
            "backgroundcolor": "#E5ECF6",
            "gridcolor": "white",
            "gridwidth": 2,
            "linecolor": "white",
            "showbackground": true,
            "ticks": "",
            "zerolinecolor": "white"
           },
           "zaxis": {
            "backgroundcolor": "#E5ECF6",
            "gridcolor": "white",
            "gridwidth": 2,
            "linecolor": "white",
            "showbackground": true,
            "ticks": "",
            "zerolinecolor": "white"
           }
          },
          "shapedefaults": {
           "line": {
            "color": "#2a3f5f"
           }
          },
          "ternary": {
           "aaxis": {
            "gridcolor": "white",
            "linecolor": "white",
            "ticks": ""
           },
           "baxis": {
            "gridcolor": "white",
            "linecolor": "white",
            "ticks": ""
           },
           "bgcolor": "#E5ECF6",
           "caxis": {
            "gridcolor": "white",
            "linecolor": "white",
            "ticks": ""
           }
          },
          "title": {
           "x": 0.05
          },
          "xaxis": {
           "automargin": true,
           "gridcolor": "white",
           "linecolor": "white",
           "ticks": "",
           "title": {
            "standoff": 15
           },
           "zerolinecolor": "white",
           "zerolinewidth": 2
          },
          "yaxis": {
           "automargin": true,
           "gridcolor": "white",
           "linecolor": "white",
           "ticks": "",
           "title": {
            "standoff": 15
           },
           "zerolinecolor": "white",
           "zerolinewidth": 2
          }
         }
        },
        "title": {
         "text": "Shuttlecock Trajectory Estimation"
        }
       }
      }
     },
     "metadata": {},
     "output_type": "display_data"
    },
    {
     "data": {
      "text/plain": [
       "'interactive_models/robot_pred_normal_reg.html'"
      ]
     },
     "execution_count": 45,
     "metadata": {},
     "output_type": "execute_result"
    }
   ],
   "source": [
    "# import plotly.graph_objects as go\n",
    "# Define court dimensions\n",
    "court_length_x = 13.4\n",
    "court_length_y = 5.18\n",
    "court_height_skybox = 10\n",
    "court_height_net = 1.55\n",
    "court_length_centerline = 4.68\n",
    "\n",
    "def is_point_within_court(x, y, z, court_length_x, court_length_y, court_height_skybox):\n",
    "    \"\"\"\n",
    "    Check if a point is within the court boundaries.\n",
    "    \n",
    "    Args:\n",
    "        x (float): X-coordinate of the point\n",
    "        y (float): Y-coordinate of the point\n",
    "        z (float): Z-coordinate of the point\n",
    "        court_length_x (float): Length of the court along the X-axis\n",
    "        court_length_y (float): Length of the court along the Y-axis\n",
    "        court_height_skybox (float): Height of the court's skybox\n",
    "    \n",
    "    Returns:\n",
    "        bool: True if the point is within the court boundaries, False otherwise\n",
    "    \"\"\"\n",
    "    return 0 <= x <= court_length_x and 0 <= y <= court_length_y and 0 <= z <= court_height_skybox\n",
    "\n",
    "\n",
    "# Create the 3D scatter plot\n",
    "fig = go.Figure(data=[\n",
    "    go.Scatter3d(\n",
    "        x=y_actual_coords['SHUTTLECOCK POSITIION IN AIR(X) metres'],\n",
    "        y=y_actual_coords['SHUTTLECOCK POSITIION IN AIR(Y) metres'],\n",
    "        z=y_actual_coords['SHUTTLECOCK POSITIION IN AIR(Z) metres'],\n",
    "        mode='markers',\n",
    "        name='True Values',\n",
    "        marker=dict(color='blue', size=2),\n",
    "        opacity=0.7\n",
    "    ),\n",
    "    go.Scatter3d(\n",
    "        x=predicted_trajectory_points_RT[:, 0],\n",
    "        y=predicted_trajectory_points_RT[:, 1],\n",
    "        z=predicted_trajectory_points_RT[:, 2],\n",
    "        mode='markers',\n",
    "        name='Predicted Values (Random Forest)',\n",
    "        marker=dict(color='red', size=2),\n",
    "        opacity=0.7\n",
    "    ),\n",
    "    go.Scatter3d(\n",
    "        x=predicted_trajectory_points_ET[:, 0],\n",
    "        y=predicted_trajectory_points_ET[:, 1],\n",
    "        z=predicted_trajectory_points_ET[:, 2],\n",
    "        mode='markers',\n",
    "        name='Predicted Values (Extra Trees)',\n",
    "        marker=dict(color='green', size=2),\n",
    "        opacity=0.7\n",
    "    ),\n",
    "])\n",
    "\n",
    "# Set plot title and axis labels\n",
    "fig.update_layout(\n",
    "    title='Shuttlecock Trajectory Estimation',\n",
    "    scene=dict(\n",
    "        xaxis_title='X-coordinate',\n",
    "        yaxis_title='Y-coordinate',\n",
    "        zaxis_title='Z-coordinate',\n",
    "        xaxis=dict(range=[-4, 18]),  # Set the range for X-axis\n",
    "        yaxis=dict(range=[-2, 7]),   # Set the range for Y-axis\n",
    "        zaxis=dict(range=[0, 12]),  # Set the range for Z-axis\n",
    "        aspectmode='manual',         # Set the aspect mode to manual for custom scaling\n",
    "        aspectratio=dict(x=1, y=1, z=1)  # Set the aspect ratio for equal scaling of axes\n",
    "    )\n",
    ")\n",
    "\n",
    "# Add court lines to the plot\n",
    "fig.add_trace(go.Scatter3d(\n",
    "    x=[0, court_length_x, court_length_x, 0, 0],\n",
    "    y=[0, 0, court_length_y, court_length_y, 0],\n",
    "    z=[0, 0, 0, 0, 0],\n",
    "    mode='lines',\n",
    "    name='Court Boundaries',\n",
    "    line=dict(color='black', width=1)\n",
    "))\n",
    "\n",
    "fig.add_trace(go.Scatter3d(\n",
    "    x=[0, court_length_centerline, court_length_centerline, 0, 0],\n",
    "    y=[court_length_y / 2, court_length_y / 2, court_length_y / 2, court_length_y / 2, court_length_y / 2],\n",
    "    z=[0, 0, 0, 0, 0],\n",
    "    mode='lines',\n",
    "    name='Center Line',\n",
    "    line=dict(color='black', width=1)\n",
    "))\n",
    "\n",
    "fig.add_trace(go.Scatter3d(\n",
    "    x=[court_length_x - court_length_centerline, court_length_x],\n",
    "    y=[court_length_y / 2, court_length_y / 2],\n",
    "    z=[0, 0, 0, 0, 0],\n",
    "    mode='lines',\n",
    "    name='Center Line',\n",
    "    line=dict(color='black', width=1)\n",
    "))\n",
    "\n",
    "fig.add_trace(go.Scatter3d(\n",
    "    x=[court_length_centerline + 0.04, court_length_centerline + 0.04],\n",
    "    y=[0, court_length_y],\n",
    "    z=[0, 0],\n",
    "    mode='lines',\n",
    "    name='Short Service Lines',\n",
    "    line=dict(color='black', width=1)\n",
    "))\n",
    "\n",
    "fig.add_trace(go.Scatter3d(\n",
    "    x=[court_length_x - court_length_centerline - 0.04, court_length_x - court_length_centerline - 0.04],\n",
    "    y=[0, court_length_y],\n",
    "    z=[0, 0],\n",
    "    mode='lines',\n",
    "    name='Short Service Lines',\n",
    "    line=dict(color='black', width=1)\n",
    "))\n",
    "\n",
    "fig.add_trace(go.Scatter3d(\n",
    "    x=[court_length_x / 2, court_length_x / 2],\n",
    "    y=[0, court_length_y],\n",
    "    z=[court_height_net, court_height_net],\n",
    "    mode='lines',\n",
    "    name='Net',\n",
    "    line=dict(color='red', width=1)\n",
    "))\n",
    "\n",
    "# Initialize variables\n",
    "all_within_court_RT = True\n",
    "all_within_court_ET = True\n",
    "highest_xyz_points_RT = []\n",
    "highest_xyz_points_ET = []\n",
    "highest_z_index_RT = np.argmax(predicted_trajectory_points_RT[:, 2])\n",
    "highest_z_index_ET = np.argmax(predicted_trajectory_points_ET[:, 2])\n",
    "\n",
    "# Check if all predicted values for the RT group are within the court\n",
    "for point in predicted_trajectory_points_RT:\n",
    "    x, y, z = point\n",
    "    if not is_point_within_court(x, y, z, court_length_x, court_length_y, court_height_skybox):\n",
    "        all_within_court_RT = False\n",
    "        break\n",
    "\n",
    "# Check if all predicted values for the ET group are within the court\n",
    "for point in predicted_trajectory_points_ET:\n",
    "    x, y, z = point\n",
    "    if not is_point_within_court(x, y, z, court_length_x, court_length_y, court_height_skybox):\n",
    "        all_within_court_ET = False\n",
    "        break\n",
    "\n",
    "# Retrieve final XYZ for RT group if all predictions are within the court\n",
    "if all_within_court_RT:\n",
    "    highest_xyz_points_RT = predicted_trajectory_points_RT[-1]\n",
    "    highest_xyz_point_RT = predicted_trajectory_points_RT[highest_z_index_RT]\n",
    "\n",
    "# Retrieve final XYZ for ET group if all predictions are within the court\n",
    "if all_within_court_ET:\n",
    "    highest_xyz_points_ET = predicted_trajectory_points_ET[-1]\n",
    "    highest_xyz_point_ET = predicted_trajectory_points_ET[highest_z_index_ET]\n",
    "\n",
    "# Average out the predicted XYZ points\n",
    "average_xyz = np.mean([highest_xyz_points_RT, highest_xyz_points_ET], axis=0)\n",
    "# Average out the highest XYZ points\n",
    "average_highest_xyz = np.mean([highest_xyz_point_RT, highest_xyz_point_ET], axis=0)\n",
    "\n",
    "# Print the count\n",
    "print(\"Is predicted Regression Tree (RT) within court: \", all_within_court_RT)\n",
    "print(\"Is predicted Extra Tree (ET) within court: \", all_within_court_ET)\n",
    "# Print the average XYZ values\n",
    "print(\"Average XYZ of Estimated Shuttlecock Position:\", average_xyz)\n",
    "\n",
    "# Add the average predicted X, Y, and Z points to the graph\n",
    "fig.add_trace(go.Scatter3d(\n",
    "    x=[average_xyz[0]],\n",
    "    y=[average_xyz[1]],\n",
    "    z=[average_xyz[2]],\n",
    "    mode='lines+markers',\n",
    "    name='Predicted Position',\n",
    "    line=dict(color=\"green\", width=5),\n",
    "    marker=dict(symbol=\"cross\", size=10, color=\"cyan\", line=dict(color=\"black\", width=4)),\n",
    "    opacity=1\n",
    "))\n",
    "\n",
    "# Add the average highest X, Y, and Z points to the graph\n",
    "fig.add_trace(go.Scatter3d(\n",
    "    x=[average_highest_xyz[0]],\n",
    "    y=[average_highest_xyz[1]],\n",
    "    z=[average_highest_xyz[2]],\n",
    "    mode='lines+markers',\n",
    "    name='Average Highest XYZ-point',\n",
    "    line=dict(color=\"green\", width=5),\n",
    "    marker=dict(symbol=\"diamond\", size=6, color=\"cyan\", line=dict(color=\"black\", width=4)),\n",
    "    opacity=1\n",
    "))\n",
    "\n",
    "# Calculate the height of the badminton racket from the ground\n",
    "badminton_height = (120 / 100) - (0.17/2)  # -> 0.17/2 assuming we want to hit it somewhere in the middle of the top quarter\n",
    "\n",
    "# Calculate the length and width of the robot\n",
    "robot_length = 20.4 / 100  # Convert length from cm to meters\n",
    "robot_width = 23 / 100  # Convert width from cm to meters\n",
    "\n",
    "# Define the range for the initial starting position\n",
    "x_range = [0, 4.72]\n",
    "y_range = [0, 5.18]\n",
    "\n",
    "# Define number of random positions to test\n",
    "no_of_random_pos = 3\n",
    "\n",
    "for i in range(no_of_random_pos):\n",
    "    # Generate random initial starting position within the specified range\n",
    "    random_initial_x = random.uniform(x_range[0], x_range[1])\n",
    "    random_initial_y = random.uniform(y_range[0], y_range[1])\n",
    "\n",
    "    # Calculate the position where the dummy robot should move to\n",
    "    robot_x = court_length_x - average_xyz[0] - robot_length - random_initial_x\n",
    "    robot_y = court_length_y - average_xyz[1] - robot_width - random_initial_y\n",
    "\n",
    "    # Calculate the distance traveled by the robot\n",
    "    robot_distance = np.sqrt(robot_x ** 2 + robot_y ** 2)\n",
    "    # Calculate the time required for the robot to move to the position\n",
    "    robot_movement_time = robot_distance / 3\n",
    "    print(\"Distance: {:.2f} meters in {:.2f} seconds\".format(robot_distance, robot_movement_time))\n",
    "\n",
    "    # Calculate the adjusted z-coordinate for hitting the shuttlecock\n",
    "    robot_z = average_highest_xyz[2] - badminton_height\n",
    "\n",
    "    # Check if the average highest XYZ-point is within the court and the robot can reach the position before the ball drops\n",
    "    if (\n",
    "        average_xyz[0] >= 0\n",
    "        and average_xyz[0] <= court_length_x\n",
    "        and average_xyz[1] >= 0\n",
    "        and average_xyz[1] <= court_length_y\n",
    "        and average_highest_xyz[2] >= 0\n",
    "        and average_highest_xyz[2] <= court_height_skybox\n",
    "        and robot_movement_time <= 1.5\n",
    "        and robot_z >= 0\n",
    "    ):\n",
    "        # Add the initial starting point of the dummy robot to the graph\n",
    "        fig.add_trace(\n",
    "            go.Scatter3d(\n",
    "                x=[court_length_x - random_initial_x],\n",
    "                y=[court_length_y - random_initial_y],\n",
    "                z=[badminton_height],\n",
    "                mode=\"markers\",\n",
    "                name=\"Initial Starting Point (Hit)\",\n",
    "                marker=dict(color=\"blue\", size=10),\n",
    "                opacity=1,\n",
    "            )\n",
    "        )\n",
    "\n",
    "        # Calculate the (x, y) difference\n",
    "        x_difference = robot_x\n",
    "        y_difference = robot_y\n",
    "\n",
    "        print(f\"X difference: {x_difference}\")\n",
    "        print(f\"Y difference: {y_difference}\")\n",
    "        print(f\"Time required: {robot_movement_time} seconds\")\n",
    "        print(\"Able to reach and hit on time\")\n",
    "    else:\n",
    "        # Add the initial starting point of the dummy robot to the graph\n",
    "        fig.add_trace(\n",
    "            go.Scatter3d(\n",
    "                x=[court_length_x - random_initial_x],\n",
    "                y=[court_length_y - random_initial_y],\n",
    "                z=[badminton_height],\n",
    "                mode=\"markers\",\n",
    "                name=\"Initial Starting Point (Miss)\",\n",
    "                marker=dict(color=\"red\", size=10),\n",
    "                opacity=0.3,\n",
    "            )\n",
    "        )\n",
    "\n",
    "        if robot_movement_time > 1.5:\n",
    "            print(f\"X difference: {x_difference}\")\n",
    "            print(f\"Y difference: {y_difference}\")\n",
    "            print(f\"Time required: {robot_movement_time} seconds\")\n",
    "            print(\"Cannot reach on time\")\n",
    "        else:\n",
    "            print(\"Cannot hit\")\n",
    "\n",
    "# Add the point where the dummy robot can hit the ball to the graph\n",
    "fig.add_trace(\n",
    "    go.Scatter3d(\n",
    "        x=[court_length_x - random_initial_x - robot_x],\n",
    "        y=[court_length_y - random_initial_y - robot_y],\n",
    "        z=[badminton_height],\n",
    "        mode=\"markers\",\n",
    "        name=\"Point to Hit the Ball\",\n",
    "        marker=dict(color=\"green\", size=10),\n",
    "        opacity=1,\n",
    "    )\n",
    ")\n",
    "\n",
    "# Show the 3D plot\n",
    "fig.show()\n",
    "\n",
    "# Save the plot as an HTML file\n",
    "offline.plot(fig, filename='interactive_models/robot_pred_normal_reg.html')\n"
   ]
  },
  {
   "attachments": {},
   "cell_type": "markdown",
   "metadata": {},
   "source": [
    "## Determine Point for Countermeasures\n",
    "Based on the project specificiations where \n",
    "- robot + badminton height=120cm\n",
    "- racket length is 68cm\n",
    "- robot lenght is 52cm\n",
    "- assuming top quarter of racket is top 17cm\n",
    "We assume that robot countermeasure will happen at Z = 1.2 - (0.17/2) = 1.115 because we want to hit it somewhere in the middle of the top quarter"
   ]
  },
  {
   "cell_type": "code",
   "execution_count": null,
   "metadata": {},
   "outputs": [],
   "source": [
    "# # filter out records that are under X = 6.7\n",
    "# filtered_df = predicted_trajectory_points_df[predicted_trajectory_points_df['X'] > 6.7]\n",
    "\n",
    "# # Determine absolute difference between Z and 1.115 for the filtered dataframe\n",
    "# filtered_df['Z_diff'] = abs(filtered_df['Z'] - 1.115)\n",
    "\n",
    "# # Find the row index with the minimum difference\n",
    "# closest_row_index = filtered_df['Z_diff'].idxmin()\n",
    "\n",
    "# # Access the row with the closest Z value in the filtered dataframe\n",
    "# closest_row = filtered_df.loc[closest_row_index]\n",
    "\n",
    "# # Print the row or perform further operations\n",
    "# print(\"Data Point closest to countermeasure\")\n",
    "# print(closest_row)"
   ]
  }
 ],
 "metadata": {
  "kernelspec": {
   "display_name": "Python 3 (ipykernel)",
   "language": "python",
   "name": "python3"
  },
  "language_info": {
   "codemirror_mode": {
    "name": "ipython",
    "version": 3
   },
   "file_extension": ".py",
   "mimetype": "text/x-python",
   "name": "python",
   "nbconvert_exporter": "python",
   "pygments_lexer": "ipython3",
   "version": "3.9.0"
  }
 },
 "nbformat": 4,
 "nbformat_minor": 2
}
