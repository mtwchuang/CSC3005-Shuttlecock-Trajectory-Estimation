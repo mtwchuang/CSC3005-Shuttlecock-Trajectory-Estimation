{
 "cells": [
  {
   "cell_type": "markdown",
   "metadata": {},
   "source": [
    "# Regressive Normal Input Approach\n",
    "This approach assumes that input for both training and testing is based of all the input data columns  from the \"badmintondata.csv\" and \"badmintondata2.csv\" files. Compared to the limited input approach, lesser features has to be generated as most of the features from the data are significance enough to be used. \n",
    "\n",
    "Random Forest Regressor is used to predict the data points of the trajectory, Decision Tree Classifier is used to determine number of observations an observation groups has."
   ]
  },
  {
   "cell_type": "markdown",
   "metadata": {},
   "source": [
    "## Importing Libraries and Dependencies"
   ]
  },
  {
   "cell_type": "code",
   "execution_count": 1,
   "metadata": {},
   "outputs": [],
   "source": [
    "# %pip install pandas\n",
    "# %pip install plotly\n",
    "# %pip install scikit-learn\n",
    "# %pip install numpy\n",
    "# %pip install nbformat\n",
    "# %pip install matplotlib"
   ]
  },
  {
   "cell_type": "code",
   "execution_count": 2,
   "metadata": {},
   "outputs": [],
   "source": [
    "# preprocessing and feature generation\n",
    "import pandas as pd\n",
    "import numpy as np\n",
    "import math\n",
    "\n",
    "# feature significance\n",
    "from sklearn.decomposition import PCA\n",
    "from sklearn.preprocessing import StandardScaler\n",
    "\n",
    "# data mining and model evaluation\n",
    "from sklearn.model_selection import train_test_split\n",
    "from sklearn.metrics import accuracy_score, mean_squared_error\n",
    "from sklearn.model_selection import learning_curve\n",
    "\n",
    "# visualization\n",
    "import matplotlib.pyplot as plt\n",
    "import plotly.graph_objects as go\n",
    "from plotly.offline import plot"
   ]
  },
  {
   "cell_type": "markdown",
   "metadata": {},
   "source": [
    "## Stage: Preprocessing\n",
    "Loading in Badminton Data\n",
    "- Blank rows are used to separarate observations. \n",
    "- Non-sparse data are filtered out\n",
    "- Data is grouped into observations labelled under data column \"OBSERVATION GROUP NUMBER\"\n",
    "- Data is also sequenced within each observation group with \"OBSERVATION NUMBER\"\n",
    "- There are a total of 365 (index 0 - 364) observation groups here\n",
    "\n",
    "Code is currently commented out as results has already been extracted"
   ]
  },
  {
   "cell_type": "code",
   "execution_count": 3,
   "metadata": {},
   "outputs": [],
   "source": [
    "# # read csv data from badmintondata.csv\n",
    "# serving_data = pd.read_csv('badmintondata.csv')\n",
    "\n",
    "# # Initialize variables\n",
    "# observation_group_num = 0\n",
    "# observation_num = 0\n",
    "# is_group = False\n",
    "\n",
    "# # Process rows\n",
    "# for index, row in serving_data.iterrows():\n",
    "#     if row['HUMAN PLAYER POSITION (X) metres'] == 0:\n",
    "#         if is_group:\n",
    "#             is_group = False\n",
    "#         serving_data.drop(index, inplace=True)\n",
    "#     elif row['HUMAN PLAYER POSITION (X) metres'] == 4:\n",
    "#         if is_group:\n",
    "#             observation_num+=1\n",
    "#         else:\n",
    "#             is_group = True\n",
    "#             # increase observation group number by 1\n",
    "#             observation_group_num+=1\n",
    "#             # resets observation sequence number to 1\n",
    "#             observation_num = 1\n",
    "#         serving_data.at[index, 'OBSERVATION NUMBER'] = observation_num\n",
    "#         serving_data.at[index, 'OBSERVATION GROUP NUMBER'] = observation_group_num\n",
    "\n",
    "# # Set 'OBSERVATION GROUP NUMBER' as int\n",
    "# serving_data['OBSERVATION GROUP NUMBER'] = serving_data['OBSERVATION GROUP NUMBER'].astype(int)\n",
    "# serving_data['HUMAN PLAYER POSITION (Z) metres'] = 1.6\n",
    "# serving_data.to_csv('normal_data/normal_serving_data.csv')"
   ]
  },
  {
   "cell_type": "markdown",
   "metadata": {},
   "source": [
    "Loading in the Badminton Rallying Data. \n",
    "- Blank rows are used to separarate observations. \n",
    "- Non-sparse data are filtered out\n",
    "- Data is grouped into observations labelled under data column \"OBSERVATION GROUP NUMBER\"\n",
    "- Data is also sequenced within each observation group with \"OBSERVATION NUMBER\"\n",
    "- There are a total of 1212 (index 365 - 1576) observation groups here\n",
    "\n",
    "Code is currently commented out as results has already been extracted"
   ]
  },
  {
   "cell_type": "code",
   "execution_count": 4,
   "metadata": {},
   "outputs": [],
   "source": [
    "# # read csv data from badmintondata.csv\n",
    "# rallying_data = pd.read_csv('badmintondata2.csv')\n",
    "\n",
    "# # Initialize variables\n",
    "# observation_num = 0\n",
    "# is_group = False\n",
    "\n",
    "# # Process rows\n",
    "# for index, row in rallying_data.iterrows():\n",
    "#     if row['HUMAN PLAYER POSITION (X) metres'] == 0:\n",
    "#         if is_group:\n",
    "#             is_group = False\n",
    "#         rallying_data.drop(index, inplace=True)\n",
    "#     elif row['HUMAN PLAYER POSITION (X) metres'] == 4:\n",
    "#         if is_group:\n",
    "#             observation_num+=1\n",
    "#         else:\n",
    "#             is_group = True\n",
    "#             # increase observation group number by 1\n",
    "#             observation_group_num+=1\n",
    "#             # resets observation sequence number to 1\n",
    "#             observation_num = 1\n",
    "#         rallying_data.at[index, 'OBSERVATION NUMBER'] = observation_num\n",
    "#         rallying_data.at[index, 'OBSERVATION GROUP NUMBER'] = observation_group_num\n",
    "\n",
    "# # Set 'OBSERVATION GROUP NUMBER' as int\n",
    "# rallying_data['OBSERVATION GROUP NUMBER'] = rallying_data['OBSERVATION GROUP NUMBER'].astype(int)\n",
    "# rallying_data['HUMAN PLAYER POSITION (Z) metres'] = 2.6\n",
    "# rallying_data.to_csv('normal_data/normal_rallying_data.csv')"
   ]
  },
  {
   "cell_type": "markdown",
   "metadata": {},
   "source": [
    "Combining serving and rallying data"
   ]
  },
  {
   "cell_type": "code",
   "execution_count": 5,
   "metadata": {},
   "outputs": [],
   "source": [
    "# # combining the serving and rally dataframes\n",
    "# normal_badminton_data = pd.concat([serving_data, rallying_data], ignore_index=True)\n",
    "# # just renaming some of the data columns to avoid unnecessary errors\n",
    "# normal_badminton_data = normal_badminton_data.rename(columns={'SHUTTLECOCK POSITIION IN AIR(X ) metres': 'SHUTTLECOCK POSITIION IN AIR(X) metres'})\n",
    "# normal_badminton_data = normal_badminton_data.rename(columns={'SHUTTELCOCK SLANT ANGLE TO SIDELINE(DEGREE)': 'INITIAL SHUTTELCOCK SLANT ANGLE TO SIDELINE(DEGREE)'})\n",
    "\n",
    "# normal_badminton_data.to_csv('normal_data/normal_badminton_data.csv')"
   ]
  },
  {
   "cell_type": "markdown",
   "metadata": {},
   "source": [
    "label data if they are are out of bounds within the observations using data column \"OUT OF BOUNDS\". This includes\n",
    "- Data that exceeds the X axis (hit too far on both sides) X < 0 OR X > 13.4\n",
    "- Data that exceeds the Y axis (hit out of court on left or right side) Y < 0 OR Y > 5.18\n",
    "- Data that is out of bounds labelled as 1, no 0\n",
    "\n",
    "OPTIONAL, if needed"
   ]
  },
  {
   "cell_type": "code",
   "execution_count": 6,
   "metadata": {},
   "outputs": [],
   "source": [
    "# # labelling data if its out of bounds\n",
    "# unique_observation_number = badminton_data['OBSERVATION GROUP NUMBER'].unique()\n",
    "# for obs_grp_number in unique_observation_number:\n",
    "#     last_row = badminton_data[badminton_data['OBSERVATION GROUP NUMBER'] == obs_grp_number].tail(1)\n",
    "#     # Check the conditions for 'Shuttlecock Position in Air X' and 'Shuttlecock Position in Air Y'\n",
    "#     if (last_row['SHUTTLECOCK POSITIION IN AIR(X ) metres'].values[0] < 0 or\n",
    "#         last_row['SHUTTLECOCK POSITIION IN AIR(X ) metres'].values[0] > 13.4 or\n",
    "#         last_row['SHUTTLECOCK POSITIION IN AIR(Y) metres'].values[0] < 0 or\n",
    "#         last_row['SHUTTLECOCK POSITIION IN AIR(Y) metres'].values[0] > 5.18):\n",
    "        \n",
    "#         # Set 'OUT OF BOUNDS' column to 1 for the corresponding observation number\n",
    "#         badminton_data.loc[badminton_data['OBSERVATION GROUP NUMBER'] == obs_grp_number, 'OUT OF BOUNDS'] = 1\n",
    "#     else:\n",
    "#         badminton_data.loc[badminton_data['OBSERVATION GROUP NUMBER'] == obs_grp_number, 'OUT OF BOUNDS']"
   ]
  },
  {
   "cell_type": "markdown",
   "metadata": {},
   "source": [
    "## Feature Significance\n",
    "Selecting features to test significance using PCA and standardizing them. "
   ]
  },
  {
   "cell_type": "code",
   "execution_count": 7,
   "metadata": {},
   "outputs": [],
   "source": [
    "# load combined data\n",
    "normal_badminton_data = pd.read_csv('normal_data/normal_badminton_data.csv')\n",
    "normal_badminton_data.drop(columns=['Unnamed: 0'])\n",
    "# determine x features\n",
    "X_normal_features = normal_badminton_data.drop(columns=['OBSERVATION GROUP NUMBER',\n",
    "                                            'SHUTTLECOCK POSITIION IN AIR(X) metres', \n",
    "                                            'SHUTTLECOCK POSITIION IN AIR(Y) metres', \n",
    "                                            'SHUTTLECOCK POSITIION IN AIR(Z) metres'])\n",
    "# Standardize the data\n",
    "scaler = StandardScaler()\n",
    "X_features_norm = scaler.fit_transform(X_normal_features)"
   ]
  },
  {
   "cell_type": "code",
   "execution_count": 8,
   "metadata": {},
   "outputs": [
    {
     "name": "stdout",
     "output_type": "stream",
     "text": [
      "Feature INITIAL SHUTTELCOCK FIRING ANGLE (DEGREE): Significance = 0.15751309726715282\n",
      "Feature OBSERVATION NUMBER: Significance = 0.14451771008579117\n",
      "Feature HUMAN PLAYER POSITION (Z) metres: Significance = 0.14346591469930817\n",
      "Feature HUMAN PLAYER POSITION (Y) metres: Significance = 0.12890005560476608\n",
      "Feature Unnamed: 0: Significance = 0.12780743413729465\n",
      "Feature INITIAL SHUTTELCOCK SLANT ANGLE TO SIDELINE(DEGREE): Significance = 0.12092642914153932\n",
      "Feature INITITAL VELOCITY OF SHUTTELCOCK(m/s): Significance = 0.11598742657766412\n",
      "Feature HUMAN PLAYER POSITION (X) metres: Significance = 0.06088193248648379\n"
     ]
    },
    {
     "data": {
      "image/png": "[encoded data removed]",
      "text/plain": [
       "<Figure size 640x480 with 1 Axes>"
      ]
     },
     "metadata": {},
     "output_type": "display_data"
    }
   ],
   "source": [
    "# instantiate PCA object, fit model\n",
    "pca = PCA()\n",
    "pca.fit(X_features_norm)\n",
    "\n",
    "# loadings refer to the coefficients or weights that determine the contribution of each feature to the principal components\n",
    "# Get the absolute loadings for each feature in each principal component\n",
    "absolute_loadings = np.abs(pca.components_)\n",
    "# Calculate the total sum of absolute loadings for each feature across all principal components\n",
    "total_loadings = np.sum(absolute_loadings, axis=0)\n",
    "\n",
    "# Calculate the relative contribution of each feature to the total loadings\n",
    "relative_contribution = total_loadings / np.sum(total_loadings)\n",
    "\n",
    "# Sort the features based on their relative contribution\n",
    "sorted_features = np.argsort(relative_contribution)[::-1]\n",
    "feature_names = X_normal_features.columns\n",
    "# Print the significance of each feature\n",
    "for feature_idx in sorted_features:\n",
    "    print(f\"Feature {feature_names[feature_idx]}: Significance = {relative_contribution[feature_idx]}\")\n",
    "\n",
    "# Plot the significance of each feature\n",
    "plt.bar(range(len(sorted_features)), relative_contribution[sorted_features])\n",
    "plt.xlabel('Features')\n",
    "plt.ylabel('Significance')\n",
    "plt.title('Significance of Features in PCA')\n",
    "plt.xticks(range(len(sorted_features)), feature_names[sorted_features], rotation=90)\n",
    "# plt.xticks(range(len(sorted_features)), sorted_features)\n",
    "plt.show()"
   ]
  },
  {
   "cell_type": "markdown",
   "metadata": {},
   "source": [
    "## Stage: Data Mining\n",
    "### Preparing data for Decision Tree Classifier\n",
    "To determine observation steps needed for a trajectory, only these X features are needed. No normalization is needed\n",
    "- 'HUMAN PLAYER POSITION (X) metres'\n",
    "- 'HUMAN PLAYER POSITION (Y) metres'\n",
    "- 'HUMAN PLAYER POSITION (Z) metres'\n",
    "- 'INITITAL VELOCITY OF SHUTTELCOCK(m/s)'\n",
    "- 'INITIAL SHUTTELCOCK FIRING ANGLE (DEGREE)'\n",
    "- 'INITIAL SHUTTELCOCK SLANT ANGLE TO SIDELINE(DEGREE)'"
   ]
  },
  {
   "cell_type": "code",
   "execution_count": 9,
   "metadata": {},
   "outputs": [],
   "source": [
    "# loading data\n",
    "data = pd.read_csv('normal_data/normal_badminton_data.csv')\n",
    "data = data.drop(columns=['Unnamed: 0'])\n",
    "\n",
    "# Drop duplicates based on 'Observation Group Number', keeping only the last record\n",
    "data_DT = data.copy()\n",
    "data_DT = data_DT.drop_duplicates(subset='OBSERVATION GROUP NUMBER', keep='last')\n",
    "\n",
    "# Define X and Y Features for Decision Tree\n",
    "X_features_DT = data_DT[['HUMAN PLAYER POSITION (X) metres', \n",
    "                        'HUMAN PLAYER POSITION (Y) metres', \n",
    "                        'HUMAN PLAYER POSITION (Z) metres', \n",
    "                        'INITITAL VELOCITY OF SHUTTELCOCK(m/s)', \n",
    "                        'INITIAL SHUTTELCOCK FIRING ANGLE (DEGREE)', \n",
    "                        'INITIAL SHUTTELCOCK SLANT ANGLE TO SIDELINE(DEGREE)']]\n",
    "\n",
    "Y_feature_DT = data_DT['OBSERVATION NUMBER']\n",
    "\n",
    "# Split the data into train/test, X/Y for Decision Tree Classifier\n",
    "X_train_DT, X_test_DT, Y_train_DT, Y_test_DT = train_test_split(X_features_DT, Y_feature_DT, test_size=0.2, random_state=42)"
   ]
  },
  {
   "cell_type": "markdown",
   "metadata": {},
   "source": [
    "### Finding Optimal Decision Tree Model\n",
    "To predict total observation time based on the independent feature supplied. Predicts a set of observation take"
   ]
  },
  {
   "cell_type": "code",
   "execution_count": 10,
   "metadata": {},
   "outputs": [],
   "source": [
    "from sklearn.tree import DecisionTreeClassifier\n",
    "maxdepths = [2,3,4,5,6,7,8,9,10,15]  # 10 different depths\n",
    "\n",
    "# containers to store train/test accuracy rates\n",
    "trainAcc_DT = np.zeros(len(maxdepths))\n",
    "testAcc_DT = np.zeros(len(maxdepths))\n",
    "\n",
    "index = 0\n",
    "for depth in maxdepths:\n",
    "    # training decision tree with depth lengths\n",
    "    temp_model_DT = DecisionTreeClassifier(max_depth=depth)\n",
    "    temp_model_DT = temp_model_DT.fit(X_train_DT, Y_train_DT)\n",
    "    # generate predictions using the model trained, for the training data (X) and test data (X)\n",
    "    Y_predTrain = temp_model_DT.predict(X_train_DT)\n",
    "    Y_predTest = temp_model_DT.predict(X_test_DT)\n",
    "    # compare the predicted values and compare against original values for accuracy\n",
    "    trainAcc_DT[index] = accuracy_score(Y_train_DT, Y_predTrain)\n",
    "    testAcc_DT[index] = accuracy_score(Y_test_DT, Y_predTest)\n",
    "    index += 1"
   ]
  },
  {
   "cell_type": "code",
   "execution_count": 11,
   "metadata": {},
   "outputs": [
    {
     "data": {
      "text/plain": [
       "Text(0, 0.5, 'Accuracy')"
      ]
     },
     "execution_count": 11,
     "metadata": {},
     "output_type": "execute_result"
    },
    {
     "data": {
      "image/png": "[encoded data removed]",
      "text/plain": [
       "<Figure size 640x480 with 1 Axes>"
      ]
     },
     "metadata": {},
     "output_type": "display_data"
    }
   ],
   "source": [
    "plt.plot(maxdepths,trainAcc_DT,'ro-',maxdepths,testAcc_DT,'bv--')\n",
    "plt.legend(['Training Accuracy','Test Accuracy'])\n",
    "plt.xlabel('Max depth')\n",
    "plt.ylabel('Accuracy')"
   ]
  },
  {
   "cell_type": "markdown",
   "metadata": {},
   "source": [
    "### Train Decision Tree Model \"Model_DecisionTree\"\n",
    "Using the optimal elbow depth found in the previous segment which is 3"
   ]
  },
  {
   "cell_type": "code",
   "execution_count": 12,
   "metadata": {},
   "outputs": [
    {
     "name": "stdout",
     "output_type": "stream",
     "text": [
      "Training Accuracy:  1.0\n",
      "Testing Accuracy:  1.0\n"
     ]
    }
   ],
   "source": [
    "model_decisionTree = DecisionTreeClassifier(max_depth=3)\n",
    "model_decisionTree = model_decisionTree.fit(X_train_DT, Y_train_DT)\n",
    "\n",
    "Y_predTrain = model_decisionTree.predict(X_train_DT)\n",
    "Y_predTest = model_decisionTree.predict(X_test_DT)\n",
    "\n",
    "trainAcc_DT = accuracy_score(Y_train_DT, Y_predTrain)\n",
    "testAcc_DT = accuracy_score(Y_test_DT, Y_predTest)\n",
    "print(\"Training Accuracy: \", trainAcc_DT)\n",
    "print(\"Testing Accuracy: \", testAcc_DT)"
   ]
  },
  {
   "cell_type": "markdown",
   "metadata": {},
   "source": [
    "### Preparing data for Regression Models"
   ]
  },
  {
   "cell_type": "code",
   "execution_count": 13,
   "metadata": {},
   "outputs": [],
   "source": [
    "# Define X and Y features\n",
    "X_features_Regression = data[['HUMAN PLAYER POSITION (X) metres', \n",
    "                        'HUMAN PLAYER POSITION (Y) metres', \n",
    "                        'HUMAN PLAYER POSITION (Z) metres',\n",
    "                        'INITITAL VELOCITY OF SHUTTELCOCK(m/s)', \n",
    "                        'INITIAL SHUTTELCOCK FIRING ANGLE (DEGREE)', \n",
    "                        'INITIAL SHUTTELCOCK SLANT ANGLE TO SIDELINE(DEGREE)',\n",
    "                        'OBSERVATION NUMBER']]\n",
    "\n",
    "Y_features_Regression = data[['SHUTTLECOCK POSITIION IN AIR(X) metres', \n",
    "                        'SHUTTLECOCK POSITIION IN AIR(Y) metres', \n",
    "                        'SHUTTLECOCK POSITIION IN AIR(Z) metres']]\n",
    "\n",
    "# splitting data into X, Y train test, 80/20\n",
    "X_train_Regression, X_test_Regression, Y_train_Regression, Y_test_Regression = train_test_split(X_features_Regression, Y_features_Regression, test_size=0.2, random_state=42)"
   ]
  },
  {
   "cell_type": "markdown",
   "metadata": {},
   "source": [
    "### Random Forest Regressor\n",
    "Random Forest is an ensemble learning algorithm that combines multiple decision trees to make predictions. It can handle both numerical and categorical data and is capable of capturing complex relationships in the data. It does not require feature standardization as they are not sensitive to the scale of the features. Random Forest algorithms work by creating decision trees based on random subsets of features, and each decision tree independently makes decisions based on these features.\n",
    "#### Dependencies for Random Forest Regressor"
   ]
  },
  {
   "cell_type": "code",
   "execution_count": 14,
   "metadata": {},
   "outputs": [],
   "source": [
    "from sklearn.ensemble import RandomForestRegressor  # for regression tasks"
   ]
  },
  {
   "cell_type": "markdown",
   "metadata": {},
   "source": [
    "### Optimizing Random Forest Regressor\n",
    "Building multiple models with different depths to find best model with lowest mean squared error. Best depth should be 15"
   ]
  },
  {
   "cell_type": "code",
   "execution_count": 15,
   "metadata": {},
   "outputs": [],
   "source": [
    "# # Define a list of depths to test\n",
    "# depths = [5, 10, 15, 20, 25, 30]\n",
    "# mse_scores_depth_RF = []\n",
    "\n",
    "# # Iterate over different depths and calculate MSE\n",
    "# for depth in depths:\n",
    "#     temp_model_RF = RandomForestRegressor(n_estimators=100, max_depth=depth, random_state=42)\n",
    "#     temp_model_RF.fit(X_train_Regression, Y_train_Regression)\n",
    "#     temp_y_pred_RF = temp_model_RF.predict(X_test_Regression)\n",
    "#     temp_mse_depth_RF = mean_squared_error(Y_test_Regression, temp_y_pred_RF)\n",
    "#     mse_scores_depth_RF.append(temp_mse_depth_RF)\n",
    "# print(mse_scores_depth_RF)"
   ]
  },
  {
   "cell_type": "code",
   "execution_count": 16,
   "metadata": {},
   "outputs": [],
   "source": [
    "# # Plotting the MSE scores\n",
    "# plt.plot(depths, mse_scores_depth_RF, marker='o')\n",
    "# plt.xlabel('Depth')\n",
    "# plt.ylabel('Mean Squared Error')\n",
    "# plt.title('Mean Squared Error vs. Depth for Random Forest Regressor')\n",
    "# plt.show()"
   ]
  },
  {
   "cell_type": "markdown",
   "metadata": {},
   "source": [
    "Building multiple models with different number of decision trees \"n_estimators\" to find best \"n_estimator\". Best number of decision trees should be 200"
   ]
  },
  {
   "cell_type": "code",
   "execution_count": 17,
   "metadata": {},
   "outputs": [],
   "source": [
    "# # Define a list of n_estimators to test\n",
    "# n_estimators_values = [50, 100, 150, 200, 250, 300]\n",
    "# mse_score_nestimator_RF = []\n",
    "\n",
    "# # Iterate over different n_estimators and calculate MSE\n",
    "# for n_estimators in n_estimators_values:\n",
    "#     temp_model_RF = RandomForestRegressor(n_estimators=n_estimators, max_depth=15, random_state=42)\n",
    "#     temp_model_RF.fit(X_train_Regression, Y_train_Regression)\n",
    "#     temp_y_pred_RF = temp_model_RF.predict(X_test_Regression)\n",
    "#     temp_mse_nestimator_RF = mean_squared_error(Y_test_Regression, temp_y_pred_RF)\n",
    "#     mse_score_nestimator_RF.append(temp_mse_nestimator_RF)\n",
    "# print(mse_score_nestimator_RF)"
   ]
  },
  {
   "cell_type": "code",
   "execution_count": 18,
   "metadata": {},
   "outputs": [],
   "source": [
    "# # Plotting the MSE scores\n",
    "# plt.plot(n_estimators_values, mse_score_nestimator_RF, marker='o')\n",
    "# plt.xlabel('n_estimators')\n",
    "# plt.ylabel('Mean Squared Error')\n",
    "# plt.title('Mean Squared Error vs. n_estimators for Random Forest Regressor')\n",
    "# plt.show()"
   ]
  },
  {
   "cell_type": "markdown",
   "metadata": {},
   "source": [
    "### Training with Best Random Forest Regressor\n",
    "This model will allow us predict an X, Y, Z coordinate in relation to the independent features supplied"
   ]
  },
  {
   "cell_type": "code",
   "execution_count": 19,
   "metadata": {},
   "outputs": [],
   "source": [
    "model_randomForest = RandomForestRegressor(n_estimators=100, max_depth=15, random_state=42)  # for regression\n",
    "\n",
    "model_randomForest.fit(X_train_Regression, Y_train_Regression)\n",
    "y_pred_RF = model_randomForest.predict(X_test_Regression)"
   ]
  },
  {
   "cell_type": "markdown",
   "metadata": {},
   "source": [
    "### Training Evaluation of Random Forest Regressor\n",
    "Mean squared error and root mean squared errors are error margin metrics for regression models. Refer to root mean squared error for a closer error margin to original metric"
   ]
  },
  {
   "cell_type": "code",
   "execution_count": 20,
   "metadata": {},
   "outputs": [
    {
     "name": "stdout",
     "output_type": "stream",
     "text": [
      "Mean Squared Error: 0.0006107810321599828\n",
      "Root Mean Squared Error: 0.024713984546405762\n"
     ]
    }
   ],
   "source": [
    "mse_RF = mean_squared_error(Y_test_Regression, y_pred_RF)\n",
    "print(\"Mean Squared Error:\", mse_RF)\n",
    "rmse_RF = math.sqrt(mse_RF)\n",
    "print(\"Root Mean Squared Error:\", rmse_RF)"
   ]
  },
  {
   "cell_type": "markdown",
   "metadata": {},
   "source": [
    "Check for generalization of data and if data is able to capture underlying pattern properly. This is done with a learning curve, with a negative mean squared metric. If the training and validation lines converge at a low error rate, that means that the model is well generalized and captures patterns properly"
   ]
  },
  {
   "cell_type": "code",
   "execution_count": 21,
   "metadata": {},
   "outputs": [],
   "source": [
    "# # Calculate the learning curves\n",
    "# train_sizes, train_scores, val_scores = learning_curve(model_randomForest, X_train_Regression, Y_train_Regression, cv=5, scoring='neg_mean_squared_error')\n",
    "\n",
    "# # Calculate the mean and standard deviation of train and validation scores\n",
    "# train_mean = -np.mean(train_scores, axis=1)\n",
    "# train_std = np.std(train_scores, axis=1)\n",
    "# val_mean = -np.mean(val_scores, axis=1)\n",
    "# val_std = np.std(val_scores, axis=1)"
   ]
  },
  {
   "cell_type": "code",
   "execution_count": 22,
   "metadata": {},
   "outputs": [],
   "source": [
    "# # Plot the learning curves\n",
    "# plt.figure(figsize=(10, 7))\n",
    "# plt.plot(train_sizes, train_mean, label='Training score', color='blue')\n",
    "# plt.fill_between(train_sizes, train_mean - train_std, train_mean + train_std, alpha=0.1, color='blue')\n",
    "# plt.plot(train_sizes, val_mean, label='Validation score', color='red')\n",
    "# plt.fill_between(train_sizes, val_mean - val_std, val_mean + val_std, alpha=0.1, color='red')\n",
    "# plt.xlabel('Training Set Size')\n",
    "# plt.ylabel('Negative Mean Squared Error')\n",
    "# plt.title('Learning Curve for Random Forest Regressor')\n",
    "# plt.legend(loc='best')\n",
    "# plt.show()"
   ]
  },
  {
   "cell_type": "markdown",
   "metadata": {},
   "source": [
    "### Model Visualization of Random Forest Regressor"
   ]
  },
  {
   "cell_type": "code",
   "execution_count": 23,
   "metadata": {},
   "outputs": [
    {
     "data": {
      "image/png": "[encoded data removed]",
      "text/plain": [
       "<Figure size 1500x500 with 3 Axes>"
      ]
     },
     "metadata": {},
     "output_type": "display_data"
    }
   ],
   "source": [
    "# Plotting the scatterplot\n",
    "fig, ax = plt.subplots(1, 3, figsize=(15, 5))\n",
    "\n",
    "# Plotting for each target variable\n",
    "for i, target in enumerate(Y_features_Regression.columns):\n",
    "    ax[i].scatter(Y_test_Regression[target], y_pred_RF[:, i], alpha=0.5)\n",
    "    ax[i].plot([Y_test_Regression[target].min(), Y_test_Regression[target].max()], [Y_test_Regression[target].min(), Y_test_Regression[target].max()], 'r--')\n",
    "    ax[i].set_xlabel('Actual ' + target)\n",
    "    ax[i].set_ylabel('Predicted ' + target)\n",
    "\n",
    "plt.suptitle('Actual vs Predicted Y for Random Forest Regressor')\n",
    "plt.tight_layout()\n",
    "plt.show()"
   ]
  },
  {
   "cell_type": "markdown",
   "metadata": {},
   "source": [
    "Interactive Display of Entire Trained Regressive Model"
   ]
  },
  {
   "cell_type": "code",
   "execution_count": 24,
   "metadata": {},
   "outputs": [
    {
     "data": {
      "text/plain": [
       "'interactive_models/random_forest_normal_model.html'"
      ]
     },
     "execution_count": 24,
     "metadata": {},
     "output_type": "execute_result"
    }
   ],
   "source": [
    "import plotly.graph_objects as go\n",
    "from plotly.offline import plot\n",
    "\n",
    "# Create traces for actual and predicted values\n",
    "actual_trace = go.Scatter3d(\n",
    "    x=Y_test_Regression['SHUTTLECOCK POSITIION IN AIR(X) metres'],\n",
    "    y=Y_test_Regression['SHUTTLECOCK POSITIION IN AIR(Y) metres'],\n",
    "    z=Y_test_Regression['SHUTTLECOCK POSITIION IN AIR(Z) metres'],\n",
    "    name='Actual',\n",
    "    mode='markers',\n",
    "    marker=dict(\n",
    "        color='blue',\n",
    "        size=3,\n",
    "        symbol='circle'\n",
    "    )\n",
    ")\n",
    "\n",
    "predicted_trace = go.Scatter3d(\n",
    "    x=y_pred_RF[:, 0],\n",
    "    y=y_pred_RF[:, 1],\n",
    "    z=y_pred_RF[:, 2],\n",
    "    name='Predicted',\n",
    "    mode='markers',\n",
    "    marker=dict(\n",
    "        color='red',\n",
    "        size=3,\n",
    "        symbol='circle'\n",
    "    )\n",
    ")\n",
    "\n",
    "# Create layout\n",
    "layout = go.Layout(\n",
    "    title='Actual vs Predicted Shuttlecock Positions for Random Forest Regressor',\n",
    "    scene=dict(\n",
    "        xaxis=dict(title='X'),\n",
    "        yaxis=dict(title='Y'),\n",
    "        zaxis=dict(title='Z')\n",
    "    )\n",
    ")\n",
    "\n",
    "# Create figure\n",
    "fig = go.Figure(data=[actual_trace, predicted_trace], layout=layout)\n",
    "\n",
    "# Save the plot as an HTML file\n",
    "plot(fig, filename='interactive_models/random_forest_normal_model.html')"
   ]
  },
  {
   "cell_type": "markdown",
   "metadata": {},
   "source": [
    "### Extra Trees Regressor\n",
    "Extra Trees aka. (Extremely Randomized Trees) Regressor is a variant of Random Forest Tree which also uses an ensemble of decision trees to make predictions. However unlike random forests, Extra Trees introduces extra randomness by randomly selecting features at each node split. This randomness helps to create more diverse and less correlated trees. The final prediction is obtained by averaging the predictions of all the trees.\n",
    "#### Dependencies for Extra Trees Regressor"
   ]
  },
  {
   "cell_type": "code",
   "execution_count": 25,
   "metadata": {},
   "outputs": [],
   "source": [
    "from sklearn.ensemble import ExtraTreesRegressor"
   ]
  },
  {
   "cell_type": "markdown",
   "metadata": {},
   "source": [
    "### Optimization of Extra Tree Regressor \n",
    "Building multiple models with different depths to find best model with lowest mean squared error. Best depth should be 15"
   ]
  },
  {
   "cell_type": "code",
   "execution_count": 26,
   "metadata": {},
   "outputs": [],
   "source": [
    "# # Define a list of depths to test\n",
    "# depths = [5, 10, 15, 20, 25, 30]\n",
    "# mse_scores_depth_ET = []\n",
    "\n",
    "# # Iterate over different depths and calculate MSE\n",
    "# for depth in depths:\n",
    "#     temp_model_ET = ExtraTreesRegressor(n_estimators=100, max_depth=depth, random_state=42)\n",
    "#     temp_model_ET.fit(X_train_Regression, Y_train_Regression)\n",
    "#     temp_y_pred_ET = temp_model_ET.predict(X_test_Regression)\n",
    "#     temp_mse_depth_ET = mean_squared_error(Y_test_Regression, temp_y_pred_ET)\n",
    "#     mse_scores_depth_ET.append(temp_mse_depth_ET)"
   ]
  },
  {
   "cell_type": "code",
   "execution_count": 27,
   "metadata": {},
   "outputs": [],
   "source": [
    "# # Plotting the MSE scores\n",
    "# plt.plot(depths, mse_scores_depth_ET, marker='o')\n",
    "# plt.xlabel('Depth')\n",
    "# plt.ylabel('Mean Squared Error')\n",
    "# plt.title('Mean Squared Error vs. Depth for Extra Trees Regressor')\n",
    "# plt.show()"
   ]
  },
  {
   "cell_type": "markdown",
   "metadata": {},
   "source": [
    "Building multiple models with different number of decision trees \"n_estimators\" to find best \"n_estimator\". Best number of decision trees should be 200"
   ]
  },
  {
   "cell_type": "code",
   "execution_count": 28,
   "metadata": {},
   "outputs": [],
   "source": [
    "# # Define a list of n_estimators to test\n",
    "# n_estimators_values = [50, 100, 150, 200, 250, 300]\n",
    "# mse_scores_nestimator_ET = []\n",
    "\n",
    "# # Iterate over different n_estimators and calculate MSE\n",
    "# for n_estimators in n_estimators_values:\n",
    "#     temp_model_ET = RandomForestRegressor(n_estimators=n_estimators, max_depth=15, random_state=42)\n",
    "#     temp_model_ET.fit(X_train_Regression, Y_train_Regression)\n",
    "#     temp_y_pred_RF = temp_model_ET.predict(X_test_Regression)\n",
    "#     temp_mse_nestimator_ET = mean_squared_error(Y_test_Regression, temp_y_pred_RF)\n",
    "#     mse_scores_nestimator_ET.append(temp_mse_nestimator_ET)\n",
    "# print(mse_scores_nestimator_ET)"
   ]
  },
  {
   "cell_type": "code",
   "execution_count": 29,
   "metadata": {},
   "outputs": [],
   "source": [
    "# # Plotting the MSE scores\n",
    "# plt.plot(n_estimators_values, mse_scores_nestimator_ET, marker='o')\n",
    "# plt.xlabel('n_estimators')\n",
    "# plt.ylabel('Mean Squared Error')\n",
    "# plt.title('Mean Squared Error vs. n_estimators for Extra Trees Regressor')\n",
    "# plt.show()"
   ]
  },
  {
   "cell_type": "markdown",
   "metadata": {},
   "source": [
    "### Training with Best Extra Trees Regressor\n",
    "This model will allow us predict an X, Y, Z coordinate in relation to the independent features supplied"
   ]
  },
  {
   "cell_type": "code",
   "execution_count": 30,
   "metadata": {},
   "outputs": [],
   "source": [
    "# Define the Extra Trees Regressor\n",
    "model_ExtraTrees = ExtraTreesRegressor()\n",
    "model_ExtraTrees.fit(X_train_Regression, Y_train_Regression)\n",
    "y_pred_ET = model_ExtraTrees.predict(X_test_Regression)"
   ]
  },
  {
   "cell_type": "markdown",
   "metadata": {},
   "source": [
    "### Training Evaluation of Extra Trees Regressor\n",
    "Mean squared error and root mean squared errors are error margin metrics for regression models. Refer to root mean squared error for a closer error margin to original metric"
   ]
  },
  {
   "cell_type": "code",
   "execution_count": 31,
   "metadata": {},
   "outputs": [
    {
     "name": "stdout",
     "output_type": "stream",
     "text": [
      "Mean Squared Error: 0.00011293891067772939\n",
      "Root Squared Error: 0.010627272024265182\n"
     ]
    }
   ],
   "source": [
    "mse_ET = mean_squared_error(Y_test_Regression, y_pred_ET)\n",
    "print(\"Mean Squared Error:\", mse_ET)\n",
    "rmse_ET = math.sqrt(mse_ET)\n",
    "print(\"Root Squared Error:\", rmse_ET)"
   ]
  },
  {
   "cell_type": "markdown",
   "metadata": {},
   "source": [
    "Check for generalization of data and if data is able to capture underlying pattern properly. This is done with a learning curve, with a negative mean squared metric. If the training and validation lines converge at a low error rate, that means that the model is well generalized and captures patterns properly"
   ]
  },
  {
   "cell_type": "code",
   "execution_count": 32,
   "metadata": {},
   "outputs": [],
   "source": [
    "# # Calculate the learning curves\n",
    "# train_sizes, train_scores, val_scores = learning_curve(model_ExtraTrees, X_train_Regression, Y_train_Regression, cv=5, scoring='neg_mean_squared_error')\n",
    "\n",
    "# # Calculate the mean and standard deviation of train and validation scores\n",
    "# train_mean = -np.mean(train_scores, axis=1)\n",
    "# train_std = np.std(train_scores, axis=1)\n",
    "# val_mean = -np.mean(val_scores, axis=1)\n",
    "# val_std = np.std(val_scores, axis=1)"
   ]
  },
  {
   "cell_type": "code",
   "execution_count": 33,
   "metadata": {},
   "outputs": [],
   "source": [
    "# # Plot the learning curves\n",
    "# plt.figure(figsize=(10, 7))\n",
    "# plt.plot(train_sizes, train_mean, label='Training score', color='blue')\n",
    "# plt.fill_between(train_sizes, train_mean - train_std, train_mean + train_std, alpha=0.1, color='blue')\n",
    "# plt.plot(train_sizes, val_mean, label='Validation score', color='red')\n",
    "# plt.fill_between(train_sizes, val_mean - val_std, val_mean + val_std, alpha=0.1, color='red')\n",
    "# plt.xlabel('Training Set Size')\n",
    "# plt.ylabel('Negative Mean Squared Error')\n",
    "# plt.title('Learning Curve for Extra Trees')\n",
    "# plt.legend(loc='best')\n",
    "# plt.show()"
   ]
  },
  {
   "cell_type": "markdown",
   "metadata": {},
   "source": [
    "### Model Visualization of Extra Trees Regressor"
   ]
  },
  {
   "cell_type": "code",
   "execution_count": 34,
   "metadata": {},
   "outputs": [
    {
     "data": {
      "image/png": "[encoded data removed]",
      "text/plain": [
       "<Figure size 1500x500 with 3 Axes>"
      ]
     },
     "metadata": {},
     "output_type": "display_data"
    }
   ],
   "source": [
    "# Plotting the scatterplot\n",
    "fig, ax = plt.subplots(1, 3, figsize=(15, 5))\n",
    "\n",
    "# Plotting for each target variable\n",
    "for i, target in enumerate(Y_features_Regression.columns):\n",
    "    ax[i].scatter(Y_test_Regression[target], y_pred_ET[:, i], alpha=0.5)\n",
    "    ax[i].plot([Y_test_Regression[target].min(), Y_test_Regression[target].max()], [Y_test_Regression[target].min(), Y_test_Regression[target].max()], 'r--')\n",
    "    ax[i].set_xlabel('Actual ' + target)\n",
    "    ax[i].set_ylabel('Predicted ' + target)\n",
    "\n",
    "plt.suptitle('Actual vs Predicted Y for Extra Trees Regressor')\n",
    "plt.tight_layout()\n",
    "plt.show()"
   ]
  },
  {
   "cell_type": "code",
   "execution_count": 35,
   "metadata": {},
   "outputs": [
    {
     "data": {
      "text/plain": [
       "'interactive_models/extra_trees_normal_model.html'"
      ]
     },
     "execution_count": 35,
     "metadata": {},
     "output_type": "execute_result"
    }
   ],
   "source": [
    "# Create traces for actual and predicted values\n",
    "actual_trace = go.Scatter3d(\n",
    "    x=Y_test_Regression['SHUTTLECOCK POSITIION IN AIR(X) metres'],\n",
    "    y=Y_test_Regression['SHUTTLECOCK POSITIION IN AIR(Y) metres'],\n",
    "    z=Y_test_Regression['SHUTTLECOCK POSITIION IN AIR(Z) metres'],\n",
    "    name='Actual',\n",
    "    mode='markers',\n",
    "    marker=dict(\n",
    "        color='blue',\n",
    "        size=3,\n",
    "        symbol='circle'\n",
    "    )\n",
    ")\n",
    "\n",
    "predicted_trace = go.Scatter3d(\n",
    "    x=y_pred_ET[:, 0],\n",
    "    y=y_pred_ET[:, 1],\n",
    "    z=y_pred_ET[:, 2],\n",
    "    name='Predicted',\n",
    "    mode='markers',\n",
    "    marker=dict(\n",
    "        color='red',\n",
    "        size=3,\n",
    "        symbol='circle'\n",
    "    )\n",
    ")\n",
    "\n",
    "# Create layout\n",
    "layout = go.Layout(\n",
    "    title='Actual vs Predicted Shuttlecock Positions for Extra Trees Regressor',\n",
    "    scene=dict(\n",
    "        xaxis=dict(title='X'),\n",
    "        yaxis=dict(title='Y'),\n",
    "        zaxis=dict(title='Z')\n",
    "    )\n",
    ")\n",
    "\n",
    "# Create figure\n",
    "fig = go.Figure(data=[actual_trace, predicted_trace], layout=layout)\n",
    "\n",
    "# Save the plot as an HTML file\n",
    "plot(fig, filename='interactive_models/extra_trees_normal_model.html')"
   ]
  },
  {
   "cell_type": "markdown",
   "metadata": {},
   "source": [
    "## Stage: Actual Testing with First Coordinate\n",
    "To actually test if all the models work, the first point of an observation group will be used for testing. Test will be randomized and based on observation group. Assuming that we will know the sequence order of the observation since they are ordered, OBSERVATION NUMBER will be used to identify the first observation"
   ]
  },
  {
   "cell_type": "code",
   "execution_count": 36,
   "metadata": {},
   "outputs": [
    {
     "name": "stdout",
     "output_type": "stream",
     "text": [
      "Selected Observation Group Number is : 12\n"
     ]
    },
    {
     "data": {
      "text/html": [
       "<div>\n",
       "<style scoped>\n",
       "    .dataframe tbody tr th:only-of-type {\n",
       "        vertical-align: middle;\n",
       "    }\n",
       "\n",
       "    .dataframe tbody tr th {\n",
       "        vertical-align: top;\n",
       "    }\n",
       "\n",
       "    .dataframe thead th {\n",
       "        text-align: right;\n",
       "    }\n",
       "</style>\n",
       "<table border=\"1\" class=\"dataframe\">\n",
       "  <thead>\n",
       "    <tr style=\"text-align: right;\">\n",
       "      <th></th>\n",
       "      <th>HUMAN PLAYER POSITION (X) metres</th>\n",
       "      <th>HUMAN PLAYER POSITION (Y) metres</th>\n",
       "      <th>INITITAL VELOCITY OF SHUTTELCOCK(m/s)</th>\n",
       "      <th>INITIAL SHUTTELCOCK FIRING ANGLE (DEGREE)</th>\n",
       "      <th>INITIAL SHUTTELCOCK SLANT ANGLE TO SIDELINE(DEGREE)</th>\n",
       "      <th>SHUTTLECOCK POSITIION IN AIR(X) metres</th>\n",
       "      <th>SHUTTLECOCK POSITIION IN AIR(Y) metres</th>\n",
       "      <th>SHUTTLECOCK POSITIION IN AIR(Z) metres</th>\n",
       "      <th>OBSERVATION NUMBER</th>\n",
       "      <th>OBSERVATION GROUP NUMBER</th>\n",
       "      <th>HUMAN PLAYER POSITION (Z) metres</th>\n",
       "    </tr>\n",
       "  </thead>\n",
       "  <tbody>\n",
       "    <tr>\n",
       "      <th>1342</th>\n",
       "      <td>4</td>\n",
       "      <td>1</td>\n",
       "      <td>10</td>\n",
       "      <td>40</td>\n",
       "      <td>11</td>\n",
       "      <td>4.077226</td>\n",
       "      <td>1.015011</td>\n",
       "      <td>1.663315</td>\n",
       "      <td>1.0</td>\n",
       "      <td>12</td>\n",
       "      <td>1.6</td>\n",
       "    </tr>\n",
       "  </tbody>\n",
       "</table>\n",
       "</div>"
      ],
      "text/plain": [
       "      HUMAN PLAYER POSITION (X) metres  HUMAN PLAYER POSITION (Y) metres  \\\n",
       "1342                                 4                                 1   \n",
       "\n",
       "      INITITAL VELOCITY OF SHUTTELCOCK(m/s)  \\\n",
       "1342                                     10   \n",
       "\n",
       "      INITIAL SHUTTELCOCK FIRING ANGLE (DEGREE)  \\\n",
       "1342                                         40   \n",
       "\n",
       "      INITIAL SHUTTELCOCK SLANT ANGLE TO SIDELINE(DEGREE)  \\\n",
       "1342                                                 11     \n",
       "\n",
       "      SHUTTLECOCK POSITIION IN AIR(X) metres  \\\n",
       "1342                                4.077226   \n",
       "\n",
       "      SHUTTLECOCK POSITIION IN AIR(Y) metres  \\\n",
       "1342                                1.015011   \n",
       "\n",
       "      SHUTTLECOCK POSITIION IN AIR(Z) metres  OBSERVATION NUMBER  \\\n",
       "1342                                1.663315                 1.0   \n",
       "\n",
       "      OBSERVATION GROUP NUMBER  HUMAN PLAYER POSITION (Z) metres  \n",
       "1342                        12                               1.6  "
      ]
     },
     "execution_count": 36,
     "metadata": {},
     "output_type": "execute_result"
    }
   ],
   "source": [
    "import random\n",
    "# copied to avoid alterations to cleaned data\n",
    "test_data = data.copy()\n",
    "\n",
    "# choose a random record from the observation groups to test\n",
    "unique_observation_grps = test_data['OBSERVATION GROUP NUMBER'].nunique()\n",
    "selected_test_num = random.randint(1, unique_observation_grps)\n",
    "print(\"Selected Observation Group Number is :\", selected_test_num)\n",
    "\n",
    "# alternatively can hardcode to replicate results\n",
    "# selected_test_num = ?\n",
    "\n",
    "# retrieve all the rows from the data related to randomly selected row\n",
    "y_actual_records = test_data[test_data['OBSERVATION GROUP NUMBER'] == selected_test_num]\n",
    "\n",
    "# get the first row of selected observation for input\n",
    "y_first_record = y_actual_records.head(1)\n",
    "\n",
    "# show the test data\n",
    "y_first_record"
   ]
  },
  {
   "cell_type": "markdown",
   "metadata": {},
   "source": [
    "Predict number of observations within a Trajectory for test record"
   ]
  },
  {
   "cell_type": "code",
   "execution_count": 37,
   "metadata": {},
   "outputs": [
    {
     "name": "stdout",
     "output_type": "stream",
     "text": [
      "Predicted observation is : 122\n",
      "Actual number of observations is : 122\n"
     ]
    }
   ],
   "source": [
    "# select the input features we want to feed into the decision tree model to prediction observation\n",
    "X_actual_test_DT = y_first_record[['HUMAN PLAYER POSITION (X) metres', \n",
    "                                    'HUMAN PLAYER POSITION (Y) metres',\n",
    "                                    'HUMAN PLAYER POSITION (Z) metres', \n",
    "                                    'INITITAL VELOCITY OF SHUTTELCOCK(m/s)', \n",
    "                                    'INITIAL SHUTTELCOCK FIRING ANGLE (DEGREE)', \n",
    "                                    'INITIAL SHUTTELCOCK SLANT ANGLE TO SIDELINE(DEGREE)']]\n",
    "\n",
    "predicted_observation = int(model_decisionTree.predict(X_actual_test_DT))\n",
    "print(\"Predicted observation is :\", predicted_observation)\n",
    "print(\"Actual number of observations is :\", len(y_actual_records))"
   ]
  },
  {
   "cell_type": "markdown",
   "metadata": {},
   "source": [
    "Prepare input features to be fed into Regressor Models"
   ]
  },
  {
   "cell_type": "code",
   "execution_count": 38,
   "metadata": {},
   "outputs": [
    {
     "data": {
      "text/plain": [
       "[[4.0, 1.0, 1.6, 10.0, 40.0, 11.0, 1],\n",
       " [4.0, 1.0, 1.6, 10.0, 40.0, 11.0, 2],\n",
       " [4.0, 1.0, 1.6, 10.0, 40.0, 11.0, 3],\n",
       " [4.0, 1.0, 1.6, 10.0, 40.0, 11.0, 4],\n",
       " [4.0, 1.0, 1.6, 10.0, 40.0, 11.0, 5],\n",
       " [4.0, 1.0, 1.6, 10.0, 40.0, 11.0, 6],\n",
       " [4.0, 1.0, 1.6, 10.0, 40.0, 11.0, 7],\n",
       " [4.0, 1.0, 1.6, 10.0, 40.0, 11.0, 8],\n",
       " [4.0, 1.0, 1.6, 10.0, 40.0, 11.0, 9],\n",
       " [4.0, 1.0, 1.6, 10.0, 40.0, 11.0, 10],\n",
       " [4.0, 1.0, 1.6, 10.0, 40.0, 11.0, 11],\n",
       " [4.0, 1.0, 1.6, 10.0, 40.0, 11.0, 12],\n",
       " [4.0, 1.0, 1.6, 10.0, 40.0, 11.0, 13],\n",
       " [4.0, 1.0, 1.6, 10.0, 40.0, 11.0, 14],\n",
       " [4.0, 1.0, 1.6, 10.0, 40.0, 11.0, 15],\n",
       " [4.0, 1.0, 1.6, 10.0, 40.0, 11.0, 16],\n",
       " [4.0, 1.0, 1.6, 10.0, 40.0, 11.0, 17],\n",
       " [4.0, 1.0, 1.6, 10.0, 40.0, 11.0, 18],\n",
       " [4.0, 1.0, 1.6, 10.0, 40.0, 11.0, 19],\n",
       " [4.0, 1.0, 1.6, 10.0, 40.0, 11.0, 20],\n",
       " [4.0, 1.0, 1.6, 10.0, 40.0, 11.0, 21],\n",
       " [4.0, 1.0, 1.6, 10.0, 40.0, 11.0, 22],\n",
       " [4.0, 1.0, 1.6, 10.0, 40.0, 11.0, 23],\n",
       " [4.0, 1.0, 1.6, 10.0, 40.0, 11.0, 24],\n",
       " [4.0, 1.0, 1.6, 10.0, 40.0, 11.0, 25],\n",
       " [4.0, 1.0, 1.6, 10.0, 40.0, 11.0, 26],\n",
       " [4.0, 1.0, 1.6, 10.0, 40.0, 11.0, 27],\n",
       " [4.0, 1.0, 1.6, 10.0, 40.0, 11.0, 28],\n",
       " [4.0, 1.0, 1.6, 10.0, 40.0, 11.0, 29],\n",
       " [4.0, 1.0, 1.6, 10.0, 40.0, 11.0, 30],\n",
       " [4.0, 1.0, 1.6, 10.0, 40.0, 11.0, 31],\n",
       " [4.0, 1.0, 1.6, 10.0, 40.0, 11.0, 32],\n",
       " [4.0, 1.0, 1.6, 10.0, 40.0, 11.0, 33],\n",
       " [4.0, 1.0, 1.6, 10.0, 40.0, 11.0, 34],\n",
       " [4.0, 1.0, 1.6, 10.0, 40.0, 11.0, 35],\n",
       " [4.0, 1.0, 1.6, 10.0, 40.0, 11.0, 36],\n",
       " [4.0, 1.0, 1.6, 10.0, 40.0, 11.0, 37],\n",
       " [4.0, 1.0, 1.6, 10.0, 40.0, 11.0, 38],\n",
       " [4.0, 1.0, 1.6, 10.0, 40.0, 11.0, 39],\n",
       " [4.0, 1.0, 1.6, 10.0, 40.0, 11.0, 40],\n",
       " [4.0, 1.0, 1.6, 10.0, 40.0, 11.0, 41],\n",
       " [4.0, 1.0, 1.6, 10.0, 40.0, 11.0, 42],\n",
       " [4.0, 1.0, 1.6, 10.0, 40.0, 11.0, 43],\n",
       " [4.0, 1.0, 1.6, 10.0, 40.0, 11.0, 44],\n",
       " [4.0, 1.0, 1.6, 10.0, 40.0, 11.0, 45],\n",
       " [4.0, 1.0, 1.6, 10.0, 40.0, 11.0, 46],\n",
       " [4.0, 1.0, 1.6, 10.0, 40.0, 11.0, 47],\n",
       " [4.0, 1.0, 1.6, 10.0, 40.0, 11.0, 48],\n",
       " [4.0, 1.0, 1.6, 10.0, 40.0, 11.0, 49],\n",
       " [4.0, 1.0, 1.6, 10.0, 40.0, 11.0, 50],\n",
       " [4.0, 1.0, 1.6, 10.0, 40.0, 11.0, 51],\n",
       " [4.0, 1.0, 1.6, 10.0, 40.0, 11.0, 52],\n",
       " [4.0, 1.0, 1.6, 10.0, 40.0, 11.0, 53],\n",
       " [4.0, 1.0, 1.6, 10.0, 40.0, 11.0, 54],\n",
       " [4.0, 1.0, 1.6, 10.0, 40.0, 11.0, 55],\n",
       " [4.0, 1.0, 1.6, 10.0, 40.0, 11.0, 56],\n",
       " [4.0, 1.0, 1.6, 10.0, 40.0, 11.0, 57],\n",
       " [4.0, 1.0, 1.6, 10.0, 40.0, 11.0, 58],\n",
       " [4.0, 1.0, 1.6, 10.0, 40.0, 11.0, 59],\n",
       " [4.0, 1.0, 1.6, 10.0, 40.0, 11.0, 60],\n",
       " [4.0, 1.0, 1.6, 10.0, 40.0, 11.0, 61],\n",
       " [4.0, 1.0, 1.6, 10.0, 40.0, 11.0, 62],\n",
       " [4.0, 1.0, 1.6, 10.0, 40.0, 11.0, 63],\n",
       " [4.0, 1.0, 1.6, 10.0, 40.0, 11.0, 64],\n",
       " [4.0, 1.0, 1.6, 10.0, 40.0, 11.0, 65],\n",
       " [4.0, 1.0, 1.6, 10.0, 40.0, 11.0, 66],\n",
       " [4.0, 1.0, 1.6, 10.0, 40.0, 11.0, 67],\n",
       " [4.0, 1.0, 1.6, 10.0, 40.0, 11.0, 68],\n",
       " [4.0, 1.0, 1.6, 10.0, 40.0, 11.0, 69],\n",
       " [4.0, 1.0, 1.6, 10.0, 40.0, 11.0, 70],\n",
       " [4.0, 1.0, 1.6, 10.0, 40.0, 11.0, 71],\n",
       " [4.0, 1.0, 1.6, 10.0, 40.0, 11.0, 72],\n",
       " [4.0, 1.0, 1.6, 10.0, 40.0, 11.0, 73],\n",
       " [4.0, 1.0, 1.6, 10.0, 40.0, 11.0, 74],\n",
       " [4.0, 1.0, 1.6, 10.0, 40.0, 11.0, 75],\n",
       " [4.0, 1.0, 1.6, 10.0, 40.0, 11.0, 76],\n",
       " [4.0, 1.0, 1.6, 10.0, 40.0, 11.0, 77],\n",
       " [4.0, 1.0, 1.6, 10.0, 40.0, 11.0, 78],\n",
       " [4.0, 1.0, 1.6, 10.0, 40.0, 11.0, 79],\n",
       " [4.0, 1.0, 1.6, 10.0, 40.0, 11.0, 80],\n",
       " [4.0, 1.0, 1.6, 10.0, 40.0, 11.0, 81],\n",
       " [4.0, 1.0, 1.6, 10.0, 40.0, 11.0, 82],\n",
       " [4.0, 1.0, 1.6, 10.0, 40.0, 11.0, 83],\n",
       " [4.0, 1.0, 1.6, 10.0, 40.0, 11.0, 84],\n",
       " [4.0, 1.0, 1.6, 10.0, 40.0, 11.0, 85],\n",
       " [4.0, 1.0, 1.6, 10.0, 40.0, 11.0, 86],\n",
       " [4.0, 1.0, 1.6, 10.0, 40.0, 11.0, 87],\n",
       " [4.0, 1.0, 1.6, 10.0, 40.0, 11.0, 88],\n",
       " [4.0, 1.0, 1.6, 10.0, 40.0, 11.0, 89],\n",
       " [4.0, 1.0, 1.6, 10.0, 40.0, 11.0, 90],\n",
       " [4.0, 1.0, 1.6, 10.0, 40.0, 11.0, 91],\n",
       " [4.0, 1.0, 1.6, 10.0, 40.0, 11.0, 92],\n",
       " [4.0, 1.0, 1.6, 10.0, 40.0, 11.0, 93],\n",
       " [4.0, 1.0, 1.6, 10.0, 40.0, 11.0, 94],\n",
       " [4.0, 1.0, 1.6, 10.0, 40.0, 11.0, 95],\n",
       " [4.0, 1.0, 1.6, 10.0, 40.0, 11.0, 96],\n",
       " [4.0, 1.0, 1.6, 10.0, 40.0, 11.0, 97],\n",
       " [4.0, 1.0, 1.6, 10.0, 40.0, 11.0, 98],\n",
       " [4.0, 1.0, 1.6, 10.0, 40.0, 11.0, 99],\n",
       " [4.0, 1.0, 1.6, 10.0, 40.0, 11.0, 100],\n",
       " [4.0, 1.0, 1.6, 10.0, 40.0, 11.0, 101],\n",
       " [4.0, 1.0, 1.6, 10.0, 40.0, 11.0, 102],\n",
       " [4.0, 1.0, 1.6, 10.0, 40.0, 11.0, 103],\n",
       " [4.0, 1.0, 1.6, 10.0, 40.0, 11.0, 104],\n",
       " [4.0, 1.0, 1.6, 10.0, 40.0, 11.0, 105],\n",
       " [4.0, 1.0, 1.6, 10.0, 40.0, 11.0, 106],\n",
       " [4.0, 1.0, 1.6, 10.0, 40.0, 11.0, 107],\n",
       " [4.0, 1.0, 1.6, 10.0, 40.0, 11.0, 108],\n",
       " [4.0, 1.0, 1.6, 10.0, 40.0, 11.0, 109],\n",
       " [4.0, 1.0, 1.6, 10.0, 40.0, 11.0, 110],\n",
       " [4.0, 1.0, 1.6, 10.0, 40.0, 11.0, 111],\n",
       " [4.0, 1.0, 1.6, 10.0, 40.0, 11.0, 112],\n",
       " [4.0, 1.0, 1.6, 10.0, 40.0, 11.0, 113],\n",
       " [4.0, 1.0, 1.6, 10.0, 40.0, 11.0, 114],\n",
       " [4.0, 1.0, 1.6, 10.0, 40.0, 11.0, 115],\n",
       " [4.0, 1.0, 1.6, 10.0, 40.0, 11.0, 116],\n",
       " [4.0, 1.0, 1.6, 10.0, 40.0, 11.0, 117],\n",
       " [4.0, 1.0, 1.6, 10.0, 40.0, 11.0, 118],\n",
       " [4.0, 1.0, 1.6, 10.0, 40.0, 11.0, 119],\n",
       " [4.0, 1.0, 1.6, 10.0, 40.0, 11.0, 120],\n",
       " [4.0, 1.0, 1.6, 10.0, 40.0, 11.0, 121],\n",
       " [4.0, 1.0, 1.6, 10.0, 40.0, 11.0, 122]]"
      ]
     },
     "execution_count": 38,
     "metadata": {},
     "output_type": "execute_result"
    }
   ],
   "source": [
    "# container to store prepared input features we want to feed into the regression model to predict entire trajectory x, y, z coordinates\n",
    "Y_actual_test_Regression = []\n",
    "# select x features and change the observation number accordingly and add into container\n",
    "for obs_num in range(1, predicted_observation+1):\n",
    "    temp = (y_first_record[['HUMAN PLAYER POSITION (X) metres', \n",
    "                            'HUMAN PLAYER POSITION (Y) metres',\n",
    "                            'HUMAN PLAYER POSITION (Z) metres',\n",
    "                            'INITITAL VELOCITY OF SHUTTELCOCK(m/s)', \n",
    "                            'INITIAL SHUTTELCOCK FIRING ANGLE (DEGREE)', \n",
    "                            'INITIAL SHUTTELCOCK SLANT ANGLE TO SIDELINE(DEGREE)']]).values.tolist()\n",
    "    temp_obs_row = temp[:5][0]\n",
    "    temp_obs_row.append(obs_num)\n",
    "    Y_actual_test_Regression.append(temp_obs_row)\n",
    "\n",
    "Y_actual_test_Regression"
   ]
  },
  {
   "cell_type": "code",
   "execution_count": 39,
   "metadata": {},
   "outputs": [],
   "source": [
    "# Turn it into dataframe\n",
    "column_names = [\n",
    "    'HUMAN PLAYER POSITION (X) metres',\n",
    "    'HUMAN PLAYER POSITION (Y) metres',\n",
    "    'HUMAN PLAYER POSITION (Z) metres',\n",
    "    'INITITAL VELOCITY OF SHUTTELCOCK(m/s)',\n",
    "    'INITIAL SHUTTELCOCK FIRING ANGLE (DEGREE)',\n",
    "    'INITIAL SHUTTELCOCK SLANT ANGLE TO SIDELINE(DEGREE)',\n",
    "    'OBSERVATION NUMBER'\n",
    "]\n",
    "\n",
    "X_actual_test_Regression_DF = pd.DataFrame(Y_actual_test_Regression, columns = column_names)"
   ]
  },
  {
   "cell_type": "markdown",
   "metadata": {},
   "source": [
    "Predict the Trajectory using Trained Models, outputs an array of predicted shuttlecock trajectory coordinates"
   ]
  },
  {
   "cell_type": "code",
   "execution_count": 40,
   "metadata": {},
   "outputs": [],
   "source": [
    "# prediction using random forest regression\n",
    "predicted_trajectory_points_RT = model_randomForest.predict(X_actual_test_Regression_DF)\n",
    "# prediction using extra trees regression\n",
    "predicted_trajectory_points_ET = model_ExtraTrees.predict(X_actual_test_Regression_DF)"
   ]
  },
  {
   "cell_type": "markdown",
   "metadata": {},
   "source": [
    "### Overall Evaluation for all Regression Models"
   ]
  },
  {
   "cell_type": "code",
   "execution_count": 41,
   "metadata": {},
   "outputs": [
    {
     "name": "stdout",
     "output_type": "stream",
     "text": [
      "Mean Square Error of the Random Forest Tree Regressor is : 0.00014912382938502125\n",
      "Root Mean Square Error of the Random Forest Tree Regressor is : 0.012211626811568607\n",
      "Mean Square Error of the Extra Trees Regressor is : 1.6644787528617556e-05\n",
      "Root Mean Square Error of the Extra Trees Regressor is : 0.004079802388427356\n"
     ]
    }
   ],
   "source": [
    "# Do an error evaluation\n",
    "y_actual_coords = y_actual_records[['SHUTTLECOCK POSITIION IN AIR(X) metres', 'SHUTTLECOCK POSITIION IN AIR(Y) metres', 'SHUTTLECOCK POSITIION IN AIR(Z) metres']]\n",
    "\n",
    "mse_actual_RT = mean_squared_error(y_actual_coords, predicted_trajectory_points_RT)\n",
    "rmse_actual_RT = math.sqrt(mse_actual_RT)\n",
    "print(\"Mean Square Error of the Random Forest Tree Regressor is :\", mse_actual_RT)\n",
    "print(\"Root Mean Square Error of the Random Forest Tree Regressor is :\", rmse_actual_RT)\n",
    "\n",
    "mse_actual_ET = mean_squared_error(y_actual_coords, predicted_trajectory_points_ET)\n",
    "rmse_actual_ET = math.sqrt(mse_actual_ET)\n",
    "print(\"Mean Square Error of the Extra Trees Regressor is :\", mse_actual_ET)\n",
    "print(\"Root Mean Square Error of the Extra Trees Regressor is :\", rmse_actual_ET)"
   ]
  },
  {
   "cell_type": "markdown",
   "metadata": {},
   "source": [
    "Static Visualization of Shuttlecock Trajectory in a Court"
   ]
  },
  {
   "cell_type": "code",
   "execution_count": 42,
   "metadata": {},
   "outputs": [],
   "source": [
    "#Court Constants\n",
    "_HEIGHT_SKYBOX_M_ = 10\n",
    "_HEIGHT_NET_M_ = 1.55\n",
    "_HEIGHT_ROBOTBADMINTON_CENTER_M_ = 1.1\n",
    "\n",
    "_LENGTH_COURT_X_M_ = 13.4\n",
    "_LENGTH_COURT_Y_M_ = 5.18\n",
    "_LENGTH_CENTERLINE_M_ = 4.68\n",
    "\n",
    "_COURT_BOUNDARY_TOP_ = [\n",
    " (0,0),\n",
    " (0, _LENGTH_COURT_Y_M_)\n",
    "]\n",
    "_COURT_BOUNDARY_BOTTOM_ = [\n",
    " (_LENGTH_COURT_X_M_, 0),\n",
    " (_LENGTH_COURT_X_M_, _LENGTH_COURT_Y_M_)\n",
    "]\n",
    "_COURT_BOUNDARY_LEFT_ = [\n",
    " (0,0),\n",
    " (_LENGTH_COURT_X_M_, 0)\n",
    "]\n",
    "_COURT_BOUNDARY_RIGHT_ = [\n",
    " (0, _LENGTH_COURT_Y_M_),\n",
    " (_LENGTH_COURT_X_M_, _LENGTH_COURT_Y_M_)\n",
    "]\n",
    "\n",
    "_COURT_CENTRELINE01_ = [\n",
    " (0, (_LENGTH_COURT_Y_M_/2)),\n",
    " (_LENGTH_CENTERLINE_M_, (_LENGTH_COURT_Y_M_/2))\n",
    "]\n",
    "_COURT_CENTRELINE02_ = [\n",
    "    (_LENGTH_COURT_X_M_ - _LENGTH_CENTERLINE_M_, (_LENGTH_COURT_Y_M_/2)),\n",
    "    (_LENGTH_COURT_X_M_, (_LENGTH_COURT_Y_M_/2))\n",
    "]\n",
    "_COURT_SHORTSERVICELINE01_ = [\n",
    "    (_LENGTH_CENTERLINE_M_ + 0.04, 0),\n",
    "    (_LENGTH_CENTERLINE_M_ + 0.04, _LENGTH_COURT_Y_M_)\n",
    "]\n",
    "_COURT_SHORTSERVICELINE02_ = [\n",
    "    (_LENGTH_COURT_X_M_ - _LENGTH_CENTERLINE_M_ - 0.04, 0),\n",
    "    (_LENGTH_COURT_X_M_ - _LENGTH_CENTERLINE_M_ - 0.04, _LENGTH_COURT_Y_M_)\n",
    "]"
   ]
  },
  {
   "cell_type": "code",
   "execution_count": 43,
   "metadata": {},
   "outputs": [
    {
     "data": {
      "image/png": "[encoded data removed]",
      "text/plain": [
       "<Figure size 1600x700 with 2 Axes>"
      ]
     },
     "metadata": {},
     "output_type": "display_data"
    }
   ],
   "source": [
    "import matplotlib.pyplot as plt\n",
    "from mpl_toolkits.mplot3d import Axes3D\n",
    "\n",
    "# Create a 3D figure with subplots\n",
    "fig, axes = plt.subplots(nrows=1, ncols=2, figsize=(16, 7), subplot_kw={'projection': '3d'})\n",
    "\n",
    "# Set titles for subplots\n",
    "axes[0].set_title(\"Trajectory Estimation of Random Forest Regressor\")\n",
    "axes[1].set_title(\"Trajectory Estimation of Extra Trees Regressor\")\n",
    "\n",
    "# Define court dimensions\n",
    "court_length_x = 13.4\n",
    "court_length_y = 5.18\n",
    "court_height_skybox = 10\n",
    "court_height_net = 1.55\n",
    "court_height_robotbadminton_center = 1.1\n",
    "court_length_centerline = 4.68\n",
    "\n",
    "# Loop over subplots\n",
    "for ax_index, ax in enumerate(axes):\n",
    "    # Plot court boundaries\n",
    "    ax.plot([0, court_length_x], [0, 0], [0, 0], color='black', linewidth=1)  # Bottom boundary\n",
    "    ax.plot([0, court_length_x], [court_length_y, court_length_y], [0, 0], color='black', linewidth=1)  # Top boundary\n",
    "    ax.plot([0, 0], [0, court_length_y], [0, 0], color='black', linewidth=1)  # Left boundary\n",
    "    ax.plot([court_length_x, court_length_x], [0, court_length_y], [0, 0], color='black', linewidth=1)  # Right boundary\n",
    "\n",
    "    # Plot center line\n",
    "    ax.plot([0, court_length_centerline], [court_length_y / 2, court_length_y / 2], [0, 0], color='black', linewidth=1)\n",
    "    ax.plot([court_length_x - court_length_centerline, court_length_x], [court_length_y / 2, court_length_y / 2], [0, 0], color='black', linewidth=1)\n",
    "\n",
    "    # Plot short service lines\n",
    "    ax.plot([court_length_centerline + 0.04, court_length_centerline + 0.04], [0, court_length_y], [0, 0], color='black', linewidth=1)\n",
    "    ax.plot([court_length_x - court_length_centerline - 0.04, court_length_x - court_length_centerline - 0.04], [0, court_length_y], [0, 0], color='black', linewidth=1)\n",
    "\n",
    "    # Plot net\n",
    "    net_height = court_height_net\n",
    "    ax.plot([court_length_x / 2, court_length_x / 2], [0, court_length_y], [net_height, net_height], color='red', linewidth=1)\n",
    "\n",
    "    # Set plot limits and labels\n",
    "    ax.set_xlim([0, court_length_x])\n",
    "    ax.set_ylim([0, court_length_y])\n",
    "    ax.set_zlim([0, court_height_skybox])\n",
    "    ax.set_xlabel('Length (m)')\n",
    "    ax.set_ylabel('Width (m)')\n",
    "    ax.set_zlabel('Height (m)')\n",
    "\n",
    "    if ax_index == 0:\n",
    "        columns_n = ['X', 'Y', 'Z']\n",
    "        predicted_trajectory_points_RF_DF = pd.DataFrame(predicted_trajectory_points_RT, columns=columns_n)\n",
    "\n",
    "        # Extract X, Y, Z coordinates from y_actual_test and predicted_trajectory_point\n",
    "        x_actual = y_actual_coords['SHUTTLECOCK POSITIION IN AIR(X) metres']\n",
    "        y_actual = y_actual_coords['SHUTTLECOCK POSITIION IN AIR(Y) metres']\n",
    "        z_actual = y_actual_coords['SHUTTLECOCK POSITIION IN AIR(Z) metres']\n",
    "\n",
    "        x_predicted = predicted_trajectory_points_RF_DF['X'].values\n",
    "        y_predicted = predicted_trajectory_points_RF_DF['Y'].values\n",
    "        z_predicted = predicted_trajectory_points_RF_DF['Z'].values\n",
    "\n",
    "        ax.scatter(x_actual, y_actual, z_actual, c='blue', label='Actual Trajectory')\n",
    "        ax.scatter(x_predicted, y_predicted, z_predicted, c='red', label='Predicted Trajectory (Random Forest Regressor)')\n",
    "\n",
    "    elif ax_index == 1:\n",
    "        columns_n = ['X', 'Y', 'Z']\n",
    "        predicted_trajectory_points_ET_DF = pd.DataFrame(predicted_trajectory_points_ET, columns=columns_n)\n",
    "\n",
    "        # Extract X, Y, Z coordinates from y_actual_test and predicted_trajectory_point\n",
    "        x_actual = y_actual_coords['SHUTTLECOCK POSITIION IN AIR(X) metres']\n",
    "        y_actual = y_actual_coords['SHUTTLECOCK POSITIION IN AIR(Y) metres']\n",
    "        z_actual = y_actual_coords['SHUTTLECOCK POSITIION IN AIR(Z) metres']\n",
    "\n",
    "        x_predicted = predicted_trajectory_points_ET_DF['X'].values\n",
    "        y_predicted = predicted_trajectory_points_ET_DF['Y'].values\n",
    "        z_predicted = predicted_trajectory_points_ET_DF['Z'].values\n",
    "\n",
    "        ax.scatter(x_actual, y_actual, z_actual, c='blue', label='Actual Trajectory')\n",
    "        ax.scatter(x_predicted, y_predicted, z_predicted, c='red', label='Predicted Trajectory (Extra Trees Regressor)')\n",
    "\n",
    "    ax.legend()\n",
    "\n",
    "# Adjust spacing between subplots\n",
    "plt.subplots_adjust(wspace=0.2)\n",
    "\n",
    "# Display the plot\n",
    "plt.show()\n"
   ]
  },
  {
   "cell_type": "markdown",
   "metadata": {},
   "source": [
    "3D Interactive Visualization of the Shuttlecock Trajectory"
   ]
  },
  {
   "cell_type": "code",
   "execution_count": 44,
   "metadata": {},
   "outputs": [
    {
     "data": {
      "text/plain": [
       "'interactive_models/normal_regression_trajectory.html'"
      ]
     },
     "execution_count": 44,
     "metadata": {},
     "output_type": "execute_result"
    }
   ],
   "source": [
    "import plotly.graph_objects as go\n",
    "import plotly.offline as offline\n",
    "\n",
    "# Create a scatter plot for actual trajectory\n",
    "actual_trace = go.Scatter3d(x=y_actual_coords['SHUTTLECOCK POSITIION IN AIR(X) metres'],\n",
    "                            y=y_actual_coords['SHUTTLECOCK POSITIION IN AIR(Y) metres'],\n",
    "                            z=y_actual_coords['SHUTTLECOCK POSITIION IN AIR(Z) metres'],\n",
    "                            mode='markers',\n",
    "                            marker=dict(color='blue'),\n",
    "                            name='Actual Trajectory')\n",
    "\n",
    "# Create a scatter plot for predicted trajectory using Random Forest Regressor\n",
    "predicted_trace_RF = go.Scatter3d(x=predicted_trajectory_points_RT[:, 0],\n",
    "                                  y=predicted_trajectory_points_RT[:, 1],\n",
    "                                  z=predicted_trajectory_points_RT[:, 2],\n",
    "                                  mode='markers',\n",
    "                                  marker=dict(color='red'),\n",
    "                                  name='Predicted Trajectory (Random Forest)')\n",
    "\n",
    "# Create a scatter plot for predicted trajectory using Extra Trees Regressor\n",
    "predicted_trace_ET = go.Scatter3d(x=predicted_trajectory_points_ET[:, 0],\n",
    "                                  y=predicted_trajectory_points_ET[:, 1],\n",
    "                                  z=predicted_trajectory_points_ET[:, 2],\n",
    "                                  mode='markers',\n",
    "                                  marker=dict(color='green'),\n",
    "                                  name='Predicted Trajectory (Extra Trees)')\n",
    "\n",
    "# Set the data trace\n",
    "data = [actual_trace, predicted_trace_RF, predicted_trace_ET]\n",
    "\n",
    "# Set layout and title\n",
    "layout = go.Layout(\n",
    "    scene=dict(\n",
    "        xaxis_title='X',\n",
    "        yaxis_title='Y',\n",
    "        zaxis_title='Z',\n",
    "        xaxis=dict(range=[-15, 15]),  # Set X-axis range\n",
    "        yaxis=dict(range=[-15, 15]),  # Set Y-axis range\n",
    "        zaxis=dict(range=[0, 15])     # Set Z-axis range\n",
    "    ),\n",
    "    title='Actual vs Predicted Trajectory'\n",
    ")\n",
    "\n",
    "# Create the figure\n",
    "fig = go.Figure(data=data, layout=layout)\n",
    "\n",
    "# Save the plot as an HTML file\n",
    "offline.plot(fig, filename='interactive_models/normal_regression_trajectory.html')\n"
   ]
  },
  {
   "cell_type": "markdown",
   "metadata": {},
   "source": [
    "### ROBOT - Shuttlecock Trajectory Estimation"
   ]
  },
  {
   "cell_type": "code",
   "execution_count": 64,
   "metadata": {},
   "outputs": [
    {
     "name": "stdout",
     "output_type": "stream",
     "text": [
      "Is predicted Regression Tree (RT) within court:  True\n",
      "Is predicted Extra Tree (ET) within court:  True\n",
      "Average XYZ of Estimated Shuttlecock Position: [9.41229701 2.04636374 0.12622224]\n",
      "Distance: 0.36 meters in 0.12 seconds\n",
      "X difference: 0.028316676279806163\n",
      "Y difference: 0.3543607789978651\n",
      "Time required: 0.11849678657035817 seconds\n",
      "Able to reach and hit on time\n",
      "Distance: 0.88 meters in 0.29 seconds\n",
      "X difference: 0.33063547985188224\n",
      "Y difference: -0.8135466858784022\n",
      "Time required: 0.2927224758178936 seconds\n",
      "Able to reach and hit on time\n",
      "Distance: 2.47 meters in 0.82 seconds\n",
      "X difference: 1.4223252179523755\n",
      "Y difference: 2.018176490467608\n",
      "Time required: 0.8230056954237533 seconds\n",
      "Able to reach and hit on time\n"
     ]
    },
    {
     "data": {
      "application/vnd.plotly.v1+json": {
       "config": {
        "plotlyServerURL": "https://plot.ly"
       },
       "data": [
        {
         "marker": {
          "color": "blue",
          "size": 2
         },
         "mode": "markers",
         "name": "True Values",
         "opacity": 0.7,
         "type": "scatter3d",
         "x": [
          4.077225888,
          4.152879189,
          4.229289739,
          4.299769205,
          4.375008411,
          4.450242415,
          4.522781275,
          4.595843438,
          4.668416886,
          4.739451773,
          4.810496073,
          4.879044121,
          4.951046685,
          5.018960045,
          5.08869395,
          5.159398942,
          5.226328407,
          5.292807799,
          5.360387298,
          5.426610308,
          5.490777246,
          5.557717908,
          5.623052126,
          5.686277562,
          5.748577077,
          5.810937804,
          5.877532087,
          5.940678786,
          5.998053067,
          6.060258906,
          6.122056883,
          6.180852644,
          6.238652399,
          6.299953168,
          6.357648732,
          6.417451681,
          6.47187261,
          6.530785355,
          6.58665142,
          6.64282365,
          6.696975018,
          6.750471558,
          6.80767238,
          6.862132672,
          6.911971083,
          6.964464989,
          7.017079193,
          7.069067719,
          7.118420007,
          7.170349813,
          7.220859924,
          7.268631473,
          7.318834676,
          7.365220684,
          7.414823969,
          7.461623643,
          7.508980634,
          7.555323827,
          7.601595569,
          7.646737571,
          7.689905411,
          7.733300359,
          7.779940766,
          7.820641516,
          7.863732127,
          7.905510085,
          7.948107054,
          7.98838451,
          8.028070638,
          8.066395632,
          8.107470961,
          8.145097549,
          8.18428069,
          8.2232621,
          8.259426439,
          8.296613363,
          8.333329254,
          8.3689906,
          8.403264524,
          8.438932011,
          8.470539411,
          8.506441908,
          8.538169593,
          8.572290791,
          8.603368849,
          8.635089399,
          8.664698709,
          8.695299255,
          8.725214324,
          8.754801283,
          8.784672365,
          8.812757379,
          8.839482458,
          8.867064328,
          8.893301329,
          8.920949828,
          8.946774478,
          8.971048826,
          8.995590575,
          9.020468946,
          9.044037336,
          9.066663479,
          9.087428373,
          9.108434202,
          9.131122349,
          9.151491776,
          9.172324561,
          9.192518817,
          9.211572691,
          9.232658942,
          9.248827959,
          9.266622762,
          9.283038097,
          9.299926955,
          9.317187656,
          9.331830682,
          9.345832775,
          9.361345205,
          9.37629454,
          9.388882793,
          9.403485202,
          9.41411917
         ],
         "y": [
          1.015011192,
          1.029716704,
          1.04456941,
          1.058269231,
          1.072894251,
          1.08751826,
          1.101618386,
          1.115820232,
          1.129927081,
          1.143734864,
          1.157544477,
          1.170868868,
          1.184864749,
          1.198065768,
          1.211620666,
          1.225364325,
          1.238374095,
          1.25129638,
          1.264432503,
          1.277304953,
          1.289777742,
          1.302789688,
          1.315489374,
          1.327779154,
          1.339888953,
          1.35201065,
          1.364955267,
          1.377229742,
          1.388382173,
          1.400473763,
          1.412486073,
          1.423914811,
          1.435149945,
          1.447065608,
          1.458280489,
          1.469905005,
          1.480483362,
          1.49193484,
          1.502794103,
          1.513712878,
          1.524238838,
          1.534637512,
          1.545756225,
          1.556342233,
          1.566029839,
          1.576233621,
          1.586460786,
          1.596566332,
          1.606159445,
          1.616253577,
          1.626071748,
          1.635357596,
          1.64511611,
          1.654132637,
          1.663774539,
          1.672871474,
          1.68207674,
          1.691084944,
          1.70007926,
          1.708853976,
          1.717244954,
          1.725680078,
          1.734746055,
          1.742657479,
          1.751033445,
          1.759154258,
          1.76743427,
          1.775263414,
          1.782977616,
          1.79042724,
          1.798411475,
          1.805725343,
          1.813341774,
          1.820918993,
          1.827948628,
          1.835177034,
          1.84231388,
          1.849245744,
          1.855907919,
          1.862840977,
          1.868984833,
          1.875963571,
          1.882130808,
          1.888763297,
          1.89480426,
          1.90097011,
          1.906725577,
          1.912673721,
          1.918488621,
          1.924239743,
          1.930046093,
          1.935505267,
          1.940700096,
          1.946061469,
          1.951161425,
          1.956535749,
          1.961555552,
          1.966274008,
          1.97104444,
          1.975880306,
          1.980461537,
          1.984859613,
          1.9888959,
          1.992979019,
          1.997389148,
          2.001348564,
          2.005398047,
          2.009323413,
          2.013027111,
          2.017125863,
          2.020268801,
          2.023727761,
          2.026918579,
          2.03020144,
          2.03355658,
          2.036402896,
          2.039124627,
          2.042139938,
          2.045045795,
          2.047492703,
          2.050331124,
          2.052398158
         ],
         "z": [
          1.663315363,
          1.725283169,
          1.787528407,
          1.847158525,
          1.905206374,
          1.962621095,
          2.018011494,
          2.071870368,
          2.128685277,
          2.180479559,
          2.231423086,
          2.283815007,
          2.332123005,
          2.380543158,
          2.428761292,
          2.477040442,
          2.52267226,
          2.567345376,
          2.610529204,
          2.654353508,
          2.696313595,
          2.738062297,
          2.777782304,
          2.818391955,
          2.856993851,
          2.89484806,
          2.931195412,
          2.967716724,
          3.004335503,
          3.037867094,
          3.072537353,
          3.104925483,
          3.138845823,
          3.16908327,
          3.200059008,
          3.23141663,
          3.26006668,
          3.287833439,
          3.314188522,
          3.341516884,
          3.368581757,
          3.39457368,
          3.417743887,
          3.438983323,
          3.464054372,
          3.482772817,
          3.504542874,
          3.525181657,
          3.544421356,
          3.562824673,
          3.579710712,
          3.596980397,
          3.610084708,
          3.625732922,
          3.637864544,
          3.650371352,
          3.66187482,
          3.671583395,
          3.68011856,
          3.688680726,
          3.694296805,
          3.699412055,
          3.702874694,
          3.70766408,
          3.709434894,
          3.708345198,
          3.707129404,
          3.702277432,
          3.701129371,
          3.695507393,
          3.686230113,
          3.67748781,
          3.668275785,
          3.657737136,
          3.641750979,
          3.629255005,
          3.611871403,
          3.590918656,
          3.571519052,
          3.548719059,
          3.521758199,
          3.499418535,
          3.470418585,
          3.438269287,
          3.406778598,
          3.369853718,
          3.333269883,
          3.295333554,
          3.254512002,
          3.20754851,
          3.158680081,
          3.111136576,
          3.061081424,
          3.003021543,
          2.94862269,
          2.887200748,
          2.824271759,
          2.757419348,
          2.688061071,
          2.616237467,
          2.539546235,
          2.460978166,
          2.382053479,
          2.297549946,
          2.206871067,
          2.115296403,
          2.018595719,
          1.920989077,
          1.81769491,
          1.709787104,
          1.598811238,
          1.486325379,
          1.366107884,
          1.243868079,
          1.115869942,
          0.985216636,
          0.849632777,
          0.708442643,
          0.563652952,
          0.414596587,
          0.260083451,
          0.100435248
         ]
        },
        {
         "marker": {
          "color": "red",
          "size": 2
         },
         "mode": "markers",
         "name": "Predicted Values (Random Forest)",
         "opacity": 0.7,
         "type": "scatter3d",
         "x": [
          4.076551399301902,
          4.151955475546383,
          4.227857342981838,
          4.301979918927041,
          4.376646628691927,
          4.4502169769653825,
          4.522697489262036,
          4.596375117880075,
          4.667935724383567,
          4.740497667808811,
          4.811307081044422,
          4.880974766902879,
          4.951374151187499,
          5.028750545948996,
          5.088993533459232,
          5.167092676814119,
          5.228267310565529,
          5.293509125651347,
          5.362471831178923,
          5.432108934226127,
          5.493916195836918,
          5.5474282286868615,
          5.635579569563173,
          5.682023532892547,
          5.747781976494456,
          5.813966687328997,
          5.878389466237586,
          5.929169402076368,
          6.000134593280746,
          6.084867391152179,
          6.136295578414374,
          6.180251686677002,
          6.214853190621898,
          6.295412226278379,
          6.372670533017077,
          6.415150068757595,
          6.464273070614788,
          6.543254023937723,
          6.6048201067962875,
          6.639470104408734,
          6.680820247870271,
          6.747681924146752,
          6.836335513703042,
          6.883132648985832,
          6.904504687932261,
          6.945765305803877,
          7.040406568193435,
          7.086053080841116,
          7.12923884655616,
          7.17375926513893,
          7.203780774989224,
          7.276405203220412,
          7.3376560276171965,
          7.352019789366619,
          7.387235850548121,
          7.431731600385407,
          7.530383555357873,
          7.596459617378827,
          7.627272112386205,
          7.648783111492309,
          7.6747615426718845,
          7.721694484964923,
          7.775616986056378,
          7.805343187390147,
          7.864412348716624,
          7.91591199576773,
          7.937622870124336,
          7.986062496819306,
          8.024985245234598,
          8.047774463711832,
          8.082751169661076,
          8.133499774524266,
          8.18286483089276,
          8.21568722001738,
          8.25722977674687,
          8.318785439917287,
          8.342995314508613,
          8.356842013115271,
          8.39655882489489,
          8.43655796664984,
          8.464249216286822,
          8.504415672768397,
          8.529783960570107,
          8.570211255466706,
          8.597747302056753,
          8.623066406572688,
          8.641919784871401,
          8.688861157707864,
          8.723467102671751,
          8.753690865544806,
          8.778853160849115,
          8.806252276008847,
          8.838083850154037,
          8.858023214297079,
          8.901256028286417,
          8.913078358879101,
          8.940793247794295,
          8.969641337188806,
          8.987255003107254,
          9.019371303146842,
          9.046422642563355,
          9.062820256439027,
          9.080633321382328,
          9.108997019041157,
          9.133638356014316,
          9.14587977500271,
          9.165706037580835,
          9.189294842023957,
          9.211923892308965,
          9.23436391376902,
          9.241647243672617,
          9.266720541127661,
          9.28374737758715,
          9.30181747974712,
          9.314222069453928,
          9.332191842338375,
          9.346566015430836,
          9.358713615437356,
          9.375490313404258,
          9.388638139887876,
          9.403282607511223,
          9.410474855609982
         ],
         "y": [
          1.0147320117519312,
          1.0269937071730475,
          1.0433757154501182,
          1.063780927928314,
          1.073653578221793,
          1.091702517054025,
          1.0995596448746423,
          1.1146409354737,
          1.1287091673335619,
          1.1437519883745357,
          1.17497373390371,
          1.1802971672416704,
          1.1950987903144812,
          1.2005609047480703,
          1.216288148136095,
          1.2431035450595282,
          1.2457801261639838,
          1.2544194302547604,
          1.2613846699498807,
          1.2805414194306337,
          1.2927985652148921,
          1.3023951140430305,
          1.3114563211293442,
          1.319147116014764,
          1.3360923014805366,
          1.3460931100271747,
          1.352779865326648,
          1.358165228453717,
          1.3806015790552542,
          1.399933792336034,
          1.402074449644152,
          1.4102167287010072,
          1.4207744724494091,
          1.433728577108457,
          1.442447405276118,
          1.45347817264957,
          1.4639576715584774,
          1.47075520359443,
          1.485247653297826,
          1.4875986275241166,
          1.4938067948331175,
          1.51562686883684,
          1.5305228944787697,
          1.541031055647285,
          1.5483881033791418,
          1.557338988750621,
          1.5810135231960547,
          1.5932154888756977,
          1.60729439546079,
          1.6095090724439023,
          1.6112444563155748,
          1.622174745228667,
          1.629849716435372,
          1.6356268954283393,
          1.64666509471397,
          1.6574335734144083,
          1.6798621488939707,
          1.700389102317743,
          1.7082837058191718,
          1.7120138378402965,
          1.7179110127063542,
          1.7265396483813042,
          1.7381084465889303,
          1.7443397257690372,
          1.7592317081284157,
          1.766488988776459,
          1.7646699932019771,
          1.7741767230453076,
          1.775808759913346,
          1.781304610923966,
          1.798504343189623,
          1.8170743933622557,
          1.8294839948223838,
          1.8332192383559556,
          1.8476585686576679,
          1.8596301369878292,
          1.8581031379443158,
          1.8612142116013677,
          1.8684847684459132,
          1.8691135361287818,
          1.8763663615534627,
          1.8913465012513984,
          1.897572006980754,
          1.898937799947887,
          1.9068206474427718,
          1.9092613805742655,
          1.9157979086943464,
          1.9354346996310188,
          1.9441009165870866,
          1.9496582777465414,
          1.9568730013983813,
          1.9585128589451382,
          1.964981985826183,
          1.9671500026733608,
          1.9820979093614723,
          1.9853608209119236,
          1.9801081880637361,
          1.9743497800684784,
          1.9724968751197742,
          1.9748543546980395,
          1.982642045141489,
          1.9837205341812865,
          1.988225617187377,
          1.9921585879794028,
          2.016200906036988,
          2.0300118992371066,
          2.038129182960437,
          2.0350629318477558,
          2.0201043027649446,
          2.0104628735977728,
          2.0041844864780156,
          1.990972181672733,
          1.9867693114570786,
          2.0184594119883896,
          2.0170391666827854,
          2.0311581518246773,
          2.036504043967579,
          2.037036488325294,
          2.0221201828143065,
          2.0466038023053184,
          2.0451186470739726,
          2.0403293301023195
         ],
         "z": [
          1.6639228611418657,
          1.725554217259628,
          1.7870479908564498,
          1.8468060325279743,
          1.9057842203115927,
          1.9627122066047342,
          2.018159935068593,
          2.073493996969174,
          2.127745001956845,
          2.181507977482227,
          2.2326131895716013,
          2.283340690260444,
          2.331890293424038,
          2.3867232202215884,
          2.4285817948266235,
          2.4818658319881974,
          2.522596521632252,
          2.5663072053363516,
          2.611983614001815,
          2.657798246941545,
          2.697381843885247,
          2.730802497734553,
          2.7855260753925255,
          2.8143704915484555,
          2.8549059208457463,
          2.8951113746840407,
          2.932858139901672,
          2.9622392448152395,
          3.0032489446742603,
          3.0516776744358243,
          3.0805235031564946,
          3.1048707529900788,
          3.123743587688341,
          3.1666109396216116,
          3.207354104202177,
          3.229457800078672,
          3.254199202263854,
          3.2934841842244937,
          3.32361755194046,
          3.34023345208472,
          3.359614242630913,
          3.3898758267986904,
          3.4292209432362544,
          3.449653463273308,
          3.458736781413281,
          3.475583171607253,
          3.5131131763825114,
          3.5309068362648692,
          3.547098488773633,
          3.5628873406050947,
          3.5730192782716315,
          3.5966095453467704,
          3.6156537169339793,
          3.619816612315221,
          3.6294028608263447,
          3.6402604269437195,
          3.6627942015526322,
          3.67713299886695,
          3.682974859727326,
          3.6865804346903714,
          3.690379645077905,
          3.695784552651619,
          3.7005970449312326,
          3.7027874270608607,
          3.7047005718708403,
          3.7048325227452277,
          3.70424611201189,
          3.701447388876691,
          3.6975782957239947,
          3.6945262274855617,
          3.687899852702598,
          3.677100829902906,
          3.66379489772582,
          3.6538367219598147,
          3.63845211964233,
          3.6134613608285866,
          3.6021594436531847,
          3.5947745307546137,
          3.5707231552059504,
          3.5444978599354475,
          3.5253744602742216,
          3.494067513366511,
          3.4725182833534474,
          3.4359758824817237,
          3.4076857352309293,
          3.379552143580708,
          3.3570824321926214,
          3.296424592088339,
          3.2495642520731667,
          3.205455927910375,
          3.1651734249903813,
          3.1177152494671496,
          3.059339787673943,
          3.0190274165956708,
          2.926844584406025,
          2.9000016077122357,
          2.83239539738547,
          2.756802516921941,
          2.707577555708259,
          2.611126898613333,
          2.526038556137021,
          2.469379726078185,
          2.4043786321303533,
          2.2943110183537687,
          2.193135436081181,
          2.1395551283353114,
          2.049035006187671,
          1.9322420052476148,
          1.8127888720461462,
          1.6880147217000927,
          1.6437959095589934,
          1.4838673911085565,
          1.3624088166694202,
          1.2305030172693292,
          1.1340624927820124,
          0.9795922073596033,
          0.8469739322559444,
          0.7314658364350966,
          0.5632164790038783,
          0.4163493597504072,
          0.24548661325614393,
          0.15200923959635174
         ]
        },
        {
         "marker": {
          "color": "green",
          "size": 2
         },
         "mode": "markers",
         "name": "Predicted Values (Extra Trees)",
         "opacity": 0.7,
         "type": "scatter3d",
         "x": [
          4.077225887999991,
          4.152487743349997,
          4.2292897390000075,
          4.299769205000005,
          4.377482691819993,
          4.450242414999995,
          4.522781275,
          4.596782837259993,
          4.668416885999992,
          4.739451772999996,
          4.81009495909999,
          4.8790441209999935,
          4.951046684999995,
          5.018960044999987,
          5.0886939499999935,
          5.159398941999997,
          5.226328406999994,
          5.292807799000001,
          5.36038729799999,
          5.42661030800001,
          5.490777245999994,
          5.557717907999986,
          5.623052125999999,
          5.68627756199999,
          5.749634521600001,
          5.810937803999995,
          5.877532087000003,
          5.940678785999998,
          6.001194701999995,
          6.0602589059999925,
          6.122056883000016,
          6.180852644000005,
          6.238652398999992,
          6.30166256767,
          6.357648731999996,
          6.417451680999992,
          6.471872609999994,
          6.530785355000001,
          6.586651419999995,
          6.642823650000001,
          6.696975017999993,
          6.750471557999994,
          6.806713849609999,
          6.862132671999998,
          6.911971083000015,
          6.96446498900001,
          7.018384200179998,
          7.069067719,
          7.118420007000014,
          7.170349812999999,
          7.220859924000013,
          7.268631473000017,
          7.318834676000012,
          7.365220683999988,
          7.414823969000015,
          7.471474095990012,
          7.528156961260012,
          7.555323827000015,
          7.601595568999991,
          7.646737571000009,
          7.68990541100001,
          7.733300359000017,
          7.7799407659999895,
          7.81694635246,
          7.863732127000013,
          7.905510084999983,
          7.948107054000014,
          7.988384509999983,
          8.028070638000004,
          8.066395631999994,
          8.104238095189993,
          8.14509754899999,
          8.177606105759992,
          8.224172958459999,
          8.269287725829999,
          8.296613363000004,
          8.333329253999985,
          8.36899059999999,
          8.403264523999985,
          8.438932011000013,
          8.470539411000003,
          8.506441907999976,
          8.538169593000013,
          8.572290791,
          8.603368849000017,
          8.635089398999988,
          8.664698709000016,
          8.690612206220012,
          8.728171867940008,
          8.754801283000004,
          8.784672365000004,
          8.812757379000002,
          8.839482458000013,
          8.867064327999994,
          8.893301328999998,
          8.92094982799998,
          8.946774477999982,
          8.971048826000013,
          8.99559057500002,
          9.018028552830003,
          9.044037335999981,
          9.066663479,
          9.087428372999991,
          9.10843420200001,
          9.131122348999982,
          9.151491776000025,
          9.17232456099999,
          9.19095359918,
          9.214840422409994,
          9.232658941999976,
          9.24984056248,
          9.266622761999999,
          9.284646597300014,
          9.299926955000016,
          9.317187655999989,
          9.331830682000009,
          9.345832774999987,
          9.361345205000013,
          9.376294540000002,
          9.388882792999995,
          9.403485201999986,
          9.414119170000019
         ],
         "y": [
          1.0150111920000018,
          1.0294737015999997,
          1.0445694099999983,
          1.058269230999998,
          1.0746394795800018,
          1.087518259999999,
          1.1016183859999986,
          1.1169066515400021,
          1.1299270810000015,
          1.1437348639999985,
          1.15723327188,
          1.1708688679999997,
          1.1848647489999993,
          1.1980657680000026,
          1.2116206660000015,
          1.2253643250000008,
          1.2383740949999982,
          1.2512963799999997,
          1.264432502999998,
          1.2773049529999987,
          1.2897777419999985,
          1.3027896880000014,
          1.315489373999998,
          1.327779153999999,
          1.3338546082000002,
          1.3520106499999986,
          1.3649552669999994,
          1.3772297419999981,
          1.394645499830001,
          1.400473762999998,
          1.4124860729999975,
          1.4239148110000022,
          1.4351499450000031,
          1.4471172065700006,
          1.4582804890000025,
          1.469905004999999,
          1.4804833620000009,
          1.4919348399999992,
          1.5027941030000016,
          1.5137128780000038,
          1.5242388380000016,
          1.5346375120000002,
          1.5533393298800005,
          1.556342233,
          1.566029839,
          1.576233621,
          1.5720712220500002,
          1.596566332,
          1.606159445000002,
          1.616253577,
          1.626071747999998,
          1.6353575960000029,
          1.6451161100000027,
          1.6541326370000027,
          1.6637745390000014,
          1.6768349849400008,
          1.6922335656200003,
          1.6910849440000006,
          1.7000792599999976,
          1.708853976,
          1.7172449539999972,
          1.7256800780000006,
          1.734746054999998,
          1.737127088629998,
          1.7510334449999987,
          1.7591542579999975,
          1.7674342699999976,
          1.7752634139999968,
          1.782977616000001,
          1.7904272400000039,
          1.7963052838100035,
          1.8057253430000033,
          1.8189363181700011,
          1.831164797490001,
          1.828311668249999,
          1.835177033999998,
          1.8423138800000038,
          1.8492457440000007,
          1.8559079190000027,
          1.8628409769999983,
          1.8689848330000034,
          1.875963571,
          1.8821308079999997,
          1.8887632969999977,
          1.8948042600000006,
          1.9009701100000023,
          1.9067255770000024,
          1.9101488271600013,
          1.9123093853399993,
          1.9242397429999962,
          1.9300460929999965,
          1.935505266999997,
          1.9407000960000003,
          1.946061469,
          1.951161425000002,
          1.9565357490000022,
          1.9615555519999952,
          1.9662740079999994,
          1.9710444400000051,
          1.9818505568699987,
          1.9804615369999972,
          1.9848596129999982,
          1.988895899999997,
          1.9929790189999976,
          1.997389147999997,
          2.001348564000003,
          2.005398047,
          1.976294649079999,
          1.9753912665799986,
          2.0171258629999973,
          2.016918711760002,
          2.023727761000003,
          1.986373437940002,
          2.0302014400000044,
          2.0335565800000026,
          2.036402895999999,
          2.0391246270000045,
          2.042139937999998,
          2.045045794999995,
          2.0474927029999974,
          2.0503311239999977,
          2.052398157999997
         ],
         "z": [
          1.6633153630000006,
          1.7259938344499985,
          1.7875284069999973,
          1.8471585249999982,
          1.9062455795800006,
          1.9626210950000023,
          2.0180114940000045,
          2.073145830099995,
          2.1286852769999967,
          2.1804795589999975,
          2.231165865210001,
          2.283815006999995,
          2.332123005,
          2.3805431579999965,
          2.428761291999996,
          2.477040442000003,
          2.5226722600000056,
          2.5673453759999973,
          2.6105292039999948,
          2.6543535079999923,
          2.6963135949999977,
          2.7380622969999995,
          2.777782304000001,
          2.818391955000002,
          2.8563872255999985,
          2.8948480599999966,
          2.9311954119999992,
          2.967716724000007,
          3.00333975455,
          3.0378670940000005,
          3.072537352999996,
          3.104925482999994,
          3.1388458229999974,
          3.17000048363,
          3.200059008,
          3.2314166300000067,
          3.2600666800000018,
          3.287833438999997,
          3.3141885219999963,
          3.3415168839999922,
          3.368581756999999,
          3.3945736800000037,
          3.415742721910002,
          3.4389833230000018,
          3.464054372000004,
          3.482772817000006,
          3.5054389799200014,
          3.5251816570000023,
          3.544421355999992,
          3.5628246730000033,
          3.579710712000004,
          3.596980396999998,
          3.6100847079999934,
          3.625732921999998,
          3.6378645440000055,
          3.6517746906400044,
          3.6655156641800057,
          3.671583395000008,
          3.680118559999998,
          3.6886807259999923,
          3.694296805000003,
          3.6994120549999976,
          3.7028746940000015,
          3.7060315709300027,
          3.7094348940000064,
          3.708345198000002,
          3.707129404,
          3.702277432000001,
          3.701129370999995,
          3.6955073930000086,
          3.6868548462700064,
          3.677487810000002,
          3.668252132130001,
          3.654391145170004,
          3.6388172304800026,
          3.629255005000003,
          3.611871403000005,
          3.590918656000001,
          3.5715190520000006,
          3.548719059000005,
          3.5217581989999953,
          3.499418535000002,
          3.470418585000003,
          3.4382692870000047,
          3.4067785980000003,
          3.369853718000001,
          3.3332698830000083,
          3.298712651880005,
          3.2460662999100003,
          3.207548509999999,
          3.158680081,
          3.1111365760000007,
          3.0610814240000037,
          3.0030215429999942,
          2.948622689999999,
          2.8872007479999984,
          2.824271758999999,
          2.757419348000005,
          2.6880610709999946,
          2.619797207129996,
          2.5395462349999955,
          2.4609781659999954,
          2.382053479000005,
          2.2975499460000033,
          2.2068710670000025,
          2.1152964030000017,
          2.0185957189999972,
          1.9292522148999993,
          1.804251691089998,
          1.7097871039999963,
          1.5948332210199996,
          1.4863253789999962,
          1.3562568071100005,
          1.2438680789999979,
          1.1158699420000024,
          0.9852166360000005,
          0.8496327769999978,
          0.7084426429999993,
          0.5636529519999987,
          0.4145965869999991,
          0.2600834509999999,
          0.1004352480000001
         ]
        },
        {
         "line": {
          "color": "black",
          "width": 1
         },
         "mode": "lines",
         "name": "Court Boundaries",
         "type": "scatter3d",
         "x": [
          0,
          13.4,
          13.4,
          0,
          0
         ],
         "y": [
          0,
          0,
          5.18,
          5.18,
          0
         ],
         "z": [
          0,
          0,
          0,
          0,
          0
         ]
        },
        {
         "line": {
          "color": "black",
          "width": 1
         },
         "mode": "lines",
         "name": "Center Line",
         "type": "scatter3d",
         "x": [
          0,
          4.68,
          4.68,
          0,
          0
         ],
         "y": [
          2.59,
          2.59,
          2.59,
          2.59,
          2.59
         ],
         "z": [
          0,
          0,
          0,
          0,
          0
         ]
        },
        {
         "line": {
          "color": "black",
          "width": 1
         },
         "mode": "lines",
         "name": "Center Line",
         "type": "scatter3d",
         "x": [
          8.72,
          13.4
         ],
         "y": [
          2.59,
          2.59
         ],
         "z": [
          0,
          0,
          0,
          0,
          0
         ]
        },
        {
         "line": {
          "color": "black",
          "width": 1
         },
         "mode": "lines",
         "name": "Short Service Lines",
         "type": "scatter3d",
         "x": [
          4.72,
          4.72
         ],
         "y": [
          0,
          5.18
         ],
         "z": [
          0,
          0
         ]
        },
        {
         "line": {
          "color": "black",
          "width": 1
         },
         "mode": "lines",
         "name": "Short Service Lines",
         "type": "scatter3d",
         "x": [
          8.680000000000001,
          8.680000000000001
         ],
         "y": [
          0,
          5.18
         ],
         "z": [
          0,
          0
         ]
        },
        {
         "line": {
          "color": "red",
          "width": 1
         },
         "mode": "lines",
         "name": "Net",
         "type": "scatter3d",
         "x": [
          6.7,
          6.7
         ],
         "y": [
          0,
          5.18
         ],
         "z": [
          1.55,
          1.55
         ]
        },
        {
         "line": {
          "color": "green",
          "width": 5
         },
         "marker": {
          "color": "cyan",
          "line": {
           "color": "black",
           "width": 4
          },
          "size": 10,
          "symbol": "cross"
         },
         "mode": "lines+markers",
         "name": "Predicted Position",
         "opacity": 1,
         "type": "scatter3d",
         "x": [
          9.412297012805
         ],
         "y": [
          2.046363744051158
         ],
         "z": [
          0.12622224379817593
         ]
        },
        {
         "line": {
          "color": "green",
          "width": 5
         },
         "marker": {
          "color": "cyan",
          "line": {
           "color": "black",
           "width": 4
          },
          "size": 6,
          "symbol": "diamond"
         },
         "mode": "lines+markers",
         "name": "Average Highest XYZ-point",
         "opacity": 1,
         "type": "scatter3d",
         "x": [
          7.889822061383871
         ],
         "y": [
          1.758761216888229
         ],
         "z": [
          3.7071337083726172
         ]
        },
        {
         "marker": {
          "color": "blue",
          "size": 10
         },
         "mode": "markers",
         "name": "Initial Starting Point (Hit)",
         "opacity": 1,
         "type": "scatter3d",
         "x": [
          9.644613689084807
         ],
         "y": [
          2.630724523049023
         ],
         "z": [
          1.115
         ]
        },
        {
         "marker": {
          "color": "blue",
          "size": 10
         },
         "mode": "markers",
         "name": "Initial Starting Point (Hit)",
         "opacity": 1,
         "type": "scatter3d",
         "x": [
          9.946932492656883
         ],
         "y": [
          1.4628170581727558
         ],
         "z": [
          1.115
         ]
        },
        {
         "marker": {
          "color": "blue",
          "size": 10
         },
         "mode": "markers",
         "name": "Initial Starting Point (Hit)",
         "opacity": 1,
         "type": "scatter3d",
         "x": [
          11.038622230757376
         ],
         "y": [
          4.294540234518766
         ],
         "z": [
          1.115
         ]
        },
        {
         "marker": {
          "color": "green",
          "size": 10
         },
         "mode": "markers",
         "name": "Point to Hit the Ball",
         "opacity": 1,
         "type": "scatter3d",
         "x": [
          9.616297012805001
         ],
         "y": [
          2.276363744051158
         ],
         "z": [
          1.115
         ]
        }
       ],
       "layout": {
        "scene": {
         "aspectmode": "manual",
         "aspectratio": {
          "x": 1,
          "y": 1,
          "z": 1
         },
         "xaxis": {
          "range": [
           -4,
           18
          ],
          "title": {
           "text": "X-coordinate"
          }
         },
         "yaxis": {
          "range": [
           -2,
           7
          ],
          "title": {
           "text": "Y-coordinate"
          }
         },
         "zaxis": {
          "range": [
           0,
           12
          ],
          "title": {
           "text": "Z-coordinate"
          }
         }
        },
        "template": {
         "data": {
          "bar": [
           {
            "error_x": {
             "color": "#2a3f5f"
            },
            "error_y": {
             "color": "#2a3f5f"
            },
            "marker": {
             "line": {
              "color": "#E5ECF6",
              "width": 0.5
             },
             "pattern": {
              "fillmode": "overlay",
              "size": 10,
              "solidity": 0.2
             }
            },
            "type": "bar"
           }
          ],
          "barpolar": [
           {
            "marker": {
             "line": {
              "color": "#E5ECF6",
              "width": 0.5
             },
             "pattern": {
              "fillmode": "overlay",
              "size": 10,
              "solidity": 0.2
             }
            },
            "type": "barpolar"
           }
          ],
          "carpet": [
           {
            "aaxis": {
             "endlinecolor": "#2a3f5f",
             "gridcolor": "white",
             "linecolor": "white",
             "minorgridcolor": "white",
             "startlinecolor": "#2a3f5f"
            },
            "baxis": {
             "endlinecolor": "#2a3f5f",
             "gridcolor": "white",
             "linecolor": "white",
             "minorgridcolor": "white",
             "startlinecolor": "#2a3f5f"
            },
            "type": "carpet"
           }
          ],
          "choropleth": [
           {
            "colorbar": {
             "outlinewidth": 0,
             "ticks": ""
            },
            "type": "choropleth"
           }
          ],
          "contour": [
           {
            "colorbar": {
             "outlinewidth": 0,
             "ticks": ""
            },
            "colorscale": [
             [
              0,
              "#0d0887"
             ],
             [
              0.1111111111111111,
              "#46039f"
             ],
             [
              0.2222222222222222,
              "#7201a8"
             ],
             [
              0.3333333333333333,
              "#9c179e"
             ],
             [
              0.4444444444444444,
              "#bd3786"
             ],
             [
              0.5555555555555556,
              "#d8576b"
             ],
             [
              0.6666666666666666,
              "#ed7953"
             ],
             [
              0.7777777777777778,
              "#fb9f3a"
             ],
             [
              0.8888888888888888,
              "#fdca26"
             ],
             [
              1,
              "#f0f921"
             ]
            ],
            "type": "contour"
           }
          ],
          "contourcarpet": [
           {
            "colorbar": {
             "outlinewidth": 0,
             "ticks": ""
            },
            "type": "contourcarpet"
           }
          ],
          "heatmap": [
           {
            "colorbar": {
             "outlinewidth": 0,
             "ticks": ""
            },
            "colorscale": [
             [
              0,
              "#0d0887"
             ],
             [
              0.1111111111111111,
              "#46039f"
             ],
             [
              0.2222222222222222,
              "#7201a8"
             ],
             [
              0.3333333333333333,
              "#9c179e"
             ],
             [
              0.4444444444444444,
              "#bd3786"
             ],
             [
              0.5555555555555556,
              "#d8576b"
             ],
             [
              0.6666666666666666,
              "#ed7953"
             ],
             [
              0.7777777777777778,
              "#fb9f3a"
             ],
             [
              0.8888888888888888,
              "#fdca26"
             ],
             [
              1,
              "#f0f921"
             ]
            ],
            "type": "heatmap"
           }
          ],
          "heatmapgl": [
           {
            "colorbar": {
             "outlinewidth": 0,
             "ticks": ""
            },
            "colorscale": [
             [
              0,
              "#0d0887"
             ],
             [
              0.1111111111111111,
              "#46039f"
             ],
             [
              0.2222222222222222,
              "#7201a8"
             ],
             [
              0.3333333333333333,
              "#9c179e"
             ],
             [
              0.4444444444444444,
              "#bd3786"
             ],
             [
              0.5555555555555556,
              "#d8576b"
             ],
             [
              0.6666666666666666,
              "#ed7953"
             ],
             [
              0.7777777777777778,
              "#fb9f3a"
             ],
             [
              0.8888888888888888,
              "#fdca26"
             ],
             [
              1,
              "#f0f921"
             ]
            ],
            "type": "heatmapgl"
           }
          ],
          "histogram": [
           {
            "marker": {
             "pattern": {
              "fillmode": "overlay",
              "size": 10,
              "solidity": 0.2
             }
            },
            "type": "histogram"
           }
          ],
          "histogram2d": [
           {
            "colorbar": {
             "outlinewidth": 0,
             "ticks": ""
            },
            "colorscale": [
             [
              0,
              "#0d0887"
             ],
             [
              0.1111111111111111,
              "#46039f"
             ],
             [
              0.2222222222222222,
              "#7201a8"
             ],
             [
              0.3333333333333333,
              "#9c179e"
             ],
             [
              0.4444444444444444,
              "#bd3786"
             ],
             [
              0.5555555555555556,
              "#d8576b"
             ],
             [
              0.6666666666666666,
              "#ed7953"
             ],
             [
              0.7777777777777778,
              "#fb9f3a"
             ],
             [
              0.8888888888888888,
              "#fdca26"
             ],
             [
              1,
              "#f0f921"
             ]
            ],
            "type": "histogram2d"
           }
          ],
          "histogram2dcontour": [
           {
            "colorbar": {
             "outlinewidth": 0,
             "ticks": ""
            },
            "colorscale": [
             [
              0,
              "#0d0887"
             ],
             [
              0.1111111111111111,
              "#46039f"
             ],
             [
              0.2222222222222222,
              "#7201a8"
             ],
             [
              0.3333333333333333,
              "#9c179e"
             ],
             [
              0.4444444444444444,
              "#bd3786"
             ],
             [
              0.5555555555555556,
              "#d8576b"
             ],
             [
              0.6666666666666666,
              "#ed7953"
             ],
             [
              0.7777777777777778,
              "#fb9f3a"
             ],
             [
              0.8888888888888888,
              "#fdca26"
             ],
             [
              1,
              "#f0f921"
             ]
            ],
            "type": "histogram2dcontour"
           }
          ],
          "mesh3d": [
           {
            "colorbar": {
             "outlinewidth": 0,
             "ticks": ""
            },
            "type": "mesh3d"
           }
          ],
          "parcoords": [
           {
            "line": {
             "colorbar": {
              "outlinewidth": 0,
              "ticks": ""
             }
            },
            "type": "parcoords"
           }
          ],
          "pie": [
           {
            "automargin": true,
            "type": "pie"
           }
          ],
          "scatter": [
           {
            "fillpattern": {
             "fillmode": "overlay",
             "size": 10,
             "solidity": 0.2
            },
            "type": "scatter"
           }
          ],
          "scatter3d": [
           {
            "line": {
             "colorbar": {
              "outlinewidth": 0,
              "ticks": ""
             }
            },
            "marker": {
             "colorbar": {
              "outlinewidth": 0,
              "ticks": ""
             }
            },
            "type": "scatter3d"
           }
          ],
          "scattercarpet": [
           {
            "marker": {
             "colorbar": {
              "outlinewidth": 0,
              "ticks": ""
             }
            },
            "type": "scattercarpet"
           }
          ],
          "scattergeo": [
           {
            "marker": {
             "colorbar": {
              "outlinewidth": 0,
              "ticks": ""
             }
            },
            "type": "scattergeo"
           }
          ],
          "scattergl": [
           {
            "marker": {
             "colorbar": {
              "outlinewidth": 0,
              "ticks": ""
             }
            },
            "type": "scattergl"
           }
          ],
          "scattermapbox": [
           {
            "marker": {
             "colorbar": {
              "outlinewidth": 0,
              "ticks": ""
             }
            },
            "type": "scattermapbox"
           }
          ],
          "scatterpolar": [
           {
            "marker": {
             "colorbar": {
              "outlinewidth": 0,
              "ticks": ""
             }
            },
            "type": "scatterpolar"
           }
          ],
          "scatterpolargl": [
           {
            "marker": {
             "colorbar": {
              "outlinewidth": 0,
              "ticks": ""
             }
            },
            "type": "scatterpolargl"
           }
          ],
          "scatterternary": [
           {
            "marker": {
             "colorbar": {
              "outlinewidth": 0,
              "ticks": ""
             }
            },
            "type": "scatterternary"
           }
          ],
          "surface": [
           {
            "colorbar": {
             "outlinewidth": 0,
             "ticks": ""
            },
            "colorscale": [
             [
              0,
              "#0d0887"
             ],
             [
              0.1111111111111111,
              "#46039f"
             ],
             [
              0.2222222222222222,
              "#7201a8"
             ],
             [
              0.3333333333333333,
              "#9c179e"
             ],
             [
              0.4444444444444444,
              "#bd3786"
             ],
             [
              0.5555555555555556,
              "#d8576b"
             ],
             [
              0.6666666666666666,
              "#ed7953"
             ],
             [
              0.7777777777777778,
              "#fb9f3a"
             ],
             [
              0.8888888888888888,
              "#fdca26"
             ],
             [
              1,
              "#f0f921"
             ]
            ],
            "type": "surface"
           }
          ],
          "table": [
           {
            "cells": {
             "fill": {
              "color": "#EBF0F8"
             },
             "line": {
              "color": "white"
             }
            },
            "header": {
             "fill": {
              "color": "#C8D4E3"
             },
             "line": {
              "color": "white"
             }
            },
            "type": "table"
           }
          ]
         },
         "layout": {
          "annotationdefaults": {
           "arrowcolor": "#2a3f5f",
           "arrowhead": 0,
           "arrowwidth": 1
          },
          "autotypenumbers": "strict",
          "coloraxis": {
           "colorbar": {
            "outlinewidth": 0,
            "ticks": ""
           }
          },
          "colorscale": {
           "diverging": [
            [
             0,
             "#8e0152"
            ],
            [
             0.1,
             "#c51b7d"
            ],
            [
             0.2,
             "#de77ae"
            ],
            [
             0.3,
             "#f1b6da"
            ],
            [
             0.4,
             "#fde0ef"
            ],
            [
             0.5,
             "#f7f7f7"
            ],
            [
             0.6,
             "#e6f5d0"
            ],
            [
             0.7,
             "#b8e186"
            ],
            [
             0.8,
             "#7fbc41"
            ],
            [
             0.9,
             "#4d9221"
            ],
            [
             1,
             "#276419"
            ]
           ],
           "sequential": [
            [
             0,
             "#0d0887"
            ],
            [
             0.1111111111111111,
             "#46039f"
            ],
            [
             0.2222222222222222,
             "#7201a8"
            ],
            [
             0.3333333333333333,
             "#9c179e"
            ],
            [
             0.4444444444444444,
             "#bd3786"
            ],
            [
             0.5555555555555556,
             "#d8576b"
            ],
            [
             0.6666666666666666,
             "#ed7953"
            ],
            [
             0.7777777777777778,
             "#fb9f3a"
            ],
            [
             0.8888888888888888,
             "#fdca26"
            ],
            [
             1,
             "#f0f921"
            ]
           ],
           "sequentialminus": [
            [
             0,
             "#0d0887"
            ],
            [
             0.1111111111111111,
             "#46039f"
            ],
            [
             0.2222222222222222,
             "#7201a8"
            ],
            [
             0.3333333333333333,
             "#9c179e"
            ],
            [
             0.4444444444444444,
             "#bd3786"
            ],
            [
             0.5555555555555556,
             "#d8576b"
            ],
            [
             0.6666666666666666,
             "#ed7953"
            ],
            [
             0.7777777777777778,
             "#fb9f3a"
            ],
            [
             0.8888888888888888,
             "#fdca26"
            ],
            [
             1,
             "#f0f921"
            ]
           ]
          },
          "colorway": [
           "#636efa",
           "#EF553B",
           "#00cc96",
           "#ab63fa",
           "#FFA15A",
           "#19d3f3",
           "#FF6692",
           "#B6E880",
           "#FF97FF",
           "#FECB52"
          ],
          "font": {
           "color": "#2a3f5f"
          },
          "geo": {
           "bgcolor": "white",
           "lakecolor": "white",
           "landcolor": "#E5ECF6",
           "showlakes": true,
           "showland": true,
           "subunitcolor": "white"
          },
          "hoverlabel": {
           "align": "left"
          },
          "hovermode": "closest",
          "mapbox": {
           "style": "light"
          },
          "paper_bgcolor": "white",
          "plot_bgcolor": "#E5ECF6",
          "polar": {
           "angularaxis": {
            "gridcolor": "white",
            "linecolor": "white",
            "ticks": ""
           },
           "bgcolor": "#E5ECF6",
           "radialaxis": {
            "gridcolor": "white",
            "linecolor": "white",
            "ticks": ""
           }
          },
          "scene": {
           "xaxis": {
            "backgroundcolor": "#E5ECF6",
            "gridcolor": "white",
            "gridwidth": 2,
            "linecolor": "white",
            "showbackground": true,
            "ticks": "",
            "zerolinecolor": "white"
           },
           "yaxis": {
            "backgroundcolor": "#E5ECF6",
            "gridcolor": "white",
            "gridwidth": 2,
            "linecolor": "white",
            "showbackground": true,
            "ticks": "",
            "zerolinecolor": "white"
           },
           "zaxis": {
            "backgroundcolor": "#E5ECF6",
            "gridcolor": "white",
            "gridwidth": 2,
            "linecolor": "white",
            "showbackground": true,
            "ticks": "",
            "zerolinecolor": "white"
           }
          },
          "shapedefaults": {
           "line": {
            "color": "#2a3f5f"
           }
          },
          "ternary": {
           "aaxis": {
            "gridcolor": "white",
            "linecolor": "white",
            "ticks": ""
           },
           "baxis": {
            "gridcolor": "white",
            "linecolor": "white",
            "ticks": ""
           },
           "bgcolor": "#E5ECF6",
           "caxis": {
            "gridcolor": "white",
            "linecolor": "white",
            "ticks": ""
           }
          },
          "title": {
           "x": 0.05
          },
          "xaxis": {
           "automargin": true,
           "gridcolor": "white",
           "linecolor": "white",
           "ticks": "",
           "title": {
            "standoff": 15
           },
           "zerolinecolor": "white",
           "zerolinewidth": 2
          },
          "yaxis": {
           "automargin": true,
           "gridcolor": "white",
           "linecolor": "white",
           "ticks": "",
           "title": {
            "standoff": 15
           },
           "zerolinecolor": "white",
           "zerolinewidth": 2
          }
         }
        },
        "title": {
         "text": "Shuttlecock Trajectory Estimation"
        }
       }
      },
      "text/html": [
       "<div>                            <div id=\"3e854a71-9730-4959-8a97-be27c79a07c7\" class=\"plotly-graph-div\" style=\"height:525px; width:100%;\"></div>            <script type=\"text/javascript\">                require([\"plotly\"], function(Plotly) {                    window.PLOTLYENV=window.PLOTLYENV || {};                                    if (document.getElementById(\"3e854a71-9730-4959-8a97-be27c79a07c7\")) {                    Plotly.newPlot(                        \"3e854a71-9730-4959-8a97-be27c79a07c7\",                        [{\"marker\":{\"color\":\"blue\",\"size\":2},\"mode\":\"markers\",\"name\":\"True Values\",\"opacity\":0.7,\"x\":[4.077225888,4.152879189,4.229289739,4.299769205,4.375008411,4.450242415,4.522781275,4.595843438,4.668416886,4.739451773,4.810496073,4.879044121,4.951046685,5.018960045,5.08869395,5.159398942,5.226328407,5.292807799,5.360387298,5.426610308,5.490777246,5.557717908,5.623052126,5.686277562,5.748577077,5.810937804,5.877532087,5.940678786,5.998053067,6.060258906,6.122056883,6.180852644,6.238652399,6.299953168,6.357648732,6.417451681,6.47187261,6.530785355,6.58665142,6.64282365,6.696975018,6.750471558,6.80767238,6.862132672,6.911971083,6.964464989,7.017079193,7.069067719,7.118420007,7.170349813,7.220859924,7.268631473,7.318834676,7.365220684,7.414823969,7.461623643,7.508980634,7.555323827,7.601595569,7.646737571,7.689905411,7.733300359,7.779940766,7.820641516,7.863732127,7.905510085,7.948107054,7.98838451,8.028070638,8.066395632,8.107470961,8.145097549,8.18428069,8.2232621,8.259426439,8.296613363,8.333329254,8.3689906,8.403264524,8.438932011,8.470539411,8.506441908,8.538169593,8.572290791,8.603368849,8.635089399,8.664698709,8.695299255,8.725214324,8.754801283,8.784672365,8.812757379,8.839482458,8.867064328,8.893301329,8.920949828,8.946774478,8.971048826,8.995590575,9.020468946,9.044037336,9.066663479,9.087428373,9.108434202,9.131122349,9.151491776,9.172324561,9.192518817,9.211572691,9.232658942,9.248827959,9.266622762,9.283038097,9.299926955,9.317187656,9.331830682,9.345832775,9.361345205,9.37629454,9.388882793,9.403485202,9.41411917],\"y\":[1.015011192,1.029716704,1.04456941,1.058269231,1.072894251,1.08751826,1.101618386,1.115820232,1.129927081,1.143734864,1.157544477,1.170868868,1.184864749,1.198065768,1.211620666,1.225364325,1.238374095,1.25129638,1.264432503,1.277304953,1.289777742,1.302789688,1.315489374,1.327779154,1.339888953,1.35201065,1.364955267,1.377229742,1.388382173,1.400473763,1.412486073,1.423914811,1.435149945,1.447065608,1.458280489,1.469905005,1.480483362,1.49193484,1.502794103,1.513712878,1.524238838,1.534637512,1.545756225,1.556342233,1.566029839,1.576233621,1.586460786,1.596566332,1.606159445,1.616253577,1.626071748,1.635357596,1.64511611,1.654132637,1.663774539,1.672871474,1.68207674,1.691084944,1.70007926,1.708853976,1.717244954,1.725680078,1.734746055,1.742657479,1.751033445,1.759154258,1.76743427,1.775263414,1.782977616,1.79042724,1.798411475,1.805725343,1.813341774,1.820918993,1.827948628,1.835177034,1.84231388,1.849245744,1.855907919,1.862840977,1.868984833,1.875963571,1.882130808,1.888763297,1.89480426,1.90097011,1.906725577,1.912673721,1.918488621,1.924239743,1.930046093,1.935505267,1.940700096,1.946061469,1.951161425,1.956535749,1.961555552,1.966274008,1.97104444,1.975880306,1.980461537,1.984859613,1.9888959,1.992979019,1.997389148,2.001348564,2.005398047,2.009323413,2.013027111,2.017125863,2.020268801,2.023727761,2.026918579,2.03020144,2.03355658,2.036402896,2.039124627,2.042139938,2.045045795,2.047492703,2.050331124,2.052398158],\"z\":[1.663315363,1.725283169,1.787528407,1.847158525,1.905206374,1.962621095,2.018011494,2.071870368,2.128685277,2.180479559,2.231423086,2.283815007,2.332123005,2.380543158,2.428761292,2.477040442,2.52267226,2.567345376,2.610529204,2.654353508,2.696313595,2.738062297,2.777782304,2.818391955,2.856993851,2.89484806,2.931195412,2.967716724,3.004335503,3.037867094,3.072537353,3.104925483,3.138845823,3.16908327,3.200059008,3.23141663,3.26006668,3.287833439,3.314188522,3.341516884,3.368581757,3.39457368,3.417743887,3.438983323,3.464054372,3.482772817,3.504542874,3.525181657,3.544421356,3.562824673,3.579710712,3.596980397,3.610084708,3.625732922,3.637864544,3.650371352,3.66187482,3.671583395,3.68011856,3.688680726,3.694296805,3.699412055,3.702874694,3.70766408,3.709434894,3.708345198,3.707129404,3.702277432,3.701129371,3.695507393,3.686230113,3.67748781,3.668275785,3.657737136,3.641750979,3.629255005,3.611871403,3.590918656,3.571519052,3.548719059,3.521758199,3.499418535,3.470418585,3.438269287,3.406778598,3.369853718,3.333269883,3.295333554,3.254512002,3.20754851,3.158680081,3.111136576,3.061081424,3.003021543,2.94862269,2.887200748,2.824271759,2.757419348,2.688061071,2.616237467,2.539546235,2.460978166,2.382053479,2.297549946,2.206871067,2.115296403,2.018595719,1.920989077,1.81769491,1.709787104,1.598811238,1.486325379,1.366107884,1.243868079,1.115869942,0.985216636,0.849632777,0.708442643,0.563652952,0.414596587,0.260083451,0.100435248],\"type\":\"scatter3d\"},{\"marker\":{\"color\":\"red\",\"size\":2},\"mode\":\"markers\",\"name\":\"Predicted Values (Random Forest)\",\"opacity\":0.7,\"x\":[4.076551399301902,4.151955475546383,4.227857342981838,4.301979918927041,4.376646628691927,4.4502169769653825,4.522697489262036,4.596375117880075,4.667935724383567,4.740497667808811,4.811307081044422,4.880974766902879,4.951374151187499,5.028750545948996,5.088993533459232,5.167092676814119,5.228267310565529,5.293509125651347,5.362471831178923,5.432108934226127,5.493916195836918,5.5474282286868615,5.635579569563173,5.682023532892547,5.747781976494456,5.813966687328997,5.878389466237586,5.929169402076368,6.000134593280746,6.084867391152179,6.136295578414374,6.180251686677002,6.214853190621898,6.295412226278379,6.372670533017077,6.415150068757595,6.464273070614788,6.543254023937723,6.6048201067962875,6.639470104408734,6.680820247870271,6.747681924146752,6.836335513703042,6.883132648985832,6.904504687932261,6.945765305803877,7.040406568193435,7.086053080841116,7.12923884655616,7.17375926513893,7.203780774989224,7.276405203220412,7.3376560276171965,7.352019789366619,7.387235850548121,7.431731600385407,7.530383555357873,7.596459617378827,7.627272112386205,7.648783111492309,7.6747615426718845,7.721694484964923,7.775616986056378,7.805343187390147,7.864412348716624,7.91591199576773,7.937622870124336,7.986062496819306,8.024985245234598,8.047774463711832,8.082751169661076,8.133499774524266,8.18286483089276,8.21568722001738,8.25722977674687,8.318785439917287,8.342995314508613,8.356842013115271,8.39655882489489,8.43655796664984,8.464249216286822,8.504415672768397,8.529783960570107,8.570211255466706,8.597747302056753,8.623066406572688,8.641919784871401,8.688861157707864,8.723467102671751,8.753690865544806,8.778853160849115,8.806252276008847,8.838083850154037,8.858023214297079,8.901256028286417,8.913078358879101,8.940793247794295,8.969641337188806,8.987255003107254,9.019371303146842,9.046422642563355,9.062820256439027,9.080633321382328,9.108997019041157,9.133638356014316,9.14587977500271,9.165706037580835,9.189294842023957,9.211923892308965,9.23436391376902,9.241647243672617,9.266720541127661,9.28374737758715,9.30181747974712,9.314222069453928,9.332191842338375,9.346566015430836,9.358713615437356,9.375490313404258,9.388638139887876,9.403282607511223,9.410474855609982],\"y\":[1.0147320117519312,1.0269937071730475,1.0433757154501182,1.063780927928314,1.073653578221793,1.091702517054025,1.0995596448746423,1.1146409354737,1.1287091673335619,1.1437519883745357,1.17497373390371,1.1802971672416704,1.1950987903144812,1.2005609047480703,1.216288148136095,1.2431035450595282,1.2457801261639838,1.2544194302547604,1.2613846699498807,1.2805414194306337,1.2927985652148921,1.3023951140430305,1.3114563211293442,1.319147116014764,1.3360923014805366,1.3460931100271747,1.352779865326648,1.358165228453717,1.3806015790552542,1.399933792336034,1.402074449644152,1.4102167287010072,1.4207744724494091,1.433728577108457,1.442447405276118,1.45347817264957,1.4639576715584774,1.47075520359443,1.485247653297826,1.4875986275241166,1.4938067948331175,1.51562686883684,1.5305228944787697,1.541031055647285,1.5483881033791418,1.557338988750621,1.5810135231960547,1.5932154888756977,1.60729439546079,1.6095090724439023,1.6112444563155748,1.622174745228667,1.629849716435372,1.6356268954283393,1.64666509471397,1.6574335734144083,1.6798621488939707,1.700389102317743,1.7082837058191718,1.7120138378402965,1.7179110127063542,1.7265396483813042,1.7381084465889303,1.7443397257690372,1.7592317081284157,1.766488988776459,1.7646699932019771,1.7741767230453076,1.775808759913346,1.781304610923966,1.798504343189623,1.8170743933622557,1.8294839948223838,1.8332192383559556,1.8476585686576679,1.8596301369878292,1.8581031379443158,1.8612142116013677,1.8684847684459132,1.8691135361287818,1.8763663615534627,1.8913465012513984,1.897572006980754,1.898937799947887,1.9068206474427718,1.9092613805742655,1.9157979086943464,1.9354346996310188,1.9441009165870866,1.9496582777465414,1.9568730013983813,1.9585128589451382,1.964981985826183,1.9671500026733608,1.9820979093614723,1.9853608209119236,1.9801081880637361,1.9743497800684784,1.9724968751197742,1.9748543546980395,1.982642045141489,1.9837205341812865,1.988225617187377,1.9921585879794028,2.016200906036988,2.0300118992371066,2.038129182960437,2.0350629318477558,2.0201043027649446,2.0104628735977728,2.0041844864780156,1.990972181672733,1.9867693114570786,2.0184594119883896,2.0170391666827854,2.0311581518246773,2.036504043967579,2.037036488325294,2.0221201828143065,2.0466038023053184,2.0451186470739726,2.0403293301023195],\"z\":[1.6639228611418657,1.725554217259628,1.7870479908564498,1.8468060325279743,1.9057842203115927,1.9627122066047342,2.018159935068593,2.073493996969174,2.127745001956845,2.181507977482227,2.2326131895716013,2.283340690260444,2.331890293424038,2.3867232202215884,2.4285817948266235,2.4818658319881974,2.522596521632252,2.5663072053363516,2.611983614001815,2.657798246941545,2.697381843885247,2.730802497734553,2.7855260753925255,2.8143704915484555,2.8549059208457463,2.8951113746840407,2.932858139901672,2.9622392448152395,3.0032489446742603,3.0516776744358243,3.0805235031564946,3.1048707529900788,3.123743587688341,3.1666109396216116,3.207354104202177,3.229457800078672,3.254199202263854,3.2934841842244937,3.32361755194046,3.34023345208472,3.359614242630913,3.3898758267986904,3.4292209432362544,3.449653463273308,3.458736781413281,3.475583171607253,3.5131131763825114,3.5309068362648692,3.547098488773633,3.5628873406050947,3.5730192782716315,3.5966095453467704,3.6156537169339793,3.619816612315221,3.6294028608263447,3.6402604269437195,3.6627942015526322,3.67713299886695,3.682974859727326,3.6865804346903714,3.690379645077905,3.695784552651619,3.7005970449312326,3.7027874270608607,3.7047005718708403,3.7048325227452277,3.70424611201189,3.701447388876691,3.6975782957239947,3.6945262274855617,3.687899852702598,3.677100829902906,3.66379489772582,3.6538367219598147,3.63845211964233,3.6134613608285866,3.6021594436531847,3.5947745307546137,3.5707231552059504,3.5444978599354475,3.5253744602742216,3.494067513366511,3.4725182833534474,3.4359758824817237,3.4076857352309293,3.379552143580708,3.3570824321926214,3.296424592088339,3.2495642520731667,3.205455927910375,3.1651734249903813,3.1177152494671496,3.059339787673943,3.0190274165956708,2.926844584406025,2.9000016077122357,2.83239539738547,2.756802516921941,2.707577555708259,2.611126898613333,2.526038556137021,2.469379726078185,2.4043786321303533,2.2943110183537687,2.193135436081181,2.1395551283353114,2.049035006187671,1.9322420052476148,1.8127888720461462,1.6880147217000927,1.6437959095589934,1.4838673911085565,1.3624088166694202,1.2305030172693292,1.1340624927820124,0.9795922073596033,0.8469739322559444,0.7314658364350966,0.5632164790038783,0.4163493597504072,0.24548661325614393,0.15200923959635174],\"type\":\"scatter3d\"},{\"marker\":{\"color\":\"green\",\"size\":2},\"mode\":\"markers\",\"name\":\"Predicted Values (Extra Trees)\",\"opacity\":0.7,\"x\":[4.077225887999991,4.152487743349997,4.2292897390000075,4.299769205000005,4.377482691819993,4.450242414999995,4.522781275,4.596782837259993,4.668416885999992,4.739451772999996,4.81009495909999,4.8790441209999935,4.951046684999995,5.018960044999987,5.0886939499999935,5.159398941999997,5.226328406999994,5.292807799000001,5.36038729799999,5.42661030800001,5.490777245999994,5.557717907999986,5.623052125999999,5.68627756199999,5.749634521600001,5.810937803999995,5.877532087000003,5.940678785999998,6.001194701999995,6.0602589059999925,6.122056883000016,6.180852644000005,6.238652398999992,6.30166256767,6.357648731999996,6.417451680999992,6.471872609999994,6.530785355000001,6.586651419999995,6.642823650000001,6.696975017999993,6.750471557999994,6.806713849609999,6.862132671999998,6.911971083000015,6.96446498900001,7.018384200179998,7.069067719,7.118420007000014,7.170349812999999,7.220859924000013,7.268631473000017,7.318834676000012,7.365220683999988,7.414823969000015,7.471474095990012,7.528156961260012,7.555323827000015,7.601595568999991,7.646737571000009,7.68990541100001,7.733300359000017,7.7799407659999895,7.81694635246,7.863732127000013,7.905510084999983,7.948107054000014,7.988384509999983,8.028070638000004,8.066395631999994,8.104238095189993,8.14509754899999,8.177606105759992,8.224172958459999,8.269287725829999,8.296613363000004,8.333329253999985,8.36899059999999,8.403264523999985,8.438932011000013,8.470539411000003,8.506441907999976,8.538169593000013,8.572290791,8.603368849000017,8.635089398999988,8.664698709000016,8.690612206220012,8.728171867940008,8.754801283000004,8.784672365000004,8.812757379000002,8.839482458000013,8.867064327999994,8.893301328999998,8.92094982799998,8.946774477999982,8.971048826000013,8.99559057500002,9.018028552830003,9.044037335999981,9.066663479,9.087428372999991,9.10843420200001,9.131122348999982,9.151491776000025,9.17232456099999,9.19095359918,9.214840422409994,9.232658941999976,9.24984056248,9.266622761999999,9.284646597300014,9.299926955000016,9.317187655999989,9.331830682000009,9.345832774999987,9.361345205000013,9.376294540000002,9.388882792999995,9.403485201999986,9.414119170000019],\"y\":[1.0150111920000018,1.0294737015999997,1.0445694099999983,1.058269230999998,1.0746394795800018,1.087518259999999,1.1016183859999986,1.1169066515400021,1.1299270810000015,1.1437348639999985,1.15723327188,1.1708688679999997,1.1848647489999993,1.1980657680000026,1.2116206660000015,1.2253643250000008,1.2383740949999982,1.2512963799999997,1.264432502999998,1.2773049529999987,1.2897777419999985,1.3027896880000014,1.315489373999998,1.327779153999999,1.3338546082000002,1.3520106499999986,1.3649552669999994,1.3772297419999981,1.394645499830001,1.400473762999998,1.4124860729999975,1.4239148110000022,1.4351499450000031,1.4471172065700006,1.4582804890000025,1.469905004999999,1.4804833620000009,1.4919348399999992,1.5027941030000016,1.5137128780000038,1.5242388380000016,1.5346375120000002,1.5533393298800005,1.556342233,1.566029839,1.576233621,1.5720712220500002,1.596566332,1.606159445000002,1.616253577,1.626071747999998,1.6353575960000029,1.6451161100000027,1.6541326370000027,1.6637745390000014,1.6768349849400008,1.6922335656200003,1.6910849440000006,1.7000792599999976,1.708853976,1.7172449539999972,1.7256800780000006,1.734746054999998,1.737127088629998,1.7510334449999987,1.7591542579999975,1.7674342699999976,1.7752634139999968,1.782977616000001,1.7904272400000039,1.7963052838100035,1.8057253430000033,1.8189363181700011,1.831164797490001,1.828311668249999,1.835177033999998,1.8423138800000038,1.8492457440000007,1.8559079190000027,1.8628409769999983,1.8689848330000034,1.875963571,1.8821308079999997,1.8887632969999977,1.8948042600000006,1.9009701100000023,1.9067255770000024,1.9101488271600013,1.9123093853399993,1.9242397429999962,1.9300460929999965,1.935505266999997,1.9407000960000003,1.946061469,1.951161425000002,1.9565357490000022,1.9615555519999952,1.9662740079999994,1.9710444400000051,1.9818505568699987,1.9804615369999972,1.9848596129999982,1.988895899999997,1.9929790189999976,1.997389147999997,2.001348564000003,2.005398047,1.976294649079999,1.9753912665799986,2.0171258629999973,2.016918711760002,2.023727761000003,1.986373437940002,2.0302014400000044,2.0335565800000026,2.036402895999999,2.0391246270000045,2.042139937999998,2.045045794999995,2.0474927029999974,2.0503311239999977,2.052398157999997],\"z\":[1.6633153630000006,1.7259938344499985,1.7875284069999973,1.8471585249999982,1.9062455795800006,1.9626210950000023,2.0180114940000045,2.073145830099995,2.1286852769999967,2.1804795589999975,2.231165865210001,2.283815006999995,2.332123005,2.3805431579999965,2.428761291999996,2.477040442000003,2.5226722600000056,2.5673453759999973,2.6105292039999948,2.6543535079999923,2.6963135949999977,2.7380622969999995,2.777782304000001,2.818391955000002,2.8563872255999985,2.8948480599999966,2.9311954119999992,2.967716724000007,3.00333975455,3.0378670940000005,3.072537352999996,3.104925482999994,3.1388458229999974,3.17000048363,3.200059008,3.2314166300000067,3.2600666800000018,3.287833438999997,3.3141885219999963,3.3415168839999922,3.368581756999999,3.3945736800000037,3.415742721910002,3.4389833230000018,3.464054372000004,3.482772817000006,3.5054389799200014,3.5251816570000023,3.544421355999992,3.5628246730000033,3.579710712000004,3.596980396999998,3.6100847079999934,3.625732921999998,3.6378645440000055,3.6517746906400044,3.6655156641800057,3.671583395000008,3.680118559999998,3.6886807259999923,3.694296805000003,3.6994120549999976,3.7028746940000015,3.7060315709300027,3.7094348940000064,3.708345198000002,3.707129404,3.702277432000001,3.701129370999995,3.6955073930000086,3.6868548462700064,3.677487810000002,3.668252132130001,3.654391145170004,3.6388172304800026,3.629255005000003,3.611871403000005,3.590918656000001,3.5715190520000006,3.548719059000005,3.5217581989999953,3.499418535000002,3.470418585000003,3.4382692870000047,3.4067785980000003,3.369853718000001,3.3332698830000083,3.298712651880005,3.2460662999100003,3.207548509999999,3.158680081,3.1111365760000007,3.0610814240000037,3.0030215429999942,2.948622689999999,2.8872007479999984,2.824271758999999,2.757419348000005,2.6880610709999946,2.619797207129996,2.5395462349999955,2.4609781659999954,2.382053479000005,2.2975499460000033,2.2068710670000025,2.1152964030000017,2.0185957189999972,1.9292522148999993,1.804251691089998,1.7097871039999963,1.5948332210199996,1.4863253789999962,1.3562568071100005,1.2438680789999979,1.1158699420000024,0.9852166360000005,0.8496327769999978,0.7084426429999993,0.5636529519999987,0.4145965869999991,0.2600834509999999,0.1004352480000001],\"type\":\"scatter3d\"},{\"line\":{\"color\":\"black\",\"width\":1},\"mode\":\"lines\",\"name\":\"Court Boundaries\",\"x\":[0,13.4,13.4,0,0],\"y\":[0,0,5.18,5.18,0],\"z\":[0,0,0,0,0],\"type\":\"scatter3d\"},{\"line\":{\"color\":\"black\",\"width\":1},\"mode\":\"lines\",\"name\":\"Center Line\",\"x\":[0,4.68,4.68,0,0],\"y\":[2.59,2.59,2.59,2.59,2.59],\"z\":[0,0,0,0,0],\"type\":\"scatter3d\"},{\"line\":{\"color\":\"black\",\"width\":1},\"mode\":\"lines\",\"name\":\"Center Line\",\"x\":[8.72,13.4],\"y\":[2.59,2.59],\"z\":[0,0,0,0,0],\"type\":\"scatter3d\"},{\"line\":{\"color\":\"black\",\"width\":1},\"mode\":\"lines\",\"name\":\"Short Service Lines\",\"x\":[4.72,4.72],\"y\":[0,5.18],\"z\":[0,0],\"type\":\"scatter3d\"},{\"line\":{\"color\":\"black\",\"width\":1},\"mode\":\"lines\",\"name\":\"Short Service Lines\",\"x\":[8.680000000000001,8.680000000000001],\"y\":[0,5.18],\"z\":[0,0],\"type\":\"scatter3d\"},{\"line\":{\"color\":\"red\",\"width\":1},\"mode\":\"lines\",\"name\":\"Net\",\"x\":[6.7,6.7],\"y\":[0,5.18],\"z\":[1.55,1.55],\"type\":\"scatter3d\"},{\"line\":{\"color\":\"green\",\"width\":5},\"marker\":{\"color\":\"cyan\",\"line\":{\"color\":\"black\",\"width\":4},\"size\":10,\"symbol\":\"cross\"},\"mode\":\"lines+markers\",\"name\":\"Predicted Position\",\"opacity\":1,\"x\":[9.412297012805],\"y\":[2.046363744051158],\"z\":[0.12622224379817593],\"type\":\"scatter3d\"},{\"line\":{\"color\":\"green\",\"width\":5},\"marker\":{\"color\":\"cyan\",\"line\":{\"color\":\"black\",\"width\":4},\"size\":6,\"symbol\":\"diamond\"},\"mode\":\"lines+markers\",\"name\":\"Average Highest XYZ-point\",\"opacity\":1,\"x\":[7.889822061383871],\"y\":[1.758761216888229],\"z\":[3.7071337083726172],\"type\":\"scatter3d\"},{\"marker\":{\"color\":\"blue\",\"size\":10},\"mode\":\"markers\",\"name\":\"Initial Starting Point (Hit)\",\"opacity\":1,\"x\":[9.644613689084807],\"y\":[2.630724523049023],\"z\":[1.115],\"type\":\"scatter3d\"},{\"marker\":{\"color\":\"blue\",\"size\":10},\"mode\":\"markers\",\"name\":\"Initial Starting Point (Hit)\",\"opacity\":1,\"x\":[9.946932492656883],\"y\":[1.4628170581727558],\"z\":[1.115],\"type\":\"scatter3d\"},{\"marker\":{\"color\":\"blue\",\"size\":10},\"mode\":\"markers\",\"name\":\"Initial Starting Point (Hit)\",\"opacity\":1,\"x\":[11.038622230757376],\"y\":[4.294540234518766],\"z\":[1.115],\"type\":\"scatter3d\"},{\"marker\":{\"color\":\"green\",\"size\":10},\"mode\":\"markers\",\"name\":\"Point to Hit the Ball\",\"opacity\":1,\"x\":[9.616297012805001],\"y\":[2.276363744051158],\"z\":[1.115],\"type\":\"scatter3d\"}],                        {\"template\":{\"data\":{\"histogram2dcontour\":[{\"type\":\"histogram2dcontour\",\"colorbar\":{\"outlinewidth\":0,\"ticks\":\"\"},\"colorscale\":[[0.0,\"#0d0887\"],[0.1111111111111111,\"#46039f\"],[0.2222222222222222,\"#7201a8\"],[0.3333333333333333,\"#9c179e\"],[0.4444444444444444,\"#bd3786\"],[0.5555555555555556,\"#d8576b\"],[0.6666666666666666,\"#ed7953\"],[0.7777777777777778,\"#fb9f3a\"],[0.8888888888888888,\"#fdca26\"],[1.0,\"#f0f921\"]]}],\"choropleth\":[{\"type\":\"choropleth\",\"colorbar\":{\"outlinewidth\":0,\"ticks\":\"\"}}],\"histogram2d\":[{\"type\":\"histogram2d\",\"colorbar\":{\"outlinewidth\":0,\"ticks\":\"\"},\"colorscale\":[[0.0,\"#0d0887\"],[0.1111111111111111,\"#46039f\"],[0.2222222222222222,\"#7201a8\"],[0.3333333333333333,\"#9c179e\"],[0.4444444444444444,\"#bd3786\"],[0.5555555555555556,\"#d8576b\"],[0.6666666666666666,\"#ed7953\"],[0.7777777777777778,\"#fb9f3a\"],[0.8888888888888888,\"#fdca26\"],[1.0,\"#f0f921\"]]}],\"heatmap\":[{\"type\":\"heatmap\",\"colorbar\":{\"outlinewidth\":0,\"ticks\":\"\"},\"colorscale\":[[0.0,\"#0d0887\"],[0.1111111111111111,\"#46039f\"],[0.2222222222222222,\"#7201a8\"],[0.3333333333333333,\"#9c179e\"],[0.4444444444444444,\"#bd3786\"],[0.5555555555555556,\"#d8576b\"],[0.6666666666666666,\"#ed7953\"],[0.7777777777777778,\"#fb9f3a\"],[0.8888888888888888,\"#fdca26\"],[1.0,\"#f0f921\"]]}],\"heatmapgl\":[{\"type\":\"heatmapgl\",\"colorbar\":{\"outlinewidth\":0,\"ticks\":\"\"},\"colorscale\":[[0.0,\"#0d0887\"],[0.1111111111111111,\"#46039f\"],[0.2222222222222222,\"#7201a8\"],[0.3333333333333333,\"#9c179e\"],[0.4444444444444444,\"#bd3786\"],[0.5555555555555556,\"#d8576b\"],[0.6666666666666666,\"#ed7953\"],[0.7777777777777778,\"#fb9f3a\"],[0.8888888888888888,\"#fdca26\"],[1.0,\"#f0f921\"]]}],\"contourcarpet\":[{\"type\":\"contourcarpet\",\"colorbar\":{\"outlinewidth\":0,\"ticks\":\"\"}}],\"contour\":[{\"type\":\"contour\",\"colorbar\":{\"outlinewidth\":0,\"ticks\":\"\"},\"colorscale\":[[0.0,\"#0d0887\"],[0.1111111111111111,\"#46039f\"],[0.2222222222222222,\"#7201a8\"],[0.3333333333333333,\"#9c179e\"],[0.4444444444444444,\"#bd3786\"],[0.5555555555555556,\"#d8576b\"],[0.6666666666666666,\"#ed7953\"],[0.7777777777777778,\"#fb9f3a\"],[0.8888888888888888,\"#fdca26\"],[1.0,\"#f0f921\"]]}],\"surface\":[{\"type\":\"surface\",\"colorbar\":{\"outlinewidth\":0,\"ticks\":\"\"},\"colorscale\":[[0.0,\"#0d0887\"],[0.1111111111111111,\"#46039f\"],[0.2222222222222222,\"#7201a8\"],[0.3333333333333333,\"#9c179e\"],[0.4444444444444444,\"#bd3786\"],[0.5555555555555556,\"#d8576b\"],[0.6666666666666666,\"#ed7953\"],[0.7777777777777778,\"#fb9f3a\"],[0.8888888888888888,\"#fdca26\"],[1.0,\"#f0f921\"]]}],\"mesh3d\":[{\"type\":\"mesh3d\",\"colorbar\":{\"outlinewidth\":0,\"ticks\":\"\"}}],\"scatter\":[{\"fillpattern\":{\"fillmode\":\"overlay\",\"size\":10,\"solidity\":0.2},\"type\":\"scatter\"}],\"parcoords\":[{\"type\":\"parcoords\",\"line\":{\"colorbar\":{\"outlinewidth\":0,\"ticks\":\"\"}}}],\"scatterpolargl\":[{\"type\":\"scatterpolargl\",\"marker\":{\"colorbar\":{\"outlinewidth\":0,\"ticks\":\"\"}}}],\"bar\":[{\"error_x\":{\"color\":\"#2a3f5f\"},\"error_y\":{\"color\":\"#2a3f5f\"},\"marker\":{\"line\":{\"color\":\"#E5ECF6\",\"width\":0.5},\"pattern\":{\"fillmode\":\"overlay\",\"size\":10,\"solidity\":0.2}},\"type\":\"bar\"}],\"scattergeo\":[{\"type\":\"scattergeo\",\"marker\":{\"colorbar\":{\"outlinewidth\":0,\"ticks\":\"\"}}}],\"scatterpolar\":[{\"type\":\"scatterpolar\",\"marker\":{\"colorbar\":{\"outlinewidth\":0,\"ticks\":\"\"}}}],\"histogram\":[{\"marker\":{\"pattern\":{\"fillmode\":\"overlay\",\"size\":10,\"solidity\":0.2}},\"type\":\"histogram\"}],\"scattergl\":[{\"type\":\"scattergl\",\"marker\":{\"colorbar\":{\"outlinewidth\":0,\"ticks\":\"\"}}}],\"scatter3d\":[{\"type\":\"scatter3d\",\"line\":{\"colorbar\":{\"outlinewidth\":0,\"ticks\":\"\"}},\"marker\":{\"colorbar\":{\"outlinewidth\":0,\"ticks\":\"\"}}}],\"scattermapbox\":[{\"type\":\"scattermapbox\",\"marker\":{\"colorbar\":{\"outlinewidth\":0,\"ticks\":\"\"}}}],\"scatterternary\":[{\"type\":\"scatterternary\",\"marker\":{\"colorbar\":{\"outlinewidth\":0,\"ticks\":\"\"}}}],\"scattercarpet\":[{\"type\":\"scattercarpet\",\"marker\":{\"colorbar\":{\"outlinewidth\":0,\"ticks\":\"\"}}}],\"carpet\":[{\"aaxis\":{\"endlinecolor\":\"#2a3f5f\",\"gridcolor\":\"white\",\"linecolor\":\"white\",\"minorgridcolor\":\"white\",\"startlinecolor\":\"#2a3f5f\"},\"baxis\":{\"endlinecolor\":\"#2a3f5f\",\"gridcolor\":\"white\",\"linecolor\":\"white\",\"minorgridcolor\":\"white\",\"startlinecolor\":\"#2a3f5f\"},\"type\":\"carpet\"}],\"table\":[{\"cells\":{\"fill\":{\"color\":\"#EBF0F8\"},\"line\":{\"color\":\"white\"}},\"header\":{\"fill\":{\"color\":\"#C8D4E3\"},\"line\":{\"color\":\"white\"}},\"type\":\"table\"}],\"barpolar\":[{\"marker\":{\"line\":{\"color\":\"#E5ECF6\",\"width\":0.5},\"pattern\":{\"fillmode\":\"overlay\",\"size\":10,\"solidity\":0.2}},\"type\":\"barpolar\"}],\"pie\":[{\"automargin\":true,\"type\":\"pie\"}]},\"layout\":{\"autotypenumbers\":\"strict\",\"colorway\":[\"#636efa\",\"#EF553B\",\"#00cc96\",\"#ab63fa\",\"#FFA15A\",\"#19d3f3\",\"#FF6692\",\"#B6E880\",\"#FF97FF\",\"#FECB52\"],\"font\":{\"color\":\"#2a3f5f\"},\"hovermode\":\"closest\",\"hoverlabel\":{\"align\":\"left\"},\"paper_bgcolor\":\"white\",\"plot_bgcolor\":\"#E5ECF6\",\"polar\":{\"bgcolor\":\"#E5ECF6\",\"angularaxis\":{\"gridcolor\":\"white\",\"linecolor\":\"white\",\"ticks\":\"\"},\"radialaxis\":{\"gridcolor\":\"white\",\"linecolor\":\"white\",\"ticks\":\"\"}},\"ternary\":{\"bgcolor\":\"#E5ECF6\",\"aaxis\":{\"gridcolor\":\"white\",\"linecolor\":\"white\",\"ticks\":\"\"},\"baxis\":{\"gridcolor\":\"white\",\"linecolor\":\"white\",\"ticks\":\"\"},\"caxis\":{\"gridcolor\":\"white\",\"linecolor\":\"white\",\"ticks\":\"\"}},\"coloraxis\":{\"colorbar\":{\"outlinewidth\":0,\"ticks\":\"\"}},\"colorscale\":{\"sequential\":[[0.0,\"#0d0887\"],[0.1111111111111111,\"#46039f\"],[0.2222222222222222,\"#7201a8\"],[0.3333333333333333,\"#9c179e\"],[0.4444444444444444,\"#bd3786\"],[0.5555555555555556,\"#d8576b\"],[0.6666666666666666,\"#ed7953\"],[0.7777777777777778,\"#fb9f3a\"],[0.8888888888888888,\"#fdca26\"],[1.0,\"#f0f921\"]],\"sequentialminus\":[[0.0,\"#0d0887\"],[0.1111111111111111,\"#46039f\"],[0.2222222222222222,\"#7201a8\"],[0.3333333333333333,\"#9c179e\"],[0.4444444444444444,\"#bd3786\"],[0.5555555555555556,\"#d8576b\"],[0.6666666666666666,\"#ed7953\"],[0.7777777777777778,\"#fb9f3a\"],[0.8888888888888888,\"#fdca26\"],[1.0,\"#f0f921\"]],\"diverging\":[[0,\"#8e0152\"],[0.1,\"#c51b7d\"],[0.2,\"#de77ae\"],[0.3,\"#f1b6da\"],[0.4,\"#fde0ef\"],[0.5,\"#f7f7f7\"],[0.6,\"#e6f5d0\"],[0.7,\"#b8e186\"],[0.8,\"#7fbc41\"],[0.9,\"#4d9221\"],[1,\"#276419\"]]},\"xaxis\":{\"gridcolor\":\"white\",\"linecolor\":\"white\",\"ticks\":\"\",\"title\":{\"standoff\":15},\"zerolinecolor\":\"white\",\"automargin\":true,\"zerolinewidth\":2},\"yaxis\":{\"gridcolor\":\"white\",\"linecolor\":\"white\",\"ticks\":\"\",\"title\":{\"standoff\":15},\"zerolinecolor\":\"white\",\"automargin\":true,\"zerolinewidth\":2},\"scene\":{\"xaxis\":{\"backgroundcolor\":\"#E5ECF6\",\"gridcolor\":\"white\",\"linecolor\":\"white\",\"showbackground\":true,\"ticks\":\"\",\"zerolinecolor\":\"white\",\"gridwidth\":2},\"yaxis\":{\"backgroundcolor\":\"#E5ECF6\",\"gridcolor\":\"white\",\"linecolor\":\"white\",\"showbackground\":true,\"ticks\":\"\",\"zerolinecolor\":\"white\",\"gridwidth\":2},\"zaxis\":{\"backgroundcolor\":\"#E5ECF6\",\"gridcolor\":\"white\",\"linecolor\":\"white\",\"showbackground\":true,\"ticks\":\"\",\"zerolinecolor\":\"white\",\"gridwidth\":2}},\"shapedefaults\":{\"line\":{\"color\":\"#2a3f5f\"}},\"annotationdefaults\":{\"arrowcolor\":\"#2a3f5f\",\"arrowhead\":0,\"arrowwidth\":1},\"geo\":{\"bgcolor\":\"white\",\"landcolor\":\"#E5ECF6\",\"subunitcolor\":\"white\",\"showland\":true,\"showlakes\":true,\"lakecolor\":\"white\"},\"title\":{\"x\":0.05},\"mapbox\":{\"style\":\"light\"}}},\"scene\":{\"xaxis\":{\"title\":{\"text\":\"X-coordinate\"},\"range\":[-4,18]},\"yaxis\":{\"title\":{\"text\":\"Y-coordinate\"},\"range\":[-2,7]},\"zaxis\":{\"title\":{\"text\":\"Z-coordinate\"},\"range\":[0,12]},\"aspectratio\":{\"x\":1,\"y\":1,\"z\":1},\"aspectmode\":\"manual\"},\"title\":{\"text\":\"Shuttlecock Trajectory Estimation\"}},                        {\"responsive\": true}                    ).then(function(){\n",
       "                            \n",
       "var gd = document.getElementById('3e854a71-9730-4959-8a97-be27c79a07c7');\n",
       "var x = new MutationObserver(function (mutations, observer) {{\n",
       "        var display = window.getComputedStyle(gd).display;\n",
       "        if (!display || display === 'none') {{\n",
       "            console.log([gd, 'removed!']);\n",
       "            Plotly.purge(gd);\n",
       "            observer.disconnect();\n",
       "        }}\n",
       "}});\n",
       "\n",
       "// Listen for the removal of the full notebook cells\n",
       "var notebookContainer = gd.closest('#notebook-container');\n",
       "if (notebookContainer) {{\n",
       "    x.observe(notebookContainer, {childList: true});\n",
       "}}\n",
       "\n",
       "// Listen for the clearing of the current output cell\n",
       "var outputEl = gd.closest('.output');\n",
       "if (outputEl) {{\n",
       "    x.observe(outputEl, {childList: true});\n",
       "}}\n",
       "\n",
       "                        })                };                });            </script>        </div>"
      ]
     },
     "metadata": {},
     "output_type": "display_data"
    }
   ],
   "source": [
    "# import plotly.graph_objects as go\n",
    "# Define court dimensions\n",
    "court_length_x = 13.4\n",
    "court_length_y = 5.18\n",
    "court_height_skybox = 10\n",
    "court_height_net = 1.55\n",
    "court_length_centerline = 4.68\n",
    "\n",
    "def is_point_within_court(x, y, z, court_length_x, court_length_y, court_height_skybox):\n",
    "    \"\"\"\n",
    "    Check if a point is within the court boundaries.\n",
    "    \n",
    "    Args:\n",
    "        x (float): X-coordinate of the point\n",
    "        y (float): Y-coordinate of the point\n",
    "        z (float): Z-coordinate of the point\n",
    "        court_length_x (float): Length of the court along the X-axis\n",
    "        court_length_y (float): Length of the court along the Y-axis\n",
    "        court_height_skybox (float): Height of the court's skybox\n",
    "    \n",
    "    Returns:\n",
    "        bool: True if the point is within the court boundaries, False otherwise\n",
    "    \"\"\"\n",
    "    return 0 <= x <= court_length_x and 0 <= y <= court_length_y and 0 <= z <= court_height_skybox\n",
    "\n",
    "\n",
    "# Create the 3D scatter plot\n",
    "fig = go.Figure(data=[\n",
    "    go.Scatter3d(\n",
    "        x=y_actual_coords['SHUTTLECOCK POSITIION IN AIR(X) metres'],\n",
    "        y=y_actual_coords['SHUTTLECOCK POSITIION IN AIR(Y) metres'],\n",
    "        z=y_actual_coords['SHUTTLECOCK POSITIION IN AIR(Z) metres'],\n",
    "        mode='markers',\n",
    "        name='True Values',\n",
    "        marker=dict(color='blue', size=2),\n",
    "        opacity=0.7\n",
    "    ),\n",
    "    go.Scatter3d(\n",
    "        x=predicted_trajectory_points_RT[:, 0],\n",
    "        y=predicted_trajectory_points_RT[:, 1],\n",
    "        z=predicted_trajectory_points_RT[:, 2],\n",
    "        mode='markers',\n",
    "        name='Predicted Values (Random Forest)',\n",
    "        marker=dict(color='red', size=2),\n",
    "        opacity=0.7\n",
    "    ),\n",
    "    go.Scatter3d(\n",
    "        x=predicted_trajectory_points_ET[:, 0],\n",
    "        y=predicted_trajectory_points_ET[:, 1],\n",
    "        z=predicted_trajectory_points_ET[:, 2],\n",
    "        mode='markers',\n",
    "        name='Predicted Values (Extra Trees)',\n",
    "        marker=dict(color='green', size=2),\n",
    "        opacity=0.7\n",
    "    ),\n",
    "])\n",
    "\n",
    "# Set plot title and axis labels\n",
    "fig.update_layout(\n",
    "    title='Shuttlecock Trajectory Estimation',\n",
    "    scene=dict(\n",
    "        xaxis_title='X-coordinate',\n",
    "        yaxis_title='Y-coordinate',\n",
    "        zaxis_title='Z-coordinate',\n",
    "        xaxis=dict(range=[-4, 18]),  # Set the range for X-axis\n",
    "        yaxis=dict(range=[-2, 7]),   # Set the range for Y-axis\n",
    "        zaxis=dict(range=[0, 12]),  # Set the range for Z-axis\n",
    "        aspectmode='manual',         # Set the aspect mode to manual for custom scaling\n",
    "        aspectratio=dict(x=1, y=1, z=1)  # Set the aspect ratio for equal scaling of axes\n",
    "    )\n",
    ")\n",
    "\n",
    "# Add court lines to the plot\n",
    "fig.add_trace(go.Scatter3d(\n",
    "    x=[0, court_length_x, court_length_x, 0, 0],\n",
    "    y=[0, 0, court_length_y, court_length_y, 0],\n",
    "    z=[0, 0, 0, 0, 0],\n",
    "    mode='lines',\n",
    "    name='Court Boundaries',\n",
    "    line=dict(color='black', width=1)\n",
    "))\n",
    "\n",
    "fig.add_trace(go.Scatter3d(\n",
    "    x=[0, court_length_centerline, court_length_centerline, 0, 0],\n",
    "    y=[court_length_y / 2, court_length_y / 2, court_length_y / 2, court_length_y / 2, court_length_y / 2],\n",
    "    z=[0, 0, 0, 0, 0],\n",
    "    mode='lines',\n",
    "    name='Center Line',\n",
    "    line=dict(color='black', width=1)\n",
    "))\n",
    "\n",
    "fig.add_trace(go.Scatter3d(\n",
    "    x=[court_length_x - court_length_centerline, court_length_x],\n",
    "    y=[court_length_y / 2, court_length_y / 2],\n",
    "    z=[0, 0, 0, 0, 0],\n",
    "    mode='lines',\n",
    "    name='Center Line',\n",
    "    line=dict(color='black', width=1)\n",
    "))\n",
    "\n",
    "fig.add_trace(go.Scatter3d(\n",
    "    x=[court_length_centerline + 0.04, court_length_centerline + 0.04],\n",
    "    y=[0, court_length_y],\n",
    "    z=[0, 0],\n",
    "    mode='lines',\n",
    "    name='Short Service Lines',\n",
    "    line=dict(color='black', width=1)\n",
    "))\n",
    "\n",
    "fig.add_trace(go.Scatter3d(\n",
    "    x=[court_length_x - court_length_centerline - 0.04, court_length_x - court_length_centerline - 0.04],\n",
    "    y=[0, court_length_y],\n",
    "    z=[0, 0],\n",
    "    mode='lines',\n",
    "    name='Short Service Lines',\n",
    "    line=dict(color='black', width=1)\n",
    "))\n",
    "\n",
    "fig.add_trace(go.Scatter3d(\n",
    "    x=[court_length_x / 2, court_length_x / 2],\n",
    "    y=[0, court_length_y],\n",
    "    z=[court_height_net, court_height_net],\n",
    "    mode='lines',\n",
    "    name='Net',\n",
    "    line=dict(color='red', width=1)\n",
    "))\n",
    "\n",
    "# Initialize variables\n",
    "all_within_court_RT = True\n",
    "all_within_court_ET = True\n",
    "highest_xyz_points_RT = []\n",
    "highest_xyz_points_ET = []\n",
    "highest_z_index_RT = np.argmax(predicted_trajectory_points_RT[:, 2])\n",
    "highest_z_index_ET = np.argmax(predicted_trajectory_points_ET[:, 2])\n",
    "\n",
    "# Check if all predicted values for the RT group are within the court\n",
    "for point in predicted_trajectory_points_RT:\n",
    "    x, y, z = point\n",
    "    if not is_point_within_court(x, y, z, court_length_x, court_length_y, court_height_skybox):\n",
    "        all_within_court_RT = False\n",
    "        break\n",
    "\n",
    "# Check if all predicted values for the ET group are within the court\n",
    "for point in predicted_trajectory_points_ET:\n",
    "    x, y, z = point\n",
    "    if not is_point_within_court(x, y, z, court_length_x, court_length_y, court_height_skybox):\n",
    "        all_within_court_ET = False\n",
    "        break\n",
    "\n",
    "# Retrieve final XYZ for RT group if all predictions are within the court\n",
    "if all_within_court_RT:\n",
    "    highest_xyz_points_RT = predicted_trajectory_points_RT[-1]\n",
    "    highest_xyz_point_RT = predicted_trajectory_points_RT[highest_z_index_RT]\n",
    "\n",
    "# Retrieve final XYZ for ET group if all predictions are within the court\n",
    "if all_within_court_ET:\n",
    "    highest_xyz_points_ET = predicted_trajectory_points_ET[-1]\n",
    "    highest_xyz_point_ET = predicted_trajectory_points_ET[highest_z_index_ET]\n",
    "\n",
    "# Average out the predicted XYZ points\n",
    "average_xyz = np.mean([highest_xyz_points_RT, highest_xyz_points_ET], axis=0)\n",
    "# Average out the highest XYZ points\n",
    "average_highest_xyz = np.mean([highest_xyz_point_RT, highest_xyz_point_ET], axis=0)\n",
    "\n",
    "# Print the count\n",
    "print(\"Is predicted Regression Tree (RT) within court: \", all_within_court_RT)\n",
    "print(\"Is predicted Extra Tree (ET) within court: \", all_within_court_ET)\n",
    "# Print the average XYZ values\n",
    "print(\"Average XYZ of Estimated Shuttlecock Position:\", average_xyz)\n",
    "\n",
    "# Add the average predicted X, Y, and Z points to the graph\n",
    "fig.add_trace(go.Scatter3d(\n",
    "    x=[average_xyz[0]],\n",
    "    y=[average_xyz[1]],\n",
    "    z=[average_xyz[2]],\n",
    "    mode='lines+markers',\n",
    "    name='Predicted Position',\n",
    "    line=dict(color=\"green\", width=5),\n",
    "    marker=dict(symbol=\"cross\", size=10, color=\"cyan\", line=dict(color=\"black\", width=4)),\n",
    "    opacity=1\n",
    "))\n",
    "\n",
    "# Add the average highest X, Y, and Z points to the graph\n",
    "fig.add_trace(go.Scatter3d(\n",
    "    x=[average_highest_xyz[0]],\n",
    "    y=[average_highest_xyz[1]],\n",
    "    z=[average_highest_xyz[2]],\n",
    "    mode='lines+markers',\n",
    "    name='Average Highest XYZ-point',\n",
    "    line=dict(color=\"green\", width=5),\n",
    "    marker=dict(symbol=\"diamond\", size=6, color=\"cyan\", line=dict(color=\"black\", width=4)),\n",
    "    opacity=1\n",
    "))\n",
    "\n",
    "# Calculate the height of the badminton racket from the ground\n",
    "badminton_height = (120 / 100) - (0.17/2)  # -> 0.17/2 assuming we want to hit it somewhere in the middle of the top quarter\n",
    "\n",
    "# Calculate the length and width of the robot\n",
    "robot_length = 20.4 / 100  # Convert length from cm to meters\n",
    "robot_width = 23 / 100  # Convert width from cm to meters\n",
    "\n",
    "# Define the range for the initial starting position\n",
    "x_range = [0, 4.72]\n",
    "y_range = [0, 5.18]\n",
    "\n",
    "# Define number of random positions to test\n",
    "no_of_random_pos = 3\n",
    "\n",
    "for i in range(no_of_random_pos):\n",
    "    # Generate random initial starting position within the specified range\n",
    "    random_initial_x = random.uniform(x_range[0], x_range[1])\n",
    "    random_initial_y = random.uniform(y_range[0], y_range[1])\n",
    "\n",
    "    # Calculate the position where the dummy robot should move to\n",
    "    robot_x = court_length_x - average_xyz[0] - robot_length - random_initial_x\n",
    "    robot_y = court_length_y - average_xyz[1] - robot_width - random_initial_y\n",
    "\n",
    "    # Calculate the distance traveled by the robot\n",
    "    robot_distance = np.sqrt(robot_x ** 2 + robot_y ** 2)\n",
    "    # Calculate the time required for the robot to move to the position\n",
    "    robot_movement_time = robot_distance / 3\n",
    "    print(\"Distance: {:.2f} meters in {:.2f} seconds\".format(robot_distance, robot_movement_time))\n",
    "\n",
    "    # Calculate the adjusted z-coordinate for hitting the shuttlecock\n",
    "    robot_z = average_highest_xyz[2] - badminton_height\n",
    "\n",
    "    # Check if the average highest XYZ-point is within the court and the robot can reach the position before the ball drops\n",
    "    if (\n",
    "        average_xyz[0] >= 0\n",
    "        and average_xyz[0] <= court_length_x\n",
    "        and average_xyz[1] >= 0\n",
    "        and average_xyz[1] <= court_length_y\n",
    "        and average_highest_xyz[2] >= 0\n",
    "        and average_highest_xyz[2] <= court_height_skybox\n",
    "        and robot_movement_time <= 1.5\n",
    "        and robot_z >= 0\n",
    "    ):\n",
    "        # Add the initial starting point of the dummy robot to the graph\n",
    "        fig.add_trace(\n",
    "            go.Scatter3d(\n",
    "                x=[court_length_x - random_initial_x],\n",
    "                y=[court_length_y - random_initial_y],\n",
    "                z=[badminton_height],\n",
    "                mode=\"markers\",\n",
    "                name=\"Initial Starting Point (Hit)\",\n",
    "                marker=dict(color=\"blue\", size=10),\n",
    "                opacity=1,\n",
    "            )\n",
    "        )\n",
    "\n",
    "        # Calculate the (x, y) difference\n",
    "        x_difference = robot_x\n",
    "        y_difference = robot_y\n",
    "\n",
    "        print(f\"X difference: {x_difference}\")\n",
    "        print(f\"Y difference: {y_difference}\")\n",
    "        print(f\"Time required: {robot_movement_time} seconds\")\n",
    "        print(\"Able to reach and hit on time\")\n",
    "    else:\n",
    "        # Add the initial starting point of the dummy robot to the graph\n",
    "        fig.add_trace(\n",
    "            go.Scatter3d(\n",
    "                x=[court_length_x - random_initial_x],\n",
    "                y=[court_length_y - random_initial_y],\n",
    "                z=[badminton_height],\n",
    "                mode=\"markers\",\n",
    "                name=\"Initial Starting Point (Miss)\",\n",
    "                marker=dict(color=\"red\", size=10),\n",
    "                opacity=0.3,\n",
    "            )\n",
    "        )\n",
    "\n",
    "        if robot_movement_time > 1.5:\n",
    "            print(f\"X difference: {x_difference}\")\n",
    "            print(f\"Y difference: {y_difference}\")\n",
    "            print(f\"Time required: {robot_movement_time} seconds\")\n",
    "            print(\"Cannot reach on time\")\n",
    "        else:\n",
    "            print(\"Cannot hit\")\n",
    "\n",
    "# Add the point where the dummy robot can hit the ball to the graph\n",
    "fig.add_trace(\n",
    "    go.Scatter3d(\n",
    "        x=[court_length_x - random_initial_x - robot_x],\n",
    "        y=[court_length_y - random_initial_y - robot_y],\n",
    "        z=[badminton_height],\n",
    "        mode=\"markers\",\n",
    "        name=\"Point to Hit the Ball\",\n",
    "        marker=dict(color=\"green\", size=10),\n",
    "        opacity=1,\n",
    "    )\n",
    ")\n",
    "\n",
    "# Show the 3D plot\n",
    "fig.show()\n",
    "\n",
    "# Save the plot as an HTML file\n",
    "offline.plot(fig, filename='interactive_models/robot_pred_normal_reg.html')\n"
   ]
  },
  {
   "cell_type": "markdown",
   "metadata": {},
   "source": [
    "## Determine Point for Countermeasures\n",
    "Based on the project specificiations where \n",
    "- robot + badminton height=120cm\n",
    "- racket length is 68cm\n",
    "- robot lenght is 52cm\n",
    "- assuming top quarter of racket is top 17cm\n",
    "We assume that robot countermeasure will happen at Z = 1.2 - (0.17/2) = 1.115 because we want to hit it somewhere in the middle of the top quarter"
   ]
  },
  {
   "cell_type": "code",
   "execution_count": 45,
   "metadata": {},
   "outputs": [],
   "source": [
    "# # filter out records that are under X = 6.7\n",
    "# filtered_df = predicted_trajectory_points_df[predicted_trajectory_points_df['X'] > 6.7]\n",
    "\n",
    "# # Determine absolute difference between Z and 1.115 for the filtered dataframe\n",
    "# filtered_df['Z_diff'] = abs(filtered_df['Z'] - 1.115)\n",
    "\n",
    "# # Find the row index with the minimum difference\n",
    "# closest_row_index = filtered_df['Z_diff'].idxmin()\n",
    "\n",
    "# # Access the row with the closest Z value in the filtered dataframe\n",
    "# closest_row = filtered_df.loc[closest_row_index]\n",
    "\n",
    "# # Print the row or perform further operations\n",
    "# print(\"Data Point closest to countermeasure\")\n",
    "# print(closest_row)"
   ]
  }
 ],
 "metadata": {
  "kernelspec": {
   "display_name": "Python 3 (ipykernel)",
   "language": "python",
   "name": "python3"
  },
  "language_info": {
   "codemirror_mode": {
    "name": "ipython",
    "version": 3
   },
   "file_extension": ".py",
   "mimetype": "text/x-python",
   "name": "python",
   "nbconvert_exporter": "python",
   "pygments_lexer": "ipython3",
   "version": "3.10.4"
  }
 },
 "nbformat": 4,
 "nbformat_minor": 2
}
